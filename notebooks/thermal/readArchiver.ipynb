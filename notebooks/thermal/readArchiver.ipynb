{
 "cells": [
  {
   "cell_type": "code",
   "execution_count": null,
   "metadata": {},
   "outputs": [],
   "source": [
    "from pfs.lam.archiverConf import getConf, extractData, colors\n",
    "import numpy as np\n",
    "from matplotlib.dates import num2date, date2num\n",
    "import pandas as pd\n",
    "import matplotlib.pyplot as plt"
   ]
  },
  {
   "cell_type": "code",
   "execution_count": null,
   "metadata": {},
   "outputs": [],
   "source": [
    "dbname='archiver'"
   ]
  },
  {
   "cell_type": "code",
   "execution_count": null,
   "metadata": {},
   "outputs": [],
   "source": [
    "start = '2019-07-12 15:34'\n",
    "end = '2019-07-16 10:05'"
   ]
  },
  {
   "cell_type": "code",
   "execution_count": null,
   "metadata": {},
   "outputs": [],
   "source": [
    "d = getConf(start, actors=['xcu_r1', 'rough1'], dbname=dbname)"
   ]
  },
  {
   "cell_type": "code",
   "execution_count": null,
   "metadata": {},
   "outputs": [],
   "source": [
    "tables = ['rough1__pressure', 'xcu_r1__gatevalve', 'xcu_r1__pressure', 'xcu_r1__coolertemps', 'xcu_r1__temps', 'xcu_r1__turbospeed']"
   ]
  },
  {
   "cell_type": "code",
   "execution_count": null,
   "metadata": {},
   "outputs": [],
   "source": [
    "df = extractData(tables, start, end, interpolate='linear',  dbname=dbname)"
   ]
  },
  {
   "cell_type": "code",
   "execution_count": null,
   "metadata": {},
   "outputs": [],
   "source": [
    "df.columns"
   ]
  },
  {
   "cell_type": "code",
   "execution_count": null,
   "metadata": {},
   "outputs": [],
   "source": [
    "df['turbospeed'] = np.array(df.Speed>89900, dtype=np.int32)\n",
    "df['rough'] = df.Pressure_x"
   ]
  },
  {
   "cell_type": "code",
   "execution_count": null,
   "metadata": {},
   "outputs": [],
   "source": [
    "plt"
   ]
  },
  {
   "cell_type": "code",
   "execution_count": null,
   "metadata": {},
   "outputs": [],
   "source": [
    "ax = df.set_index('date')[['rough', 'turbospeed', 'tip']].plot(figsize=(16, 16), grid=True, legend=True, subplots=True)\n",
    "\n",
    "ax[0].plot(df.date, df['Pressure_y'], color='r', label='cryostat')\n",
    "ax[1].plot(df.date, df['position'], color='b', label='gatevalve')\n",
    "\n",
    "ax[0].legend()\n",
    "ax[0].set_yscale('log')\n",
    "ax[0].set_ylabel('Pressure(Torr)')\n",
    "ax[1].set_ylabel('State')\n",
    "ax[1].legend()\n",
    "\n",
    "\n",
    "ax[0].get_figure().subplots_adjust(hspace=0.05)\n",
    "\n",
    "\n",
    "#ax[0].hlines(3.36e-6, xmin=min(ax[0].get_xlim()), xmax=max(ax[0].get_xlim()))"
   ]
  },
  {
   "cell_type": "code",
   "execution_count": null,
   "metadata": {},
   "outputs": [],
   "source": [
    "ax = df.set_index('date')[['turbospeed']].plot()"
   ]
  },
  {
   "cell_type": "code",
   "execution_count": null,
   "metadata": {},
   "outputs": [],
   "source": [
    "ax = df.set_index('date')[['Motor RDA', 'watts']].plot(figsize=(16, 12), grid=True, legend=True, marker='o', subplots=True)\n",
    "\n",
    "ax[0].plot(df.date, df['Collimator Top'],  'go-', label='Collimator Top')\n",
    "ax[0].legend()\n",
    "ax[0].set_ylabel('Temperature (°C)')\n",
    "ax[1].set_ylabel('Power (W)')\n",
    "\n",
    "plt.savefig('/home/pfs/shared/PFS_RDA_holding_current_20190722.png')"
   ]
  }
 ],
 "metadata": {
  "kernelspec": {
   "display_name": "Python 3",
   "language": "python",
   "name": "python3"
  },
  "language_info": {
   "codemirror_mode": {
    "name": "ipython",
    "version": 3
   },
   "file_extension": ".py",
   "mimetype": "text/x-python",
   "name": "python",
   "nbconvert_exporter": "python",
   "pygments_lexer": "ipython3",
   "version": "3.6.8"
  }
 },
 "nbformat": 4,
 "nbformat_minor": 2
}
