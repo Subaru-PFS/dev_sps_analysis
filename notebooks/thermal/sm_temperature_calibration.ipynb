{
 "cells": [
  {
   "cell_type": "code",
   "execution_count": 7,
   "metadata": {},
   "outputs": [],
   "source": [
    "if False:\n",
    "    %matplotlib notebook\n",
    "    figsize = (10,6)\n",
    "else:\n",
    "    figsize = (12,8)\n",
    "\n",
    "from sps_engineering_Lib_dataQuery.databasemanager import DatabaseManager\n",
    "import matplotlib.pyplot as plt\n",
    "import pandas as pd\n",
    "import numpy as np\n",
    "from scipy.interpolate import interp1d\n",
    "from scipy.signal import savgol_filter"
   ]
  },
  {
   "cell_type": "code",
   "execution_count": 29,
   "metadata": {},
   "outputs": [],
   "source": [
    "def outlierMask(array, outlierConstant=1.5):\n",
    "    lowerQuartile = np.percentile(array, 25)\n",
    "    upperQuartile = np.percentile(array, 75)\n",
    "    IQR = (upperQuartile - lowerQuartile) * outlierConstant\n",
    "\n",
    "    return np.logical_and(array >= lowerQuartile - IQR, array <= upperQuartile + IQR)\n",
    "\n",
    "\n",
    "def interpdate(datas):\n",
    "    \n",
    "    mintai = np.max([data.tai.min() for data in datas])\n",
    "    maxtai = np.min([data.tai.max() for data in datas])\n",
    "    tai = np.arange(mintai, maxtai, 0.0002)\n",
    "    res = pd.DataFrame({'tai':tai})\n",
    "    for data in datas:\n",
    "        for col in data.columns[2:]:\n",
    "            mask = outlierMask(data[col].values)\n",
    "            res[col] = np.interp(res['tai'], data['tai'].values[mask], data[col].values[mask])\n",
    "            \n",
    "    return res\n",
    "    "
   ]
  },
  {
   "cell_type": "code",
   "execution_count": 9,
   "metadata": {},
   "outputs": [],
   "source": [
    "db = DatabaseManager('tron', 5432, '')"
   ]
  },
  {
   "cell_type": "code",
   "execution_count": 10,
   "metadata": {},
   "outputs": [
    {
     "data": {
      "text/plain": [
       "<connection object at 0x7f3b776f9bf8; dsn: 'dbname='archiver' user='pfs' password=xx host='tron' port='5432'', closed: 0>"
      ]
     },
     "execution_count": 10,
     "metadata": {},
     "output_type": "execute_result"
    }
   ],
   "source": [
    "db.init()"
   ]
  },
  {
   "cell_type": "code",
   "execution_count": 14,
   "metadata": {},
   "outputs": [],
   "source": [
    "cols= ['val1_%d'%i for i in range(10)]"
   ]
  },
  {
   "cell_type": "markdown",
   "metadata": {},
   "source": [
    "temps = []\n",
    "datasets = []\n",
    "popts = []\n",
    "steps = {20: ['2019-01-17 19:00', '2019-01-18 10:00'],\n",
    "         15: ['2019-01-24 22:00', '2019-01-25 09:00'],\n",
    "         10: ['2019-01-19 11:00', '2019-01-21 02:00'],\n",
    "         5: ['2019-01-22 10:50', '2019-01-22 15:00'],\n",
    "         0 :['2019-01-21 12:00', '2019-01-21 14:50'],\n",
    "        }\n",
    "         "
   ]
  },
  {
   "cell_type": "code",
   "execution_count": null,
   "metadata": {},
   "outputs": [],
   "source": [
    "temps = pd.DataFrame(temps, columns=dataset.columns[1:])"
   ]
  },
  {
   "cell_type": "code",
   "execution_count": 28,
   "metadata": {
    "scrolled": true
   },
   "outputs": [],
   "source": []
  },
  {
   "cell_type": "code",
   "execution_count": 16,
   "metadata": {},
   "outputs": [],
   "source": [
    "specId, datestart, dateend = [1, '2019-01-25 14:30', '2019-01-26 22:30']"
   ]
  },
  {
   "cell_type": "markdown",
   "metadata": {},
   "source": [
    "steps = {5: ['2019-01-21 22:00', '2019-01-22 10:30']}  #Calib_in"
   ]
  },
  {
   "cell_type": "code",
   "execution_count": 17,
   "metadata": {},
   "outputs": [],
   "source": [
    "ref = db.dataBetween('aitroom__lake1', cols='temp1', start=datestart, end=dateend)\n",
    "stage1 = db.dataBetween('enu_sm0__temps1', cols=','.join(cols), start=datestart, end=dateend)\n",
    "stage2 = db.dataBetween('enu_sm0__temps2', cols=','.join(cols), start=datestart, end=dateend)\n",
    "stage1.columns = ['id','tai'] + ['%d'%i for i in range(101,111)]\n",
    "stage2.columns = ['id','tai'] + ['%d'%i for i in range(201,211)]\n",
    "dataset = interpdate([ref, stage1, stage2])\n",
    "\n",
    "datasets.append(dataset.rolling(window=8,center=False).median().dropna())"
   ]
  },
  {
   "cell_type": "code",
   "execution_count": 18,
   "metadata": {},
   "outputs": [],
   "source": [
    "datasets = pd.concat(datasets)"
   ]
  },
  {
   "cell_type": "code",
   "execution_count": 2,
   "metadata": {},
   "outputs": [],
   "source": [
    "import numpy as np"
   ]
  },
  {
   "cell_type": "code",
   "execution_count": 30,
   "metadata": {},
   "outputs": [],
   "source": [
    "ref = db.dataBetween('aitroom__lake1', cols='temp1', start='2019-01-31 02:30', end='2019-01-31 05:30')"
   ]
  },
  {
   "cell_type": "code",
   "execution_count": 31,
   "metadata": {},
   "outputs": [],
   "source": [
    "mask = outlierMask(ref.temp1.values)"
   ]
  },
  {
   "cell_type": "code",
   "execution_count": 34,
   "metadata": {},
   "outputs": [
    {
     "data": {
      "text/plain": [
       "1"
      ]
     },
     "execution_count": 34,
     "metadata": {},
     "output_type": "execute_result"
    }
   ],
   "source": [
    "np.sum(~mask)"
   ]
  },
  {
   "cell_type": "code",
   "execution_count": 26,
   "metadata": {},
   "outputs": [
    {
     "data": {
      "text/plain": [
       "nan"
      ]
     },
     "execution_count": 26,
     "metadata": {},
     "output_type": "execute_result"
    }
   ],
   "source": [
    "np.mean(array)"
   ]
  },
  {
   "cell_type": "code",
   "execution_count": null,
   "metadata": {},
   "outputs": [],
   "source": [
    "    resultList = []\n",
    "    for y in a.tolist():\n",
    "        if y >= quartileSet[0] and y <= quartileSet[1]:\n",
    "            resultList.append(y)\n",
    "    return resultList"
   ]
  },
  {
   "cell_type": "code",
   "execution_count": null,
   "metadata": {},
   "outputs": [],
   "source": [
    "for col in dataset.columns[2:]:\n",
    "    popt = np.polyfit(temps[col], temps['temp1']-temps[col], deg=2)\n",
    "    datasets[col] = datasets[col] + np.polyval(popt, datasets[col])\n",
    "    popts.append(popt)\n",
    "    \n",
    "    if True:\n",
    "        tt = np.arange(0,20,0.01)\n",
    "        fig = plt.figure(figsize=figsize)\n",
    "        plt.plot(temps[col], temps['temp1']-temps[col], 'o', label='channel %s'%(col))\n",
    "        plt.plot(tt, np.polyval(popt, tt), '-', label='fit %s'%(col))\n",
    "\n",
    "popts = pd.DataFrame(popts, index=dataset.columns[2:], columns=['c1', 'c2', 'c3'])"
   ]
  },
  {
   "cell_type": "code",
   "execution_count": null,
   "metadata": {},
   "outputs": [],
   "source": [
    "fig = plt.figure(figsize=figsize)\n",
    "\n",
    "for col in datasets.columns[1:]:\n",
    "    plt.plot_date(datasets.tai, datasets[col], 'o-', label='channel %s'%(col))\n",
    "    \n",
    "plt.grid()\n",
    "plt.legend()"
   ]
  },
  {
   "cell_type": "code",
   "execution_count": null,
   "metadata": {},
   "outputs": [],
   "source": [
    "fig = plt.figure(figsize=figsize)\n",
    "\n",
    "for col in datasets.columns[2:]:\n",
    "    plt.plot_date(datasets.tai, datasets['temp1']-datasets[col], 'o-', label='channel %s'%(col))\n",
    "    \n",
    "plt.grid()\n",
    "plt.legend()"
   ]
  },
  {
   "cell_type": "code",
   "execution_count": null,
   "metadata": {},
   "outputs": [],
   "source": [
    "error = []\n",
    "\n",
    "for ref in datasets.columns[1:]:\n",
    "    temp = datasets.drop(columns=['tai', ref])\n",
    "    for col in temp.columns:\n",
    "        mat = datasets[col] - datasets[ref]\n",
    "        error.append((np.mean(mat), np.median(mat), np.std(mat), np.max(mat)-np.min(mat)))\n",
    "    \n",
    "error = pd.DataFrame(error, columns=['mean','median','std','minmax'])"
   ]
  },
  {
   "cell_type": "code",
   "execution_count": null,
   "metadata": {},
   "outputs": [],
   "source": [
    "error.plot(figsize=figsize, grid=True)"
   ]
  },
  {
   "cell_type": "code",
   "execution_count": null,
   "metadata": {},
   "outputs": [],
   "source": [
    "for channel, (c1,c2,c3) in popts.iterrows():\n",
    "    print('%s=%.7f,%7f,%.7f'%(channel,c1,c2,c3))"
   ]
  },
  {
   "cell_type": "code",
   "execution_count": null,
   "metadata": {},
   "outputs": [],
   "source": [
    "start = '2019-01-15 00:00'\n",
    "end = False"
   ]
  },
  {
   "cell_type": "code",
   "execution_count": null,
   "metadata": {},
   "outputs": [],
   "source": [
    "cols= ['val1_%d'%i for i in range(12)]"
   ]
  },
  {
   "cell_type": "code",
   "execution_count": null,
   "metadata": {},
   "outputs": [],
   "source": [
    "cooler = db.dataBetween('xcu_r1__coolertemps', cols='tip,power', start=start, end=end)\n",
    "temps = db.dataBetween('xcu_r1__temps', cols=','.join(cols), start=start, end=end)\n",
    "ccd = db.dataBetween('ccd_r1__ccdtemps', cols='ccd0,ccd1', start=start, end=end)\n",
    "ccd['ccd'] = (ccd['ccd0'] + ccd['ccd1'])/2\n",
    "dataset = interpdate([cooler, temps, ccd])"
   ]
  },
  {
   "cell_type": "code",
   "execution_count": null,
   "metadata": {},
   "outputs": [],
   "source": [
    "#!/usr/bin/env python\n",
    "# encoding: utf-8\n",
    "\n",
    "from matplotlib.dates import DateFormatter\n",
    "from matplotlib.figure import Figure\n",
    "\n",
    "\n",
    "fig = plt.figure(figsize=(15,10))\n",
    "\n",
    "ax = fig.add_subplot(211)\n",
    "ax2 = fig.add_subplot(212)\n",
    "ax.hlines(163, dataset.tai.min(), dataset.tai.max())\n",
    "ax.plot_date(dataset.tai, dataset['val1_0'], '-', label='detectorBox')\n",
    "ax.plot_date(dataset.tai, dataset.ccd, '-', label='ccd')\n",
    "ax.legend()\n",
    "ax.grid()\n",
    "ax2.plot_date(dataset.tai, dataset.power, '-', color='g', label='coolerPower')\n",
    "ax2.legend()\n",
    "ax2.grid()\n",
    "\n",
    "ax.set_ylabel('Temperature(K)')\n",
    "ax2.set_ylabel('Power(W)')\n",
    "\n",
    "for tic in ax.xaxis.get_major_ticks():\n",
    "    tic.tick1On = tic.tick2On = False\n",
    "    tic.label1On = tic.label2On = False\n",
    "\n",
    "dateAxes = ax2\n",
    "t0, tmax = dateAxes.get_xlim()\n",
    "if tmax - t0 > 7:\n",
    "    format_date = '%Y-%m-%d'\n",
    "elif tmax - t0 > 1:\n",
    "    format_date = '%a %H:%M'\n",
    "else:\n",
    "    format_date = '%H:%M:%S'\n",
    "\n",
    "dateAxes.xaxis.set_major_formatter(DateFormatter(format_date))\n",
    "plt.setp(dateAxes.xaxis.get_majorticklabels(), rotation=20, horizontalalignment='center')\n",
    "\n",
    "fig.subplots_adjust(hspace=0.05)"
   ]
  },
  {
   "cell_type": "code",
   "execution_count": null,
   "metadata": {},
   "outputs": [],
   "source": [
    "df = pd.read_csv('/software/mhs/devel/ics_aitroomActor/data_pt111_ref.csv')"
   ]
  },
  {
   "cell_type": "code",
   "execution_count": null,
   "metadata": {},
   "outputs": [],
   "source": [
    "popt = np.polyfit(df.Resistance, df.Temperature, deg=4)"
   ]
  },
  {
   "cell_type": "code",
   "execution_count": null,
   "metadata": {},
   "outputs": [],
   "source": [
    "x = np.arange(df.Resistance.min(), df.Resistance.max(), 0.001)\n",
    "fit = np.polyval(popt, x)"
   ]
  },
  {
   "cell_type": "code",
   "execution_count": null,
   "metadata": {},
   "outputs": [],
   "source": [
    "fig = plt.figure(figsize=(15,10))\n",
    "\n",
    "ax = fig.add_subplot(211)\n",
    "ax2 = fig.add_subplot(212)\n",
    "\n",
    "\n",
    "ax.plot(df.Resistance, df.Temperature, 'o')\n",
    "ax.plot(x, fit, 'o')\n",
    "\n",
    "ax.legend()\n",
    "ax.grid()\n",
    "\n",
    "ax2.plot(df.Resistance, df.Temperature-np.polyval(popt, df.Resistance), '-')\n",
    "ax2.legend()\n",
    "ax2.grid()\n",
    "\n"
   ]
  },
  {
   "cell_type": "code",
   "execution_count": null,
   "metadata": {},
   "outputs": [],
   "source": [
    "np.polyval(popt, 154)"
   ]
  },
  {
   "cell_type": "code",
   "execution_count": null,
   "metadata": {},
   "outputs": [],
   "source": [
    "start = \"2019-01-25 13:00\"\n",
    "end = False"
   ]
  },
  {
   "cell_type": "code",
   "execution_count": null,
   "metadata": {},
   "outputs": [],
   "source": [
    "ref = db.dataBetween('aitroom__flowduino', cols='temp', start=start, end=end)\n",
    "stage1 = db.dataBetween('enu_sm0__res1', cols=','.join(cols), start=start, end=end)\n",
    "stage2 = db.dataBetween('enu_sm0__res2', cols=','.join(cols), start=start, end=end)\n",
    "stage1.columns = ['id','tai'] + ['%d'%i for i in range(101,111)]\n",
    "stage2.columns = ['id','tai'] + ['%d'%i for i in range(201,211)]\n",
    "dataset = interpdate([ref, stage1, stage2])"
   ]
  },
  {
   "cell_type": "code",
   "execution_count": null,
   "metadata": {},
   "outputs": [],
   "source": [
    "ref = db.dataBetween('aitroom__lake1', cols='temp1', start=start, end=end)\n",
    "stage1 = db.dataBetween('enu_sm0__temps1', cols=','.join(cols), start=start, end=end)\n",
    "stage2 = db.dataBetween('enu_sm0__temps2', cols=','.join(cols), start=start, end=end)\n",
    "ref.columns = ['id','tai', 'temp']\n",
    "stage1.columns = ['id','tai'] + ['%d'%i for i in range(101,111)]\n",
    "stage2.columns = ['id','tai'] + ['%d'%i for i in range(201,211)]\n",
    "dataset2 = interpdate([ref, stage1, stage2])\n"
   ]
  },
  {
   "cell_type": "code",
   "execution_count": null,
   "metadata": {},
   "outputs": [],
   "source": [
    "def pt100(R, R0=100, a=0.00385):\n",
    "    return (R/R0 - 1)/a - 0.241"
   ]
  },
  {
   "cell_type": "code",
   "execution_count": null,
   "metadata": {},
   "outputs": [],
   "source": [
    "for col in dataset.columns[1:]:\n",
    "    dataset[col] = pt100(dataset[col])"
   ]
  },
  {
   "cell_type": "code",
   "execution_count": null,
   "metadata": {},
   "outputs": [],
   "source": [
    "error = [np.median(dataset[col]) - np.median(dataset2[col]) for col in dataset.columns[1:]]\n",
    "print(np.mean(error))"
   ]
  },
  {
   "cell_type": "code",
   "execution_count": null,
   "metadata": {},
   "outputs": [],
   "source": [
    "for col in dataset.columns[1:2]:\n",
    "    fig = plt.figure(figsize=(15,10))\n",
    "    plt.plot_date(dataset.tai, dataset[col], 'o-', label='res %s'%col)\n",
    "    plt.plot_date(dataset2.tai, dataset2[col], 'o-', label='temp %s'%col)\n",
    "    plt.grid()\n",
    "    plt.legend()\n",
    "    "
   ]
  },
  {
   "cell_type": "code",
   "execution_count": null,
   "metadata": {},
   "outputs": [],
   "source": [
    "std1 = [np.std(dataset[col]) for col in dataset.columns[2:]]\n",
    "std2 = [np.std(dataset2[col]) for col in dataset2.columns[2:]]"
   ]
  },
  {
   "cell_type": "code",
   "execution_count": null,
   "metadata": {},
   "outputs": [],
   "source": [
    "np.mean(std1)"
   ]
  },
  {
   "cell_type": "code",
   "execution_count": null,
   "metadata": {},
   "outputs": [],
   "source": [
    "np.mean(std2)"
   ]
  },
  {
   "cell_type": "code",
   "execution_count": null,
   "metadata": {},
   "outputs": [],
   "source": [
    "np.std(dataset['temp'])"
   ]
  },
  {
   "cell_type": "code",
   "execution_count": null,
   "metadata": {},
   "outputs": [],
   "source": [
    "np.std(dataset2['temp'])"
   ]
  },
  {
   "cell_type": "code",
   "execution_count": 2,
   "metadata": {},
   "outputs": [],
   "source": [
    "filepath = '/software/mhs/devel/ics_aitroomActor/data_pt111_ref.csv'"
   ]
  },
  {
   "cell_type": "code",
   "execution_count": 4,
   "metadata": {},
   "outputs": [
    {
     "name": "stderr",
     "output_type": "stream",
     "text": [
      "/software/conda/lib/python3.6/site-packages/ipykernel_launcher.py:1: FutureWarning: from_csv is deprecated. Please use read_csv(...) instead. Note that some of the default arguments are different, so please refer to the documentation for from_csv when changing your function calls\n",
      "  \"\"\"Entry point for launching an IPython kernel.\n"
     ]
    }
   ],
   "source": [
    "df = pd.DataFrame.from_csv(filepath)"
   ]
  },
  {
   "cell_type": "code",
   "execution_count": 9,
   "metadata": {},
   "outputs": [
    {
     "data": {
      "text/plain": [
       "<matplotlib.axes._subplots.AxesSubplot at 0x7f29dc8e7550>"
      ]
     },
     "execution_count": 9,
     "metadata": {},
     "output_type": "execute_result"
    },
    {
     "data": {
      "image/png": "[encoded data removed]",
      "text/plain": [
       "<Figure size 432x288 with 1 Axes>"
      ]
     },
     "metadata": {},
     "output_type": "display_data"
    }
   ],
   "source": [
    "df.plot('Temperature')"
   ]
  },
  {
   "cell_type": "code",
   "execution_count": 8,
   "metadata": {},
   "outputs": [
    {
     "data": {
      "text/html": [
       "<div>\n",
       "<style scoped>\n",
       "    .dataframe tbody tr th:only-of-type {\n",
       "        vertical-align: middle;\n",
       "    }\n",
       "\n",
       "    .dataframe tbody tr th {\n",
       "        vertical-align: top;\n",
       "    }\n",
       "\n",
       "    .dataframe thead th {\n",
       "        text-align: right;\n",
       "    }\n",
       "</style>\n",
       "<table border=\"1\" class=\"dataframe\">\n",
       "  <thead>\n",
       "    <tr style=\"text-align: right;\">\n",
       "      <th></th>\n",
       "      <th>Temperature</th>\n",
       "      <th>Sensibility</th>\n",
       "    </tr>\n",
       "    <tr>\n",
       "      <th>Resistance</th>\n",
       "      <th></th>\n",
       "      <th></th>\n",
       "    </tr>\n",
       "  </thead>\n",
       "  <tbody>\n",
       "    <tr>\n",
       "      <th>94.865</th>\n",
       "      <td>259.83</td>\n",
       "      <td>0.391792</td>\n",
       "    </tr>\n",
       "    <tr>\n",
       "      <th>98.779</th>\n",
       "      <td>269.82</td>\n",
       "      <td>0.390800</td>\n",
       "    </tr>\n",
       "    <tr>\n",
       "      <th>100.081</th>\n",
       "      <td>273.15</td>\n",
       "      <td>0.390288</td>\n",
       "    </tr>\n",
       "    <tr>\n",
       "      <th>102.687</th>\n",
       "      <td>279.82</td>\n",
       "      <td>0.390010</td>\n",
       "    </tr>\n",
       "    <tr>\n",
       "      <th>106.591</th>\n",
       "      <td>289.83</td>\n",
       "      <td>0.388589</td>\n",
       "    </tr>\n",
       "    <tr>\n",
       "      <th>107.882</th>\n",
       "      <td>293.15</td>\n",
       "      <td>0.387882</td>\n",
       "    </tr>\n",
       "    <tr>\n",
       "      <th>110.473</th>\n",
       "      <td>299.82</td>\n",
       "      <td>0.387500</td>\n",
       "    </tr>\n",
       "    <tr>\n",
       "      <th>114.348</th>\n",
       "      <td>309.82</td>\n",
       "      <td>0.386627</td>\n",
       "    </tr>\n",
       "    <tr>\n",
       "      <th>116.285</th>\n",
       "      <td>314.83</td>\n",
       "      <td>0.386000</td>\n",
       "    </tr>\n",
       "    <tr>\n",
       "      <th>118.215</th>\n",
       "      <td>319.83</td>\n",
       "      <td>0.385481</td>\n",
       "    </tr>\n",
       "    <tr>\n",
       "      <th>120.578</th>\n",
       "      <td>325.96</td>\n",
       "      <td>0.384086</td>\n",
       "    </tr>\n",
       "    <tr>\n",
       "      <th>122.364</th>\n",
       "      <td>330.61</td>\n",
       "      <td>0.370116</td>\n",
       "    </tr>\n",
       "  </tbody>\n",
       "</table>\n",
       "</div>"
      ],
      "text/plain": [
       "            Temperature  Sensibility\n",
       "Resistance                          \n",
       "94.865           259.83     0.391792\n",
       "98.779           269.82     0.390800\n",
       "100.081          273.15     0.390288\n",
       "102.687          279.82     0.390010\n",
       "106.591          289.83     0.388589\n",
       "107.882          293.15     0.387882\n",
       "110.473          299.82     0.387500\n",
       "114.348          309.82     0.386627\n",
       "116.285          314.83     0.386000\n",
       "118.215          319.83     0.385481\n",
       "120.578          325.96     0.384086\n",
       "122.364          330.61     0.370116"
      ]
     },
     "execution_count": 8,
     "metadata": {},
     "output_type": "execute_result"
    }
   ],
   "source": [
    "df"
   ]
  },
  {
   "cell_type": "code",
   "execution_count": null,
   "metadata": {},
   "outputs": [],
   "source": []
  }
 ],
 "metadata": {
  "kernelspec": {
   "display_name": "Python 3",
   "language": "python",
   "name": "python3"
  },
  "language_info": {
   "codemirror_mode": {
    "name": "ipython",
    "version": 3
   },
   "file_extension": ".py",
   "mimetype": "text/x-python",
   "name": "python",
   "nbconvert_exporter": "python",
   "pygments_lexer": "ipython3",
   "version": "3.6.7"
  }
 },
 "nbformat": 4,
 "nbformat_minor": 2
}
