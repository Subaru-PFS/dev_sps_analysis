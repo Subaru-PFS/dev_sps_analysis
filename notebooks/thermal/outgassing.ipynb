{
 "cells": [
  {
   "cell_type": "code",
   "execution_count": null,
   "metadata": {},
   "outputs": [],
   "source": [
    "from pfs.lam.archiverConf import getConf, extractData, colors\n",
    "import numpy as np\n",
    "from matplotlib.dates import num2date, date2num\n",
    "import pandas as pd\n",
    "import matplotlib.pyplot as plt"
   ]
  },
  {
   "cell_type": "code",
   "execution_count": null,
   "metadata": {},
   "outputs": [],
   "source": [
    "def cooler_lift(T_tip, W_cooler, T_0=40.8022826, T_1=100., W_0=240., k=30.9095981, m=-0.3734864, n=0.07916974):\n",
    "    return (T_tip-T_0)/(T_1-T_0)*k*((W_cooler/W_0)+m*(W_cooler/W_0)**2+n*(W_cooler/W_0)**3)\n",
    "\n",
    "def cryoP(t, a=10.285, b=2637.006):\n",
    "    return 10**(a - (b / t))\n",
    "\n",
    "def cryoT(p, a=10.285, b=2637.006):\n",
    "    return b / (a - np.log10(p))"
   ]
  },
  {
   "cell_type": "code",
   "execution_count": null,
   "metadata": {},
   "outputs": [],
   "source": [
    "dbname='archiver_2015'"
   ]
  },
  {
   "cell_type": "code",
   "execution_count": null,
   "metadata": {},
   "outputs": [],
   "source": [
    "start = '2018-12-20 14:30'\n",
    "end = '2018-12-21 09:05'"
   ]
  },
  {
   "cell_type": "code",
   "execution_count": null,
   "metadata": {},
   "outputs": [],
   "source": [
    "d = getConf(start, actors=['xcu_b1'], dbname=dbname)"
   ]
  },
  {
   "cell_type": "code",
   "execution_count": null,
   "metadata": {},
   "outputs": [],
   "source": [
    "tables = ['xcu_b1__pressure', 'xcu_b1__coolertemps', 'xcu_b1__temps']"
   ]
  },
  {
   "cell_type": "code",
   "execution_count": null,
   "metadata": {},
   "outputs": [],
   "source": [
    "df = extractData(tables, start, end, interpolate='linear',  dbname=dbname)"
   ]
  },
  {
   "cell_type": "code",
   "execution_count": null,
   "metadata": {},
   "outputs": [],
   "source": [
    "df.columns"
   ]
  },
  {
   "cell_type": "code",
   "execution_count": null,
   "metadata": {},
   "outputs": [],
   "source": [
    "df['lift'] = cooler_lift(df.tip, df.power)"
   ]
  },
  {
   "cell_type": "code",
   "execution_count": null,
   "metadata": {},
   "outputs": [],
   "source": [
    "df['cryop'] = cryoP(df['Thermal Spreader Assy'])\n",
    "df['cryot'] = cryoT(df['Pressure'])"
   ]
  },
  {
   "cell_type": "code",
   "execution_count": null,
   "metadata": {},
   "outputs": [],
   "source": [
    "ax = df.set_index('date')[['cryop']].plot(figsize=(12, 10), grid=True, legend=True)\n",
    "ax.set_yscale('log')\n",
    "\n",
    "ax.semilogx(df.tai, df['Pressure'], label='pressure')\n",
    "ax.legend()"
   ]
  },
  {
   "cell_type": "code",
   "execution_count": null,
   "metadata": {},
   "outputs": [],
   "source": [
    "ax = df.set_index('date')[['cryot']].plot(figsize=(12, 10), grid=True, legend=True)\n",
    "\n",
    "ax.plot(df.tai, df['tip'], label='tip')\n",
    "ax.plot(df.tai, df['Thermal Spreader Assy'], label='Thermal Spreader')\n",
    "ax.plot(df.tai, df['Detector Strap 1'], label='Detector')\n",
    "ax.legend()"
   ]
  },
  {
   "cell_type": "code",
   "execution_count": null,
   "metadata": {},
   "outputs": [],
   "source": []
  }
 ],
 "metadata": {
  "kernelspec": {
   "display_name": "Python 3",
   "language": "python",
   "name": "python3"
  },
  "language_info": {
   "codemirror_mode": {
    "name": "ipython",
    "version": 3
   },
   "file_extension": ".py",
   "mimetype": "text/x-python",
   "name": "python",
   "nbconvert_exporter": "python",
   "pygments_lexer": "ipython3",
   "version": "3.6.8"
  }
 },
 "nbformat": 4,
 "nbformat_minor": 2
}
