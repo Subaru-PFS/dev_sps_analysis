{
 "cells": [
  {
   "cell_type": "code",
   "execution_count": 1,
   "metadata": {},
   "outputs": [],
   "source": [
    "if True:\n",
    "    %matplotlib notebook\n",
    "    figsize = (10,6)\n",
    "else:\n",
    "    figsize = (12,8)\n",
    "\n",
    "from sps_engineering_Lib_dataQuery.databasemanager import DatabaseManager\n",
    "from matplotlib.dates import num2date, date2num\n",
    "import matplotlib.pyplot as plt\n",
    "import pandas as pd\n",
    "import numpy as np\n",
    "from scipy.interpolate import interp1d\n",
    "from scipy.signal import savgol_filter"
   ]
  },
  {
   "cell_type": "code",
   "execution_count": 2,
   "metadata": {},
   "outputs": [],
   "source": [
    "def interpdate(datas):\n",
    "    \n",
    "    mintai = np.max([data.tai.min() for data in datas])\n",
    "    maxtai = np.min([data.tai.max() for data in datas])\n",
    "    tai = np.arange(mintai, maxtai, 0.0002)\n",
    "    res = pd.DataFrame({'tai':tai})\n",
    "    for data in datas:\n",
    "        for col in data.columns[2:]:\n",
    "             res[col] = np.interp(res['tai'], data['tai'], data[col])\n",
    "            \n",
    "    return res"
   ]
  },
  {
   "cell_type": "code",
   "execution_count": 3,
   "metadata": {},
   "outputs": [],
   "source": [
    "db = DatabaseManager('tron', 5432, '')"
   ]
  },
  {
   "cell_type": "code",
   "execution_count": 4,
   "metadata": {},
   "outputs": [
    {
     "data": {
      "text/plain": [
       "<connection object at 0x7f191cae68c8; dsn: 'dbname='archiver' user='pfs' password=xx host='tron' port='5432'', closed: 0>"
      ]
     },
     "execution_count": 4,
     "metadata": {},
     "output_type": "execute_result"
    }
   ],
   "source": [
    "db.init()"
   ]
  },
  {
   "cell_type": "code",
   "execution_count": 5,
   "metadata": {},
   "outputs": [],
   "source": [
    "maxPower = 200"
   ]
  },
  {
   "cell_type": "code",
   "execution_count": 6,
   "metadata": {},
   "outputs": [],
   "source": [
    "cols= ['val1_%d'%i for i in range(5)] + ['val1_10','val1_11']\n",
    "colnames = ['DetectorBox', 'Mangin', 'SpiderRodC','ThermalSpreader','FrontRing', 'DetectorStrap1','DetectorStrap2']"
   ]
  },
  {
   "cell_type": "markdown",
   "metadata": {},
   "source": [
    "temps = []\n",
    "datasets = []\n",
    "popts = []\n",
    "steps = {20: ['2019-01-17 19:00', '2019-01-18 10:00'],\n",
    "         15: ['2019-01-24 22:00', '2019-01-25 09:00'],\n",
    "         10: ['2019-01-19 11:00', '2019-01-21 02:00'],\n",
    "         5: ['2019-01-22 10:50', '2019-01-22 15:00'],\n",
    "         0 :['2019-01-21 12:00', '2019-01-21 14:50'],\n",
    "        }\n",
    "         "
   ]
  },
  {
   "cell_type": "code",
   "execution_count": 7,
   "metadata": {},
   "outputs": [],
   "source": [
    "specId, datestart, dateend = [1, '2019-02-11 14:30', '2019-02-25 08:00']"
   ]
  },
  {
   "cell_type": "markdown",
   "metadata": {},
   "source": [
    "steps = {5: ['2019-01-21 22:00', '2019-01-22 10:30']}  #Calib_in"
   ]
  },
  {
   "cell_type": "code",
   "execution_count": 8,
   "metadata": {},
   "outputs": [],
   "source": [
    "temps = db.dataBetween('xcu_r1__temps', cols=','.join(cols), start=datestart, end=dateend)\n",
    "cooler = db.dataBetween('xcu_r1__coolertemps', cols='setpoint,tip,power', start=datestart, end=dateend)\n",
    "temps.columns = ['id','tai'] + colnames\n",
    "temps['setpoint'] = np.interp(temps['tai'], cooler['tai'], cooler['setpoint'])\n",
    "temps['tip'] = np.interp(temps['tai'], cooler['tai'], cooler['tip'])\n",
    "temps['power'] = np.interp(temps['tai'], cooler['tai'], cooler['power'])\n",
    "#dataset = interpdate([temps, cooler])"
   ]
  },
  {
   "cell_type": "code",
   "execution_count": 9,
   "metadata": {},
   "outputs": [],
   "source": [
    "temps.drop(columns=['id'], inplace=True)"
   ]
  },
  {
   "cell_type": "code",
   "execution_count": 10,
   "metadata": {},
   "outputs": [],
   "source": [
    "temps['tai'] = [date.isoformat()[:19] for date in num2date(temps.tai)]\n",
    "temps.set_index('tai').to_csv('/home/pfs/PFS-R1-Dataset-2019-02-11.csv')"
   ]
  },
  {
   "cell_type": "code",
   "execution_count": null,
   "metadata": {},
   "outputs": [],
   "source": [
    "popt = np.polyfit(dataset.tai, dataset.power, 1)\n",
    "\n",
    "newtai = np.arange(dataset.tai.min(), dataset.tai.max()+280, 0.0002)\n",
    "fit = np.polyval(popt, newtai)\n",
    "[tlim] = np.roots([popt[0], popt[1]-maxPower])\n",
    "\n",
    "print('reaching maxPower : %s'%(num2date(tlim).isoformat()[:19]))"
   ]
  },
  {
   "cell_type": "code",
   "execution_count": null,
   "metadata": {},
   "outputs": [],
   "source": [
    "popt"
   ]
  },
  {
   "cell_type": "code",
   "execution_count": null,
   "metadata": {},
   "outputs": [],
   "source": [
    "plt.figure(figsize=figsize)\n",
    "plt.plot_date(dataset.tai, dataset.power, 'bo')\n",
    "plt.plot_date(dataset.tai, savgol_filter(dataset.power, 7777, 2), '-')\n",
    "plt.plot_date(newtai, fit, '-')\n",
    "plt.vlines(tlim, ymin=dataset.power.min(), ymax=200)\n",
    "\n",
    "plt.grid()"
   ]
  },
  {
   "cell_type": "code",
   "execution_count": null,
   "metadata": {},
   "outputs": [],
   "source": [
    "plt.figure(figsize=figsize)\n",
    "plt.plot_date(dataset.tai, dataset.power- np.polyval(popt, dataset.tai), '-')\n",
    "plt.plot_date(dataset.tai, savgol_filter(dataset.power- np.polyval(popt, dataset.tai), 9999, 2), '-')\n",
    "\n",
    "plt.grid()"
   ]
  },
  {
   "cell_type": "code",
   "execution_count": null,
   "metadata": {},
   "outputs": [],
   "source": []
  }
 ],
 "metadata": {
  "kernelspec": {
   "display_name": "Python 3",
   "language": "python",
   "name": "python3"
  },
  "language_info": {
   "codemirror_mode": {
    "name": "ipython",
    "version": 3
   },
   "file_extension": ".py",
   "mimetype": "text/x-python",
   "name": "python",
   "nbconvert_exporter": "python",
   "pygments_lexer": "ipython3",
   "version": "3.6.7"
  }
 },
 "nbformat": 4,
 "nbformat_minor": 2
}
