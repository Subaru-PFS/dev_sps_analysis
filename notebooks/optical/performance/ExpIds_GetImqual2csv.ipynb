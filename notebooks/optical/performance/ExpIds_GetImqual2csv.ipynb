{
 "cells": [
  {
   "cell_type": "code",
   "execution_count": null,
   "metadata": {},
   "outputs": [],
   "source": [
    "%load_ext autoreload\n",
    "%autoreload 2"
   ]
  },
  {
   "cell_type": "code",
   "execution_count": null,
   "metadata": {},
   "outputs": [],
   "source": [
    "import pandas as pd\n",
    "import time\n",
    "import numpy as np\n"
   ]
  },
  {
   "cell_type": "code",
   "execution_count": null,
   "metadata": {},
   "outputs": [],
   "source": [
    "import os\n"
   ]
  },
  {
   "cell_type": "code",
   "execution_count": null,
   "metadata": {},
   "outputs": [],
   "source": [
    "%matplotlib ipympl\n",
    "\n",
    "import matplotlib.pyplot as plt\n",
    "#plt.rcParams['figure.figsize'] = (9.5, 7.5)\n",
    "\n"
   ]
  },
  {
   "cell_type": "code",
   "execution_count": null,
   "metadata": {},
   "outputs": [],
   "source": [
    "from pfs.lam.opdb import *\n",
    "from pfs.lam.fileHandling import *\n",
    "from pfs.lam.detFocusAnalysis import *\n",
    "from pfs.lam.detAnalysis import *\n",
    "from pfs.lam.linePeaksList import filterPeakList"
   ]
  },
  {
   "cell_type": "code",
   "execution_count": null,
   "metadata": {},
   "outputs": [],
   "source": [
    "import lsst.daf.persistence as dafPersist"
   ]
  },
  {
   "cell_type": "code",
   "execution_count": null,
   "metadata": {},
   "outputs": [],
   "source": [
    "experimentId = 125 # 411µ\n",
    "rerun = \"defocus\"\n",
    "#rerun = \"dcb2\"\n",
    "\n",
    "cam = \"b2\"\n",
    "\n",
    "basePath = '/drp/analysis/sm2/'\n",
    "\n",
    "peaklist = \"../peakList/B2_on_SM2_peakList.csv\"\n"
   ]
  },
  {
   "cell_type": "code",
   "execution_count": null,
   "metadata": {},
   "outputs": [],
   "source": [
    "experimentId = 719 # 411µ\n",
    "rerun = \"ginga\"\n",
    "#rerun = \"dcb2\"\n",
    "\n",
    "cam = \"r2\"\n",
    "\n",
    "basePath = '/drp/analysis/sm3/'\n",
    "\n",
    "peaklist = \"../peakList/R2_on_SM3_peakList.csv\"\n"
   ]
  },
  {
   "cell_type": "code",
   "execution_count": null,
   "metadata": {},
   "outputs": [],
   "source": [
    "np.arange(523,526+1,1)"
   ]
  },
  {
   "cell_type": "code",
   "execution_count": null,
   "metadata": {},
   "outputs": [],
   "source": [
    "\n",
    "expIds = np.append(133,np.arange(134,136+1,1))\n",
    "expIds = np.append(expIds,np.arange(145,145+1,1))\n",
    "expIds = np.append(expIds,np.arange(152,155+1,1))\n",
    "expIds = np.append(expIds,np.arange(158,158+1,1))"
   ]
  },
  {
   "cell_type": "code",
   "execution_count": null,
   "metadata": {},
   "outputs": [],
   "source": [
    "expIds = np.arange(731,731+1,1)"
   ]
  },
  {
   "cell_type": "code",
   "execution_count": null,
   "metadata": {},
   "outputs": [],
   "source": [
    "expIds = np.append(157,160)"
   ]
  },
  {
   "cell_type": "code",
   "execution_count": null,
   "metadata": {},
   "outputs": [],
   "source": [
    "expIds = np.append(expIds,np.arange(646,655+1,1))\n"
   ]
  },
  {
   "cell_type": "code",
   "execution_count": null,
   "metadata": {},
   "outputs": [],
   "source": [
    "expIds"
   ]
  },
  {
   "cell_type": "code",
   "execution_count": null,
   "metadata": {},
   "outputs": [],
   "source": [
    "doRoiPlot = True"
   ]
  },
  {
   "cell_type": "code",
   "execution_count": null,
   "metadata": {},
   "outputs": [],
   "source": [
    "\n",
    "\n",
    "drpPath = \"/data/drp\"\n",
    "repo = \"sps\"\n",
    "\n",
    "\n",
    "arm = cam[0]\n",
    "specId = int(cam[1])\n",
    "dataId = dict(arm=arm, spectrograph=specId)\n",
    "repoRoot = f\"{drpPath}/{repo}\"\n",
    "print(repoRoot)\n",
    "print(os.path.join(repoRoot,  \"rerun\", rerun, \"detrend\"))\n",
    "print(os.path.join(repoRoot, \"CALIB\"))\n",
    "\n",
    "butler = dafPersist.Butler( os.path.join(repoRoot, \"rerun\", rerun, \"detrend\"), \\\n",
    "                           calibRoot=os.path.join(repoRoot, \"CALIB\"))\n",
    "#butler = dafPersist.Butler( os.path.join(repoRoot, \"rerun\", rerun), \\\n",
    "#                           calibRoot=os.path.join(repoRoot, \"CALIB\"))\n",
    "butler.getKeys('raw')\n",
    "\n",
    "\n",
    "# define defaut parameters\n",
    "roi_size = 24\n",
    "seek_size = 60\n",
    "com = True  # Center Of Massfabrice.madec@free.fr\n",
    "doBck = True\n",
    "head = 0\n",
    "tail = 0\n",
    "criteria = 'EE5'\n",
    "doPrint = False\n",
    "\n",
    "\n",
    "for experimentId in expIds:\n",
    "    \n",
    "    visitStart, visitEnd = getVisitRange(experimentId)\n",
    "\n",
    "    print(visitStart, visitEnd)\n",
    "\n",
    "    csvPath = os.path.join(basePath,f\"Exp{experimentId}\",rerun,f\"roi{roi_size}\",f\"doBck{doBck}\")\n",
    "    print(csvPath)\n",
    "\n",
    "    print(f'Start visit {visitStart} of {cam} with {peaklist}')\n",
    "    print(f\"{drpPath}/{repo}/rerun/{rerun}/detrend/\")\n",
    "\n",
    "    if doRoiPlot:\n",
    "        # get lamp used to filter the list of peaks\n",
    "        dataId.update(visit=int(visitStart))\n",
    "        lamps = butler.queryMetadata('raw', ['lamps'], dataId)\n",
    "        print(f\"lamps used: {lamps}\")\n",
    "\n",
    "\n",
    "        peaks = filterPeakList(peaklist, arm, lamps)\n",
    "\n",
    "        waves = peaks.wavelength.unique()\n",
    "        print(waves)\n",
    "\n",
    "        # filter wave if needed\n",
    "        peaks = peaks[peaks.wavelength != waves[-1]]\n",
    "\n",
    "        exp = butler.get(\"calexp\", visit=int(visitStart), arm=cam[0])\n",
    "        plotRoiPeak(exp.image.array, peaks, raw=True, roi_size=60, )\n",
    "\n",
    "    for v in range(visitStart, visitEnd+1):\n",
    "        dataId.update(visit=int(v))\n",
    "        df = ImageQualityToCsv(butler, dataId, peaks, csv_path=csvPath,\\\n",
    "                               com=com, doBck=doBck, EE=[3,5], seek_size=seek_size,\\\n",
    "                               doFit=False, doLSF=False,  doSep=True, \\\n",
    "                               mask_size=20, threshold= 50, subpix = 5 , maxPeakDist=80,\\\n",
    "                               maxPeakFlux=40000, minPeakFlux=2000,\\\n",
    "                               doPlot=False, doPrint=doPrint)\n"
   ]
  },
  {
   "cell_type": "code",
   "execution_count": null,
   "metadata": {},
   "outputs": [],
   "source": []
  },
  {
   "cell_type": "markdown",
   "metadata": {},
   "source": []
  },
  {
   "cell_type": "code",
   "execution_count": null,
   "metadata": {},
   "outputs": [],
   "source": []
  },
  {
   "cell_type": "code",
   "execution_count": null,
   "metadata": {},
   "outputs": [],
   "source": []
  },
  {
   "cell_type": "code",
   "execution_count": null,
   "metadata": {},
   "outputs": [],
   "source": []
  },
  {
   "cell_type": "code",
   "execution_count": null,
   "metadata": {},
   "outputs": [],
   "source": []
  }
 ],
 "metadata": {
  "jupytext": {
   "cell_metadata_filter": "-all",
   "executable": "/usr/bin/python",
   "notebook_metadata_filter": "-all",
   "text_representation": {
    "extension": ".py",
    "format_name": "light"
   }
  },
  "kernelspec": {
   "display_name": "Python 3",
   "language": "python",
   "name": "python3"
  },
  "language_info": {
   "codemirror_mode": {
    "name": "ipython",
    "version": 3
   },
   "file_extension": ".py",
   "mimetype": "text/x-python",
   "name": "python",
   "nbconvert_exporter": "python",
   "pygments_lexer": "ipython3",
   "version": "3.7.2"
  }
 },
 "nbformat": 4,
 "nbformat_minor": 4
}
