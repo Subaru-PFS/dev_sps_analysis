{
 "cells": [
  {
   "cell_type": "code",
   "execution_count": null,
   "metadata": {},
   "outputs": [],
   "source": [
    "%load_ext autoreload\n",
    " \n",
    "%autoreload 2"
   ]
  },
  {
   "cell_type": "code",
   "execution_count": null,
   "metadata": {
    "lines_to_next_cell": 2
   },
   "outputs": [],
   "source": [
    "from pfs.lam.imageAnalysis import neighbor_outlier_filter\n",
    "\n",
    "from pfs.lam.detAnalysis import *\n",
    "from pfs.lam.detFocusAnalysis import *\n",
    "from pfs.lam.fileHandling import *\n",
    "from pfs.lam.style import *\n",
    "from pfs.lam.analysisPlot import *\n",
    "import glob\n",
    "import lsst.daf.persistence as dafPersist"
   ]
  },
  {
   "cell_type": "code",
   "execution_count": null,
   "metadata": {},
   "outputs": [],
   "source": [
    "from pfs.lam.misc import find_nearest\n",
    "import seaborn as sns\n"
   ]
  },
  {
   "cell_type": "code",
   "execution_count": null,
   "metadata": {},
   "outputs": [],
   "source": [
    "import seaborn as sns\n",
    "import matplotlib.pyplot as plt\n",
    "from mpl_toolkits.mplot3d import Axes3D\n",
    "from datetime import datetime"
   ]
  },
  {
   "cell_type": "code",
   "execution_count": null,
   "metadata": {},
   "outputs": [],
   "source": [
    "%matplotlib ipympl"
   ]
  },
  {
   "cell_type": "code",
   "execution_count": null,
   "metadata": {
    "lines_to_next_cell": 2
   },
   "outputs": [],
   "source": [
    "datetime.now().strftime(\"%Y-%m-%dT%Hh%M\")"
   ]
  },
  {
   "cell_type": "code",
   "execution_count": null,
   "metadata": {},
   "outputs": [],
   "source": [
    "roi_size = 24\n",
    "doBck = True\n",
    "threshold = 0."
   ]
  },
  {
   "cell_type": "code",
   "execution_count": null,
   "metadata": {},
   "outputs": [],
   "source": [
    "expIds = [13856,13857]\n",
    "rerun = \"sep2021\"\n",
    "cam = \"r1\"\n",
    "extra = ''\n",
    "basePath = '/drp/analysis/subaru/sm1/'\n",
    "roi_size = 24\n"
   ]
  },
  {
   "cell_type": "code",
   "execution_count": null,
   "metadata": {},
   "outputs": [],
   "source": [
    "expIds = [13857]\n",
    "rerun = \"sep2021\"\n",
    "cam = \"r1\"\n",
    "extra = ''\n",
    "basePath = '/drp/analysis/subaru/sm1/'\n",
    "roi_size = 24\n"
   ]
  },
  {
   "cell_type": "code",
   "execution_count": null,
   "metadata": {},
   "outputs": [],
   "source": [
    "expIds = [13866,13867]\n",
    "rerun = \"sep2021\"\n",
    "cam = \"b1\"\n",
    "extra = ''\n",
    "basePath = '/drp/analysis/subaru/sm1/'\n",
    "roi_size = 24\n",
    "Sources = [\"neon\",\"hgar\"] "
   ]
  },
  {
   "cell_type": "code",
   "execution_count": null,
   "metadata": {},
   "outputs": [],
   "source": [
    "expIds = [13858,13859]\n",
    "rerun = \"sep2021\"\n",
    "cam = \"b1\"\n",
    "extra = ''\n",
    "basePath = '/drp/analysis/subaru/sm1/'\n",
    "roi_size = 24\n",
    "Sources = [\"hgar\", \"neon\"] "
   ]
  },
  {
   "cell_type": "code",
   "execution_count": null,
   "metadata": {},
   "outputs": [],
   "source": [
    "expIds = [13859]\n",
    "rerun = \"sep2021\"\n",
    "cam = \"b1\"\n",
    "extra = ''\n",
    "basePath = '/drp/analysis/subaru/sm1/'\n",
    "roi_size = 24\n"
   ]
  },
  {
   "cell_type": "code",
   "execution_count": null,
   "metadata": {},
   "outputs": [],
   "source": []
  },
  {
   "cell_type": "markdown",
   "metadata": {},
   "source": [
    "# define defaut parameters\n"
   ]
  },
  {
   "cell_type": "code",
   "execution_count": null,
   "metadata": {},
   "outputs": [],
   "source": []
  },
  {
   "cell_type": "code",
   "execution_count": null,
   "metadata": {},
   "outputs": [],
   "source": [
    "#piston_index = \"motor1\"\n",
    "\n",
    "com = True  # Center Of Mass\n",
    "head = 0\n",
    "tail = 0\n",
    "criteria = 'EE5'\n",
    "criterias = [criteria] #['EE5', 'sep_ECE5']\n",
    "verbose = True\n",
    "doPrint = False\n",
    "arm = cam[0]\n",
    "SM = f\"SM{cam[1]}\"\n",
    "site = \"Subaru\""
   ]
  },
  {
   "cell_type": "code",
   "execution_count": null,
   "metadata": {},
   "outputs": [],
   "source": [
    "head = 0\n",
    "tail = 0"
   ]
  },
  {
   "cell_type": "code",
   "execution_count": null,
   "metadata": {
    "lines_to_next_cell": 2
   },
   "outputs": [],
   "source": [
    "cluster = False"
   ]
  },
  {
   "cell_type": "code",
   "execution_count": null,
   "metadata": {
    "lines_to_next_cell": 2
   },
   "outputs": [],
   "source": [
    "doNeighborFilter = True\n",
    "thres_neighbor = -0.1 # default -0.1"
   ]
  },
  {
   "cell_type": "code",
   "execution_count": null,
   "metadata": {},
   "outputs": [],
   "source": [
    "doSave = False\n",
    "doSaveCsv = False"
   ]
  },
  {
   "cell_type": "code",
   "execution_count": null,
   "metadata": {
    "lines_to_next_cell": 2
   },
   "outputs": [],
   "source": []
  },
  {
   "cell_type": "markdown",
   "metadata": {},
   "source": [
    "# Set folder according place either cluster, laptop"
   ]
  },
  {
   "cell_type": "code",
   "execution_count": null,
   "metadata": {},
   "outputs": [],
   "source": [
    "drpPath = \"/data/drp/subaru/\"\n",
    "repo = \"repo\"\n",
    "imgPath = basePath\n"
   ]
  },
  {
   "cell_type": "raw",
   "metadata": {},
   "source": [
    "if cluster :\n",
    "    imgPath = '/net/SRVSTK20C/drp/fmadec/analysis/subaru/sm1/'\n",
    "    dataPath = \"/net/SRVSTK20C/drp/fmadec/analysis/subaru/sm1/\"\n",
    "\n",
    "    drpPath = \"/net/SRVSTK20C/drp/cluster\"\n",
    "    repo = \"repo\"\n",
    "else:\n",
    "    imgPath = \"/media/fmadec/PfsData/PFS/fmadec/analysis/subaru/sm1/\"\n",
    "    #imgPath = '/home/fmadec/Pictures/analysis/'\n",
    "    dataPath = imgPath\n",
    "    drpPath = \"/home/fmadec/pfs/subaruData/\"    \n",
    "    repo = \"drp\"\n",
    "\n",
    "if False:\n",
    "    imgPath = \"/home/fmadec/Pictures/analysis/\"\n",
    "    #imgPath = '/home/fmadec/Pictures/analysis/'\n",
    "    dataPath = imgPath\n",
    "    drpPath = \"/home/fmadec/pfs/subaruData/\"    \n",
    "    repo = \"drp\"\n",
    " #   Exp255/sm1-march2020_roi24/doBckTrue/stack\n",
    "    \n",
    "if False:\n",
    "    imgPath = '/data/drp/analysis/sm2/'\n",
    "    #imgPath = '/home/fmadec/Pictures/analysis/'\n",
    "    dataPath = imgPath\n",
    "    drpPath = \"/data/drp\"    \n",
    "    repo = \"sps\"\n",
    " #   Exp255/sm1-march2020_roi24/doBckTrue/stack\n",
    "if True :\n",
    "    imgPath = '/drp/fmadec/analysis/subaru/sm1/'\n",
    "    dataPath = \"/drp/fmadec/analysis/subaru/sm1/\"\n",
    "    drpPath = \"/data/drp/cluster\"\n",
    "    repo = \"repo\""
   ]
  },
  {
   "cell_type": "raw",
   "metadata": {},
   "source": [
    "outpath = ''\n",
    "outpath = \"output\\\\\" if outpath is None else outpath\n",
    "\n"
   ]
  },
  {
   "cell_type": "markdown",
   "metadata": {},
   "source": [
    "# Read data CSV files for all experimentIds"
   ]
  },
  {
   "cell_type": "code",
   "execution_count": null,
   "metadata": {},
   "outputs": [],
   "source": [
    "files = []\n",
    "for experimentId in expIds:\n",
    "\n",
    "    csvPath = imgPath+\"Exp\"+str(experimentId)+\"/\"+rerun+\"_roi\"+str(roi_size)+\"/doBck\"+str(doBck)+\"/\"+extra\n",
    "    if not os.path.exists(csvPath):\n",
    "        csvPath = imgPath+\"Exp\"+str(experimentId)+\"/\"+rerun+\"/\"+\"roi\"+str(roi_size)+\"/doBck\"+str(doBck)+\"/\"+extra\n",
    "#    csvPath = imgPath+\"Exp190/ws_slit_roi40/doBckTrue/\"\n",
    "\n",
    "    dataPath = csvPath\n",
    "    print(dataPath)\n",
    "\n",
    "    searchFile = f\"{csvPath}Imquality_{cam}_Exp{experimentId}*\"\n",
    "\n",
    "    print(searchFile)\n",
    "    files.extend(glob.glob(searchFile))\n",
    "\n",
    "if verbose:\n",
    "    print(*files, sep=\"\\n\")\n",
    "\n",
    "imdata = pd.concat(map(pd.read_csv,files)).reset_index().sort_values(by=\"motor1\")\n",
    "#piston_imdata[\"wavelength\"] = 300\n",
    "\n",
    "#piston_imdata = piston_imdata.groupby(['wavelength','fiber', \"motor1\"]).mean().reset_index()"
   ]
  },
  {
   "cell_type": "code",
   "execution_count": null,
   "metadata": {},
   "outputs": [],
   "source": [
    "#comment =\"NoDarkFlat\"\n",
    "comment = f\"{rerun}_roi{str(roi_size)}_doBck{str(doBck)}\"\n",
    "savePlotFile = csvPath+f\"{SM}_{site}_{cam}_ExpIds_{'-'.join(str(x) for x in expIds)}_{'-'.join(str(x) for x in Sources)}\"\n",
    "savePlotFile = savePlotFile+f\"_{comment}\"\n",
    "print(savePlotFile)\n",
    "savePlotScatterFile = csvPath+f\"{SM}_{site}_{cam}_ExpIds_{'-'.join(str(x) for x in expIds)}_{'-'.join(str(x) for x in Sources)}_scatter\"\n",
    "savePlotScatterFile = savePlotScatterFile+f\"_{comment}\"\n",
    "print(savePlotScatterFile)\n",
    "title = f\"{SM} {site} {cam} ExpIds {' '.join(str(x) for x in expIds)} {' '.join(str(x) for x in Sources)}\"\n",
    "title = title + f\"\\n{comment}\"\n",
    "print(title)"
   ]
  },
  {
   "cell_type": "markdown",
   "metadata": {},
   "source": [
    "# Data filtering"
   ]
  },
  {
   "cell_type": "markdown",
   "metadata": {},
   "source": [
    "## Remove bad peak identified by SEP"
   ]
  },
  {
   "cell_type": "code",
   "execution_count": null,
   "metadata": {},
   "outputs": [],
   "source": [
    "df = imdata[(imdata.sep_flag<1)]"
   ]
  },
  {
   "cell_type": "markdown",
   "metadata": {},
   "source": [
    "## Remove peaks after a visual check (see at the end)"
   ]
  },
  {
   "cell_type": "code",
   "execution_count": null,
   "metadata": {},
   "outputs": [],
   "source": [
    "waves = df.wavelength.unique()\n",
    "print(waves)"
   ]
  },
  {
   "cell_type": "code",
   "execution_count": null,
   "metadata": {},
   "outputs": [],
   "source": [
    "waves[9]"
   ]
  },
  {
   "cell_type": "code",
   "execution_count": null,
   "metadata": {},
   "outputs": [],
   "source": [
    "####  Filtering of \n",
    "#\n",
    "#expIds =  [13856,13857]\n",
    "#rerun = \"sep2021\"\n",
    "#cam = \"r1\"\n",
    "#extra = ''\n",
    "#basePath = '/drp/analysis/subaru/sm1/'\n",
    "#roi_size = 24\n",
    "\n",
    "\n",
    "#Sources = [\"hgar\", \"neon\"] #, \"Neon\"]\n",
    "\n",
    "#because of saturation or CR\n",
    "#waves filter were :846.5682 during SM1 first cooldown\n",
    "\n",
    "#df = df[(df.EE5>0.8)] #=> checked saturation or CR\n",
    "df = df[(df.EE5<1)]  #=> checked either no flux or double peak\n",
    "\n",
    "ind_wave = 9\n",
    "print(waves[ind_wave])\n",
    "df = df[df.wavelength != waves[ind_wave]]\n",
    "\n"
   ]
  },
  {
   "cell_type": "code",
   "execution_count": null,
   "metadata": {},
   "outputs": [],
   "source": [
    "####  Filtering of \n",
    "#\n",
    "#expIds = [13866,13867]\n",
    "#rerun = \"sep2021\"\n",
    "#cam = \"b1\"\n",
    "#extra = ''\n",
    "#basePath = '/drp/analysis/subaru/sm1/'\n",
    "#roi_size = 24\n",
    "\n",
    "\n",
    "#Sources = [\"hgar\", \"neon\"] #, \"Neon\"]\n",
    "\n",
    "#because of saturation or CR\n",
    "\n",
    "df = df[(df.EE5>0.8)] #=> checked saturation or CR\n",
    "df = df[(df.EE5<1)]  #=> checked saturation"
   ]
  },
  {
   "cell_type": "code",
   "execution_count": null,
   "metadata": {},
   "outputs": [],
   "source": [
    "####  Filtering of \n",
    "#\n",
    "#expIds =  [13858,13859]\n",
    "#rerun = \"sep2021\"\n",
    "#cam = \"b1\"\n",
    "#extra = ''\n",
    "#basePath = '/drp/analysis/subaru/sm1/'\n",
    "#roi_size = 24\n",
    "\n",
    "\n",
    "#Sources = [\"hgar\", \"neon\"] #, \"Neon\"]\n",
    "\n",
    "#because of saturation or CR\n",
    "\n",
    "df = df[(df.EE5>0.8)] #=> checked saturation or CR\n",
    "df = df[(df.EE5<1)]  #=> checked saturation"
   ]
  },
  {
   "cell_type": "code",
   "execution_count": null,
   "metadata": {},
   "outputs": [],
   "source": []
  },
  {
   "cell_type": "markdown",
   "metadata": {},
   "source": [
    "# find the best EE5 value from the dither sequence"
   ]
  },
  {
   "cell_type": "code",
   "execution_count": null,
   "metadata": {},
   "outputs": [],
   "source": [
    "best = []\n",
    "for key,group in df.groupby([\"wavelength\",\"fiber\"]):\n",
    "#    best.append(group.where(group.EE5 == group.EE5.max()))\n",
    "    best.append(group[group.EE5 == group.EE5.max()])\n",
    "#    print(group.px.std())\n",
    "#    print(group.py.std())\n",
    "\n",
    "    #best.append(key)\n",
    "best = pd.concat(best)"
   ]
  },
  {
   "cell_type": "code",
   "execution_count": null,
   "metadata": {},
   "outputs": [],
   "source": [
    "best = best[best.EE5>0.5]"
   ]
  },
  {
   "cell_type": "code",
   "execution_count": null,
   "metadata": {},
   "outputs": [],
   "source": [
    "len(best)"
   ]
  },
  {
   "cell_type": "code",
   "execution_count": null,
   "metadata": {},
   "outputs": [],
   "source": [
    "doSavePlot = True\n"
   ]
  },
  {
   "cell_type": "code",
   "execution_count": null,
   "metadata": {},
   "outputs": [],
   "source": [
    "plotImageQualityScatter(best, par=\"EE5\", hist=\"EE5\", savePlotFile=savePlotScatterFile+\"best\", title=title+\" best\", doSave=doSavePlot,\\\n",
    "                       vmin=0.89, vmax=1)"
   ]
  },
  {
   "cell_type": "code",
   "execution_count": null,
   "metadata": {},
   "outputs": [],
   "source": [
    "plotImageQualityScatter(best, par=\"EE3\", hist=\"EE3\", savePlotFile=savePlotScatterFile+\"best\", title=title+\" best\", doSave=doSavePlot,\\\n",
    "                       vmin=0.45, vmax=0.73)"
   ]
  },
  {
   "cell_type": "code",
   "execution_count": null,
   "metadata": {},
   "outputs": [],
   "source": [
    "plotImageQualityScatter(df, par=\"sep_brightness\", savePlotFile=savePlotScatterFile+\"best\", title=title+\" best\", doSave=doSavePlot,\\\n",
    "                       vmin=-1, vmax=-1)"
   ]
  },
  {
   "cell_type": "code",
   "execution_count": null,
   "metadata": {},
   "outputs": [],
   "source": []
  },
  {
   "cell_type": "code",
   "execution_count": null,
   "metadata": {},
   "outputs": [],
   "source": []
  },
  {
   "cell_type": "code",
   "execution_count": null,
   "metadata": {},
   "outputs": [],
   "source": []
  },
  {
   "cell_type": "code",
   "execution_count": null,
   "metadata": {},
   "outputs": [],
   "source": []
  },
  {
   "cell_type": "markdown",
   "metadata": {},
   "source": [
    "# checking bad EE5 to identify data that can be filtered\n",
    "plot each peak to check what is the issue, CR, no flux, mutliple peaks ..."
   ]
  },
  {
   "cell_type": "code",
   "execution_count": null,
   "metadata": {},
   "outputs": [],
   "source": [
    "pdf = df[(df.EE5<0.88)|(df.EE5>1)]\n",
    "print(len(pdf))\n",
    "print(pdf.wavelength.unique())\n",
    "print(pdf.fiber.unique())\n",
    "print(pdf.visit.unique())"
   ]
  },
  {
   "cell_type": "code",
   "execution_count": null,
   "metadata": {},
   "outputs": [],
   "source": [
    "pdf = df[(df.EE5<0.5)]\n",
    "print(len(pdf))\n",
    "print(pdf.wavelength.unique())\n",
    "print(pdf.fiber.unique())\n",
    "print(pdf.visit.unique())"
   ]
  },
  {
   "cell_type": "code",
   "execution_count": null,
   "metadata": {},
   "outputs": [],
   "source": [
    "pdf = best[(best.EE5<0.5)]\n",
    "print(len(pdf))\n",
    "print(pdf.wavelength.unique())\n",
    "print(pdf.fiber.unique())\n",
    "print(pdf.visit.unique())"
   ]
  },
  {
   "cell_type": "code",
   "execution_count": null,
   "metadata": {},
   "outputs": [],
   "source": [
    "pdf = best[(best.EE5<0.83)]\n",
    "print(len(pdf))"
   ]
  },
  {
   "cell_type": "code",
   "execution_count": null,
   "metadata": {},
   "outputs": [],
   "source": [
    "pdf = best[(best.EE5>1)]\n",
    "print(len(pdf))"
   ]
  },
  {
   "cell_type": "code",
   "execution_count": null,
   "metadata": {},
   "outputs": [],
   "source": [
    "ind = 5"
   ]
  },
  {
   "cell_type": "code",
   "execution_count": null,
   "metadata": {},
   "outputs": [],
   "source": [
    "visitId = int(pdf.visit.iloc[ind])\n",
    "print(visitId)\n",
    "print(pdf.wavelength.iloc[ind])\n",
    "print(pdf.fiber.iloc[ind])\n",
    "#visitId = 3449 "
   ]
  },
  {
   "cell_type": "code",
   "execution_count": null,
   "metadata": {},
   "outputs": [],
   "source": [
    "import lsst.daf.persistence as dafPersist"
   ]
  },
  {
   "cell_type": "code",
   "execution_count": null,
   "metadata": {},
   "outputs": [],
   "source": [
    "print(f\"{drpPath}/{repo}/rerun/{rerun}\")"
   ]
  },
  {
   "cell_type": "code",
   "execution_count": null,
   "metadata": {},
   "outputs": [],
   "source": [
    "butler = dafPersist.Butler(f\"{drpPath}/{repo}/rerun/{rerun}\")\n",
    "calExp = butler.get(\"calexp\", visit=visitId, arm=arm)"
   ]
  },
  {
   "cell_type": "code",
   "execution_count": null,
   "metadata": {},
   "outputs": [],
   "source": []
  },
  {
   "cell_type": "code",
   "execution_count": null,
   "metadata": {},
   "outputs": [],
   "source": [
    "cx = pdf.px.iloc[ind]\n",
    "cy = pdf.py.iloc[ind]\n",
    "print(cx,cy)\n",
    "#imagefile = imgPath+ pdf.file.iloc[ind]\n",
    "#print(imagefile)"
   ]
  },
  {
   "cell_type": "code",
   "execution_count": null,
   "metadata": {},
   "outputs": [],
   "source": []
  },
  {
   "cell_type": "code",
   "execution_count": null,
   "metadata": {},
   "outputs": [],
   "source": [
    "plotOnePeak(calExp.image.array,cx, cy, roi_size=24, vmin=0, vmax= 10, doBck=False, verbose=True)"
   ]
  },
  {
   "cell_type": "code",
   "execution_count": null,
   "metadata": {},
   "outputs": [],
   "source": []
  },
  {
   "cell_type": "code",
   "execution_count": null,
   "metadata": {},
   "outputs": [],
   "source": [
    "range(len(pdf))"
   ]
  },
  {
   "cell_type": "code",
   "execution_count": null,
   "metadata": {},
   "outputs": [],
   "source": [
    "print(f\"{drpPath}/{repo}/rerun/{rerun}\")\n",
    "butler = dafPersist.Butler(f\"{drpPath}/{repo}/rerun/{rerun}\")\n"
   ]
  },
  {
   "cell_type": "code",
   "execution_count": null,
   "metadata": {},
   "outputs": [],
   "source": [
    "plt.ion()"
   ]
  },
  {
   "cell_type": "code",
   "execution_count": null,
   "metadata": {},
   "outputs": [],
   "source": [
    "for ind in range(len(pdf)):\n",
    "    visitId = int(pdf.visit.iloc[ind])\n",
    "    print(visitId)\n",
    "    print(pdf.wavelength.iloc[ind])\n",
    "    print(pdf.fiber.iloc[ind])\n",
    "    calExp = butler.get(\"calexp\", visit=visitId, arm=arm)\n",
    "    cx = pdf.px.iloc[ind]\n",
    "    cy = pdf.py.iloc[ind]\n",
    "    print(cx,cy)\n",
    "    plotOnePeak(calExp.image.array,cx, cy, roi_size=24, vmin=0, vmax= 10, doBck=False, verbose=True)\n"
   ]
  },
  {
   "cell_type": "code",
   "execution_count": null,
   "metadata": {},
   "outputs": [],
   "source": []
  }
 ],
 "metadata": {
  "jupytext": {
   "text_representation": {
    "extension": ".py",
    "format_name": "light",
    "format_version": "1.5",
    "jupytext_version": "1.3.4"
   }
  },
  "kernelspec": {
   "display_name": "Python 3",
   "language": "python",
   "name": "python3"
  },
  "language_info": {
   "codemirror_mode": {
    "name": "ipython",
    "version": 3
   },
   "file_extension": ".py",
   "mimetype": "text/x-python",
   "name": "python",
   "nbconvert_exporter": "python",
   "pygments_lexer": "ipython3",
   "version": "3.7.2"
  }
 },
 "nbformat": 4,
 "nbformat_minor": 4
}
