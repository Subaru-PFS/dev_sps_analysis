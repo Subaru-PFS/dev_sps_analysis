{
 "cells": [
  {
   "cell_type": "code",
   "execution_count": 1,
   "metadata": {},
   "outputs": [],
   "source": [
    "# DRP lsst stack\n",
    "from pfs.drp.stella import DetectorMap\n",
    "import lsst.daf.persistence as dafPersist\n",
    "import lsst.afw.display as afwDisplay\n",
    "from  pfs.utils.dummyCableB import DummyCableBDatabase\n",
    "import lsst.geom as geom"
   ]
  },
  {
   "cell_type": "code",
   "execution_count": 2,
   "metadata": {},
   "outputs": [],
   "source": [
    "import sep\n",
    "import pandas as pd\n",
    "import numpy as np"
   ]
  },
  {
   "cell_type": "code",
   "execution_count": 3,
   "metadata": {},
   "outputs": [],
   "source": [
    "import matplotlib.pyplot as plt\n",
    "#plt.style.use('dark_background')\n",
    "from matplotlib import style\n",
    "style.use('ggplot')"
   ]
  },
  {
   "cell_type": "code",
   "execution_count": 4,
   "metadata": {},
   "outputs": [],
   "source": [
    "imgPath = '/home/fmadec/Pictures/analysis/'"
   ]
  },
  {
   "cell_type": "markdown",
   "metadata": {},
   "source": [
    "# Define DRP repository \n",
    "main folder, rerun ...\n"
   ]
  },
  {
   "cell_type": "code",
   "execution_count": 5,
   "metadata": {},
   "outputs": [],
   "source": [
    "drpPath = \"/home/fmadec/pfs/subaruData\"\n",
    "\n",
    "rerun = \"sm1-march2020\"\n",
    "repo = \"drp\"\n"
   ]
  },
  {
   "cell_type": "markdown",
   "metadata": {},
   "source": [
    "## Choose visit Id"
   ]
  },
  {
   "cell_type": "code",
   "execution_count": 63,
   "metadata": {},
   "outputs": [],
   "source": [
    "cam = \"r1\"\n",
    "dmapvisitId = 2365\n",
    "visitId = 2336\n",
    "\n",
    "waveLow = 630\n",
    "waveHigh = 970"
   ]
  },
  {
   "cell_type": "code",
   "execution_count": 155,
   "metadata": {},
   "outputs": [],
   "source": [
    "cam = \"b1\"\n",
    "dmapvisitId = 1833\n",
    "visitId = 1833\n",
    "\n",
    "waveLow = 380\n",
    "waveHigh = 650"
   ]
  },
  {
   "cell_type": "code",
   "execution_count": 6,
   "metadata": {},
   "outputs": [],
   "source": [
    "cam = \"m1\"\n",
    "dmapvisitId = 3451\n",
    "visitId = 3451\n",
    "\n",
    "waveLow = 704\n",
    "waveHigh = 894\n"
   ]
  },
  {
   "cell_type": "code",
   "execution_count": 156,
   "metadata": {},
   "outputs": [],
   "source": [
    "arm = cam[0]\n",
    "sm = int(cam[1])"
   ]
  },
  {
   "cell_type": "markdown",
   "metadata": {},
   "source": [
    "# SPS-REQ-303 Image centering and spectrum orientation\n",
    "## Requirement\n",
    "SPS-REQ-303: The produced image shall be centered with respect to the detector array center to within +/-250µm in the spatial and spectral directions. The spectrum shall be aligned with a row of pixels to within 60microns.\n",
    "\n"
   ]
  },
  {
   "cell_type": "code",
   "execution_count": 157,
   "metadata": {},
   "outputs": [],
   "source": [
    "naxis1 = 4096 #px\n",
    "naxis2 = 4176 #px\n",
    "pix_size = 15 #µm"
   ]
  },
  {
   "cell_type": "code",
   "execution_count": 158,
   "metadata": {},
   "outputs": [
    {
     "name": "stdout",
     "output_type": "stream",
     "text": [
      "spec 16.67 px \n",
      "row spec 4.00 px \n"
     ]
    }
   ],
   "source": [
    "center_spec = 250\n",
    "# spatial direction\n",
    "center_spec_px = center_spec / pix_size\n",
    "print(f\"spec {center_spec_px:.2f} px \")\n",
    "\n",
    "# spectrum \n",
    "vertical_spec = 60\n",
    "\n",
    "row_spec_px = vertical_spec / pix_size\n",
    "print(f\"row spec {row_spec_px:.2f} px \")"
   ]
  },
  {
   "cell_type": "markdown",
   "metadata": {},
   "source": [
    "# Butlers"
   ]
  },
  {
   "cell_type": "markdown",
   "metadata": {},
   "source": [
    "## run butlers"
   ]
  },
  {
   "cell_type": "code",
   "execution_count": 159,
   "metadata": {},
   "outputs": [],
   "source": [
    "butler = dafPersist.Butler(f\"{drpPath}/{repo}/rerun/{rerun}/detrend/\")\n",
    "calExp = butler.get(\"calexp\", visit=visitId, arm=arm)"
   ]
  },
  {
   "cell_type": "code",
   "execution_count": 160,
   "metadata": {},
   "outputs": [],
   "source": [
    "butlerdMap = dafPersist.Butler(f\"{drpPath}/{repo}/\")\n",
    "dMap = butlerdMap.get(\"detectorMap\", visit0=dmapvisitId, spectrograph=sm, arm=arm, immediate=True)"
   ]
  },
  {
   "cell_type": "markdown",
   "metadata": {},
   "source": [
    "## example how to get some information on visit\n"
   ]
  },
  {
   "cell_type": "markdown",
   "metadata": {},
   "source": [
    "### lamps used"
   ]
  },
  {
   "cell_type": "code",
   "execution_count": 161,
   "metadata": {},
   "outputs": [
    {
     "name": "stdout",
     "output_type": "stream",
     "text": [
      "['HgAr']\n"
     ]
    }
   ],
   "source": [
    "rbutler = dafPersist.Butler(f\"{drpPath}/{repo}/\")\n",
    "rbutler.getKeys('raw')\n",
    "lamps = rbutler.queryMetadata('raw', ['lamps'], visit=visitId, arm=arm) \n",
    "print(lamps)"
   ]
  },
  {
   "cell_type": "markdown",
   "metadata": {},
   "source": [
    "### exposure time"
   ]
  },
  {
   "cell_type": "code",
   "execution_count": 162,
   "metadata": {},
   "outputs": [
    {
     "name": "stdout",
     "output_type": "stream",
     "text": [
      "[2.0]\n"
     ]
    }
   ],
   "source": [
    "exptime = rbutler.queryMetadata('raw', ['exptime'], visit=visitId, arm=arm) \n",
    "print(exptime)"
   ]
  },
  {
   "cell_type": "markdown",
   "metadata": {},
   "source": [
    "# Retrieve pfsConfig \n",
    "list of fibers used for SpS"
   ]
  },
  {
   "cell_type": "code",
   "execution_count": 164,
   "metadata": {},
   "outputs": [
    {
     "name": "stdout",
     "output_type": "stream",
     "text": [
      "['green', 'red1', 'red4', 'red8']\n",
      "[  2  63 192 255 339 401 464 525 587 650]\n"
     ]
    }
   ],
   "source": [
    "pfsConfig = butler.get(\"pfsConfig\", visit=visitId)\n",
    "pfsConfig.pfsDesignId\n",
    "\n",
    "dcb = DummyCableBDatabase()\n",
    "fiberSetup = dcb.interpret(pfsConfig.pfsDesignId)\n",
    "print(fiberSetup)\n",
    "fiberIds = dcb.getFiberIds(*fiberSetup)\n",
    "print(fiberIds)"
   ]
  },
  {
   "cell_type": "markdown",
   "metadata": {},
   "source": [
    "# Display image"
   ]
  },
  {
   "cell_type": "code",
   "execution_count": 165,
   "metadata": {},
   "outputs": [],
   "source": [
    "display = afwDisplay.Display(2)"
   ]
  },
  {
   "cell_type": "markdown",
   "metadata": {},
   "source": [
    "## Masks color"
   ]
  },
  {
   "cell_type": "code",
   "execution_count": 166,
   "metadata": {},
   "outputs": [
    {
     "name": "stdout",
     "output_type": "stream",
     "text": [
      "BAD: red\n",
      "BAD_FLAT: None\n",
      "CR: magenta\n",
      "DETECTED: blue\n",
      "DETECTED_NEGATIVE: cyan\n",
      "EDGE: yellow\n",
      "FIBERTRACE: None\n",
      "INTRP: green\n",
      "NO_DATA: orange\n",
      "REJECTED_LINES: None\n",
      "SAT: green\n",
      "SUSPECT: yellow\n",
      "UNMASKEDNAN: None\n"
     ]
    }
   ],
   "source": [
    "# Interpreting displayed mask colors\n",
    "mask = calExp.getMask()\n",
    "for maskName, maskBit in mask.getMaskPlaneDict().items():\n",
    "    print('{}: {}'.format(maskName, display.getMaskPlaneColor(maskName)))"
   ]
  },
  {
   "cell_type": "code",
   "execution_count": 167,
   "metadata": {},
   "outputs": [],
   "source": [
    "maskPlane = \"BAD\"\n",
    "calExp.getMaskedImage().getMask().addMaskPlane(maskPlane)\n",
    "display.setMaskPlaneColor(maskPlane, \"IGNORE\")"
   ]
  },
  {
   "cell_type": "code",
   "execution_count": 168,
   "metadata": {},
   "outputs": [
    {
     "name": "stdout",
     "output_type": "stream",
     "text": [
      "BAD: IGNORE\n",
      "BAD_FLAT: IGNORE\n",
      "CR: IGNORE\n",
      "DETECTED: IGNORE\n",
      "DETECTED_NEGATIVE: IGNORE\n",
      "EDGE: IGNORE\n",
      "FIBERTRACE: IGNORE\n",
      "INTRP: IGNORE\n",
      "NO_DATA: IGNORE\n",
      "REJECTED_LINES: IGNORE\n",
      "SAT: IGNORE\n",
      "SUSPECT: IGNORE\n",
      "UNMASKEDNAN: IGNORE\n"
     ]
    }
   ],
   "source": [
    "# disable all mask\n",
    "mask = calExp.getMask()\n",
    "for maskName, maskBit in mask.getMaskPlaneDict().items():\n",
    "    display.setMaskPlaneColor(maskName, \"IGNORE\")\n",
    "    print('{}: {}'.format(maskName, display.getMaskPlaneColor(maskName)))"
   ]
  },
  {
   "cell_type": "code",
   "execution_count": 169,
   "metadata": {},
   "outputs": [],
   "source": [
    "maskPlane = \"CR\"\n",
    "calExp.getMaskedImage().getMask().addMaskPlane(maskPlane)\n",
    "display.setMaskPlaneColor(maskPlane, \"magenta\")\n",
    "maskPlane = \"SAT\"\n",
    "calExp.getMaskedImage().getMask().addMaskPlane(maskPlane)\n",
    "display.setMaskPlaneColor(maskPlane, \"green\")"
   ]
  },
  {
   "cell_type": "code",
   "execution_count": 170,
   "metadata": {},
   "outputs": [],
   "source": [
    "# display image\n",
    "display.setMaskTransparency(80)\n",
    "display.mtv(calExp, title=visitId)"
   ]
  },
  {
   "cell_type": "markdown",
   "metadata": {},
   "source": [
    "## Set display scale"
   ]
  },
  {
   "cell_type": "code",
   "execution_count": 171,
   "metadata": {},
   "outputs": [],
   "source": [
    "display.scale(\"linear\", \"zscale\")"
   ]
  },
  {
   "cell_type": "code",
   "execution_count": 20,
   "metadata": {},
   "outputs": [],
   "source": [
    "#dMap.display(display, fiberIds, [630,970])"
   ]
  },
  {
   "cell_type": "code",
   "execution_count": 48,
   "metadata": {},
   "outputs": [
    {
     "data": {
      "text/plain": [
       "array([624.77484, 624.88837, 625.00024, ..., 984.5764 , 984.7596 ,\n",
       "       984.94476], dtype=float32)"
      ]
     },
     "execution_count": 48,
     "metadata": {},
     "output_type": "execute_result"
    }
   ],
   "source": [
    "dMap.getWavelength(315)"
   ]
  },
  {
   "cell_type": "code",
   "execution_count": 49,
   "metadata": {},
   "outputs": [],
   "source": [
    "a = dMap.getXCenter(2)"
   ]
  },
  {
   "cell_type": "code",
   "execution_count": 50,
   "metadata": {},
   "outputs": [
    {
     "data": {
      "text/plain": [
       "Point2D(4019.541145, 89.2621789)"
      ]
     },
     "execution_count": 50,
     "metadata": {},
     "output_type": "execute_result"
    }
   ],
   "source": [
    "dMap.findPoint(2, 630)"
   ]
  },
  {
   "cell_type": "code",
   "execution_count": 172,
   "metadata": {},
   "outputs": [],
   "source": [
    "fibers = [2,650]"
   ]
  },
  {
   "cell_type": "code",
   "execution_count": 52,
   "metadata": {},
   "outputs": [
    {
     "name": "stdout",
     "output_type": "stream",
     "text": [
      "2\n",
      "650\n"
     ]
    }
   ],
   "source": [
    "# Mark FiberTrace centers in image\n",
    "with display.Buffering():\n",
    "    for ft in fibers:\n",
    "        print(ft)\n",
    "        xCenters = dMap.getXCenter(ft)\n",
    "#        ftFunction = ft.getFiberTraceFunction()\n",
    "        yLow = int(dMap.findPoint(ft,630)[1]) #ftFunction.yCenter + ftFunction.yLow\n",
    "        yHigh = int(dMap.findPoint(ft,970)[1]) #ftFunction.yCenter + ftFunction.yHigh\n",
    "\n",
    "        for y in range(yLow, yHigh):\n",
    "            pointA = [xCenters[y-yLow], y]\n",
    "            pointB = [xCenters[y-yLow+1], y+1]\n",
    "            points = [pointA, pointB]\n",
    "            display.line(points, ctype='red')"
   ]
  },
  {
   "cell_type": "code",
   "execution_count": 174,
   "metadata": {},
   "outputs": [],
   "source": [
    "display.erase()"
   ]
  },
  {
   "cell_type": "code",
   "execution_count": 53,
   "metadata": {},
   "outputs": [
    {
     "data": {
      "text/plain": [
       "16.666666666666668"
      ]
     },
     "execution_count": 53,
     "metadata": {},
     "output_type": "execute_result"
    }
   ],
   "source": [
    "250/15."
   ]
  },
  {
   "cell_type": "code",
   "execution_count": null,
   "metadata": {},
   "outputs": [],
   "source": []
  },
  {
   "cell_type": "code",
   "execution_count": null,
   "metadata": {},
   "outputs": [],
   "source": []
  },
  {
   "cell_type": "code",
   "execution_count": 54,
   "metadata": {},
   "outputs": [],
   "source": [
    "ft = 339"
   ]
  },
  {
   "cell_type": "code",
   "execution_count": 55,
   "metadata": {},
   "outputs": [],
   "source": [
    "xCenters = dMap.getXCenter(ft)"
   ]
  },
  {
   "cell_type": "code",
   "execution_count": 56,
   "metadata": {},
   "outputs": [
    {
     "name": "stdout",
     "output_type": "stream",
     "text": [
      "58 4042\n",
      "633.1504516601562\n"
     ]
    },
    {
     "data": {
      "text/plain": [
       "[<matplotlib.lines.Line2D at 0x7fd4e3f62710>]"
      ]
     },
     "execution_count": 56,
     "metadata": {},
     "output_type": "execute_result"
    },
    {
     "data": {
      "image/png": "[encoded data removed]",
      "text/plain": [
       "<Figure size 432x288 with 1 Axes>"
      ]
     },
     "metadata": {},
     "output_type": "display_data"
    }
   ],
   "source": [
    "yLow = int(dMap.findPoint(ft,630).getY()) #ftFunction.yCenter + ftFunction.yLow\n",
    "yHigh = int(dMap.findPoint(ft,970).getY())\n",
    "print(yLow, yHigh)\n",
    "offset = 50\n",
    "print(dMap.findWavelength(ft,yLow+offset ))\n",
    "plt.plot(xCenters[yLow+offset:yHigh],np.arange(yLow+offset, yHigh))"
   ]
  },
  {
   "cell_type": "code",
   "execution_count": 57,
   "metadata": {},
   "outputs": [],
   "source": [
    "waveLow = 380\n",
    "waveHigh = 650"
   ]
  },
  {
   "cell_type": "code",
   "execution_count": 58,
   "metadata": {},
   "outputs": [],
   "source": [
    "waveLow = 704\n",
    "waveHigh = 894"
   ]
  },
  {
   "cell_type": "code",
   "execution_count": 40,
   "metadata": {},
   "outputs": [
    {
     "ename": "NameError",
     "evalue": "name 'waveband' is not defined",
     "output_type": "error",
     "traceback": [
      "\u001b[0;31m---------------------------------------------------------------------------\u001b[0m",
      "\u001b[0;31mNameError\u001b[0m                                 Traceback (most recent call last)",
      "\u001b[0;32m<ipython-input-40-d6f8d191fb82>\u001b[0m in \u001b[0;36m<module>\u001b[0;34m\u001b[0m\n\u001b[0;32m----> 1\u001b[0;31m \u001b[0mwMean\u001b[0m \u001b[0;34m=\u001b[0m \u001b[0mnp\u001b[0m\u001b[0;34m.\u001b[0m\u001b[0mmean\u001b[0m\u001b[0;34m(\u001b[0m\u001b[0mwaveband\u001b[0m\u001b[0;34m)\u001b[0m\u001b[0;34m\u001b[0m\u001b[0;34m\u001b[0m\u001b[0m\n\u001b[0m\u001b[1;32m      2\u001b[0m \u001b[0mprint\u001b[0m\u001b[0;34m(\u001b[0m\u001b[0mwMean\u001b[0m\u001b[0;34m)\u001b[0m\u001b[0;34m\u001b[0m\u001b[0;34m\u001b[0m\u001b[0m\n",
      "\u001b[0;31mNameError\u001b[0m: name 'waveband' is not defined"
     ]
    }
   ],
   "source": [
    "wMean = np.mean(waveband)\n",
    "print(wMean)"
   ]
  },
  {
   "cell_type": "code",
   "execution_count": 59,
   "metadata": {},
   "outputs": [],
   "source": [
    "xwMean = []\n",
    "for f in dMap.getFiberId():\n",
    "    xwMean.append(dMap.findPoint(f,630).getX()) "
   ]
  },
  {
   "cell_type": "code",
   "execution_count": 60,
   "metadata": {},
   "outputs": [
    {
     "data": {
      "text/plain": [
       "[<matplotlib.lines.Line2D at 0x7fd46423cd68>]"
      ]
     },
     "execution_count": 60,
     "metadata": {},
     "output_type": "execute_result"
    },
    {
     "data": {
      "image/png": "[encoded data removed]",
      "text/plain": [
       "<Figure size 432x288 with 1 Axes>"
      ]
     },
     "metadata": {},
     "output_type": "display_data"
    }
   ],
   "source": [
    "plt.plot(xwMean)"
   ]
  },
  {
   "cell_type": "code",
   "execution_count": null,
   "metadata": {},
   "outputs": [],
   "source": []
  },
  {
   "cell_type": "code",
   "execution_count": 173,
   "metadata": {},
   "outputs": [],
   "source": [
    "edgeX = []\n",
    "edgeY = []\n",
    "\n",
    "for f in dMap.getFiberId():\n",
    "    edgeX.append(dMap.findPoint(f,waveLow).getX())\n",
    "    edgeY.append(dMap.findPoint(f,waveLow).getY()) "
   ]
  },
  {
   "cell_type": "code",
   "execution_count": 174,
   "metadata": {},
   "outputs": [
    {
     "data": {
      "text/plain": [
       "[<matplotlib.lines.Line2D at 0x7fd47b6ea198>]"
      ]
     },
     "execution_count": 174,
     "metadata": {},
     "output_type": "execute_result"
    },
    {
     "data": {
      "image/png": "[encoded data removed]",
      "text/plain": [
       "<Figure size 432x288 with 1 Axes>"
      ]
     },
     "metadata": {},
     "output_type": "display_data"
    }
   ],
   "source": [
    "plt.plot(edgeX, edgeY)"
   ]
  },
  {
   "cell_type": "code",
   "execution_count": 175,
   "metadata": {},
   "outputs": [],
   "source": [
    "edgeX = []\n",
    "edgeY = []\n",
    "\n",
    "for f in dMap.getFiberId():\n",
    "    edgeX.append(dMap.findPoint(f,waveHigh).getX())\n",
    "    edgeY.append(dMap.findPoint(f,waveHigh).getY()) "
   ]
  },
  {
   "cell_type": "code",
   "execution_count": 176,
   "metadata": {},
   "outputs": [
    {
     "data": {
      "text/plain": [
       "[<matplotlib.lines.Line2D at 0x7fd47b6bb320>]"
      ]
     },
     "execution_count": 176,
     "metadata": {},
     "output_type": "execute_result"
    },
    {
     "data": {
      "image/png": "[encoded data removed]",
      "text/plain": [
       "<Figure size 432x288 with 1 Axes>"
      ]
     },
     "metadata": {},
     "output_type": "display_data"
    }
   ],
   "source": [
    "plt.plot(edgeX, edgeY)"
   ]
  },
  {
   "cell_type": "code",
   "execution_count": 177,
   "metadata": {},
   "outputs": [
    {
     "data": {
      "text/plain": [
       "array([ 0,  1,  2,  3,  4,  5,  6,  7,  8,  9, 10, 11, 12, 13, 14, 15, 16,\n",
       "       17, 18, 19])"
      ]
     },
     "execution_count": 177,
     "metadata": {},
     "output_type": "execute_result"
    }
   ],
   "source": [
    "np.arange(0,20)"
   ]
  },
  {
   "cell_type": "code",
   "execution_count": 178,
   "metadata": {},
   "outputs": [
    {
     "name": "stdout",
     "output_type": "stream",
     "text": [
      "72 4088\n",
      "379.9746398925781\n",
      "75 4088\n",
      "379.9665222167969\n"
     ]
    },
    {
     "data": {
      "text/plain": [
       "(1, 4176)"
      ]
     },
     "execution_count": 178,
     "metadata": {},
     "output_type": "execute_result"
    },
    {
     "data": {
      "image/png": "[encoded data removed]",
      "text/plain": [
       "<Figure size 432x288 with 1 Axes>"
      ]
     },
     "metadata": {},
     "output_type": "display_data"
    }
   ],
   "source": [
    "ft = 2\n",
    "xCenters = dMap.getXCenter(ft)\n",
    "yLow = int(dMap.findPoint(ft,waveLow).getY()) #ftFunction.yCenter + ftFunction.yLow\n",
    "yHigh = int(dMap.findPoint(ft,waveHigh).getY())\n",
    "print(yLow, yHigh)\n",
    "offset = 0\n",
    "print(dMap.findWavelength(ft,yLow+offset ))\n",
    "plt.plot(xCenters[yLow+offset:yHigh], np.arange(yLow, yHigh))\n",
    "\n",
    "ft = 650\n",
    "xCenters = dMap.getXCenter(ft)\n",
    "yLow = int(dMap.findPoint(ft,waveLow).getY()) #ftFunction.yCenter + ftFunction.yLow\n",
    "yHigh = int(dMap.findPoint(ft,waveHigh).getY())\n",
    "print(yLow, yHigh)\n",
    "offset = 0\n",
    "print(dMap.findWavelength(ft,yLow+offset ))\n",
    "plt.plot(xCenters[yLow+offset:yHigh], np.arange(yLow, yHigh))\n",
    "\n",
    "edgeX = []\n",
    "edgeY = []\n",
    "\n",
    "for f in dMap.getFiberId():\n",
    "    edgeX.append(dMap.findPoint(f,waveLow).getX())\n",
    "    edgeY.append(dMap.findPoint(f,waveLow).getY()) \n",
    "plt.plot(edgeX, edgeY)\n",
    "\n",
    "edgeX = []\n",
    "edgeY = []\n",
    "\n",
    "for f in dMap.getFiberId():\n",
    "    edgeX.append(dMap.findPoint(f,waveHigh).getX())\n",
    "    edgeY.append(dMap.findPoint(f,waveHigh).getY()) \n",
    "plt.plot(edgeX, edgeY)\n",
    "\n",
    "plt.xlim(1,4095 )\n",
    "plt.ylim(1,4176 )\n"
   ]
  },
  {
   "cell_type": "code",
   "execution_count": 47,
   "metadata": {},
   "outputs": [],
   "source": [
    "display.erase()"
   ]
  },
  {
   "cell_type": "code",
   "execution_count": 48,
   "metadata": {
    "lines_to_next_cell": 2
   },
   "outputs": [
    {
     "name": "stdout",
     "output_type": "stream",
     "text": [
      "2\n",
      "650\n"
     ]
    }
   ],
   "source": [
    "fibers = [2, 650]\n",
    "with display.Buffering():\n",
    "    for ft in fibers:\n",
    "        print(ft)\n",
    "        xCenters = dMap.getXCenter(ft)\n",
    "#        ftFunction = ft.getFiberTraceFunction()\n",
    "        yLow = int(dMap.findPoint(ft,waveLow).getY()) #ftFunction.yCenter + ftFunction.yLow\n",
    "        yHigh = int(dMap.findPoint(ft,waveHigh).getY())\n",
    "        for y in range(yLow, yHigh):\n",
    "            pointA = [xCenters[y-yLow], y]\n",
    "            if xCenters[y-yLow] < np.median(xCenters)+12:\n",
    "                pointB = [xCenters[y-yLow+1], y+1]\n",
    "                points = [pointA, pointB]\n",
    "                display.line(points, ctype='red')"
   ]
  },
  {
   "cell_type": "code",
   "execution_count": 49,
   "metadata": {},
   "outputs": [
    {
     "name": "stdout",
     "output_type": "stream",
     "text": [
      "704\n",
      "894\n"
     ]
    }
   ],
   "source": [
    "waves = [waveLow,waveHigh]\n",
    "with display.Buffering():\n",
    "    for wave in waves:\n",
    "        print(wave)\n",
    "        for f in dMap.getFiberId():\n",
    "            x = int(dMap.findPoint(f,wave).getX())\n",
    "            y = int(dMap.findPoint(f,wave).getY())\n",
    "            display.dot(\"-\",\n",
    "                        x,\n",
    "                        y,\n",
    "                        ctype='green')"
   ]
  },
  {
   "cell_type": "code",
   "execution_count": 113,
   "metadata": {},
   "outputs": [
    {
     "data": {
      "text/plain": [
       "array([2076.5654, 2076.565 , 2076.5647, ..., 2077.429 , 2077.43  ,\n",
       "       2077.4307], dtype=float32)"
      ]
     },
     "execution_count": 113,
     "metadata": {},
     "output_type": "execute_result"
    }
   ],
   "source": [
    "xCenters"
   ]
  },
  {
   "cell_type": "markdown",
   "metadata": {},
   "source": [
    "\n",
    "# SPS-REQ-303 Image centering and spectrum orientation\n",
    "## Requirement\n",
    "\n",
    "SPS-REQ-303: The produced image shall be centered with respect to the detector array center to within +/-250m in the spatial and spectral directions. The spectrum shall be aligned with a row of pixels to within 60microns.\n",
    "\n"
   ]
  },
  {
   "cell_type": "markdown",
   "metadata": {},
   "source": [
    "# Spectral alignment \n"
   ]
  },
  {
   "cell_type": "code",
   "execution_count": 180,
   "metadata": {},
   "outputs": [
    {
     "data": {
      "image/png": "[encoded data removed]",
      "text/plain": [
       "<Figure size 432x288 with 1 Axes>"
      ]
     },
     "metadata": {},
     "output_type": "display_data"
    }
   ],
   "source": [
    "ft= 315\n",
    "w = dMap.getWavelength(ft)\n",
    "xCenters = dMap.getXCenter(ft)\n",
    "#plt.xlim(xCenters.mean() - row_spec_px -0.5, xCenters.mean() + row_spec_px +0.5)\n",
    "plt.plot(xCenters, w)\n",
    "#plt.vlines([xCenters.mean() - row_spec_px, xCenters.mean() + row_spec_px], waveLow, waveHigh )\n",
    "plt.xlabel(\"Pixel\")\n",
    "plt.ylabel(\"Wavelength (nm)\")\n",
    "spec_align_deviation = np.abs(np.min(xCenters)-np.max(xCenters))\n",
    "plt.annotate(f\"MinMax {spec_align_deviation:.2f}px\", (0.7, 0.25), xycoords=\"figure fraction\")\n",
    "plt.title(f\"{cam.upper()} spectrum alignment - fiber {ft} \\n detectorMap {dmapvisitId}\")\n",
    "plt.savefig(imgPath+f\"{cam.upper()}specAlign_f{ft}-detectorMap{dmapvisitId}\"+\".png\", bbox_inches = \"tight\")"
   ]
  },
  {
   "cell_type": "code",
   "execution_count": 181,
   "metadata": {
    "lines_to_next_cell": 2
   },
   "outputs": [],
   "source": [
    "ft = 2\n",
    "yLow_fib2 = int(dMap.findPoint(ft,waveLow).getY()) #ftFunction.yCenter + ftFunction.yLow\n",
    "yHigh_fib2 = int(dMap.findPoint(ft,waveHigh).getY())\n",
    "\n",
    "ft = 650\n",
    "yLow_fib650 = int(dMap.findPoint(ft,waveLow).getY()) #ftFunction.yCenter + ftFunction.yLow\n",
    "yHigh_fib650 = int(dMap.findPoint(ft,waveHigh).getY())\n"
   ]
  },
  {
   "cell_type": "code",
   "execution_count": 182,
   "metadata": {},
   "outputs": [
    {
     "name": "stdout",
     "output_type": "stream",
     "text": [
      "79 92\n",
      "spatial decenter: -13px\n",
      "spectral decenter: 13px\n",
      "spectral decenter: 16px\n"
     ]
    }
   ],
   "source": [
    "waveMid = waveLow + (waveHigh - waveLow) /2.\n",
    "ft = 2\n",
    "xMed_fib2 = int(dMap.findPoint(ft,waveMid).getX()) #ftFunction.yCenter + ftFunction.yLow\n",
    "\n",
    "ft = 650\n",
    "xMed_fib650 = int(dMap.findPoint(ft,waveMid).getX()) #ftFunction.yCenter + ftFunction.yLow\n",
    "\n",
    "print(naxis1 - xMed_fib2, xMed_fib650)\n",
    "\n",
    "# decenter is given by comparing the margin there between the side of the detector and spectrum of the 2 extermes sciences fibers 2 and 650\n",
    "# xdim so naxis1 - x of fiber #2 for center wave \n",
    "# \n",
    "\n",
    "spatial_decenter = (naxis1 - xMed_fib2) - xMed_fib650\n",
    "print(f\"spatial decenter: {spatial_decenter}px\")\n",
    "\n",
    "ft = 650\n",
    "yHigh_fib339 = int(dMap.findPoint(ft,waveLow).getY())\n",
    "yLow_fib339 = int(dMap.findPoint(ft,waveHigh).getY())\n",
    "\n",
    "spectral_decenter_ft650 = (naxis2 - yHigh_fib339) - yLow_fib339\n",
    "print(f\"spectral decenter: {spectral_decenter_ft650}px\")\n",
    "\n",
    "ft = 2\n",
    "yHigh_fib339 = int(dMap.findPoint(ft,waveLow).getY())\n",
    "yLow_fib339 = int(dMap.findPoint(ft,waveHigh).getY())\n",
    "\n",
    "spectral_decenter_ft2 = (naxis2 - yHigh_fib339) - yLow_fib339\n",
    "print(f\"spectral decenter: {spectral_decenter_ft2}px\")"
   ]
  },
  {
   "cell_type": "code",
   "execution_count": 183,
   "metadata": {},
   "outputs": [
    {
     "data": {
      "text/plain": [
       "3925"
      ]
     },
     "execution_count": 183,
     "metadata": {},
     "output_type": "execute_result"
    }
   ],
   "source": [
    "xMed_fib2 - xMed_fib650"
   ]
  },
  {
   "cell_type": "code",
   "execution_count": 184,
   "metadata": {},
   "outputs": [
    {
     "name": "stdout",
     "output_type": "stream",
     "text": [
      "72 4088\n",
      "379.9746398925781\n",
      "75 4088\n",
      "379.9665222167969\n"
     ]
    },
    {
     "data": {
      "image/png": "[encoded data removed]",
      "text/plain": [
       "<Figure size 864x576 with 2 Axes>"
      ]
     },
     "metadata": {},
     "output_type": "display_data"
    }
   ],
   "source": [
    "fig, ax = plt.subplots(figsize=(12,8))\n",
    "ft = 2\n",
    "xCenters = dMap.getXCenter(ft)\n",
    "yLow = int(dMap.findPoint(ft,waveLow).getY()) #ftFunction.yCenter + ftFunction.yLow\n",
    "yHigh = int(dMap.findPoint(ft,waveHigh).getY())\n",
    "print(yLow, yHigh)\n",
    "offset = 0\n",
    "print(dMap.findWavelength(ft,yLow+offset ))\n",
    "ax.plot(xCenters[yLow+offset:yHigh], np.arange(yLow, yHigh), color=\"red\")\n",
    "ax.annotate(f\"fiber {ft}\",  xy=(.85,.5),xycoords=\"figure fraction\", color=\"red\")\n",
    "ax2 =ax.twinx()\n",
    "xCenters = dMap.getXCenter(ft)\n",
    "w = dMap.getWavelength(ft)\n",
    "ax2.plot(xCenters[yLow+offset:yHigh], w[yLow+offset:yHigh], color=\"red\")\n",
    "\n",
    "\n",
    "ft = 650\n",
    "xCenters = dMap.getXCenter(ft)\n",
    "yLow = int(dMap.findPoint(ft,waveLow).getY()) #ftFunction.yCenter + ftFunction.yLow\n",
    "yHigh = int(dMap.findPoint(ft,waveHigh).getY())\n",
    "print(yLow, yHigh)\n",
    "offset = 0\n",
    "print(dMap.findWavelength(ft,yLow+offset ))\n",
    "ax.plot(xCenters[yLow+offset:yHigh], np.arange(yLow, yHigh), color=\"blue\")\n",
    "ax.annotate(f\"fiber {ft}\",  xy=(.1,.5),xycoords=\"figure fraction\", color=\"blue\")\n",
    "xCenters = dMap.getXCenter(ft)\n",
    "w = dMap.getWavelength(ft)\n",
    "ax2.plot(xCenters[yLow+offset:yHigh], w[yLow+offset:yHigh], color=\"blue\")\n",
    "\n",
    "edgeX = []\n",
    "edgeY = []\n",
    "\n",
    "for f in dMap.getFiberId():\n",
    "    edgeX.append(dMap.findPoint(f,waveLow).getX())\n",
    "    edgeY.append(dMap.findPoint(f,waveLow).getY()) \n",
    "ax.plot(edgeX, edgeY, color=\"green\")\n",
    "ax.annotate(f\"{waveLow}nm\",  xy=(.5,.1),xycoords=\"figure fraction\", color=\"green\")\n",
    "\n",
    "#ax3 = ax.twiny()\n",
    "#ax3.plot(dMap.getFiberId(), edgeY)\n",
    "edgeX = []\n",
    "edgeY = []\n",
    "\n",
    "for f in dMap.getFiberId():\n",
    "    edgeX.append(dMap.findPoint(f,waveHigh).getX())\n",
    "    edgeY.append(dMap.findPoint(f,waveHigh).getY()) \n",
    "ax.plot(edgeX, edgeY, color=\"purple\")\n",
    "ax.annotate(f\"{waveHigh}nm\",  xy=(.5,.9),xycoords=\"figure fraction\", color=\"purple\")\n",
    "\n",
    "#ax3.plot(dMap.getFiberId(), edgeY)\n",
    "\n",
    "ax.set_xlim(1,4095 )\n",
    "ax.set_ylim(1,4176 )\n",
    "#ax3.set_xlim(dMap.getFiberId()[-1], dMap.getFiberId()[0])\n",
    "ax.set_xlabel(\"pixel x\")\n",
    "ax.set_ylabel(\"pixel y\")\n",
    "ax2.set_ylabel(\"Wavelength (nm)\")\n",
    "plt.annotate(f\"Spatial decenter at mid wavelength {waveMid:.1f}nm = {spatial_decenter}px ({spatial_decenter*pix_size:.1f}µm)\", (0.3, 0.5), xycoords=\"figure fraction\")\n",
    "plt.annotate(f\"Spectral decenter at \\n(fiber 2, {waveLow:.1f}nm) = {spectral_decenter_ft2}px ({spectral_decenter_ft2*pix_size:.1f}µm)\", (0.65, 0.2), xycoords=\"figure fraction\")\n",
    "plt.annotate(f\"Spectral decenter at \\n(fiber 650, {waveLow:.1f}nm) = {spectral_decenter_ft650}px ({spectral_decenter_ft650*pix_size:.1f}µm)\", (0.15, 0.2), xycoords=\"figure fraction\")\n",
    "\n",
    "plt.title(f\"{cam.upper()} centering - detectorMap {dmapvisitId}\")\n",
    "plt.savefig(imgPath+f\"{cam.upper()}centering-detectorMap{dmapvisitId}\"+\".png\", bbox_inches = \"tight\")"
   ]
  },
  {
   "cell_type": "code",
   "execution_count": 65,
   "metadata": {},
   "outputs": [
    {
     "name": "stdout",
     "output_type": "stream",
     "text": [
      "2\n",
      "650\n"
     ]
    }
   ],
   "source": [
    "# Mark FiberTrace centers in image\n",
    "with display.Buffering():\n",
    "    for ft in fibers:\n",
    "        print(ft)\n",
    "        xCenters = dMap.getXCenter(ft)\n",
    "#        ftFunction = ft.getFiberTraceFunction()\n",
    "        yLow = int(dMap.findPoint(ft,waveLow)[1]) #ftFunction.yCenter + ftFunction.yLow\n",
    "        yHigh = int(dMap.findPoint(ft,waveHigh)[1]) #ftFunction.yCenter + ftFunction.yHigh\n",
    "\n",
    "        for y in range(yLow, yHigh):\n",
    "            pointA = [xCenters[y-yLow], y]\n",
    "            pointB = [xCenters[y-yLow+1], y+1]\n",
    "            points = [pointA, pointB]\n",
    "            display.line(points, ctype='red')"
   ]
  },
  {
   "cell_type": "code",
   "execution_count": null,
   "metadata": {},
   "outputs": [],
   "source": [
    "display."
   ]
  },
  {
   "cell_type": "code",
   "execution_count": null,
   "metadata": {},
   "outputs": [],
   "source": []
  },
  {
   "cell_type": "code",
   "execution_count": null,
   "metadata": {},
   "outputs": [],
   "source": []
  },
  {
   "cell_type": "code",
   "execution_count": 66,
   "metadata": {},
   "outputs": [],
   "source": [
    "edgeX = []\n",
    "edgeY = []\n",
    "\n",
    "for f in dMap.getFiberId():\n",
    "    edgeX.append(dMap.findPoint(f,970).getX())\n",
    "    edgeY.append(dMap.findPoint(f,970).getY()) "
   ]
  },
  {
   "cell_type": "code",
   "execution_count": 67,
   "metadata": {},
   "outputs": [
    {
     "data": {
      "text/plain": [
       "Point2D(65.03744332, 4106.40019)"
      ]
     },
     "execution_count": 67,
     "metadata": {},
     "output_type": "execute_result"
    }
   ],
   "source": [
    "dMap.findPoint(ft,970)"
   ]
  },
  {
   "cell_type": "code",
   "execution_count": 68,
   "metadata": {},
   "outputs": [],
   "source": [
    "mask = calExp.mask.array\n",
    "data = calExp.image.array\n",
    "threshold = 1000\n",
    "objects = sep.extract(data , threshold, mask=mask) #, filter_kerneµl=None)"
   ]
  },
  {
   "cell_type": "code",
   "execution_count": 69,
   "metadata": {},
   "outputs": [],
   "source": [
    "with display.Buffering():\n",
    "    for i in range(len(objects)):\n",
    "        display.dot(\"+\",\n",
    "                   objects['x'][i],\n",
    "                   objects['y'][i],\n",
    "                   ctype=\"green\")\n",
    "        display.dot(\"O\",\n",
    "                   objects['x'][i],\n",
    "                   objects['y'][i],\n",
    "                   ctype=\"green\")"
   ]
  },
  {
   "cell_type": "code",
   "execution_count": 105,
   "metadata": {},
   "outputs": [],
   "source": [
    "df = pd.DataFrame(objects, columns=objects.dtype.names)"
   ]
  },
  {
   "cell_type": "code",
   "execution_count": 106,
   "metadata": {},
   "outputs": [],
   "source": [
    "df = df.rename(columns={'x': 'px','y': 'py', 'peak': 'brightness'})"
   ]
  },
  {
   "cell_type": "code",
   "execution_count": 107,
   "metadata": {},
   "outputs": [],
   "source": [
    "df[\"fiber\"]= df.apply(lambda x: dMap.findFiberId(geom.Point2D(float(x[\"px\"]), float(x[\"py\"]))), axis=1)"
   ]
  },
  {
   "cell_type": "code",
   "execution_count": 108,
   "metadata": {},
   "outputs": [],
   "source": [
    "df[\"wavelength\"]= df.apply(lambda x: dMap.getWavelength(int(x[\"fiber\"]), float(x[\"py\"])), axis=1)"
   ]
  },
  {
   "cell_type": "code",
   "execution_count": null,
   "metadata": {},
   "outputs": [],
   "source": []
  },
  {
   "cell_type": "code",
   "execution_count": 115,
   "metadata": {},
   "outputs": [],
   "source": [
    "fiber = 339"
   ]
  },
  {
   "cell_type": "code",
   "execution_count": 116,
   "metadata": {},
   "outputs": [
    {
     "data": {
      "image/png": "[encoded data removed]",
      "text/plain": [
       "<Figure size 432x288 with 1 Axes>"
      ]
     },
     "metadata": {},
     "output_type": "display_data"
    }
   ],
   "source": [
    "ax = df[(df.flag <1) & (df.fiber == fiber)].plot.scatter(x=\"px\", y=\"py\")\n",
    "#ax2 = ax.twiny()\n",
    "#df[df.fiber == fiber].plot.scatter(x=\"py\", y=\"brightness\", ax=ax2)\n",
    "#ax.hlines(2000, df.wavelength.min(), df.wavelength.max(), colors=\"r\")"
   ]
  },
  {
   "cell_type": "code",
   "execution_count": null,
   "metadata": {},
   "outputs": [],
   "source": []
  }
 ],
 "metadata": {
  "jupytext": {
   "encoding": "# -*- coding: utf-8 -*-",
   "text_representation": {
    "extension": ".py",
    "format_name": "light",
    "format_version": "1.5",
    "jupytext_version": "1.3.4"
   }
  },
  "kernelspec": {
   "display_name": "Python 3 (ipykernel)",
   "language": "python",
   "name": "python3"
  },
  "language_info": {
   "codemirror_mode": {
    "name": "ipython",
    "version": 3
   },
   "file_extension": ".py",
   "mimetype": "text/x-python",
   "name": "python",
   "nbconvert_exporter": "python",
   "pygments_lexer": "ipython3",
   "version": "3.8.13"
  },
  "toc-autonumbering": true
 },
 "nbformat": 4,
 "nbformat_minor": 4
}
