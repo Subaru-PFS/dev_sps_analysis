{
 "cells": [
  {
   "cell_type": "code",
   "execution_count": null,
   "metadata": {},
   "outputs": [],
   "source": [
    "import matplotlib.pyplot as plt\n",
    "import numpy as np\n",
    "import pandas as pd"
   ]
  },
  {
   "cell_type": "code",
   "execution_count": null,
   "metadata": {},
   "outputs": [],
   "source": [
    "# import LAM library for logbook, data analysis...\n",
    "from pfs.sacFileHandling import Logbook, constructFilelist\n",
    "import pfs.imageAnalysis as imeas\n",
    "from pfs.slitFocusAnalysis import *\n",
    "from pfs.style import colors"
   ]
  },
  {
   "cell_type": "code",
   "execution_count": null,
   "metadata": {},
   "outputs": [],
   "source": [
    "from matplotlib import style\n",
    "style.use('ggplot')"
   ]
  },
  {
   "cell_type": "code",
   "execution_count": null,
   "metadata": {},
   "outputs": [],
   "source": [
    "imgPath = '/home/pfs/shared/Pictures/SM1/SLITALIGN'"
   ]
  },
  {
   "cell_type": "code",
   "execution_count": null,
   "metadata": {},
   "outputs": [],
   "source": [
    "smId = 2"
   ]
  },
  {
   "cell_type": "code",
   "execution_count": null,
   "metadata": {},
   "outputs": [],
   "source": [
    "# filepath of data model\n",
    "pmodel = '/home/pfs/dev/ait-notebook/optical/input/slit'\n",
    "file = 'slit-defParam-Ouverture100-fiber65.csv'"
   ]
  },
  {
   "cell_type": "code",
   "execution_count": null,
   "metadata": {},
   "outputs": [],
   "source": [
    "zemaxData = pd.read_csv('%s/%s' % (pmodel, file), delimiter=\" \")\n",
    "zemaxMidFit = imeas.fitparabola(x=zemaxData.Slitdefocus, y=zemaxData.MidFiber, deg=15, focus='max')\n",
    "zemaxEndFit = imeas.fitparabola(x=zemaxData.Slitdefocus, y=zemaxData.ExtremeFiber, deg=15, focus='max')"
   ]
  },
  {
   "cell_type": "code",
   "execution_count": null,
   "metadata": {},
   "outputs": [],
   "source": [
    "experiments = pd.read_sql_query('select * from Experiment where type=\"slitAlignment\" order by experimentId desc',\n",
    "                                con='sqlite:////data/ait/experimentLog-sac.db', index_col='experimentId')\n",
    "\n",
    "experiments['exptime'] = [Logbook.getParameter(experimentId, 'exptime') for experimentId in experiments.index]\n",
    "experiments['fiber'] = [Logbook.getParameter(experimentId, 'fiber', doRaise=False) for experimentId in experiments.index]"
   ]
  },
  {
   "cell_type": "code",
   "execution_count": null,
   "metadata": {},
   "outputs": [],
   "source": [
    "fiberId = {126:'engtopmid',127:'engbotmid',128:'engtopmid',129:'engtopmid', 130:'engtopmid', 131:'engbotmid', 132:'engbotmid', 133:'engbotmid', 135:'engtopmid'}\n",
    "\n",
    "experiments['fiber']  = [experiments.fiber[experimentId] if experimentId not in fiberId.keys() else fiberId[experimentId] for experimentId in experiments.index ]"
   ]
  },
  {
   "cell_type": "raw",
   "metadata": {},
   "source": [
    "experiments"
   ]
  },
  {
   "cell_type": "code",
   "execution_count": null,
   "metadata": {},
   "outputs": [],
   "source": [
    "experiments.cmdStr[255]"
   ]
  },
  {
   "cell_type": "markdown",
   "metadata": {},
   "source": [
    "## Data required : \n",
    "To be able to find the right focus, some data acquisition is required.\n",
    "\n",
    "you need to use ics_spsaitActor to perform your sequence\n",
    "\n",
    "example : <b>slit throughfocus exptime=6.0 lowBound=-0.5 upBound=1.5 fiber=engbotend nbPosition=10 duplicate=1 </b>\n",
    "\n",
    "-0.5 : 1.5 is the range of the slit focus\n"
   ]
  },
  {
   "cell_type": "markdown",
   "metadata": {},
   "source": [
    "## Input Parameters : \n",
    "The only parameters needed is the experimentIds that match your data acquisition sequence"
   ]
  },
  {
   "cell_type": "code",
   "execution_count": null,
   "metadata": {},
   "outputs": [],
   "source": [
    "com = True\n",
    "doBck =True\n",
    "corrector = False\n",
    "experimentIds = [126, 127, 128, 129, 130, 131, 132, 133, 135]\n",
    "experimentIds = [287,288,289,290]\n",
    "experimentIds = [355,356,357,358]\n",
    "head = 6\n",
    "tail = 0\n",
    "#bck_expId = 260\n",
    "\n",
    "dfs = []"
   ]
  },
  {
   "cell_type": "code",
   "execution_count": null,
   "metadata": {},
   "outputs": [],
   "source": [
    "for experimentId in experimentIds:\n",
    "    dfs.append(getSlitTF(experimentId=experimentId, com=com, head=head, tail=tail, doBck=doBck,doPrint=True, doPlot=True))\n",
    "\n",
    "cube = pd.concat(dfs)\n",
    "\n",
    "   "
   ]
  },
  {
   "cell_type": "code",
   "execution_count": null,
   "metadata": {},
   "outputs": [],
   "source": [
    "cube.plot(x='fca_x',y='EE20',style='*')"
   ]
  },
  {
   "cell_type": "code",
   "execution_count": null,
   "metadata": {},
   "outputs": [],
   "source": [
    "thfocModel= fitFocusData(cube, corrector=False, doPlot=False)"
   ]
  },
  {
   "cell_type": "code",
   "execution_count": null,
   "metadata": {},
   "outputs": [],
   "source": [
    "focusModel = getFocusModel(thfocModel)"
   ]
  },
  {
   "cell_type": "code",
   "execution_count": null,
   "metadata": {},
   "outputs": [],
   "source": [
    "vline = True\n",
    "plotModel = True\n",
    "criteria = 'EE20'\n",
    "index = 'fca_x'"
   ]
  },
  {
   "cell_type": "code",
   "execution_count": null,
   "metadata": {},
   "outputs": [],
   "source": [
    "fig = plt.figure(figsize=(12, 8))\n",
    "ax1 = fig.add_subplot(111)\n",
    "j=2\n",
    "\n",
    "if plotModel:\n",
    "    ax1.plot(zemaxData.Slitdefocus, zemaxData.MidFiber, 'o', color=colors[0], label='Zemax_MidFiber = %.3f' % zemaxMidFit.focus)\n",
    "    ax1.plot(zemaxMidFit.x, zemaxMidFit.y, '--', color=colors[0])\n",
    "    if vline:\n",
    "        ax1.vlines(color=colors[0], **zemaxMidFit.vline)\n",
    "\n",
    "    ax1.plot(zemaxData.Slitdefocus, zemaxData.ExtremeFiber, 'o', color=colors[1], label='Zemax_EndFiber = %.3f' % zemaxEndFit.focus)\n",
    "    ax1.plot(zemaxEndFit.x, zemaxEndFit.y, '--', color=colors[1])\n",
    "    if vline:\n",
    "        ax1.vlines(color=colors[1], **zemaxEndFit.vline)\n",
    "\n",
    "for experimentId, df in cube.groupby('experimentId'):\n",
    "    fit = thfocModel.query(\"experimentId==%d\"%(experimentId))\n",
    "    focus = focusModel.query(\"experimentId==%d and criteria=='%s'\"%(experimentId, criteria))\n",
    "    \n",
    "    ax1.plot(df[index], df[criteria], 'o', color=colors[j], \n",
    "             label='expId%d:%s = %.3f' % (experimentId, experiments.fiber[experimentId], focus[index]))\n",
    "    ax1.plot(fit[index], fit[criteria], '--', color=colors[j])\n",
    "    \n",
    "    if vline:\n",
    "        ax1.vlines(x=focus[index], ymin=fit[criteria].min(), ymax = fit[criteria].max(), color=colors[j])\n",
    "    j+=1\n",
    "\n",
    "    \n",
    "lns = [line for i, line in enumerate(ax1.get_lines()) if not i % 2]\n",
    "labs = [line.get_label() for line in lns]\n",
    "\n",
    "ax1.legend(lns, labs)\n",
    "ax1.set_xlabel('%s(mm)'%index)\n",
    "ax1.set_ylabel(criteria)\n",
    "\n",
    "plt.title('Slit Through focus : Zemax vs Engineering_Fibers \\n Criteria : %s doBck=True' %criteria)\n",
    "plt.grid()"
   ]
  },
  {
   "cell_type": "code",
   "execution_count": null,
   "metadata": {},
   "outputs": [],
   "source": []
  },
  {
   "cell_type": "code",
   "execution_count": null,
   "metadata": {},
   "outputs": [],
   "source": []
  },
  {
   "cell_type": "code",
   "execution_count": null,
   "metadata": {},
   "outputs": [],
   "source": [
    "distance_fibres = 138.84\n",
    "delta_focus = (1.086 - 0.633)\n",
    "angle=np.arctan(delta_focus/distance_fibres)\n",
    "angle_degre=(angle*180)/(np.pi)\n",
    "print(angle_degre)\n"
   ]
  },
  {
   "cell_type": "code",
   "execution_count": null,
   "metadata": {},
   "outputs": [],
   "source": [
    "((0.648+0.658)/2) - 0.309\n"
   ]
  },
  {
   "cell_type": "code",
   "execution_count": null,
   "metadata": {},
   "outputs": [],
   "source": [
    "0.270-0.0062"
   ]
  },
  {
   "cell_type": "code",
   "execution_count": null,
   "metadata": {},
   "outputs": [],
   "source": [
    "1.532-0.885"
   ]
  },
  {
   "cell_type": "code",
   "execution_count": null,
   "metadata": {},
   "outputs": [],
   "source": []
  }
 ],
 "metadata": {
  "kernelspec": {
   "display_name": "Python 3",
   "language": "python",
   "name": "python3"
  },
  "language_info": {
   "codemirror_mode": {
    "name": "ipython",
    "version": 3
   },
   "file_extension": ".py",
   "mimetype": "text/x-python",
   "name": "python",
   "nbconvert_exporter": "python",
   "pygments_lexer": "ipython3",
   "version": "3.7.2"
  }
 },
 "nbformat": 4,
 "nbformat_minor": 4
}
