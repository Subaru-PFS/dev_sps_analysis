{
 "cells": [
  {
   "cell_type": "markdown",
   "metadata": {},
   "source": [
    "# Slit through focus analysis for SM slit alignment "
   ]
  },
  {
   "cell_type": "markdown",
   "metadata": {},
   "source": [
    "**Creator :** Fabrice MADEC *(Laboratoire d'astrophysique de Marseille)*"
   ]
  },
  {
   "cell_type": "markdown",
   "metadata": {},
   "source": [
    "**Editor :** Romain LHOUSSAINE BEN BRAHIM *(Laboratoire d'astrophysique de Marseille)*"
   ]
  },
  {
   "cell_type": "markdown",
   "metadata": {},
   "source": [
    "**Date :** March, 04 2021 ***[Closed on March, 18 2021]***"
   ]
  },
  {
   "cell_type": "markdown",
   "metadata": {},
   "source": [
    "**Data required:** You need to use ics_spsaitActor to perform your sequence,get the data required acquisitions to plot the through focus from the slit, and being able to find the right focus."
   ]
  },
  {
   "cell_type": "markdown",
   "metadata": {},
   "source": [
    "    Example : slit throughfocus exptime=6.0 lowBound=-0.5 upBound=1.5 fiber=engbotend nbPosition=10 duplicate=1\n",
    "    (lowBound and upBound are the ranges of the slit focus)"
   ]
  },
  {
   "cell_type": "markdown",
   "metadata": {},
   "source": [
    "## 0. Librairies, constants and parameters"
   ]
  },
  {
   "cell_type": "markdown",
   "metadata": {},
   "source": [
    "### 0.1. Classic librairies"
   ]
  },
  {
   "cell_type": "code",
   "execution_count": null,
   "metadata": {},
   "outputs": [],
   "source": [
    "import matplotlib.pyplot as plt\n",
    "import math\n",
    "import numpy as np\n",
    "import pandas as pd\n",
    "import os\n",
    "import datetime\n",
    "from matplotlib import style\n",
    "from matplotlib.offsetbox import AnchoredText"
   ]
  },
  {
   "cell_type": "markdown",
   "metadata": {},
   "source": [
    "### 0.2. LAM Librairies"
   ]
  },
  {
   "cell_type": "code",
   "execution_count": null,
   "metadata": {},
   "outputs": [],
   "source": [
    "# import LAM library for logbook, data analysis...\n",
    "from pfs.lam.sacFileHandling import Logbook, constructFilelist\n",
    "import pfs.lam.imageAnalysis as imeas\n",
    "from pfs.lam.slitFocusAnalysis import *\n",
    "from pfs.lam.style import colors"
   ]
  },
  {
   "cell_type": "markdown",
   "metadata": {},
   "source": [
    "### 0.3. Constants & parameters"
   ]
  },
  {
   "cell_type": "markdown",
   "metadata": {},
   "source": [
    "#### 0.3.1 Constants & Paths"
   ]
  },
  {
   "cell_type": "code",
   "execution_count": null,
   "metadata": {},
   "outputs": [],
   "source": [
    "# Style sheets reference\n",
    "style.use('ggplot')"
   ]
  },
  {
   "cell_type": "code",
   "execution_count": null,
   "metadata": {},
   "outputs": [],
   "source": [
    "# Distance between engtopend & engbotend fibers\n",
    "CST_DIST_FIBERS = 138.84"
   ]
  },
  {
   "cell_type": "code",
   "execution_count": null,
   "metadata": {},
   "outputs": [],
   "source": [
    "smId = 3"
   ]
  },
  {
   "cell_type": "code",
   "execution_count": null,
   "metadata": {},
   "outputs": [],
   "source": [
    "imgPath = f'/home/pfs/shared/Pictures/SM{smId}/slitAlign/' # WARNING : You must verify that you are choosing the right SM folder !!"
   ]
  },
  {
   "cell_type": "markdown",
   "metadata": {},
   "source": [
    "#### 0.3.1 Parameters of the slit"
   ]
  },
  {
   "cell_type": "code",
   "execution_count": null,
   "metadata": {},
   "outputs": [],
   "source": [
    "#All the experiment Ids used for SM3 slit Alignement\n",
    "\n",
    "# First analysis on engineering fibers\n",
    "#experimentIds = [447,448,449,450]     # Ids needed for the slit through focus analysis\n",
    "\n",
    "# Second analysis on engineering fibers : after the first correction\n",
    "experimentIds = [461,462,463,464]     # Ids needed for the slit through focus analysis\n",
    "\n",
    "# Analysis on scientific fibers to confirm the correction\n",
    "#experimentIds = [465,466,467,468]     # Ids needed for the slit through focus analysis"
   ]
  },
  {
   "cell_type": "code",
   "execution_count": null,
   "metadata": {},
   "outputs": [],
   "source": [
    "# Experiment Ids used for evalutating the background\n",
    "#bck_expId     = 260                  #\n",
    "doBck         = True                  # If you don't made any background, you can set doBck as True to retrieve the median value of the image"
   ]
  },
  {
   "cell_type": "code",
   "execution_count": null,
   "metadata": {},
   "outputs": [],
   "source": [
    "com           = True                  #\n",
    "corrector     = False                 #\n",
    "doSave        = True                  # Parameter that allow to save the through slit focus on the distant computer \n",
    "head          = 0                     #\n",
    "tail          = 0                     #\n",
    "dfs           = []                    # Dataframe containing all \n"
   ]
  },
  {
   "cell_type": "code",
   "execution_count": null,
   "metadata": {},
   "outputs": [],
   "source": [
    "threshold = 300                   #\n",
    "radius = 60                       #\n",
    "doPrint = False                   #\n",
    "doPlot = False                    #\n",
    "roi_size = 150                    #"
   ]
  },
  {
   "cell_type": "code",
   "execution_count": null,
   "metadata": {},
   "outputs": [],
   "source": [
    "fwhm_radius = radius              #\n",
    "fwhm_method = 'gaussian'          #"
   ]
  },
  {
   "cell_type": "code",
   "execution_count": null,
   "metadata": {},
   "outputs": [],
   "source": [
    "vline = True\n",
    "index = 'fca_x'"
   ]
  },
  {
   "cell_type": "code",
   "execution_count": null,
   "metadata": {},
   "outputs": [],
   "source": [
    "thres_neighbor = -0.1             #\n",
    "doNeighborFilter = True           #\n",
    "plotModel = True"
   ]
  },
  {
   "cell_type": "markdown",
   "metadata": {},
   "source": [
    "## 1. Downloading Data"
   ]
  },
  {
   "cell_type": "markdown",
   "metadata": {},
   "source": [
    "### 1.0. Theorical Zeemax data"
   ]
  },
  {
   "cell_type": "code",
   "execution_count": null,
   "metadata": {},
   "outputs": [],
   "source": [
    "# Filepath of data model\n",
    "pmodel = os.environ['LAM_SPS_ANALYSIS_DIR']+\"/notebooks/optical/input/slit\"\n",
    "file = 'slit-defParam-Ouverture100-fiber65.csv'"
   ]
  },
  {
   "cell_type": "code",
   "execution_count": null,
   "metadata": {},
   "outputs": [],
   "source": [
    "# 1: Loading Zeemax data\n",
    "zemaxData = pd.read_csv('%s/%s' % (pmodel, file), delimiter=\" \")"
   ]
  },
  {
   "cell_type": "code",
   "execution_count": null,
   "metadata": {},
   "outputs": [],
   "source": [
    "# 2: Loading Zeemax data for medium fibers\n",
    "zemaxMidFit = imeas.fitparabola(x=zemaxData.Slitdefocus, y=zemaxData.MidFiber, deg=15, focus='max')"
   ]
  },
  {
   "cell_type": "code",
   "execution_count": null,
   "metadata": {},
   "outputs": [],
   "source": [
    "# 3: Loading Zeemax data for extreme fibers\n",
    "zemaxEndFit = imeas.fitparabola(x=zemaxData.Slitdefocus, y=zemaxData.ExtremeFiber, deg=15, focus='max')"
   ]
  },
  {
   "cell_type": "markdown",
   "metadata": {},
   "source": [
    "### 1.1. Experimental data"
   ]
  },
  {
   "cell_type": "code",
   "execution_count": null,
   "metadata": {},
   "outputs": [],
   "source": [
    "# Loading data from the data base\n",
    "experiments = pd.read_sql_query('select * from Experiment where type=\"slitAlignment\" order by experimentId desc',\n",
    "                                con='sqlite:////data/ait/experimentLog-sac.db', index_col='experimentId')"
   ]
  },
  {
   "cell_type": "code",
   "execution_count": null,
   "metadata": {},
   "outputs": [],
   "source": [
    "# Data manipulation to recover the fiber and exptime informations\n",
    "experiments['exptime'] = [Logbook.getParameter(experimentId, 'exptime') for experimentId in experiments.index]\n",
    "experiments['fiber'] = [Logbook.getParameter(experimentId, 'fiber', doRaise=False) for experimentId in experiments.index]"
   ]
  },
  {
   "cell_type": "code",
   "execution_count": null,
   "metadata": {},
   "outputs": [],
   "source": [
    "# Display of the 4 acquisitions made on the SacSequence Panel\n",
    "experiments[experiments.index.isin(experimentIds)]"
   ]
  },
  {
   "cell_type": "markdown",
   "metadata": {},
   "source": [
    "## 2. Data Analysis"
   ]
  },
  {
   "cell_type": "markdown",
   "metadata": {},
   "source": [
    "### 2.1. Compile the maximum brightness according to the focus's displacement"
   ]
  },
  {
   "cell_type": "code",
   "execution_count": null,
   "metadata": {},
   "outputs": [],
   "source": [
    "for experimentId in experimentIds:\n",
    "    dfs.append(getSlitTF(experimentId=experimentId, com=com, head=head, tail=tail, doBck=doBck, doPrint=False, doPlot=False))\n",
    "\n",
    "cube = pd.concat(dfs)"
   ]
  },
  {
   "cell_type": "markdown",
   "metadata": {},
   "source": [
    "### 2.2. Plot framed energy by 20/40 pixels over the optical axis"
   ]
  },
  {
   "cell_type": "markdown",
   "metadata": {},
   "source": [
    "#### 2.2.1. Supressing aberrant values"
   ]
  },
  {
   "cell_type": "code",
   "execution_count": null,
   "metadata": {},
   "outputs": [],
   "source": [
    "if doNeighborFilter :\n",
    "    cube2 = imeas.neighbor_outlier_filter(cube, \"EE20\",thres_neighbor, absolute=True)"
   ]
  },
  {
   "cell_type": "markdown",
   "metadata": {},
   "source": []
  },
  {
   "cell_type": "code",
   "execution_count": null,
   "metadata": {},
   "outputs": [],
   "source": [
    "thfocModel= fitFocusData(cube2[cube2.EE20_nbh_flag], corrector=corrector, doPlot=doPlot)\n"
   ]
  },
  {
   "cell_type": "markdown",
   "metadata": {},
   "source": [
    "#### 2.2.3. Supressing aberrant values"
   ]
  },
  {
   "cell_type": "code",
   "execution_count": null,
   "metadata": {},
   "outputs": [],
   "source": [
    "focusModel = getFocusModel(thfocModel)"
   ]
  },
  {
   "cell_type": "markdown",
   "metadata": {},
   "source": [
    "## 3. Tilt & Focus determination"
   ]
  },
  {
   "cell_type": "markdown",
   "metadata": {},
   "source": [
    "### 3.1. Tilt determination"
   ]
  },
  {
   "cell_type": "code",
   "execution_count": null,
   "metadata": {},
   "outputs": [],
   "source": [
    "# 1 : Computing position difference between both extreme fibers\n",
    "[tilt_ry] = focusModel.fca_x[focusModel.fiber.str.match('\\w{3}botend')==True].values - focusModel.fca_x[focusModel.fiber.str.match('\\w{3}topend')==True].values"
   ]
  },
  {
   "cell_type": "code",
   "execution_count": null,
   "metadata": {},
   "outputs": [],
   "source": [
    "# 2 : Computing tilt on y axis (rad)\n",
    "angle=np.arctan(tilt_ry/CST_DIST_FIBERS)"
   ]
  },
  {
   "cell_type": "code",
   "execution_count": null,
   "metadata": {},
   "outputs": [],
   "source": [
    "# 3 : Converting in degrees\n",
    "angle_degre=(angle*180)/(np.pi)"
   ]
  },
  {
   "cell_type": "code",
   "execution_count": null,
   "metadata": {},
   "outputs": [],
   "source": [
    "# 4 : Displying the tilt value\n",
    "print(\"There is a tilt of %.3f milidegrees\" %(angle_degre*1000))"
   ]
  },
  {
   "cell_type": "markdown",
   "metadata": {},
   "source": [
    "### 3.2. Focus determination"
   ]
  },
  {
   "cell_type": "code",
   "execution_count": null,
   "metadata": {},
   "outputs": [],
   "source": [
    "# 1 : Calculating mean value between the both mid position fibers\n",
    "[focus_adjustment] = ((focusModel.fca_x[focusModel.fiber.str.match('\\w{3}botmid')==True].values + focusModel.fca_x[focusModel.fiber.str.match('\\w{3}topmid')==True].values)/2) "
   ]
  },
  {
   "cell_type": "code",
   "execution_count": null,
   "metadata": {},
   "outputs": [],
   "source": [
    "# 2 : Calculating mean value between the both mid position fibers\n",
    "[focus_adjustment] = [focus_adjustment] - zemaxMidFit.focus"
   ]
  },
  {
   "cell_type": "code",
   "execution_count": null,
   "metadata": {},
   "outputs": [],
   "source": [
    "# 3 : Displying the defocus\n",
    "print(\"You have to adjust the focus by %.3f microns\" %(focus_adjustment*1000))"
   ]
  },
  {
   "cell_type": "markdown",
   "metadata": {},
   "source": [
    "## 4. Display Slit Through Focus graph"
   ]
  },
  {
   "cell_type": "markdown",
   "metadata": {},
   "source": [
    "### 4.1. Graph"
   ]
  },
  {
   "cell_type": "code",
   "execution_count": null,
   "metadata": {},
   "outputs": [],
   "source": [
    "fig = plt.figure(figsize=(12, 8))\n",
    "ax1 = fig.add_subplot(111)\n",
    "j=2\n",
    "\n",
    "if plotModel and exp.fiber.values[0][:3]==\"eng\" :\n",
    "    ax1.plot(zemaxData.Slitdefocus, zemaxData.MidFiber, '+', color=colors[0], label='Zemax_MidFiber = %.3f' % zemaxMidFit.focus)\n",
    "    ax1.plot(zemaxMidFit.x, zemaxMidFit.y, '--', color=colors[0])\n",
    "    if vline:\n",
    "        ax1.vlines(color=colors[0], **zemaxMidFit.vline)\n",
    "\n",
    "    ax1.plot(zemaxData.Slitdefocus, zemaxData.ExtremeFiber, '+', color=colors[1], label='Zemax_EndFiber = %.3f' % zemaxEndFit.focus)\n",
    "    ax1.plot(zemaxEndFit.x, zemaxEndFit.y, '--', color=colors[1])\n",
    "    if vline:\n",
    "        ax1.vlines(color=colors[1], **zemaxEndFit.vline)\n",
    "else :\n",
    "    print(\"Zemax model for engineering fibers non plotted\")\n",
    "\n",
    "\n",
    "    \n",
    "for experimentId, df in cube2[cube2.EE20_nbh_flag].groupby('experimentId'):\n",
    "    fit = thfocModel.query(\"experimentId==%d\"%(experimentId))\n",
    "    focus = focusModel.query(\"experimentId==%d and EE20=='%s'\"%(experimentId, \"EE20\"))\n",
    "\n",
    "    ax1.plot(df[index], df[\"EE20\"], 'o', color=colors[j], \n",
    "    label='expId%d:%s = %.3f' % (experimentId, experiments.fiber[experimentId], focus[index]))\n",
    "\n",
    "    ax1.plot(fit[index], fit[\"EE20\"], '--', color=colors[j])\n",
    "\n",
    "    if vline:\n",
    "        ax1.vlines(x=focus[index], ymin=fit[\"EE20\"].min(), ymax = fit[\"EE20\"].max(), color=colors[j])\n",
    "        j+=1\n",
    "    \n",
    "lns = [line for i, line in enumerate(ax1.get_lines()) if not i % 2]\n",
    "labs = [line.get_label() for line in lns]\n",
    "\n",
    "at = AnchoredText(\" Tilt-Y = %.3f millidegrees\"%(angle_degre*1000),\n",
    "                  prop=dict(size=15), frameon=True,\n",
    "                  loc='upper left',\n",
    "                  )\n",
    "at.patch.set_boxstyle(\"round,pad=0.,rounding_size=0.2\")\n",
    "ax1.add_artist(at)\n",
    "at2 = AnchoredText(\" Defocus = %.3f microns\"%(focus_adjustment*1000),\n",
    "                  prop=dict(size=15), frameon=True,\n",
    "                  loc='lower left',\n",
    "                  bbox_to_anchor=(0., 0.835),\n",
    "                  bbox_transform=ax1.transAxes\n",
    "                  )\n",
    "at2.patch.set_boxstyle(\"round,pad=0.,rounding_size=0.2\")\n",
    "\n",
    "if exp.fiber.values[0][:3]==\"eng\" :\n",
    "    ax1.add_artist(at2)\n",
    "\n",
    "ax1.legend(lns, labs)\n",
    "ax1.set_xlabel('%s(mm)'%index)\n",
    "ax1.set_ylabel(\"EE20\")\n",
    "\n",
    "plt.title(f'SM{smId} Slit Through focus : Zemax vs {str(focusModel.fiber[0][:3])}_Fibers \\n ExperimentIds = {experimentIds} \\n Criteria : EE20 doBck={doBck} \\n Date = {datetime.date.today()}  ')\n",
    "plt.grid()\n",
    "plt.show()\n",
    "\n"
   ]
  },
  {
   "cell_type": "markdown",
   "metadata": {},
   "source": [
    "### 4.2. Saving graph"
   ]
  },
  {
   "cell_type": "code",
   "execution_count": null,
   "metadata": {},
   "outputs": [],
   "source": [
    "if doSave : \n",
    "    fig.savefig(imgPath+f\"Slit_Through_focus_SM{smId}_{focusModel.fiber[0][:3]}_Exp{experimentIds}_{datetime.date.today()}.png\") "
   ]
  }
 ],
 "metadata": {
  "kernelspec": {
   "display_name": "Python 3",
   "language": "python",
   "name": "python3"
  },
  "language_info": {
   "codemirror_mode": {
    "name": "ipython",
    "version": 3
   },
   "file_extension": ".py",
   "mimetype": "text/x-python",
   "name": "python",
   "nbconvert_exporter": "python",
   "pygments_lexer": "ipython3",
   "version": "3.7.2"
  }
 },
 "nbformat": 4,
 "nbformat_minor": 4
}
