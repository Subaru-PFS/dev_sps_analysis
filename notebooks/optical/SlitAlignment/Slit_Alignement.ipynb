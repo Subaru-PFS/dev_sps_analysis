{
 "cells": [
  {
   "cell_type": "markdown",
   "metadata": {},
   "source": [
    "# Slit through focus analysis for SM slit alignment "
   ]
  },
  {
   "cell_type": "markdown",
   "metadata": {},
   "source": [
    "**Creator :** Fabrice MADEC *(Laboratoire d'astrophysique de Marseille)*"
   ]
  },
  {
   "cell_type": "markdown",
   "metadata": {},
   "source": [
    "**Editor :** Romain LHOUSSAINE BEN BRAHIM *(Laboratoire d'astrophysique de Marseille)*"
   ]
  },
  {
   "cell_type": "markdown",
   "metadata": {},
   "source": [
    "**Date :** March, 04 2021 ***[Closed on March, 18 2021]***"
   ]
  },
  {
   "cell_type": "markdown",
   "metadata": {},
   "source": [
    "**Data required:** You need to use ics_spsaitActor to perform your sequence,get the data required acquisitions to plot the through focus from the slit, and being able to find the right focus."
   ]
  },
  {
   "cell_type": "markdown",
   "metadata": {},
   "source": [
    "    Example : slit throughfocus exptime=6.0 lowBound=-0.5 upBound=1.5 fiber=engbotend nbPosition=10 duplicate=1\n",
    "    (lowBound and upBound are the ranges of the slit focus)"
   ]
  },
  {
   "cell_type": "markdown",
   "metadata": {},
   "source": [
    "## 0. Librairies, constants and parameters"
   ]
  },
  {
   "cell_type": "markdown",
   "metadata": {},
   "source": [
    "### 0.1. Classic librairies"
   ]
  },
  {
   "cell_type": "code",
   "execution_count": 1,
   "metadata": {},
   "outputs": [],
   "source": [
    "import matplotlib.pyplot as plt\n",
    "import math\n",
    "import numpy as np\n",
    "import pandas as pd\n",
    "import os\n",
    "import datetime\n",
    "from matplotlib import style\n",
    "from matplotlib.offsetbox import AnchoredText"
   ]
  },
  {
   "cell_type": "markdown",
   "metadata": {},
   "source": [
    "### 0.2. LAM Librairies"
   ]
  },
  {
   "cell_type": "code",
   "execution_count": 2,
   "metadata": {},
   "outputs": [],
   "source": [
    "# import LAM library for logbook, data analysis...\n",
    "from pfs.lam.sacFileHandling import Logbook, constructFilelist\n",
    "import pfs.lam.imageAnalysis as imeas\n",
    "from pfs.lam.slitFocusAnalysis import *\n",
    "from pfs.lam.style import colors"
   ]
  },
  {
   "cell_type": "markdown",
   "metadata": {},
   "source": [
    "### 0.3. Constants & parameters"
   ]
  },
  {
   "cell_type": "markdown",
   "metadata": {},
   "source": [
    "#### 0.3.1 Constants & Paths"
   ]
  },
  {
   "cell_type": "code",
   "execution_count": 3,
   "metadata": {},
   "outputs": [],
   "source": [
    "# Style sheets reference\n",
    "style.use('ggplot')"
   ]
  },
  {
   "cell_type": "code",
   "execution_count": 4,
   "metadata": {},
   "outputs": [],
   "source": [
    "# Distance between engtopend & engbotend fibers\n",
    "CST_DIST_FIBERS = 138.84"
   ]
  },
  {
   "cell_type": "code",
   "execution_count": 5,
   "metadata": {},
   "outputs": [],
   "source": [
    "smId = 3"
   ]
  },
  {
   "cell_type": "code",
   "execution_count": 6,
   "metadata": {},
   "outputs": [],
   "source": [
    "imgPath = f'/home/pfs/shared/Pictures/SM{smId}/slitAlign/' # WARNING : You must verify that you are choosing the right SM folder !!"
   ]
  },
  {
   "cell_type": "markdown",
   "metadata": {},
   "source": [
    "#### 0.3.1 Parameters of the slit"
   ]
  },
  {
   "cell_type": "code",
   "execution_count": 7,
   "metadata": {},
   "outputs": [],
   "source": [
    "#All the experiment Ids used for SM3 slit Alignement\n",
    "\n",
    "# First analysis on engineering fibers\n",
    "#experimentIds = [447,448,449,450]     # Ids needed for the slit through focus analysis\n",
    "\n",
    "# Second analysis on engineering fibers : after the first correction\n",
    "experimentIds = [461,462,463,464]     # Ids needed for the slit through focus analysis\n",
    "\n",
    "# Analysis on scientific fibers to confirm the correction\n",
    "#experimentIds = [465,466,467,468]     # Ids needed for the slit through focus analysis"
   ]
  },
  {
   "cell_type": "code",
   "execution_count": 8,
   "metadata": {},
   "outputs": [],
   "source": [
    "# Experiment Ids used for evalutating the background\n",
    "#bck_expId     = 260                  #\n",
    "doBck         = True                  # If you don't made any background, you can set doBck as True to retrieve the median value of the image"
   ]
  },
  {
   "cell_type": "code",
   "execution_count": 9,
   "metadata": {},
   "outputs": [],
   "source": [
    "com           = True                  #\n",
    "corrector     = False                 #\n",
    "doSave        = True                  # Parameter that allow to save the through slit focus on the distant computer \n",
    "head          = 0                     #\n",
    "tail          = 0                     #\n",
    "dfs           = []                    # Dataframe containing all \n"
   ]
  },
  {
   "cell_type": "code",
   "execution_count": 10,
   "metadata": {},
   "outputs": [],
   "source": [
    "threshold = 300                   #\n",
    "radius = 60                       #\n",
    "doPrint = False                   #\n",
    "doPlot = False                    #\n",
    "roi_size = 150                    #"
   ]
  },
  {
   "cell_type": "code",
   "execution_count": 11,
   "metadata": {},
   "outputs": [],
   "source": [
    "fwhm_radius = radius              #\n",
    "fwhm_method = 'gaussian'          #"
   ]
  },
  {
   "cell_type": "code",
   "execution_count": 12,
   "metadata": {},
   "outputs": [],
   "source": [
    "vline = True\n",
    "index = 'fca_x'"
   ]
  },
  {
   "cell_type": "code",
   "execution_count": 13,
   "metadata": {},
   "outputs": [],
   "source": [
    "thres_neighbor = -0.1             #\n",
    "doNeighborFilter = True           #\n",
    "plotModel = True"
   ]
  },
  {
   "cell_type": "markdown",
   "metadata": {},
   "source": [
    "## 1. Downloading Data"
   ]
  },
  {
   "cell_type": "markdown",
   "metadata": {},
   "source": [
    "### 1.0. Theorical Zeemax data"
   ]
  },
  {
   "cell_type": "code",
   "execution_count": 14,
   "metadata": {},
   "outputs": [],
   "source": [
    "# Filepath of data model\n",
    "pmodel = os.environ['LAM_SPS_ANALYSIS_DIR']+\"/notebooks/optical/input/slit\"\n",
    "file = 'slit-defParam-Ouverture100-fiber65.csv'"
   ]
  },
  {
   "cell_type": "code",
   "execution_count": 15,
   "metadata": {},
   "outputs": [],
   "source": [
    "# 1: Loading Zeemax data\n",
    "zemaxData = pd.read_csv('%s/%s' % (pmodel, file), delimiter=\" \")"
   ]
  },
  {
   "cell_type": "code",
   "execution_count": 16,
   "metadata": {},
   "outputs": [],
   "source": [
    "# 2: Loading Zeemax data for medium fibers\n",
    "zemaxMidFit = imeas.fitparabola(x=zemaxData.Slitdefocus, y=zemaxData.MidFiber, deg=15, focus='max')"
   ]
  },
  {
   "cell_type": "code",
   "execution_count": 17,
   "metadata": {},
   "outputs": [],
   "source": [
    "# 3: Loading Zeemax data for extreme fibers\n",
    "zemaxEndFit = imeas.fitparabola(x=zemaxData.Slitdefocus, y=zemaxData.ExtremeFiber, deg=15, focus='max')"
   ]
  },
  {
   "cell_type": "markdown",
   "metadata": {},
   "source": [
    "### 1.1. Experimental data"
   ]
  },
  {
   "cell_type": "code",
   "execution_count": 18,
   "metadata": {},
   "outputs": [],
   "source": [
    "# Loading data from the data base\n",
    "experiments = pd.read_sql_query('select * from Experiment where type=\"slitAlignment\" order by experimentId desc',\n",
    "                                con='sqlite:////data/ait/experimentLog-sac.db', index_col='experimentId')"
   ]
  },
  {
   "cell_type": "code",
   "execution_count": 19,
   "metadata": {},
   "outputs": [],
   "source": [
    "# Data manipulation to recover the fiber and exptime informations\n",
    "experiments['exptime'] = [Logbook.getParameter(experimentId, 'exptime') for experimentId in experiments.index]\n",
    "experiments['fiber'] = [Logbook.getParameter(experimentId, 'fiber', doRaise=False) for experimentId in experiments.index]"
   ]
  },
  {
   "cell_type": "code",
   "execution_count": 20,
   "metadata": {},
   "outputs": [
    {
     "data": {
      "text/html": [
       "<div>\n",
       "<style scoped>\n",
       "    .dataframe tbody tr th:only-of-type {\n",
       "        vertical-align: middle;\n",
       "    }\n",
       "\n",
       "    .dataframe tbody tr th {\n",
       "        vertical-align: top;\n",
       "    }\n",
       "\n",
       "    .dataframe thead th {\n",
       "        text-align: right;\n",
       "    }\n",
       "</style>\n",
       "<table border=\"1\" class=\"dataframe\">\n",
       "  <thead>\n",
       "    <tr style=\"text-align: right;\">\n",
       "      <th></th>\n",
       "      <th>name</th>\n",
       "      <th>visitStart</th>\n",
       "      <th>visitEnd</th>\n",
       "      <th>type</th>\n",
       "      <th>cmdStr</th>\n",
       "      <th>comments</th>\n",
       "      <th>anomalies</th>\n",
       "      <th>startdate</th>\n",
       "      <th>cmdError</th>\n",
       "      <th>exptime</th>\n",
       "      <th>fiber</th>\n",
       "    </tr>\n",
       "    <tr>\n",
       "      <th>experimentId</th>\n",
       "      <th></th>\n",
       "      <th></th>\n",
       "      <th></th>\n",
       "      <th></th>\n",
       "      <th></th>\n",
       "      <th></th>\n",
       "      <th></th>\n",
       "      <th></th>\n",
       "      <th></th>\n",
       "      <th></th>\n",
       "      <th></th>\n",
       "    </tr>\n",
       "  </thead>\n",
       "  <tbody>\n",
       "    <tr>\n",
       "      <th>464</th>\n",
       "      <td>SM3_Slit_Alignment</td>\n",
       "      <td>14181</td>\n",
       "      <td>14240</td>\n",
       "      <td>slitAlignment</td>\n",
       "      <td>spsait slit align exptime=1.0 position=-1.5,2....</td>\n",
       "      <td>halogen mask 125mm</td>\n",
       "      <td></td>\n",
       "      <td>2021-02-19T10:36:38</td>\n",
       "      <td></td>\n",
       "      <td>1.0</td>\n",
       "      <td>engbotend</td>\n",
       "    </tr>\n",
       "    <tr>\n",
       "      <th>463</th>\n",
       "      <td>SM3_Slit_Alignment</td>\n",
       "      <td>14121</td>\n",
       "      <td>14180</td>\n",
       "      <td>slitAlignment</td>\n",
       "      <td>spsait slit align exptime=1.0 position=-1.5,2....</td>\n",
       "      <td>halogen mask 125mm</td>\n",
       "      <td></td>\n",
       "      <td>2021-02-19T10:16:21</td>\n",
       "      <td></td>\n",
       "      <td>1.0</td>\n",
       "      <td>engbotmid</td>\n",
       "    </tr>\n",
       "    <tr>\n",
       "      <th>462</th>\n",
       "      <td>SM3_Slit_Alignment</td>\n",
       "      <td>14061</td>\n",
       "      <td>14120</td>\n",
       "      <td>slitAlignment</td>\n",
       "      <td>spsait slit align exptime=1.0 position=-1.5,2....</td>\n",
       "      <td>halogen mask 125mm</td>\n",
       "      <td></td>\n",
       "      <td>2021-02-19T09:55:24</td>\n",
       "      <td></td>\n",
       "      <td>1.0</td>\n",
       "      <td>engtopmid</td>\n",
       "    </tr>\n",
       "    <tr>\n",
       "      <th>461</th>\n",
       "      <td>SM3_Slit_Alignment</td>\n",
       "      <td>14001</td>\n",
       "      <td>14060</td>\n",
       "      <td>slitAlignment</td>\n",
       "      <td>spsait slit align exptime=1.0 position=-1.5,2....</td>\n",
       "      <td>halogen mask 125mm</td>\n",
       "      <td></td>\n",
       "      <td>2021-02-19T09:33:48</td>\n",
       "      <td></td>\n",
       "      <td>1.0</td>\n",
       "      <td>engtopend</td>\n",
       "    </tr>\n",
       "  </tbody>\n",
       "</table>\n",
       "</div>"
      ],
      "text/plain": [
       "                            name  visitStart  visitEnd           type  \\\n",
       "experimentId                                                            \n",
       "464           SM3_Slit_Alignment       14181     14240  slitAlignment   \n",
       "463           SM3_Slit_Alignment       14121     14180  slitAlignment   \n",
       "462           SM3_Slit_Alignment       14061     14120  slitAlignment   \n",
       "461           SM3_Slit_Alignment       14001     14060  slitAlignment   \n",
       "\n",
       "                                                         cmdStr  \\\n",
       "experimentId                                                      \n",
       "464           spsait slit align exptime=1.0 position=-1.5,2....   \n",
       "463           spsait slit align exptime=1.0 position=-1.5,2....   \n",
       "462           spsait slit align exptime=1.0 position=-1.5,2....   \n",
       "461           spsait slit align exptime=1.0 position=-1.5,2....   \n",
       "\n",
       "                        comments anomalies            startdate cmdError  \\\n",
       "experimentId                                                               \n",
       "464           halogen mask 125mm            2021-02-19T10:36:38            \n",
       "463           halogen mask 125mm            2021-02-19T10:16:21            \n",
       "462           halogen mask 125mm            2021-02-19T09:55:24            \n",
       "461           halogen mask 125mm            2021-02-19T09:33:48            \n",
       "\n",
       "             exptime      fiber  \n",
       "experimentId                     \n",
       "464              1.0  engbotend  \n",
       "463              1.0  engbotmid  \n",
       "462              1.0  engtopmid  \n",
       "461              1.0  engtopend  "
      ]
     },
     "execution_count": 20,
     "metadata": {},
     "output_type": "execute_result"
    }
   ],
   "source": [
    "# Display of the 4 acquisitions made on the SacSequence Panel\n",
    "experiments[experiments.index.isin(experimentIds)]"
   ]
  },
  {
   "cell_type": "markdown",
   "metadata": {},
   "source": [
    "## 2. Data Analysis"
   ]
  },
  {
   "cell_type": "markdown",
   "metadata": {},
   "source": [
    "### 2.1. Compile the maximum brightness according to the focus's displacement"
   ]
  },
  {
   "cell_type": "code",
   "execution_count": 21,
   "metadata": {},
   "outputs": [
    {
     "name": "stdout",
     "output_type": "stream",
     "text": [
      "peak has not been properly detected\n",
      "peak has not been properly detected\n",
      "peak has not been properly detected\n",
      "peak has not been properly detected\n"
     ]
    },
    {
     "name": "stderr",
     "output_type": "stream",
     "text": [
      "/software/drp/python/miniconda3-4.5.12/envs/lsst-scipipe-1172c30/lib/python3.7/site-packages/scipy/optimize/minpack.py:447: RuntimeWarning: Number of calls to function has reached maxfev = 800.\n",
      "  warnings.warn(errors[info][0], RuntimeWarning)\n"
     ]
    },
    {
     "name": "stdout",
     "output_type": "stream",
     "text": [
      "peak has not been properly detected\n",
      "peak has not been properly detected\n",
      "peak has not been properly detected\n",
      "peak has not been properly detected\n",
      "peak has not been properly detected\n"
     ]
    }
   ],
   "source": [
    "for experimentId in experimentIds:\n",
    "    dfs.append(getSlitTF(experimentId=experimentId, com=com, head=head, tail=tail, doBck=doBck, doPrint=False, doPlot=False))\n",
    "\n",
    "cube = pd.concat(dfs)"
   ]
  },
  {
   "cell_type": "markdown",
   "metadata": {},
   "source": [
    "### 2.2. Plot framed energy by 20/40 pixels over the optical axis"
   ]
  },
  {
   "cell_type": "markdown",
   "metadata": {},
   "source": [
    "#### 2.2.1. Supressing aberrant values"
   ]
  },
  {
   "cell_type": "code",
   "execution_count": 22,
   "metadata": {},
   "outputs": [],
   "source": [
    "if doNeighborFilter :\n",
    "    cube2 = imeas.neighbor_outlier_filter(cube, \"EE20\",thres_neighbor, absolute=True)"
   ]
  },
  {
   "cell_type": "code",
   "execution_count": 23,
   "metadata": {},
   "outputs": [],
   "source": [
    "thfocModel= fitFocusData(cube2[cube2.EE20_nbh_flag], corrector=corrector, doPlot=doPlot)\n"
   ]
  },
  {
   "cell_type": "markdown",
   "metadata": {},
   "source": [
    "#### 2.2.3. Supressing aberrant values"
   ]
  },
  {
   "cell_type": "code",
   "execution_count": 24,
   "metadata": {},
   "outputs": [],
   "source": [
    "focusModel = getFocusModel(thfocModel)"
   ]
  },
  {
   "cell_type": "markdown",
   "metadata": {},
   "source": [
    "## 3. Tilt & Focus determination"
   ]
  },
  {
   "cell_type": "markdown",
   "metadata": {},
   "source": [
    "### 3.1. Tilt determination"
   ]
  },
  {
   "cell_type": "code",
   "execution_count": 25,
   "metadata": {},
   "outputs": [
    {
     "ename": "AttributeError",
     "evalue": "'DataFrame' object has no attribute 'fiber'",
     "output_type": "error",
     "traceback": [
      "\u001b[0;31m---------------------------------------------------------------------------\u001b[0m",
      "\u001b[0;31mAttributeError\u001b[0m                            Traceback (most recent call last)",
      "\u001b[0;32m<ipython-input-25-148598ea9b3b>\u001b[0m in \u001b[0;36m<module>\u001b[0;34m\u001b[0m\n\u001b[1;32m      1\u001b[0m \u001b[0;31m# 1 : Computing position difference between both extreme fibers\u001b[0m\u001b[0;34m\u001b[0m\u001b[0;34m\u001b[0m\u001b[0;34m\u001b[0m\u001b[0m\n\u001b[0;32m----> 2\u001b[0;31m \u001b[0;34m[\u001b[0m\u001b[0mtilt_ry\u001b[0m\u001b[0;34m]\u001b[0m \u001b[0;34m=\u001b[0m \u001b[0mfocusModel\u001b[0m\u001b[0;34m.\u001b[0m\u001b[0mfca_x\u001b[0m\u001b[0;34m[\u001b[0m\u001b[0mfocusModel\u001b[0m\u001b[0;34m.\u001b[0m\u001b[0mfiber\u001b[0m\u001b[0;34m.\u001b[0m\u001b[0mstr\u001b[0m\u001b[0;34m.\u001b[0m\u001b[0mmatch\u001b[0m\u001b[0;34m(\u001b[0m\u001b[0;34m'\\w{3}botend'\u001b[0m\u001b[0;34m)\u001b[0m\u001b[0;34m==\u001b[0m\u001b[0;32mTrue\u001b[0m\u001b[0;34m]\u001b[0m\u001b[0;34m.\u001b[0m\u001b[0mvalues\u001b[0m \u001b[0;34m-\u001b[0m \u001b[0mfocusModel\u001b[0m\u001b[0;34m.\u001b[0m\u001b[0mfca_x\u001b[0m\u001b[0;34m[\u001b[0m\u001b[0mfocusModel\u001b[0m\u001b[0;34m.\u001b[0m\u001b[0mfiber\u001b[0m\u001b[0;34m.\u001b[0m\u001b[0mstr\u001b[0m\u001b[0;34m.\u001b[0m\u001b[0mmatch\u001b[0m\u001b[0;34m(\u001b[0m\u001b[0;34m'\\w{3}topend'\u001b[0m\u001b[0;34m)\u001b[0m\u001b[0;34m==\u001b[0m\u001b[0;32mTrue\u001b[0m\u001b[0;34m]\u001b[0m\u001b[0;34m.\u001b[0m\u001b[0mvalues\u001b[0m\u001b[0;34m\u001b[0m\u001b[0;34m\u001b[0m\u001b[0m\n\u001b[0m",
      "\u001b[0;32m/software/drp/python/miniconda3-4.5.12/envs/lsst-scipipe-1172c30/lib/python3.7/site-packages/pandas/core/generic.py\u001b[0m in \u001b[0;36m__getattr__\u001b[0;34m(self, name)\u001b[0m\n\u001b[1;32m   5272\u001b[0m             \u001b[0;32mif\u001b[0m \u001b[0mself\u001b[0m\u001b[0;34m.\u001b[0m\u001b[0m_info_axis\u001b[0m\u001b[0;34m.\u001b[0m\u001b[0m_can_hold_identifiers_and_holds_name\u001b[0m\u001b[0;34m(\u001b[0m\u001b[0mname\u001b[0m\u001b[0;34m)\u001b[0m\u001b[0;34m:\u001b[0m\u001b[0;34m\u001b[0m\u001b[0;34m\u001b[0m\u001b[0m\n\u001b[1;32m   5273\u001b[0m                 \u001b[0;32mreturn\u001b[0m \u001b[0mself\u001b[0m\u001b[0;34m[\u001b[0m\u001b[0mname\u001b[0m\u001b[0;34m]\u001b[0m\u001b[0;34m\u001b[0m\u001b[0;34m\u001b[0m\u001b[0m\n\u001b[0;32m-> 5274\u001b[0;31m             \u001b[0;32mreturn\u001b[0m \u001b[0mobject\u001b[0m\u001b[0;34m.\u001b[0m\u001b[0m__getattribute__\u001b[0m\u001b[0;34m(\u001b[0m\u001b[0mself\u001b[0m\u001b[0;34m,\u001b[0m \u001b[0mname\u001b[0m\u001b[0;34m)\u001b[0m\u001b[0;34m\u001b[0m\u001b[0;34m\u001b[0m\u001b[0m\n\u001b[0m\u001b[1;32m   5275\u001b[0m \u001b[0;34m\u001b[0m\u001b[0m\n\u001b[1;32m   5276\u001b[0m     \u001b[0;32mdef\u001b[0m \u001b[0m__setattr__\u001b[0m\u001b[0;34m(\u001b[0m\u001b[0mself\u001b[0m\u001b[0;34m,\u001b[0m \u001b[0mname\u001b[0m\u001b[0;34m:\u001b[0m \u001b[0mstr\u001b[0m\u001b[0;34m,\u001b[0m \u001b[0mvalue\u001b[0m\u001b[0;34m)\u001b[0m \u001b[0;34m->\u001b[0m \u001b[0;32mNone\u001b[0m\u001b[0;34m:\u001b[0m\u001b[0;34m\u001b[0m\u001b[0;34m\u001b[0m\u001b[0m\n",
      "\u001b[0;31mAttributeError\u001b[0m: 'DataFrame' object has no attribute 'fiber'"
     ]
    }
   ],
   "source": [
    "# 1 : Computing position difference between both extreme fibers\n",
    "[tilt_ry] = focusModel.fca_x[focusModel.fiber.str.match('\\w{3}botend')==True].values - focusModel.fca_x[focusModel.fiber.str.match('\\w{3}topend')==True].values"
   ]
  },
  {
   "cell_type": "code",
   "execution_count": null,
   "metadata": {},
   "outputs": [],
   "source": [
    "# 2 : Computing tilt on y axis (rad)\n",
    "angle=np.arctan(tilt_ry/CST_DIST_FIBERS)"
   ]
  },
  {
   "cell_type": "code",
   "execution_count": null,
   "metadata": {},
   "outputs": [],
   "source": [
    "# 3 : Converting in degrees\n",
    "angle_degre=(angle*180)/(np.pi)"
   ]
  },
  {
   "cell_type": "code",
   "execution_count": null,
   "metadata": {},
   "outputs": [],
   "source": [
    "# 4 : Displying the tilt value\n",
    "print(\"There is a tilt of %.3f milidegrees\" %(angle_degre*1000))"
   ]
  },
  {
   "cell_type": "markdown",
   "metadata": {},
   "source": [
    "### 3.2. Focus determination"
   ]
  },
  {
   "cell_type": "code",
   "execution_count": null,
   "metadata": {},
   "outputs": [],
   "source": [
    "# 1 : Calculating mean value between the both mid position fibers\n",
    "[focus_adjustment] = ((focusModel.fca_x[focusModel.fiber.str.match('\\w{3}botmid')==True].values + focusModel.fca_x[focusModel.fiber.str.match('\\w{3}topmid')==True].values)/2) "
   ]
  },
  {
   "cell_type": "code",
   "execution_count": null,
   "metadata": {},
   "outputs": [],
   "source": [
    "# 2 : Calculating mean value between the both mid position fibers\n",
    "[focus_adjustment] = [focus_adjustment] - zemaxMidFit.focus"
   ]
  },
  {
   "cell_type": "code",
   "execution_count": null,
   "metadata": {},
   "outputs": [],
   "source": [
    "# 3 : Displying the defocus\n",
    "print(\"You have to adjust the focus by %.3f microns\" %(focus_adjustment*1000))"
   ]
  },
  {
   "cell_type": "markdown",
   "metadata": {},
   "source": [
    "## 4. Display Slit Through Focus graph"
   ]
  },
  {
   "cell_type": "markdown",
   "metadata": {},
   "source": [
    "### 4.1. Graph"
   ]
  },
  {
   "cell_type": "code",
   "execution_count": null,
   "metadata": {},
   "outputs": [],
   "source": [
    "fig = plt.figure(figsize=(12, 8))\n",
    "ax1 = fig.add_subplot(111)\n",
    "j=2\n",
    "\n",
    "if plotModel and exp.fiber.values[0][:3]==\"eng\" :\n",
    "    ax1.plot(zemaxData.Slitdefocus, zemaxData.MidFiber, '+', color=colors[0], label='Zemax_MidFiber = %.3f' % zemaxMidFit.focus)\n",
    "    ax1.plot(zemaxMidFit.x, zemaxMidFit.y, '--', color=colors[0])\n",
    "    if vline:\n",
    "        ax1.vlines(color=colors[0], **zemaxMidFit.vline)\n",
    "\n",
    "    ax1.plot(zemaxData.Slitdefocus, zemaxData.ExtremeFiber, '+', color=colors[1], label='Zemax_EndFiber = %.3f' % zemaxEndFit.focus)\n",
    "    ax1.plot(zemaxEndFit.x, zemaxEndFit.y, '--', color=colors[1])\n",
    "    if vline:\n",
    "        ax1.vlines(color=colors[1], **zemaxEndFit.vline)\n",
    "else :\n",
    "    print(\"Zemax model for engineering fibers non plotted\")\n",
    "\n",
    "\n",
    "    \n",
    "for experimentId, df in cube2[cube2.EE20_nbh_flag].groupby('experimentId'):\n",
    "    fit = thfocModel.query(\"experimentId==%d\"%(experimentId))\n",
    "    focus = focusModel.query(\"experimentId==%d and EE20=='%s'\"%(experimentId, \"EE20\"))\n",
    "\n",
    "    ax1.plot(df[index], df[\"EE20\"], 'o', color=colors[j], \n",
    "    label='expId%d:%s = %.3f' % (experimentId, experiments.fiber[experimentId], focus[index]))\n",
    "\n",
    "    ax1.plot(fit[index], fit[\"EE20\"], '--', color=colors[j])\n",
    "\n",
    "    if vline:\n",
    "        ax1.vlines(x=focus[index], ymin=fit[\"EE20\"].min(), ymax = fit[\"EE20\"].max(), color=colors[j])\n",
    "        j+=1\n",
    "    \n",
    "lns = [line for i, line in enumerate(ax1.get_lines()) if not i % 2]\n",
    "labs = [line.get_label() for line in lns]\n",
    "\n",
    "at = AnchoredText(\" Tilt-Y = %.3f millidegrees\"%(angle_degre*1000),\n",
    "                  prop=dict(size=15), frameon=True,\n",
    "                  loc='upper left',\n",
    "                  )\n",
    "at.patch.set_boxstyle(\"round,pad=0.,rounding_size=0.2\")\n",
    "ax1.add_artist(at)\n",
    "at2 = AnchoredText(\" Defocus = %.3f microns\"%(focus_adjustment*1000),\n",
    "                  prop=dict(size=15), frameon=True,\n",
    "                  loc='lower left',\n",
    "                  bbox_to_anchor=(0., 0.835),\n",
    "                  bbox_transform=ax1.transAxes\n",
    "                  )\n",
    "at2.patch.set_boxstyle(\"round,pad=0.,rounding_size=0.2\")\n",
    "\n",
    "if exp.fiber.values[0][:3]==\"eng\" :\n",
    "    ax1.add_artist(at2)\n",
    "\n",
    "ax1.legend(lns, labs)\n",
    "ax1.set_xlabel('%s(mm)'%index)\n",
    "ax1.set_ylabel(\"EE20\")\n",
    "\n",
    "plt.title(f'SM{smId} Slit Through focus : Zemax vs {str(focusModel.fiber[0][:3])}_Fibers \\n ExperimentIds = {experimentIds} \\n Criteria : EE20 doBck={doBck} \\n Date = {datetime.date.today()}  ')\n",
    "plt.grid()\n",
    "plt.show()\n",
    "\n"
   ]
  },
  {
   "cell_type": "markdown",
   "metadata": {},
   "source": [
    "### 4.2. Saving graph"
   ]
  },
  {
   "cell_type": "code",
   "execution_count": null,
   "metadata": {},
   "outputs": [],
   "source": [
    "if doSave : \n",
    "    fig.savefig(imgPath+f\"Slit_Through_focus_SM{smId}_{focusModel.fiber[0][:3]}_Exp{experimentIds}_{datetime.date.today()}.png\") "
   ]
  },
  {
   "cell_type": "code",
   "execution_count": null,
   "metadata": {},
   "outputs": [],
   "source": []
  }
 ],
 "metadata": {
  "kernelspec": {
   "display_name": "Python 3",
   "language": "python",
   "name": "python3"
  },
  "language_info": {
   "codemirror_mode": {
    "name": "ipython",
    "version": 3
   },
   "file_extension": ".py",
   "mimetype": "text/x-python",
   "name": "python",
   "nbconvert_exporter": "python",
   "pygments_lexer": "ipython3",
   "version": "3.7.2"
  }
 },
 "nbformat": 4,
 "nbformat_minor": 4
}
