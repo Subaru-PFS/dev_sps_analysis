{
 "cells": [
  {
   "cell_type": "markdown",
   "metadata": {},
   "source": [
    "# Slit through focus analysis for SM3 slit alignment "
   ]
  },
  {
   "cell_type": "markdown",
   "metadata": {},
   "source": [
    "**Creator :** Fabrice MADEC *(Laboratoire d'astrophysique de Marseille)*"
   ]
  },
  {
   "cell_type": "markdown",
   "metadata": {},
   "source": [
    "**Editor :** Romain LHOUSSAINE BEN BRAHIM *(Laboratoire d'astrophysique de Marseille)*"
   ]
  },
  {
   "cell_type": "markdown",
   "metadata": {},
   "source": [
    "**Date :** February 19th, 2021 ***[Closed on March, 3 2021]***"
   ]
  },
  {
   "cell_type": "markdown",
   "metadata": {},
   "source": [
    "**Data required:** You need to use ics_spsaitActor to perform your sequence,get the data required acquisitions to plot the through focus from the slit, and being able to find the right focus."
   ]
  },
  {
   "cell_type": "markdown",
   "metadata": {},
   "source": [
    "    Example : slit throughfocus exptime=6.0 lowBound=-0.5 upBound=1.5 fiber=engbotend nbPosition=10 duplicate=1\n",
    "    (lowBound and upBound are the ranges of the slit focus)"
   ]
  },
  {
   "cell_type": "markdown",
   "metadata": {},
   "source": [
    "## 0. Librairies, constants and parameters"
   ]
  },
  {
   "cell_type": "markdown",
   "metadata": {},
   "source": [
    "### 0.1. Classic librairies"
   ]
  },
  {
   "cell_type": "code",
   "execution_count": null,
   "metadata": {},
   "outputs": [],
   "source": [
    "import matplotlib.pyplot as plt\n",
    "import math\n",
    "import numpy as np\n",
    "import pandas as pd\n",
    "import os\n",
    "import datetime\n",
    "from matplotlib import style"
   ]
  },
  {
   "cell_type": "markdown",
   "metadata": {},
   "source": [
    "### 0.2. LAM Librairies"
   ]
  },
  {
   "cell_type": "code",
   "execution_count": null,
   "metadata": {},
   "outputs": [],
   "source": [
    "# import LAM library for logbook, data analysis...\n",
    "from pfs.lam.sacFileHandling import Logbook, constructFilelist\n",
    "import pfs.lam.imageAnalysis as imeas\n",
    "from pfs.lam.slitFocusAnalysis import *\n",
    "from pfs.lam.style import colors"
   ]
  },
  {
   "cell_type": "markdown",
   "metadata": {},
   "source": [
    "### 0.3. Constants & parameters"
   ]
  },
  {
   "cell_type": "code",
   "execution_count": null,
   "metadata": {},
   "outputs": [],
   "source": [
    "# Style sheets reference\n",
    "style.use('ggplot')"
   ]
  },
  {
   "cell_type": "code",
   "execution_count": null,
   "metadata": {},
   "outputs": [],
   "source": [
    "# Distance between engtopend & engbotend fibers\n",
    "CST_DIST_FIBERS = 138.84"
   ]
  },
  {
   "cell_type": "code",
   "execution_count": null,
   "metadata": {},
   "outputs": [],
   "source": [
    "imgPath = '/home/pfs/shared/Pictures/SM3/slitAlign/' # WARNING : You must verify that you are choosing the right SM folder !!"
   ]
  },
  {
   "cell_type": "code",
   "execution_count": null,
   "metadata": {},
   "outputs": [],
   "source": [
    "smId = 3"
   ]
  },
  {
   "cell_type": "markdown",
   "metadata": {},
   "source": [
    "## 1. Downloading Data"
   ]
  },
  {
   "cell_type": "markdown",
   "metadata": {},
   "source": [
    "### 1.0. Theorical Zeemax data"
   ]
  },
  {
   "cell_type": "code",
   "execution_count": null,
   "metadata": {},
   "outputs": [],
   "source": [
    "# Filepath of data model\n",
    "pmodel = os.environ['LAM_SPS_ANALYSIS_DIR']+\"/notebooks/optical/input/slit\"\n",
    "file = 'slit-defParam-Ouverture100-fiber65.csv'"
   ]
  },
  {
   "cell_type": "code",
   "execution_count": null,
   "metadata": {},
   "outputs": [],
   "source": [
    "# 1: Loading Zeemax data\n",
    "zemaxData = pd.read_csv('%s/%s' % (pmodel, file), delimiter=\" \")"
   ]
  },
  {
   "cell_type": "code",
   "execution_count": null,
   "metadata": {},
   "outputs": [],
   "source": [
    "# 2: Loading Zeemax data for medium fibers\n",
    "zemaxMidFit = imeas.fitparabola(x=zemaxData.Slitdefocus, y=zemaxData.MidFiber, deg=15, focus='max')"
   ]
  },
  {
   "cell_type": "code",
   "execution_count": null,
   "metadata": {},
   "outputs": [],
   "source": [
    "# 3: Loading Zeemax data for extreme fibers\n",
    "zemaxEndFit = imeas.fitparabola(x=zemaxData.Slitdefocus, y=zemaxData.ExtremeFiber, deg=15, focus='max')"
   ]
  },
  {
   "cell_type": "markdown",
   "metadata": {},
   "source": [
    "### 1.1. Experimental data"
   ]
  },
  {
   "cell_type": "code",
   "execution_count": null,
   "metadata": {},
   "outputs": [],
   "source": [
    "# Loading data from the data base\n",
    "experiments = pd.read_sql_query('select * from Experiment where type=\"slitAlignment\" order by experimentId desc',\n",
    "                                con='sqlite:////data/ait/experimentLog-sac.db', index_col='experimentId')"
   ]
  },
  {
   "cell_type": "code",
   "execution_count": null,
   "metadata": {},
   "outputs": [],
   "source": [
    "# Data manipulation\n",
    "experiments['exptime'] = [Logbook.getParameter(experimentId, 'exptime') for experimentId in experiments.index]\n",
    "experiments['fiber'] = [Logbook.getParameter(experimentId, 'fiber', doRaise=False) for experimentId in experiments.index]"
   ]
  },
  {
   "cell_type": "code",
   "execution_count": null,
   "metadata": {},
   "outputs": [],
   "source": [
    "# Display of the 5 last acquisitions made on the SacSequence Panel\n",
    "experiments.head()"
   ]
  },
  {
   "cell_type": "markdown",
   "metadata": {},
   "source": [
    "## 2. Data Analysis"
   ]
  },
  {
   "cell_type": "markdown",
   "metadata": {},
   "source": [
    "### 2.1. Input Parameters : "
   ]
  },
  {
   "cell_type": "markdown",
   "metadata": {},
   "source": [
    "The only parameters needed is the experimentIds that match your data acquisition sequence."
   ]
  },
  {
   "cell_type": "code",
   "execution_count": null,
   "metadata": {},
   "outputs": [],
   "source": [
    "experimentIds = [465,466,467,468]     # Ids needed for the slit through focus analysis\n",
    "com           = True                  #\n",
    "doBck         = True                  #\n",
    "corrector     = False                 #\n",
    "doSave        = True                  # Parameter that allow to save the through slit focus on the distant computer \n",
    "head          = 0                     #\n",
    "tail          = 0                     #\n",
    "dfs           = []                    #\n",
    "#bck_expId     = 260                   #"
   ]
  },
  {
   "cell_type": "code",
   "execution_count": null,
   "metadata": {},
   "outputs": [],
   "source": [
    "threshold = 300                   #\n",
    "radius = 60                       #\n",
    "doPrint = False                   #\n",
    "doPlot = False                    #\n",
    "roi_size = 150                    #\n"
   ]
  },
  {
   "cell_type": "code",
   "execution_count": null,
   "metadata": {},
   "outputs": [],
   "source": [
    "fwhm_radius = radius              #\n",
    "fwhm_method = 'gaussian'          #"
   ]
  },
  {
   "cell_type": "code",
   "execution_count": null,
   "metadata": {},
   "outputs": [],
   "source": [
    "vline = True\n",
    "plotModel = False\n",
    "index = 'fca_x'"
   ]
  },
  {
   "cell_type": "code",
   "execution_count": null,
   "metadata": {},
   "outputs": [],
   "source": [
    "criteria = 'EE40'\n",
    "EE = 20\n",
    "if criteria == 'EE40' :\n",
    "    EE      = 40"
   ]
  },
  {
   "cell_type": "markdown",
   "metadata": {},
   "source": [
    "### 2.2. Compile the maximum brightness according to the focus's displacement"
   ]
  },
  {
   "cell_type": "code",
   "execution_count": null,
   "metadata": {},
   "outputs": [],
   "source": [
    "for experimentId in experimentIds:\n",
    "    visitStart, visitEnd = Logbook.visitRange(experimentId=experimentId)\n",
    "    filelist = constructFilelist(visitStart=visitStart, visitEnd=visitEnd)\n",
    "    duplicate = int(Logbook.getParameter(experimentId=experimentId, param='duplicate'))\n",
    "    filelist = filelist[head*duplicate:len(filelist)-tail*duplicate]\n",
    "    guessedPos = getSlitPosFromMove(experimentId)\n",
    "    fiberId = Logbook.getParameter(experimentId, 'fiber', doRaise=False)\n",
    "\n",
    "    res = []\n",
    "    for i in range(len(filelist) // duplicate):\n",
    "        hdr, data = stackedImage(filelist=filelist, ind=i, duplicate=duplicate, doBck=doBck)\n",
    "        \n",
    "        if doPlot:\n",
    "            plt.imshow(data, origin = 'lower', cmap = 'gray', vmin=300, vmax=800)\n",
    "        \n",
    "        calc = iqcalc.IQCalc(None)\n",
    "        peaks = calc.find_bright_peaks(data, threshold=threshold, radius=radius)\n",
    "        objlist = calc.evaluate_peaks(peaks, data, fwhm_radius=radius, cb_fn=None, ev_intr=None, fwhm_method='gaussian')\n",
    "        \n",
    "        if doPrint: \n",
    "            print(len(objlist))\n",
    "\n",
    "        objlist = [elem for elem in objlist if (elem['fwhm'] > 15)\n",
    "                                            and (elem['fwhm_x'] > 15) \n",
    "                                            and (elem['fwhm_y'] > 15)\n",
    "                                            and (0 < elem['objx'] < 1940)\n",
    "                                            and (0 < elem['objy'] < 1460)\n",
    "                                            and (threshold < elem['brightness'] < 50000)]\n",
    "        \n",
    "        for obj in objlist :\n",
    "            plt.scatter(obj['oid_x'],obj['oid_y'],s=80,c='red',marker='x',label='peak', edgecolors=None)\n",
    "        \n",
    "        if doPlot:\n",
    "            plt.show()\n",
    "\n",
    "        if doPrint: \n",
    "            print(f\"Object detected after filtering: {len(objlist)}\")\n",
    "        \n",
    "        if not objlist:\n",
    "            print('peak has not been properly detected')\n",
    "            obj ={\"px\": np.nan,\n",
    "                  \"py\": np.nan,\n",
    "                  \"oid_x\": np.nan,\n",
    "                  \"oid_y\": np.nan,\n",
    "                  \"EE20\" : np.nan\n",
    "                 }\n",
    "            dict(obj)\n",
    "        \n",
    "        else:\n",
    "            maxi = np.nanargmax([imeas.getEE(image=data, cx=peak['oid_x'], cy=peak['oid_y'], ee_size=EE, roi_size=300)[0] for peak in objlist])\n",
    "            cx = objlist[maxi]['oid_x']\n",
    "            cy = objlist[maxi]['oid_y']\n",
    "\n",
    "        peak = imeas.getPeakData(data, cx, cy, EE=[EE], roi_size=roi_size, doPlot=False, com=com, fwhm_radius=fwhm_radius, fwhm_method=fwhm_method)\n",
    "        peak['experimentId'] = experimentId\n",
    "        peak['fiber'] = fiberId\n",
    "        \n",
    "        try:\n",
    "            fca_x = hdr['FCA_X']\n",
    "        \n",
    "        except KeyError:\n",
    "            fca_x = guessedPos[i]\n",
    "\n",
    "        peak['fca_x'] = fca_x\n",
    "        res.append(peak)\n",
    "        \n",
    "        if doPlot:\n",
    "            plt.show()\n",
    "        \n",
    "        if doPrint:\n",
    "            print(\"\\n\")\n",
    "        \n",
    "        df = pd.DataFrame(res)\n",
    "    \n",
    "    dfs.append(df)\n",
    "\n",
    "cube = pd.concat(dfs)"
   ]
  },
  {
   "cell_type": "markdown",
   "metadata": {},
   "source": [
    "### 2.3. Plot framed energy by 20 squared pixels"
   ]
  },
  {
   "cell_type": "code",
   "execution_count": null,
   "metadata": {},
   "outputs": [],
   "source": [
    "cube.plot(x='fca_x',y='EE40',style='*')"
   ]
  },
  {
   "cell_type": "code",
   "execution_count": null,
   "metadata": {},
   "outputs": [],
   "source": [
    "cube.set_index('fca_x').groupby('fiber')[\"EE40\"].plot(legend=True,style='*')"
   ]
  },
  {
   "cell_type": "code",
   "execution_count": null,
   "metadata": {},
   "outputs": [],
   "source": [
    "thres_neighbor = -0.1\n",
    "doNeighborFilter = True"
   ]
  },
  {
   "cell_type": "code",
   "execution_count": null,
   "metadata": {},
   "outputs": [],
   "source": [
    "if doNeighborFilter :\n",
    "    cube2 = imeas.neighbor_outlier_filter(cube,\"EE40\",thres_neighbor, absolute=True)\n"
   ]
  },
  {
   "cell_type": "code",
   "execution_count": null,
   "metadata": {},
   "outputs": [],
   "source": [
    "#cube2[cube2.EE20_diff_flag].groupby([\"experimentId\"]).plot(x='fca_x',y='EE20',style='*')\n",
    "cube2[cube2.EE40_nbh_flag].set_index('fca_x').groupby(\"fiber\")[\"EE40\"].plot(legend=True,style='-*')"
   ]
  },
  {
   "cell_type": "code",
   "execution_count": null,
   "metadata": {},
   "outputs": [],
   "source": [
    "criteria = 'EE40'"
   ]
  },
  {
   "cell_type": "code",
   "execution_count": null,
   "metadata": {},
   "outputs": [],
   "source": [
    "def fitFocusData(cube, corrector=False, doPlot=False, index='fca_x', criteria = 'EE20'):\n",
    "    thfoc_data = []\n",
    "    \n",
    "    for experimentId, series in cube.groupby('experimentId'):\n",
    "        series = series.dropna()\n",
    "        thfoc = getFocus(series, criteria, index, corrector=corrector)\n",
    "#        for criteria in ['brightness', 'fwhm']:\n",
    "#            thfoc[criteria] = getFocus(series, criteria, index, corrector=corrector)[criteria]\n",
    "\n",
    "        thfoc['px'] = np.interp(thfoc[index], series[index], series['px'])\n",
    "        thfoc['py'] = np.interp(thfoc[index], series[index], series['py'])\n",
    "        thfoc['experimentId'] = experimentId\n",
    "        thfoc['fiber'] = series['fiber'].unique()[0]\n",
    "\n",
    "        thfoc_data.append(thfoc)\n",
    "        \n",
    "    thfoc_data = pd.concat(thfoc_data)\n",
    "\n",
    "    if doPlot:\n",
    "        kwargs = dict(grid=True, figsize=(14,10), legend=True, subplots=True)\n",
    "#        criterias = ['EE20', 'brightness', 'fwhm']\n",
    "        criterias = [criteria]\n",
    "        \n",
    "        for experimentId, fit in thfoc_data.groupby('experimentId'):\n",
    "            raw = cube.query(\"experimentId==%d\"%(experimentId))\n",
    "            axes = fit.set_index(index)[criterias].plot(**kwargs)\n",
    "            for i, criteria in enumerate(criterias):\n",
    "                axes[i].plot(raw[index].values, raw[criteria].values, 'o')\n",
    "                \n",
    "    return thfoc_data"
   ]
  },
  {
   "cell_type": "code",
   "execution_count": null,
   "metadata": {},
   "outputs": [],
   "source": [
    "thfocModel= fitFocusData(cube2[cube2.EE40_nbh_flag], corrector=False, doPlot=True, criteria = 'EE40')"
   ]
  },
  {
   "cell_type": "code",
   "execution_count": null,
   "metadata": {},
   "outputs": [],
   "source": [
    "def getFocusModel(fitdata, index='fca_x'):\n",
    "    data = []\n",
    "    for experimentId, series in fitdata.groupby('experimentId'):\n",
    "        series = series.dropna()\n",
    "        fiber = series['fiber'].unique()[0]\n",
    "#        for criteria in ['EE20', 'brightness', 'fwhm']:\n",
    "        for i in [criteria]:\n",
    "\n",
    "            ixmax = series[i].idxmax() if criteria !='fwhm' else series[i].idxmin()\n",
    "            focus = series[index][ixmax]\n",
    "            px = series.px[ixmax]\n",
    "            py = series.py[ixmax]\n",
    "            mat = [experimentId, i, px, py, focus, fiber]\n",
    "            data.append(tuple(mat))\n",
    "    \n",
    "    return pd.DataFrame(data, columns=['experimentId', 'criteria', 'px', 'py', index,'fiber'])"
   ]
  },
  {
   "cell_type": "code",
   "execution_count": null,
   "metadata": {},
   "outputs": [],
   "source": [
    "focusModel = getFocusModel(thfocModel)"
   ]
  },
  {
   "cell_type": "code",
   "execution_count": null,
   "metadata": {},
   "outputs": [],
   "source": [
    "fig = plt.figure(figsize=(12, 8))\n",
    "ax1 = fig.add_subplot(111)\n",
    "j=2\n",
    "\n",
    "if criteria == 'EE20' :\n",
    "    if plotModel:\n",
    "        ax1.plot(zemaxData.Slitdefocus, zemaxData.MidFiber, '+', color=colors[0], label='Zemax_MidFiber = %.3f' % zemaxMidFit.focus)\n",
    "        ax1.plot(zemaxMidFit.x, zemaxMidFit.y, '--', color=colors[0])\n",
    "        if vline:\n",
    "            ax1.vlines(color=colors[0], **zemaxMidFit.vline)\n",
    "\n",
    "        ax1.plot(zemaxData.Slitdefocus, zemaxData.ExtremeFiber, '+', color=colors[1], label='Zemax_EndFiber = %.3f' % zemaxEndFit.focus)\n",
    "        ax1.plot(zemaxEndFit.x, zemaxEndFit.y, '--', color=colors[1])\n",
    "        if vline:\n",
    "            ax1.vlines(color=colors[1], **zemaxEndFit.vline)\n",
    "\n",
    "for experimentId, df in cube2[cube2.EE40_nbh_flag].groupby('experimentId'):\n",
    "    fit = thfocModel.query(\"experimentId==%d\"%(experimentId))\n",
    "    focus = focusModel.query(\"experimentId==%d and criteria=='%s'\"%(experimentId, criteria))\n",
    "    \n",
    "    ax1.plot(df[index], df[criteria], 'o', color=colors[j], \n",
    "             #label='expId%d = %.3f' % (experimentId, experiments.fiber[experimentId]))\n",
    "             label='expId%d:%s = %.3f' % (experimentId, experiments.fiber[experimentId], focus[index]))\n",
    "\n",
    "    ax1.plot(fit[index], fit[criteria], '--', color=colors[j])\n",
    "    \n",
    "    if vline:\n",
    "        ax1.vlines(x=focus[index], ymin=fit[criteria].min(), ymax = fit[criteria].max(), color=colors[j])\n",
    "    j+=1\n",
    "\n",
    "    \n",
    "lns = [line for i, line in enumerate(ax1.get_lines()) if not i % 2]\n",
    "labs = [line.get_label() for line in lns]\n",
    "\n",
    "ax1.legend(lns, labs)\n",
    "ax1.set_xlabel('%s(mm)'%index)\n",
    "ax1.set_ylabel(criteria)\n",
    "\n",
    "plt.title('%s Slit Through focus : Zemax vs %s_Fibers \\n ExperimentIds = %s \\n Criteria : %s doBck=%s \\n Date = %s  ' %(imgPath[26:29],str(focusModel.fiber[0][:3]),experimentIds,criteria,doBck,datetime.date.today()))\n",
    "plt.grid()"
   ]
  },
  {
   "cell_type": "code",
   "execution_count": null,
   "metadata": {},
   "outputs": [],
   "source": [
    "if doSave : \n",
    "    fig.savefig(imgPath+f\"Slit_Through_focus_SM{smId}_{focusModel.fiber[0][:3]}_Exp{experimentIds}_{datetime.date.today()}.png\") "
   ]
  },
  {
   "cell_type": "markdown",
   "metadata": {},
   "source": [
    "## Tilt & Focus determination"
   ]
  },
  {
   "cell_type": "markdown",
   "metadata": {},
   "source": [
    "### Tilt determination"
   ]
  },
  {
   "cell_type": "code",
   "execution_count": null,
   "metadata": {},
   "outputs": [],
   "source": [
    "# 1 : Computing position difference between both extreme fibers\n",
    "[tilt_ry] = focusModel.fca_x[focusModel.fiber.str.match('\\w{3}botend')==True].values - focusModel.fca_x[focusModel.fiber.str.match('\\w{3}topend')==True].values\n",
    "\n",
    "# 2 : Computing tilt on y axis (rad)\n",
    "angle=np.arctan(tilt_ry/CST_DIST_FIBERS)\n",
    "\n",
    "# 3 : Converting in degrees\n",
    "angle_degre=(angle*180)/(np.pi)\n",
    "\n",
    "print(\"There is a tilt of\",angle_degre, \"degrees\")"
   ]
  },
  {
   "cell_type": "markdown",
   "metadata": {},
   "source": [
    "### Focus determination"
   ]
  },
  {
   "cell_type": "code",
   "execution_count": null,
   "metadata": {},
   "outputs": [],
   "source": [
    "[focus_adjustment] = focusModel.fca_x[focusModel.fiber.str.match('\\w{3}botmid')==True].values - focusModel.fca_x[focusModel.fiber.str.match('\\w{3}topmid')==True].values\n",
    "print(\"You have to adjust the focus by\",focus_adjustment, \"milimeters\")"
   ]
  }
 ],
 "metadata": {
  "kernelspec": {
   "display_name": "Python 3",
   "language": "python",
   "name": "python3"
  },
  "language_info": {
   "codemirror_mode": {
    "name": "ipython",
    "version": 3
   },
   "file_extension": ".py",
   "mimetype": "text/x-python",
   "name": "python",
   "nbconvert_exporter": "python",
   "pygments_lexer": "ipython3",
   "version": "3.7.2"
  }
 },
 "nbformat": 4,
 "nbformat_minor": 4
}
