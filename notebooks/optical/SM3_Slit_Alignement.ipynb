{
 "cells": [
  {
   "cell_type": "code",
   "execution_count": 1,
   "metadata": {},
   "outputs": [],
   "source": [
    "import matplotlib.pyplot as plt\n",
    "import numpy as np\n",
    "import pandas as pd\n",
    "import os"
   ]
  },
  {
   "cell_type": "code",
   "execution_count": 2,
   "metadata": {},
   "outputs": [],
   "source": [
    "# import LAM library for logbook, data analysis...\n",
    "from pfs.lam.sacFileHandling import Logbook, constructFilelist\n",
    "import pfs.lam.imageAnalysis as imeas\n",
    "from pfs.lam.slitFocusAnalysis import *\n",
    "from pfs.lam.style import colors"
   ]
  },
  {
   "cell_type": "code",
   "execution_count": 3,
   "metadata": {},
   "outputs": [],
   "source": [
    "from matplotlib import style\n",
    "style.use('ggplot')"
   ]
  },
  {
   "cell_type": "code",
   "execution_count": 4,
   "metadata": {},
   "outputs": [],
   "source": [
    "imgPath = '/home/pfs/shared/Pictures/SM3/slitAlign'"
   ]
  },
  {
   "cell_type": "code",
   "execution_count": 5,
   "metadata": {},
   "outputs": [],
   "source": [
    "smId = 3"
   ]
  },
  {
   "cell_type": "code",
   "execution_count": 32,
   "metadata": {},
   "outputs": [],
   "source": [
    "# filepath of data model\n",
    "pmodel = os.environ['LAM_SPS_ANALYSIS_DIR']+\"/notebooks/optical/input/slit\"  # '/home/pfs/dev/ait-notebook/optical/input/slit'\n",
    "file = 'slit-defParam-Ouverture100-fiber65.csv'\n",
    "file = 'Science-slit-defParam-nomask.csv'"
   ]
  },
  {
   "cell_type": "code",
   "execution_count": 33,
   "metadata": {},
   "outputs": [
    {
     "ename": "AttributeError",
     "evalue": "'DataFrame' object has no attribute 'Slitdefocus'",
     "output_type": "error",
     "traceback": [
      "\u001b[0;31m---------------------------------------------------------------------------\u001b[0m",
      "\u001b[0;31mAttributeError\u001b[0m                            Traceback (most recent call last)",
      "\u001b[0;32m<ipython-input-33-e9078e245f79>\u001b[0m in \u001b[0;36m<module>\u001b[0;34m\u001b[0m\n\u001b[1;32m      1\u001b[0m \u001b[0mzemaxData\u001b[0m \u001b[0;34m=\u001b[0m \u001b[0mpd\u001b[0m\u001b[0;34m.\u001b[0m\u001b[0mread_csv\u001b[0m\u001b[0;34m(\u001b[0m\u001b[0;34m'%s/%s'\u001b[0m \u001b[0;34m%\u001b[0m \u001b[0;34m(\u001b[0m\u001b[0mpmodel\u001b[0m\u001b[0;34m,\u001b[0m \u001b[0mfile\u001b[0m\u001b[0;34m)\u001b[0m\u001b[0;34m,\u001b[0m \u001b[0mdelimiter\u001b[0m\u001b[0;34m=\u001b[0m\u001b[0;34m\" \"\u001b[0m\u001b[0;34m)\u001b[0m\u001b[0;34m\u001b[0m\u001b[0;34m\u001b[0m\u001b[0m\n\u001b[0;32m----> 2\u001b[0;31m \u001b[0mzemaxMidFit\u001b[0m \u001b[0;34m=\u001b[0m \u001b[0mimeas\u001b[0m\u001b[0;34m.\u001b[0m\u001b[0mfitparabola\u001b[0m\u001b[0;34m(\u001b[0m\u001b[0mx\u001b[0m\u001b[0;34m=\u001b[0m\u001b[0mzemaxData\u001b[0m\u001b[0;34m.\u001b[0m\u001b[0mSlitdefocus\u001b[0m\u001b[0;34m,\u001b[0m \u001b[0my\u001b[0m\u001b[0;34m=\u001b[0m\u001b[0mzemaxData\u001b[0m\u001b[0;34m.\u001b[0m\u001b[0mMidFiber\u001b[0m\u001b[0;34m,\u001b[0m \u001b[0mdeg\u001b[0m\u001b[0;34m=\u001b[0m\u001b[0;36m15\u001b[0m\u001b[0;34m,\u001b[0m \u001b[0mfocus\u001b[0m\u001b[0;34m=\u001b[0m\u001b[0;34m'max'\u001b[0m\u001b[0;34m)\u001b[0m\u001b[0;34m\u001b[0m\u001b[0;34m\u001b[0m\u001b[0m\n\u001b[0m\u001b[1;32m      3\u001b[0m \u001b[0mzemaxEndFit\u001b[0m \u001b[0;34m=\u001b[0m \u001b[0mimeas\u001b[0m\u001b[0;34m.\u001b[0m\u001b[0mfitparabola\u001b[0m\u001b[0;34m(\u001b[0m\u001b[0mx\u001b[0m\u001b[0;34m=\u001b[0m\u001b[0mzemaxData\u001b[0m\u001b[0;34m.\u001b[0m\u001b[0mSlitdefocus\u001b[0m\u001b[0;34m,\u001b[0m \u001b[0my\u001b[0m\u001b[0;34m=\u001b[0m\u001b[0mzemaxData\u001b[0m\u001b[0;34m.\u001b[0m\u001b[0mExtremeFiber\u001b[0m\u001b[0;34m,\u001b[0m \u001b[0mdeg\u001b[0m\u001b[0;34m=\u001b[0m\u001b[0;36m15\u001b[0m\u001b[0;34m,\u001b[0m \u001b[0mfocus\u001b[0m\u001b[0;34m=\u001b[0m\u001b[0;34m'max'\u001b[0m\u001b[0;34m)\u001b[0m\u001b[0;34m\u001b[0m\u001b[0;34m\u001b[0m\u001b[0m\n",
      "\u001b[0;32m/software/drp/python/miniconda3-4.5.12/envs/lsst-scipipe-1172c30/lib/python3.7/site-packages/pandas/core/generic.py\u001b[0m in \u001b[0;36m__getattr__\u001b[0;34m(self, name)\u001b[0m\n\u001b[1;32m   5272\u001b[0m             \u001b[0;32mif\u001b[0m \u001b[0mself\u001b[0m\u001b[0;34m.\u001b[0m\u001b[0m_info_axis\u001b[0m\u001b[0;34m.\u001b[0m\u001b[0m_can_hold_identifiers_and_holds_name\u001b[0m\u001b[0;34m(\u001b[0m\u001b[0mname\u001b[0m\u001b[0;34m)\u001b[0m\u001b[0;34m:\u001b[0m\u001b[0;34m\u001b[0m\u001b[0;34m\u001b[0m\u001b[0m\n\u001b[1;32m   5273\u001b[0m                 \u001b[0;32mreturn\u001b[0m \u001b[0mself\u001b[0m\u001b[0;34m[\u001b[0m\u001b[0mname\u001b[0m\u001b[0;34m]\u001b[0m\u001b[0;34m\u001b[0m\u001b[0;34m\u001b[0m\u001b[0m\n\u001b[0;32m-> 5274\u001b[0;31m             \u001b[0;32mreturn\u001b[0m \u001b[0mobject\u001b[0m\u001b[0;34m.\u001b[0m\u001b[0m__getattribute__\u001b[0m\u001b[0;34m(\u001b[0m\u001b[0mself\u001b[0m\u001b[0;34m,\u001b[0m \u001b[0mname\u001b[0m\u001b[0;34m)\u001b[0m\u001b[0;34m\u001b[0m\u001b[0;34m\u001b[0m\u001b[0m\n\u001b[0m\u001b[1;32m   5275\u001b[0m \u001b[0;34m\u001b[0m\u001b[0m\n\u001b[1;32m   5276\u001b[0m     \u001b[0;32mdef\u001b[0m \u001b[0m__setattr__\u001b[0m\u001b[0;34m(\u001b[0m\u001b[0mself\u001b[0m\u001b[0;34m,\u001b[0m \u001b[0mname\u001b[0m\u001b[0;34m:\u001b[0m \u001b[0mstr\u001b[0m\u001b[0;34m,\u001b[0m \u001b[0mvalue\u001b[0m\u001b[0;34m)\u001b[0m \u001b[0;34m->\u001b[0m \u001b[0;32mNone\u001b[0m\u001b[0;34m:\u001b[0m\u001b[0;34m\u001b[0m\u001b[0;34m\u001b[0m\u001b[0m\n",
      "\u001b[0;31mAttributeError\u001b[0m: 'DataFrame' object has no attribute 'Slitdefocus'"
     ]
    }
   ],
   "source": [
    "zemaxData = pd.read_csv('%s/%s' % (pmodel, file), delimiter=\" \")\n",
    "zemaxMidFit = imeas.fitparabola(x=zemaxData.Slitdefocus, y=zemaxData.MidFiber, deg=15, focus='max')\n",
    "zemaxEndFit = imeas.fitparabola(x=zemaxData.Slitdefocus, y=zemaxData.ExtremeFiber, deg=15, focus='max')"
   ]
  },
  {
   "cell_type": "code",
   "execution_count": 31,
   "metadata": {},
   "outputs": [
    {
     "data": {
      "text/html": [
       "<div>\n",
       "<style scoped>\n",
       "    .dataframe tbody tr th:only-of-type {\n",
       "        vertical-align: middle;\n",
       "    }\n",
       "\n",
       "    .dataframe tbody tr th {\n",
       "        vertical-align: top;\n",
       "    }\n",
       "\n",
       "    .dataframe thead th {\n",
       "        text-align: right;\n",
       "    }\n",
       "</style>\n",
       "<table border=\"1\" class=\"dataframe\">\n",
       "  <thead>\n",
       "    <tr style=\"text-align: right;\">\n",
       "      <th></th>\n",
       "      <th>Slitdefocus</th>\n",
       "      <th>MidFiber</th>\n",
       "      <th>ExtremeFiber</th>\n",
       "    </tr>\n",
       "  </thead>\n",
       "  <tbody>\n",
       "    <tr>\n",
       "      <th>0</th>\n",
       "      <td>-2.00</td>\n",
       "      <td>0.02374</td>\n",
       "      <td>0.02034</td>\n",
       "    </tr>\n",
       "    <tr>\n",
       "      <th>1</th>\n",
       "      <td>-1.95</td>\n",
       "      <td>0.02501</td>\n",
       "      <td>0.02146</td>\n",
       "    </tr>\n",
       "    <tr>\n",
       "      <th>2</th>\n",
       "      <td>-1.90</td>\n",
       "      <td>0.02603</td>\n",
       "      <td>0.02213</td>\n",
       "    </tr>\n",
       "    <tr>\n",
       "      <th>3</th>\n",
       "      <td>-1.85</td>\n",
       "      <td>0.02772</td>\n",
       "      <td>0.02325</td>\n",
       "    </tr>\n",
       "    <tr>\n",
       "      <th>4</th>\n",
       "      <td>-1.80</td>\n",
       "      <td>0.02961</td>\n",
       "      <td>0.02386</td>\n",
       "    </tr>\n",
       "    <tr>\n",
       "      <th>...</th>\n",
       "      <td>...</td>\n",
       "      <td>...</td>\n",
       "      <td>...</td>\n",
       "    </tr>\n",
       "    <tr>\n",
       "      <th>75</th>\n",
       "      <td>1.75</td>\n",
       "      <td>0.03407</td>\n",
       "      <td>0.04195</td>\n",
       "    </tr>\n",
       "    <tr>\n",
       "      <th>76</th>\n",
       "      <td>1.80</td>\n",
       "      <td>0.03173</td>\n",
       "      <td>0.03974</td>\n",
       "    </tr>\n",
       "    <tr>\n",
       "      <th>77</th>\n",
       "      <td>1.85</td>\n",
       "      <td>0.02981</td>\n",
       "      <td>0.03722</td>\n",
       "    </tr>\n",
       "    <tr>\n",
       "      <th>78</th>\n",
       "      <td>1.90</td>\n",
       "      <td>0.02794</td>\n",
       "      <td>0.03527</td>\n",
       "    </tr>\n",
       "    <tr>\n",
       "      <th>79</th>\n",
       "      <td>1.95</td>\n",
       "      <td>0.02644</td>\n",
       "      <td>0.03352</td>\n",
       "    </tr>\n",
       "  </tbody>\n",
       "</table>\n",
       "<p>80 rows × 3 columns</p>\n",
       "</div>"
      ],
      "text/plain": [
       "    Slitdefocus  MidFiber  ExtremeFiber\n",
       "0         -2.00   0.02374       0.02034\n",
       "1         -1.95   0.02501       0.02146\n",
       "2         -1.90   0.02603       0.02213\n",
       "3         -1.85   0.02772       0.02325\n",
       "4         -1.80   0.02961       0.02386\n",
       "..          ...       ...           ...\n",
       "75         1.75   0.03407       0.04195\n",
       "76         1.80   0.03173       0.03974\n",
       "77         1.85   0.02981       0.03722\n",
       "78         1.90   0.02794       0.03527\n",
       "79         1.95   0.02644       0.03352\n",
       "\n",
       "[80 rows x 3 columns]"
      ]
     },
     "execution_count": 31,
     "metadata": {},
     "output_type": "execute_result"
    }
   ],
   "source": [
    "zemaxData"
   ]
  },
  {
   "cell_type": "code",
   "execution_count": 8,
   "metadata": {},
   "outputs": [],
   "source": [
    "experiments = pd.read_sql_query('select * from Experiment where type=\"slitAlignment\" order by experimentId desc',\n",
    "                                con='sqlite:////data/ait/experimentLog-sac.db', index_col='experimentId')\n",
    "\n",
    "experiments['exptime'] = [Logbook.getParameter(experimentId, 'exptime') for experimentId in experiments.index]\n",
    "experiments['fiber'] = [Logbook.getParameter(experimentId, 'fiber', doRaise=False) for experimentId in experiments.index]"
   ]
  },
  {
   "cell_type": "raw",
   "metadata": {},
   "source": [
    "fiberId = {126:'engtopmid',127:'engbotmid',128:'engtopmid',129:'engtopmid', 130:'engtopmid', 131:'engbotmid', 132:'engbotmid', 133:'engbotmid', 135:'engtopmid'}\n",
    "\n",
    "experiments['fiber']  = [experiments.fiber[experimentId] if experimentId not in fiberId.keys() else fiberId[experimentId] for experimentId in experiments.index ]"
   ]
  },
  {
   "cell_type": "code",
   "execution_count": 9,
   "metadata": {},
   "outputs": [
    {
     "data": {
      "text/html": [
       "<div>\n",
       "<style scoped>\n",
       "    .dataframe tbody tr th:only-of-type {\n",
       "        vertical-align: middle;\n",
       "    }\n",
       "\n",
       "    .dataframe tbody tr th {\n",
       "        vertical-align: top;\n",
       "    }\n",
       "\n",
       "    .dataframe thead th {\n",
       "        text-align: right;\n",
       "    }\n",
       "</style>\n",
       "<table border=\"1\" class=\"dataframe\">\n",
       "  <thead>\n",
       "    <tr style=\"text-align: right;\">\n",
       "      <th></th>\n",
       "      <th>name</th>\n",
       "      <th>visitStart</th>\n",
       "      <th>visitEnd</th>\n",
       "      <th>type</th>\n",
       "      <th>cmdStr</th>\n",
       "      <th>comments</th>\n",
       "      <th>anomalies</th>\n",
       "      <th>startdate</th>\n",
       "      <th>cmdError</th>\n",
       "      <th>exptime</th>\n",
       "      <th>fiber</th>\n",
       "    </tr>\n",
       "    <tr>\n",
       "      <th>experimentId</th>\n",
       "      <th></th>\n",
       "      <th></th>\n",
       "      <th></th>\n",
       "      <th></th>\n",
       "      <th></th>\n",
       "      <th></th>\n",
       "      <th></th>\n",
       "      <th></th>\n",
       "      <th></th>\n",
       "      <th></th>\n",
       "      <th></th>\n",
       "    </tr>\n",
       "  </thead>\n",
       "  <tbody>\n",
       "    <tr>\n",
       "      <th>438</th>\n",
       "      <td>SM3_Slit_Alignment</td>\n",
       "      <td>12717</td>\n",
       "      <td>12776</td>\n",
       "      <td>slitAlignment</td>\n",
       "      <td>spsait slit align exptime=4.0 position=-1.5,2....</td>\n",
       "      <td>DCB2 halogen no mask</td>\n",
       "      <td></td>\n",
       "      <td>2021-02-15T14:04:06</td>\n",
       "      <td></td>\n",
       "      <td>4.0</td>\n",
       "      <td>scibotend</td>\n",
       "    </tr>\n",
       "    <tr>\n",
       "      <th>437</th>\n",
       "      <td>SM3_Slit_Alignment</td>\n",
       "      <td>12657</td>\n",
       "      <td>12716</td>\n",
       "      <td>slitAlignment</td>\n",
       "      <td>spsait slit align exptime=4.0 position=-1.5,2....</td>\n",
       "      <td>DCB2 halogen no mask</td>\n",
       "      <td></td>\n",
       "      <td>2021-02-15T13:41:11</td>\n",
       "      <td></td>\n",
       "      <td>4.0</td>\n",
       "      <td>scibotmid</td>\n",
       "    </tr>\n",
       "    <tr>\n",
       "      <th>436</th>\n",
       "      <td>SM3_Slit_Alignment</td>\n",
       "      <td>12597</td>\n",
       "      <td>12656</td>\n",
       "      <td>slitAlignment</td>\n",
       "      <td>spsait slit align exptime=4.0 position=-1.5,2....</td>\n",
       "      <td>DCB2 halogen no mask</td>\n",
       "      <td></td>\n",
       "      <td>2021-02-15T13:17:59</td>\n",
       "      <td></td>\n",
       "      <td>4.0</td>\n",
       "      <td>scitopmid</td>\n",
       "    </tr>\n",
       "    <tr>\n",
       "      <th>435</th>\n",
       "      <td>SM3_Slit_Alignment</td>\n",
       "      <td>12537</td>\n",
       "      <td>12596</td>\n",
       "      <td>slitAlignment</td>\n",
       "      <td>spsait slit align exptime=4.0 position=-1.5,2....</td>\n",
       "      <td>DCB2 halogen no mask</td>\n",
       "      <td></td>\n",
       "      <td>2021-02-15T12:53:47</td>\n",
       "      <td></td>\n",
       "      <td>4.0</td>\n",
       "      <td>scitopend</td>\n",
       "    </tr>\n",
       "    <tr>\n",
       "      <th>426</th>\n",
       "      <td>SM3_Slit_Alignment</td>\n",
       "      <td>12379</td>\n",
       "      <td>12438</td>\n",
       "      <td>slitAlignment</td>\n",
       "      <td>spsait slit align exptime=4.0 position=-1.5,2....</td>\n",
       "      <td>DCB2 halogen no mask</td>\n",
       "      <td></td>\n",
       "      <td>2021-02-12T17:11:51</td>\n",
       "      <td></td>\n",
       "      <td>4.0</td>\n",
       "      <td>scitopend</td>\n",
       "    </tr>\n",
       "    <tr>\n",
       "      <th>...</th>\n",
       "      <td>...</td>\n",
       "      <td>...</td>\n",
       "      <td>...</td>\n",
       "      <td>...</td>\n",
       "      <td>...</td>\n",
       "      <td>...</td>\n",
       "      <td>...</td>\n",
       "      <td>...</td>\n",
       "      <td>...</td>\n",
       "      <td>...</td>\n",
       "      <td>...</td>\n",
       "    </tr>\n",
       "    <tr>\n",
       "      <th>40</th>\n",
       "      <td>first_test</td>\n",
       "      <td>1199</td>\n",
       "      <td>1258</td>\n",
       "      <td>slitAlignment</td>\n",
       "      <td>slit throughfocus exptime=3.0 lowBound=-0.5 up...</td>\n",
       "      <td></td>\n",
       "      <td></td>\n",
       "      <td>2018-07-16T17:07:37</td>\n",
       "      <td>None</td>\n",
       "      <td>3.0</td>\n",
       "      <td>engtopmid</td>\n",
       "    </tr>\n",
       "    <tr>\n",
       "      <th>39</th>\n",
       "      <td>first_test</td>\n",
       "      <td>1196</td>\n",
       "      <td>1198</td>\n",
       "      <td>slitAlignment</td>\n",
       "      <td>slit throughfocus exptime=3.0 lowBound=-0.5 up...</td>\n",
       "      <td></td>\n",
       "      <td>light was on</td>\n",
       "      <td>2018-07-16T17:05:53</td>\n",
       "      <td>None</td>\n",
       "      <td>3.0</td>\n",
       "      <td>engtopmid</td>\n",
       "    </tr>\n",
       "    <tr>\n",
       "      <th>38</th>\n",
       "      <td>first_test</td>\n",
       "      <td>1132</td>\n",
       "      <td>1191</td>\n",
       "      <td>slitAlignment</td>\n",
       "      <td>slit throughfocus exptime=6.0 lowBound=-0.5 up...</td>\n",
       "      <td></td>\n",
       "      <td></td>\n",
       "      <td>2018-07-16T16:02:19</td>\n",
       "      <td>None</td>\n",
       "      <td>6.0</td>\n",
       "      <td>engtopmid</td>\n",
       "    </tr>\n",
       "    <tr>\n",
       "      <th>37</th>\n",
       "      <td>first_test</td>\n",
       "      <td>1122</td>\n",
       "      <td>1131</td>\n",
       "      <td>slitAlignment</td>\n",
       "      <td>slit throughfocus exptime=6.0 lowBound=-0.5 up...</td>\n",
       "      <td></td>\n",
       "      <td></td>\n",
       "      <td>2018-07-16T15:55:06</td>\n",
       "      <td>None</td>\n",
       "      <td>6.0</td>\n",
       "      <td>engtopmid</td>\n",
       "    </tr>\n",
       "    <tr>\n",
       "      <th>36</th>\n",
       "      <td>first_test</td>\n",
       "      <td>1112</td>\n",
       "      <td>1121</td>\n",
       "      <td>slitAlignment</td>\n",
       "      <td>slit throughfocus exptime=6.0 lowBound=-0.5 up...</td>\n",
       "      <td></td>\n",
       "      <td></td>\n",
       "      <td>2018-07-16T15:22:33</td>\n",
       "      <td>None</td>\n",
       "      <td>6.0</td>\n",
       "      <td>engtopmid</td>\n",
       "    </tr>\n",
       "  </tbody>\n",
       "</table>\n",
       "<p>219 rows × 11 columns</p>\n",
       "</div>"
      ],
      "text/plain": [
       "                            name  visitStart  visitEnd           type  \\\n",
       "experimentId                                                            \n",
       "438           SM3_Slit_Alignment       12717     12776  slitAlignment   \n",
       "437           SM3_Slit_Alignment       12657     12716  slitAlignment   \n",
       "436           SM3_Slit_Alignment       12597     12656  slitAlignment   \n",
       "435           SM3_Slit_Alignment       12537     12596  slitAlignment   \n",
       "426           SM3_Slit_Alignment       12379     12438  slitAlignment   \n",
       "...                          ...         ...       ...            ...   \n",
       "40                    first_test        1199      1258  slitAlignment   \n",
       "39                    first_test        1196      1198  slitAlignment   \n",
       "38                    first_test        1132      1191  slitAlignment   \n",
       "37                    first_test        1122      1131  slitAlignment   \n",
       "36                    first_test        1112      1121  slitAlignment   \n",
       "\n",
       "                                                         cmdStr  \\\n",
       "experimentId                                                      \n",
       "438           spsait slit align exptime=4.0 position=-1.5,2....   \n",
       "437           spsait slit align exptime=4.0 position=-1.5,2....   \n",
       "436           spsait slit align exptime=4.0 position=-1.5,2....   \n",
       "435           spsait slit align exptime=4.0 position=-1.5,2....   \n",
       "426           spsait slit align exptime=4.0 position=-1.5,2....   \n",
       "...                                                         ...   \n",
       "40            slit throughfocus exptime=3.0 lowBound=-0.5 up...   \n",
       "39            slit throughfocus exptime=3.0 lowBound=-0.5 up...   \n",
       "38            slit throughfocus exptime=6.0 lowBound=-0.5 up...   \n",
       "37            slit throughfocus exptime=6.0 lowBound=-0.5 up...   \n",
       "36            slit throughfocus exptime=6.0 lowBound=-0.5 up...   \n",
       "\n",
       "                          comments     anomalies            startdate  \\\n",
       "experimentId                                                            \n",
       "438           DCB2 halogen no mask                2021-02-15T14:04:06   \n",
       "437           DCB2 halogen no mask                2021-02-15T13:41:11   \n",
       "436           DCB2 halogen no mask                2021-02-15T13:17:59   \n",
       "435           DCB2 halogen no mask                2021-02-15T12:53:47   \n",
       "426           DCB2 halogen no mask                2021-02-12T17:11:51   \n",
       "...                            ...           ...                  ...   \n",
       "40                                                2018-07-16T17:07:37   \n",
       "39                                  light was on  2018-07-16T17:05:53   \n",
       "38                                                2018-07-16T16:02:19   \n",
       "37                                                2018-07-16T15:55:06   \n",
       "36                                                2018-07-16T15:22:33   \n",
       "\n",
       "             cmdError exptime      fiber  \n",
       "experimentId                              \n",
       "438                       4.0  scibotend  \n",
       "437                       4.0  scibotmid  \n",
       "436                       4.0  scitopmid  \n",
       "435                       4.0  scitopend  \n",
       "426                       4.0  scitopend  \n",
       "...               ...     ...        ...  \n",
       "40               None     3.0  engtopmid  \n",
       "39               None     3.0  engtopmid  \n",
       "38               None     6.0  engtopmid  \n",
       "37               None     6.0  engtopmid  \n",
       "36               None     6.0  engtopmid  \n",
       "\n",
       "[219 rows x 11 columns]"
      ]
     },
     "execution_count": 9,
     "metadata": {},
     "output_type": "execute_result"
    }
   ],
   "source": [
    "experiments"
   ]
  },
  {
   "cell_type": "code",
   "execution_count": 10,
   "metadata": {},
   "outputs": [
    {
     "data": {
      "text/plain": [
       "\"spsait slit align exptime=4.0 position=-1.5,2.5,60 duplicate=1 fiber=scitopend tail='dcb sources off=halogen'  comments='DCB2 halogen no mask '\""
      ]
     },
     "execution_count": 10,
     "metadata": {},
     "output_type": "execute_result"
    }
   ],
   "source": [
    "experiments.cmdStr[426]"
   ]
  },
  {
   "cell_type": "markdown",
   "metadata": {},
   "source": [
    "## Data required : \n",
    "To be able to find the right focus, some data acquisition is required.\n",
    "\n",
    "you need to use ics_spsaitActor to perform your sequence\n",
    "\n",
    "example : <b>slit throughfocus exptime=6.0 lowBound=-0.5 upBound=1.5 fiber=engbotend nbPosition=10 duplicate=1 </b>\n",
    "\n",
    "-0.5 : 1.5 is the range of the slit focus\n"
   ]
  },
  {
   "cell_type": "markdown",
   "metadata": {},
   "source": [
    "## Input Parameters : \n",
    "The only parameters needed is the experimentIds that match your data acquisition sequence"
   ]
  },
  {
   "cell_type": "code",
   "execution_count": 12,
   "metadata": {},
   "outputs": [],
   "source": [
    "com = True\n",
    "doBck =True\n",
    "corrector = False\n",
    "experimentIds = [435,436,437,438]\n",
    "head = 0\n",
    "tail = 0\n",
    "#bck_expId = 260\n",
    "\n",
    "dfs = []"
   ]
  },
  {
   "cell_type": "code",
   "execution_count": 13,
   "metadata": {},
   "outputs": [],
   "source": [
    "doPrint = False\n",
    "doPlot = False"
   ]
  },
  {
   "cell_type": "code",
   "execution_count": 15,
   "metadata": {},
   "outputs": [
    {
     "name": "stderr",
     "output_type": "stream",
     "text": [
      "/software/drp/python/miniconda3-4.5.12/envs/lsst-scipipe-1172c30/lib/python3.7/site-packages/scipy/optimize/minpack.py:447: RuntimeWarning: Number of calls to function has reached maxfev = 800.\n",
      "  warnings.warn(errors[info][0], RuntimeWarning)\n"
     ]
    }
   ],
   "source": [
    "for experimentId in experimentIds:\n",
    "    dfs.append(getSlitTF(experimentId=experimentId, com=com, head=head, tail=tail, doBck=doBck,doPrint=doPrint, doPlot=doPlot))\n",
    "\n",
    "cube = pd.concat(dfs)\n",
    "\n",
    "   "
   ]
  },
  {
   "cell_type": "code",
   "execution_count": 16,
   "metadata": {},
   "outputs": [
    {
     "data": {
      "text/plain": [
       "<matplotlib.axes._subplots.AxesSubplot at 0x7fc482fe75f8>"
      ]
     },
     "execution_count": 16,
     "metadata": {},
     "output_type": "execute_result"
    },
    {
     "data": {
      "image/png": "[encoded data removed]",
      "text/plain": [
       "<Figure size 432x288 with 1 Axes>"
      ]
     },
     "metadata": {},
     "output_type": "display_data"
    }
   ],
   "source": [
    "cube.plot(x='fca_x',y='EE20',style='*')"
   ]
  },
  {
   "cell_type": "code",
   "execution_count": 21,
   "metadata": {},
   "outputs": [],
   "source": [
    "def fitFocusData(cube, corrector=False, doPlot=False, index='fca_x'):\n",
    "    thfoc_data = []\n",
    "    \n",
    "    for experimentId, series in cube.groupby('experimentId'):\n",
    "        series = series.dropna()\n",
    "        thfoc = getFocus(series, 'EE20', index, corrector=corrector)\n",
    "        #for criteria in ['brightness', 'fwhm']:\n",
    "        #    thfoc[criteria] = getFocus(series, criteria, index, corrector=corrector)[criteria]\n",
    "\n",
    "        thfoc['px'] = np.interp(thfoc[index], series[index], series['px'])\n",
    "        thfoc['py'] = np.interp(thfoc[index], series[index], series['py'])\n",
    "        thfoc['experimentId'] = experimentId\n",
    "        thfoc_data.append(thfoc)\n",
    "        \n",
    "    thfoc_data = pd.concat(thfoc_data)\n",
    "\n",
    "    if doPlot:\n",
    "        kwargs = dict(grid=True, figsize=(14,10), legend=True, subplots=True)\n",
    "        #criterias = ['EE20', 'brightness', 'fwhm']\n",
    "        criterias = ['EE20']\n",
    "\n",
    "        for experimentId, fit in thfoc_data.groupby('experimentId'):\n",
    "            raw = cube.query(\"experimentId==%d\"%(experimentId))\n",
    "            axes = fit.set_index(index)[criterias].plot(**kwargs)\n",
    "            for i, criteria in enumerate(criterias):\n",
    "                axes[i].plot(raw[index].values, raw[criteria].values, 'o')\n",
    "                \n",
    "    return thfoc_data"
   ]
  },
  {
   "cell_type": "code",
   "execution_count": 25,
   "metadata": {},
   "outputs": [],
   "source": [
    "def getFocusModel(fitdata, index='fca_x'):\n",
    "    data = []\n",
    "    for experimentId, series in fitdata.groupby('experimentId'):\n",
    "        series = series.dropna()\n",
    "        for criteria in ['EE20']: #, 'brightness', 'fwhm']:\n",
    "            ixmax = series[criteria].idxmax() if criteria !='fwhm' else series[criteria].idxmin()\n",
    "            focus = series[index][ixmax]\n",
    "            px = series.px[ixmax]\n",
    "            py = series.py[ixmax]\n",
    "            mat = [experimentId, criteria, px, py, focus]\n",
    "            data.append(tuple(mat))\n",
    "    \n",
    "    return pd.DataFrame(data, columns=['experimentId', 'criteria', 'px', 'py', index])"
   ]
  },
  {
   "cell_type": "code",
   "execution_count": 22,
   "metadata": {},
   "outputs": [],
   "source": [
    "thfocModel= fitFocusData(cube, corrector=False, doPlot=False)"
   ]
  },
  {
   "cell_type": "code",
   "execution_count": 26,
   "metadata": {},
   "outputs": [],
   "source": [
    "focusModel = getFocusModel(thfocModel)"
   ]
  },
  {
   "cell_type": "code",
   "execution_count": 29,
   "metadata": {},
   "outputs": [],
   "source": [
    "vline = True\n",
    "plotModel = True\n",
    "criteria = 'EE20'\n",
    "index = 'fca_x'"
   ]
  },
  {
   "cell_type": "code",
   "execution_count": 30,
   "metadata": {},
   "outputs": [
    {
     "data": {
      "image/png": "[encoded data removed]",
      "text/plain": [
       "<Figure size 864x576 with 1 Axes>"
      ]
     },
     "metadata": {},
     "output_type": "display_data"
    }
   ],
   "source": [
    "fig = plt.figure(figsize=(12, 8))\n",
    "ax1 = fig.add_subplot(111)\n",
    "j=2\n",
    "\n",
    "if plotModel:\n",
    "    ax1.plot(zemaxData.Slitdefocus, zemaxData.MidFiber, 'o', color=colors[0], label='Zemax_MidFiber = %.3f' % zemaxMidFit.focus)\n",
    "    ax1.plot(zemaxMidFit.x, zemaxMidFit.y, '--', color=colors[0])\n",
    "    if vline:\n",
    "        ax1.vlines(color=colors[0], **zemaxMidFit.vline)\n",
    "\n",
    "    ax1.plot(zemaxData.Slitdefocus, zemaxData.ExtremeFiber, 'o', color=colors[1], label='Zemax_EndFiber = %.3f' % zemaxEndFit.focus)\n",
    "    ax1.plot(zemaxEndFit.x, zemaxEndFit.y, '--', color=colors[1])\n",
    "    if vline:\n",
    "        ax1.vlines(color=colors[1], **zemaxEndFit.vline)\n",
    "\n",
    "for experimentId, df in cube.groupby('experimentId'):\n",
    "    fit = thfocModel.query(\"experimentId==%d\"%(experimentId))\n",
    "    focus = focusModel.query(\"experimentId==%d and criteria=='%s'\"%(experimentId, criteria))\n",
    "    \n",
    "    ax1.plot(df[index], df[criteria], 'o', color=colors[j], \n",
    "             label='expId%d:%s = %.3f' % (experimentId, experiments.fiber[experimentId], focus[index]))\n",
    "    ax1.plot(fit[index], fit[criteria], '--', color=colors[j])\n",
    "    \n",
    "    if vline:\n",
    "        ax1.vlines(x=focus[index], ymin=fit[criteria].min(), ymax = fit[criteria].max(), color=colors[j])\n",
    "    j+=1\n",
    "\n",
    "    \n",
    "lns = [line for i, line in enumerate(ax1.get_lines()) if not i % 2]\n",
    "labs = [line.get_label() for line in lns]\n",
    "\n",
    "ax1.legend(lns, labs)\n",
    "ax1.set_xlabel('%s(mm)'%index)\n",
    "ax1.set_ylabel(criteria)\n",
    "\n",
    "plt.title('Slit Through focus : Zemax vs Engineering_Fibers \\n Criteria : %s doBck=True' %criteria)\n",
    "plt.grid()"
   ]
  },
  {
   "cell_type": "code",
   "execution_count": null,
   "metadata": {},
   "outputs": [],
   "source": []
  },
  {
   "cell_type": "code",
   "execution_count": null,
   "metadata": {},
   "outputs": [],
   "source": []
  },
  {
   "cell_type": "code",
   "execution_count": null,
   "metadata": {},
   "outputs": [],
   "source": [
    "distance_fibres = 138.84\n",
    "delta_focus = (1.086 - 0.633)\n",
    "angle=np.arctan(delta_focus/distance_fibres)\n",
    "angle_degre=(angle*180)/(np.pi)\n",
    "print(angle_degre)\n"
   ]
  },
  {
   "cell_type": "code",
   "execution_count": null,
   "metadata": {},
   "outputs": [],
   "source": [
    "((0.648+0.658)/2) - 0.309\n"
   ]
  },
  {
   "cell_type": "code",
   "execution_count": null,
   "metadata": {},
   "outputs": [],
   "source": [
    "0.270-0.0062"
   ]
  },
  {
   "cell_type": "code",
   "execution_count": null,
   "metadata": {},
   "outputs": [],
   "source": [
    "1.532-0.885"
   ]
  },
  {
   "cell_type": "code",
   "execution_count": null,
   "metadata": {},
   "outputs": [],
   "source": []
  }
 ],
 "metadata": {
  "kernelspec": {
   "display_name": "Python 3",
   "language": "python",
   "name": "python3"
  },
  "language_info": {
   "codemirror_mode": {
    "name": "ipython",
    "version": 3
   },
   "file_extension": ".py",
   "mimetype": "text/x-python",
   "name": "python",
   "nbconvert_exporter": "python",
   "pygments_lexer": "ipython3",
   "version": "3.7.2"
  }
 },
 "nbformat": 4,
 "nbformat_minor": 4
}
