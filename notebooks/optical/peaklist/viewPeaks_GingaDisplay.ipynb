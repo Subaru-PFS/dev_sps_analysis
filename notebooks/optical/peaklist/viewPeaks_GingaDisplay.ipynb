{
 "cells": [
  {
   "cell_type": "code",
   "execution_count": null,
   "metadata": {},
   "outputs": [],
   "source": [
    "from ginga import __version__\n",
    "__version__"
   ]
  },
  {
   "cell_type": "code",
   "execution_count": null,
   "metadata": {},
   "outputs": [],
   "source": [
    "# import ginga remote control module\n",
    "from ginga.util import grc"
   ]
  },
  {
   "cell_type": "code",
   "execution_count": null,
   "metadata": {},
   "outputs": [],
   "source": [
    "import pandas as pd\n",
    "import re\n",
    "import numpy as np\n",
    "import os"
   ]
  },
  {
   "cell_type": "code",
   "execution_count": null,
   "metadata": {},
   "outputs": [],
   "source": [
    "import lsst.daf.persistence as dafPersist\n",
    "from pfs.lam.opdb import *\n"
   ]
  },
  {
   "cell_type": "code",
   "execution_count": null,
   "metadata": {},
   "outputs": [],
   "source": [
    "# host and port parameters can be set in the graphical ui of the plugin.\n",
    "# These are the defaults\n",
    "#viewer = grc.RemoteClient('localhost', 9000)\n",
    "\n",
    "viewer = grc.RemoteClient('ws2.pfs', 9000)\n",
    "#viewer = grc.RemoteClient('actors-ics.pfs', 9000)"
   ]
  },
  {
   "cell_type": "code",
   "execution_count": null,
   "metadata": {},
   "outputs": [],
   "source": [
    "viewer.host"
   ]
  },
  {
   "cell_type": "code",
   "execution_count": null,
   "metadata": {},
   "outputs": [],
   "source": [
    "# This gives you a handle to the reference viewer shell.\n",
    "# It is similar to what you can do from the command line with:\n",
    "#    $ grc ginga ...\n",
    "#\n",
    "shell = viewer.shell()"
   ]
  },
  {
   "cell_type": "markdown",
   "metadata": {},
   "source": [
    "# Define data to be loaded or peaklist"
   ]
  },
  {
   "cell_type": "code",
   "execution_count": null,
   "metadata": {},
   "outputs": [],
   "source": [
    "# either load data to the channel or simply plot the peak list\n",
    "# but we need to define the image to retrieve lamp, exposure time, ....\n",
    "load_data = False\n",
    "\n",
    "\n",
    "repo = \"sps\"\n",
    "drpPath = \"/data/drp\"\n",
    "repoRoot = os.path.join(f\"{drpPath}/{repo}\")\n",
    "\n",
    "rerun = \"ginga/detrend\"\n",
    "#rerun = \"dcb2\"\n",
    "\n",
    "cam = \"r3\"\n",
    "\n",
    "basePath = '/drp/analysis/sm3/'\n",
    "\n",
    "peaklist = \"SM3_LAM_may2022_peakList.csv\"\n",
    "\n",
    "visit = 35453"
   ]
  },
  {
   "cell_type": "code",
   "execution_count": null,
   "metadata": {},
   "outputs": [],
   "source": [
    "experimentId = 1109 \n",
    "visitStart, visitEnd = getVisitRange(experimentId)\n",
    "visit = int(visitStart)\n"
   ]
  },
  {
   "cell_type": "raw",
   "metadata": {},
   "source": [
    "visitStart, visitEnd = getVisitRange_fromWeb(experimentId, url=log_url)"
   ]
  },
  {
   "cell_type": "raw",
   "metadata": {},
   "source": [
    "#R1 dec 2018\n",
    "log_url = \"https://people.lam.fr/madec.fabrice/pfs/ait_logbook_SM1.html\"\n",
    "experimentId = 154\n",
    "rerun = \"defocus\"\n",
    "#rerun = \"dcb2\"\n",
    "\n",
    "cam = \"r1\"\n",
    "\n",
    "basePath = '/drp/analysis/sm1/'\n",
    "\n",
    "#peaklist = \"R2_on_SM3_peakList.csv\"\n",
    "peaklist = \"Imqual_LAM_peaklist_forFocus_2020July.csv\"\n",
    "\n",
    "repo = \"sm1\"\n",
    "drpPath = \"/drp/fmadec/drp-repo/\"\n",
    "repoRoot = os.path.join(f\"{drpPath}/{repo}\")\n",
    "\n"
   ]
  },
  {
   "cell_type": "code",
   "execution_count": null,
   "metadata": {},
   "outputs": [],
   "source": [
    "if load_data:\n",
    "    ginga_channel = 'PeakList'\n",
    "else:\n",
    "    ginga_channel = f\"{cam.upper()}_DETREND\"\n",
    "print(ginga_channel)"
   ]
  },
  {
   "cell_type": "code",
   "execution_count": null,
   "metadata": {},
   "outputs": [],
   "source": [
    "# the RC plugin in the viewer\n",
    "shell.add_channel(ginga_channel)\n",
    "# This gives you a handle to a reference viewer channel.\n",
    "# It is similar to what you can do from the command line with:\n",
    "#    $ grc channel ...\n",
    "#\n",
    "ch = viewer.channel(ginga_channel)"
   ]
  },
  {
   "cell_type": "code",
   "execution_count": null,
   "metadata": {},
   "outputs": [],
   "source": []
  },
  {
   "cell_type": "code",
   "execution_count": null,
   "metadata": {},
   "outputs": [],
   "source": [
    "arm = cam[0]\n",
    "specId = int(cam[1])\n",
    "dataId = dict(arm=arm, spectrograph=specId)\n",
    "\n",
    "dataId.update(visit=int(visit))"
   ]
  },
  {
   "cell_type": "code",
   "execution_count": null,
   "metadata": {},
   "outputs": [],
   "source": [
    "# define defaut parameters\n",
    "roi_size = 24\n",
    "com = True  # Center Of Mass\n",
    "doBck = True\n",
    "head = 0\n",
    "tail = 0\n",
    "criteria = 'EE5'\n",
    "verbose = True\n",
    "doPrint = False\n",
    "\n",
    "\n"
   ]
  },
  {
   "cell_type": "code",
   "execution_count": null,
   "metadata": {},
   "outputs": [],
   "source": [
    "\n",
    "butler = dafPersist.Butler(os.path.join(f\"{drpPath}/{repo}/rerun/{rerun}/\"))\n",
    "#rbutler = dafPersist.Butler(f\"{drpPath}/{repo}/\")\n",
    "butler.getKeys('raw')\n",
    "lamps = butler.queryMetadata('raw', ['lamps'], dataId) \n",
    "calExp = butler.get(\"calexp\",dataId)\n",
    "\n",
    "print(f'Start visit {visit} of {cam} with {peaklist}')\n",
    "print(f\"{drpPath}/{repo}/rerun/{rerun}/detrend/\")\n"
   ]
  },
  {
   "cell_type": "code",
   "execution_count": null,
   "metadata": {},
   "outputs": [],
   "source": [
    "[exptime] = butler.queryMetadata('raw', ['exptime'], dataId)"
   ]
  },
  {
   "cell_type": "code",
   "execution_count": null,
   "metadata": {},
   "outputs": [],
   "source": [
    "print(f\"{exptime:.0f}\")"
   ]
  },
  {
   "cell_type": "code",
   "execution_count": null,
   "metadata": {},
   "outputs": [],
   "source": [
    "lamps"
   ]
  },
  {
   "cell_type": "code",
   "execution_count": null,
   "metadata": {},
   "outputs": [],
   "source": [
    "if load_data:\n",
    "    ch.load_np(\"image\", calExp.image.array, 'fits', {})"
   ]
  },
  {
   "cell_type": "code",
   "execution_count": null,
   "metadata": {},
   "outputs": [],
   "source": [
    "print(lamps)"
   ]
  },
  {
   "cell_type": "code",
   "execution_count": null,
   "metadata": {},
   "outputs": [],
   "source": [
    "# define CANVAS to plot peak list\n",
    "canvas = viewer.canvas(ginga_channel)\n"
   ]
  },
  {
   "cell_type": "code",
   "execution_count": null,
   "metadata": {},
   "outputs": [],
   "source": [
    "canvas.clear()"
   ]
  },
  {
   "cell_type": "code",
   "execution_count": null,
   "metadata": {},
   "outputs": [],
   "source": [
    "peaks = pd.read_csv(peaklist)"
   ]
  },
  {
   "cell_type": "code",
   "execution_count": null,
   "metadata": {},
   "outputs": [],
   "source": [
    "selected_peaks = peaks[peaks.arm == arm]\n",
    "selected_peaks = selected_peaks[(selected_peaks.element.str.contains('|'.join(re.findall('[A-Z][^A-Z]*', \"\".join(lamps)))))]\n"
   ]
  },
  {
   "cell_type": "code",
   "execution_count": null,
   "metadata": {},
   "outputs": [],
   "source": [
    "for (X,Y), group in selected_peaks.groupby([\"X\",\"Y\"]):\n",
    "    canvas.add('circle',float(X),float(Y), radius=roi_size, color='red')\n",
    "        "
   ]
  },
  {
   "cell_type": "code",
   "execution_count": null,
   "metadata": {},
   "outputs": [],
   "source": []
  }
 ],
 "metadata": {
  "kernelspec": {
   "display_name": "Python 3",
   "language": "python",
   "name": "python3"
  },
  "language_info": {
   "codemirror_mode": {
    "name": "ipython",
    "version": 3
   },
   "file_extension": ".py",
   "mimetype": "text/x-python",
   "name": "python",
   "nbconvert_exporter": "python",
   "pygments_lexer": "ipython3",
   "version": "3.7.2"
  }
 },
 "nbformat": 4,
 "nbformat_minor": 4
}
