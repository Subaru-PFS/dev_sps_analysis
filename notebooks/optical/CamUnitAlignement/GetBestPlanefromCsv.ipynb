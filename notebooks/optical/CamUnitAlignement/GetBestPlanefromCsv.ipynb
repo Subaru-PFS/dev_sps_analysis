{
 "cells": [
  {
   "cell_type": "code",
   "execution_count": null,
   "metadata": {},
   "outputs": [],
   "source": [
    "%load_ext autoreload\n",
    "\n",
    "%autoreload 2"
   ]
  },
  {
   "cell_type": "code",
   "execution_count": null,
   "metadata": {
    "lines_to_next_cell": 2
   },
   "outputs": [],
   "source": [
    "from pfs.lam.imageAnalysis import neighbor_outlier_filter\n",
    "\n",
    "from pfs.lam.detAnalysis import *\n",
    "from pfs.lam.detFocusAnalysis import *\n",
    "from pfs.lam.fileHandling import *\n",
    "from pfs.lam.style import *\n",
    "from pfs.lam.analysisPlot import *\n",
    "import glob\n",
    "import lsst.daf.persistence as dafPersist"
   ]
  },
  {
   "cell_type": "code",
   "execution_count": null,
   "metadata": {},
   "outputs": [],
   "source": [
    "import seaborn as sns\n",
    "import matplotlib.pyplot as plt\n",
    "from datetime import datetime"
   ]
  },
  {
   "cell_type": "raw",
   "metadata": {
    "lines_to_next_cell": 2
   },
   "source": [
    "imgPath = '/net/SRVSTK20C/drp/fmadec/analysis/subaru/sm1/'\n",
    "dataPath = \"/net/SRVSTK20C/drp/fmadec/analysis/subaru/sm1/\"\n",
    "\n",
    "drpPath = \"/net/SRVSTK20C/drp/cluster\""
   ]
  },
  {
   "cell_type": "code",
   "execution_count": null,
   "metadata": {
    "lines_to_next_cell": 2
   },
   "outputs": [],
   "source": [
    "#invMat = \"/home/fmadec/devel/ait-notebook/fmadec/Subaru/SM1/SM1_R1_DetFocusInvMat_20190423_F2.8.mat\"\n",
    "invMat=\"/home/fmadec/devel/lam_sps_devel/notebooks/devel/fmadec/SM2/ws_slit/InvMat_sm1_B1_02oct2020.mat\"\n",
    "#invMat = \"SM1_B1_DetFocusInvMat_20190305_bundlesBGR3R6.mat\"\n",
    "\n",
    "#invMat = \"/home/pfs/dev/ait-notebook/fmadec/Subaru/SM1/cluster/InvMat_sm1_17sept2020.mat\"\n"
   ]
  },
  {
   "cell_type": "code",
   "execution_count": null,
   "metadata": {
    "lines_to_next_cell": 2
   },
   "outputs": [],
   "source": [
    "datetime.now().strftime(\"%Y-%m-%dT%Hh%M\")"
   ]
  },
  {
   "cell_type": "code",
   "execution_count": null,
   "metadata": {},
   "outputs": [],
   "source": [
    "roi_size = 24\n",
    "doBck = True\n",
    "threshold = 0."
   ]
  },
  {
   "cell_type": "code",
   "execution_count": null,
   "metadata": {},
   "outputs": [],
   "source": [
    "100*(r1/r)"
   ]
  },
  {
   "cell_type": "code",
   "execution_count": null,
   "metadata": {},
   "outputs": [],
   "source": [
    "experimentId = 255\n",
    "rerun = \"sm1-march2020\" #\"sm1-march2020\"\n",
    "cam = \"m1\"\n",
    "#thres_neighbor = -0.05\n",
    "extra = 'stack/'"
   ]
  },
  {
   "cell_type": "code",
   "execution_count": null,
   "metadata": {},
   "outputs": [],
   "source": [
    "experimentId = 186\n",
    "rerun = \"sm1-march2020-no_FD\" #\"sm1-march2020\"\n",
    "cam = \"r1\"\n",
    "extra = ''"
   ]
  },
  {
   "cell_type": "code",
   "execution_count": null,
   "metadata": {},
   "outputs": [],
   "source": [
    "experimentId = 122\n",
    "rerun = \"dcb2\" #\"sm1-march2020\"\n",
    "cam = \"b2\"\n",
    "extra = ''"
   ]
  },
  {
   "cell_type": "code",
   "execution_count": null,
   "metadata": {},
   "outputs": [],
   "source": [
    "experimentId = 125\n",
    "rerun = \"defocus\" #\"sm1-march2020\"\n",
    "cam = \"b2\"\n",
    "extra = ''"
   ]
  },
  {
   "cell_type": "code",
   "execution_count": null,
   "metadata": {},
   "outputs": [],
   "source": [
    "expIds = [124,125]\n",
    "rerun = \"defocus\" #\"sm1-march2020\"\n",
    "cam = \"b2\"\n",
    "extra = ''"
   ]
  },
  {
   "cell_type": "code",
   "execution_count": null,
   "metadata": {},
   "outputs": [],
   "source": [
    "expIds = [134]\n",
    "rerun = \"defocus\" #\"sm1-march2020\"\n",
    "cam = \"r2\"\n",
    "extra = ''"
   ]
  },
  {
   "cell_type": "code",
   "execution_count": null,
   "metadata": {},
   "outputs": [],
   "source": [
    "expIds = [152]\n",
    "rerun = \"defocus\" #\"sm1-march2020\"\n",
    "cam = \"r2\"\n",
    "extra = ''"
   ]
  },
  {
   "cell_type": "code",
   "execution_count": null,
   "metadata": {},
   "outputs": [],
   "source": [
    "expIds = [153]\n",
    "rerun = \"defocus\" #\"sm1-march2020\"\n",
    "cam = \"r2\"\n",
    "extra = ''"
   ]
  },
  {
   "cell_type": "code",
   "execution_count": null,
   "metadata": {},
   "outputs": [],
   "source": [
    "# WS_Slit\n",
    "expIds = [203]\n",
    "rerun = \"ws_slit\" #\"sm1-march2020\"\n",
    "cam = \"b3\"\n",
    "extra = ''\n",
    "roi_size = 60"
   ]
  },
  {
   "cell_type": "markdown",
   "metadata": {},
   "source": [
    "# define defaut parameters\n"
   ]
  },
  {
   "cell_type": "code",
   "execution_count": null,
   "metadata": {},
   "outputs": [],
   "source": []
  },
  {
   "cell_type": "code",
   "execution_count": null,
   "metadata": {},
   "outputs": [],
   "source": [
    "piston_index = \"motor1\"\n",
    "\n",
    "com = True  # Center Of Mass\n",
    "head = 0\n",
    "tail = 0\n",
    "criteria = 'EE5'\n",
    "criterias = [criteria] #['EE5', 'sep_ECE5']\n",
    "verbose = True\n",
    "doPrint = False\n",
    "arm = cam[0]\n"
   ]
  },
  {
   "cell_type": "code",
   "execution_count": null,
   "metadata": {},
   "outputs": [],
   "source": [
    "head = 0\n",
    "tail = 0"
   ]
  },
  {
   "cell_type": "code",
   "execution_count": null,
   "metadata": {
    "lines_to_next_cell": 2
   },
   "outputs": [],
   "source": [
    "cluster = False"
   ]
  },
  {
   "cell_type": "code",
   "execution_count": null,
   "metadata": {
    "lines_to_next_cell": 2
   },
   "outputs": [],
   "source": [
    "doForestFilter = False\n",
    "forest_contamin = 0.05   #r1 0.05   #m1 "
   ]
  },
  {
   "cell_type": "code",
   "execution_count": null,
   "metadata": {
    "lines_to_next_cell": 2
   },
   "outputs": [],
   "source": [
    "doNeighborFilter = True\n",
    "thres_neighbor = -0.1 # default -0.1"
   ]
  },
  {
   "cell_type": "code",
   "execution_count": null,
   "metadata": {},
   "outputs": [],
   "source": [
    "doSave = False\n",
    "doSaveCsv = False"
   ]
  },
  {
   "cell_type": "code",
   "execution_count": null,
   "metadata": {
    "lines_to_next_cell": 2
   },
   "outputs": [],
   "source": []
  },
  {
   "cell_type": "markdown",
   "metadata": {},
   "source": [
    "# Set folder according place either cluster, laptop"
   ]
  },
  {
   "cell_type": "code",
   "execution_count": null,
   "metadata": {},
   "outputs": [],
   "source": [
    "if cluster :\n",
    "    imgPath = '/net/SRVSTK20C/drp/fmadec/analysis/subaru/sm1/'\n",
    "    dataPath = \"/net/SRVSTK20C/drp/fmadec/analysis/subaru/sm1/\"\n",
    "    drpPath = \"/net/SRVSTK20C/drp/cluster\"\n",
    "    repo = \"repo\"\n",
    "else:\n",
    "    imgPath = \"/media/fmadec/PfsData/PFS/fmadec/analysis/subaru/sm1/\"\n",
    "    #imgPath = '/home/fmadec/Pictures/analysis/'\n",
    "    dataPath = imgPath\n",
    "    drpPath = \"/home/fmadec/pfs/subaruData/\"    \n",
    "    repo = \"drp\"\n",
    "\n",
    "if False:\n",
    "    imgPath = \"/home/fmadec/Pictures/analysis/\"\n",
    "    #imgPath = '/home/fmadec/Pictures/analysis/'\n",
    "    dataPath = imgPath\n",
    "    drpPath = \"/home/fmadec/pfs/subaruData/\"    \n",
    "    repo = \"drp\"\n",
    " #   Exp255/sm1-march2020_roi24/doBckTrue/stack\n",
    "    \n",
    "if True:\n",
    "    imgPath = '/data/drp/analysis/sm2/'\n",
    "    #imgPath = '/home/fmadec/Pictures/analysis/'\n",
    "    dataPath = imgPath\n",
    "    drpPath = \"/data/drp\"    \n",
    "    repo = \"sps\"\n",
    " #   Exp255/sm1-march2020_roi24/doBckTrue/stack\n",
    "\n"
   ]
  },
  {
   "cell_type": "code",
   "execution_count": null,
   "metadata": {},
   "outputs": [],
   "source": [
    "outpath = ''\n",
    "outpath = \"output\\\\\" if outpath is None else outpath\n",
    "\n"
   ]
  },
  {
   "cell_type": "markdown",
   "metadata": {},
   "source": [
    "# Read data CSV files for all experimentIds"
   ]
  },
  {
   "cell_type": "code",
   "execution_count": null,
   "metadata": {},
   "outputs": [],
   "source": [
    "files = []\n",
    "for experimentId in expIds:\n",
    "\n",
    "    csvPath = imgPath+\"Exp\"+str(experimentId)+\"/\"+rerun+\"_roi\"+str(roi_size)+\"/doBck\"+str(doBck)+\"/\"+extra\n",
    "    if not os.path.exists(csvPath):\n",
    "        csvPath = imgPath+\"Exp\"+str(experimentId)+\"/\"+rerun+\"/\"+\"roi\"+str(roi_size)+\"/doBck\"+str(doBck)+\"/\"+extra\n",
    "\n",
    "    dataPath = csvPath\n",
    "    print(dataPath)\n",
    "\n",
    "    searchFile = f\"{csvPath}Imquality_{cam}_Exp{experimentId}*\"\n",
    "    print(searchFile)\n",
    "    files.extend(glob.glob(searchFile))\n",
    "\n",
    "if verbose:\n",
    "    print(*files, sep=\"\\n\")\n",
    "\n",
    "piston_imdata = pd.concat(map(pd.read_csv,files)).reset_index().sort_values(by=\"motor1\")\n",
    "#piston_imdata[\"wavelength\"] = 300\n",
    "\n",
    "piston_imdata = piston_imdata.groupby(['wavelength','fiber', \"motor1\"]).mean().reset_index()"
   ]
  },
  {
   "cell_type": "code",
   "execution_count": null,
   "metadata": {},
   "outputs": [],
   "source": [
    "# hack debut sm2\n",
    "\n",
    "\n",
    "print(f\"Wavelength used: {piston_imdata.wavelength.unique()}\")\n",
    "minPos = piston_imdata[['motor1','motor2','motor3']]\n",
    "minPos = minPos - minPos.min()\n",
    "piston_imdata['relPos'] = minPos['motor1']\n",
    "\n",
    "#piston = piston_imdata[piston_imdata.EE5>threshold]\n",
    "\n",
    "piston_imdata[\"fit_flag\"] = 0\n",
    "piston_imdata[\"EE5_diff_flag\"] = True\n",
    "\n",
    "piston = piston_imdata\n",
    "\n",
    "#piston = piston_imdata[piston_imdata.EE5>threshold]"
   ]
  },
  {
   "cell_type": "markdown",
   "metadata": {},
   "source": [
    "# filtering the data"
   ]
  },
  {
   "cell_type": "raw",
   "metadata": {},
   "source": [
    "if doNeighborFilter :\n",
    "    tot = []\n",
    "    for  group_name, series in piston.groupby(['wavelength','fiber']):\n",
    "        series.loc[:,\"EE5_diff\"] = series.EE5 - (series.EE5.shift(-1) + series.EE5.shift(1))/2 \n",
    "        series[\"EE5_diff\"].fillna(0, inplace=True)\n",
    "        series.loc[:,\"EE5_diff_flag\"] = (series.EE5_diff> thres_neighbor)\n",
    "        tot.append(series)\n",
    "        piston = pd.concat(tot)\n",
    "        "
   ]
  },
  {
   "cell_type": "code",
   "execution_count": null,
   "metadata": {},
   "outputs": [],
   "source": [
    "\n",
    "if doNeighborFilter :\n",
    "    tot = []\n",
    "    for  group_name, series in piston.groupby(['wavelength','fiber']):\n",
    "        series = neighbor_outlier_filter(series, \"EE5\", thres_neighbor, absolute=True)\n",
    "        tot.append(series)\n",
    "        piston = pd.concat(tot)\n",
    "        "
   ]
  },
  {
   "cell_type": "markdown",
   "metadata": {},
   "source": [
    "# Through focus fit "
   ]
  },
  {
   "cell_type": "code",
   "execution_count": null,
   "metadata": {},
   "outputs": [],
   "source": [
    "piston_fitdata = fitFocusData(piston[piston.EE5_diff_flag] , index=piston_index, doPlot=False, criterias=criterias, head=head )\n",
    "\n",
    "piston_focusMap = getFocusMap(piston_fitdata.dropna(), index=piston_index, criterias=criterias)\n",
    "\n",
    "piston_focusMap[\"experimentId\"] = experimentId\n",
    "\n",
    "if doSaveCsv:\n",
    "    piston_fitdata.to_csv(f\"{csvPath}imquality_{cam}_Exp{experimentId}_doBck{str(doBck)}_piston_fitdata_thres{str(int(threshold*100)).zfill(3)}{forest_prefix}.csv\")\n",
    "    piston_focusMap.to_csv(f\"{csvPath}imquality_{cam}_Exp{experimentId}_doBck{str(doBck)}_piston_focusMap_thres{str(int(threshold*100)).zfill(3)}{forest_prefix}.csv\")\n",
    "\n"
   ]
  },
  {
   "cell_type": "markdown",
   "metadata": {},
   "source": [
    "# 2nd Moment calculation from SEP"
   ]
  },
  {
   "cell_type": "code",
   "execution_count": null,
   "metadata": {},
   "outputs": [],
   "source": [
    "if \"sep_x2\" in piston_imdata.columns:\n",
    "    piston_imdata[\"sep_2ndM\"]= piston_imdata.apply(lambda x: np.mean([x[\"sep_x2\"],x[\"sep_y2\"]]) , axis=1)"
   ]
  },
  {
   "cell_type": "code",
   "execution_count": null,
   "metadata": {},
   "outputs": [],
   "source": [
    "piston[piston.fit_flag >=0 & piston.EE5_diff_flag].motor1.min()"
   ]
  },
  {
   "cell_type": "code",
   "execution_count": null,
   "metadata": {
    "lines_to_next_cell": 0
   },
   "outputs": [],
   "source": [
    "waves = piston_fitdata.wavelength.unique()\n",
    "fibers = piston_fitdata.fiber.unique()\n",
    "print(fibers, waves)\n",
    "fiber = fibers[-1]\n",
    "wave = waves[-1]\n",
    "#    group = piston_imdata.groupby(['wavelength','fiber']).get_group((wave,fiber))\n",
    "plot_one_group(piston, wave, fiber, experimentId, dataPath)\n",
    "\n",
    "piston_plane = getBestPlane(piston_focusMap.query(\"criteria == '%s'\"%criteria),order=1, \\\n",
    "                        doPlot=True, exp=experimentId, plot_path=dataPath)\n",
    "\n",
    "\n",
    "txtfile = f\"SM1_{cam.upper()}_BestFocusPlane_Exp{experimentId}_doBck{str(doBck)}_{criteria}_thres{str(int(threshold*100)).zfill(3)}.dat\"\n",
    "\n",
    "foc = findMotorPos(piston_plane, inv_mat = invMat)\n",
    "\n",
    "txt = f\"{datetime.now()} \\n\"\n",
    "txt += f\"{csvPath}\\n\"\n",
    "txt += f\"ExpId {experimentId}\\n\"\n",
    "txt += f\"{invMat}\\n\"\n",
    "txt += f\"{foc}\\n\"\n",
    "txt += f\"xcu_{cam} motors moveCcd a={foc[0]:.2f} b={foc[1]:.2f} c={foc[2]:.2f} microns abs\\n\"\n",
    "\n",
    "print(txt)\n",
    "\n",
    "# debug B2 \n",
    "#dataPath = \"/drp/analysis/sm2/debugB2\"\n",
    "\n",
    "if doSave :\n",
    "    text_file = open(csvPath+txtfile, \"w\")\n",
    "    text_file.write(txt)\n",
    "    text_file.close()\n",
    "\n",
    "plot_prefix = f\"Focus_Piston_plots_doBck{str(doBck)}_{criteria}_thres{str(int(threshold*100)).zfill(3)}\"\n",
    "title_suffix = f\"a={foc[0]:.2f} b={foc[1]:.2f} c={foc[2]:.2f} microns\"\n",
    "title_suffix += f\"- DetBox {piston.detBoxTemp.mean():.1f}K - ccdTemp {piston.ccdTemp.mean():.1f}K\"\n",
    "plot_groups(piston.sort_values(\"motor1\")[piston.EE5_diff_flag], experimentId, dataPath, plot_prefix=plot_prefix, title_suffix=title_suffix,\\\n",
    "            col=\"fiber\", hue=\"wavelength\", criteria=criteria, doSave=doSave, verbose=True)\n",
    "plot_groups(piston.sort_values(\"motor1\")[piston.EE5_diff_flag], experimentId, dataPath, plot_prefix=plot_prefix, title_suffix=title_suffix,\\\n",
    "            col=\"wavelength\", hue=\"fiber\", criteria=criteria, doSave=doSave)\n",
    "\n",
    "plot_prefix = f\"Focus_Piston_fit_plots_doBck{str(doBck)}_{criteria}_thres{int(threshold*100):<3}\"\n",
    "plot_groups(piston_fitdata.sort_values(\"motor1\"), experimentId, dataPath, plot_prefix=plot_prefix, title_suffix=title_suffix, \\\n",
    "            col=\"fiber\", hue=\"wavelength\", criteria=criteria, doSave=doSave)\n",
    "plot_groups(piston_fitdata.sort_values(\"motor1\"), experimentId, dataPath, plot_prefix=plot_prefix, title_suffix=title_suffix,\\\n",
    "            col=\"wavelength\", hue=\"fiber\", criteria=criteria, doSave=doSave)"
   ]
  },
  {
   "cell_type": "code",
   "execution_count": null,
   "metadata": {},
   "outputs": [],
   "source": [
    "piston_focusMap[\"ccdTemp\"] = piston.ccdTemp.mean()\n",
    "piston_focusMap[\"detBoxTemp\"] = piston.detBoxTemp.mean()\n"
   ]
  },
  {
   "cell_type": "code",
   "execution_count": null,
   "metadata": {},
   "outputs": [],
   "source": [
    "fib_list = [2,339,650]\n",
    "piston_focusMap[piston_focusMap.fiber.isin(fib_list)].set_index([\"fiber\",\"wavelength\"]).sort_index()[[\"relPos\", \"criteria\",\"value\", \"detBoxTemp\", \"ccdTemp\"]]"
   ]
  },
  {
   "cell_type": "code",
   "execution_count": null,
   "metadata": {},
   "outputs": [],
   "source": [
    "piston_focusMap[piston_focusMap.fiber.isin(fib_list)].to_excel(f\"{imgPath}{cam.upper()}_Exp{experimentId}.xlsx\")"
   ]
  },
  {
   "cell_type": "code",
   "execution_count": null,
   "metadata": {},
   "outputs": [],
   "source": [
    "plot_groups(piston[piston.fiber.isin(fib_list)].sort_values(\"motor1\")[piston.EE5_diff_flag], experimentId, dataPath, plot_prefix=plot_prefix, title_suffix=title_suffix,\\\n",
    "            col=\"fiber\", hue=\"wavelength\", criteria=criteria, doSave=doSave, verbose=True)"
   ]
  },
  {
   "cell_type": "code",
   "execution_count": null,
   "metadata": {},
   "outputs": [],
   "source": []
  }
 ],
 "metadata": {
  "jupytext": {
   "text_representation": {
    "extension": ".py",
    "format_name": "light",
    "format_version": "1.5",
    "jupytext_version": "1.3.4"
   }
  },
  "kernelspec": {
   "display_name": "Python 3",
   "language": "python",
   "name": "python3"
  },
  "language_info": {
   "codemirror_mode": {
    "name": "ipython",
    "version": 3
   },
   "file_extension": ".py",
   "mimetype": "text/x-python",
   "name": "python",
   "nbconvert_exporter": "python",
   "pygments_lexer": "ipython3",
   "version": "3.7.2"
  }
 },
 "nbformat": 4,
 "nbformat_minor": 4
}
