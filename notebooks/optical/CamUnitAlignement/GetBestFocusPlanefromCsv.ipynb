{
 "cells": [
  {
   "cell_type": "code",
   "execution_count": null,
   "metadata": {},
   "outputs": [],
   "source": [
    "%load_ext autoreload\n",
    "\n",
    "%autoreload 2"
   ]
  },
  {
   "cell_type": "code",
   "execution_count": null,
   "metadata": {
    "lines_to_next_cell": 2
   },
   "outputs": [],
   "source": [
    "from pfs.lam.imageAnalysis import neighbor_outlier_filter\n",
    "\n",
    "from pfs.lam.detAnalysis import *\n",
    "from pfs.lam.detFocusAnalysis import *\n",
    "from pfs.lam.fileHandling import *\n",
    "from pfs.lam.style import *\n",
    "from pfs.lam.analysisPlot import *\n",
    "import glob\n",
    "import lsst.daf.persistence as dafPersist"
   ]
  },
  {
   "cell_type": "code",
   "execution_count": null,
   "metadata": {},
   "outputs": [],
   "source": [
    "from pfs.lam.misc import find_nearest\n",
    "import seaborn as sns\n"
   ]
  },
  {
   "cell_type": "code",
   "execution_count": null,
   "metadata": {},
   "outputs": [],
   "source": [
    "import seaborn as sns\n",
    "import matplotlib.pyplot as plt\n",
    "from mpl_toolkits.mplot3d import Axes3D\n",
    "from datetime import datetime"
   ]
  },
  {
   "cell_type": "code",
   "execution_count": null,
   "metadata": {},
   "outputs": [],
   "source": []
  },
  {
   "cell_type": "code",
   "execution_count": null,
   "metadata": {
    "lines_to_next_cell": 2
   },
   "outputs": [],
   "source": [
    "datetime.now().strftime(\"%Y-%m-%dT%Hh%M\")"
   ]
  },
  {
   "cell_type": "code",
   "execution_count": null,
   "metadata": {},
   "outputs": [],
   "source": [
    "roi_size = 24\n",
    "doBck = True\n",
    "threshold = 0."
   ]
  },
  {
   "cell_type": "code",
   "execution_count": null,
   "metadata": {},
   "outputs": [],
   "source": [
    "expIds =[177]\n",
    "rerun = \"sm1-march2020-no_FD\"\n",
    "repo = \"repo\"\n",
    "cam = \"r1\"\n",
    "extra = ''\n",
    "roi_size = 24\n",
    "#drpPath = \"/home/fmadec/pfs/lam/drp\""
   ]
  },
  {
   "cell_type": "code",
   "execution_count": null,
   "metadata": {},
   "outputs": [],
   "source": [
    "expIds = [24572]\n",
    "rerun = \"ginga\"\n",
    "cam = \"b3\"\n",
    "extra = ''\n",
    "roi_size = 24\n"
   ]
  },
  {
   "cell_type": "markdown",
   "metadata": {},
   "source": [
    "# define defaut parameters\n"
   ]
  },
  {
   "cell_type": "code",
   "execution_count": null,
   "metadata": {},
   "outputs": [],
   "source": []
  },
  {
   "cell_type": "code",
   "execution_count": null,
   "metadata": {},
   "outputs": [],
   "source": [
    "piston_index = \"motor1\"\n",
    "\n",
    "com = True  # Center Of Mass\n",
    "head = 0\n",
    "tail = 0\n",
    "criteria = 'EE5'\n",
    "criterias = [criteria] #['EE5', 'sep_ECE5']\n",
    "verbose = True\n",
    "doPrint = False\n",
    "arm = cam[0]\n"
   ]
  },
  {
   "cell_type": "code",
   "execution_count": null,
   "metadata": {},
   "outputs": [],
   "source": [
    "head = 0\n",
    "tail = 0"
   ]
  },
  {
   "cell_type": "code",
   "execution_count": null,
   "metadata": {
    "lines_to_next_cell": 2
   },
   "outputs": [],
   "source": [
    "cluster = False"
   ]
  },
  {
   "cell_type": "code",
   "execution_count": null,
   "metadata": {
    "lines_to_next_cell": 2
   },
   "outputs": [],
   "source": [
    "doForestFilter = False\n",
    "forest_contamin = 0.05   #r1 0.05   #m1 "
   ]
  },
  {
   "cell_type": "code",
   "execution_count": null,
   "metadata": {
    "lines_to_next_cell": 2
   },
   "outputs": [],
   "source": [
    "doNeighborFilter = True\n",
    "thres_neighbor = -0.1 # default -0.1"
   ]
  },
  {
   "cell_type": "code",
   "execution_count": null,
   "metadata": {},
   "outputs": [],
   "source": [
    "doSave = False\n",
    "doSaveCsv = False"
   ]
  },
  {
   "cell_type": "code",
   "execution_count": null,
   "metadata": {
    "lines_to_next_cell": 2
   },
   "outputs": [],
   "source": []
  },
  {
   "cell_type": "markdown",
   "metadata": {},
   "source": [
    "# Set folder according place either cluster, laptop"
   ]
  },
  {
   "cell_type": "code",
   "execution_count": null,
   "metadata": {},
   "outputs": [],
   "source": [
    "drpPath = \"/data/drp\"\n",
    "repo = \"sps\"\n",
    "basePath = '/drp/analysis/sm3/'\n",
    "imgPath = basePath\n"
   ]
  },
  {
   "cell_type": "code",
   "execution_count": null,
   "metadata": {},
   "outputs": [],
   "source": [
    "outpath = ''\n",
    "outpath = \"output\\\\\" if outpath is None else outpath\n",
    "\n"
   ]
  },
  {
   "cell_type": "markdown",
   "metadata": {},
   "source": [
    "# Read data CSV files for all experimentIds"
   ]
  },
  {
   "cell_type": "code",
   "execution_count": null,
   "metadata": {},
   "outputs": [],
   "source": [
    "files = []\n",
    "for experimentId in expIds:\n",
    "\n",
    "    csvPath = imgPath+\"Exp\"+str(experimentId)+\"/\"+rerun+\"_roi\"+str(roi_size)+\"/doBck\"+str(doBck)+\"/\"+extra\n",
    "    if not os.path.exists(csvPath):\n",
    "        csvPath = imgPath+\"Exp\"+str(experimentId)+\"/\"+rerun+\"/\"+\"roi\"+str(roi_size)+\"/doBck\"+str(doBck)+\"/\"+extra\n",
    "\n",
    "    dataPath = csvPath\n",
    "    print(dataPath)\n",
    "\n",
    "    searchFile = f\"{csvPath}Imquality_{cam}_Exp{experimentId}*\"\n",
    "    print(searchFile)\n",
    "    files.extend(glob.glob(searchFile))\n",
    "\n",
    "if verbose:\n",
    "    print(*files, sep=\"\\n\")\n",
    "\n",
    "piston_imdata = pd.concat(map(pd.read_csv,files)).reset_index().sort_values(by=\"motor1\")\n",
    "#piston_imdata[\"wavelength\"] = 300\n",
    "\n",
    "piston_imdata = piston_imdata.groupby(['wavelength','fiber', \"motor1\"]).mean().reset_index()"
   ]
  },
  {
   "cell_type": "code",
   "execution_count": null,
   "metadata": {},
   "outputs": [],
   "source": [
    "# hack debut sm2\n",
    "\n",
    "\n",
    "print(f\"Wavelength used: {piston_imdata.wavelength.unique()}\")\n",
    "minPos = piston_imdata[['motor1','motor2','motor3']]\n",
    "minPos = minPos - minPos.min()\n",
    "piston_imdata['relPos'] = minPos['motor1']\n",
    "\n",
    "#piston = piston_imdata[piston_imdata.EE5>threshold]\n",
    "\n",
    "piston_imdata[\"fit_flag\"] = 0\n",
    "piston_imdata[\"EE5_diff_flag\"] = True\n",
    "\n",
    "piston = piston_imdata\n",
    "\n",
    "#piston = piston_imdata[piston_imdata.EE5>threshold]"
   ]
  },
  {
   "cell_type": "code",
   "execution_count": null,
   "metadata": {},
   "outputs": [],
   "source": [
    "waves = piston.wavelength.unique()\n",
    "fibers = piston.fiber.unique()\n",
    "print(fibers, waves)"
   ]
  },
  {
   "cell_type": "markdown",
   "metadata": {},
   "source": [
    "# filtering the data"
   ]
  },
  {
   "cell_type": "code",
   "execution_count": null,
   "metadata": {},
   "outputs": [],
   "source": [
    "\n",
    "if doNeighborFilter :\n",
    "    tot = []\n",
    "    for  group_name, series in piston.groupby(['wavelength','fiber']):\n",
    "        series = neighbor_outlier_filter(series, \"EE5\", thres_neighbor, absolute=True)\n",
    "        tot.append(series)\n",
    "        piston_filtered = pd.concat(tot)\n",
    "        "
   ]
  },
  {
   "cell_type": "markdown",
   "metadata": {},
   "source": [
    "# 2nd Moment calculation from SEP"
   ]
  },
  {
   "cell_type": "code",
   "execution_count": null,
   "metadata": {},
   "outputs": [],
   "source": [
    "if \"sep_x2\" in piston_filtered.columns:\n",
    "    piston_filtered[\"sep_2ndM\"]= piston_filtered.apply(lambda x: np.mean([x[\"sep_x2\"],x[\"sep_y2\"]]) , axis=1)\n",
    "    piston_filtered[\"sep_radius_x\"]= np.sqrt(piston[\"sep_x2\"])\n",
    "    piston_filtered[\"sep_radius_y\"]= np.sqrt(piston[\"sep_y2\"])\n",
    "    piston_filtered[\"sep_radius_xy\"]= piston_filtered.apply(lambda x: np.mean([x[\"sep_radius_x\"],x[\"sep_radius_y\"]]) , axis=1)"
   ]
  },
  {
   "cell_type": "code",
   "execution_count": null,
   "metadata": {},
   "outputs": [],
   "source": [
    "# Plot raw data"
   ]
  },
  {
   "cell_type": "code",
   "execution_count": null,
   "metadata": {},
   "outputs": [],
   "source": [
    "grid = sns.FacetGrid(piston_filtered, col=\"fiber\", hue=\"wavelength\",\n",
    "#                         col_wrap=4, height=3, legend_out=True)\n",
    "                     col_wrap=3, height=3, legend_out=True)\n",
    "\n",
    "grid.map(plt.plot, \"relPos\", criteria, marker=\"+\")\n",
    "grid.fig.tight_layout(w_pad=1)\n",
    "if criteria == \"EE5\":\n",
    "    grid.set(ylim=(0, 1))\n",
    "grid.add_legend()\n",
    "plt.subplots_adjust(top=0.85)\n",
    "#if title_suffix is None:\n",
    "#    title = f\"{plot_prefix} - Exp{experimentId}\"\n",
    "#else: \n",
    "#    title = f\"{plot_prefix} - Exp{experimentId}\\n{title_suffix}\"\n",
    "#grid.fig.suptitle(title)"
   ]
  },
  {
   "cell_type": "code",
   "execution_count": null,
   "metadata": {},
   "outputs": [],
   "source": []
  },
  {
   "cell_type": "markdown",
   "metadata": {},
   "source": [
    "# Through focus fit "
   ]
  },
  {
   "cell_type": "code",
   "execution_count": null,
   "metadata": {},
   "outputs": [],
   "source": [
    "piston_filtered[piston_filtered.fit_flag >=0 & piston_filtered.EE5_diff_flag].motor1.min()"
   ]
  },
  {
   "cell_type": "raw",
   "metadata": {},
   "source": [
    "piston_filtered[piston_filtered.sep_2ndM.isna()]"
   ]
  },
  {
   "cell_type": "raw",
   "metadata": {},
   "source": [
    "thfoc_data = getAllBestFocus(piston_filtered.dropna(), criterias=['EE5', \"sep_2ndM\"], doPlot=True)"
   ]
  },
  {
   "cell_type": "code",
   "execution_count": null,
   "metadata": {},
   "outputs": [],
   "source": [
    "thfoc_data = getAllBestFocus(piston_filtered.dropna(), criterias=['EE5'], doPlot=True)"
   ]
  },
  {
   "cell_type": "code",
   "execution_count": null,
   "metadata": {},
   "outputs": [],
   "source": [
    "thfoc_data"
   ]
  },
  {
   "cell_type": "code",
   "execution_count": null,
   "metadata": {},
   "outputs": [],
   "source": [
    "plane = getBestPlane(thfoc_data[thfoc_data.criteria == \"EE5\"], coords=[\"px\", \"py\", \"focus\"], doPlot=True)"
   ]
  },
  {
   "cell_type": "code",
   "execution_count": null,
   "metadata": {},
   "outputs": [],
   "source": [
    "motors_pos = findMotorPos(plane, cam=cam, doPrint=True)"
   ]
  },
  {
   "cell_type": "code",
   "execution_count": null,
   "metadata": {},
   "outputs": [],
   "source": [
    "print(csvPath)\n",
    "print(f\"ExpId {experimentId}\")\n",
    "#print(invMat)\n",
    "#print(\"xcu_%s motors moveCcd a=%.2f b=%.2f c=%.2f microns abs\"%(cam,*motors_pos))"
   ]
  },
  {
   "cell_type": "code",
   "execution_count": null,
   "metadata": {},
   "outputs": [],
   "source": []
  },
  {
   "cell_type": "code",
   "execution_count": null,
   "metadata": {},
   "outputs": [],
   "source": []
  },
  {
   "cell_type": "code",
   "execution_count": null,
   "metadata": {},
   "outputs": [],
   "source": []
  },
  {
   "cell_type": "code",
   "execution_count": null,
   "metadata": {},
   "outputs": [],
   "source": []
  },
  {
   "cell_type": "code",
   "execution_count": null,
   "metadata": {},
   "outputs": [],
   "source": [
    "selected = thfoc_data[thfoc_data.criteria == \"EE5\"]\n",
    "fig = plt.figure()\n",
    "ax = fig.gca(projection='3d')\n",
    "ax.scatter(selected.fiber, selected.wavelength, selected.focus, c='r')\n",
    "ax.set_zlim(0,400)\n",
    "\n",
    "selected = thfoc_data[thfoc_data.criteria == \"sep_2ndM\"]\n",
    "\n",
    "ax.scatter(selected.fiber, selected.wavelength, selected.focus, c='b')\n",
    "ax.set_zlim(0,400)\n"
   ]
  },
  {
   "cell_type": "code",
   "execution_count": null,
   "metadata": {},
   "outputs": [],
   "source": [
    "fig = plt.subplot()\n",
    "thfoc_data.set_index([\"fiber\", \"wavelength\"]).groupby(\"criteria\").value.plot()"
   ]
  },
  {
   "cell_type": "code",
   "execution_count": null,
   "metadata": {},
   "outputs": [],
   "source": [
    "fig = plt.subplot()\n",
    "thfoc_data.set_index([\"fiber\", \"wavelength\"]).groupby(\"criteria\").width.plot()\n",
    "thfoc_data.width.mean()"
   ]
  },
  {
   "cell_type": "code",
   "execution_count": null,
   "metadata": {},
   "outputs": [],
   "source": []
  },
  {
   "cell_type": "code",
   "execution_count": null,
   "metadata": {},
   "outputs": [],
   "source": []
  }
 ],
 "metadata": {
  "jupytext": {
   "text_representation": {
    "extension": ".py",
    "format_name": "light",
    "format_version": "1.5",
    "jupytext_version": "1.3.4"
   }
  },
  "kernelspec": {
   "display_name": "Python 3",
   "language": "python",
   "name": "python3"
  },
  "language_info": {
   "codemirror_mode": {
    "name": "ipython",
    "version": 3
   },
   "file_extension": ".py",
   "mimetype": "text/x-python",
   "name": "python",
   "nbconvert_exporter": "python",
   "pygments_lexer": "ipython3",
   "version": "3.7.2"
  }
 },
 "nbformat": 4,
 "nbformat_minor": 4
}
