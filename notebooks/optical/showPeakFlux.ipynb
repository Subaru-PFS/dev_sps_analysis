{
 "cells": [
  {
   "cell_type": "markdown",
   "metadata": {},
   "source": [
    "# Show roi peak plot and peak brightness of the \"LAM\" wavelengths \n"
   ]
  },
  {
   "cell_type": "code",
   "execution_count": null,
   "metadata": {},
   "outputs": [],
   "source": [
    "%load_ext autoreload\n",
    "\n",
    "%autoreload 2"
   ]
  },
  {
   "cell_type": "code",
   "execution_count": null,
   "metadata": {},
   "outputs": [],
   "source": [
    "import os,glob\n",
    "import pandas as pd"
   ]
  },
  {
   "cell_type": "code",
   "execution_count": null,
   "metadata": {},
   "outputs": [],
   "source": [
    "import matplotlib.pyplot as plt\n",
    "from datetime import datetime"
   ]
  },
  {
   "cell_type": "code",
   "execution_count": null,
   "metadata": {},
   "outputs": [],
   "source": [
    "from matplotlib import cm"
   ]
  },
  {
   "cell_type": "code",
   "execution_count": null,
   "metadata": {},
   "outputs": [],
   "source": [
    "from pfs.lam.analysisPlot import plotRoiPeak, plotPeaksBrightness\n",
    "from pfs.lam.detAnalysis import *"
   ]
  },
  {
   "cell_type": "code",
   "execution_count": null,
   "metadata": {},
   "outputs": [],
   "source": [
    "import lsst.daf.persistence as dafPersist\n",
    "import lsst.afw.display as afwDisplay\n",
    "from pfs.drp.stella import DetectorMap\n",
    "from pfs.drp.stella.utils import addPfsCursor\n",
    "from pfs.datamodel.pfsConfig import *\n"
   ]
  },
  {
   "cell_type": "code",
   "execution_count": null,
   "metadata": {},
   "outputs": [],
   "source": [
    "from pfs.drp.stella.readLineList import ReadLineListTask, ReadLineListConfig\n",
    "from pfs.drp.stella.referenceLine import ReferenceLineStatus\n"
   ]
  },
  {
   "cell_type": "markdown",
   "metadata": {},
   "source": [
    "# define defaut parameters\n"
   ]
  },
  {
   "cell_type": "code",
   "execution_count": null,
   "metadata": {},
   "outputs": [],
   "source": [
    "roi_size = 24\n",
    "doBck = True\n",
    "threshold = 0."
   ]
  },
  {
   "cell_type": "markdown",
   "metadata": {},
   "source": [
    "# Set folder to store plots\n",
    "doSavePlot needs to be True to store plots\n"
   ]
  },
  {
   "cell_type": "code",
   "execution_count": null,
   "metadata": {},
   "outputs": [],
   "source": [
    "doSavePlot = False"
   ]
  },
  {
   "cell_type": "code",
   "execution_count": null,
   "metadata": {},
   "outputs": [],
   "source": [
    "imgPath = '/work/fmadec/spsAIT/brightness'\n"
   ]
  },
  {
   "cell_type": "markdown",
   "metadata": {},
   "source": [
    "# Butler and Data\n",
    "Define: ExpId/visitId arm and specId"
   ]
  },
  {
   "cell_type": "code",
   "execution_count": null,
   "metadata": {},
   "outputs": [],
   "source": [
    "site = \"Subaru\"\n",
    "specId = 1\n",
    "arm = \"r\"\n",
    "#expId = 3396\n",
    "cam = f\"{arm}{specId}\"\n",
    "\n",
    "visit = 102426"
   ]
  },
  {
   "cell_type": "code",
   "execution_count": null,
   "metadata": {},
   "outputs": [],
   "source": [
    "# if detMapFile is None, when detMap will be load using butler so from the ingested calib\n",
    "detMapFile = None"
   ]
  },
  {
   "cell_type": "code",
   "execution_count": null,
   "metadata": {},
   "outputs": [],
   "source": [
    "#base, rerun = \"/work/drp/\", \"drpActor/CALIB\"\n",
    "base, rerun = \"/data/drp/repo\", \"drpActor/CALIB\"\n",
    "calibRoot = \"/data/drp/repo/CALIB/\"\n",
    "\n",
    "dataDir = os.path.join(base, \"rerun\", rerun) if rerun else base\n",
    "\n",
    "butler = dafPersist.Butler(dataDir) #, calibRoot=calibRoot)"
   ]
  },
  {
   "cell_type": "code",
   "execution_count": null,
   "metadata": {},
   "outputs": [],
   "source": []
  },
  {
   "cell_type": "code",
   "execution_count": null,
   "metadata": {},
   "outputs": [],
   "source": [
    "dataId = dict(visit=visit, arm=arm, spectrograph=specId)\n",
    "\n"
   ]
  },
  {
   "cell_type": "code",
   "execution_count": null,
   "metadata": {},
   "outputs": [],
   "source": [
    "if doSavePlot:\n",
    "    if not os.path.exists(imgPath):\n",
    "        os.makedirs(imgPath)\n"
   ]
  },
  {
   "cell_type": "code",
   "execution_count": null,
   "metadata": {},
   "outputs": [],
   "source": [
    "df = ImageQualityDetMap(butler, dataId, detMap=detMapFile, doPlot=True, doSavePlot=doSavePlot, imgPath=imgPath)"
   ]
  },
  {
   "cell_type": "code",
   "execution_count": null,
   "metadata": {
    "tags": []
   },
   "outputs": [],
   "source": [
    "[lamps] = df.lamp.unique()\n",
    "[exptime] = df.exptime.unique()\n",
    "[lwh] = df.dcb_wheel.unique()"
   ]
  },
  {
   "cell_type": "code",
   "execution_count": null,
   "metadata": {},
   "outputs": [],
   "source": [
    "plotPeaksBrightness(df, doSave=False, savePlotFile=os.path.join(imgPath,f\"{cam}_{visit}.png\"), plot_title=f\"{cam.upper()} visitId={visit}\\n lamps={lamps} exptime={exptime} linewheel={lwh}\")"
   ]
  },
  {
   "cell_type": "code",
   "execution_count": null,
   "metadata": {},
   "outputs": [],
   "source": []
  }
 ],
 "metadata": {
  "jupytext": {
   "text_representation": {
    "extension": ".py",
    "format_name": "light",
    "format_version": "1.5",
    "jupytext_version": "1.3.4"
   }
  },
  "kernelspec": {
   "display_name": "PFS",
   "language": "python",
   "name": "pfs_pipe2d"
  },
  "language_info": {
   "codemirror_mode": {
    "name": "ipython",
    "version": 3
   },
   "file_extension": ".py",
   "mimetype": "text/x-python",
   "name": "python",
   "nbconvert_exporter": "python",
   "pygments_lexer": "ipython3",
   "version": "3.8.13"
  }
 },
 "nbformat": 4,
 "nbformat_minor": 4
}
