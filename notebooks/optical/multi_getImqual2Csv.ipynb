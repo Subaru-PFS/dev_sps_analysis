{
 "cells": [
  {
   "cell_type": "code",
   "execution_count": 1,
   "id": "49c07bfe-b2b0-4d80-8f77-2da2f8463755",
   "metadata": {},
   "outputs": [],
   "source": [
    "%load_ext autoreload\n",
    " \n",
    "%autoreload 2"
   ]
  },
  {
   "cell_type": "code",
   "execution_count": 2,
   "id": "6754afd1-b97d-4dfb-9d54-88ef00c3fb70",
   "metadata": {},
   "outputs": [],
   "source": [
    "from pfs.lam.opdb import *"
   ]
  },
  {
   "cell_type": "code",
   "execution_count": 1,
   "id": "70f7dfc9-3f1c-4039-853d-76025b87eafb",
   "metadata": {},
   "outputs": [],
   "source": [
    "from pfs.lam.imqual2Csv import main as getImqual"
   ]
  },
  {
   "cell_type": "code",
   "execution_count": 4,
   "id": "4a9b1650-f9f4-4c4b-b22c-9748ed4f1708",
   "metadata": {},
   "outputs": [],
   "source": [
    "from multiprocessing import Pool\n",
    "import time\n",
    "import os"
   ]
  },
  {
   "cell_type": "markdown",
   "id": "498d818d-1e95-4015-ac4f-5a684843bd67",
   "metadata": {},
   "source": [
    "# Limit the number of core \n",
    "## otherwise affect to None"
   ]
  },
  {
   "cell_type": "code",
   "execution_count": 5,
   "id": "f0c0a11d-2aac-48d6-b9bb-6c2665c9bdc7",
   "metadata": {},
   "outputs": [],
   "source": [
    "MAX_PROCESS = 30"
   ]
  },
  {
   "cell_type": "markdown",
   "id": "9862abd7-8361-40da-a944-dcab9044bcab",
   "metadata": {},
   "source": [
    "# Data to be process\n",
    "to be specified:  arm, specId and visit_set_id (or experimentId)"
   ]
  },
  {
   "cell_type": "code",
   "execution_count": 6,
   "id": "e87ae372-bbce-4469-b585-4a72168b7aef",
   "metadata": {},
   "outputs": [],
   "source": [
    "site = \"Subaru\"\n",
    "specId = 4\n",
    "arm = \"b\"\n",
    "#expId = 3396\n",
    "\n",
    "experimentId = 30047\n",
    "\n",
    "peaklist = \"/work/fmadec/spsAIT/202312/SM4_Sub_14Dec2023_peakList.csv\"\n",
    "outpath = \"/work/fmadec/spsAIT/202312\""
   ]
  },
  {
   "cell_type": "code",
   "execution_count": 7,
   "id": "9725d29f-8dc3-486b-a47d-888c69dd457a",
   "metadata": {},
   "outputs": [],
   "source": [
    "roi_size = 24\n",
    "seek_size = None\n",
    "doBck = True\n",
    "\n",
    "cam = f\"{arm}{specId}\""
   ]
  },
  {
   "cell_type": "markdown",
   "id": "5f9010f0-fb86-4d6d-921b-1c2654f13a87",
   "metadata": {},
   "source": [
    "# DRP folder"
   ]
  },
  {
   "cell_type": "code",
   "execution_count": 8,
   "id": "23d1f11f-f92b-4e52-97e9-8aa608a6706d",
   "metadata": {},
   "outputs": [],
   "source": [
    "\n",
    "#drpPath, repo, rerun = \"/work/\", \"drp\", \"drpActor/CALIB\"\n",
    "drpPath, repo, rerun = \"/data/drp\", \"repo\", \"drpActor/CALIB\"\n",
    "\n"
   ]
  },
  {
   "cell_type": "markdown",
   "id": "b11fcb34-3e28-4c1e-9e2b-bc62aeae154c",
   "metadata": {},
   "source": [
    "define outputs, plots\n"
   ]
  },
  {
   "cell_type": "code",
   "execution_count": 9,
   "id": "905c5531-d431-464e-9cb7-7d83f73a834f",
   "metadata": {
    "tags": []
   },
   "outputs": [],
   "source": [
    "\n",
    "\n",
    "roiPlot = True\n",
    "plotPeaksFlux = True\n",
    "doFit = False\n",
    "doLSF = False"
   ]
  },
  {
   "cell_type": "code",
   "execution_count": null,
   "id": "a500ce2f-7da5-4c87-8f1b-5df03bc5fc91",
   "metadata": {},
   "outputs": [],
   "source": []
  },
  {
   "cell_type": "code",
   "execution_count": 10,
   "id": "3c4a1a95-98b7-4b46-9b54-9e742a78553c",
   "metadata": {
    "tags": []
   },
   "outputs": [
    {
     "name": "stdout",
     "output_type": "stream",
     "text": [
      "102980 103004\n"
     ]
    }
   ],
   "source": [
    "visitStart, visitEnd = getVisitRange_fromWeb(experimentId, url=\"http://133.40.164.16/sps-logs/index.html\")\n",
    "\n",
    "print(visitStart, visitEnd)\n"
   ]
  },
  {
   "cell_type": "code",
   "execution_count": 11,
   "id": "b9e92c7b-893c-478b-91a2-21a6a58ccd38",
   "metadata": {},
   "outputs": [],
   "source": [
    "def task(i, peaklist=peaklist, cam=cam, rerun=rerun, experimentId=experimentId, outpath=outpath, drpPath=drpPath, repo=repo, \\\n",
    "                                roi_size=roi_size, seek_size=seek_size, doBck=doBck, roiPlot=roiPlot, plotPeaksFlux=plotPeaksFlux, doFit=doFit, doLSF=doLSF):\n",
    "    return getImqual(i, peaklist, cam, rerun, experimentId, outpath, drpPath, repo, \\\n",
    "                                roi_size, seek_size, doBck, roiPlot, plotPeaksFlux, doFit, doLSF)\n"
   ]
  },
  {
   "cell_type": "code",
   "execution_count": 12,
   "id": "1e1f30d5-43ab-4edc-b34e-ba29b801522f",
   "metadata": {},
   "outputs": [
    {
     "name": "stdout",
     "output_type": "stream",
     "text": [
      "25 visits\n"
     ]
    }
   ],
   "source": [
    "visitIds = range(visitStart, visitEnd+1)\n",
    "print(f\"{len(visitIds)} visits\")"
   ]
  },
  {
   "cell_type": "code",
   "execution_count": 13,
   "id": "3516302a-cca1-4ebd-ab2e-0d248e89a258",
   "metadata": {},
   "outputs": [
    {
     "name": "stdout",
     "output_type": "stream",
     "text": [
      "30\n"
     ]
    }
   ],
   "source": [
    "MAX_PROCESS = os.cpu_count() if MAX_PROCESS is None else MAX_PROCESS\n",
    "print(MAX_PROCESS)"
   ]
  },
  {
   "cell_type": "code",
   "execution_count": 14,
   "id": "80bd5db1-903e-4a10-9994-79b8409e991a",
   "metadata": {
    "tags": []
   },
   "outputs": [
    {
     "name": "stderr",
     "output_type": "stream",
     "text": [
      "/home/fmadec/devel/lam_sps_devel/notebooks/devel/fmadec/subaru/Cluster_GetImqual2csv.py:65: FutureWarning: Gen2 Butler has been deprecated (PfsButler). It will be removed sometime after v23.0 but no earlier than the end of 2021.\n",
      "  butler = dafPersist.Butler( os.path.join(repoRoot, \"rerun\", rerun)) #, calibRoot=os.path.join(repoRoot, \"CALIB\"))\n",
      "/home/fmadec/devel/lam_sps_devel/notebooks/devel/fmadec/subaru/Cluster_GetImqual2csv.py:65: FutureWarning: Gen2 Butler has been deprecated (PfsButler). It will be removed sometime after v23.0 but no earlier than the end of 2021.\n",
      "  butler = dafPersist.Butler( os.path.join(repoRoot, \"rerun\", rerun)) #, calibRoot=os.path.join(repoRoot, \"CALIB\"))\n",
      "/home/fmadec/devel/lam_sps_devel/notebooks/devel/fmadec/subaru/Cluster_GetImqual2csv.py:65: FutureWarning: Gen2 Butler has been deprecated (PfsButler). It will be removed sometime after v23.0 but no earlier than the end of 2021.\n",
      "  butler = dafPersist.Butler( os.path.join(repoRoot, \"rerun\", rerun)) #, calibRoot=os.path.join(repoRoot, \"CALIB\"))\n",
      "/home/fmadec/devel/lam_sps_devel/notebooks/devel/fmadec/subaru/Cluster_GetImqual2csv.py:65: FutureWarning: Gen2 Butler has been deprecated (PfsButler). It will be removed sometime after v23.0 but no earlier than the end of 2021.\n",
      "  butler = dafPersist.Butler( os.path.join(repoRoot, \"rerun\", rerun)) #, calibRoot=os.path.join(repoRoot, \"CALIB\"))\n",
      "/home/fmadec/devel/lam_sps_devel/notebooks/devel/fmadec/subaru/Cluster_GetImqual2csv.py:65: FutureWarning: Gen2 Butler has been deprecated (PfsButler). It will be removed sometime after v23.0 but no earlier than the end of 2021.\n",
      "  butler = dafPersist.Butler( os.path.join(repoRoot, \"rerun\", rerun)) #, calibRoot=os.path.join(repoRoot, \"CALIB\"))\n",
      "/home/fmadec/devel/lam_sps_devel/notebooks/devel/fmadec/subaru/Cluster_GetImqual2csv.py:65: FutureWarning: Gen2 Butler has been deprecated (PfsButler). It will be removed sometime after v23.0 but no earlier than the end of 2021.\n",
      "  butler = dafPersist.Butler( os.path.join(repoRoot, \"rerun\", rerun)) #, calibRoot=os.path.join(repoRoot, \"CALIB\"))\n",
      "/home/fmadec/devel/lam_sps_devel/notebooks/devel/fmadec/subaru/Cluster_GetImqual2csv.py:65: FutureWarning: Gen2 Butler has been deprecated (PfsButler). It will be removed sometime after v23.0 but no earlier than the end of 2021.\n",
      "  butler = dafPersist.Butler( os.path.join(repoRoot, \"rerun\", rerun)) #, calibRoot=os.path.join(repoRoot, \"CALIB\"))\n",
      "/home/fmadec/devel/lam_sps_devel/notebooks/devel/fmadec/subaru/Cluster_GetImqual2csv.py:65: FutureWarning: Gen2 Butler has been deprecated (PfsButler). It will be removed sometime after v23.0 but no earlier than the end of 2021.\n",
      "  butler = dafPersist.Butler( os.path.join(repoRoot, \"rerun\", rerun)) #, calibRoot=os.path.join(repoRoot, \"CALIB\"))\n",
      "/home/fmadec/devel/lam_sps_devel/notebooks/devel/fmadec/subaru/Cluster_GetImqual2csv.py:65: FutureWarning: Gen2 Butler has been deprecated (PfsButler). It will be removed sometime after v23.0 but no earlier than the end of 2021.\n",
      "  butler = dafPersist.Butler( os.path.join(repoRoot, \"rerun\", rerun)) #, calibRoot=os.path.join(repoRoot, \"CALIB\"))\n",
      "/home/fmadec/devel/lam_sps_devel/notebooks/devel/fmadec/subaru/Cluster_GetImqual2csv.py:65: FutureWarning: Gen2 Butler has been deprecated (PfsButler). It will be removed sometime after v23.0 but no earlier than the end of 2021.\n",
      "  butler = dafPersist.Butler( os.path.join(repoRoot, \"rerun\", rerun)) #, calibRoot=os.path.join(repoRoot, \"CALIB\"))\n",
      "/home/fmadec/devel/lam_sps_devel/notebooks/devel/fmadec/subaru/Cluster_GetImqual2csv.py:65: FutureWarning: Gen2 Butler has been deprecated (PfsButler). It will be removed sometime after v23.0 but no earlier than the end of 2021.\n",
      "  butler = dafPersist.Butler( os.path.join(repoRoot, \"rerun\", rerun)) #, calibRoot=os.path.join(repoRoot, \"CALIB\"))\n",
      "/home/fmadec/devel/lam_sps_devel/notebooks/devel/fmadec/subaru/Cluster_GetImqual2csv.py:65: FutureWarning: Gen2 Butler has been deprecated (PfsButler). It will be removed sometime after v23.0 but no earlier than the end of 2021.\n",
      "  butler = dafPersist.Butler( os.path.join(repoRoot, \"rerun\", rerun)) #, calibRoot=os.path.join(repoRoot, \"CALIB\"))\n",
      "/home/fmadec/devel/lam_sps_devel/notebooks/devel/fmadec/subaru/Cluster_GetImqual2csv.py:65: FutureWarning: Gen2 Butler has been deprecated (PfsButler). It will be removed sometime after v23.0 but no earlier than the end of 2021.\n",
      "  butler = dafPersist.Butler( os.path.join(repoRoot, \"rerun\", rerun)) #, calibRoot=os.path.join(repoRoot, \"CALIB\"))\n",
      "/home/fmadec/devel/lam_sps_devel/notebooks/devel/fmadec/subaru/Cluster_GetImqual2csv.py:65: FutureWarning: Gen2 Butler has been deprecated (PfsButler). It will be removed sometime after v23.0 but no earlier than the end of 2021.\n",
      "  butler = dafPersist.Butler( os.path.join(repoRoot, \"rerun\", rerun)) #, calibRoot=os.path.join(repoRoot, \"CALIB\"))\n",
      "/home/fmadec/devel/lam_sps_devel/notebooks/devel/fmadec/subaru/Cluster_GetImqual2csv.py:65: FutureWarning: Gen2 Butler has been deprecated (PfsButler). It will be removed sometime after v23.0 but no earlier than the end of 2021.\n",
      "  butler = dafPersist.Butler( os.path.join(repoRoot, \"rerun\", rerun)) #, calibRoot=os.path.join(repoRoot, \"CALIB\"))\n",
      "/home/fmadec/devel/lam_sps_devel/notebooks/devel/fmadec/subaru/Cluster_GetImqual2csv.py:65: FutureWarning: Gen2 Butler has been deprecated (PfsButler). It will be removed sometime after v23.0 but no earlier than the end of 2021.\n",
      "  butler = dafPersist.Butler( os.path.join(repoRoot, \"rerun\", rerun)) #, calibRoot=os.path.join(repoRoot, \"CALIB\"))\n",
      "/home/fmadec/devel/lam_sps_devel/notebooks/devel/fmadec/subaru/Cluster_GetImqual2csv.py:65: FutureWarning: Gen2 Butler has been deprecated (PfsButler). It will be removed sometime after v23.0 but no earlier than the end of 2021.\n",
      "  butler = dafPersist.Butler( os.path.join(repoRoot, \"rerun\", rerun)) #, calibRoot=os.path.join(repoRoot, \"CALIB\"))\n",
      "/home/fmadec/devel/lam_sps_devel/notebooks/devel/fmadec/subaru/Cluster_GetImqual2csv.py:65: FutureWarning: Gen2 Butler has been deprecated (PfsButler). It will be removed sometime after v23.0 but no earlier than the end of 2021.\n",
      "  butler = dafPersist.Butler( os.path.join(repoRoot, \"rerun\", rerun)) #, calibRoot=os.path.join(repoRoot, \"CALIB\"))\n",
      "/home/fmadec/devel/lam_sps_devel/notebooks/devel/fmadec/subaru/Cluster_GetImqual2csv.py:65: FutureWarning: Gen2 Butler has been deprecated (PfsButler). It will be removed sometime after v23.0 but no earlier than the end of 2021.\n",
      "  butler = dafPersist.Butler( os.path.join(repoRoot, \"rerun\", rerun)) #, calibRoot=os.path.join(repoRoot, \"CALIB\"))\n",
      "/home/fmadec/devel/lam_sps_devel/notebooks/devel/fmadec/subaru/Cluster_GetImqual2csv.py:65: FutureWarning: Gen2 Butler has been deprecated (PfsButler). It will be removed sometime after v23.0 but no earlier than the end of 2021.\n",
      "  butler = dafPersist.Butler( os.path.join(repoRoot, \"rerun\", rerun)) #, calibRoot=os.path.join(repoRoot, \"CALIB\"))\n",
      "/home/fmadec/devel/lam_sps_devel/notebooks/devel/fmadec/subaru/Cluster_GetImqual2csv.py:65: FutureWarning: Gen2 Butler has been deprecated (PfsButler). It will be removed sometime after v23.0 but no earlier than the end of 2021.\n",
      "  butler = dafPersist.Butler( os.path.join(repoRoot, \"rerun\", rerun)) #, calibRoot=os.path.join(repoRoot, \"CALIB\"))\n",
      "/home/fmadec/devel/lam_sps_devel/notebooks/devel/fmadec/subaru/Cluster_GetImqual2csv.py:65: FutureWarning: Gen2 Butler has been deprecated (PfsButler). It will be removed sometime after v23.0 but no earlier than the end of 2021.\n",
      "  butler = dafPersist.Butler( os.path.join(repoRoot, \"rerun\", rerun)) #, calibRoot=os.path.join(repoRoot, \"CALIB\"))\n",
      "/home/fmadec/devel/lam_sps_devel/notebooks/devel/fmadec/subaru/Cluster_GetImqual2csv.py:65: FutureWarning: Gen2 Butler has been deprecated (PfsButler). It will be removed sometime after v23.0 but no earlier than the end of 2021.\n",
      "  butler = dafPersist.Butler( os.path.join(repoRoot, \"rerun\", rerun)) #, calibRoot=os.path.join(repoRoot, \"CALIB\"))\n",
      "/home/fmadec/devel/lam_sps_devel/notebooks/devel/fmadec/subaru/Cluster_GetImqual2csv.py:65: FutureWarning: Gen2 Butler has been deprecated (PfsButler). It will be removed sometime after v23.0 but no earlier than the end of 2021.\n",
      "  butler = dafPersist.Butler( os.path.join(repoRoot, \"rerun\", rerun)) #, calibRoot=os.path.join(repoRoot, \"CALIB\"))\n",
      "/home/fmadec/devel/lam_sps_devel/notebooks/devel/fmadec/subaru/Cluster_GetImqual2csv.py:65: FutureWarning: Gen2 Butler has been deprecated (PfsButler). It will be removed sometime after v23.0 but no earlier than the end of 2021.\n",
      "  butler = dafPersist.Butler( os.path.join(repoRoot, \"rerun\", rerun)) #, calibRoot=os.path.join(repoRoot, \"CALIB\"))\n",
      "/home/fmadec/devel/lam_sps_devel/notebooks/devel/fmadec/subaru/Cluster_GetImqual2csv.py:65: FutureWarning: Gen2 Butler has been deprecated (PfsMapper). It will be removed sometime after v23.0 but no earlier than the end of 2021.\n",
      "  butler = dafPersist.Butler( os.path.join(repoRoot, \"rerun\", rerun)) #, calibRoot=os.path.join(repoRoot, \"CALIB\"))\n",
      "/home/fmadec/devel/lam_sps_devel/notebooks/devel/fmadec/subaru/Cluster_GetImqual2csv.py:65: FutureWarning: Gen2 Butler has been deprecated (PfsMapper). It will be removed sometime after v23.0 but no earlier than the end of 2021.\n",
      "  butler = dafPersist.Butler( os.path.join(repoRoot, \"rerun\", rerun)) #, calibRoot=os.path.join(repoRoot, \"CALIB\"))\n",
      "/home/fmadec/devel/lam_sps_devel/notebooks/devel/fmadec/subaru/Cluster_GetImqual2csv.py:65: FutureWarning: Gen2 Butler has been deprecated (PfsMapper). It will be removed sometime after v23.0 but no earlier than the end of 2021.\n",
      "  butler = dafPersist.Butler( os.path.join(repoRoot, \"rerun\", rerun)) #, calibRoot=os.path.join(repoRoot, \"CALIB\"))\n",
      "/home/fmadec/devel/lam_sps_devel/notebooks/devel/fmadec/subaru/Cluster_GetImqual2csv.py:65: FutureWarning: Gen2 Butler has been deprecated (PfsMapper). It will be removed sometime after v23.0 but no earlier than the end of 2021.\n",
      "  butler = dafPersist.Butler( os.path.join(repoRoot, \"rerun\", rerun)) #, calibRoot=os.path.join(repoRoot, \"CALIB\"))\n",
      "/home/fmadec/devel/lam_sps_devel/notebooks/devel/fmadec/subaru/Cluster_GetImqual2csv.py:65: FutureWarning: Gen2 Butler has been deprecated (PfsMapper). It will be removed sometime after v23.0 but no earlier than the end of 2021.\n",
      "  butler = dafPersist.Butler( os.path.join(repoRoot, \"rerun\", rerun)) #, calibRoot=os.path.join(repoRoot, \"CALIB\"))\n",
      "/home/fmadec/devel/lam_sps_devel/notebooks/devel/fmadec/subaru/Cluster_GetImqual2csv.py:65: FutureWarning: Gen2 Butler has been deprecated (PfsMapper). It will be removed sometime after v23.0 but no earlier than the end of 2021.\n",
      "  butler = dafPersist.Butler( os.path.join(repoRoot, \"rerun\", rerun)) #, calibRoot=os.path.join(repoRoot, \"CALIB\"))\n",
      "/home/fmadec/devel/lam_sps_devel/notebooks/devel/fmadec/subaru/Cluster_GetImqual2csv.py:65: FutureWarning: Gen2 Butler has been deprecated (PfsMapper). It will be removed sometime after v23.0 but no earlier than the end of 2021.\n",
      "  butler = dafPersist.Butler( os.path.join(repoRoot, \"rerun\", rerun)) #, calibRoot=os.path.join(repoRoot, \"CALIB\"))\n",
      "/home/fmadec/devel/lam_sps_devel/notebooks/devel/fmadec/subaru/Cluster_GetImqual2csv.py:65: FutureWarning: Gen2 Butler has been deprecated (PfsMapper). It will be removed sometime after v23.0 but no earlier than the end of 2021.\n",
      "  butler = dafPersist.Butler( os.path.join(repoRoot, \"rerun\", rerun)) #, calibRoot=os.path.join(repoRoot, \"CALIB\"))\n",
      "/home/fmadec/devel/lam_sps_devel/notebooks/devel/fmadec/subaru/Cluster_GetImqual2csv.py:65: FutureWarning: Gen2 Butler has been deprecated (PfsMapper). It will be removed sometime after v23.0 but no earlier than the end of 2021.\n",
      "  butler = dafPersist.Butler( os.path.join(repoRoot, \"rerun\", rerun)) #, calibRoot=os.path.join(repoRoot, \"CALIB\"))\n",
      "/home/fmadec/devel/lam_sps_devel/notebooks/devel/fmadec/subaru/Cluster_GetImqual2csv.py:65: FutureWarning: Gen2 Butler has been deprecated (PfsMapper). It will be removed sometime after v23.0 but no earlier than the end of 2021.\n",
      "  butler = dafPersist.Butler( os.path.join(repoRoot, \"rerun\", rerun)) #, calibRoot=os.path.join(repoRoot, \"CALIB\"))\n",
      "/home/fmadec/devel/lam_sps_devel/notebooks/devel/fmadec/subaru/Cluster_GetImqual2csv.py:65: FutureWarning: Gen2 Butler has been deprecated (PfsMapper). It will be removed sometime after v23.0 but no earlier than the end of 2021.\n",
      "  butler = dafPersist.Butler( os.path.join(repoRoot, \"rerun\", rerun)) #, calibRoot=os.path.join(repoRoot, \"CALIB\"))\n",
      "/home/fmadec/devel/lam_sps_devel/notebooks/devel/fmadec/subaru/Cluster_GetImqual2csv.py:65: FutureWarning: Gen2 Butler has been deprecated (PfsMapper). It will be removed sometime after v23.0 but no earlier than the end of 2021.\n",
      "  butler = dafPersist.Butler( os.path.join(repoRoot, \"rerun\", rerun)) #, calibRoot=os.path.join(repoRoot, \"CALIB\"))\n",
      "/home/fmadec/devel/lam_sps_devel/notebooks/devel/fmadec/subaru/Cluster_GetImqual2csv.py:65: FutureWarning: Gen2 Butler has been deprecated (PfsMapper). It will be removed sometime after v23.0 but no earlier than the end of 2021.\n",
      "  butler = dafPersist.Butler( os.path.join(repoRoot, \"rerun\", rerun)) #, calibRoot=os.path.join(repoRoot, \"CALIB\"))\n",
      "/home/fmadec/devel/lam_sps_devel/notebooks/devel/fmadec/subaru/Cluster_GetImqual2csv.py:65: FutureWarning: Gen2 Butler has been deprecated (PfsMapper). It will be removed sometime after v23.0 but no earlier than the end of 2021.\n",
      "  butler = dafPersist.Butler( os.path.join(repoRoot, \"rerun\", rerun)) #, calibRoot=os.path.join(repoRoot, \"CALIB\"))\n",
      "/home/fmadec/devel/lam_sps_devel/notebooks/devel/fmadec/subaru/Cluster_GetImqual2csv.py:65: FutureWarning: Gen2 Butler has been deprecated (PfsMapper). It will be removed sometime after v23.0 but no earlier than the end of 2021.\n",
      "  butler = dafPersist.Butler( os.path.join(repoRoot, \"rerun\", rerun)) #, calibRoot=os.path.join(repoRoot, \"CALIB\"))\n",
      "/home/fmadec/devel/lam_sps_devel/notebooks/devel/fmadec/subaru/Cluster_GetImqual2csv.py:65: FutureWarning: Gen2 Butler has been deprecated (PfsMapper). It will be removed sometime after v23.0 but no earlier than the end of 2021.\n",
      "  butler = dafPersist.Butler( os.path.join(repoRoot, \"rerun\", rerun)) #, calibRoot=os.path.join(repoRoot, \"CALIB\"))\n",
      "/home/fmadec/devel/lam_sps_devel/notebooks/devel/fmadec/subaru/Cluster_GetImqual2csv.py:65: FutureWarning: Gen2 Butler has been deprecated (PfsMapper). It will be removed sometime after v23.0 but no earlier than the end of 2021.\n",
      "  butler = dafPersist.Butler( os.path.join(repoRoot, \"rerun\", rerun)) #, calibRoot=os.path.join(repoRoot, \"CALIB\"))\n",
      "/home/fmadec/devel/lam_sps_devel/notebooks/devel/fmadec/subaru/Cluster_GetImqual2csv.py:65: FutureWarning: Gen2 Butler has been deprecated (PfsMapper). It will be removed sometime after v23.0 but no earlier than the end of 2021.\n",
      "  butler = dafPersist.Butler( os.path.join(repoRoot, \"rerun\", rerun)) #, calibRoot=os.path.join(repoRoot, \"CALIB\"))\n",
      "/home/fmadec/devel/lam_sps_devel/notebooks/devel/fmadec/subaru/Cluster_GetImqual2csv.py:65: FutureWarning: Gen2 Butler has been deprecated (PfsMapper). It will be removed sometime after v23.0 but no earlier than the end of 2021.\n",
      "  butler = dafPersist.Butler( os.path.join(repoRoot, \"rerun\", rerun)) #, calibRoot=os.path.join(repoRoot, \"CALIB\"))\n",
      "/home/fmadec/devel/lam_sps_devel/notebooks/devel/fmadec/subaru/Cluster_GetImqual2csv.py:65: FutureWarning: Gen2 Butler has been deprecated (PfsMapper). It will be removed sometime after v23.0 but no earlier than the end of 2021.\n",
      "  butler = dafPersist.Butler( os.path.join(repoRoot, \"rerun\", rerun)) #, calibRoot=os.path.join(repoRoot, \"CALIB\"))\n",
      "/home/fmadec/devel/lam_sps_devel/notebooks/devel/fmadec/subaru/Cluster_GetImqual2csv.py:65: FutureWarning: Gen2 Butler has been deprecated (PfsMapper). It will be removed sometime after v23.0 but no earlier than the end of 2021.\n",
      "  butler = dafPersist.Butler( os.path.join(repoRoot, \"rerun\", rerun)) #, calibRoot=os.path.join(repoRoot, \"CALIB\"))\n",
      "/home/fmadec/devel/lam_sps_devel/notebooks/devel/fmadec/subaru/Cluster_GetImqual2csv.py:65: FutureWarning: Gen2 Butler has been deprecated (PfsMapper). It will be removed sometime after v23.0 but no earlier than the end of 2021.\n",
      "  butler = dafPersist.Butler( os.path.join(repoRoot, \"rerun\", rerun)) #, calibRoot=os.path.join(repoRoot, \"CALIB\"))\n",
      "/home/fmadec/devel/lam_sps_devel/notebooks/devel/fmadec/subaru/Cluster_GetImqual2csv.py:65: FutureWarning: Gen2 Butler has been deprecated (PfsMapper). It will be removed sometime after v23.0 but no earlier than the end of 2021.\n",
      "  butler = dafPersist.Butler( os.path.join(repoRoot, \"rerun\", rerun)) #, calibRoot=os.path.join(repoRoot, \"CALIB\"))\n",
      "/home/fmadec/devel/lam_sps_devel/notebooks/devel/fmadec/subaru/Cluster_GetImqual2csv.py:65: FutureWarning: Gen2 Butler has been deprecated (PfsMapper). It will be removed sometime after v23.0 but no earlier than the end of 2021.\n",
      "  butler = dafPersist.Butler( os.path.join(repoRoot, \"rerun\", rerun)) #, calibRoot=os.path.join(repoRoot, \"CALIB\"))\n",
      "/home/fmadec/devel/lam_sps_devel/notebooks/devel/fmadec/subaru/Cluster_GetImqual2csv.py:65: FutureWarning: Gen2 Butler has been deprecated (PfsMapper). It will be removed sometime after v23.0 but no earlier than the end of 2021.\n",
      "  butler = dafPersist.Butler( os.path.join(repoRoot, \"rerun\", rerun)) #, calibRoot=os.path.join(repoRoot, \"CALIB\"))\n"
     ]
    },
    {
     "name": "stdout",
     "output_type": "stream",
     "text": [
      "lsst.CameraMapper INFO: Loading exposure registry from /data/drp/repo/registry.sqlite3\n",
      "lsst.CameraMapper INFO: Loading exposure registry from /data/drp/repo/registry.sqlite3\n",
      "lsst.CameraMapper INFO: Loading exposure registry from /data/drp/repo/registry.sqlite3\n",
      "lsst.CameraMapper INFO: Loading exposure registry from /data/drp/repo/registry.sqlite3\n",
      "lsst.CameraMapper INFO: Loading exposure registry from /data/drp/repo/registry.sqlite3\n",
      "lsst.CameraMapper INFO: Loading exposure registry from /data/drp/repo/registry.sqlite3\n",
      "lsst.CameraMapper INFO: Loading exposure registry from /data/drp/repo/registry.sqlite3\n",
      "lsst.CameraMapper INFO: Loading exposure registry from /data/drp/repo/registry.sqlite3\n",
      "lsst.CameraMapper INFO: Loading exposure registry from /data/drp/repo/registry.sqlite3\n",
      "lsst.CameraMapper INFO: Loading exposure registry from /data/drp/repo/registry.sqlite3\n",
      "lsst.CameraMapper INFO: Loading exposure registry from /data/drp/repo/registry.sqlite3\n",
      "lsst.CameraMapper INFO: Loading calib registry from /data/drp/repo/CALIB/calibRegistry.sqlite3\n",
      "lsst.CameraMapper INFO: Loading calib registry from /data/drp/repo/CALIB/calibRegistry.sqlite3\n",
      "lsst.CameraMapper INFO: Loading calib registry from /data/drp/repo/CALIB/calibRegistry.sqlite3\n",
      "lsst.CameraMapper INFO: Loading exposure registry from /data/drp/repo/registry.sqlite3\n",
      "lsst.CameraMapper INFO: Loading calib registry from /data/drp/repo/CALIB/calibRegistry.sqlite3\n",
      "lsst.CameraMapper INFO: Loading exposure registry from /data/drp/repo/registry.sqlite3\n",
      "lsst.CameraMapper INFO: Loading calib registry from /data/drp/repo/CALIB/calibRegistry.sqlite3\n",
      "lsst.CameraMapper INFO: Loading exposure registry from /data/drp/repo/registry.sqlite3\n",
      "lsst.CameraMapper INFO: Loading exposure registry from /data/drp/repo/registry.sqlite3\n",
      "lsst.CameraMapper INFO: Loading calib registry from /data/drp/repo/CALIB/calibRegistry.sqlite3\n",
      "lsst.CameraMapper INFO: Loading exposure registry from /data/drp/repo/registry.sqlite3\n",
      "lsst.CameraMapper INFO: Loading calib registry from /data/drp/repo/CALIB/calibRegistry.sqlite3\n",
      "lsst.CameraMapper INFO: Loading calib registry from /data/drp/repo/CALIB/calibRegistry.sqlite3\n",
      "lsst.CameraMapper INFO: Loading exposure registry from /data/drp/repo/registry.sqlite3\n",
      "lsst.CameraMapper INFO: Loading exposure registry from /data/drp/repo/registry.sqlite3\n",
      "lsst.CameraMapper INFO: Loading exposure registry from /data/drp/repo/registry.sqlite3\n",
      "lsst.CameraMapper INFO: Loading calib registry from /data/drp/repo/CALIB/calibRegistry.sqlite3\n",
      "lsst.CameraMapper INFO: Loading exposure registry from /data/drp/repo/registry.sqlite3\n",
      "lsst.CameraMapper INFO: Loading calib registry from /data/drp/repo/CALIB/calibRegistry.sqlite3\n",
      "lsst.CameraMapper INFO: Loading exposure registry from /data/drp/repo/registry.sqlite3\n",
      "lsst.CameraMapper INFO: Loading exposure registry from /data/drp/repo/registry.sqlite3\n",
      "lsst.CameraMapper INFO: Loading exposure registry from /data/drp/repo/registry.sqlite3\n",
      "lsst.CameraMapper INFO: Loading calib registry from /data/drp/repo/CALIB/calibRegistry.sqlite3\n",
      "lsst.CameraMapper INFO: Loading exposure registry from /data/drp/repo/registry.sqlite3\n",
      "lsst.CameraMapper INFO: Loading calib registry from /data/drp/repo/CALIB/calibRegistry.sqlite3\n",
      "lsst.CameraMapper INFO: Loading exposure registry from /data/drp/repo/registry.sqlite3\n",
      "lsst.CameraMapper INFO: Loading calib registry from /data/drp/repo/CALIB/calibRegistry.sqlite3\n",
      "lsst.CameraMapper INFO: Loading calib registry from /data/drp/repo/CALIB/calibRegistry.sqlite3\n",
      "lsst.CameraMapper INFO: Loading calib registry from /data/drp/repo/CALIB/calibRegistry.sqlite3\n",
      "lsst.CameraMapper INFO: Loading calib registry from /data/drp/repo/CALIB/calibRegistry.sqlite3\n",
      "lsst.CameraMapper INFO: Loading calib registry from /data/drp/repo/CALIB/calibRegistry.sqlite3\n",
      "lsst.CameraMapper INFO: Loading calib registry from /data/drp/repo/CALIB/calibRegistry.sqlite3\n",
      "lsst.CameraMapper INFO: Loading calib registry from /data/drp/repo/CALIB/calibRegistry.sqlite3\n",
      "lsst.CameraMapper INFO: Loading calib registry from /data/drp/repo/CALIB/calibRegistry.sqlite3\n",
      "lsst.CameraMapper INFO: Loading calib registry from /data/drp/repo/CALIB/calibRegistry.sqlite3\n",
      "lsst.CameraMapper INFO: Loading calib registry from /data/drp/repo/CALIB/calibRegistry.sqlite3\n",
      "lsst.CameraMapper INFO: Loading calib registry from /data/drp/repo/CALIB/calibRegistry.sqlite3\n",
      "lsst.CameraMapper INFO: Loading calib registry from /data/drp/repo/CALIB/calibRegistry.sqlite3\n",
      "lsst.CameraMapper INFO: Loading calib registry from /data/drp/repo/CALIB/calibRegistry.sqlite3\n",
      "lsst.CameraMapper INFO: Loading calib registry from /data/drp/repo/CALIB/calibRegistry.sqlite3\n",
      "lsst.CameraMapper INFO: Loading calib registry from /data/drp/repo/CALIB/calibRegistry.sqlite3\n",
      "lsst.CameraMapper INFO: Loading calib registry from /data/drp/repo/CALIB/calibRegistry.sqlite3\n",
      "lsst.CameraMapper INFO: Loading calib registry from /data/drp/repo/CALIB/calibRegistry.sqlite3\n",
      "lsst.CameraMapper INFO: Loading calib registry from /data/drp/repo/CALIB/calibRegistry.sqlite3\n",
      "lsst.CameraMapper INFO: Loading calib registry from /data/drp/repo/CALIB/calibRegistry.sqlite3\n",
      "lsst.CameraMapper INFO: Loading calib registry from /data/drp/repo/CALIB/calibRegistry.sqlite3\n",
      "lsst.CameraMapper INFO: Loading calib registry from /data/drp/repo/CALIB/calibRegistry.sqlite3\n",
      "lsst.CameraMapper INFO: Loading calib registry from /data/drp/repo/CALIB/calibRegistry.sqlite3\n",
      "lsst.CameraMapper INFO: Loading calib registry from /data/drp/repo/CALIB/calibRegistry.sqlite3\n",
      "lsst.CameraMapper INFO: Loading calib registry from /data/drp/repo/CALIB/calibRegistry.sqlite3\n",
      "lsst.CameraMapper INFO: Loading calib registry from /data/drp/repo/CALIB/calibRegistry.sqlite3\n",
      "lsst.CameraMapper INFO: Loading calib registry from /data/drp/repo/CALIB/calibRegistry.sqlite3\n",
      "lsst.CameraMapper INFO: Loading calib registry from /data/drp/repo/CALIB/calibRegistry.sqlite3\n",
      "lsst.CameraMapper INFO: Loading calib registry from /data/drp/repo/CALIB/calibRegistry.sqlite3\n",
      "lsst.CameraMapper INFO: Loading calib registry from /data/drp/repo/CALIB/calibRegistry.sqlite3\n",
      "lsst.CameraMapper INFO: Loading calib registry from /data/drp/repo/CALIB/calibRegistry.sqlite3\n",
      "lsst.CameraMapper INFO: Loading calib registry from /data/drp/repo/CALIB/calibRegistry.sqlite3\n",
      "lsst.CameraMapper INFO: Loading calib registry from /data/drp/repo/CALIB/calibRegistry.sqlite3\n",
      "lsst.CameraMapper INFO: Loading calib registry from /data/drp/repo/CALIB/calibRegistry.sqlite3\n",
      "lsst.CameraMapper INFO: Loading calib registry from /data/drp/repo/CALIB/calibRegistry.sqlite3\n",
      "lsst.CameraMapper INFO: Loading calib registry from /data/drp/repo/CALIB/calibRegistry.sqlite3\n",
      "lsst.CameraMapper INFO: Loading calib registry from /data/drp/repo/CALIB/calibRegistry.sqlite3\n",
      "lsst.CameraMapper INFO: Loading calib registry from /data/drp/repo/CALIB/calibRegistry.sqlite3\n",
      "lsst.CameraMapper INFO: Loading calib registry from /data/drp/repo/CALIB/calibRegistry.sqlite3\n",
      "Complete\n",
      "total time (s)= 75.35823845863342\n"
     ]
    }
   ],
   "source": [
    "if __name__ == '__main__':\n",
    "    pool_size = min(os.cpu_count(), len(visitIds), MAX_PROCESS)\n",
    "    p = Pool(processes = pool_size)\n",
    "    start = time.time()\n",
    "    async_result = p.map_async(task, visitIds)\n",
    "    p.close()\n",
    "    p.join()\n",
    "    print(\"Complete\")\n",
    "    end = time.time()\n",
    "    print('total time (s)= ' + str(end-start))"
   ]
  },
  {
   "cell_type": "code",
   "execution_count": null,
   "id": "c25c7707-c582-4be5-8a98-962d635ffe7e",
   "metadata": {},
   "outputs": [],
   "source": []
  }
 ],
 "metadata": {
  "kernelspec": {
   "display_name": "PFS",
   "language": "python",
   "name": "pfs_pipe2d"
  },
  "language_info": {
   "codemirror_mode": {
    "name": "ipython",
    "version": 3
   },
   "file_extension": ".py",
   "mimetype": "text/x-python",
   "name": "python",
   "nbconvert_exporter": "python",
   "pygments_lexer": "ipython3",
   "version": "3.8.13"
  }
 },
 "nbformat": 4,
 "nbformat_minor": 5
}
