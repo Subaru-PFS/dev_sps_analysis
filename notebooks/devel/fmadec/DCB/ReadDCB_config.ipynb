{
 "cells": [
  {
   "cell_type": "code",
   "execution_count": null,
   "metadata": {},
   "outputs": [],
   "source": [
    "import pandas as pd\n",
    "from pfs.lam.fileHandling import *\n",
    "import matplotlib.pyplot as plt\n",
    "from matplotlib import style\n",
    "style.use('ggplot')\n",
    "%matplotlib inline"
   ]
  },
  {
   "cell_type": "code",
   "execution_count": null,
   "metadata": {},
   "outputs": [],
   "source": [
    "# fiber number , dcd number, center on det, pos (mm) on slit"
   ]
  },
  {
   "cell_type": "code",
   "execution_count": null,
   "metadata": {},
   "outputs": [],
   "source": [
    "slitMapFile = \"/home/fmadec/devel/ait-notebook/optical/input/Slit-mapping-connectors2018.xlsx\""
   ]
  },
  {
   "cell_type": "code",
   "execution_count": null,
   "metadata": {},
   "outputs": [],
   "source": [
    "fiber = pd.read_excel(slitMapFile, header=0, sheet_name=\"SM1_DCB\")"
   ]
  },
  {
   "cell_type": "code",
   "execution_count": null,
   "metadata": {},
   "outputs": [],
   "source": [
    "fiber[\"RedCenter\"]=None"
   ]
  },
  {
   "cell_type": "code",
   "execution_count": null,
   "metadata": {},
   "outputs": [],
   "source": [
    "fiber[\"BlueCenter\"]=None"
   ]
  },
  {
   "cell_type": "code",
   "execution_count": null,
   "metadata": {},
   "outputs": [],
   "source": [
    "fiber[\"NirCenter\"]=None"
   ]
  },
  {
   "cell_type": "code",
   "execution_count": null,
   "metadata": {},
   "outputs": [],
   "source": [
    "fiber"
   ]
  },
  {
   "cell_type": "code",
   "execution_count": null,
   "metadata": {},
   "outputs": [],
   "source": [
    "fiber.plot.scatter(x=\"Fiber\", y=\"RelativeSlitHole\", c=fiber.color.values)"
   ]
  },
  {
   "cell_type": "code",
   "execution_count": null,
   "metadata": {},
   "outputs": [],
   "source": [
    "Sfiber = fiber[(fiber[\"DCB\"] == \"blue\") | (fiber[\"DCB\"] == \"green\") | (fiber[\"DCB\"] == \"yellow\") ]"
   ]
  },
  {
   "cell_type": "code",
   "execution_count": null,
   "metadata": {},
   "outputs": [],
   "source": [
    "Sfiber = fiber[(fiber[\"DCB\"] == \"blue\") | (fiber[\"DCB\"] == \"green\") | (fiber[\"DCB\"] == \"red3\") | (fiber[\"DCB\"] == \"red6\") ]"
   ]
  },
  {
   "cell_type": "code",
   "execution_count": null,
   "metadata": {},
   "outputs": [],
   "source": [
    "Sfiber.plot.scatter(x=\"Fiber\", y=\"RelativeSlitHole\", c=Sfiber.color.values)"
   ]
  },
  {
   "cell_type": "code",
   "execution_count": null,
   "metadata": {},
   "outputs": [],
   "source": [
    "Sfiber2 = fiber[(fiber[\"DCB\"] == \"red1\") | (fiber[\"DCB\"] == \"red8\") | (fiber[\"DCB\"] == \"red4\") | (fiber[\"DCB\"] == \"blue\") ]\n",
    "Sfiber2.plot.scatter(x=\"Fiber\", y=\"RelativeSlitHole\", c=Sfiber2.color.values, grid=True)"
   ]
  },
  {
   "cell_type": "code",
   "execution_count": null,
   "metadata": {},
   "outputs": [],
   "source": [
    "Sfiber2 = fiber[(fiber[\"DCB\"] == \"red1\") | (fiber[\"DCB\"] == \"red8\") | (fiber[\"DCB\"] == \"red4\") | (fiber[\"DCB\"] == \"green\") ]\n",
    "Sfiber2 = Sfiber2.sort_values(\"Fiber\", ascending=True)\n",
    "Sfiber2.plot.scatter(x=\"Fiber\", y=\"RelativeSlitHole\", c=Sfiber2.color.values, grid=True, )\n",
    "plt.xlim(655,-5)"
   ]
  },
  {
   "cell_type": "code",
   "execution_count": null,
   "metadata": {},
   "outputs": [],
   "source": [
    "Sfiber2.Fiber"
   ]
  },
  {
   "cell_type": "code",
   "execution_count": null,
   "metadata": {},
   "outputs": [],
   "source": [
    "Sfiber.plot.scatter(x=\"Fiber\", y=\"RelativeSlitHole\", c=Sfiber.color.as_matrix())"
   ]
  },
  {
   "cell_type": "code",
   "execution_count": null,
   "metadata": {},
   "outputs": [],
   "source": [
    "Sfiber = fiber[(fiber[\"DCB\"] == \"blue\") | (fiber[\"DCB\"] == \"green\") | (fiber[\"DCB\"] == \"red1\") | (fiber[\"DCB\"] == \"red8\") ].sort"
   ]
  },
  {
   "cell_type": "code",
   "execution_count": null,
   "metadata": {},
   "outputs": [],
   "source": [
    "Sfiber.so"
   ]
  },
  {
   "cell_type": "code",
   "execution_count": null,
   "metadata": {},
   "outputs": [],
   "source": [
    "Sfiber.plot.scatter(x=\"Fiber\", y=\"RelativeSlitHole\", c=Sfiber.color.as_matrix())"
   ]
  },
  {
   "cell_type": "code",
   "execution_count": null,
   "metadata": {},
   "outputs": [],
   "source": [
    "pfiber = fiber[(fiber[\"DCB\"] == \"orange\")]\n",
    "pfiber.plot.scatter(x=\"Fiber\", y=\"RelativeSlitHole\", c=pfiber.color.as_matrix())\n",
    "plt.xlim(0,651)\n",
    "plt.ylim(-325,325)"
   ]
  },
  {
   "cell_type": "code",
   "execution_count": null,
   "metadata": {},
   "outputs": [],
   "source": []
  },
  {
   "cell_type": "code",
   "execution_count": null,
   "metadata": {},
   "outputs": [],
   "source": []
  },
  {
   "cell_type": "code",
   "execution_count": null,
   "metadata": {},
   "outputs": [],
   "source": [
    "fiber[\"axis\"] = 0\n",
    "fiber[\"len\"] = 20"
   ]
  },
  {
   "cell_type": "code",
   "execution_count": null,
   "metadata": {
    "lines_to_next_cell": 2
   },
   "outputs": [],
   "source": [
    "plt.figure\n",
    "fiber.plot.scatter(x=\"axis\", y=\"RelativeSlitHole\", c=fiber.color.values)"
   ]
  },
  {
   "cell_type": "code",
   "execution_count": null,
   "metadata": {},
   "outputs": [],
   "source": [
    "fiber.head()"
   ]
  },
  {
   "cell_type": "code",
   "execution_count": null,
   "metadata": {
    "lines_to_next_cell": 2
   },
   "outputs": [],
   "source": [
    "Sfiber2.plot.scatter(x=\"axis\", y=\"RelativeSlitHole\", c=Sfiber2.color.values)"
   ]
  },
  {
   "cell_type": "code",
   "execution_count": null,
   "metadata": {},
   "outputs": [],
   "source": [
    "dfp = fiber.set_index(\"Fiber\")\n",
    "\n",
    "ax = dfp.plot.barh(x='RelativeSlitHole', y='len')"
   ]
  },
  {
   "cell_type": "code",
   "execution_count": null,
   "metadata": {
    "lines_to_next_cell": 0
   },
   "outputs": [],
   "source": [
    "speed = [0.1, 17.5, 40, 48, 52, 69, 88]\n",
    "\n",
    "lifespan = [2, 8, 70, 1.5, 25, 12, 28]\n",
    "\n",
    "index = ['snail', 'pig', 'elephant',\n",
    "\n",
    "         'rabbit', 'giraffe', 'coyote', 'horse']\n",
    "\n",
    "df = pd.DataFrame({'speed': speed,\n",
    "\n",
    "                   'lifespan': lifespan}, index=index)\n",
    "\n",
    "ax = df.plot.barh(x='lifespan')"
   ]
  },
  {
   "cell_type": "code",
   "execution_count": null,
   "metadata": {
    "lines_to_next_cell": 2
   },
   "outputs": [],
   "source": []
  }
 ],
 "metadata": {
  "jupytext": {
   "text_representation": {
    "extension": ".py",
    "format_name": "light",
    "format_version": "1.5",
    "jupytext_version": "1.3.4"
   }
  },
  "kernelspec": {
   "display_name": "Python 3",
   "language": "python",
   "name": "python3"
  },
  "language_info": {
   "codemirror_mode": {
    "name": "ipython",
    "version": 3
   },
   "file_extension": ".py",
   "mimetype": "text/x-python",
   "name": "python",
   "nbconvert_exporter": "python",
   "pygments_lexer": "ipython3",
   "version": "3.7.2"
  }
 },
 "nbformat": 4,
 "nbformat_minor": 4
}
