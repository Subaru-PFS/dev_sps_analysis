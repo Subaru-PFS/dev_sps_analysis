{
 "cells": [
  {
   "cell_type": "code",
   "execution_count": 1,
   "metadata": {},
   "outputs": [
    {
     "data": {
      "text/plain": [
       "'3.0.1'"
      ]
     },
     "execution_count": 1,
     "metadata": {},
     "output_type": "execute_result"
    }
   ],
   "source": [
    "from ginga import __version__\n",
    "__version__"
   ]
  },
  {
   "cell_type": "code",
   "execution_count": 2,
   "metadata": {},
   "outputs": [],
   "source": [
    "# import ginga remote control module\n",
    "from ginga.util import grc"
   ]
  },
  {
   "cell_type": "code",
   "execution_count": 23,
   "metadata": {},
   "outputs": [],
   "source": [
    "import pandas as pd\n",
    "import re\n",
    "import numpy as np"
   ]
  },
  {
   "cell_type": "code",
   "execution_count": 4,
   "metadata": {},
   "outputs": [],
   "source": [
    "import lsst.daf.persistence as dafPersist\n",
    "from pfs.lam.opdb import *\n"
   ]
  },
  {
   "cell_type": "code",
   "execution_count": 5,
   "metadata": {},
   "outputs": [],
   "source": [
    "# host and port parameters can be set in the graphical ui of the plugin.\n",
    "# These are the defaults\n",
    "viewer = grc.RemoteClient('localhost', 9000)\n",
    "#viewer = grc.RemoteClient('ws1.pfs', 9001)"
   ]
  },
  {
   "cell_type": "code",
   "execution_count": 6,
   "metadata": {},
   "outputs": [
    {
     "data": {
      "text/plain": [
       "'localhost'"
      ]
     },
     "execution_count": 6,
     "metadata": {},
     "output_type": "execute_result"
    }
   ],
   "source": [
    "viewer.host"
   ]
  },
  {
   "cell_type": "code",
   "execution_count": 7,
   "metadata": {},
   "outputs": [],
   "source": [
    "\n",
    "\n",
    "# This gives you a handle to the reference viewer shell.\n",
    "# It is similar to what you can do from the command line with:\n",
    "#    $ grc ginga ...\n",
    "#\n",
    "shell = viewer.shell()\n",
    "\n",
    "# the RC plugin in the viewer\n",
    "shell.add_channel('Peak')\n",
    "# This gives you a handle to a reference viewer channel.\n",
    "# It is similar to what you can do from the command line with:\n",
    "#    $ grc channel ...\n",
    "#\n",
    "ch = viewer.channel('Peak')"
   ]
  },
  {
   "cell_type": "markdown",
   "metadata": {},
   "source": [
    "# Define data to be loaded"
   ]
  },
  {
   "cell_type": "code",
   "execution_count": 10,
   "metadata": {},
   "outputs": [],
   "source": [
    "experimentId = 190 \n",
    "rerun = \"ws_slit\"\n",
    "#rerun = \"dcb2\"\n",
    "\n",
    "repo = \"sps\"\n",
    "cam = \"r3\"\n",
    "arm = cam[0]\n",
    "drpPath = \"/data/drp\"\n",
    "basePath = '/drp/analysis/sm2/'\n",
    "\n",
    "peaklist = \"Imqual_LAM_peaklist_DEBUG_R3_Jan2020_WS_slit_2.csv\""
   ]
  },
  {
   "cell_type": "code",
   "execution_count": 11,
   "metadata": {},
   "outputs": [],
   "source": [
    "visitStart, visitEnd = getVisitRange(experimentId)"
   ]
  },
  {
   "cell_type": "code",
   "execution_count": 12,
   "metadata": {},
   "outputs": [],
   "source": [
    "visit = int(visitStart)"
   ]
  },
  {
   "cell_type": "code",
   "execution_count": 13,
   "metadata": {},
   "outputs": [],
   "source": [
    "# define defaut parameters\n",
    "roi_size = 24\n",
    "com = True  # Center Of Mass\n",
    "doBck = True\n",
    "head = 0\n",
    "tail = 0\n",
    "criteria = 'EE5'\n",
    "verbose = True\n",
    "doPrint = False\n",
    "\n",
    "\n"
   ]
  },
  {
   "cell_type": "code",
   "execution_count": 15,
   "metadata": {},
   "outputs": [
    {
     "name": "stdout",
     "output_type": "stream",
     "text": [
      "Start visit 24258 of r3 with Imqual_LAM_peaklist_DEBUG_R3_Jan2020_WS_slit.csv\n",
      "/data/drp/sps/rerun/ws_slit/detrend/\n"
     ]
    }
   ],
   "source": [
    "\n",
    "butler = dafPersist.Butler(f\"{drpPath}/{repo}/rerun/{rerun}/detrend/\")\n",
    "rbutler = dafPersist.Butler(f\"{drpPath}/{repo}/\")\n",
    "rbutler.getKeys('raw')\n",
    "lamps = rbutler.queryMetadata('raw', ['lamps'], visit=visit, arm=arm) \n",
    "calExp = butler.get(\"calexp\", visit=visit, arm=cam[0])\n",
    "\n",
    "print(f'Start visit {visit} of {cam} with {peaklist}')\n",
    "print(f\"{drpPath}/{repo}/rerun/{rerun}/detrend/\")\n"
   ]
  },
  {
   "cell_type": "code",
   "execution_count": 16,
   "metadata": {},
   "outputs": [
    {
     "data": {
      "text/plain": [
       "0"
      ]
     },
     "execution_count": 16,
     "metadata": {},
     "output_type": "execute_result"
    }
   ],
   "source": [
    "ch.load_np(\"image\", calExp.image.array, 'fits', {})"
   ]
  },
  {
   "cell_type": "code",
   "execution_count": null,
   "metadata": {},
   "outputs": [],
   "source": [
    "print(lamps)"
   ]
  },
  {
   "cell_type": "code",
   "execution_count": 19,
   "metadata": {},
   "outputs": [],
   "source": [
    "canvas = viewer.canvas('Peak')\n",
    "#canvas = viewer.canvas('B1_DETREND')\n"
   ]
  },
  {
   "cell_type": "code",
   "execution_count": null,
   "metadata": {},
   "outputs": [],
   "source": [
    "canvas.clear()"
   ]
  },
  {
   "cell_type": "code",
   "execution_count": 37,
   "metadata": {},
   "outputs": [],
   "source": [
    "peaks = pd.read_csv(peaklist)"
   ]
  },
  {
   "cell_type": "code",
   "execution_count": 21,
   "metadata": {},
   "outputs": [],
   "source": [
    "for (X,Y), group in peaks.groupby([\"X\",\"Y\"]):\n",
    "    canvas.add('circle',float(X),float(Y), radius=20, color='red')\n",
    "        "
   ]
  },
  {
   "cell_type": "code",
   "execution_count": null,
   "metadata": {},
   "outputs": [],
   "source": []
  },
  {
   "cell_type": "code",
   "execution_count": null,
   "metadata": {},
   "outputs": [],
   "source": []
  },
  {
   "cell_type": "code",
   "execution_count": null,
   "metadata": {},
   "outputs": [],
   "source": []
  },
  {
   "cell_type": "code",
   "execution_count": null,
   "metadata": {},
   "outputs": [],
   "source": []
  },
  {
   "cell_type": "code",
   "execution_count": null,
   "metadata": {},
   "outputs": [],
   "source": []
  },
  {
   "cell_type": "code",
   "execution_count": null,
   "metadata": {},
   "outputs": [],
   "source": []
  },
  {
   "cell_type": "code",
   "execution_count": null,
   "metadata": {},
   "outputs": [],
   "source": []
  },
  {
   "cell_type": "code",
   "execution_count": null,
   "metadata": {},
   "outputs": [],
   "source": []
  },
  {
   "cell_type": "code",
   "execution_count": null,
   "metadata": {},
   "outputs": [],
   "source": []
  },
  {
   "cell_type": "code",
   "execution_count": null,
   "metadata": {},
   "outputs": [],
   "source": []
  },
  {
   "cell_type": "raw",
   "metadata": {},
   "source": [
    "for visit in np.arange(visitStart,visitEnd+1):\n",
    "    calExp = butler.get(\"calexp\", visit=int(visit), arm=arm)\n",
    "    ch.load_np(\"image\", calExp.image.array, 'fits', {})\n",
    "    "
   ]
  },
  {
   "cell_type": "code",
   "execution_count": 39,
   "metadata": {},
   "outputs": [
    {
     "name": "stderr",
     "output_type": "stream",
     "text": [
      "/software/drp/python/miniconda3-4.5.12/envs/lsst-scipipe-1172c30/lib/python3.7/site-packages/ipykernel_launcher.py:1: SettingWithCopyWarning: \n",
      "A value is trying to be set on a copy of a slice from a DataFrame.\n",
      "Try using .loc[row_indexer,col_indexer] = value instead\n",
      "\n",
      "See the caveats in the documentation: https://pandas.pydata.org/pandas-docs/stable/user_guide/indexing.html#returning-a-view-versus-a-copy\n",
      "  \"\"\"Entry point for launching an IPython kernel.\n"
     ]
    }
   ],
   "source": [
    "peaks[peaks.X>2000][\"Y\"] = peaks[peaks.X>2000][\"Y\"] - 10"
   ]
  },
  {
   "cell_type": "code",
   "execution_count": 46,
   "metadata": {},
   "outputs": [],
   "source": [
    "peaks.loc[peaks.X>2000,\"Y\"] = peaks.loc[peaks.X>2000,\"Y\"]  - 10"
   ]
  },
  {
   "cell_type": "code",
   "execution_count": 47,
   "metadata": {},
   "outputs": [
    {
     "data": {
      "text/plain": [
       "0      887.814996\n",
       "1     1241.434294\n",
       "2     2021.722183\n",
       "3     3404.124088\n",
       "4     4053.937083\n",
       "5      867.094274\n",
       "6     1219.346396\n",
       "7     1997.131356\n",
       "8     3374.384169\n",
       "9     4020.156844\n",
       "10     857.414923\n",
       "11    1209.116620\n",
       "12    1985.946328\n",
       "13    3361.227536\n",
       "14    4005.386944\n",
       "Name: Y, dtype: float64"
      ]
     },
     "execution_count": 47,
     "metadata": {},
     "output_type": "execute_result"
    }
   ],
   "source": [
    "peaks.loc[peaks.X>2000,\"Y\"] "
   ]
  },
  {
   "cell_type": "code",
   "execution_count": 49,
   "metadata": {},
   "outputs": [],
   "source": [
    "peaks.to_csv(\"Imqual_LAM_peaklist_DEBUG_R3_Jan2020_WS_slit_2.csv\")"
   ]
  },
  {
   "cell_type": "code",
   "execution_count": null,
   "metadata": {},
   "outputs": [],
   "source": [
    "dbutler = dafPersist.Butler('/drp/cluster/repo/')"
   ]
  },
  {
   "cell_type": "code",
   "execution_count": null,
   "metadata": {},
   "outputs": [],
   "source": [
    "dmap = dbutler.get(\"detectorMap\", visit0=3128, spectrograph=1, arm='r', immediate=True)"
   ]
  },
  {
   "cell_type": "code",
   "execution_count": null,
   "metadata": {},
   "outputs": [],
   "source": [
    "for fiber in dmap.getFiberId():\n",
    "    print(fiber, dmap.getXCenter(fiber, 2000))"
   ]
  },
  {
   "cell_type": "code",
   "execution_count": null,
   "metadata": {},
   "outputs": [],
   "source": [
    "waves = selected_peaks.wavelength.unique()\n",
    "print(waves)"
   ]
  },
  {
   "cell_type": "code",
   "execution_count": null,
   "metadata": {},
   "outputs": [],
   "source": [
    "dmap.findPoint()"
   ]
  },
  {
   "cell_type": "code",
   "execution_count": null,
   "metadata": {},
   "outputs": [],
   "source": [
    "fiber = 554\n",
    "wave = waves[1]"
   ]
  },
  {
   "cell_type": "code",
   "execution_count": null,
   "metadata": {},
   "outputs": [],
   "source": [
    "X,Y = dmap.findPoint(fiber, wave)journalctl -f | grep --line-buffered kde"
   ]
  },
  {
   "cell_type": "code",
   "execution_count": null,
   "metadata": {},
   "outputs": [],
   "source": [
    "canvas.add('circle',float(X),float(Y), radius=30, color='blue')\n"
   ]
  },
  {
   "cell_type": "code",
   "execution_count": null,
   "metadata": {},
   "outputs": [],
   "source": [
    "fibers = [2,102,166,489,554,650]\n"
   ]
  },
  {
   "cell_type": "code",
   "execution_count": null,
   "metadata": {},
   "outputs": [],
   "source": [
    "for wave in waves:\n",
    "    for fiber in fibers:\n",
    "        X,Y = dmap.findPoint(fiber, wave)\n",
    "        canvas.add('circle',float(X),float(Y)+30, radius=30, color='lightblue')"
   ]
  },
  {
   "cell_type": "code",
   "execution_count": null,
   "metadata": {},
   "outputs": [],
   "source": [
    "new_peak_list = pd.DataFrame(columns = ['fiber','wavelength','element','exptime','arm','X','Y','peak'])"
   ]
  },
  {
   "cell_type": "code",
   "execution_count": null,
   "metadata": {},
   "outputs": [],
   "source": [
    "i = 0\n",
    "for fiber in fibers:\n",
    "    p = 1\n",
    "    for wave in waves:\n",
    "        X,Y = dmap.findPoint(fiber, wave)\n",
    "        Y = Y + 30\n",
    "        new_peak_list.loc[i] = [fiber, wave, \"Ar\",0, \"r\",X,Y, p]\n",
    "        i += 1\n",
    "        p += 1\n",
    "    "
   ]
  },
  {
   "cell_type": "code",
   "execution_count": null,
   "metadata": {},
   "outputs": [],
   "source": [
    "new_peak_list"
   ]
  },
  {
   "cell_type": "code",
   "execution_count": null,
   "metadata": {},
   "outputs": [],
   "source": [
    "new_peak_list.to_csv(\"Imqual_LAM_peaklist_DEBUG_R3_Jan2020_WS_slit.csv\")"
   ]
  },
  {
   "cell_type": "raw",
   "metadata": {},
   "source": [
    "# example of loading an HDU from an astropy HDUlist\n",
    "# parameters are (image_name, channel_name, hdulist, hdulist_key)\n",
    "#\n",
    "from astropy.io import fits\n",
    "hdulist = fits.open(filepath, \"readonly\")\n",
    "ch.load_hdu(\"r\", hdulist, 1)\n"
   ]
  },
  {
   "cell_type": "code",
   "execution_count": null,
   "metadata": {},
   "outputs": [],
   "source": [
    "canvas = viewer.canvas('Peak')\n",
    "#canvas = viewer.canvas('B1_DETREND')\n"
   ]
  },
  {
   "cell_type": "code",
   "execution_count": null,
   "metadata": {},
   "outputs": [],
   "source": [
    "canvas.clear()"
   ]
  },
  {
   "cell_type": "code",
   "execution_count": null,
   "metadata": {},
   "outputs": [],
   "source": [
    "peaks = pd.read_csv(peaklist)"
   ]
  },
  {
   "cell_type": "code",
   "execution_count": null,
   "metadata": {},
   "outputs": [],
   "source": [
    "selected_peaks = peaks[peaks.arm == arm]\n",
    "selected_peaks = selected_peaks[(selected_peaks.element.str.contains('|'.join(re.findall('[A-Z][^A-Z]*', \"\".join(lamps)))))]\n"
   ]
  },
  {
   "cell_type": "code",
   "execution_count": null,
   "metadata": {},
   "outputs": [],
   "source": [
    "selected_peaks"
   ]
  },
  {
   "cell_type": "code",
   "execution_count": null,
   "metadata": {},
   "outputs": [],
   "source": [
    "for (X,Y), group in selected_peaks.groupby([\"X\",\"Y\"]):\n",
    "    canvas.add('circle',float(X),float(Y), radius=10, color='red')\n",
    "        "
   ]
  },
  {
   "cell_type": "code",
   "execution_count": null,
   "metadata": {},
   "outputs": [],
   "source": [
    "for (X,Y), group in peaks.groupby([\"X\",\"Y\"]):\n",
    "    canvas.add('circle',float(X),float(Y), radius=20, color='red')\n",
    "        "
   ]
  },
  {
   "cell_type": "code",
   "execution_count": null,
   "metadata": {},
   "outputs": [],
   "source": []
  },
  {
   "cell_type": "raw",
   "metadata": {},
   "source": [
    "#canvas = viewer.canvas('Peak')\n",
    "canvas = viewer.canvas('R1_DETREND')"
   ]
  },
  {
   "cell_type": "code",
   "execution_count": null,
   "metadata": {},
   "outputs": [],
   "source": [
    "canvas.clear()"
   ]
  },
  {
   "cell_type": "raw",
   "metadata": {},
   "source": [
    "#peaklist = \"/home/pfs/dev/ait-notebook/optical/input/peaks_SM1_B1_Mar2019.csv\"\n",
    "#peaklist = \"/home/pfs/dev/ait-notebook/optical/input/SM1_Blue_A_hgar_Exp759.csv\"\n",
    "#peaklist = \"/home/pfs/dev/ait-notebook/optical/input/SM1_Red_M_hgar_Exp606.csv\"\n",
    "peaklist = \"/home/pfs/dev/ait-notebook/optical/input/SM1_r1_M_hgar_Exp892.csv\"\n",
    "\n",
    "\n",
    "peak = pd.read_csv(peaklist)"
   ]
  },
  {
   "cell_type": "raw",
   "metadata": {},
   "source": [
    "for (X,Y), group in peak.groupby([\"X\",\"Y\"]):\n",
    "    canvas.add('circle',float(X),float(Y), radius=30, color='red')\n",
    "        "
   ]
  },
  {
   "cell_type": "code",
   "execution_count": null,
   "metadata": {},
   "outputs": [],
   "source": [
    "delta_px = -48\n",
    "delta_py = +10"
   ]
  },
  {
   "cell_type": "code",
   "execution_count": null,
   "metadata": {},
   "outputs": [],
   "source": [
    "#Neon\n",
    "delta_px = +45\n",
    "delta_py = +28"
   ]
  },
  {
   "cell_type": "code",
   "execution_count": null,
   "metadata": {},
   "outputs": [],
   "source": [
    "#R2 HgAr\n",
    "delta_px = +41\n",
    "delta_py = +17"
   ]
  },
  {
   "cell_type": "code",
   "execution_count": null,
   "metadata": {},
   "outputs": [],
   "source": [
    "new_peaks = selected_peaks\n",
    "new_peaks[\"X\"] = new_peaks.apply(lambda x : x[\"X\"] + delta_px, axis=1)\n",
    "new_peaks[\"Y\"] = new_peaks.apply(lambda x : x[\"Y\"] + delta_py, axis=1)"
   ]
  },
  {
   "cell_type": "code",
   "execution_count": null,
   "metadata": {},
   "outputs": [],
   "source": [
    "for (X,Y), group in new_peaks.groupby([\"X\",\"Y\"]):\n",
    "    canvas.add('circle',float(X),float(Y), radius=30, color='orange')\n",
    "        "
   ]
  },
  {
   "cell_type": "code",
   "execution_count": null,
   "metadata": {},
   "outputs": [],
   "source": [
    "fibers = new_peaks.fiber.unique()\n",
    "print(fibers)"
   ]
  },
  {
   "cell_type": "code",
   "execution_count": null,
   "metadata": {},
   "outputs": [],
   "source": [
    "del_fiber = fibers[8]\n",
    "print(del_fiber)"
   ]
  },
  {
   "cell_type": "code",
   "execution_count": null,
   "metadata": {},
   "outputs": [],
   "source": [
    "new_peaks = new_peaks[new_peaks.fiber != del_fiber]"
   ]
  },
  {
   "cell_type": "code",
   "execution_count": null,
   "metadata": {},
   "outputs": [],
   "source": [
    "new_peaks.fiber.unique()"
   ]
  },
  {
   "cell_type": "code",
   "execution_count": null,
   "metadata": {},
   "outputs": [],
   "source": [
    "for (X,Y), group in new_peaks.groupby([\"X\",\"Y\"]):\n",
    "    canvas.add('circle',float(X),float(Y), radius=30, color='blue')\n",
    "        "
   ]
  },
  {
   "cell_type": "code",
   "execution_count": null,
   "metadata": {},
   "outputs": [],
   "source": [
    "waves = new_peaks.wavelength.unique()\n",
    "print(waves)"
   ]
  },
  {
   "cell_type": "code",
   "execution_count": null,
   "metadata": {},
   "outputs": [],
   "source": [
    "del_wave = waves[3]\n",
    "print(del_wave)"
   ]
  },
  {
   "cell_type": "code",
   "execution_count": null,
   "metadata": {},
   "outputs": [],
   "source": [
    "new_peaks = new_peaks[new_peaks.wavelength != del_wave]"
   ]
  },
  {
   "cell_type": "code",
   "execution_count": null,
   "metadata": {},
   "outputs": [],
   "source": [
    "keep_wave = waves[-1]\n",
    "print(keep_wave)"
   ]
  },
  {
   "cell_type": "code",
   "execution_count": null,
   "metadata": {},
   "outputs": [],
   "source": [
    "new_peaks = new_peaks[new_peaks.wavelength == keep_wave]"
   ]
  },
  {
   "cell_type": "code",
   "execution_count": null,
   "metadata": {},
   "outputs": [],
   "source": [
    "canvas.clear()"
   ]
  },
  {
   "cell_type": "code",
   "execution_count": null,
   "metadata": {},
   "outputs": [],
   "source": [
    "for (X,Y), group in new_peaks.groupby([\"X\",\"Y\"]):\n",
    "    canvas.add('circle',float(X),float(Y), radius=30, color='lightblue')\n",
    "        "
   ]
  },
  {
   "cell_type": "code",
   "execution_count": null,
   "metadata": {},
   "outputs": [],
   "source": [
    "new_peaks.loc[(new_peaks.fiber == 339), 'fiber'] = 315"
   ]
  },
  {
   "cell_type": "code",
   "execution_count": null,
   "metadata": {},
   "outputs": [],
   "source": []
  },
  {
   "cell_type": "code",
   "execution_count": null,
   "metadata": {},
   "outputs": [],
   "source": [
    "new_peaks.loc[(new_peaks.fiber == 315), 'X'] = 2178"
   ]
  },
  {
   "cell_type": "code",
   "execution_count": null,
   "metadata": {},
   "outputs": [],
   "source": [
    "new_peaks.to_csv(\"Imqual_LAM_peaklist_DEBUG_HgAr_R2_Dec2020.csv\")"
   ]
  },
  {
   "cell_type": "code",
   "execution_count": null,
   "metadata": {},
   "outputs": [],
   "source": []
  },
  {
   "cell_type": "code",
   "execution_count": null,
   "metadata": {},
   "outputs": [],
   "source": []
  },
  {
   "cell_type": "code",
   "execution_count": null,
   "metadata": {},
   "outputs": [],
   "source": []
  },
  {
   "cell_type": "code",
   "execution_count": null,
   "metadata": {},
   "outputs": [],
   "source": [
    "new_peaks = peaks\n",
    "new_peaks[\"X\"] = new_peaks.apply(lambda x : x[\"X\"] + delta_px, axis=1)\n",
    "new_peaks[\"Y\"] = new_peaks.apply(lambda x : x[\"Y\"] + delta_py, axis=1)"
   ]
  },
  {
   "cell_type": "code",
   "execution_count": null,
   "metadata": {},
   "outputs": [],
   "source": [
    "new_peaks.to_csv(\"Imqual_LAM_peaklist_DEBUG_B2_Dec2020.csv\")"
   ]
  },
  {
   "cell_type": "code",
   "execution_count": null,
   "metadata": {},
   "outputs": [],
   "source": []
  },
  {
   "cell_type": "code",
   "execution_count": null,
   "metadata": {},
   "outputs": [],
   "source": [
    "hgar = pd.read_csv(\"Imqual_LAM_peaklist_DEBUG_HgAr_3peaks_B2_Dec2020.csv\")\n",
    "neon = pd.read_csv(\"Imqual_LAM_peaklist_DEBUG_Neon_3peaks_B2_Dec2020.csv\")"
   ]
  },
  {
   "cell_type": "code",
   "execution_count": null,
   "metadata": {},
   "outputs": [],
   "source": [
    "peaklist_debugb2 = pd.concat([hgar,neon])"
   ]
  },
  {
   "cell_type": "code",
   "execution_count": null,
   "metadata": {},
   "outputs": [],
   "source": [
    "peaklist_debugb2"
   ]
  },
  {
   "cell_type": "code",
   "execution_count": null,
   "metadata": {},
   "outputs": [],
   "source": [
    "peaklist_debugb2.drop(columns=\"Unnamed: 0\", axis=1, inplace=True)"
   ]
  },
  {
   "cell_type": "code",
   "execution_count": null,
   "metadata": {},
   "outputs": [],
   "source": [
    "peaklist_debugb2.to_csv(\"Imqual_LAM_peaklist_DEBUG_B2_9peaks_Dec2020.csv\")"
   ]
  },
  {
   "cell_type": "code",
   "execution_count": null,
   "metadata": {},
   "outputs": [],
   "source": []
  },
  {
   "cell_type": "code",
   "execution_count": null,
   "metadata": {},
   "outputs": [],
   "source": [
    "shell.add_channel('flat')"
   ]
  },
  {
   "cell_type": "code",
   "execution_count": null,
   "metadata": {},
   "outputs": [],
   "source": [
    "experimentId = 705\n",
    "filelist = constructFilelist(experimentId, rerun='ginga')\n",
    "filepath = filelist.filepath[0]"
   ]
  },
  {
   "cell_type": "code",
   "execution_count": null,
   "metadata": {},
   "outputs": [],
   "source": [
    "from astropy.io import fits\n",
    "hdulist = fits.open(filepath, \"readonly\")\n",
    "ch.load_hdu(\"r\", hdulist, 1)"
   ]
  },
  {
   "cell_type": "code",
   "execution_count": null,
   "metadata": {},
   "outputs": [],
   "source": [
    "peaklist = \"/home/pfs/dev/ait-notebook/optical/input/hgar_peaks_exptime_dec2017.csv\"\n"
   ]
  },
  {
   "cell_type": "code",
   "execution_count": null,
   "metadata": {},
   "outputs": [],
   "source": [
    "peak = pd.read_csv(peaklist)"
   ]
  },
  {
   "cell_type": "code",
   "execution_count": null,
   "metadata": {},
   "outputs": [],
   "source": [
    "canvas = ch.add_canvas()\n"
   ]
  },
  {
   "cell_type": "code",
   "execution_count": null,
   "metadata": {},
   "outputs": [],
   "source": [
    "# Draw circles around all objects\n",
    "Circle = canvas.get_draw_class('circle')\n",
    "for (X,Y), group in peak.groupby([\"X\",\"Y\"]):\n",
    "#    x, y = x1+obj.objx, y1+obj.objy\n",
    "    x = X\n",
    "    y = Y\n",
    "\n",
    "    canvas.add(Circle(x, y, radius=10, color='yellow'))"
   ]
  }
 ],
 "metadata": {
  "kernelspec": {
   "display_name": "Python 3",
   "language": "python",
   "name": "python3"
  },
  "language_info": {
   "codemirror_mode": {
    "name": "ipython",
    "version": 3
   },
   "file_extension": ".py",
   "mimetype": "text/x-python",
   "name": "python",
   "nbconvert_exporter": "python",
   "pygments_lexer": "ipython3",
   "version": "3.7.2"
  }
 },
 "nbformat": 4,
 "nbformat_minor": 4
}
