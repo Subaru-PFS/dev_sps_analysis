{
 "cells": [
  {
   "cell_type": "code",
   "execution_count": null,
   "metadata": {
    "lines_to_next_cell": 2
   },
   "outputs": [],
   "source": [
    "import numpy as np\n",
    "import sep\n",
    "import glob\n",
    "import pandas as pd\n",
    "from astropy.table import Table"
   ]
  },
  {
   "cell_type": "code",
   "execution_count": null,
   "metadata": {},
   "outputs": [],
   "source": [
    "from pfs.lam.fileHandling import *\n",
    "from pfs.lam.instrModelAlign import peakdet\n",
    "from pfs.lam.linePeaksList import *"
   ]
  },
  {
   "cell_type": "code",
   "execution_count": null,
   "metadata": {},
   "outputs": [],
   "source": [
    "import pfs.opdb as opdb\n",
    "import lsst.daf.persistence as dafPersist"
   ]
  },
  {
   "cell_type": "code",
   "execution_count": null,
   "metadata": {},
   "outputs": [],
   "source": [
    "# additional setup for reading the test image and displaying plots\n",
    "#import fitsio\n",
    "#%matplotlib widget\n",
    "\n",
    "from astropy.io import fits\n",
    "import matplotlib.pyplot as plt\n",
    "from matplotlib import rcParams\n",
    "import matplotlib.cm as cm\n",
    "\n",
    "\n",
    "\n",
    "rcParams['figure.figsize'] = [10., 8.]\n",
    "rcParams[\"scatter.marker\"] = '+'"
   ]
  },
  {
   "cell_type": "code",
   "execution_count": null,
   "metadata": {},
   "outputs": [],
   "source": [
    "plt.style.use('dark_background')"
   ]
  },
  {
   "cell_type": "markdown",
   "metadata": {},
   "source": [
    "# INPUTS"
   ]
  },
  {
   "cell_type": "code",
   "execution_count": null,
   "metadata": {},
   "outputs": [],
   "source": [
    "doSave = False"
   ]
  },
  {
   "cell_type": "markdown",
   "metadata": {},
   "source": [
    "## say which fibers were used"
   ]
  },
  {
   "cell_type": "code",
   "execution_count": null,
   "metadata": {},
   "outputs": [],
   "source": [
    "slitMapFile = \"/home/pfs/dev/ait-notebook/optical/input/Slit-mapping-connectors2018.xlsx\"\n",
    "fiber = pd.read_excel(slitMapFile, header=0, sheet_name=\"SM1_DCB\")\n",
    "\n",
    "#fiberCenter = fiber[(fiber[\"DCB\"] == \"red1\") | (fiber[\"DCB\"] == \"red8\") | (fiber[\"DCB\"] == \"red4\") | (fiber[\"DCB\"] == \"green\") ]\n",
    "fiberCenter = fiber[(fiber[\"DCB\"] == \"engineering\")]\n",
    "\n",
    "listfiber = fiberCenter.sort_values([\"Fiber\"], ascending=False).Fiber.values"
   ]
  },
  {
   "cell_type": "markdown",
   "metadata": {},
   "source": [
    "## Arc file experiment Id"
   ]
  },
  {
   "cell_type": "raw",
   "metadata": {},
   "source": [
    "repo = \"sm1\" #\"fmadec\"  # relative path to /drp\n",
    "rerun = \"ginga\" #\"SM1-dither\""
   ]
  },
  {
   "cell_type": "code",
   "execution_count": null,
   "metadata": {},
   "outputs": [],
   "source": [
    "rerun = \"ws_slit\"\n",
    "#rerun = \"dcb2\"\n",
    "\n",
    "repo = \"sps\"\n",
    "cam = \"r3\"\n",
    "arm = cam[0]\n",
    "drpPath = \"/data/drp\""
   ]
  },
  {
   "cell_type": "code",
   "execution_count": null,
   "metadata": {},
   "outputs": [],
   "source": [
    "butler = dafPersist.Butler(f\"{drpPath}/{repo}/rerun/{rerun}/detrend/\")"
   ]
  },
  {
   "cell_type": "code",
   "execution_count": null,
   "metadata": {},
   "outputs": [],
   "source": [
    "experimentId = 190 # 1339"
   ]
  },
  {
   "cell_type": "markdown",
   "metadata": {},
   "source": [
    "## Flat file experiment Id"
   ]
  },
  {
   "cell_type": "code",
   "execution_count": null,
   "metadata": {},
   "outputs": [],
   "source": [
    "FlatId = 112#1353 #1179 #947"
   ]
  },
  {
   "cell_type": "markdown",
   "metadata": {},
   "source": [
    "# Process arc"
   ]
  },
  {
   "cell_type": "code",
   "execution_count": null,
   "metadata": {},
   "outputs": [],
   "source": [
    "visitStart, visitEnd = opdb.getVisitRange(experimentId)\n",
    "visit = int(visitStart)+0"
   ]
  },
  {
   "cell_type": "code",
   "execution_count": null,
   "metadata": {},
   "outputs": [],
   "source": [
    "image_file = butler.getUri(\"calexp\", visit=visit, arm=arm)"
   ]
  },
  {
   "cell_type": "raw",
   "metadata": {},
   "source": [
    "filelist = constructFilelist(experimentId, rerun=rerun, repo=repo , doPrint=True)"
   ]
  },
  {
   "cell_type": "raw",
   "metadata": {},
   "source": [
    "filelist"
   ]
  },
  {
   "cell_type": "code",
   "execution_count": null,
   "metadata": {},
   "outputs": [],
   "source": [
    "#image_file = filelist.filepath.iloc[0]\n",
    "print(image_file)"
   ]
  },
  {
   "cell_type": "raw",
   "metadata": {},
   "source": [
    "# read image into standard 2-d numpy array\n",
    "#fname =\"/drp/lam-red/rerun/pfs/detrend/calExp/2019-01-18/v0011258/calExp-LA011258r1.fits\"\n",
    "data = fitsio.read(image_file)\n",
    "data.shape\n"
   ]
  },
  {
   "cell_type": "code",
   "execution_count": null,
   "metadata": {},
   "outputs": [],
   "source": [
    "hdul = fits.open(image_file)\n",
    "data = hdul[1].data"
   ]
  },
  {
   "cell_type": "code",
   "execution_count": null,
   "metadata": {},
   "outputs": [],
   "source": [
    "threshold = 50\n",
    "objects = sep.extract(data, threshold) #, filter_kernel=None)"
   ]
  },
  {
   "cell_type": "code",
   "execution_count": null,
   "metadata": {},
   "outputs": [],
   "source": [
    "# how many objects were detected\n",
    "len(objects)"
   ]
  },
  {
   "cell_type": "code",
   "execution_count": null,
   "metadata": {},
   "outputs": [],
   "source": [
    "## use ginga remote control client"
   ]
  },
  {
   "cell_type": "raw",
   "metadata": {},
   "source": [
    "# import ginga remote control module\n",
    "from ginga.util import grc\n",
    "viewer = grc.RemoteClient('localhost', 9000)\n",
    "shell = viewer.shell()\n",
    "shell.add_channel('PeakList')\n",
    "ch = viewer.channel('PeakList')\n",
    "\n",
    "\n",
    "\n",
    "ch.load_np(\"image\", data, 'fits', {})\n",
    "canvas = viewer.canvas('PeakList')\n",
    "\n",
    "\n",
    "canvas.clear()"
   ]
  },
  {
   "cell_type": "markdown",
   "metadata": {
    "lines_to_next_cell": 2
   },
   "source": [
    "%matplotlib notebook"
   ]
  },
  {
   "cell_type": "code",
   "execution_count": null,
   "metadata": {},
   "outputs": [],
   "source": [
    "from matplotlib.patches import Ellipse\n",
    "\n",
    "# plot background-subtracted image\n",
    "fig, ax = plt.subplots()\n",
    "m, s = np.mean(data), np.std(data)\n",
    "im = ax.imshow(data, interpolation='nearest', cmap='gray',\n",
    "               vmin=m-s, vmax=m+s, origin='lower')\n",
    "\n",
    "# plot an ellipse for each object\n",
    "for i in range(len(objects)):\n",
    "    e = Ellipse(xy=(objects['x'][i], objects['y'][i]),\n",
    "                width=6*objects['a'][i],\n",
    "                height=6*objects['b'][i],\n",
    "                angle=objects['theta'][i] * 180. / np.pi)\n",
    "    e.set_facecolor('none')\n",
    "    e.set_edgecolor('red')\n",
    "    ax.add_artist(e)"
   ]
  },
  {
   "cell_type": "code",
   "execution_count": null,
   "metadata": {},
   "outputs": [],
   "source": [
    "df = pd.DataFrame(objects, columns=objects.dtype.names)"
   ]
  },
  {
   "cell_type": "code",
   "execution_count": null,
   "metadata": {},
   "outputs": [],
   "source": [
    "df = df.rename(columns={'x': 'px','y': 'py', 'peak': 'brightness'})"
   ]
  },
  {
   "cell_type": "raw",
   "metadata": {},
   "source": [
    "for (X,Y), group in df.groupby([\"px\",\"py\"]):\n",
    "    canvas.add('circle',float(X),float(Y), radius=10, color='red')"
   ]
  },
  {
   "cell_type": "code",
   "execution_count": null,
   "metadata": {},
   "outputs": [],
   "source": [
    "df[\"attenuator\"] = getFitsKey(image_file,\"W_AITATT\")\n",
    "df[\"source\"] = getSourcesUsed(image_file)\n",
    "df[\"exptime\"] = getFitsKey(image_file,\"EXPTIME\")\n",
    "df[\"ignore\"] = 0"
   ]
  },
  {
   "cell_type": "markdown",
   "metadata": {},
   "source": [
    "# Remove peaks too close to each others\n",
    "\n",
    "Using scipy spatial module:\n",
    "\n",
    "https://docs.scipy.org/doc/scipy/reference/generated/scipy.spatial.KDTree.query_ball_point.html#scipy.spatial.KDTree.query_ball_point"
   ]
  },
  {
   "cell_type": "raw",
   "metadata": {
    "lines_to_next_cell": 2
   },
   "source": [
    "def removeClosePeak(df, dist=80, doPlot=False):\n",
    "    from scipy import spatial\n",
    "    # https://docs.scipy.org/doc/scipy/reference/generated/scipy.spatial.KDTree.query_ball_point.html#scipy.spatial.KDTree.query_ball_point\n",
    "    \n",
    "    points = np.c_[df.px.ravel(), df.py.ravel()]\n",
    "    tree = spatial.KDTree(points)\n",
    "    \n",
    "    badpoints = []\n",
    "    for point in points:\n",
    "        result = tree.query_ball_point(point, dist)\n",
    "        # remove the point itself \n",
    "        if len(result) > 1 : badpoints.append(result)\n",
    "    if doPlot:\n",
    "        points = np.asarray(points)\n",
    "        plt.plot(points[:,0], points[:,1], '.')\n",
    "        for badpoint in badpoints:\n",
    "            nearby_point = points[badpoint]\n",
    "            plt.plot(nearby_point[:,0], nearby_point[:,1], 'x')\n",
    "        plt.show()\n",
    "    \n",
    "    # set a flag \"ignore\" in the dataframe to identify the peak to be ignored\n",
    "\n",
    "#   df[\"ignore\"] = 0\n",
    "    for result in badpoints:\n",
    "        nearby_points = points[result]\n",
    "        for nearby_point in nearby_points:\n",
    "            df.loc[(df.px == nearby_point[0]) & (df.py == nearby_point[1]), \"ignore\"] = 1\n",
    "    \n",
    "#    return df.where(df.ignore<1).dropna()\n",
    "    return df\n",
    "\n",
    "        "
   ]
  },
  {
   "cell_type": "raw",
   "metadata": {},
   "source": [
    "def removeFluxPeak(df, fmin=2000, fmax=45000, doPlot=False):\n",
    "    if doPlot:\n",
    "        ax= df.plot.scatter(x=\"px\", y=\"py\")\n",
    "        df.where(df.brightness> fmax).plot.scatter(x=\"px\", y=\"py\", c=\"red\", ax=ax)\n",
    "    \n",
    "    df.loc[(df.brightness> fmax) | (df.brightness< fmin), \"ignore\"] = 1\n",
    "    \n",
    "#    return df.where((df.brightness< fmax) & (df.brightness> fmin)).dropna()\n",
    "    return df\n"
   ]
  },
  {
   "cell_type": "raw",
   "metadata": {},
   "source": [
    "def removeOnePeak(df, px=None, py=None, thresPix =3, peak=None, fiber=None, doPlot=False):\n",
    "    df.loc[((py-thresPix<df.py) & (df.py< py+thresPix) & (px-thresPix<df.px) & (df.px< px+thresPix)) , \"ignore\"] = 1\n",
    "    \n",
    "#    return df.where((df.brightness< fmax) & (df.brightness> fmin)).dropna()\n",
    "    return df\n",
    "\n",
    "\n"
   ]
  },
  {
   "cell_type": "code",
   "execution_count": null,
   "metadata": {},
   "outputs": [],
   "source": [
    "df.loc[(df.py> 2600) | (df.py< 2300), \"ignore\"] = 1"
   ]
  },
  {
   "cell_type": "code",
   "execution_count": null,
   "metadata": {},
   "outputs": [],
   "source": [
    "df.loc[(df.py> 4140) | (df.py< 4000), \"ignore\"] = 1"
   ]
  },
  {
   "cell_type": "code",
   "execution_count": null,
   "metadata": {},
   "outputs": [],
   "source": [
    "df.plot.scatter(x=\"px\", y=\"py\", s=180)\n",
    "print(len(df))"
   ]
  },
  {
   "cell_type": "code",
   "execution_count": null,
   "metadata": {},
   "outputs": [],
   "source": [
    "dist = 50 # 80 for thFocus, can be decrease for imquality\n",
    "df = removeClosePeak(df, dist=dist ,doPlot=True)"
   ]
  },
  {
   "cell_type": "raw",
   "metadata": {},
   "source": [
    "for (X,Y), group in df[df.ignore<1].groupby([\"px\",\"py\"]):\n",
    "    canvas.add('circle',float(X),float(Y), radius=15, color='darkred')"
   ]
  },
  {
   "cell_type": "code",
   "execution_count": null,
   "metadata": {},
   "outputs": [],
   "source": [
    "df = removeFluxPeak(df, fmin=100, fmax=65000, doPlot=True)"
   ]
  },
  {
   "cell_type": "code",
   "execution_count": null,
   "metadata": {
    "lines_to_next_cell": 2
   },
   "outputs": [],
   "source": [
    "ax= df.where(df.ignore<1).plot.scatter(x=\"px\", y=\"py\")"
   ]
  },
  {
   "cell_type": "code",
   "execution_count": null,
   "metadata": {},
   "outputs": [],
   "source": [
    "df.where(df.flag==1).plot.scatter(x=\"px\", y=\"py\")"
   ]
  },
  {
   "cell_type": "markdown",
   "metadata": {},
   "source": [
    "# identify fiber from Flat"
   ]
  },
  {
   "cell_type": "code",
   "execution_count": null,
   "metadata": {},
   "outputs": [],
   "source": [
    "visitStart, visitEnd = opdb.getVisitRange(FlatId)\n",
    "visit = int(visitStart)"
   ]
  },
  {
   "cell_type": "code",
   "execution_count": null,
   "metadata": {},
   "outputs": [],
   "source": [
    "flat_image_file = butler.getUri(\"calexp\", visit=visit, arm=arm)"
   ]
  },
  {
   "cell_type": "code",
   "execution_count": null,
   "metadata": {},
   "outputs": [],
   "source": [
    "from astropy.io import fits\n",
    "fits.info(flat_image_file)"
   ]
  },
  {
   "cell_type": "code",
   "execution_count": null,
   "metadata": {},
   "outputs": [],
   "source": [
    "image_data = fits.getdata(flat_image_file, ext=1)"
   ]
  },
  {
   "cell_type": "code",
   "execution_count": null,
   "metadata": {},
   "outputs": [],
   "source": [
    "print(image_data.shape)"
   ]
  },
  {
   "cell_type": "code",
   "execution_count": null,
   "metadata": {},
   "outputs": [],
   "source": [
    "fig, ax = plt.subplots()\n",
    "m, s = np.mean(image_data), np.std(image_data)\n",
    "im = ax.imshow(image_data, interpolation='nearest', cmap='gray',\n",
    "               vmin=m-s, vmax=m+s, origin='lower')\n"
   ]
  },
  {
   "cell_type": "code",
   "execution_count": null,
   "metadata": {},
   "outputs": [],
   "source": [
    "indxs = np.linspace(2610, 4010, num=2)  # <=> y in the real image\n",
    "indxs"
   ]
  },
  {
   "cell_type": "code",
   "execution_count": null,
   "metadata": {
    "lines_to_next_cell": 2
   },
   "outputs": [],
   "source": [
    "#line = []\n",
    "f_pos = []\n",
    "for indx in indxs :\n",
    "    indx = np.int(indx)\n",
    "    line = image_data[indx, :]\n",
    "    plt.plot(line)\n",
    "    pos, a = peakdet(line, 120)\n",
    "    print(len(pos))\n",
    "    pos = pos[:,0]\n",
    "    f_pos.append(pos)"
   ]
  },
  {
   "cell_type": "code",
   "execution_count": null,
   "metadata": {},
   "outputs": [],
   "source": [
    "a = np.array(f_pos)\n",
    "a.shape"
   ]
  },
  {
   "cell_type": "code",
   "execution_count": null,
   "metadata": {},
   "outputs": [],
   "source": [
    "a[:,0]"
   ]
  },
  {
   "cell_type": "code",
   "execution_count": null,
   "metadata": {
    "lines_to_next_cell": 2
   },
   "outputs": [],
   "source": [
    "popt = []\n",
    "for i in range(a.shape[1]):\n",
    "    x  = a[:,i]\n",
    "    popt.append(np.polyfit(indxs, x, 3))"
   ]
  },
  {
   "cell_type": "code",
   "execution_count": null,
   "metadata": {},
   "outputs": [],
   "source": [
    "y = np.arange(4000)\n",
    "fig, ax = plt.subplots()\n",
    "plt.plot(np.polyval(popt[0], y),y)\n",
    "plt.show()"
   ]
  },
  {
   "cell_type": "code",
   "execution_count": null,
   "metadata": {
    "lines_to_next_cell": 2
   },
   "outputs": [],
   "source": [
    "thresh = 20\n",
    "df[\"fiber\"] = None\n",
    "for (px, py),group in df.groupby([\"px\",\"py\"]):\n",
    "    \n",
    "    delta = np.abs(np.array([np.polyval(popt[i], py) for i in range(len(popt))]) - px)\n",
    "    #print(np.min((delta)))\n",
    "    if np.min(delta) > thresh : \n",
    "        df.loc[(df.px == px) & (df.py == py), \"ignore\"] = 1\n",
    "        df.loc[(df.px == px) & (df.py == py), \"fiber\"] = np.nan\n",
    "    else:\n",
    "        df.loc[(df.px == px) & (df.py == py), \"fiber\"] = listfiber[np.argmin(delta)]"
   ]
  },
  {
   "cell_type": "code",
   "execution_count": null,
   "metadata": {},
   "outputs": [],
   "source": [
    "df.fiber.unique()"
   ]
  },
  {
   "cell_type": "raw",
   "metadata": {},
   "source": [
    "thres = 25\n",
    "for (center,fiber), a in fiberCenter.sort_values('Fiber').groupby(['RedCenter', 'Fiber']):\n",
    "#    print(center, fiber)\n",
    "    l = len(df[(df.px > center-thres) & (df.px < center+thres)])\n",
    "    df.loc[(df.px > center-thres) & (df.px < center+thres),\"fiber\"] = fiber\n",
    "    df.loc[(df.px > center-thres) & (df.px < center+thres),\"peak\"] = np.arange(1,l+1)\n"
   ]
  },
  {
   "cell_type": "code",
   "execution_count": null,
   "metadata": {},
   "outputs": [],
   "source": [
    "df.head()"
   ]
  },
  {
   "cell_type": "code",
   "execution_count": null,
   "metadata": {},
   "outputs": [],
   "source": [
    "fig, ax = plt.subplots()\n",
    "colors = cm.rainbow(np.linspace(0, 1, len(df.fiber.unique())))\n",
    "\n",
    "grouped = df.groupby('fiber')\n",
    "for i,(key, group) in enumerate(grouped):\n",
    "    group.plot(ax=ax, kind='scatter', x='px', y='py', color=colors[i])\n",
    "    plt.plot(np.polyval(popt[i], y),y, color=colors[len(df.fiber.unique())-i-1])\n",
    "\n",
    "plt.show()\n",
    "\n",
    "#df.plot.scatter(x=\"px\", y=\"py\", c=True)"
   ]
  },
  {
   "cell_type": "code",
   "execution_count": null,
   "metadata": {},
   "outputs": [],
   "source": [
    "fig, ax = plt.subplots()\n",
    "colors = cm.rainbow(np.linspace(0, 1, len(df.fiber.unique())))\n",
    "\n",
    "grouped = df.where(df.ignore<1).dropna().groupby('fiber')\n",
    "for i,(key, group) in enumerate(grouped):\n",
    "    group.plot(ax=ax, kind='scatter', x='px', y='py', color=colors[i])\n",
    "    plt.plot(np.polyval(popt[i], y),y, color=colors[len(df.fiber.unique())-i-1])\n",
    "\n",
    "plt.show()\n",
    "\n",
    "#df.plot.scatter(x=\"px\", y=\"py\", c=True)"
   ]
  },
  {
   "cell_type": "raw",
   "metadata": {},
   "source": [
    "# TODO change color according fiber number\n",
    "fig, ax = plt.subplots()\n",
    "nbfiber = len(df.where(df.ignore<1).fiber.unique())\n",
    "print(nbfiber)\n",
    "colors = cm.rainbow(np.linspace(0, 1, nbfiber ))\n",
    "\n",
    "grouped = df.where(df.ignore<1).groupby('fiber')\n",
    "for i,(key, group) in enumerate(grouped):\n",
    "    group.plot(ax=ax, kind='scatter', x='px', y='py', color=colors[i])\n",
    "#    plt.plot(np.polyval(popt[i], y),y, color=colors[nbfiber-i-1])\n",
    "\n",
    "plt.show()\n",
    "\n",
    "#df.plot.scatter(x=\"px\", y=\"py\", c=True)"
   ]
  },
  {
   "cell_type": "code",
   "execution_count": null,
   "metadata": {},
   "outputs": [],
   "source": [
    "for (X,Y), group in df[df.ignore<1].groupby([\"px\",\"py\"]):\n",
    "    canvas.add('circle',float(X),float(Y), radius=25, color='orange')"
   ]
  },
  {
   "cell_type": "markdown",
   "metadata": {},
   "source": [
    "# Create PeakList file\n"
   ]
  },
  {
   "cell_type": "code",
   "execution_count": null,
   "metadata": {
    "lines_to_next_cell": 2
   },
   "outputs": [],
   "source": [
    "path = \"/home/pfs/dev/ait-notebook/optical/input/\"\n",
    "path = \"./\"\n"
   ]
  },
  {
   "cell_type": "code",
   "execution_count": null,
   "metadata": {},
   "outputs": [],
   "source": [
    "listpeaks = df[[\"brightness\", \"px\", \"py\", \"attenuator\", \"source\", \"exptime\"]].where(df.ignore<1)\n"
   ]
  },
  {
   "cell_type": "code",
   "execution_count": null,
   "metadata": {},
   "outputs": [],
   "source": [
    "listpeaks= listpeaks.rename(columns={'px': 'X', 'py': 'Y'})"
   ]
  },
  {
   "cell_type": "code",
   "execution_count": null,
   "metadata": {},
   "outputs": [],
   "source": [
    "listpeaks = listpeaks.dropna().sort_values(\"X\").reset_index()"
   ]
  },
  {
   "cell_type": "code",
   "execution_count": null,
   "metadata": {},
   "outputs": [],
   "source": [
    "listpeaks[\"fiber\"] = listpeaks.index +1\n",
    "listpeaks[\"peak\"] = 1\n"
   ]
  },
  {
   "cell_type": "code",
   "execution_count": null,
   "metadata": {},
   "outputs": [],
   "source": [
    "listpeaks"
   ]
  },
  {
   "cell_type": "code",
   "execution_count": null,
   "metadata": {},
   "outputs": [],
   "source": [
    "#listpeaks.drop(['level_0', 'index'], axis=1, inplace=True)\n",
    "listpeaks.drop(['index'], axis=1, inplace=True)\n"
   ]
  },
  {
   "cell_type": "code",
   "execution_count": null,
   "metadata": {},
   "outputs": [],
   "source": [
    "listpeaks.to_csv(\"SM2_peak_dcb2_neon_20201211.csv\")"
   ]
  },
  {
   "cell_type": "code",
   "execution_count": null,
   "metadata": {},
   "outputs": [],
   "source": [
    "for (fiber),a in listpeaks.sort_values(\"X\").groupby([\"fiber\"]):\n",
    "    l = len(listpeaks[(listpeaks.fiber == fiber)])\n",
    "#    print(l)\n",
    "    listpeaks.loc[listpeaks.fiber == fiber, \"peak\"] = np.arange(1,l+1)"
   ]
  },
  {
   "cell_type": "code",
   "execution_count": null,
   "metadata": {},
   "outputs": [],
   "source": []
  },
  {
   "cell_type": "code",
   "execution_count": null,
   "metadata": {},
   "outputs": [],
   "source": []
  },
  {
   "cell_type": "code",
   "execution_count": null,
   "metadata": {},
   "outputs": [],
   "source": [
    "listpeaks = df[[\"brightness\", \"px\", \"py\", \"attenuator\", \"source\", \"exptime\", \"fiber\" ]].where(df.ignore<1).dropna()\n",
    "#listpeaks = df[[\"brightness\", \"px\", \"py\", \"attenuator\", \"source\", \"exptime\", \"fiber\" ]]"
   ]
  },
  {
   "cell_type": "code",
   "execution_count": null,
   "metadata": {},
   "outputs": [],
   "source": [
    "listpeaks = df[[\"brightness\", \"px\", \"py\", \"attenuator\", \"source\", \"exptime\", \"fiber\" ]].where(df.ignore<1)\n",
    "#listpeaks = df[[\"brightness\", \"px\", \"py\", \"attenuator\", \"source\", \"exptime\", \"fiber\" ]]"
   ]
  },
  {
   "cell_type": "code",
   "execution_count": null,
   "metadata": {
    "lines_to_next_cell": 2
   },
   "outputs": [],
   "source": [
    "listpeaks= listpeaks.rename(columns={'px': 'X', 'py': 'Y'})"
   ]
  },
  {
   "cell_type": "code",
   "execution_count": null,
   "metadata": {},
   "outputs": [],
   "source": [
    "listpeaks = listpeaks.sort_values(['X', 'Y'])"
   ]
  },
  {
   "cell_type": "code",
   "execution_count": null,
   "metadata": {},
   "outputs": [],
   "source": [
    "for (fiber),a in listpeaks.sort_values(\"X\").groupby([\"fiber\"]):\n",
    "    l = len(listpeaks[(listpeaks.fiber == fiber)])\n",
    "#    print(l)\n",
    "    listpeaks.loc[listpeaks.fiber == fiber, \"peak\"] = np.arange(1,l+1)"
   ]
  },
  {
   "cell_type": "code",
   "execution_count": null,
   "metadata": {},
   "outputs": [],
   "source": [
    "listpeaks.head()"
   ]
  },
  {
   "cell_type": "code",
   "execution_count": null,
   "metadata": {
    "lines_to_next_cell": 2
   },
   "outputs": [],
   "source": [
    "fiberCenter.DCB.unique()"
   ]
  },
  {
   "cell_type": "raw",
   "metadata": {},
   "source": [
    "df[\"source\"] = \"HgZnCd\""
   ]
  },
  {
   "cell_type": "code",
   "execution_count": null,
   "metadata": {},
   "outputs": [],
   "source": [
    "peak_file = \"SM1_%s_A_%s_Exp%i_Nov2019.csv\"%(filelist.cam[0],df[\"source\"][0],experimentId)\n",
    "print(peak_file)\n",
    "if doSave:\n",
    "    listpeaks.to_csv(path+peak_file)"
   ]
  },
  {
   "cell_type": "code",
   "execution_count": null,
   "metadata": {},
   "outputs": [],
   "source": [
    "path"
   ]
  },
  {
   "cell_type": "code",
   "execution_count": null,
   "metadata": {},
   "outputs": [],
   "source": [
    "peak_file"
   ]
  },
  {
   "cell_type": "code",
   "execution_count": null,
   "metadata": {},
   "outputs": [],
   "source": [
    "# create peak list with all peak\n",
    "allpeaks = df[[\"brightness\", \"px\", \"py\", \"attenuator\", \"source\", \"exptime\", \"fiber\" ]].dropna()\n",
    "allpeaks= allpeaks.rename(columns={'px': 'X', 'py': 'Y'})\n",
    "allpeaks = allpeaks.sort_values(['X', 'Y'])\n",
    "for (fiber),a in allpeaks.sort_values(\"X\").groupby([\"fiber\"]):\n",
    "    l = len(allpeaks[(allpeaks.fiber == fiber)])\n",
    "#    print(l)\n",
    "    allpeaks.loc[allpeaks.fiber == fiber, \"peak\"] = np.arange(1,l+1)"
   ]
  },
  {
   "cell_type": "code",
   "execution_count": null,
   "metadata": {},
   "outputs": [],
   "source": [
    "allpeak_file = \"SM1_Blue_sep_%s_Exp%i_all.csv\"%(getSourcesUsed(image_file),experimentId)\n",
    "if doSave:\n",
    "    allpeaks.to_csv(path+allpeak_file)"
   ]
  },
  {
   "cell_type": "code",
   "execution_count": null,
   "metadata": {},
   "outputs": [],
   "source": [
    "allpeak_file"
   ]
  },
  {
   "cell_type": "code",
   "execution_count": null,
   "metadata": {},
   "outputs": [],
   "source": []
  }
 ],
 "metadata": {
  "jupytext": {
   "text_representation": {
    "extension": ".py",
    "format_name": "light",
    "format_version": "1.5",
    "jupytext_version": "1.3.4"
   }
  },
  "kernelspec": {
   "display_name": "Python 3",
   "language": "python",
   "name": "python3"
  },
  "language_info": {
   "codemirror_mode": {
    "name": "ipython",
    "version": 3
   },
   "file_extension": ".py",
   "mimetype": "text/x-python",
   "name": "python",
   "nbconvert_exporter": "python",
   "pygments_lexer": "ipython3",
   "version": "3.7.2"
  }
 },
 "nbformat": 4,
 "nbformat_minor": 4
}
