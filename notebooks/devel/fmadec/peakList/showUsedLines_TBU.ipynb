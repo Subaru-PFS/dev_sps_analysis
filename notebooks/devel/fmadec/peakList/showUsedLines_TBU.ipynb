{
 "cells": [
  {
   "cell_type": "code",
   "execution_count": 8,
   "metadata": {},
   "outputs": [],
   "source": [
    "import pandas as pd\n",
    "import numpy as np\n",
    "import sep\n",
    "import glob\n",
    "import re"
   ]
  },
  {
   "cell_type": "code",
   "execution_count": 9,
   "metadata": {},
   "outputs": [],
   "source": [
    "from pfs.drp.stella import DetectorMap\n",
    "from  pfs.utils.dummyCableB import DummyCableBDatabase\n",
    "import lsst.daf.persistence as dafPersist\n",
    "import lsst.afw.display as afwDisplay\n",
    "import lsst.geom as geom"
   ]
  },
  {
   "cell_type": "code",
   "execution_count": 10,
   "metadata": {},
   "outputs": [],
   "source": [
    "from pfs.lam.detAnalysis import removeClosePeak"
   ]
  },
  {
   "cell_type": "code",
   "execution_count": 11,
   "metadata": {},
   "outputs": [],
   "source": [
    "import matplotlib.pyplot as plt\n",
    "plt.rcParams['figure.figsize'] = (8, 8)"
   ]
  },
  {
   "cell_type": "code",
   "execution_count": 5,
   "metadata": {},
   "outputs": [],
   "source": [
    "%matplotlib widget"
   ]
  },
  {
   "cell_type": "code",
   "execution_count": null,
   "metadata": {},
   "outputs": [],
   "source": [
    "%matplotlib ipympl"
   ]
  },
  {
   "cell_type": "code",
   "execution_count": 6,
   "metadata": {},
   "outputs": [],
   "source": [
    "afwDisplay.setDefaultBackend(\"matplotlib\")"
   ]
  },
  {
   "cell_type": "code",
   "execution_count": 7,
   "metadata": {},
   "outputs": [
    {
     "data": {
      "application/vnd.jupyter.widget-view+json": {
       "model_id": "8e6be4aee2804196b45b2542ad0e9e4d",
       "version_major": 2,
       "version_minor": 0
      },
      "text/plain": [
       "FigureCanvasNbAgg()"
      ]
     },
     "metadata": {},
     "output_type": "display_data"
    }
   ],
   "source": [
    "display = afwDisplay.Display(1)"
   ]
  },
  {
   "cell_type": "code",
   "execution_count": 12,
   "metadata": {},
   "outputs": [],
   "source": [
    "visitId = 23735 #2339#3087 #1059"
   ]
  },
  {
   "cell_type": "code",
   "execution_count": 13,
   "metadata": {},
   "outputs": [],
   "source": [
    "dmapvisitId = 3451"
   ]
  },
  {
   "cell_type": "code",
   "execution_count": 14,
   "metadata": {},
   "outputs": [],
   "source": [
    "rerun = \"dcb2\" # \"sm1-march2020\"\n",
    "repo = \"sps\"\n",
    "cam = \"b2\"\n",
    "arm = cam[0]\n",
    "sm = int(cam[1])\n",
    "drpPath = \"/drp\""
   ]
  },
  {
   "cell_type": "code",
   "execution_count": 15,
   "metadata": {},
   "outputs": [],
   "source": [
    "butler = dafPersist.Butler(f\"{drpPath}/{repo}/rerun/{rerun}/detrend/\")\n",
    "calExp = butler.get(\"calexp\", visit=visitId, spectrograph=sm, arm=arm)"
   ]
  },
  {
   "cell_type": "code",
   "execution_count": null,
   "metadata": {},
   "outputs": [],
   "source": [
    "butlerdMap = dafPersist.Butler(f\"{drpPath}/{repo}/\")\n",
    "dMap = butlerdMap.get(\"detectorMap\", visit0=dmapvisitId, spectrograph=sm, arm=arm, immediate=True)"
   ]
  },
  {
   "cell_type": "code",
   "execution_count": 16,
   "metadata": {},
   "outputs": [
    {
     "name": "stdout",
     "output_type": "stream",
     "text": [
      "['Ne']\n"
     ]
    }
   ],
   "source": [
    "rbutler = dafPersist.Butler(f\"{drpPath}/{repo}/\")\n",
    "rbutler.getKeys('raw')\n",
    "lamps = rbutler.queryMetadata('raw', ['lamps'], visit=visitId, arm=arm) \n",
    "print(lamps)"
   ]
  },
  {
   "cell_type": "code",
   "execution_count": 17,
   "metadata": {
    "lines_to_next_cell": 2
   },
   "outputs": [],
   "source": [
    "keywords = [\"visit\", \"spectrograph\", \"arm\"]\n",
    "for values in rbutler.queryMetadata(\"raw\", keywords, field=\"OBJECT\"):\n",
    "    dataId = dict(zip(keywords, values))\n",
    "    print(dataId, rbutler.get(\"raw\", dataId))"
   ]
  },
  {
   "cell_type": "code",
   "execution_count": 18,
   "metadata": {},
   "outputs": [],
   "source": [
    "#calExp_filetPath = butler.getUri(\"calexp\", visit=visitId, arm=\"r\")"
   ]
  },
  {
   "cell_type": "code",
   "execution_count": 19,
   "metadata": {},
   "outputs": [
    {
     "data": {
      "text/plain": [
       "281474976710656"
      ]
     },
     "execution_count": 19,
     "metadata": {},
     "output_type": "execute_result"
    }
   ],
   "source": [
    "pfsConfig = butler.get(\"pfsConfig\", visit=visitId)\n",
    "pfsConfig.pfsDesignId"
   ]
  },
  {
   "cell_type": "code",
   "execution_count": null,
   "metadata": {},
   "outputs": [],
   "source": [
    "dcb = DummyCableBDatabase()\n",
    "fiberSetup = dcb.interpret(pfsConfig.pfsDesignId)\n",
    "print(fiberSetup)\n",
    "fiberIds = dcb.getFiberIds(*fiberSetup)\n",
    "print(fiberIds)"
   ]
  },
  {
   "cell_type": "code",
   "execution_count": null,
   "metadata": {
    "lines_to_next_cell": 2
   },
   "outputs": [],
   "source": [
    "lines = pd.read_csv(\"Imqual_LAM_Lines\")"
   ]
  },
  {
   "cell_type": "code",
   "execution_count": null,
   "metadata": {
    "lines_to_next_cell": 2
   },
   "outputs": [],
   "source": [
    "lines"
   ]
  },
  {
   "cell_type": "code",
   "execution_count": null,
   "metadata": {},
   "outputs": [],
   "source": []
  },
  {
   "cell_type": "code",
   "execution_count": null,
   "metadata": {
    "lines_to_next_cell": 2
   },
   "outputs": [],
   "source": []
  },
  {
   "cell_type": "code",
   "execution_count": null,
   "metadata": {
    "lines_to_next_cell": 2
   },
   "outputs": [],
   "source": []
  },
  {
   "cell_type": "code",
   "execution_count": null,
   "metadata": {},
   "outputs": [],
   "source": []
  },
  {
   "cell_type": "code",
   "execution_count": null,
   "metadata": {},
   "outputs": [],
   "source": []
  },
  {
   "cell_type": "code",
   "execution_count": null,
   "metadata": {
    "lines_to_next_cell": 2
   },
   "outputs": [],
   "source": [
    "elements = '|'.join(re.findall('[A-Z][^A-Z]*', \"\".join(lamps)))\n",
    "print(elements)\n",
    "select_lines = lines[(lines.arm == arm) & (lines.element.str.contains(elements))]\n",
    "print(f\"Elements are {select_lines.element.unique()}\")"
   ]
  },
  {
   "cell_type": "code",
   "execution_count": null,
   "metadata": {},
   "outputs": [],
   "source": [
    "select_lines"
   ]
  },
  {
   "cell_type": "code",
   "execution_count": null,
   "metadata": {},
   "outputs": [],
   "source": []
  },
  {
   "cell_type": "code",
   "execution_count": null,
   "metadata": {
    "lines_to_next_cell": 2
   },
   "outputs": [],
   "source": []
  },
  {
   "cell_type": "code",
   "execution_count": null,
   "metadata": {},
   "outputs": [],
   "source": []
  },
  {
   "cell_type": "code",
   "execution_count": null,
   "metadata": {},
   "outputs": [],
   "source": []
  },
  {
   "cell_type": "code",
   "execution_count": null,
   "metadata": {
    "lines_to_next_cell": 2
   },
   "outputs": [],
   "source": [
    "%matplotlib notebook"
   ]
  },
  {
   "cell_type": "code",
   "execution_count": null,
   "metadata": {
    "lines_to_next_cell": 2
   },
   "outputs": [],
   "source": []
  },
  {
   "cell_type": "code",
   "execution_count": null,
   "metadata": {},
   "outputs": [],
   "source": []
  },
  {
   "cell_type": "code",
   "execution_count": null,
   "metadata": {},
   "outputs": [],
   "source": []
  },
  {
   "cell_type": "code",
   "execution_count": null,
   "metadata": {},
   "outputs": [],
   "source": []
  },
  {
   "cell_type": "code",
   "execution_count": null,
   "metadata": {
    "lines_to_next_cell": 2
   },
   "outputs": [],
   "source": []
  },
  {
   "cell_type": "code",
   "execution_count": null,
   "metadata": {
    "lines_to_next_cell": 2
   },
   "outputs": [],
   "source": []
  },
  {
   "cell_type": "code",
   "execution_count": null,
   "metadata": {},
   "outputs": [],
   "source": []
  },
  {
   "cell_type": "code",
   "execution_count": null,
   "metadata": {},
   "outputs": [],
   "source": []
  },
  {
   "cell_type": "code",
   "execution_count": null,
   "metadata": {},
   "outputs": [],
   "source": []
  },
  {
   "cell_type": "code",
   "execution_count": null,
   "metadata": {},
   "outputs": [],
   "source": []
  },
  {
   "cell_type": "code",
   "execution_count": null,
   "metadata": {
    "lines_to_next_cell": 2
   },
   "outputs": [],
   "source": []
  },
  {
   "cell_type": "code",
   "execution_count": null,
   "metadata": {},
   "outputs": [],
   "source": []
  },
  {
   "cell_type": "code",
   "execution_count": null,
   "metadata": {},
   "outputs": [],
   "source": []
  },
  {
   "cell_type": "code",
   "execution_count": null,
   "metadata": {
    "lines_to_next_cell": 2
   },
   "outputs": [],
   "source": []
  },
  {
   "cell_type": "code",
   "execution_count": null,
   "metadata": {
    "lines_to_next_cell": 2
   },
   "outputs": [],
   "source": []
  },
  {
   "cell_type": "code",
   "execution_count": null,
   "metadata": {},
   "outputs": [],
   "source": []
  },
  {
   "cell_type": "code",
   "execution_count": null,
   "metadata": {},
   "outputs": [],
   "source": []
  },
  {
   "cell_type": "code",
   "execution_count": null,
   "metadata": {},
   "outputs": [],
   "source": []
  },
  {
   "cell_type": "code",
   "execution_count": null,
   "metadata": {
    "lines_to_next_cell": 2
   },
   "outputs": [],
   "source": []
  },
  {
   "cell_type": "code",
   "execution_count": null,
   "metadata": {
    "lines_to_next_cell": 2
   },
   "outputs": [],
   "source": []
  },
  {
   "cell_type": "code",
   "execution_count": null,
   "metadata": {},
   "outputs": [],
   "source": []
  },
  {
   "cell_type": "code",
   "execution_count": null,
   "metadata": {},
   "outputs": [],
   "source": []
  },
  {
   "cell_type": "code",
   "execution_count": null,
   "metadata": {},
   "outputs": [],
   "source": []
  },
  {
   "cell_type": "code",
   "execution_count": null,
   "metadata": {},
   "outputs": [],
   "source": []
  },
  {
   "cell_type": "code",
   "execution_count": null,
   "metadata": {},
   "outputs": [],
   "source": []
  },
  {
   "cell_type": "code",
   "execution_count": null,
   "metadata": {
    "lines_to_next_cell": 2
   },
   "outputs": [],
   "source": []
  },
  {
   "cell_type": "code",
   "execution_count": null,
   "metadata": {},
   "outputs": [],
   "source": []
  },
  {
   "cell_type": "code",
   "execution_count": null,
   "metadata": {},
   "outputs": [],
   "source": []
  },
  {
   "cell_type": "code",
   "execution_count": null,
   "metadata": {},
   "outputs": [],
   "source": []
  },
  {
   "cell_type": "code",
   "execution_count": null,
   "metadata": {},
   "outputs": [],
   "source": []
  },
  {
   "cell_type": "code",
   "execution_count": null,
   "metadata": {},
   "outputs": [],
   "source": []
  },
  {
   "cell_type": "code",
   "execution_count": null,
   "metadata": {},
   "outputs": [],
   "source": []
  },
  {
   "cell_type": "code",
   "execution_count": 27,
   "metadata": {},
   "outputs": [],
   "source": [
    "selectLines = pd.read_csv(\"Imqual_LAM_peaklist_2020July.csv\")"
   ]
  },
  {
   "cell_type": "code",
   "execution_count": 24,
   "metadata": {},
   "outputs": [
    {
     "name": "stdout",
     "output_type": "stream",
     "text": [
      "Ne\n"
     ]
    }
   ],
   "source": [
    "selectLines =  selectLines[(selectLines.element.str.contains('|'.join(re.findall('[A-Z]µ^A-Z]*', \"\".join(lamps)))))]\n",
    "print('|'.join(re.findall('[A-Z][^A-Z]*', \"\".join(lamps))))"
   ]
  },
  {
   "cell_type": "code",
   "execution_count": 25,
   "metadata": {},
   "outputs": [],
   "source": [
    "selectLines = selectLines[selectLines.element == \"Ne\"]"
   ]
  },
  {
   "cell_type": "code",
   "execution_count": 29,
   "metadata": {
    "lines_to_next_cell": 2
   },
   "outputs": [
    {
     "name": "stdout",
     "output_type": "stream",
     "text": [
      "Ne\n",
      "Elements are ['Ne']\n"
     ]
    }
   ],
   "source": [
    "elements = '|'.join(re.findall('[A-Z][^A-Z]*', \"\".join(lamps)))\n",
    "print(elements)\n",
    "selectLines = selectLines[(selectLines.arm == arm) & (selectLines.element.str.contains(elements))]\n",
    "print(f\"Elements are {selectLines.element.unique()}\")"
   ]
  },
  {
   "cell_type": "raw",
   "metadata": {},
   "source": [
    "selectLines[\"wavelength\"]= selectLines.apply(lambda x: dMap.getWavelength(int(x[\"fiber\"]), float(x[\"py\"])), axis=1)"
   ]
  },
  {
   "cell_type": "raw",
   "metadata": {
    "lines_to_next_cell": 0
   },
   "source": [
    "selectLines[\"wavelength\"]= selectLines.apply(lambda x: dMap.getWavelength(int(x[\"fiber\"]), float(x[\"Y\"])), axis=1)"
   ]
  },
  {
   "cell_type": "code",
   "execution_count": null,
   "metadata": {
    "lines_to_next_cell": 2
   },
   "outputs": [],
   "source": []
  },
  {
   "cell_type": "code",
   "execution_count": 30,
   "metadata": {},
   "outputs": [
    {
     "data": {
      "text/html": [
       "<div>\n",
       "<style scoped>\n",
       "    .dataframe tbody tr th:only-of-type {\n",
       "        vertical-align: middle;\n",
       "    }\n",
       "\n",
       "    .dataframe tbody tr th {\n",
       "        vertical-align: top;\n",
       "    }\n",
       "\n",
       "    .dataframe thead th {\n",
       "        text-align: right;\n",
       "    }\n",
       "</style>\n",
       "<table border=\"1\" class=\"dataframe\">\n",
       "  <thead>\n",
       "    <tr style=\"text-align: right;\">\n",
       "      <th></th>\n",
       "      <th>fiber</th>\n",
       "      <th>wavelength</th>\n",
       "      <th>element</th>\n",
       "      <th>exptime</th>\n",
       "      <th>arm</th>\n",
       "      <th>X</th>\n",
       "      <th>Y</th>\n",
       "      <th>peak</th>\n",
       "    </tr>\n",
       "  </thead>\n",
       "  <tbody>\n",
       "    <tr>\n",
       "      <th>0</th>\n",
       "      <td>2</td>\n",
       "      <td>585.4110</td>\n",
       "      <td>Ne</td>\n",
       "      <td>2.0</td>\n",
       "      <td>b</td>\n",
       "      <td>4018.7559</td>\n",
       "      <td>3106.6487</td>\n",
       "      <td>1.0</td>\n",
       "    </tr>\n",
       "    <tr>\n",
       "      <th>1</th>\n",
       "      <td>63</td>\n",
       "      <td>585.4110</td>\n",
       "      <td>Ne</td>\n",
       "      <td>2.0</td>\n",
       "      <td>b</td>\n",
       "      <td>3641.8413</td>\n",
       "      <td>3092.3406</td>\n",
       "      <td>1.0</td>\n",
       "    </tr>\n",
       "    <tr>\n",
       "      <th>2</th>\n",
       "      <td>192</td>\n",
       "      <td>585.4110</td>\n",
       "      <td>Ne</td>\n",
       "      <td>2.0</td>\n",
       "      <td>b</td>\n",
       "      <td>2847.6566</td>\n",
       "      <td>3072.4308</td>\n",
       "      <td>1.0</td>\n",
       "    </tr>\n",
       "    <tr>\n",
       "      <th>3</th>\n",
       "      <td>255</td>\n",
       "      <td>585.4110</td>\n",
       "      <td>Ne</td>\n",
       "      <td>2.0</td>\n",
       "      <td>b</td>\n",
       "      <td>2460.1881</td>\n",
       "      <td>3067.5100</td>\n",
       "      <td>1.0</td>\n",
       "    </tr>\n",
       "    <tr>\n",
       "      <th>4</th>\n",
       "      <td>339</td>\n",
       "      <td>585.4110</td>\n",
       "      <td>Ne</td>\n",
       "      <td>2.0</td>\n",
       "      <td>b</td>\n",
       "      <td>2012.4911</td>\n",
       "      <td>3065.7355</td>\n",
       "      <td>1.0</td>\n",
       "    </tr>\n",
       "    <tr>\n",
       "      <th>...</th>\n",
       "      <td>...</td>\n",
       "      <td>...</td>\n",
       "      <td>...</td>\n",
       "      <td>...</td>\n",
       "      <td>...</td>\n",
       "      <td>...</td>\n",
       "      <td>...</td>\n",
       "      <td>...</td>\n",
       "    </tr>\n",
       "    <tr>\n",
       "      <th>75</th>\n",
       "      <td>401</td>\n",
       "      <td>650.8325</td>\n",
       "      <td>Ne</td>\n",
       "      <td>2.0</td>\n",
       "      <td>b</td>\n",
       "      <td>1629.5090</td>\n",
       "      <td>4053.5291</td>\n",
       "      <td>8.0</td>\n",
       "    </tr>\n",
       "    <tr>\n",
       "      <th>76</th>\n",
       "      <td>464</td>\n",
       "      <td>650.8325</td>\n",
       "      <td>Ne</td>\n",
       "      <td>2.0</td>\n",
       "      <td>b</td>\n",
       "      <td>1239.6915</td>\n",
       "      <td>4059.6739</td>\n",
       "      <td>8.0</td>\n",
       "    </tr>\n",
       "    <tr>\n",
       "      <th>77</th>\n",
       "      <td>525</td>\n",
       "      <td>650.8325</td>\n",
       "      <td>Ne</td>\n",
       "      <td>2.0</td>\n",
       "      <td>b</td>\n",
       "      <td>861.0835</td>\n",
       "      <td>4069.2618</td>\n",
       "      <td>8.0</td>\n",
       "    </tr>\n",
       "    <tr>\n",
       "      <th>78</th>\n",
       "      <td>587</td>\n",
       "      <td>650.8325</td>\n",
       "      <td>Ne</td>\n",
       "      <td>2.0</td>\n",
       "      <td>b</td>\n",
       "      <td>474.4227</td>\n",
       "      <td>4083.0019</td>\n",
       "      <td>8.0</td>\n",
       "    </tr>\n",
       "    <tr>\n",
       "      <th>79</th>\n",
       "      <td>650</td>\n",
       "      <td>650.8325</td>\n",
       "      <td>Ne</td>\n",
       "      <td>2.0</td>\n",
       "      <td>b</td>\n",
       "      <td>78.6069</td>\n",
       "      <td>4101.5128</td>\n",
       "      <td>8.0</td>\n",
       "    </tr>\n",
       "  </tbody>\n",
       "</table>\n",
       "<p>80 rows × 8 columns</p>\n",
       "</div>"
      ],
      "text/plain": [
       "    fiber  wavelength element  exptime arm          X          Y  peak\n",
       "0       2    585.4110      Ne      2.0   b  4018.7559  3106.6487   1.0\n",
       "1      63    585.4110      Ne      2.0   b  3641.8413  3092.3406   1.0\n",
       "2     192    585.4110      Ne      2.0   b  2847.6566  3072.4308   1.0\n",
       "3     255    585.4110      Ne      2.0   b  2460.1881  3067.5100   1.0\n",
       "4     339    585.4110      Ne      2.0   b  2012.4911  3065.7355   1.0\n",
       "..    ...         ...     ...      ...  ..        ...        ...   ...\n",
       "75    401    650.8325      Ne      2.0   b  1629.5090  4053.5291   8.0\n",
       "76    464    650.8325      Ne      2.0   b  1239.6915  4059.6739   8.0\n",
       "77    525    650.8325      Ne      2.0   b   861.0835  4069.2618   8.0\n",
       "78    587    650.8325      Ne      2.0   b   474.4227  4083.0019   8.0\n",
       "79    650    650.8325      Ne      2.0   b    78.6069  4101.5128   8.0\n",
       "\n",
       "[80 rows x 8 columns]"
      ]
     },
     "execution_count": 30,
     "metadata": {},
     "output_type": "execute_result"
    }
   ],
   "source": [
    "selectLines"
   ]
  },
  {
   "cell_type": "raw",
   "metadata": {
    "lines_to_next_cell": 0
   },
   "source": [
    "butler.get(\"calexp_filename\", visit=1018, arm=\"r\")"
   ]
  },
  {
   "cell_type": "code",
   "execution_count": 31,
   "metadata": {
    "lines_to_next_cell": 2
   },
   "outputs": [],
   "source": [
    "display.erase()"
   ]
  },
  {
   "cell_type": "code",
   "execution_count": 32,
   "metadata": {},
   "outputs": [
    {
     "name": "stdout",
     "output_type": "stream",
     "text": [
      "BAD: red\n",
      "CR: magenta\n",
      "DETECTED: blue\n",
      "DETECTED_NEGATIVE: cyan\n",
      "EDGE: yellow\n",
      "INTRP: green\n",
      "NO_DATA: orange\n",
      "SAT: green\n",
      "SUSPECT: yellow\n",
      "UNMASKEDNAN: None\n"
     ]
    }
   ],
   "source": [
    "# Interpreting displayed mask colors\n",
    "mask = calExp.getMask()\n",
    "for maskName, maskBit in mask.getMaskPlaneDict().items():\n",
    "    print('{}: {}'.format(maskName, display.getMaskPlaneColor(maskName)))"
   ]
  },
  {
   "cell_type": "code",
   "execution_count": 33,
   "metadata": {},
   "outputs": [
    {
     "name": "stdout",
     "output_type": "stream",
     "text": [
      "BAD: IGNORE\n",
      "CR: IGNORE\n",
      "DETECTED: IGNORE\n",
      "DETECTED_NEGATIVE: IGNORE\n",
      "EDGE: IGNORE\n",
      "INTRP: IGNORE\n",
      "NO_DATA: IGNORE\n",
      "SAT: IGNORE\n",
      "SUSPECT: IGNORE\n",
      "UNMASKEDNAN: IGNORE\n"
     ]
    }
   ],
   "source": [
    "# disable all mask\n",
    "mask = calExp.getMask()\n",
    "for maskName, maskBit in mask.getMaskPlaneDict().items():\n",
    "    display.setMaskPlaneColor(maskName, \"IGNORE\")\n",
    "    print('{}: {}'.format(maskName, display.getMaskPlaneColor(maskName)))"
   ]
  },
  {
   "cell_type": "code",
   "execution_count": 34,
   "metadata": {},
   "outputs": [],
   "source": [
    "maskPlane = \"CR\"\n",
    "calExp.getMaskedImage().getMask().addMaskPlane(maskPlane)\n",
    "display.setMaskPlaneColor(maskPlane, \"magenta\")\n",
    "maskPlane = \"SAT\"\n",
    "calExp.getMaskedImage().getMask().addMaskPlane(maskPlane)\n",
    "display.setMaskPlaneColor(maskPlane, \"green\")"
   ]
  },
  {
   "cell_type": "code",
   "execution_count": 38,
   "metadata": {},
   "outputs": [],
   "source": [
    "# display image\n",
    "display.setMaskTransparency(80)\n",
    "display.mtv(calExp, title=visitId)"
   ]
  },
  {
   "cell_type": "code",
   "execution_count": 36,
   "metadata": {},
   "outputs": [],
   "source": [
    "display.scale(\"linear\", \"zscale\")"
   ]
  },
  {
   "cell_type": "code",
   "execution_count": 37,
   "metadata": {},
   "outputs": [
    {
     "ename": "NameError",
     "evalue": "name 'fiberIds' is not defined",
     "output_type": "error",
     "traceback": [
      "\u001b[0;31m---------------------------------------------------------------------------\u001b[0m",
      "\u001b[0;31mNameError\u001b[0m                                 Traceback (most recent call last)",
      "\u001b[0;32m<ipython-input-37-209c5c37520a>\u001b[0m in \u001b[0;36m<module>\u001b[0;34m\u001b[0m\n\u001b[1;32m      1\u001b[0m \u001b[0;32mwith\u001b[0m \u001b[0mdisplay\u001b[0m\u001b[0;34m.\u001b[0m\u001b[0mBuffering\u001b[0m\u001b[0;34m(\u001b[0m\u001b[0;34m)\u001b[0m\u001b[0;34m:\u001b[0m\u001b[0;34m\u001b[0m\u001b[0;34m\u001b[0m\u001b[0m\n\u001b[0;32m----> 2\u001b[0;31m     \u001b[0;32mfor\u001b[0m \u001b[0mfiber\u001b[0m \u001b[0;32min\u001b[0m \u001b[0mfiberIds\u001b[0m\u001b[0;34m:\u001b[0m\u001b[0;34m\u001b[0m\u001b[0;34m\u001b[0m\u001b[0m\n\u001b[0m\u001b[1;32m      3\u001b[0m         \u001b[0;32mfor\u001b[0m \u001b[0mwave\u001b[0m \u001b[0;32min\u001b[0m \u001b[0mselect_lines\u001b[0m\u001b[0;34m.\u001b[0m\u001b[0mwavelength\u001b[0m\u001b[0;34m.\u001b[0m\u001b[0mvalues\u001b[0m\u001b[0;34m:\u001b[0m\u001b[0;34m\u001b[0m\u001b[0;34m\u001b[0m\u001b[0m\n\u001b[1;32m      4\u001b[0m             \u001b[0mpoint\u001b[0m \u001b[0;34m=\u001b[0m \u001b[0mdMap\u001b[0m\u001b[0;34m.\u001b[0m\u001b[0mfindPoint\u001b[0m\u001b[0;34m(\u001b[0m\u001b[0mfiber\u001b[0m\u001b[0;34m,\u001b[0m \u001b[0mwave\u001b[0m\u001b[0;34m)\u001b[0m\u001b[0;34m\u001b[0m\u001b[0;34m\u001b[0m\u001b[0m\n\u001b[1;32m      5\u001b[0m             \u001b[0;31m#peaklist.append([fiber, wave, point.getX(), point.getY()])\u001b[0m\u001b[0;34m\u001b[0m\u001b[0;34m\u001b[0m\u001b[0;34m\u001b[0m\u001b[0m\n",
      "\u001b[0;31mNameError\u001b[0m: name 'fiberIds' is not defined"
     ]
    }
   ],
   "source": [
    "with display.Buffering():\n",
    "    for fiber in fiberIds:\n",
    "        for wave in select_lines.wavelength.values:\n",
    "            point = dMap.findPoint(fiber, wave)\n",
    "            #peaklist.append([fiber, wave, point.getX(), point.getY()])\n",
    "            display.dot(\"+\",\n",
    "                   point.getX(),\n",
    "                   point.getY(),\n",
    "                   ctype=\"red\")\n",
    "            display.dot(\"O\",\n",
    "                   point.getX(),\n",
    "                   point.getY(),\n",
    "                   ctype=\"red\")"
   ]
  },
  {
   "cell_type": "code",
   "execution_count": null,
   "metadata": {},
   "outputs": [],
   "source": []
  },
  {
   "cell_type": "code",
   "execution_count": null,
   "metadata": {},
   "outputs": [],
   "source": []
  },
  {
   "cell_type": "code",
   "execution_count": null,
   "metadata": {},
   "outputs": [],
   "source": [
    "with display.Buffering():\n",
    "    for x,y in selectLines[[\"X\", \"Y\"]].values:\n",
    "        display.dot(\"+\",\n",
    "                   x,\n",
    "                   y,\n",
    "                   ctype=\"green\")\n",
    "        display.dot(\"O\",\n",
    "                   x,\n",
    "                   y,\n",
    "                   ctype=\"green\")"
   ]
  },
  {
   "cell_type": "code",
   "execution_count": null,
   "metadata": {},
   "outputs": [],
   "source": []
  },
  {
   "cell_type": "code",
   "execution_count": null,
   "metadata": {},
   "outputs": [],
   "source": []
  },
  {
   "cell_type": "code",
   "execution_count": null,
   "metadata": {},
   "outputs": [],
   "source": []
  },
  {
   "cell_type": "code",
   "execution_count": null,
   "metadata": {},
   "outputs": [],
   "source": []
  },
  {
   "cell_type": "code",
   "execution_count": null,
   "metadata": {
    "lines_to_next_cell": 2
   },
   "outputs": [],
   "source": [
    "from pfs.lam.detAnalysis import plotRoiPeak\n",
    "import matplotlib.pyplot as plt"
   ]
  },
  {
   "cell_type": "code",
   "execution_count": null,
   "metadata": {},
   "outputs": [],
   "source": [
    "selectLines = pd.read_csv(\"PeakList_SM1_Med_Lines_NIST-2.csv\")\n",
    "selectLines = selectLines[selectLines.element == \"Ne\"]"
   ]
  },
  {
   "cell_type": "code",
   "execution_count": null,
   "metadata": {},
   "outputs": [],
   "source": [
    "plotRoiPeak(calExp.image.array, selectLines, roi_size=10, scale=True)"
   ]
  },
  {
   "cell_type": "code",
   "execution_count": null,
   "metadata": {},
   "outputs": [],
   "source": [
    "plotRoiLines(calExp.image.array, selectLines, roi_size=10, scale=True)"
   ]
  },
  {
   "cell_type": "code",
   "execution_count": null,
   "metadata": {},
   "outputs": [],
   "source": [
    "def plotRoiLines(image, peak_list, roi_size=20, raw=False, scale=True):\n",
    "    if type(image) is str:     \n",
    "        hdulist = fits.open(image, \"readonly\")\n",
    "        image = hdulist[1].data\n",
    "    \n",
    "    plist = pd.read_csv(peak_list) if type(peak_list) is str else peak_list\n",
    "\n",
    "    plist = plist.sort_values([\"X\",\"Y\"], ascending=[True,False])    \n",
    "    #peak_data = peak_data.reset_index()\n",
    "\n",
    "    nbfiber = len(plist.fiber.unique())\n",
    "    nbpeak = len(plist.wavelength.unique())\n",
    "    # have a list of fiber from 0 to nbfiber \n",
    "    listfibertoplot = pd.DataFrame(plist.fiber.unique(), columns=[\"fiber\"])\n",
    "    \n",
    "    print(\"#Fiber= %d and #wavelength= %d\"%(nbfiber, nbpeak))\n",
    "    f, axarr = plt.subplots(nbpeak, nbfiber,  sharex='col', sharey='row',figsize=(12,8))\n",
    "#    print(axarr.shape)\n",
    "    vmin=None\n",
    "    vmax=None\n",
    "    \n",
    "    for (wavelength, fiber), group in plist.groupby(['wavelength','fiber']):\n",
    "        k = int(round(peak))\n",
    "        i = listfibertoplot[listfibertoplot.fiber == fiber].index.tolist()[0]\n",
    "#        print(k,i)\n",
    "        indy = group[\"X\"]\n",
    "        indx = group[\"Y\"]\n",
    "        cut_data = image[int(indx-roi_size/2):int(indx+roi_size/2), int(indy-roi_size/2):int(indy+roi_size/2)]\n",
    "        if nbpeak == 1 and nbfiber == 1:\n",
    "            axarr.imshow(cut_data,interpolation=\"none\", origin=\"lower\", vmin=vmin, vmax=vmax)\n",
    "        else:\n",
    "            axarr[nbpeak -1 -k, nbfiber - i -1].imshow(cut_data,interpolation=\"none\", origin=\"lower\", vmin=vmin, vmax=vmax)\n",
    "    f.subplots_adjust(hspace=0.5,wspace=0.5)\n",
    "    plt.show()\n",
    "def plotRoiPeak(image, peak_list, roi_size=20, raw=False, scale=True):\n",
    "    if type(image) is str:     \n",
    "        hdulist = fits.open(image, \"readonly\")\n",
    "        image = hdulist[1].data\n",
    "    \n",
    "    plist = pd.read_csv(peak_list) if type(peak_list) is str else peak_list\n",
    "\n",
    "    plist = plist.sort_values([\"X\",\"Y\"], ascending=[True,False])    \n",
    "    #peak_data = peak_data.reset_index()\n",
    "\n",
    "    nbfiber = len(plist.fiber.unique())\n",
    "    nbpeak = len(plist.peak.unique())\n",
    "    # have a list of fiber from 0 to nbfiber \n",
    "    listfibertoplot = pd.DataFrame(plist.fiber.unique(), columns=[\"fiber\"])\n",
    "    \n",
    "    print(\"#Fiber= %d and #peak= %d\"%(nbfiber, nbpeak))\n",
    "    f, axarr = plt.subplots(nbpeak, nbfiber,  sharex='col', sharey='row',figsize=(12,8))\n",
    "#    print(axarr.shape)\n",
    "    vmin=None\n",
    "    vmax=None\n",
    "    \n",
    "    for (peak, fiber), group in plist.groupby(['peak','fiber']):\n",
    "        k = int(round(peak))\n",
    "        i = listfibertoplot[listfibertoplot.fiber == fiber].index.tolist()[0]\n",
    "#        print(k,i)\n",
    "        indy = group[\"X\"]\n",
    "        indx = group[\"Y\"]\n",
    "        cut_data = image[int(indx-roi_size/2):int(indx+roi_size/2), int(indy-roi_size/2):int(indy+roi_size/2)]\n",
    "        if nbpeak == 1 and nbfiber == 1:\n",
    "            axarr.imshow(cut_data,interpolation=\"none\", origin=\"lower\", vmin=vmin, vmax=vmax)\n",
    "        else:\n",
    "            axarr[nbpeak -1 -k, nbfiber - i -1].imshow(cut_data,interpolation=\"none\", origin=\"lower\", vmin=vmin, vmax=vmax)\n",
    "    f.subplots_adjust(hspace=0.5,wspace=0.5)\n",
    "    plt.show()"
   ]
  },
  {
   "cell_type": "code",
   "execution_count": null,
   "metadata": {},
   "outputs": [],
   "source": []
  },
  {
   "cell_type": "code",
   "execution_count": null,
   "metadata": {},
   "outputs": [],
   "source": []
  },
  {
   "cell_type": "code",
   "execution_count": null,
   "metadata": {},
   "outputs": [],
   "source": []
  },
  {
   "cell_type": "code",
   "execution_count": null,
   "metadata": {},
   "outputs": [],
   "source": []
  },
  {
   "cell_type": "code",
   "execution_count": null,
   "metadata": {},
   "outputs": [],
   "source": []
  },
  {
   "cell_type": "code",
   "execution_count": null,
   "metadata": {},
   "outputs": [],
   "source": []
  },
  {
   "cell_type": "code",
   "execution_count": null,
   "metadata": {},
   "outputs": [],
   "source": []
  },
  {
   "cell_type": "code",
   "execution_count": null,
   "metadata": {},
   "outputs": [],
   "source": []
  },
  {
   "cell_type": "code",
   "execution_count": null,
   "metadata": {},
   "outputs": [],
   "source": [
    "# TO be remove or ..."
   ]
  },
  {
   "cell_type": "code",
   "execution_count": null,
   "metadata": {},
   "outputs": [],
   "source": [
    "mask = calExp.mask.array\n",
    "data = calExp.image.array\n",
    "threshold = 5\n",
    "objects = sep.extract(data , threshold, mask=mask) #, filter_kerneµl=None)"
   ]
  },
  {
   "cell_type": "code",
   "execution_count": null,
   "metadata": {},
   "outputs": [],
   "source": [
    "# how many objects were detected\n",
    "len(objects)"
   ]
  },
  {
   "cell_type": "code",
   "execution_count": null,
   "metadata": {},
   "outputs": [],
   "source": [
    "with display.Buffering():\n",
    "    for i in range(len(objects)):\n",
    "        display.dot(\"+\",\n",
    "                   objects['x'][i],\n",
    "                   objects['y'][i],\n",
    "                   ctype=\"yellow\")"
   ]
  },
  {
   "cell_type": "code",
   "execution_count": null,
   "metadata": {},
   "outputs": [],
   "source": [
    "df = pd.DataFrame(objects, columns=objects.dtype.names)"
   ]
  },
  {
   "cell_type": "code",
   "execution_count": null,
   "metadata": {},
   "outputs": [],
   "source": [
    "df.head()"
   ]
  },
  {
   "cell_type": "code",
   "execution_count": null,
   "metadata": {},
   "outputs": [],
   "source": [
    "df = df.rename(columns={'x': 'px','y': 'py', 'peak': 'brightness'})"
   ]
  },
  {
   "cell_type": "code",
   "execution_count": null,
   "metadata": {},
   "outputs": [],
   "source": [
    "df[\"fiber\"]= df.apply(lambda x: dMap.findFiberId(geom.Point2D(float(x[\"px\"]), float(x[\"py\"]))), axis=1)"
   ]
  },
  {
   "cell_type": "code",
   "execution_count": null,
   "metadata": {},
   "outputs": [],
   "source": [
    "df[\"wavelength\"]= df.apply(lambda x: dMap.getWavelength(int(x[\"fiber\"]), float(x[\"py\"])), axis=1)"
   ]
  },
  {
   "cell_type": "code",
   "execution_count": null,
   "metadata": {},
   "outputs": [],
   "source": [
    "fiber = 2"
   ]
  },
  {
   "cell_type": "code",
   "execution_count": null,
   "metadata": {
    "lines_to_next_cell": 2
   },
   "outputs": [],
   "source": [
    "ax = df[df.fiber == fiber].plot.scatter(x=\"wavelength\", y=\"brightness\", logy=True)\n",
    "ax2 = ax.twiny()\n",
    "df[df.fiber == fiber].plot.scatter(x=\"py\", y=\"brightness\", ax=ax2)\n",
    "ax.hlines(2000, df.wavelength.min(), df.wavelength.max(), colors=\"r\")"
   ]
  },
  {
   "cell_type": "code",
   "execution_count": null,
   "metadata": {},
   "outputs": [],
   "source": [
    "dist = 40 # 80 for thFocus, can be decrease for imquality\n",
    "dfp = removeClosePeak(df, dist=dist ,doPlot=True)"
   ]
  },
  {
   "cell_type": "code",
   "execution_count": null,
   "metadata": {},
   "outputs": [],
   "source": [
    "dfp = df[(dfp.fiber == fiber) & (df.brightness > 2000)]"
   ]
  },
  {
   "cell_type": "code",
   "execution_count": null,
   "metadata": {
    "lines_to_next_cell": 2
   },
   "outputs": [],
   "source": [
    "with display.Buffering():\n",
    "    for x,y in dfp[[\"px\", \"py\"]].values:\n",
    "        display.dot(\"+\",\n",
    "                   x,\n",
    "                   y,\n",
    "                   ctype=\"green\")\n",
    "        display.dot(\"O\",\n",
    "                   x,\n",
    "                   y,\n",
    "                   ctype=\"green\")"
   ]
  },
  {
   "cell_type": "code",
   "execution_count": null,
   "metadata": {},
   "outputs": [],
   "source": [
    "display.erase()"
   ]
  },
  {
   "cell_type": "code",
   "execution_count": null,
   "metadata": {
    "lines_to_next_cell": 2
   },
   "outputs": [],
   "source": [
    "exptime = rbutler.queryMetadata('raw', ['exptime'], visit=visitId, arm=arm) \n",
    "exptime = np.round(exptime[0])"
   ]
  },
  {
   "cell_type": "markdown",
   "metadata": {
    "lines_to_next_cell": 2
   },
   "source": [
    "wavelength element outfocus status"
   ]
  },
  {
   "cell_type": "code",
   "execution_count": null,
   "metadata": {},
   "outputs": [],
   "source": [
    "selectedLines = dfp[[\"wavelength\",\"brightness\"]]"
   ]
  },
  {
   "cell_type": "code",
   "execution_count": null,
   "metadata": {
    "lines_to_next_cell": 2
   },
   "outputs": [],
   "source": [
    "selectedLines[\"element\"] = lamps[0]\n",
    "selectedLines[\"outfocus\"] = 0\n",
    "selectedLines[\"status\"] = 1\n",
    "selectedLines[\"exptime\"] = exptime"
   ]
  },
  {
   "cell_type": "code",
   "execution_count": null,
   "metadata": {},
   "outputs": [],
   "source": [
    "selectedLines"
   ]
  },
  {
   "cell_type": "code",
   "execution_count": null,
   "metadata": {},
   "outputs": [],
   "source": [
    "selectedLines.sort_values(\"wavelength\").to_csv(\"Imqual_Lines_FMa_Med_HgAr.txt\", index=False)"
   ]
  },
  {
   "cell_type": "markdown",
   "metadata": {},
   "source": [
    "then we need manual checking with NIST "
   ]
  },
  {
   "cell_type": "code",
   "execution_count": null,
   "metadata": {},
   "outputs": [],
   "source": [
    "tmp = pd.read_csv(\"Imqual_Lines_FMa_Med_HgAr.txt\")"
   ]
  },
  {
   "cell_type": "code",
   "execution_count": null,
   "metadata": {},
   "outputs": [],
   "source": [
    "tmp"
   ]
  },
  {
   "cell_type": "code",
   "execution_count": null,
   "metadata": {
    "lines_to_next_cell": 2
   },
   "outputs": [],
   "source": [
    "tmp = tmp.to_csv(\"Imqual_Lines_FMa_Med_HgAr.txt\", index=False)"
   ]
  },
  {
   "cell_type": "code",
   "execution_count": null,
   "metadata": {},
   "outputs": [],
   "source": [
    "nist_lines = pd.read_csv(\"Imqual_Lines_FMa_Blue_NIST.txt\")"
   ]
  },
  {
   "cell_type": "code",
   "execution_count": null,
   "metadata": {},
   "outputs": [],
   "source": [
    "nist_lines"
   ]
  },
  {
   "cell_type": "code",
   "execution_count": null,
   "metadata": {},
   "outputs": [],
   "source": [
    "peaklist = []\n",
    "for fiber in fiberIds:\n",
    "    for wave in nist_lines.wavelength.values:\n",
    "        point = dMap.findPoint(fiber, wave)\n",
    "        peaklist.append([fiber, wave, point.getX(), point.getY()])"
   ]
  },
  {
   "cell_type": "code",
   "execution_count": null,
   "metadata": {},
   "outputs": [],
   "source": [
    "peaksList = pd.DataFrame(peaklist, columns=['fiber', 'wavelength', 'X', 'Y'])"
   ]
  },
  {
   "cell_type": "code",
   "execution_count": null,
   "metadata": {},
   "outputs": [],
   "source": [
    "for (fiber),a in peaksList.sort_values(\"wavelength\").groupby([\"fiber\"]):\n",
    "    l = len(peaksList[(peaksList.fiber == fiber)])\n",
    "#    print(l)\n",
    "    peaksList.loc[peaksList.fiber == fiber, \"peak\"] = np.arange(1,l+1)"
   ]
  },
  {
   "cell_type": "code",
   "execution_count": null,
   "metadata": {},
   "outputs": [],
   "source": [
    "peaksList.head()"
   ]
  },
  {
   "cell_type": "code",
   "execution_count": null,
   "metadata": {},
   "outputs": [],
   "source": [
    "peaksList = peaksList.merge(nist_lines, on=\"wavelength\")"
   ]
  },
  {
   "cell_type": "code",
   "execution_count": null,
   "metadata": {},
   "outputs": [],
   "source": [
    "peaksList.head()"
   ]
  },
  {
   "cell_type": "code",
   "execution_count": null,
   "metadata": {},
   "outputs": [],
   "source": [
    "peaksList.to_csv(\"PeakList_SM1_Blue_Lines_NIST.csv\", index=False)"
   ]
  },
  {
   "cell_type": "code",
   "execution_count": null,
   "metadata": {},
   "outputs": [],
   "source": [
    "peaks = peaksList[[\"X\",\"Y\"]].values"
   ]
  },
  {
   "cell_type": "code",
   "execution_count": null,
   "metadata": {},
   "outputs": [],
   "source": [
    "with display.Buffering():\n",
    "    for x,y in peaks:\n",
    "        display.dot(\"+\",\n",
    "                   x,\n",
    "                   y,\n",
    "                   ctype=\"orange\")\n",
    "        display.dot(\"O\",\n",
    "                   x,\n",
    "                   y,\n",
    "                   ctype=\"orange\")"
   ]
  },
  {
   "cell_type": "code",
   "execution_count": null,
   "metadata": {},
   "outputs": [],
   "source": [
    "tmp =  peaksList"
   ]
  },
  {
   "cell_type": "code",
   "execution_count": null,
   "metadata": {},
   "outputs": [],
   "source": []
  },
  {
   "cell_type": "code",
   "execution_count": null,
   "metadata": {},
   "outputs": [],
   "source": [
    "searchFile = f\"Imqual_Lines_FMa_Blue_*_NIST.txt\"\n",
    "print(searchFile)\n",
    "\n",
    "filelist = glob.glob(searchFile)\n",
    "print('\\n'.join(filelist))"
   ]
  },
  {
   "cell_type": "code",
   "execution_count": null,
   "metadata": {},
   "outputs": [],
   "source": [
    "ob = pd.concat([pd.read_csv(filen) for filen in filelist ], ignore_index=True)"
   ]
  },
  {
   "cell_type": "code",
   "execution_count": null,
   "metadata": {},
   "outputs": [],
   "source": [
    "ob"
   ]
  },
  {
   "cell_type": "code",
   "execution_count": null,
   "metadata": {},
   "outputs": [],
   "source": [
    "ob.to_csv(\"Imqual_Lines_FMa_Blue_NIST.txt\", index=False)"
   ]
  },
  {
   "cell_type": "code",
   "execution_count": null,
   "metadata": {
    "lines_to_next_cell": 2
   },
   "outputs": [],
   "source": [
    "selectLines = pd.read_csv(\"usedLines_HgAr_630-970.csv\")\n",
    "selectLines = pd.read_csv(\"usedLines_Ne_630-970.csv\")"
   ]
  },
  {
   "cell_type": "code",
   "execution_count": null,
   "metadata": {},
   "outputs": [],
   "source": [
    "selectLines[[\"wavelength\", \"element\"]]"
   ]
  },
  {
   "cell_type": "code",
   "execution_count": null,
   "metadata": {},
   "outputs": [],
   "source": [
    "with display.Buffering():\n",
    "    for fiber in fiberIds:\n",
    "        for wave in selectLines.wavelength.values:\n",
    "            point = dmap.findPoint(fiber, wave)\n",
    "            #peaklist.append([fiber, wave, point.getX(), point.getY()])\n",
    "            display.dot(\"+\",\n",
    "                   point.getX(),\n",
    "                   point.getY(),\n",
    "                   ctype=\"red\")\n",
    "            display.dot(\"O\",\n",
    "                   point.getX(),\n",
    "                   point.getY(),\n",
    "                   ctype=\"red\")"
   ]
  },
  {
   "cell_type": "code",
   "execution_count": null,
   "metadata": {},
   "outputs": [],
   "source": []
  },
  {
   "cell_type": "raw",
   "metadata": {
    "lines_to_next_cell": 2
   },
   "source": [
    "peaks = pd.read_csv(\"imdata_ExpId992_dither_R1_2019-05-07.csv\")\n",
    "peaks[[\"px\", \"py\"]]"
   ]
  },
  {
   "cell_type": "code",
   "execution_count": null,
   "metadata": {},
   "outputs": [],
   "source": [
    "peaks = pd.read_csv(\"SM1_b1_A_hgar_Exp1342_Nov2019.csv\")"
   ]
  },
  {
   "cell_type": "code",
   "execution_count": null,
   "metadata": {},
   "outputs": [],
   "source": [
    "peaks"
   ]
  },
  {
   "cell_type": "code",
   "execution_count": null,
   "metadata": {},
   "outputs": [],
   "source": []
  },
  {
   "cell_type": "code",
   "execution_count": null,
   "metadata": {},
   "outputs": [],
   "source": [
    "peaks[\"wavelength\"]= peaks.apply(lambda x: dmap.getWavelength(int(x[\"fiber\"]), float(x[\"Y\"])), axis=1)"
   ]
  },
  {
   "cell_type": "code",
   "execution_count": null,
   "metadata": {},
   "outputs": [],
   "source": [
    "with display.Buffering():\n",
    "    for fiber in peaks.fiber.values:\n",
    "        for wave in peaks.wavelength.values:\n",
    "            point = dmap.findPoint(fiber, wave)\n",
    "            #peaklist.append([fiber, wave, point.getX(), point.getY()])\n",
    "            display.dot(\"+\",\n",
    "                   point.getX(),\n",
    "                   point.getY(),\n",
    "                   ctype=\"green\")\n",
    "            display.dot(\"O\",\n",
    "                   point.getX(),\n",
    "                   point.getY(),\n",
    "                   ctype=\"green\")"
   ]
  },
  {
   "cell_type": "code",
   "execution_count": null,
   "metadata": {},
   "outputs": [],
   "source": [
    "dmap.getWavelength(339, 85.2)"
   ]
  },
  {
   "cell_type": "code",
   "execution_count": null,
   "metadata": {},
   "outputs": [],
   "source": [
    "broadLineListFilename = \"broadLines.txt\"\n",
    "broadLines = pd.read_csv(broadLineListFilename, comment=\"#\", delim_whitespace=True, \n",
    "                    names=['wavelength', 'air', 'element'])"
   ]
  },
  {
   "cell_type": "code",
   "execution_count": null,
   "metadata": {},
   "outputs": [],
   "source": [
    "with display.Buffering():\n",
    "    for fiber in fiberIds:\n",
    "        for wave in broadLines.wavelength.values:\n",
    "            point = dmap.findPoint(fiber, wave)\n",
    "            #peaklist.append([fiber, wave, point.getX(), point.getY()])\n",
    "            display.dot(\"+\",\n",
    "                   point.getX(),\n",
    "                   point.getY(),\n",
    "                   ctype=\"red\")\n",
    "            display.dot(\"O\",\n",
    "                   point.getX(),\n",
    "                   point.getY(),\n",
    "                   ctype=\"red\")"
   ]
  },
  {
   "cell_type": "code",
   "execution_count": null,
   "metadata": {},
   "outputs": [],
   "source": []
  },
  {
   "cell_type": "code",
   "execution_count": null,
   "metadata": {},
   "outputs": [],
   "source": []
  },
  {
   "cell_type": "code",
   "execution_count": null,
   "metadata": {},
   "outputs": [],
   "source": []
  },
  {
   "cell_type": "raw",
   "metadata": {},
   "source": [
    "NevenLines = pd.read_csv(\"neven.txt\", comment=\"#\", delim_whitespace=True, \n",
    "                    names=['wavelength', 'air'])"
   ]
  },
  {
   "cell_type": "raw",
   "metadata": {},
   "source": [
    "NevenLines"
   ]
  },
  {
   "cell_type": "raw",
   "metadata": {},
   "source": [
    "with display.Buffering():\n",
    "    for fiber in fiberIds:\n",
    "        for wave in NevenLines.wavelength.values:\n",
    "            point = dmap.findPoint(fiber, wave)\n",
    "            #peaklist.append([fiber, wave, point.getX(), point.getY()])\n",
    "            display.dot(\"+\",\n",
    "                   point.getX(),\n",
    "                   point.getY(),\n",
    "                   ctype=\"blue\")\n",
    "            display.dot(\"O\",\n",
    "                   point.getX(),\n",
    "                   point.getY(),\n",
    "                   ctype=\"blue\")"
   ]
  },
  {
   "cell_type": "raw",
   "metadata": {},
   "source": []
  },
  {
   "cell_type": "raw",
   "metadata": {},
   "source": [
    "#peaklist = \"/home/fmadec/devel/ait-notebook/optical/input/peaks_SM1_B1_Mar2019.csv\""
   ]
  },
  {
   "cell_type": "raw",
   "metadata": {},
   "source": [
    "#peaklist = \"/home/fmadec/devel/ait-notebook/optical/input/SM1_r1_M_hgar_Exp892.csv\"\n",
    "peaklist = \"/home/fmadec/devel/ait-notebook/optical/input/hgar_peaks_exptime_dec2017.csv\""
   ]
  },
  {
   "cell_type": "raw",
   "metadata": {},
   "source": [
    "FMaLines = pd.read_csv(peaklist)"
   ]
  },
  {
   "cell_type": "raw",
   "metadata": {},
   "source": [
    "dmap.getWavelength(FMaLines[\"fiber\"][0],FMaLines[\"Y\"][0] )"
   ]
  },
  {
   "cell_type": "raw",
   "metadata": {},
   "source": [
    "FMaLines[\"wavelength\"]= FMaLines.apply(lambda x: dmap.getWavelength(int(x[\"fiber\"]), float(x[\"Y\"])), axis=1)"
   ]
  },
  {
   "cell_type": "raw",
   "metadata": {},
   "source": [
    "FMaLines.sort_values(\"wavelength\").wavelength.round(1).drop_duplicates()"
   ]
  },
  {
   "cell_type": "raw",
   "metadata": {},
   "source": []
  }
 ],
 "metadata": {
  "jupytext": {
   "encoding": "# -*- coding: utf-8 -*-",
   "text_representation": {
    "extension": ".py",
    "format_name": "light",
    "format_version": "1.5",
    "jupytext_version": "1.3.4"
   }
  },
  "kernelspec": {
   "display_name": "Python 3",
   "language": "python",
   "name": "python3"
  },
  "language_info": {
   "codemirror_mode": {
    "name": "ipython",
    "version": 3
   },
   "file_extension": ".py",
   "mimetype": "text/x-python",
   "name": "python",
   "nbconvert_exporter": "python",
   "pygments_lexer": "ipython3",
   "version": "3.7.2"
  }
 },
 "nbformat": 4,
 "nbformat_minor": 4
}
