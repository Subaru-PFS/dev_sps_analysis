{
 "cells": [
  {
   "cell_type": "code",
   "execution_count": 1,
   "metadata": {
    "lines_to_next_cell": 2
   },
   "outputs": [],
   "source": [
    "from pfs.lam.detAnalysis import *\n",
    "from pfs.lam.imageAnalysis import *\n",
    "\n",
    "from pfs.lam.fileHandling import *\n",
    "import glob"
   ]
  },
  {
   "cell_type": "code",
   "execution_count": 2,
   "metadata": {},
   "outputs": [],
   "source": [
    "#%matplotlib widget\n",
    "\n",
    "import matplotlib.pyplot as plt\n",
    "#plt.style.use('dark_background')\n",
    "from matplotlib import style\n",
    "style.use('ggplot')"
   ]
  },
  {
   "cell_type": "code",
   "execution_count": 3,
   "metadata": {},
   "outputs": [],
   "source": [
    "import lsst.daf.persistence as dafPersist"
   ]
  },
  {
   "cell_type": "code",
   "execution_count": null,
   "metadata": {},
   "outputs": [],
   "source": []
  },
  {
   "cell_type": "code",
   "execution_count": 4,
   "metadata": {
    "lines_to_next_cell": 2
   },
   "outputs": [],
   "source": [
    "def plotOnePeak(image, cx,cy, roi_size=30, doBck=False, nRows=5, vmin=None, vmax=None, verbose=False):\n",
    "    indx = cy\n",
    "    indy = cx\n",
    "\n",
    "    if type(image) is str:\n",
    "        hdulist = fits.open(image, \"readonly\")\n",
    "        image = hdulist[1].data\n",
    "    \n",
    "\n",
    "    data = np.copy(image)\n",
    "    outer_data, inner_data = getRois(data, cx, cy, inner_size=5, outer_size=roi_size, doBck=doBck, nRows=nRows)    \n",
    "    m, s = np.mean(outer_data), np.std(outer_data)\n",
    "    if verbose:\n",
    "        print(f\"mean: {m}\")\n",
    "        print(f\"std: {s}\")\n",
    "    vmin = vmin if vmin is not None else m-s\n",
    "    vmax = vmax if vmax is not None else m+s\n",
    "    \n",
    "    fig, (ax, ax2) = plt.subplots(ncols=2, constrained_layout=True)\n",
    "    #ax = plt.subplot(111)\n",
    "    im = ax.imshow(outer_data,interpolation=\"none\", origin=\"lower\", vmin=vmin, vmax=vmax)\n",
    "    divider = make_axes_locatable(ax)\n",
    "    cax = divider.append_axes(\"right\", size=\"5%\", pad=0.05)\n",
    "    \n",
    "    m = np.log10(np.where(outer_data>0, outer_data, -1))\n",
    "\n",
    "    #ax2 = plt.subplot(121)\n",
    "    im = ax2.imshow(m,interpolation=\"none\", origin=\"lower\",cmap=\"gray\")\n",
    "    \n",
    "    plt.colorbar(im, cax=cax)\n",
    "    plt.show()"
   ]
  },
  {
   "cell_type": "raw",
   "metadata": {},
   "source": [
    "def plotRoiPeak(image, peak_list, roi_size=20, raw=False, scale=True, verbose=False):\n",
    "    if type(image) is str:     \n",
    "        hdulist = fits.open(image, \"readonly\")\n",
    "        image = hdulist[1].data\n",
    "    \n",
    "    plist = pd.read_csv(peak_list) if type(peak_list) is str else peak_list\n",
    "\n",
    "#    plist = plist.sort_values([\"X\",\"Y\"], ascending=[True,False])\n",
    "    \n",
    "    nbfiber = len(plist.fiber.unique())\n",
    "    nbwave = len(plist.wavelength.unique())\n",
    "    # have a list of fiber from 0 to nbfiber\n",
    "    listwavestoplot = pd.DataFrame(plist.wavelength.unique(), columns=[\"wavelength\"])\n",
    "\n",
    "    listfiberstoplot = pd.DataFrame(plist.fiber.unique(), columns=[\"fiber\"])\n",
    "    \n",
    "    print(\"#Fiber= %d and #wavelength= %d\"%(nbfiber, nbwave))\n",
    "    f, axarr = plt.subplots(nbwave, nbfiber,  sharex='col', sharey='row',figsize=(12,8))\n",
    "#    print(axarr.shape)\n",
    "    vmin=None\n",
    "    vmax=None\n",
    "    \n",
    "    for (wave, fiber), group in plist.groupby(['wavelength','fiber']):\n",
    "        k = listwavestoplot[listwavestoplot.wavelength == wave].index.tolist()[0]\n",
    "        i = listfiberstoplot[listfiberstoplot.fiber == fiber].index.tolist()[0]\n",
    "        if verbose:\n",
    "            print(k,i)\n",
    "            print(f\"px {group['px']}    py: {group['py']}\")\n",
    "        #cut_data = image[int(indx-roi_size/2):int(indx+roi_size/2), int(indy-roi_size/2):int(indy+roi_size/2)]\n",
    "        cut_data = selectRoi(image, group[\"px\"], group[\"py\"], roi_size=roi_size)\n",
    "        if nbwave == 1 and nbfiber == 1:\n",
    "            axarr.set_title(f\"{str(fiber)}, {str(wave)}\")\n",
    "            axarr.imshow(cut_data,interpolation=\"none\", origin=\"lower\", vmin=vmin, vmax=vmax)\n",
    "        else:\n",
    "            #axarr[nbwave -1 -k, nbfiber - i -1].set_title(f\"{fiber}, {wave:.2f}\")\n",
    "            #axarr[nbwave -1 -k, nbfiber - i -1].label_outer()\n",
    "            axarr[nbwave -1 -k, nbfiber - i -1].imshow(cut_data,interpolation=\"none\", origin=\"lower\", vmin=vmin, vmax=vmax)\n",
    "            axarr[nbwave -1 -k, nbfiber - i -1].set_ylabel(f\"{wave:.2f}\")\n",
    "            axarr[nbwave -1 -k, nbfiber - i -1].set_xlabel(fiber)\n",
    "\n",
    "                \n",
    "    f.subplots_adjust(hspace=0.5,wspace=0.5)\n",
    "    for ax0 in axarr:\n",
    "        for ax in ax0:\n",
    "            ax.set_ylabel(ax.get_ylabel(), rotation='horizontal', ha='right', fontsize=20)\n",
    "            ax.set_xlabel(ax.get_xlabel(), rotation='vertical', fontsize=20)\n",
    "            ax.set_yticklabels('')\n",
    "            ax.set_xticklabels('')\n",
    "            ax.set_frame_on(False)\n",
    "    plt.gcf().set_facecolor('w')\n",
    "    plt.grid(None)             \n",
    "    plt.show()\n"
   ]
  },
  {
   "cell_type": "code",
   "execution_count": 5,
   "metadata": {},
   "outputs": [],
   "source": [
    "def plotRoiPeak(image, peak_list, roi_size=20, raw=False, scale=True, verbose=False, savePlotFile=False):\n",
    "    if type(image) is str:     \n",
    "        hdulist = fits.open(image, \"readonly\")\n",
    "        image = hdulist[1].data\n",
    "    \n",
    "    plist = pd.read_csv(peak_list) if type(peak_list) is str else peak_list\n",
    "\n",
    "#    plist = plist.sort_values([\"X\",\"Y\"], ascending=[True,False])\n",
    "    \n",
    "    nbfiber = len(plist.fiber.unique())\n",
    "    nbwave = len(plist.wavelength.unique())\n",
    "    # have a list of fiber from 0 to nbfiber\n",
    "    listwavestoplot = pd.DataFrame(plist.wavelength.unique(), columns=[\"wavelength\"])\n",
    "\n",
    "    listfiberstoplot = pd.DataFrame(plist.fiber.unique(), columns=[\"fiber\"])\n",
    "    \n",
    "    print(\"#Fiber= %d and #wavelength= %d\"%(nbfiber, nbwave))\n",
    "    f, axarr = plt.subplots(nbwave, nbfiber,  sharex='col', sharey='row',figsize=(12,8))\n",
    "#    print(axarr.shape)\n",
    "    vmin=None\n",
    "    vmax=None\n",
    "    \n",
    "    for (wave, fiber), group in plist.groupby(['wavelength','fiber']):\n",
    "        k = listwavestoplot[listwavestoplot.wavelength == wave].index.tolist()[0]\n",
    "        i = listfiberstoplot[listfiberstoplot.fiber == fiber].index.tolist()[0]\n",
    "        if verbose:\n",
    "            print(k,i)\n",
    "            print(f\"px {group['px']}    py: {group['py']}\")\n",
    "        #cut_data = image[int(indx-roi_size/2):int(indx+roi_size/2), int(indy-roi_size/2):int(indy+roi_size/2)]\n",
    "        cut_data = selectRoi(image, group[\"px\"], group[\"py\"], roi_size=roi_size)\n",
    "        if nbwave == 1 and nbfiber == 1:\n",
    "            axarr.set_title(f\"{str(fiber)}, {str(wave)}\")\n",
    "            axarr.imshow(cut_data,interpolation=\"none\", origin=\"lower\", vmin=vmin, vmax=vmax)\n",
    "        else:\n",
    "            #axarr[nbwave -1 -k, nbfiber - i -1].set_title(f\"{fiber}, {wave:.2f}\")\n",
    "            #axarr[nbwave -1 -k, nbfiber - i -1].label_outer()\n",
    "            axarr[nbwave -1 -k, nbfiber - i -1].imshow(cut_data,interpolation=\"none\", origin=\"lower\", vmin=vmin, vmax=vmax)\n",
    "#            axarr[nbwave -1 -k, nbfiber - i -1].set_ylabel(f\"{wave:.2f}\")\n",
    "#            axarr[nbwave -1 -k, nbfiber - i -1].set_xlabel(fiber)\n",
    "            axarr[nbwave -1 -k, nbfiber - i -1].grid(False)\n",
    "\n",
    "                \n",
    "    f.subplots_adjust(hspace=0.5,wspace=0.5)\n",
    "\n",
    "    for ax, wave in zip(axarr[:,0], listwavestoplot.sort_index(ascending=False).wavelength.values) :\n",
    "            ax.set_ylabel(f\"{wave:.2f}\", rotation='horizontal', ha='right', fontsize=20)\n",
    "#            ax.set_xlabel(ax.get_xlabel(), rotation='vertical', fontsize=20)\n",
    "            ax.set_yticklabels('')\n",
    "            ax.set_xticklabels('')\n",
    "            ax.set_frame_on(False)\n",
    "    for ax, fiber in zip(axarr[-1,:], listfiberstoplot.sort_index(ascending=False).fiber.values):\n",
    "#            ax.set_ylabel(ax.get_ylabel(), rotation='horizontal', ha='right', fontsize=20)\n",
    "            ax.set_xlabel(fiber, rotation='vertical', fontsize=20)\n",
    "            ax.set_yticklabels('')\n",
    "            ax.set_xticklabels('')\n",
    "            ax.set_frame_on(False)\n",
    "\n",
    "    plt.gcf().set_facecolor('w')\n",
    "    if doSave:\n",
    "        fig.patch.set_alpha(0.5)\n",
    "        plt.savefig(savePlotFile+f\"_roi_all.png\")\n",
    "                  \n",
    "    plt.show()\n"
   ]
  },
  {
   "cell_type": "code",
   "execution_count": null,
   "metadata": {},
   "outputs": [],
   "source": []
  },
  {
   "cell_type": "code",
   "execution_count": null,
   "metadata": {},
   "outputs": [],
   "source": []
  },
  {
   "cell_type": "code",
   "execution_count": null,
   "metadata": {},
   "outputs": [],
   "source": []
  },
  {
   "cell_type": "code",
   "execution_count": 6,
   "metadata": {},
   "outputs": [],
   "source": [
    "cluster = True"
   ]
  },
  {
   "cell_type": "raw",
   "metadata": {
    "lines_to_next_cell": 2
   },
   "source": [
    "if cluster :\n",
    "    imgPath = '/net/SRVSTK20C/drp/fmadec/analysis/subaru/sm1/'\n",
    "    dataPath = \"/net/SRVSTK20C/drp/fmadec/analysis/subaru/sm1/\"\n",
    "    drpPath = \"/net/SRVSTK20C/drp/cluster\"\n",
    "    repo = \"repo\"\n",
    "else:\n",
    "    imgPath = '/home/fmadec/Pictures/analysis/'\n",
    "    dataPath = imgPath\n",
    "    drpPath = \"/home/fmadec/pfs/subaruData/\"    \n",
    "    repo = \"drp\"\n"
   ]
  },
  {
   "cell_type": "code",
   "execution_count": 7,
   "metadata": {
    "lines_to_next_cell": 2
   },
   "outputs": [],
   "source": [
    "if cluster :\n",
    "    imgPath = '/net/SRVSTK20C/drp/fmadec/analysis/subaru/sm1/'\n",
    "    dataPath = \"/net/SRVSTK20C/drp/fmadec/analysis/subaru/sm1/\"\n",
    "    drpPath = \"/net/SRVSTK20C/drp/cluster\"\n",
    "    repo = \"repo\"\n",
    "else:\n",
    "    imgPath = '/media/fmadec/PfsData/PFS/fmadec/analysis/subaru/sm1/'\n",
    "    dataPath = imgPath\n",
    "    drpPath = \"/home/fmadec/pfs/subaruData/\"    \n",
    "    repo = \"sm1-newfoc-20200721\"\n",
    "    repo = \"sm1\""
   ]
  },
  {
   "cell_type": "code",
   "execution_count": null,
   "metadata": {
    "lines_to_next_cell": 2
   },
   "outputs": [],
   "source": []
  },
  {
   "cell_type": "code",
   "execution_count": 8,
   "metadata": {},
   "outputs": [],
   "source": [
    "verbose = True"
   ]
  },
  {
   "cell_type": "code",
   "execution_count": 9,
   "metadata": {},
   "outputs": [],
   "source": [
    "# \n",
    "ExpIds = [169]\n",
    "rerun = \"sm1-octob2020\" #\"sm1-march2020\"\n",
    "cam = \"r1\"\n",
    "roi_size = 24\n",
    "doBck = True\n",
    "\n",
    "Sources = [\"hgar\"]"
   ]
  },
  {
   "cell_type": "code",
   "execution_count": 10,
   "metadata": {},
   "outputs": [
    {
     "name": "stdout",
     "output_type": "stream",
     "text": [
      "r 1\n"
     ]
    }
   ],
   "source": [
    "#repo = \"drp\"\n",
    "#drpPath = \"/home/fmadec/pfs/subaruData/\"\n",
    "arm = cam[0]\n",
    "sm = int(cam[1])\n",
    "print(arm, sm)"
   ]
  },
  {
   "cell_type": "code",
   "execution_count": 11,
   "metadata": {},
   "outputs": [],
   "source": [
    "SM = \"SM1\"\n",
    "site = \"Subaru\""
   ]
  },
  {
   "cell_type": "raw",
   "metadata": {},
   "source": [
    "ExpIds = [experimentId] #, 250]"
   ]
  },
  {
   "cell_type": "code",
   "execution_count": null,
   "metadata": {},
   "outputs": [],
   "source": []
  },
  {
   "cell_type": "code",
   "execution_count": 12,
   "metadata": {},
   "outputs": [],
   "source": [
    "#extra = \"Imqual_LAM_peaklist_2020July\"\n",
    "extra = \"\""
   ]
  },
  {
   "cell_type": "code",
   "execution_count": 13,
   "metadata": {},
   "outputs": [
    {
     "name": "stdout",
     "output_type": "stream",
     "text": [
      "/net/SRVSTK20C/drp/fmadec/analysis/subaru/sm1/Exp169/sm1-octob2020_roi24/doBckTrue/Imquality_r1_Exp169*\n",
      "/net/SRVSTK20C/drp/fmadec/analysis/subaru/sm1/Exp169/sm1-octob2020_roi24/doBckTrue/Imquality_r1_Exp169_1990_20201103T10h22.csv\n",
      "/net/SRVSTK20C/drp/fmadec/analysis/subaru/sm1/Exp169/sm1-octob2020_roi24/doBckTrue/Imquality_r1_Exp169_2002_20201103T10h22.csv\n",
      "/net/SRVSTK20C/drp/fmadec/analysis/subaru/sm1/Exp169/sm1-octob2020_roi24/doBckTrue/Imquality_r1_Exp169_1980_20201103T10h29.csv\n",
      "/net/SRVSTK20C/drp/fmadec/analysis/subaru/sm1/Exp169/sm1-octob2020_roi24/doBckTrue/Imquality_r1_Exp169_2012_20201103T10h29.csv\n",
      "/net/SRVSTK20C/drp/fmadec/analysis/subaru/sm1/Exp169/sm1-octob2020_roi24/doBckTrue/Imquality_r1_Exp169_1971_20201103T10h28.csv\n",
      "/net/SRVSTK20C/drp/fmadec/analysis/subaru/sm1/Exp169/sm1-octob2020_roi24/doBckTrue/Imquality_r1_Exp169_1983_20201103T10h22.csv\n",
      "/net/SRVSTK20C/drp/fmadec/analysis/subaru/sm1/Exp169/sm1-octob2020_roi24/doBckTrue/Imquality_r1_Exp169_2011_20201103T10h22.csv\n",
      "/net/SRVSTK20C/drp/fmadec/analysis/subaru/sm1/Exp169/sm1-octob2020_roi24/doBckTrue/Imquality_r1_Exp169_1970_20201103T10h22.csv\n",
      "/net/SRVSTK20C/drp/fmadec/analysis/subaru/sm1/Exp169/sm1-octob2020_roi24/doBckTrue/Imquality_r1_Exp169_1982_20201103T10h28.csv\n",
      "/net/SRVSTK20C/drp/fmadec/analysis/subaru/sm1/Exp169/sm1-octob2020_roi24/doBckTrue/Imquality_r1_Exp169_1993_20201103T10h29.csv\n",
      "/net/SRVSTK20C/drp/fmadec/analysis/subaru/sm1/Exp169/sm1-octob2020_roi24/doBckTrue/Imquality_r1_Exp169_2001_20201103T10h29.csv\n",
      "/net/SRVSTK20C/drp/fmadec/analysis/subaru/sm1/Exp169/sm1-octob2020_roi24/doBckTrue/Imquality_r1_Exp169_1974_20201103T10h29.csv\n",
      "/net/SRVSTK20C/drp/fmadec/analysis/subaru/sm1/Exp169/sm1-octob2020_roi24/doBckTrue/Imquality_r1_Exp169_2015_20201103T10h29.csv\n",
      "/net/SRVSTK20C/drp/fmadec/analysis/subaru/sm1/Exp169/sm1-octob2020_roi24/doBckTrue/Imquality_r1_Exp169_1988_20201103T10h22.csv\n",
      "/net/SRVSTK20C/drp/fmadec/analysis/subaru/sm1/Exp169/sm1-octob2020_roi24/doBckTrue/Imquality_r1_Exp169_2005_20201103T10h22.csv\n",
      "/net/SRVSTK20C/drp/fmadec/analysis/subaru/sm1/Exp169/sm1-octob2020_roi24/doBckTrue/Imquality_r1_Exp169_1998_20201103T10h29.csv\n",
      "/net/SRVSTK20C/drp/fmadec/analysis/subaru/sm1/Exp169/sm1-octob2020_roi24/doBckTrue/Imquality_r1_Exp169_1997_20201103T10h22.csv\n",
      "/net/SRVSTK20C/drp/fmadec/analysis/subaru/sm1/Exp169/sm1-octob2020_roi24/doBckTrue/Imquality_r1_Exp169_2006_20201103T10h29.csv\n",
      "/net/SRVSTK20C/drp/fmadec/analysis/subaru/sm1/Exp169/sm1-octob2020_roi24/doBckTrue/Imquality_r1_Exp169_1968_20201103T10h22.csv\n",
      "/net/SRVSTK20C/drp/fmadec/analysis/subaru/sm1/Exp169/sm1-octob2020_roi24/doBckTrue/Imquality_r1_Exp169_2009_20201103T10h22.csv\n",
      "/net/SRVSTK20C/drp/fmadec/analysis/subaru/sm1/Exp169/sm1-octob2020_roi24/doBckTrue/Imquality_r1_Exp169_1969_20201103T10h28.csv\n",
      "/net/SRVSTK20C/drp/fmadec/analysis/subaru/sm1/Exp169/sm1-octob2020_roi24/doBckTrue/Imquality_r1_Exp169_1994_20201103T10h29.csv\n",
      "/net/SRVSTK20C/drp/fmadec/analysis/subaru/sm1/Exp169/sm1-octob2020_roi24/doBckTrue/Imquality_r1_Exp169_1977_20201103T10h22.csv\n",
      "/net/SRVSTK20C/drp/fmadec/analysis/subaru/sm1/Exp169/sm1-octob2020_roi24/doBckTrue/Imquality_r1_Exp169_2016_20201103T10h22.csv\n",
      "/net/SRVSTK20C/drp/fmadec/analysis/subaru/sm1/Exp169/sm1-octob2020_roi24/doBckTrue/Imquality_r1_Exp169_1985_20201103T10h28.csv\n",
      "/net/SRVSTK20C/drp/fmadec/analysis/subaru/sm1/Exp169/sm1-octob2020_roi24/doBckTrue/Imquality_r1_Exp169_1984_20201103T10h22.csv\n",
      "/net/SRVSTK20C/drp/fmadec/analysis/subaru/sm1/Exp169/sm1-octob2020_roi24/doBckTrue/Imquality_r1_Exp169_1992_20201103T10h22.csv\n",
      "/net/SRVSTK20C/drp/fmadec/analysis/subaru/sm1/Exp169/sm1-octob2020_roi24/doBckTrue/Imquality_r1_Exp169_2000_20201103T10h22.csv\n",
      "/net/SRVSTK20C/drp/fmadec/analysis/subaru/sm1/Exp169/sm1-octob2020_roi24/doBckTrue/Imquality_r1_Exp169_2010_20201103T10h29.csv\n",
      "/net/SRVSTK20C/drp/fmadec/analysis/subaru/sm1/Exp169/sm1-octob2020_roi24/doBckTrue/Imquality_r1_Exp169_1981_20201103T10h22.csv\n",
      "/net/SRVSTK20C/drp/fmadec/analysis/subaru/sm1/Exp169/sm1-octob2020_roi24/doBckTrue/Imquality_r1_Exp169_1973_20201103T10h28.csv\n",
      "/net/SRVSTK20C/drp/fmadec/analysis/subaru/sm1/Exp169/sm1-octob2020_roi24/doBckTrue/Imquality_r1_Exp169_1972_20201103T10h22.csv\n",
      "/net/SRVSTK20C/drp/fmadec/analysis/subaru/sm1/Exp169/sm1-octob2020_roi24/doBckTrue/Imquality_r1_Exp169_2013_20201103T10h22.csv\n",
      "/net/SRVSTK20C/drp/fmadec/analysis/subaru/sm1/Exp169/sm1-octob2020_roi24/doBckTrue/Imquality_r1_Exp169_1991_20201103T10h29.csv\n",
      "/net/SRVSTK20C/drp/fmadec/analysis/subaru/sm1/Exp169/sm1-octob2020_roi24/doBckTrue/Imquality_r1_Exp169_2003_20201103T10h29.csv\n",
      "/net/SRVSTK20C/drp/fmadec/analysis/subaru/sm1/Exp169/sm1-octob2020_roi24/doBckTrue/Imquality_r1_Exp169_1976_20201103T10h29.csv\n",
      "/net/SRVSTK20C/drp/fmadec/analysis/subaru/sm1/Exp169/sm1-octob2020_roi24/doBckTrue/Imquality_r1_Exp169_1979_20201103T10h22.csv\n",
      "/net/SRVSTK20C/drp/fmadec/analysis/subaru/sm1/Exp169/sm1-octob2020_roi24/doBckTrue/Imquality_r1_Exp169_1978_20201103T10h28.csv\n",
      "/net/SRVSTK20C/drp/fmadec/analysis/subaru/sm1/Exp169/sm1-octob2020_roi24/doBckTrue/Imquality_r1_Exp169_2008_20201103T10h29.csv\n",
      "/net/SRVSTK20C/drp/fmadec/analysis/subaru/sm1/Exp169/sm1-octob2020_roi24/doBckTrue/Imquality_r1_Exp169_2007_20201103T10h22.csv\n",
      "/net/SRVSTK20C/drp/fmadec/analysis/subaru/sm1/Exp169/sm1-octob2020_roi24/doBckTrue/Imquality_r1_Exp169_1995_20201103T10h22.csv\n",
      "/net/SRVSTK20C/drp/fmadec/analysis/subaru/sm1/Exp169/sm1-octob2020_roi24/doBckTrue/Imquality_r1_Exp169_1967_20201103T10h28.csv\n",
      "/net/SRVSTK20C/drp/fmadec/analysis/subaru/sm1/Exp169/sm1-octob2020_roi24/doBckTrue/Imquality_r1_Exp169_2004_20201103T10h29.csv\n",
      "/net/SRVSTK20C/drp/fmadec/analysis/subaru/sm1/Exp169/sm1-octob2020_roi24/doBckTrue/Imquality_r1_Exp169_1996_20201103T10h29.csv\n",
      "/net/SRVSTK20C/drp/fmadec/analysis/subaru/sm1/Exp169/sm1-octob2020_roi24/doBckTrue/Imquality_r1_Exp169_1999_20201103T10h22.csv\n",
      "/net/SRVSTK20C/drp/fmadec/analysis/subaru/sm1/Exp169/sm1-octob2020_roi24/doBckTrue/Imquality_r1_Exp169_1987_20201103T10h28.csv\n",
      "/net/SRVSTK20C/drp/fmadec/analysis/subaru/sm1/Exp169/sm1-octob2020_roi24/doBckTrue/Imquality_r1_Exp169_2014_20201103T10h22.csv\n",
      "/net/SRVSTK20C/drp/fmadec/analysis/subaru/sm1/Exp169/sm1-octob2020_roi24/doBckTrue/Imquality_r1_Exp169_1975_20201103T10h22.csv\n",
      "/net/SRVSTK20C/drp/fmadec/analysis/subaru/sm1/Exp169/sm1-octob2020_roi24/doBckTrue/Imquality_r1_Exp169_1989_20201103T10h29.csv\n",
      "/net/SRVSTK20C/drp/fmadec/analysis/subaru/sm1/Exp169/sm1-octob2020_roi24/doBckTrue/Imquality_r1_Exp169_1986_20201103T10h22.csv\n",
      "/net/SRVSTK20C/drp/fmadec/analysis/subaru/sm1/Exp169/sm1-octob2020_roi24/doBckTrue/Imquality_r1_Exp169_2009_20201103T10h29.csv\n",
      "/net/SRVSTK20C/drp/fmadec/analysis/subaru/sm1/Exp169/sm1-octob2020_roi24/doBckTrue/Imquality_r1_Exp169_1967_20201103T10h22.csv\n",
      "/net/SRVSTK20C/drp/fmadec/analysis/subaru/sm1/Exp169/sm1-octob2020_roi24/doBckTrue/Imquality_r1_Exp169_2006_20201103T10h22.csv\n",
      "/net/SRVSTK20C/drp/fmadec/analysis/subaru/sm1/Exp169/sm1-octob2020_roi24/doBckTrue/Imquality_r1_Exp169_1994_20201103T10h22.csv\n",
      "/net/SRVSTK20C/drp/fmadec/analysis/subaru/sm1/Exp169/sm1-octob2020_roi24/doBckTrue/Imquality_r1_Exp169_2016_20201103T10h29.csv\n",
      "/net/SRVSTK20C/drp/fmadec/analysis/subaru/sm1/Exp169/sm1-octob2020_roi24/doBckTrue/Imquality_r1_Exp169_1977_20201103T10h29.csv\n",
      "/net/SRVSTK20C/drp/fmadec/analysis/subaru/sm1/Exp169/sm1-octob2020_roi24/doBckTrue/Imquality_r1_Exp169_1978_20201103T10h22.csv\n",
      "/net/SRVSTK20C/drp/fmadec/analysis/subaru/sm1/Exp169/sm1-octob2020_roi24/doBckTrue/Imquality_r1_Exp169_1986_20201103T10h28.csv\n",
      "/net/SRVSTK20C/drp/fmadec/analysis/subaru/sm1/Exp169/sm1-octob2020_roi24/doBckTrue/Imquality_r1_Exp169_2015_20201103T10h22.csv\n",
      "/net/SRVSTK20C/drp/fmadec/analysis/subaru/sm1/Exp169/sm1-octob2020_roi24/doBckTrue/Imquality_r1_Exp169_1974_20201103T10h22.csv\n",
      "/net/SRVSTK20C/drp/fmadec/analysis/subaru/sm1/Exp169/sm1-octob2020_roi24/doBckTrue/Imquality_r1_Exp169_1988_20201103T10h29.csv\n",
      "/net/SRVSTK20C/drp/fmadec/analysis/subaru/sm1/Exp169/sm1-octob2020_roi24/doBckTrue/Imquality_r1_Exp169_1987_20201103T10h22.csv\n",
      "/net/SRVSTK20C/drp/fmadec/analysis/subaru/sm1/Exp169/sm1-octob2020_roi24/doBckTrue/Imquality_r1_Exp169_2005_20201103T10h29.csv\n",
      "/net/SRVSTK20C/drp/fmadec/analysis/subaru/sm1/Exp169/sm1-octob2020_roi24/doBckTrue/Imquality_r1_Exp169_1997_20201103T10h29.csv\n",
      "/net/SRVSTK20C/drp/fmadec/analysis/subaru/sm1/Exp169/sm1-octob2020_roi24/doBckTrue/Imquality_r1_Exp169_1998_20201103T10h22.csv\n",
      "/net/SRVSTK20C/drp/fmadec/analysis/subaru/sm1/Exp169/sm1-octob2020_roi24/doBckTrue/Imquality_r1_Exp169_2011_20201103T10h29.csv\n",
      "/net/SRVSTK20C/drp/fmadec/analysis/subaru/sm1/Exp169/sm1-octob2020_roi24/doBckTrue/Imquality_r1_Exp169_1993_20201103T10h22.csv\n",
      "/net/SRVSTK20C/drp/fmadec/analysis/subaru/sm1/Exp169/sm1-octob2020_roi24/doBckTrue/Imquality_r1_Exp169_2001_20201103T10h22.csv\n",
      "/net/SRVSTK20C/drp/fmadec/analysis/subaru/sm1/Exp169/sm1-octob2020_roi24/doBckTrue/Imquality_r1_Exp169_1990_20201103T10h29.csv\n",
      "/net/SRVSTK20C/drp/fmadec/analysis/subaru/sm1/Exp169/sm1-octob2020_roi24/doBckTrue/Imquality_r1_Exp169_2002_20201103T10h29.csv\n",
      "/net/SRVSTK20C/drp/fmadec/analysis/subaru/sm1/Exp169/sm1-octob2020_roi24/doBckTrue/Imquality_r1_Exp169_1980_20201103T10h22.csv\n",
      "/net/SRVSTK20C/drp/fmadec/analysis/subaru/sm1/Exp169/sm1-octob2020_roi24/doBckTrue/Imquality_r1_Exp169_1972_20201103T10h28.csv\n",
      "/net/SRVSTK20C/drp/fmadec/analysis/subaru/sm1/Exp169/sm1-octob2020_roi24/doBckTrue/Imquality_r1_Exp169_1973_20201103T10h22.csv\n",
      "/net/SRVSTK20C/drp/fmadec/analysis/subaru/sm1/Exp169/sm1-octob2020_roi24/doBckTrue/Imquality_r1_Exp169_2012_20201103T10h22.csv\n",
      "/net/SRVSTK20C/drp/fmadec/analysis/subaru/sm1/Exp169/sm1-octob2020_roi24/doBckTrue/Imquality_r1_Exp169_2004_20201103T10h22.csv\n",
      "/net/SRVSTK20C/drp/fmadec/analysis/subaru/sm1/Exp169/sm1-octob2020_roi24/doBckTrue/Imquality_r1_Exp169_1999_20201103T10h29.csv\n",
      "/net/SRVSTK20C/drp/fmadec/analysis/subaru/sm1/Exp169/sm1-octob2020_roi24/doBckTrue/Imquality_r1_Exp169_1996_20201103T10h22.csv\n",
      "/net/SRVSTK20C/drp/fmadec/analysis/subaru/sm1/Exp169/sm1-octob2020_roi24/doBckTrue/Imquality_r1_Exp169_1975_20201103T10h29.csv\n",
      "/net/SRVSTK20C/drp/fmadec/analysis/subaru/sm1/Exp169/sm1-octob2020_roi24/doBckTrue/Imquality_r1_Exp169_2014_20201103T10h29.csv\n",
      "/net/SRVSTK20C/drp/fmadec/analysis/subaru/sm1/Exp169/sm1-octob2020_roi24/doBckTrue/Imquality_r1_Exp169_1989_20201103T10h22.csv\n",
      "/net/SRVSTK20C/drp/fmadec/analysis/subaru/sm1/Exp169/sm1-octob2020_roi24/doBckTrue/Imquality_r1_Exp169_1979_20201103T10h29.csv\n",
      "/net/SRVSTK20C/drp/fmadec/analysis/subaru/sm1/Exp169/sm1-octob2020_roi24/doBckTrue/Imquality_r1_Exp169_1976_20201103T10h22.csv\n",
      "/net/SRVSTK20C/drp/fmadec/analysis/subaru/sm1/Exp169/sm1-octob2020_roi24/doBckTrue/Imquality_r1_Exp169_1984_20201103T10h28.csv\n",
      "/net/SRVSTK20C/drp/fmadec/analysis/subaru/sm1/Exp169/sm1-octob2020_roi24/doBckTrue/Imquality_r1_Exp169_1985_20201103T10h22.csv\n",
      "/net/SRVSTK20C/drp/fmadec/analysis/subaru/sm1/Exp169/sm1-octob2020_roi24/doBckTrue/Imquality_r1_Exp169_2007_20201103T10h29.csv\n",
      "/net/SRVSTK20C/drp/fmadec/analysis/subaru/sm1/Exp169/sm1-octob2020_roi24/doBckTrue/Imquality_r1_Exp169_1969_20201103T10h22.csv\n",
      "/net/SRVSTK20C/drp/fmadec/analysis/subaru/sm1/Exp169/sm1-octob2020_roi24/doBckTrue/Imquality_r1_Exp169_2008_20201103T10h22.csv\n",
      "/net/SRVSTK20C/drp/fmadec/analysis/subaru/sm1/Exp169/sm1-octob2020_roi24/doBckTrue/Imquality_r1_Exp169_1968_20201103T10h28.csv\n",
      "/net/SRVSTK20C/drp/fmadec/analysis/subaru/sm1/Exp169/sm1-octob2020_roi24/doBckTrue/Imquality_r1_Exp169_1995_20201103T10h29.csv\n",
      "/net/SRVSTK20C/drp/fmadec/analysis/subaru/sm1/Exp169/sm1-octob2020_roi24/doBckTrue/Imquality_r1_Exp169_1981_20201103T10h29.csv\n",
      "/net/SRVSTK20C/drp/fmadec/analysis/subaru/sm1/Exp169/sm1-octob2020_roi24/doBckTrue/Imquality_r1_Exp169_2013_20201103T10h29.csv\n",
      "/net/SRVSTK20C/drp/fmadec/analysis/subaru/sm1/Exp169/sm1-octob2020_roi24/doBckTrue/Imquality_r1_Exp169_1991_20201103T10h22.csv\n",
      "/net/SRVSTK20C/drp/fmadec/analysis/subaru/sm1/Exp169/sm1-octob2020_roi24/doBckTrue/Imquality_r1_Exp169_2003_20201103T10h22.csv\n",
      "/net/SRVSTK20C/drp/fmadec/analysis/subaru/sm1/Exp169/sm1-octob2020_roi24/doBckTrue/Imquality_r1_Exp169_1992_20201103T10h29.csv\n",
      "/net/SRVSTK20C/drp/fmadec/analysis/subaru/sm1/Exp169/sm1-octob2020_roi24/doBckTrue/Imquality_r1_Exp169_2000_20201103T10h29.csv\n",
      "/net/SRVSTK20C/drp/fmadec/analysis/subaru/sm1/Exp169/sm1-octob2020_roi24/doBckTrue/Imquality_r1_Exp169_1970_20201103T10h28.csv\n",
      "/net/SRVSTK20C/drp/fmadec/analysis/subaru/sm1/Exp169/sm1-octob2020_roi24/doBckTrue/Imquality_r1_Exp169_1982_20201103T10h22.csv\n",
      "/net/SRVSTK20C/drp/fmadec/analysis/subaru/sm1/Exp169/sm1-octob2020_roi24/doBckTrue/Imquality_r1_Exp169_2010_20201103T10h22.csv\n",
      "/net/SRVSTK20C/drp/fmadec/analysis/subaru/sm1/Exp169/sm1-octob2020_roi24/doBckTrue/Imquality_r1_Exp169_1971_20201103T10h22.csv\n",
      "/net/SRVSTK20C/drp/fmadec/analysis/subaru/sm1/Exp169/sm1-octob2020_roi24/doBckTrue/Imquality_r1_Exp169_1983_20201103T10h28.csv\n"
     ]
    }
   ],
   "source": [
    "files = []\n",
    "for ExpId in ExpIds :\n",
    "    csvPath = imgPath+\"Exp\"+str(ExpId)+\"/\"+rerun+\"_roi\"+str(roi_size)+\"/doBck\"+str(doBck)+\"/\"+extra\n",
    "    dataPath = csvPath\n",
    "#    print(dataPath)\n",
    "\n",
    "    searchFile = f\"{csvPath}Imquality_{cam}_Exp{ExpId}*\"\n",
    "    print(searchFile)\n",
    "    files.extend(glob.glob(f\"{searchFile}\"))\n",
    "\n",
    "if verbose:\n",
    "    print(*files, sep=\"\\n\")"
   ]
  },
  {
   "cell_type": "code",
   "execution_count": 14,
   "metadata": {},
   "outputs": [],
   "source": [
    "filelist = files"
   ]
  },
  {
   "cell_type": "code",
   "execution_count": 15,
   "metadata": {},
   "outputs": [
    {
     "name": "stdout",
     "output_type": "stream",
     "text": [
      "/net/SRVSTK20C/drp/fmadec/analysis/subaru/sm1/SM1_Subaru_r1_ExpIds_169_hgar_doBckTrue\n",
      "/net/SRVSTK20C/drp/fmadec/analysis/subaru/sm1/SM1_Subaru_r1_ExpIds_169_hgar_scatter_doBckTrue\n",
      "SM1 Subaru r1 ExpIds 169 hgar\n",
      "doBckTrue\n"
     ]
    }
   ],
   "source": [
    "comment = extra + f\"doBck{doBck}\"\n",
    "savePlotFile = imgPath+f\"{SM}_{site}_{cam}_ExpIds_{'-'.join(str(x) for x in ExpIds)}_{'-'.join(str(x) for x in Sources)}\"\n",
    "savePlotFile = savePlotFile+f\"_{comment}\"\n",
    "print(savePlotFile)\n",
    "savePlotScatterFile = imgPath+f\"{SM}_{site}_{cam}_ExpIds_{'-'.join(str(x) for x in ExpIds)}_{'-'.join(str(x) for x in Sources)}_scatter\"\n",
    "savePlotScatterFile = savePlotScatterFile+f\"_{comment}\"\n",
    "print(savePlotScatterFile)\n",
    "title = f\"{SM} {site} {cam} ExpIds {' '.join(str(x) for x in ExpIds)} {' '.join(str(x) for x in Sources)}\"\n",
    "title = title + f\"\\n{comment}\"\n",
    "print(title)"
   ]
  },
  {
   "cell_type": "raw",
   "metadata": {},
   "source": [
    "print(filelist)"
   ]
  },
  {
   "cell_type": "code",
   "execution_count": 16,
   "metadata": {
    "lines_to_next_cell": 2
   },
   "outputs": [],
   "source": [
    "ob = pd.concat([pd.read_csv(filen) for filen in filelist ], ignore_index=True)\n",
    "#ob = pd.concat(map(pd.read_csv,files)).reset_index().sort_values(by=\"motor1\")\n"
   ]
  },
  {
   "cell_type": "code",
   "execution_count": 17,
   "metadata": {},
   "outputs": [],
   "source": [
    "ob[\"sep_2ndM\"]= ob.apply(lambda x: np.mean([x[\"sep_x2\"],x[\"sep_y2\"]]) , axis=1)"
   ]
  },
  {
   "cell_type": "code",
   "execution_count": null,
   "metadata": {},
   "outputs": [],
   "source": []
  },
  {
   "cell_type": "code",
   "execution_count": 18,
   "metadata": {},
   "outputs": [
    {
     "data": {
      "text/plain": [
       "array(['Ar'], dtype=object)"
      ]
     },
     "execution_count": 18,
     "metadata": {},
     "output_type": "execute_result"
    }
   ],
   "source": [
    "ob.element.unique()"
   ]
  },
  {
   "cell_type": "code",
   "execution_count": 19,
   "metadata": {},
   "outputs": [
    {
     "data": {
      "text/plain": [
       "array([696.7352, 727.494 , 795.0362, 912.5471, 966.0435])"
      ]
     },
     "execution_count": 19,
     "metadata": {},
     "output_type": "execute_result"
    }
   ],
   "source": [
    "ob.wavelength.unique()"
   ]
  },
  {
   "cell_type": "code",
   "execution_count": 20,
   "metadata": {},
   "outputs": [
    {
     "data": {
      "text/plain": [
       "'Imquality_r1_Exp169_1990_20201103T10h22.csv'"
      ]
     },
     "execution_count": 20,
     "metadata": {},
     "output_type": "execute_result"
    }
   ],
   "source": [
    "filelist[0].split('/')[-1]"
   ]
  },
  {
   "cell_type": "code",
   "execution_count": null,
   "metadata": {},
   "outputs": [],
   "source": []
  },
  {
   "cell_type": "markdown",
   "metadata": {},
   "source": [
    "# do some filtering if needed/wanted"
   ]
  },
  {
   "cell_type": "code",
   "execution_count": 21,
   "metadata": {},
   "outputs": [],
   "source": [
    "df = ob"
   ]
  },
  {
   "cell_type": "code",
   "execution_count": 22,
   "metadata": {},
   "outputs": [
    {
     "data": {
      "text/plain": [
       "100"
      ]
     },
     "execution_count": 22,
     "metadata": {},
     "output_type": "execute_result"
    }
   ],
   "source": [
    "len(ob[(ob.sep_flag >1) ])"
   ]
  },
  {
   "cell_type": "code",
   "execution_count": 23,
   "metadata": {},
   "outputs": [],
   "source": [
    "df = ob[(ob.sep_flag <1) ]"
   ]
  },
  {
   "cell_type": "code",
   "execution_count": 24,
   "metadata": {},
   "outputs": [
    {
     "name": "stdout",
     "output_type": "stream",
     "text": [
      "[696.7352 727.494  795.0362 912.5471 966.0435]\n"
     ]
    }
   ],
   "source": [
    "waves = ob.wavelength.unique()\n",
    "print(waves)"
   ]
  },
  {
   "cell_type": "code",
   "execution_count": 25,
   "metadata": {},
   "outputs": [
    {
     "name": "stdout",
     "output_type": "stream",
     "text": [
      "[  2  63 192 255 339 401 464 525 587 650]\n"
     ]
    }
   ],
   "source": [
    "fibers = ob.fiber.unique()\n",
    "print(fibers)"
   ]
  },
  {
   "cell_type": "markdown",
   "metadata": {},
   "source": [
    "####  Filtering of \n",
    "#ExpIds = [2605, 2606] \n",
    "#rerun = \"sm1-focus-sep2020\"\n",
    "#cam = \"r1\"\n",
    "#roi_size = 24\n",
    "#doBck = True\n",
    "\n",
    "#Sources = [\"argon\", \"neon\"] \n",
    "\n",
    "#because of saturation or CR\n",
    "\n",
    "ind_wave = 8\n",
    "print(waves[ind_wave])\n",
    "df = ob[ob.wavelength != waves[ind_wave]]\n",
    "\n",
    "ind_wave = 11\n",
    "print(waves[ind_wave])\n",
    "df = df[df.wavelength != waves[ind_wave]]\n",
    "\n",
    "df = df[(df.EE5>0.3) & (df.fwhm < 6) ] #=> checked CR "
   ]
  },
  {
   "cell_type": "code",
   "execution_count": 26,
   "metadata": {},
   "outputs": [
    {
     "name": "stdout",
     "output_type": "stream",
     "text": [
      "5104\n",
      "5004\n",
      "100\n",
      "1.9592476489028212\n"
     ]
    }
   ],
   "source": [
    "print(len(ob))\n",
    "print(len(df))\n",
    "print(len(ob)-len(df))\n",
    "print(100*(len(ob)-len(df))/len(ob))"
   ]
  },
  {
   "cell_type": "code",
   "execution_count": 27,
   "metadata": {},
   "outputs": [],
   "source": [
    "df = df[(df.sep_flag <1) ]"
   ]
  },
  {
   "cell_type": "raw",
   "metadata": {},
   "source": [
    "df[(df.wavelength == waves[ind_wave]) & (df.fiber == fibers[ind_fiber])].set_index([\"wavelength\", \"fiber\"])"
   ]
  },
  {
   "cell_type": "code",
   "execution_count": 28,
   "metadata": {},
   "outputs": [],
   "source": [
    "doSavePlot = True"
   ]
  },
  {
   "cell_type": "code",
   "execution_count": 29,
   "metadata": {},
   "outputs": [
    {
     "name": "stdout",
     "output_type": "stream",
     "text": [
      "490\n"
     ]
    }
   ],
   "source": [
    "pdf = df[(df.EE5<0.860)]\n",
    "print(len(pdf))"
   ]
  },
  {
   "cell_type": "code",
   "execution_count": null,
   "metadata": {},
   "outputs": [],
   "source": []
  },
  {
   "cell_type": "code",
   "execution_count": 30,
   "metadata": {},
   "outputs": [
    {
     "name": "stdout",
     "output_type": "stream",
     "text": [
      "22\n"
     ]
    }
   ],
   "source": [
    "pdf = df[(df.fwhm>3.5) | (df.fwhm<2.4)]\n",
    "print(len(pdf))"
   ]
  },
  {
   "cell_type": "code",
   "execution_count": 31,
   "metadata": {},
   "outputs": [
    {
     "data": {
      "text/html": [
       "<div>\n",
       "<style scoped>\n",
       "    .dataframe tbody tr th:only-of-type {\n",
       "        vertical-align: middle;\n",
       "    }\n",
       "\n",
       "    .dataframe tbody tr th {\n",
       "        vertical-align: top;\n",
       "    }\n",
       "\n",
       "    .dataframe thead th {\n",
       "        text-align: right;\n",
       "    }\n",
       "</style>\n",
       "<table border=\"1\" class=\"dataframe\">\n",
       "  <thead>\n",
       "    <tr style=\"text-align: right;\">\n",
       "      <th></th>\n",
       "      <th></th>\n",
       "      <th>fwhm</th>\n",
       "      <th>brightness</th>\n",
       "      <th>EE5</th>\n",
       "    </tr>\n",
       "    <tr>\n",
       "      <th>wavelength</th>\n",
       "      <th>fiber</th>\n",
       "      <th></th>\n",
       "      <th></th>\n",
       "      <th></th>\n",
       "    </tr>\n",
       "  </thead>\n",
       "  <tbody>\n",
       "    <tr>\n",
       "      <th>727.4940</th>\n",
       "      <th>464</th>\n",
       "      <td>1.997528</td>\n",
       "      <td>231.471704</td>\n",
       "      <td>0.023808</td>\n",
       "    </tr>\n",
       "    <tr>\n",
       "      <th rowspan=\"6\" valign=\"top\">966.0435</th>\n",
       "      <th>2</th>\n",
       "      <td>3.510655</td>\n",
       "      <td>1764.859491</td>\n",
       "      <td>0.800700</td>\n",
       "    </tr>\n",
       "    <tr>\n",
       "      <th>2</th>\n",
       "      <td>16.617537</td>\n",
       "      <td>1068.866394</td>\n",
       "      <td>0.212769</td>\n",
       "    </tr>\n",
       "    <tr>\n",
       "      <th>2</th>\n",
       "      <td>3.520367</td>\n",
       "      <td>1721.374321</td>\n",
       "      <td>0.793358</td>\n",
       "    </tr>\n",
       "    <tr>\n",
       "      <th>2</th>\n",
       "      <td>3.506437</td>\n",
       "      <td>1704.330314</td>\n",
       "      <td>0.792198</td>\n",
       "    </tr>\n",
       "    <tr>\n",
       "      <th>63</th>\n",
       "      <td>3.502807</td>\n",
       "      <td>1838.715801</td>\n",
       "      <td>0.812993</td>\n",
       "    </tr>\n",
       "    <tr>\n",
       "      <th>2</th>\n",
       "      <td>3.519449</td>\n",
       "      <td>1748.989867</td>\n",
       "      <td>0.797368</td>\n",
       "    </tr>\n",
       "    <tr>\n",
       "      <th>727.4940</th>\n",
       "      <th>192</th>\n",
       "      <td>2.287533</td>\n",
       "      <td>732.785004</td>\n",
       "      <td>0.073054</td>\n",
       "    </tr>\n",
       "    <tr>\n",
       "      <th>966.0435</th>\n",
       "      <th>2</th>\n",
       "      <td>3.522284</td>\n",
       "      <td>1721.506000</td>\n",
       "      <td>0.809540</td>\n",
       "    </tr>\n",
       "    <tr>\n",
       "      <th>727.4940</th>\n",
       "      <th>587</th>\n",
       "      <td>2.357612</td>\n",
       "      <td>645.591701</td>\n",
       "      <td>0.353725</td>\n",
       "    </tr>\n",
       "    <tr>\n",
       "      <th rowspan=\"2\" valign=\"top\">966.0435</th>\n",
       "      <th>2</th>\n",
       "      <td>3.503912</td>\n",
       "      <td>1739.666956</td>\n",
       "      <td>0.792652</td>\n",
       "    </tr>\n",
       "    <tr>\n",
       "      <th>63</th>\n",
       "      <td>3.502807</td>\n",
       "      <td>1838.715801</td>\n",
       "      <td>0.812993</td>\n",
       "    </tr>\n",
       "    <tr>\n",
       "      <th>727.4940</th>\n",
       "      <th>587</th>\n",
       "      <td>2.357612</td>\n",
       "      <td>645.591701</td>\n",
       "      <td>0.353725</td>\n",
       "    </tr>\n",
       "    <tr>\n",
       "      <th rowspan=\"3\" valign=\"top\">966.0435</th>\n",
       "      <th>2</th>\n",
       "      <td>3.520367</td>\n",
       "      <td>1721.374321</td>\n",
       "      <td>0.793358</td>\n",
       "    </tr>\n",
       "    <tr>\n",
       "      <th>2</th>\n",
       "      <td>3.503912</td>\n",
       "      <td>1739.666956</td>\n",
       "      <td>0.792652</td>\n",
       "    </tr>\n",
       "    <tr>\n",
       "      <th>2</th>\n",
       "      <td>3.506437</td>\n",
       "      <td>1704.330314</td>\n",
       "      <td>0.792198</td>\n",
       "    </tr>\n",
       "    <tr>\n",
       "      <th rowspan=\"2\" valign=\"top\">727.4940</th>\n",
       "      <th>464</th>\n",
       "      <td>1.997528</td>\n",
       "      <td>231.471704</td>\n",
       "      <td>0.023808</td>\n",
       "    </tr>\n",
       "    <tr>\n",
       "      <th>192</th>\n",
       "      <td>2.287533</td>\n",
       "      <td>732.785004</td>\n",
       "      <td>0.073054</td>\n",
       "    </tr>\n",
       "    <tr>\n",
       "      <th rowspan=\"4\" valign=\"top\">966.0435</th>\n",
       "      <th>2</th>\n",
       "      <td>3.522284</td>\n",
       "      <td>1721.506000</td>\n",
       "      <td>0.809540</td>\n",
       "    </tr>\n",
       "    <tr>\n",
       "      <th>2</th>\n",
       "      <td>3.519449</td>\n",
       "      <td>1748.989867</td>\n",
       "      <td>0.797368</td>\n",
       "    </tr>\n",
       "    <tr>\n",
       "      <th>2</th>\n",
       "      <td>3.510655</td>\n",
       "      <td>1764.859491</td>\n",
       "      <td>0.800700</td>\n",
       "    </tr>\n",
       "    <tr>\n",
       "      <th>2</th>\n",
       "      <td>16.617537</td>\n",
       "      <td>1068.866394</td>\n",
       "      <td>0.212769</td>\n",
       "    </tr>\n",
       "  </tbody>\n",
       "</table>\n",
       "</div>"
      ],
      "text/plain": [
       "                       fwhm   brightness       EE5\n",
       "wavelength fiber                                  \n",
       "727.4940   464     1.997528   231.471704  0.023808\n",
       "966.0435   2       3.510655  1764.859491  0.800700\n",
       "           2      16.617537  1068.866394  0.212769\n",
       "           2       3.520367  1721.374321  0.793358\n",
       "           2       3.506437  1704.330314  0.792198\n",
       "           63      3.502807  1838.715801  0.812993\n",
       "           2       3.519449  1748.989867  0.797368\n",
       "727.4940   192     2.287533   732.785004  0.073054\n",
       "966.0435   2       3.522284  1721.506000  0.809540\n",
       "727.4940   587     2.357612   645.591701  0.353725\n",
       "966.0435   2       3.503912  1739.666956  0.792652\n",
       "           63      3.502807  1838.715801  0.812993\n",
       "727.4940   587     2.357612   645.591701  0.353725\n",
       "966.0435   2       3.520367  1721.374321  0.793358\n",
       "           2       3.503912  1739.666956  0.792652\n",
       "           2       3.506437  1704.330314  0.792198\n",
       "727.4940   464     1.997528   231.471704  0.023808\n",
       "           192     2.287533   732.785004  0.073054\n",
       "966.0435   2       3.522284  1721.506000  0.809540\n",
       "           2       3.519449  1748.989867  0.797368\n",
       "           2       3.510655  1764.859491  0.800700\n",
       "           2      16.617537  1068.866394  0.212769"
      ]
     },
     "execution_count": 31,
     "metadata": {},
     "output_type": "execute_result"
    }
   ],
   "source": [
    "pdf.set_index([\"wavelength\", \"fiber\"])[[\"fwhm\", \"brightness\", \"EE5\"]]"
   ]
  },
  {
   "cell_type": "code",
   "execution_count": 32,
   "metadata": {},
   "outputs": [],
   "source": [
    "ind = 0"
   ]
  },
  {
   "cell_type": "code",
   "execution_count": 33,
   "metadata": {},
   "outputs": [
    {
     "name": "stdout",
     "output_type": "stream",
     "text": [
      "2002\n",
      "727.4939999999999\n",
      "464\n",
      "0.02380756475031376\n"
     ]
    }
   ],
   "source": [
    "visitId = int(pdf.visit.iloc[ind])\n",
    "print(visitId)\n",
    "print(pdf.wavelength.iloc[ind])\n",
    "print(pdf.fiber.iloc[ind])\n",
    "print(pdf.EE5.iloc[ind])\n",
    "#visitId = 3449 "
   ]
  },
  {
   "cell_type": "code",
   "execution_count": 34,
   "metadata": {},
   "outputs": [
    {
     "name": "stdout",
     "output_type": "stream",
     "text": [
      "/net/SRVSTK20C/drp/cluster/repo/rerun/sm1-octob2020/detrend/\n"
     ]
    }
   ],
   "source": [
    "print(f\"{drpPath}/{repo}/rerun/{rerun}/detrend/\")"
   ]
  },
  {
   "cell_type": "code",
   "execution_count": 35,
   "metadata": {},
   "outputs": [],
   "source": [
    "butler = dafPersist.Butler(f\"{drpPath}/{repo}/rerun/{rerun}/detrend/\")\n",
    "calExp = butler.get(\"calexp\", visit=visitId, arm=arm)"
   ]
  },
  {
   "cell_type": "code",
   "execution_count": null,
   "metadata": {},
   "outputs": [],
   "source": []
  },
  {
   "cell_type": "code",
   "execution_count": 36,
   "metadata": {},
   "outputs": [
    {
     "name": "stdout",
     "output_type": "stream",
     "text": [
      "1225.4272984915385 1192.4298214095809\n"
     ]
    }
   ],
   "source": [
    "cx = pdf.px.iloc[ind]\n",
    "cy = pdf.py.iloc[ind]\n",
    "print(cx,cy)\n",
    "#imagefile = imgPath+ pdf.file.iloc[ind]\n",
    "#print(imagefile)"
   ]
  },
  {
   "cell_type": "code",
   "execution_count": 37,
   "metadata": {
    "collapsed": true,
    "jupyter": {
     "outputs_hidden": true
    }
   },
   "outputs": [
    {
     "name": "stdout",
     "output_type": "stream",
     "text": [
      "#Fiber= 10 and #wavelength= 5\n"
     ]
    },
    {
     "ename": "TypeError",
     "evalue": "cannot convert the series to <class 'int'>",
     "output_type": "error",
     "traceback": [
      "\u001b[0;31m---------------------------------------------------------------------------\u001b[0m",
      "\u001b[0;31mTypeError\u001b[0m                                 Traceback (most recent call last)",
      "\u001b[0;32m<ipython-input-37-17d634265643>\u001b[0m in \u001b[0;36m<module>\u001b[0;34m\u001b[0m\n\u001b[0;32m----> 1\u001b[0;31m \u001b[0mplotRoiPeak\u001b[0m\u001b[0;34m(\u001b[0m\u001b[0mcalExp\u001b[0m\u001b[0;34m.\u001b[0m\u001b[0mimage\u001b[0m\u001b[0;34m.\u001b[0m\u001b[0marray\u001b[0m\u001b[0;34m,\u001b[0m \u001b[0mdf\u001b[0m\u001b[0;34m[\u001b[0m\u001b[0mdf\u001b[0m\u001b[0;34m.\u001b[0m\u001b[0mvisit\u001b[0m \u001b[0;34m==\u001b[0m \u001b[0mvisitId\u001b[0m\u001b[0;34m]\u001b[0m\u001b[0;34m.\u001b[0m\u001b[0mreset_index\u001b[0m\u001b[0;34m(\u001b[0m\u001b[0;34m)\u001b[0m\u001b[0;34m,\u001b[0m \u001b[0mroi_size\u001b[0m\u001b[0;34m=\u001b[0m\u001b[0;36m16\u001b[0m\u001b[0;34m,\u001b[0m \u001b[0mverbose\u001b[0m\u001b[0;34m=\u001b[0m\u001b[0;32mFalse\u001b[0m\u001b[0;34m)\u001b[0m\u001b[0;34m\u001b[0m\u001b[0;34m\u001b[0m\u001b[0m\n\u001b[0m",
      "\u001b[0;32m<ipython-input-5-e9c7576a075d>\u001b[0m in \u001b[0;36mplotRoiPeak\u001b[0;34m(image, peak_list, roi_size, raw, scale, verbose, savePlotFile)\u001b[0m\n\u001b[1;32m     28\u001b[0m             \u001b[0mprint\u001b[0m\u001b[0;34m(\u001b[0m\u001b[0;34mf\"px {group['px']}    py: {group['py']}\"\u001b[0m\u001b[0;34m)\u001b[0m\u001b[0;34m\u001b[0m\u001b[0;34m\u001b[0m\u001b[0m\n\u001b[1;32m     29\u001b[0m         \u001b[0;31m#cut_data = image[int(indx-roi_size/2):int(indx+roi_size/2), int(indy-roi_size/2):int(indy+roi_size/2)]\u001b[0m\u001b[0;34m\u001b[0m\u001b[0;34m\u001b[0m\u001b[0;34m\u001b[0m\u001b[0m\n\u001b[0;32m---> 30\u001b[0;31m         \u001b[0mcut_data\u001b[0m \u001b[0;34m=\u001b[0m \u001b[0mselectRoi\u001b[0m\u001b[0;34m(\u001b[0m\u001b[0mimage\u001b[0m\u001b[0;34m,\u001b[0m \u001b[0mgroup\u001b[0m\u001b[0;34m[\u001b[0m\u001b[0;34m\"px\"\u001b[0m\u001b[0;34m]\u001b[0m\u001b[0;34m,\u001b[0m \u001b[0mgroup\u001b[0m\u001b[0;34m[\u001b[0m\u001b[0;34m\"py\"\u001b[0m\u001b[0;34m]\u001b[0m\u001b[0;34m,\u001b[0m \u001b[0mroi_size\u001b[0m\u001b[0;34m=\u001b[0m\u001b[0mroi_size\u001b[0m\u001b[0;34m)\u001b[0m\u001b[0;34m\u001b[0m\u001b[0;34m\u001b[0m\u001b[0m\n\u001b[0m\u001b[1;32m     31\u001b[0m         \u001b[0;32mif\u001b[0m \u001b[0mnbwave\u001b[0m \u001b[0;34m==\u001b[0m \u001b[0;36m1\u001b[0m \u001b[0;32mand\u001b[0m \u001b[0mnbfiber\u001b[0m \u001b[0;34m==\u001b[0m \u001b[0;36m1\u001b[0m\u001b[0;34m:\u001b[0m\u001b[0;34m\u001b[0m\u001b[0;34m\u001b[0m\u001b[0m\n\u001b[1;32m     32\u001b[0m             \u001b[0maxarr\u001b[0m\u001b[0;34m.\u001b[0m\u001b[0mset_title\u001b[0m\u001b[0;34m(\u001b[0m\u001b[0;34mf\"{str(fiber)}, {str(wave)}\"\u001b[0m\u001b[0;34m)\u001b[0m\u001b[0;34m\u001b[0m\u001b[0;34m\u001b[0m\u001b[0m\n",
      "\u001b[0;32m~/dev/lib/pfs/imageAnalysis.py\u001b[0m in \u001b[0;36mselectRoi\u001b[0;34m(image, cx, cy, roi_size, doBck, nRows, doPlot)\u001b[0m\n\u001b[1;32m     93\u001b[0m     \u001b[0mdata\u001b[0m \u001b[0;34m=\u001b[0m \u001b[0mopenImage\u001b[0m\u001b[0;34m(\u001b[0m\u001b[0mimage\u001b[0m\u001b[0;34m)\u001b[0m\u001b[0;34m\u001b[0m\u001b[0;34m\u001b[0m\u001b[0m\n\u001b[1;32m     94\u001b[0m \u001b[0;34m\u001b[0m\u001b[0m\n\u001b[0;32m---> 95\u001b[0;31m     \u001b[0mindx\u001b[0m \u001b[0;34m=\u001b[0m \u001b[0mint\u001b[0m\u001b[0;34m(\u001b[0m\u001b[0mcy\u001b[0m\u001b[0;34m)\u001b[0m\u001b[0;34m\u001b[0m\u001b[0;34m\u001b[0m\u001b[0m\n\u001b[0m\u001b[1;32m     96\u001b[0m     \u001b[0mindy\u001b[0m \u001b[0;34m=\u001b[0m \u001b[0mint\u001b[0m\u001b[0;34m(\u001b[0m\u001b[0mcx\u001b[0m\u001b[0;34m)\u001b[0m\u001b[0;34m\u001b[0m\u001b[0;34m\u001b[0m\u001b[0m\n\u001b[1;32m     97\u001b[0m     \u001b[0mhalf\u001b[0m \u001b[0;34m=\u001b[0m \u001b[0mint\u001b[0m\u001b[0;34m(\u001b[0m\u001b[0mroi_size\u001b[0m\u001b[0;34m/\u001b[0m\u001b[0;36m2\u001b[0m\u001b[0;34m)\u001b[0m\u001b[0;34m\u001b[0m\u001b[0;34m\u001b[0m\u001b[0m\n",
      "\u001b[0;32m/software/drp/python/miniconda3-4.5.12/envs/lsst-scipipe-1172c30/lib/python3.7/site-packages/pandas/core/series.py\u001b[0m in \u001b[0;36mwrapper\u001b[0;34m(self)\u001b[0m\n\u001b[1;32m    110\u001b[0m         \u001b[0;32mif\u001b[0m \u001b[0mlen\u001b[0m\u001b[0;34m(\u001b[0m\u001b[0mself\u001b[0m\u001b[0;34m)\u001b[0m \u001b[0;34m==\u001b[0m \u001b[0;36m1\u001b[0m\u001b[0;34m:\u001b[0m\u001b[0;34m\u001b[0m\u001b[0;34m\u001b[0m\u001b[0m\n\u001b[1;32m    111\u001b[0m             \u001b[0;32mreturn\u001b[0m \u001b[0mconverter\u001b[0m\u001b[0;34m(\u001b[0m\u001b[0mself\u001b[0m\u001b[0;34m.\u001b[0m\u001b[0miloc\u001b[0m\u001b[0;34m[\u001b[0m\u001b[0;36m0\u001b[0m\u001b[0;34m]\u001b[0m\u001b[0;34m)\u001b[0m\u001b[0;34m\u001b[0m\u001b[0;34m\u001b[0m\u001b[0m\n\u001b[0;32m--> 112\u001b[0;31m         \u001b[0;32mraise\u001b[0m \u001b[0mTypeError\u001b[0m\u001b[0;34m(\u001b[0m\u001b[0;34mf\"cannot convert the series to {converter}\"\u001b[0m\u001b[0;34m)\u001b[0m\u001b[0;34m\u001b[0m\u001b[0;34m\u001b[0m\u001b[0m\n\u001b[0m\u001b[1;32m    113\u001b[0m \u001b[0;34m\u001b[0m\u001b[0m\n\u001b[1;32m    114\u001b[0m     \u001b[0mwrapper\u001b[0m\u001b[0;34m.\u001b[0m\u001b[0m__name__\u001b[0m \u001b[0;34m=\u001b[0m \u001b[0;34mf\"__{converter.__name__}__\"\u001b[0m\u001b[0;34m\u001b[0m\u001b[0;34m\u001b[0m\u001b[0m\n",
      "\u001b[0;31mTypeError\u001b[0m: cannot convert the series to <class 'int'>"
     ]
    },
    {
     "data": {
      "image/png": "[encoded data removed]",
      "text/plain": [
       "<Figure size 864x576 with 50 Axes>"
      ]
     },
     "metadata": {},
     "output_type": "display_data"
    }
   ],
   "source": [
    "plotRoiPeak(calExp.image.array, df[df.visit == visitId].reset_index(), roi_size=16, verbose=False)"
   ]
  },
  {
   "cell_type": "code",
   "execution_count": 39,
   "metadata": {
    "collapsed": true,
    "jupyter": {
     "outputs_hidden": true
    }
   },
   "outputs": [
    {
     "name": "stdout",
     "output_type": "stream",
     "text": [
      "#Fiber= 10 and #wavelength= 5\n"
     ]
    },
    {
     "ename": "TypeError",
     "evalue": "cannot convert the series to <class 'int'>",
     "output_type": "error",
     "traceback": [
      "\u001b[0;31m---------------------------------------------------------------------------\u001b[0m",
      "\u001b[0;31mTypeError\u001b[0m                                 Traceback (most recent call last)",
      "\u001b[0;32m<ipython-input-39-37270fa161d7>\u001b[0m in \u001b[0;36m<module>\u001b[0;34m\u001b[0m\n\u001b[0;32m----> 1\u001b[0;31m \u001b[0mplotRoiPeak\u001b[0m\u001b[0;34m(\u001b[0m\u001b[0mcalExp\u001b[0m\u001b[0;34m.\u001b[0m\u001b[0mimage\u001b[0m\u001b[0;34m.\u001b[0m\u001b[0marray\u001b[0m\u001b[0;34m,\u001b[0m \u001b[0mdf\u001b[0m\u001b[0;34m[\u001b[0m\u001b[0mdf\u001b[0m\u001b[0;34m.\u001b[0m\u001b[0mvisit\u001b[0m \u001b[0;34m==\u001b[0m \u001b[0mvisitId\u001b[0m\u001b[0;34m]\u001b[0m\u001b[0;34m.\u001b[0m\u001b[0mreset_index\u001b[0m\u001b[0;34m(\u001b[0m\u001b[0;34m)\u001b[0m\u001b[0;34m,\u001b[0m \u001b[0mroi_size\u001b[0m\u001b[0;34m=\u001b[0m\u001b[0;36m16\u001b[0m\u001b[0;34m,\u001b[0m \u001b[0mverbose\u001b[0m\u001b[0;34m=\u001b[0m\u001b[0;32mFalse\u001b[0m\u001b[0;34m,\u001b[0m \u001b[0mscale\u001b[0m\u001b[0;34m=\u001b[0m\u001b[0;32mTrue\u001b[0m\u001b[0;34m)\u001b[0m\u001b[0;34m\u001b[0m\u001b[0;34m\u001b[0m\u001b[0m\n\u001b[0m",
      "\u001b[0;32m<ipython-input-5-e9c7576a075d>\u001b[0m in \u001b[0;36mplotRoiPeak\u001b[0;34m(image, peak_list, roi_size, raw, scale, verbose, savePlotFile)\u001b[0m\n\u001b[1;32m     28\u001b[0m             \u001b[0mprint\u001b[0m\u001b[0;34m(\u001b[0m\u001b[0;34mf\"px {group['px']}    py: {group['py']}\"\u001b[0m\u001b[0;34m)\u001b[0m\u001b[0;34m\u001b[0m\u001b[0;34m\u001b[0m\u001b[0m\n\u001b[1;32m     29\u001b[0m         \u001b[0;31m#cut_data = image[int(indx-roi_size/2):int(indx+roi_size/2), int(indy-roi_size/2):int(indy+roi_size/2)]\u001b[0m\u001b[0;34m\u001b[0m\u001b[0;34m\u001b[0m\u001b[0;34m\u001b[0m\u001b[0m\n\u001b[0;32m---> 30\u001b[0;31m         \u001b[0mcut_data\u001b[0m \u001b[0;34m=\u001b[0m \u001b[0mselectRoi\u001b[0m\u001b[0;34m(\u001b[0m\u001b[0mimage\u001b[0m\u001b[0;34m,\u001b[0m \u001b[0mgroup\u001b[0m\u001b[0;34m[\u001b[0m\u001b[0;34m\"px\"\u001b[0m\u001b[0;34m]\u001b[0m\u001b[0;34m,\u001b[0m \u001b[0mgroup\u001b[0m\u001b[0;34m[\u001b[0m\u001b[0;34m\"py\"\u001b[0m\u001b[0;34m]\u001b[0m\u001b[0;34m,\u001b[0m \u001b[0mroi_size\u001b[0m\u001b[0;34m=\u001b[0m\u001b[0mroi_size\u001b[0m\u001b[0;34m)\u001b[0m\u001b[0;34m\u001b[0m\u001b[0;34m\u001b[0m\u001b[0m\n\u001b[0m\u001b[1;32m     31\u001b[0m         \u001b[0;32mif\u001b[0m \u001b[0mnbwave\u001b[0m \u001b[0;34m==\u001b[0m \u001b[0;36m1\u001b[0m \u001b[0;32mand\u001b[0m \u001b[0mnbfiber\u001b[0m \u001b[0;34m==\u001b[0m \u001b[0;36m1\u001b[0m\u001b[0;34m:\u001b[0m\u001b[0;34m\u001b[0m\u001b[0;34m\u001b[0m\u001b[0m\n\u001b[1;32m     32\u001b[0m             \u001b[0maxarr\u001b[0m\u001b[0;34m.\u001b[0m\u001b[0mset_title\u001b[0m\u001b[0;34m(\u001b[0m\u001b[0;34mf\"{str(fiber)}, {str(wave)}\"\u001b[0m\u001b[0;34m)\u001b[0m\u001b[0;34m\u001b[0m\u001b[0;34m\u001b[0m\u001b[0m\n",
      "\u001b[0;32m~/dev/lib/pfs/imageAnalysis.py\u001b[0m in \u001b[0;36mselectRoi\u001b[0;34m(image, cx, cy, roi_size, doBck, nRows, doPlot)\u001b[0m\n\u001b[1;32m     93\u001b[0m     \u001b[0mdata\u001b[0m \u001b[0;34m=\u001b[0m \u001b[0mopenImage\u001b[0m\u001b[0;34m(\u001b[0m\u001b[0mimage\u001b[0m\u001b[0;34m)\u001b[0m\u001b[0;34m\u001b[0m\u001b[0;34m\u001b[0m\u001b[0m\n\u001b[1;32m     94\u001b[0m \u001b[0;34m\u001b[0m\u001b[0m\n\u001b[0;32m---> 95\u001b[0;31m     \u001b[0mindx\u001b[0m \u001b[0;34m=\u001b[0m \u001b[0mint\u001b[0m\u001b[0;34m(\u001b[0m\u001b[0mcy\u001b[0m\u001b[0;34m)\u001b[0m\u001b[0;34m\u001b[0m\u001b[0;34m\u001b[0m\u001b[0m\n\u001b[0m\u001b[1;32m     96\u001b[0m     \u001b[0mindy\u001b[0m \u001b[0;34m=\u001b[0m \u001b[0mint\u001b[0m\u001b[0;34m(\u001b[0m\u001b[0mcx\u001b[0m\u001b[0;34m)\u001b[0m\u001b[0;34m\u001b[0m\u001b[0;34m\u001b[0m\u001b[0m\n\u001b[1;32m     97\u001b[0m     \u001b[0mhalf\u001b[0m \u001b[0;34m=\u001b[0m \u001b[0mint\u001b[0m\u001b[0;34m(\u001b[0m\u001b[0mroi_size\u001b[0m\u001b[0;34m/\u001b[0m\u001b[0;36m2\u001b[0m\u001b[0;34m)\u001b[0m\u001b[0;34m\u001b[0m\u001b[0;34m\u001b[0m\u001b[0m\n",
      "\u001b[0;32m/software/drp/python/miniconda3-4.5.12/envs/lsst-scipipe-1172c30/lib/python3.7/site-packages/pandas/core/series.py\u001b[0m in \u001b[0;36mwrapper\u001b[0;34m(self)\u001b[0m\n\u001b[1;32m    110\u001b[0m         \u001b[0;32mif\u001b[0m \u001b[0mlen\u001b[0m\u001b[0;34m(\u001b[0m\u001b[0mself\u001b[0m\u001b[0;34m)\u001b[0m \u001b[0;34m==\u001b[0m \u001b[0;36m1\u001b[0m\u001b[0;34m:\u001b[0m\u001b[0;34m\u001b[0m\u001b[0;34m\u001b[0m\u001b[0m\n\u001b[1;32m    111\u001b[0m             \u001b[0;32mreturn\u001b[0m \u001b[0mconverter\u001b[0m\u001b[0;34m(\u001b[0m\u001b[0mself\u001b[0m\u001b[0;34m.\u001b[0m\u001b[0miloc\u001b[0m\u001b[0;34m[\u001b[0m\u001b[0;36m0\u001b[0m\u001b[0;34m]\u001b[0m\u001b[0;34m)\u001b[0m\u001b[0;34m\u001b[0m\u001b[0;34m\u001b[0m\u001b[0m\n\u001b[0;32m--> 112\u001b[0;31m         \u001b[0;32mraise\u001b[0m \u001b[0mTypeError\u001b[0m\u001b[0;34m(\u001b[0m\u001b[0;34mf\"cannot convert the series to {converter}\"\u001b[0m\u001b[0;34m)\u001b[0m\u001b[0;34m\u001b[0m\u001b[0;34m\u001b[0m\u001b[0m\n\u001b[0m\u001b[1;32m    113\u001b[0m \u001b[0;34m\u001b[0m\u001b[0m\n\u001b[1;32m    114\u001b[0m     \u001b[0mwrapper\u001b[0m\u001b[0;34m.\u001b[0m\u001b[0m__name__\u001b[0m \u001b[0;34m=\u001b[0m \u001b[0;34mf\"__{converter.__name__}__\"\u001b[0m\u001b[0;34m\u001b[0m\u001b[0;34m\u001b[0m\u001b[0m\n",
      "\u001b[0;31mTypeError\u001b[0m: cannot convert the series to <class 'int'>"
     ]
    },
    {
     "data": {
      "image/png": "[encoded data removed]",
      "text/plain": [
       "<Figure size 864x576 with 50 Axes>"
      ]
     },
     "metadata": {},
     "output_type": "display_data"
    }
   ],
   "source": [
    "plotRoiPeak(calExp.image.array, df[df.visit == visitId].reset_index(), roi_size=16, verbose=False, scale=True)"
   ]
  },
  {
   "cell_type": "code",
   "execution_count": null,
   "metadata": {},
   "outputs": [],
   "source": [
    "ob.wavelength.unique()"
   ]
  },
  {
   "cell_type": "code",
   "execution_count": 38,
   "metadata": {},
   "outputs": [
    {
     "name": "stdout",
     "output_type": "stream",
     "text": [
      "mean: 80.10707092285156\n",
      "std: 313.4257507324219\n"
     ]
    },
    {
     "name": "stderr",
     "output_type": "stream",
     "text": [
      "/software/drp/python/miniconda3-4.5.12/envs/lsst-scipipe-1172c30/lib/python3.7/site-packages/ipykernel_launcher.py:25: RuntimeWarning: invalid value encountered in log10\n"
     ]
    },
    {
     "data": {
      "image/png": "[encoded data removed]",
      "text/plain": [
       "<Figure size 432x288 with 3 Axes>"
      ]
     },
     "metadata": {},
     "output_type": "display_data"
    }
   ],
   "source": [
    "\n",
    "plotOnePeak(calExp.image.array,cx, cy, roi_size=24, vmin=0, vmax= 10, doBck=True, verbose=True)"
   ]
  },
  {
   "cell_type": "code",
   "execution_count": null,
   "metadata": {},
   "outputs": [],
   "source": [
    "getEE(calExp.image.array,cx, cy,doBck=True, roi_size=24)"
   ]
  },
  {
   "cell_type": "code",
   "execution_count": null,
   "metadata": {},
   "outputs": [],
   "source": [
    "\n",
    "for index, row in pdf.iterrows():\n",
    "    visitId = int(row.visit)\n",
    "    calExp2 = butler.get(\"calexp\", visit=visitId, arm=arm)\n",
    "    plotOnePeak(calExp2.image.array,row.px, row.py, roi_size=24, vmin=0, vmax= 10, doBck=True, verbose=True) "
   ]
  },
  {
   "cell_type": "code",
   "execution_count": null,
   "metadata": {},
   "outputs": [],
   "source": []
  },
  {
   "cell_type": "code",
   "execution_count": null,
   "metadata": {},
   "outputs": [],
   "source": []
  },
  {
   "cell_type": "code",
   "execution_count": null,
   "metadata": {},
   "outputs": [],
   "source": []
  },
  {
   "cell_type": "raw",
   "metadata": {},
   "source": [
    "roi_size = 24\n",
    "com = True  # Center Of Mass\n",
    "doBck = doBck # \n",
    "head = 0\n",
    "tail = 0\n",
    "criteria = 'EE5'\n",
    "verbose = False\n",
    "doPrint=True"
   ]
  },
  {
   "cell_type": "raw",
   "metadata": {},
   "source": [
    "getPeakData(calExp.image.array, cx,cy, roi_size=roi_size, doBck=doBck)"
   ]
  },
  {
   "cell_type": "raw",
   "metadata": {},
   "source": [
    "getEE(calExp.image.array, cx,cy, roi_size=roi_size, doBck=doBck, nRows=5, ee_size=5)"
   ]
  },
  {
   "cell_type": "raw",
   "metadata": {},
   "source": [
    "a = getPeakDataSep(calExp.image.array, cx,cy,roi_size=roi_size, EE=[3,5], mask_size=100, threshold=200, doBck=True)\n",
    "a.y2\n"
   ]
  },
  {
   "cell_type": "code",
   "execution_count": null,
   "metadata": {},
   "outputs": [],
   "source": []
  }
 ],
 "metadata": {
  "jupytext": {
   "text_representation": {
    "extension": ".py",
    "format_name": "light",
    "format_version": "1.5",
    "jupytext_version": "1.3.4"
   }
  },
  "kernelspec": {
   "display_name": "Python 3",
   "language": "python",
   "name": "python3"
  },
  "language_info": {
   "codemirror_mode": {
    "name": "ipython",
    "version": 3
   },
   "file_extension": ".py",
   "mimetype": "text/x-python",
   "name": "python",
   "nbconvert_exporter": "python",
   "pygments_lexer": "ipython3",
   "version": "3.7.2"
  }
 },
 "nbformat": 4,
 "nbformat_minor": 4
}
