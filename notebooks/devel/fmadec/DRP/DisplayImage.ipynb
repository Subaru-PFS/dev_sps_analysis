{
 "cells": [
  {
   "cell_type": "code",
   "execution_count": 1,
   "metadata": {},
   "outputs": [],
   "source": [
    "from pfs.drp.stella import DetectorMap\n",
    "import lsst.daf.persistence as dafPersist\n",
    "import lsst.afw.display as afwDisplay\n",
    "import lsst.afw.detection as afwDetection\n",
    "from  pfs.utils.dummyCableB import DummyCableBDatabase"
   ]
  },
  {
   "cell_type": "code",
   "execution_count": null,
   "metadata": {
    "lines_to_next_cell": 2
   },
   "outputs": [],
   "source": []
  },
  {
   "cell_type": "markdown",
   "metadata": {},
   "source": [
    "# Define drp repo"
   ]
  },
  {
   "cell_type": "code",
   "execution_count": 2,
   "metadata": {},
   "outputs": [],
   "source": [
    "rerun = \"sm1-march2020\"\n",
    "repo = \"drp\"\n",
    "drpPath = \"/home/fmadec/pfs/subaruData\"\n",
    "\n",
    "SM = \"SM1\"\n",
    "site = \"Subaru\"\n"
   ]
  },
  {
   "cell_type": "markdown",
   "metadata": {},
   "source": [
    "# Select a visit and a cam"
   ]
  },
  {
   "cell_type": "code",
   "execution_count": 3,
   "metadata": {},
   "outputs": [],
   "source": [
    "cam = \"r1\"\n",
    "\n",
    "visit = 1376"
   ]
  },
  {
   "cell_type": "code",
   "execution_count": 4,
   "metadata": {},
   "outputs": [],
   "source": [
    "arm = cam[0]"
   ]
  },
  {
   "cell_type": "code",
   "execution_count": 5,
   "metadata": {},
   "outputs": [],
   "source": [
    "butler = dafPersist.Butler(f\"{drpPath}/{repo}/rerun/{rerun}/detrend/\")"
   ]
  },
  {
   "cell_type": "code",
   "execution_count": 6,
   "metadata": {},
   "outputs": [
    {
     "name": "stdout",
     "output_type": "stream",
     "text": [
      "/home/fmadec/pfs/subaruData/drp/rerun/sm1-march2020/detrend/calExp/2020-04-07/v001376/calExp-SA001376r1.fits\n"
     ]
    }
   ],
   "source": [
    "calExp = butler.get(\"calexp\", visit=visit, arm=arm)\n",
    "calexfilePath = butler.getUri(\"calexp\", visit=visit, arm=arm)\n",
    "print(calexfilePath)"
   ]
  },
  {
   "cell_type": "markdown",
   "metadata": {},
   "source": [
    "# Retrieve some informations on this visit"
   ]
  },
  {
   "cell_type": "markdown",
   "metadata": {},
   "source": [
    "## Lamp used"
   ]
  },
  {
   "cell_type": "code",
   "execution_count": 7,
   "metadata": {},
   "outputs": [
    {
     "name": "stdout",
     "output_type": "stream",
     "text": [
      "Lamp used: ['HgAr']\n"
     ]
    }
   ],
   "source": [
    "rbutler = dafPersist.Butler(f\"{drpPath}/{repo}/\")\n",
    "rbutler.getKeys('raw')\n",
    "lamps = rbutler.queryMetadata('raw', ['lamps'], visit=visit, arm=arm) \n",
    "print(f\"Lamp used: {lamps}\")"
   ]
  },
  {
   "cell_type": "markdown",
   "metadata": {},
   "source": [
    "## PFS Config Id (so fibers used)"
   ]
  },
  {
   "cell_type": "code",
   "execution_count": 8,
   "metadata": {},
   "outputs": [
    {
     "name": "stdout",
     "output_type": "stream",
     "text": [
      "DCB fibers config: ['green', 'red1', 'red4', 'red8']\n",
      "Fiber used: [  2  63 192 255 339 401 464 525 587 650]\n"
     ]
    }
   ],
   "source": [
    "pfsConfig = butler.get(\"pfsConfig\", visit=visit)\n",
    "pfsConfig.pfsDesignId\n",
    "dcb = DummyCableBDatabase()\n",
    "fiberSetup = dcb.interpret(pfsConfig.pfsDesignId)\n",
    "print(f\"DCB fibers config: {fiberSetup}\")\n",
    "fiberIds = dcb.getFiberIds(*fiberSetup)\n",
    "print(f\"Fiber used: {fiberIds}\")"
   ]
  },
  {
   "cell_type": "markdown",
   "metadata": {},
   "source": [
    "# Display image in DS9"
   ]
  },
  {
   "cell_type": "markdown",
   "metadata": {},
   "source": [
    "## display image"
   ]
  },
  {
   "cell_type": "code",
   "execution_count": 9,
   "metadata": {},
   "outputs": [],
   "source": [
    "display = afwDisplay.Display(1)"
   ]
  },
  {
   "cell_type": "code",
   "execution_count": 10,
   "metadata": {},
   "outputs": [],
   "source": [
    "# display image\n",
    "display.setMaskTransparency(70)\n",
    "display.mtv(calExp, title=f\"{visit}\")\n",
    "display.scale(\"linear\", \"zscale\")"
   ]
  },
  {
   "cell_type": "markdown",
   "metadata": {},
   "source": [
    "## display variance"
   ]
  },
  {
   "cell_type": "code",
   "execution_count": 11,
   "metadata": {},
   "outputs": [],
   "source": [
    "display = afwDisplay.Display(2)"
   ]
  },
  {
   "cell_type": "code",
   "execution_count": 12,
   "metadata": {},
   "outputs": [],
   "source": [
    "# display variance\n",
    "display.setMaskTransparency(70)\n",
    "display.mtv(calExp.variance, title=f\"Variance {visit}\")\n",
    "display.scale(\"linear\", \"zscale\")"
   ]
  },
  {
   "cell_type": "code",
   "execution_count": null,
   "metadata": {},
   "outputs": [],
   "source": []
  },
  {
   "cell_type": "markdown",
   "metadata": {},
   "source": [
    "## Change mask "
   ]
  },
  {
   "cell_type": "markdown",
   "metadata": {},
   "source": [
    "### Interpreting displayed mask colors\n"
   ]
  },
  {
   "cell_type": "code",
   "execution_count": 13,
   "metadata": {},
   "outputs": [
    {
     "name": "stdout",
     "output_type": "stream",
     "text": [
      "BAD: red\n",
      "BAD_FLAT: None\n",
      "CR: magenta\n",
      "DETECTED: blue\n",
      "DETECTED_NEGATIVE: cyan\n",
      "EDGE: yellow\n",
      "FIBERTRACE: None\n",
      "INTRP: green\n",
      "NO_DATA: orange\n",
      "REJECTED_LINES: None\n",
      "SAT: green\n",
      "SUSPECT: yellow\n",
      "UNMASKEDNAN: None\n"
     ]
    }
   ],
   "source": [
    "mask = calExp.getMask()\n",
    "for maskName, maskBit in mask.getMaskPlaneDict().items():\n",
    "    print('{}: {}'.format(maskName, display.getMaskPlaneColor(maskName)))"
   ]
  },
  {
   "cell_type": "markdown",
   "metadata": {},
   "source": [
    "### disable all mask"
   ]
  },
  {
   "cell_type": "code",
   "execution_count": 14,
   "metadata": {},
   "outputs": [
    {
     "name": "stdout",
     "output_type": "stream",
     "text": [
      "BAD: IGNORE\n",
      "BAD_FLAT: IGNORE\n",
      "CR: IGNORE\n",
      "DETECTED: IGNORE\n",
      "DETECTED_NEGATIVE: IGNORE\n",
      "EDGE: IGNORE\n",
      "FIBERTRACE: IGNORE\n",
      "INTRP: IGNORE\n",
      "NO_DATA: IGNORE\n",
      "REJECTED_LINES: IGNORE\n",
      "SAT: IGNORE\n",
      "SUSPECT: IGNORE\n",
      "UNMASKEDNAN: IGNORE\n"
     ]
    }
   ],
   "source": [
    "mask = calExp.getMask()\n",
    "for maskName, maskBit in mask.getMaskPlaneDict().items():\n",
    "    display.setMaskPlaneColor(maskName, \"IGNORE\")\n",
    "    print('{}: {}'.format(maskName, display.getMaskPlaneColor(maskName)))"
   ]
  },
  {
   "cell_type": "markdown",
   "metadata": {},
   "source": [
    "### specify some maskPlane"
   ]
  },
  {
   "cell_type": "code",
   "execution_count": 15,
   "metadata": {},
   "outputs": [],
   "source": [
    "maskPlane = \"CR\"\n",
    "calExp.getMaskedImage().getMask().addMaskPlane(maskPlane)\n",
    "display.setMaskPlaneColor(maskPlane, \"magenta\")\n",
    "maskPlane = \"SAT\"\n",
    "calExp.getMaskedImage().getMask().addMaskPlane(maskPlane)\n",
    "display.setMaskPlaneColor(maskPlane, \"green\")"
   ]
  },
  {
   "cell_type": "markdown",
   "metadata": {},
   "source": [
    "### have to redo display to apply mask change"
   ]
  },
  {
   "cell_type": "code",
   "execution_count": 16,
   "metadata": {},
   "outputs": [],
   "source": [
    "display = afwDisplay.Display(1)\n",
    "# display image\n",
    "display.setMaskTransparency(70)\n",
    "display.mtv(calExp, title=f\"{visit}\")\n",
    "display.scale(\"linear\", \"zscale\")"
   ]
  },
  {
   "cell_type": "code",
   "execution_count": null,
   "metadata": {},
   "outputs": [],
   "source": []
  }
 ],
 "metadata": {
  "jupytext": {
   "text_representation": {
    "extension": ".py",
    "format_name": "light",
    "format_version": "1.5",
    "jupytext_version": "1.3.4"
   }
  },
  "kernelspec": {
   "display_name": "Python 3",
   "language": "python",
   "name": "python3"
  },
  "language_info": {
   "codemirror_mode": {
    "name": "ipython",
    "version": 3
   },
   "file_extension": ".py",
   "mimetype": "text/x-python",
   "name": "python",
   "nbconvert_exporter": "python",
   "pygments_lexer": "ipython3",
   "version": "3.7.2"
  }
 },
 "nbformat": 4,
 "nbformat_minor": 4
}
