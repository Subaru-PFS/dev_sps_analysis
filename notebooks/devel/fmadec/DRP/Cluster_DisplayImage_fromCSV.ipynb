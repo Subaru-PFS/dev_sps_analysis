{
 "cells": [
  {
   "cell_type": "code",
   "execution_count": 2,
   "metadata": {
    "lines_to_next_cell": 2
   },
   "outputs": [],
   "source": [
    "from pfs.lam.detAnalysis import *\n",
    "from pfs.lam.imageAnalysis import *\n",
    "\n",
    "from pfs.lam.fileHandling import *\n",
    "import glob"
   ]
  },
  {
   "cell_type": "code",
   "execution_count": 3,
   "metadata": {},
   "outputs": [],
   "source": [
    "#%matplotlib widget\n",
    "\n",
    "import matplotlib.pyplot as plt\n",
    "#plt.style.use('dark_background')\n",
    "from matplotlib import style\n",
    "style.use('ggplot')"
   ]
  },
  {
   "cell_type": "code",
   "execution_count": null,
   "metadata": {},
   "outputs": [],
   "source": [
    "import lsst.daf.persistence as dafPersist"
   ]
  },
  {
   "cell_type": "code",
   "execution_count": null,
   "metadata": {},
   "outputs": [],
   "source": []
  },
  {
   "cell_type": "code",
   "execution_count": null,
   "metadata": {
    "lines_to_next_cell": 2
   },
   "outputs": [],
   "source": [
    "def plotOnePeak(image, cx,cy, roi_size=30, doBck=False, nRows=5, vmin=None, vmax=None, verbose=False):\n",
    "    indx = cy\n",
    "    indy = cx\n",
    "\n",
    "    if type(image) is str:\n",
    "        hdulist = fits.open(image, \"readonly\")\n",
    "        image = hdulist[1].data\n",
    "    \n",
    "\n",
    "    data = np.copy(image)\n",
    "    outer_data, inner_data = getRois(data, cx, cy, inner_size=5, outer_size=roi_size, doBck=doBck, nRows=nRows)    \n",
    "    m, s = np.mean(outer_data), np.std(outer_data)\n",
    "    if verbose:\n",
    "        print(f\"mean: {m}\")\n",
    "        print(f\"std: {s}\")\n",
    "    vmin = vmin if vmin is not None else m-s\n",
    "    vmax = vmax if vmax is not None else m+s\n",
    "    \n",
    "    fig, (ax, ax2) = plt.subplots(ncols=2, constrained_layout=True)\n",
    "    #ax = plt.subplot(111)\n",
    "    im = ax.imshow(outer_data,interpolation=\"none\", origin=\"lower\", vmin=vmin, vmax=vmax)\n",
    "    divider = make_axes_locatable(ax)\n",
    "    cax = divider.append_axes(\"right\", size=\"5%\", pad=0.05)\n",
    "    \n",
    "    m = np.log10(np.where(outer_data>0, outer_data, -1))\n",
    "\n",
    "    #ax2 = plt.subplot(121)\n",
    "    im = ax2.imshow(m,interpolation=\"none\", origin=\"lower\",cmap=\"gray\")\n",
    "    \n",
    "    plt.colorbar(im, cax=cax)\n",
    "    plt.show()"
   ]
  },
  {
   "cell_type": "raw",
   "metadata": {},
   "source": [
    "def plotRoiPeak(image, peak_list, roi_size=20, raw=False, scale=True, verbose=False):\n",
    "    if type(image) is str:     \n",
    "        hdulist = fits.open(image, \"readonly\")\n",
    "        image = hdulist[1].data\n",
    "    \n",
    "    plist = pd.read_csv(peak_list) if type(peak_list) is str else peak_list\n",
    "\n",
    "#    plist = plist.sort_values([\"X\",\"Y\"], ascending=[True,False])\n",
    "    \n",
    "    nbfiber = len(plist.fiber.unique())\n",
    "    nbwave = len(plist.wavelength.unique())\n",
    "    # have a list of fiber from 0 to nbfiber\n",
    "    listwavestoplot = pd.DataFrame(plist.wavelength.unique(), columns=[\"wavelength\"])\n",
    "\n",
    "    listfiberstoplot = pd.DataFrame(plist.fiber.unique(), columns=[\"fiber\"])\n",
    "    \n",
    "    print(\"#Fiber= %d and #wavelength= %d\"%(nbfiber, nbwave))\n",
    "    f, axarr = plt.subplots(nbwave, nbfiber,  sharex='col', sharey='row',figsize=(12,8))\n",
    "#    print(axarr.shape)\n",
    "    vmin=None\n",
    "    vmax=None\n",
    "    \n",
    "    for (wave, fiber), group in plist.groupby(['wavelength','fiber']):\n",
    "        k = listwavestoplot[listwavestoplot.wavelength == wave].index.tolist()[0]\n",
    "        i = listfiberstoplot[listfiberstoplot.fiber == fiber].index.tolist()[0]\n",
    "        if verbose:\n",
    "            print(k,i)\n",
    "            print(f\"px {group['px']}    py: {group['py']}\")\n",
    "        #cut_data = image[int(indx-roi_size/2):int(indx+roi_size/2), int(indy-roi_size/2):int(indy+roi_size/2)]\n",
    "        cut_data = selectRoi(image, group[\"px\"], group[\"py\"], roi_size=roi_size)\n",
    "        if nbwave == 1 and nbfiber == 1:\n",
    "            axarr.set_title(f\"{str(fiber)}, {str(wave)}\")\n",
    "            axarr.imshow(cut_data,interpolation=\"none\", origin=\"lower\", vmin=vmin, vmax=vmax)\n",
    "        else:\n",
    "            #axarr[nbwave -1 -k, nbfiber - i -1].set_title(f\"{fiber}, {wave:.2f}\")\n",
    "            #axarr[nbwave -1 -k, nbfiber - i -1].label_outer()\n",
    "            axarr[nbwave -1 -k, nbfiber - i -1].imshow(cut_data,interpolation=\"none\", origin=\"lower\", vmin=vmin, vmax=vmax)\n",
    "            axarr[nbwave -1 -k, nbfiber - i -1].set_ylabel(f\"{wave:.2f}\")\n",
    "            axarr[nbwave -1 -k, nbfiber - i -1].set_xlabel(fiber)\n",
    "\n",
    "                \n",
    "    f.subplots_adjust(hspace=0.5,wspace=0.5)\n",
    "    for ax0 in axarr:\n",
    "        for ax in ax0:\n",
    "            ax.set_ylabel(ax.get_ylabel(), rotation='horizontal', ha='right', fontsize=20)\n",
    "            ax.set_xlabel(ax.get_xlabel(), rotation='vertical', fontsize=20)\n",
    "            ax.set_yticklabels('')\n",
    "            ax.set_xticklabels('')\n",
    "            ax.set_frame_on(False)\n",
    "    plt.gcf().set_facecolor('w')\n",
    "    plt.grid(None)             \n",
    "    plt.show()\n"
   ]
  },
  {
   "cell_type": "code",
   "execution_count": null,
   "metadata": {},
   "outputs": [],
   "source": [
    "def plotRoiPeak(image, peak_list, roi_size=20, raw=False, scale=True, verbose=False, savePlotFile=savePlotFile):\n",
    "    if type(image) is str:     \n",
    "        hdulist = fits.open(image, \"readonly\")\n",
    "        image = hdulist[1].data\n",
    "    \n",
    "    plist = pd.read_csv(peak_list) if type(peak_list) is str else peak_list\n",
    "\n",
    "#    plist = plist.sort_values([\"X\",\"Y\"], ascending=[True,False])\n",
    "    \n",
    "    nbfiber = len(plist.fiber.unique())\n",
    "    nbwave = len(plist.wavelength.unique())\n",
    "    # have a list of fiber from 0 to nbfiber\n",
    "    listwavestoplot = pd.DataFrame(plist.wavelength.unique(), columns=[\"wavelength\"])\n",
    "\n",
    "    listfiberstoplot = pd.DataFrame(plist.fiber.unique(), columns=[\"fiber\"])\n",
    "    \n",
    "    print(\"#Fiber= %d and #wavelength= %d\"%(nbfiber, nbwave))\n",
    "    f, axarr = plt.subplots(nbwave, nbfiber,  sharex='col', sharey='row',figsize=(12,8))\n",
    "#    print(axarr.shape)\n",
    "    vmin=None\n",
    "    vmax=None\n",
    "    \n",
    "    for (wave, fiber), group in plist.groupby(['wavelength','fiber']):\n",
    "        k = listwavestoplot[listwavestoplot.wavelength == wave].index.tolist()[0]\n",
    "        i = listfiberstoplot[listfiberstoplot.fiber == fiber].index.tolist()[0]\n",
    "        if verbose:\n",
    "            print(k,i)\n",
    "            print(f\"px {group['px']}    py: {group['py']}\")\n",
    "        #cut_data = image[int(indx-roi_size/2):int(indx+roi_size/2), int(indy-roi_size/2):int(indy+roi_size/2)]\n",
    "        cut_data = selectRoi(image, group[\"px\"], group[\"py\"], roi_size=roi_size)\n",
    "        if nbwave == 1 and nbfiber == 1:\n",
    "            axarr.set_title(f\"{str(fiber)}, {str(wave)}\")\n",
    "            axarr.imshow(cut_data,interpolation=\"none\", origin=\"lower\", vmin=vmin, vmax=vmax)\n",
    "        else:\n",
    "            #axarr[nbwave -1 -k, nbfiber - i -1].set_title(f\"{fiber}, {wave:.2f}\")\n",
    "            #axarr[nbwave -1 -k, nbfiber - i -1].label_outer()\n",
    "            axarr[nbwave -1 -k, nbfiber - i -1].imshow(cut_data,interpolation=\"none\", origin=\"lower\", vmin=vmin, vmax=vmax)\n",
    "#            axarr[nbwave -1 -k, nbfiber - i -1].set_ylabel(f\"{wave:.2f}\")\n",
    "#            axarr[nbwave -1 -k, nbfiber - i -1].set_xlabel(fiber)\n",
    "            axarr[nbwave -1 -k, nbfiber - i -1].grid(False)\n",
    "\n",
    "                \n",
    "    f.subplots_adjust(hspace=0.5,wspace=0.5)\n",
    "\n",
    "    for ax, wave in zip(axarr[:,0], listwavestoplot.sort_index(ascending=False).wavelength.values) :\n",
    "            ax.set_ylabel(f\"{wave:.2f}\", rotation='horizontal', ha='right', fontsize=20)\n",
    "#            ax.set_xlabel(ax.get_xlabel(), rotation='vertical', fontsize=20)\n",
    "            ax.set_yticklabels('')\n",
    "            ax.set_xticklabels('')\n",
    "            ax.set_frame_on(False)\n",
    "    for ax, fiber in zip(axarr[-1,:], listfiberstoplot.sort_index(ascending=False).fiber.values):\n",
    "#            ax.set_ylabel(ax.get_ylabel(), rotation='horizontal', ha='right', fontsize=20)\n",
    "            ax.set_xlabel(fiber, rotation='vertical', fontsize=20)\n",
    "            ax.set_yticklabels('')\n",
    "            ax.set_xticklabels('')\n",
    "            ax.set_frame_on(False)\n",
    "\n",
    "    plt.gcf().set_facecolor('w')\n",
    "    if doSave:\n",
    "        fig.patch.set_alpha(0.5)\n",
    "        plt.savefig(savePlotFile+f\"_roi_all.png\")\n",
    "                  \n",
    "    plt.show()\n"
   ]
  },
  {
   "cell_type": "code",
   "execution_count": null,
   "metadata": {},
   "outputs": [],
   "source": []
  },
  {
   "cell_type": "code",
   "execution_count": null,
   "metadata": {},
   "outputs": [],
   "source": []
  },
  {
   "cell_type": "code",
   "execution_count": null,
   "metadata": {},
   "outputs": [],
   "source": []
  },
  {
   "cell_type": "code",
   "execution_count": 4,
   "metadata": {},
   "outputs": [],
   "source": [
    "cluster = True"
   ]
  },
  {
   "cell_type": "raw",
   "metadata": {
    "lines_to_next_cell": 2
   },
   "source": [
    "if cluster :\n",
    "    imgPath = '/net/SRVSTK20C/drp/fmadec/analysis/subaru/sm1/'\n",
    "    dataPath = \"/net/SRVSTK20C/drp/fmadec/analysis/subaru/sm1/\"\n",
    "    drpPath = \"/net/SRVSTK20C/drp/cluster\"\n",
    "    repo = \"repo\"\n",
    "else:\n",
    "    imgPath = '/home/fmadec/Pictures/analysis/'\n",
    "    dataPath = imgPath\n",
    "    drpPath = \"/home/fmadec/pfs/subaruData/\"    \n",
    "    repo = \"drp\"\n"
   ]
  },
  {
   "cell_type": "code",
   "execution_count": 5,
   "metadata": {
    "lines_to_next_cell": 2
   },
   "outputs": [],
   "source": [
    "if cluster :\n",
    "    imgPath = '/net/SRVSTK20C/drp/fmadec/analysis/subaru/sm1/'\n",
    "    dataPath = \"/net/SRVSTK20C/drp/fmadec/analysis/subaru/sm1/\"\n",
    "    drpPath = \"/net/SRVSTK20C/drp/cluster\"\n",
    "    repo = \"repo\"\n",
    "else:\n",
    "    imgPath = '/media/fmadec/PfsData/PFS/fmadec/analysis/subaru/sm1/'\n",
    "    dataPath = imgPath\n",
    "    drpPath = \"/home/fmadec/pfs/subaruData/\"    \n",
    "    repo = \"sm1-newfoc-20200721\"\n",
    "    repo = \"sm1\""
   ]
  },
  {
   "cell_type": "code",
   "execution_count": null,
   "metadata": {
    "lines_to_next_cell": 2
   },
   "outputs": [],
   "source": []
  },
  {
   "cell_type": "code",
   "execution_count": 6,
   "metadata": {},
   "outputs": [],
   "source": [
    "verbose = True"
   ]
  },
  {
   "cell_type": "code",
   "execution_count": null,
   "metadata": {
    "lines_to_next_cell": 2
   },
   "outputs": [],
   "source": [
    "ExpIds = [2605]  #248 # 255\n",
    "rerun = \"sm1-focus-sep2020\" #\"sm1-march2020\"\n",
    "cam = \"r1\"\n",
    "roi_size = 24\n",
    "doBck = True\n",
    "Sources = [\"argon\"] #, \"Neon\"]\n"
   ]
  },
  {
   "cell_type": "code",
   "execution_count": 6,
   "metadata": {
    "lines_to_next_cell": 2
   },
   "outputs": [],
   "source": [
    "ExpIds = [2605, 2606]  #248 # 255\n",
    "rerun = \"sm1-focus-sep2020\" #\"sm1-march2020\"\n",
    "cam = \"r1\"\n",
    "roi_size = 24\n",
    "doBck = True\n",
    "\n",
    "Sources = [\"argon\", \"neon\"] #, \"Neon\"]\n"
   ]
  },
  {
   "cell_type": "code",
   "execution_count": null,
   "metadata": {
    "lines_to_next_cell": 2
   },
   "outputs": [],
   "source": [
    "ExpIds = [2595, 2596, 2593]  #248 # 255\n",
    "rerun = \"sm1-focus-sep2020\" #\"sm1-march2020\"\n",
    "cam = \"m1\"\n",
    "roi_size = 24\n",
    "doBck = True\n",
    "\n",
    "Sources = [\"argon\", \"neon\", \"hgar\"] #, \"Neon\"]\n"
   ]
  },
  {
   "cell_type": "code",
   "execution_count": 7,
   "metadata": {
    "lines_to_next_cell": 2
   },
   "outputs": [],
   "source": [
    "ExpIds = [2595, 2596]  #248 # 255\n",
    "rerun = \"sm1-focus-sep2020\" #\"sm1-march2020\"\n",
    "cam = \"m1\"\n",
    "roi_size = 24\n",
    "doBck = True\n",
    "\n",
    "Sources = [\"argon\", \"neon\"] #, \"Neon\"]\n"
   ]
  },
  {
   "cell_type": "code",
   "execution_count": null,
   "metadata": {
    "lines_to_next_cell": 2
   },
   "outputs": [],
   "source": [
    "# best foc of med\n",
    "ExpIds = [2599, 2600]\n",
    "rerun = \"sm1-focus-sep2020\" #\"sm1-march2020\"\n",
    "cam = \"m1\"\n",
    "roi_size = 24\n",
    "doBck = True\n",
    "\n",
    "Sources = [\"argon\", \"neon\"] #, \"Neon\"]\n"
   ]
  },
  {
   "cell_type": "code",
   "execution_count": null,
   "metadata": {
    "lines_to_next_cell": 2
   },
   "outputs": [],
   "source": [
    "ExpIds = [2600] #248 # 255\n",
    "rerun = \"sm1-focus-sep2020\" #\"sm1-march2020\"\n",
    "cam = \"m1\"\n",
    "roi_size = 24\n",
    "doBck = True\n",
    "\n",
    "Sources = [\"neon\"] #, \"Neon\"]\n"
   ]
  },
  {
   "cell_type": "code",
   "execution_count": null,
   "metadata": {},
   "outputs": [],
   "source": [
    "# best foc of blue\n",
    "ExpIds = [3140, 3142]\n",
    "rerun = \"sm1-focus-sep2020\" #\"sm1-march2020\"\n",
    "cam = \"b1\"\n",
    "roi_size = 24\n",
    "doBck = True\n",
    "\n",
    "Sources = [\"hgar\", \"neon\"] #, \"Neon\"]\n"
   ]
  },
  {
   "cell_type": "code",
   "execution_count": 8,
   "metadata": {},
   "outputs": [
    {
     "name": "stdout",
     "output_type": "stream",
     "text": [
      "m 1\n"
     ]
    }
   ],
   "source": [
    "#repo = \"drp\"\n",
    "#drpPath = \"/home/fmadec/pfs/subaruData/\"\n",
    "arm = cam[0]\n",
    "sm = int(cam[1])\n",
    "print(arm, sm)"
   ]
  },
  {
   "cell_type": "code",
   "execution_count": 9,
   "metadata": {},
   "outputs": [],
   "source": [
    "SM = \"SM1\"\n",
    "site = \"Subaru\""
   ]
  },
  {
   "cell_type": "raw",
   "metadata": {},
   "source": [
    "ExpIds = [experimentId] #, 250]"
   ]
  },
  {
   "cell_type": "code",
   "execution_count": null,
   "metadata": {},
   "outputs": [],
   "source": []
  },
  {
   "cell_type": "code",
   "execution_count": 10,
   "metadata": {},
   "outputs": [],
   "source": [
    "#extra = \"Imqual_LAM_peaklist_2020July\"\n",
    "extra = \"\""
   ]
  },
  {
   "cell_type": "code",
   "execution_count": 11,
   "metadata": {},
   "outputs": [
    {
     "name": "stdout",
     "output_type": "stream",
     "text": [
      "/net/SRVSTK20C/drp/fmadec/analysis/subaru/sm1/Exp2595/sm1-focus-sep2020_roi24/doBckTrue/Imquality_m1_Exp2595*\n",
      "/net/SRVSTK20C/drp/fmadec/analysis/subaru/sm1/Exp2596/sm1-focus-sep2020_roi24/doBckTrue/Imquality_m1_Exp2596*\n",
      "/net/SRVSTK20C/drp/fmadec/analysis/subaru/sm1/Exp2595/sm1-focus-sep2020_roi24/doBckTrue/Imquality_m1_Exp2595_25933_20200921T09h58.csv\n",
      "/net/SRVSTK20C/drp/fmadec/analysis/subaru/sm1/Exp2595/sm1-focus-sep2020_roi24/doBckTrue/Imquality_m1_Exp2595_25920_20200921T09h58.csv\n",
      "/net/SRVSTK20C/drp/fmadec/analysis/subaru/sm1/Exp2595/sm1-focus-sep2020_roi24/doBckTrue/Imquality_m1_Exp2595_25934_20200921T09h58.csv\n",
      "/net/SRVSTK20C/drp/fmadec/analysis/subaru/sm1/Exp2595/sm1-focus-sep2020_roi24/doBckTrue/Imquality_m1_Exp2595_25917_20200921T09h57.csv\n",
      "/net/SRVSTK20C/drp/fmadec/analysis/subaru/sm1/Exp2595/sm1-focus-sep2020_roi24/doBckTrue/Imquality_m1_Exp2595_25927_20200921T09h58.csv\n",
      "/net/SRVSTK20C/drp/fmadec/analysis/subaru/sm1/Exp2595/sm1-focus-sep2020_roi24/doBckTrue/Imquality_m1_Exp2595_25931_20200921T09h58.csv\n",
      "/net/SRVSTK20C/drp/fmadec/analysis/subaru/sm1/Exp2595/sm1-focus-sep2020_roi24/doBckTrue/Imquality_m1_Exp2595_25922_20200921T09h58.csv\n",
      "/net/SRVSTK20C/drp/fmadec/analysis/subaru/sm1/Exp2595/sm1-focus-sep2020_roi24/doBckTrue/Imquality_m1_Exp2595_25929_20200921T09h58.csv\n",
      "/net/SRVSTK20C/drp/fmadec/analysis/subaru/sm1/Exp2595/sm1-focus-sep2020_roi24/doBckTrue/Imquality_m1_Exp2595_25936_20200921T09h58.csv\n",
      "/net/SRVSTK20C/drp/fmadec/analysis/subaru/sm1/Exp2595/sm1-focus-sep2020_roi24/doBckTrue/Imquality_m1_Exp2595_25919_20200921T09h57.csv\n",
      "/net/SRVSTK20C/drp/fmadec/analysis/subaru/sm1/Exp2595/sm1-focus-sep2020_roi24/doBckTrue/Imquality_m1_Exp2595_25915_20200921T09h57.csv\n",
      "/net/SRVSTK20C/drp/fmadec/analysis/subaru/sm1/Exp2595/sm1-focus-sep2020_roi24/doBckTrue/Imquality_m1_Exp2595_25925_20200921T09h58.csv\n",
      "/net/SRVSTK20C/drp/fmadec/analysis/subaru/sm1/Exp2595/sm1-focus-sep2020_roi24/doBckTrue/Imquality_m1_Exp2595_25937_20200921T09h58.csv\n",
      "/net/SRVSTK20C/drp/fmadec/analysis/subaru/sm1/Exp2595/sm1-focus-sep2020_roi24/doBckTrue/Imquality_m1_Exp2595_25918_20200921T09h57.csv\n",
      "/net/SRVSTK20C/drp/fmadec/analysis/subaru/sm1/Exp2595/sm1-focus-sep2020_roi24/doBckTrue/Imquality_m1_Exp2595_25928_20200921T09h58.csv\n",
      "/net/SRVSTK20C/drp/fmadec/analysis/subaru/sm1/Exp2595/sm1-focus-sep2020_roi24/doBckTrue/Imquality_m1_Exp2595_25924_20200921T09h58.csv\n",
      "/net/SRVSTK20C/drp/fmadec/analysis/subaru/sm1/Exp2595/sm1-focus-sep2020_roi24/doBckTrue/Imquality_m1_Exp2595_25914_20200921T09h57.csv\n",
      "/net/SRVSTK20C/drp/fmadec/analysis/subaru/sm1/Exp2595/sm1-focus-sep2020_roi24/doBckTrue/Imquality_m1_Exp2595_25930_20200921T09h58.csv\n",
      "/net/SRVSTK20C/drp/fmadec/analysis/subaru/sm1/Exp2595/sm1-focus-sep2020_roi24/doBckTrue/Imquality_m1_Exp2595_25923_20200921T09h58.csv\n",
      "/net/SRVSTK20C/drp/fmadec/analysis/subaru/sm1/Exp2595/sm1-focus-sep2020_roi24/doBckTrue/Imquality_m1_Exp2595_25935_20200921T09h58.csv\n",
      "/net/SRVSTK20C/drp/fmadec/analysis/subaru/sm1/Exp2595/sm1-focus-sep2020_roi24/doBckTrue/Imquality_m1_Exp2595_25926_20200921T09h58.csv\n",
      "/net/SRVSTK20C/drp/fmadec/analysis/subaru/sm1/Exp2595/sm1-focus-sep2020_roi24/doBckTrue/Imquality_m1_Exp2595_25916_20200921T09h57.csv\n",
      "/net/SRVSTK20C/drp/fmadec/analysis/subaru/sm1/Exp2595/sm1-focus-sep2020_roi24/doBckTrue/Imquality_m1_Exp2595_25932_20200921T09h58.csv\n",
      "/net/SRVSTK20C/drp/fmadec/analysis/subaru/sm1/Exp2595/sm1-focus-sep2020_roi24/doBckTrue/Imquality_m1_Exp2595_25921_20200921T09h58.csv\n",
      "/net/SRVSTK20C/drp/fmadec/analysis/subaru/sm1/Exp2596/sm1-focus-sep2020_roi24/doBckTrue/Imquality_m1_Exp2596_25943_20200921T09h58.csv\n",
      "/net/SRVSTK20C/drp/fmadec/analysis/subaru/sm1/Exp2596/sm1-focus-sep2020_roi24/doBckTrue/Imquality_m1_Exp2596_25950_20200921T09h58.csv\n",
      "/net/SRVSTK20C/drp/fmadec/analysis/subaru/sm1/Exp2596/sm1-focus-sep2020_roi24/doBckTrue/Imquality_m1_Exp2596_25960_20200921T09h59.csv\n",
      "/net/SRVSTK20C/drp/fmadec/analysis/subaru/sm1/Exp2596/sm1-focus-sep2020_roi24/doBckTrue/Imquality_m1_Exp2596_25944_20200921T09h58.csv\n",
      "/net/SRVSTK20C/drp/fmadec/analysis/subaru/sm1/Exp2596/sm1-focus-sep2020_roi24/doBckTrue/Imquality_m1_Exp2596_25959_20200921T09h59.csv\n",
      "/net/SRVSTK20C/drp/fmadec/analysis/subaru/sm1/Exp2596/sm1-focus-sep2020_roi24/doBckTrue/Imquality_m1_Exp2596_25938_20200921T09h58.csv\n",
      "/net/SRVSTK20C/drp/fmadec/analysis/subaru/sm1/Exp2596/sm1-focus-sep2020_roi24/doBckTrue/Imquality_m1_Exp2596_25948_20200921T09h58.csv\n",
      "/net/SRVSTK20C/drp/fmadec/analysis/subaru/sm1/Exp2596/sm1-focus-sep2020_roi24/doBckTrue/Imquality_m1_Exp2596_25941_20200921T09h58.csv\n",
      "/net/SRVSTK20C/drp/fmadec/analysis/subaru/sm1/Exp2596/sm1-focus-sep2020_roi24/doBckTrue/Imquality_m1_Exp2596_25952_20200921T09h58.csv\n",
      "/net/SRVSTK20C/drp/fmadec/analysis/subaru/sm1/Exp2596/sm1-focus-sep2020_roi24/doBckTrue/Imquality_m1_Exp2596_25946_20200921T09h58.csv\n",
      "/net/SRVSTK20C/drp/fmadec/analysis/subaru/sm1/Exp2596/sm1-focus-sep2020_roi24/doBckTrue/Imquality_m1_Exp2596_25957_20200921T09h59.csv\n",
      "/net/SRVSTK20C/drp/fmadec/analysis/subaru/sm1/Exp2596/sm1-focus-sep2020_roi24/doBckTrue/Imquality_m1_Exp2596_25955_20200921T09h58.csv\n",
      "/net/SRVSTK20C/drp/fmadec/analysis/subaru/sm1/Exp2596/sm1-focus-sep2020_roi24/doBckTrue/Imquality_m1_Exp2596_25956_20200921T09h59.csv\n",
      "/net/SRVSTK20C/drp/fmadec/analysis/subaru/sm1/Exp2596/sm1-focus-sep2020_roi24/doBckTrue/Imquality_m1_Exp2596_25947_20200921T09h58.csv\n",
      "/net/SRVSTK20C/drp/fmadec/analysis/subaru/sm1/Exp2596/sm1-focus-sep2020_roi24/doBckTrue/Imquality_m1_Exp2596_25954_20200921T09h58.csv\n",
      "/net/SRVSTK20C/drp/fmadec/analysis/subaru/sm1/Exp2596/sm1-focus-sep2020_roi24/doBckTrue/Imquality_m1_Exp2596_25940_20200921T09h58.csv\n",
      "/net/SRVSTK20C/drp/fmadec/analysis/subaru/sm1/Exp2596/sm1-focus-sep2020_roi24/doBckTrue/Imquality_m1_Exp2596_25953_20200921T09h58.csv\n",
      "/net/SRVSTK20C/drp/fmadec/analysis/subaru/sm1/Exp2596/sm1-focus-sep2020_roi24/doBckTrue/Imquality_m1_Exp2596_25945_20200921T09h58.csv\n",
      "/net/SRVSTK20C/drp/fmadec/analysis/subaru/sm1/Exp2596/sm1-focus-sep2020_roi24/doBckTrue/Imquality_m1_Exp2596_25949_20200921T09h58.csv\n",
      "/net/SRVSTK20C/drp/fmadec/analysis/subaru/sm1/Exp2596/sm1-focus-sep2020_roi24/doBckTrue/Imquality_m1_Exp2596_25958_20200921T09h59.csv\n",
      "/net/SRVSTK20C/drp/fmadec/analysis/subaru/sm1/Exp2596/sm1-focus-sep2020_roi24/doBckTrue/Imquality_m1_Exp2596_25939_20200921T09h58.csv\n",
      "/net/SRVSTK20C/drp/fmadec/analysis/subaru/sm1/Exp2596/sm1-focus-sep2020_roi24/doBckTrue/Imquality_m1_Exp2596_25942_20200921T09h58.csv\n",
      "/net/SRVSTK20C/drp/fmadec/analysis/subaru/sm1/Exp2596/sm1-focus-sep2020_roi24/doBckTrue/Imquality_m1_Exp2596_25951_20200921T09h58.csv\n",
      "/net/SRVSTK20C/drp/fmadec/analysis/subaru/sm1/Exp2596/sm1-focus-sep2020_roi24/doBckTrue/Imquality_m1_Exp2596_25961_20200921T09h59.csv\n"
     ]
    }
   ],
   "source": [
    "files = []\n",
    "for ExpId in ExpIds :\n",
    "    csvPath = imgPath+\"Exp\"+str(ExpId)+\"/\"+rerun+\"_roi\"+str(roi_size)+\"/doBck\"+str(doBck)+\"/\"+extra\n",
    "    dataPath = csvPath\n",
    "#    print(dataPath)\n",
    "\n",
    "    searchFile = f\"{csvPath}Imquality_{cam}_Exp{ExpId}*\"\n",
    "    print(searchFile)\n",
    "    files.extend(glob.glob(f\"{searchFile}\"))\n",
    "\n",
    "if verbose:\n",
    "    print(*files, sep=\"\\n\")"
   ]
  },
  {
   "cell_type": "code",
   "execution_count": 12,
   "metadata": {},
   "outputs": [],
   "source": [
    "filelist = files"
   ]
  },
  {
   "cell_type": "code",
   "execution_count": 13,
   "metadata": {},
   "outputs": [
    {
     "name": "stdout",
     "output_type": "stream",
     "text": [
      "/net/SRVSTK20C/drp/fmadec/analysis/subaru/sm1/SM1_Subaru_m1_ExpIds_2595-2596_argon-neon_doBckTrue\n",
      "/net/SRVSTK20C/drp/fmadec/analysis/subaru/sm1/SM1_Subaru_m1_ExpIds_2595-2596_argon-neon_scatter_doBckTrue\n",
      "SM1 Subaru m1 ExpIds 2595 2596 argon neon\n",
      "doBckTrue\n"
     ]
    }
   ],
   "source": [
    "comment = extra + f\"doBck{doBck}\"\n",
    "savePlotFile = imgPath+f\"{SM}_{site}_{cam}_ExpIds_{'-'.join(str(x) for x in ExpIds)}_{'-'.join(str(x) for x in Sources)}\"\n",
    "savePlotFile = savePlotFile+f\"_{comment}\"\n",
    "print(savePlotFile)\n",
    "savePlotScatterFile = imgPath+f\"{SM}_{site}_{cam}_ExpIds_{'-'.join(str(x) for x in ExpIds)}_{'-'.join(str(x) for x in Sources)}_scatter\"\n",
    "savePlotScatterFile = savePlotScatterFile+f\"_{comment}\"\n",
    "print(savePlotScatterFile)\n",
    "title = f\"{SM} {site} {cam} ExpIds {' '.join(str(x) for x in ExpIds)} {' '.join(str(x) for x in Sources)}\"\n",
    "title = title + f\"\\n{comment}\"\n",
    "print(title)"
   ]
  },
  {
   "cell_type": "raw",
   "metadata": {},
   "source": [
    "print(filelist)"
   ]
  },
  {
   "cell_type": "code",
   "execution_count": 14,
   "metadata": {
    "lines_to_next_cell": 2
   },
   "outputs": [],
   "source": [
    "ob = pd.concat([pd.read_csv(filen) for filen in filelist ], ignore_index=True)\n",
    "#ob = pd.concat(map(pd.read_csv,files)).reset_index().sort_values(by=\"motor1\")\n"
   ]
  },
  {
   "cell_type": "code",
   "execution_count": 15,
   "metadata": {},
   "outputs": [],
   "source": [
    "ob[\"sep_2ndM\"]= ob.apply(lambda x: np.mean([x[\"sep_x2\"],x[\"sep_y2\"]]) , axis=1)"
   ]
  },
  {
   "cell_type": "code",
   "execution_count": null,
   "metadata": {},
   "outputs": [],
   "source": []
  },
  {
   "cell_type": "code",
   "execution_count": 16,
   "metadata": {},
   "outputs": [
    {
     "data": {
      "text/plain": [
       "array(['Ar', 'Ne'], dtype=object)"
      ]
     },
     "execution_count": 16,
     "metadata": {},
     "output_type": "execute_result"
    }
   ],
   "source": [
    "ob.element.unique()"
   ]
  },
  {
   "cell_type": "code",
   "execution_count": 17,
   "metadata": {},
   "outputs": [
    {
     "data": {
      "text/plain": [
       "array([727.494 , 763.7208, 811.7542, 842.6963, 867.0325, 717.5915,\n",
       "       808.468 , 846.5682])"
      ]
     },
     "execution_count": 17,
     "metadata": {},
     "output_type": "execute_result"
    }
   ],
   "source": [
    "ob.wavelength.unique()"
   ]
  },
  {
   "cell_type": "code",
   "execution_count": 18,
   "metadata": {},
   "outputs": [
    {
     "data": {
      "text/plain": [
       "'Imquality_m1_Exp2595_25933_20200921T09h58.csv'"
      ]
     },
     "execution_count": 18,
     "metadata": {},
     "output_type": "execute_result"
    }
   ],
   "source": [
    "filelist[0].split('/')[-1]"
   ]
  },
  {
   "cell_type": "code",
   "execution_count": null,
   "metadata": {},
   "outputs": [],
   "source": []
  },
  {
   "cell_type": "markdown",
   "metadata": {},
   "source": [
    "# do some filtering if needed/wanted"
   ]
  },
  {
   "cell_type": "code",
   "execution_count": 21,
   "metadata": {},
   "outputs": [],
   "source": [
    "df = ob"
   ]
  },
  {
   "cell_type": "code",
   "execution_count": 22,
   "metadata": {},
   "outputs": [
    {
     "data": {
      "text/plain": [
       "0"
      ]
     },
     "execution_count": 22,
     "metadata": {},
     "output_type": "execute_result"
    }
   ],
   "source": [
    "len(ob[(ob.sep_flag >1) ])"
   ]
  },
  {
   "cell_type": "code",
   "execution_count": 23,
   "metadata": {},
   "outputs": [],
   "source": [
    "df = ob[(ob.sep_flag <1) ]"
   ]
  },
  {
   "cell_type": "code",
   "execution_count": 24,
   "metadata": {},
   "outputs": [
    {
     "name": "stdout",
     "output_type": "stream",
     "text": [
      "[727.494  763.7208 811.7542 842.6963 867.0325 717.5915 808.468  846.5682]\n"
     ]
    }
   ],
   "source": [
    "waves = ob.wavelength.unique()\n",
    "print(waves)"
   ]
  },
  {
   "cell_type": "code",
   "execution_count": 25,
   "metadata": {},
   "outputs": [
    {
     "name": "stdout",
     "output_type": "stream",
     "text": [
      "[  2  63 192 255 339 401 464 525 587 650]\n"
     ]
    }
   ],
   "source": [
    "fibers = ob.fiber.unique()\n",
    "print(fibers)"
   ]
  },
  {
   "cell_type": "code",
   "execution_count": 21,
   "metadata": {},
   "outputs": [
    {
     "name": "stdout",
     "output_type": "stream",
     "text": [
      "724.7163\n",
      "846.5682\n"
     ]
    }
   ],
   "source": [
    "####  Filtering of \n",
    "#ExpIds = [2605, 2606] \n",
    "#rerun = \"sm1-focus-sep2020\"\n",
    "#cam = \"r1\"\n",
    "#roi_size = 24\n",
    "#doBck = True\n",
    "\n",
    "#Sources = [\"argon\", \"neon\"] \n",
    "\n",
    "#because of saturation or CR\n",
    "\n",
    "ind_wave = 8\n",
    "print(waves[ind_wave])\n",
    "df = ob[ob.wavelength != waves[ind_wave]]\n",
    "\n",
    "ind_wave = 11\n",
    "print(waves[ind_wave])\n",
    "df = df[df.wavelength != waves[ind_wave]]\n",
    "\n",
    "df = df[(df.EE5>0.3) & (df.fwhm < 6) ] #=> checked CR "
   ]
  },
  {
   "cell_type": "code",
   "execution_count": 22,
   "metadata": {},
   "outputs": [
    {
     "name": "stdout",
     "output_type": "stream",
     "text": [
      "1598\n",
      "1370\n",
      "228\n",
      "14.267834793491865\n"
     ]
    }
   ],
   "source": [
    "print(len(ob))\n",
    "print(len(df))\n",
    "print(len(ob)-len(df))\n",
    "print(100*(len(ob)-len(df))/len(ob))"
   ]
  },
  {
   "cell_type": "code",
   "execution_count": 26,
   "metadata": {},
   "outputs": [
    {
     "name": "stdout",
     "output_type": "stream",
     "text": [
      "846.5682\n"
     ]
    }
   ],
   "source": [
    "####  Filtering of \n",
    "#ExpIds = [2595, 2596]\n",
    "#rerun = \"sm1-focus-sep2020\"\n",
    "#cam = \"m1\"\n",
    "#roi_size = 24\n",
    "#doBck = True\n",
    "\n",
    "#Sources = [\"argon\", \"neon\"] \n",
    "\n",
    "#because of saturation or CR\n",
    "\n",
    "ind_wave = -1\n",
    "print(waves[ind_wave])\n",
    "df = ob[ob.wavelength != waves[ind_wave]]\n",
    "\n",
    "\n",
    "\n",
    "df = df[(df.EE5>0.7) & (df.fwhm < 6) ] #=> checked CR \n",
    "\n",
    "#update 2020/10/08\n",
    "\n",
    "df = df[(df.fwhm<3.5) & (df.fwhm>2.4)]  #saturation\n"
   ]
  },
  {
   "cell_type": "code",
   "execution_count": 27,
   "metadata": {},
   "outputs": [
    {
     "name": "stdout",
     "output_type": "stream",
     "text": [
      "1920\n",
      "1668\n",
      "252\n",
      "13.125\n"
     ]
    }
   ],
   "source": [
    "print(len(ob))\n",
    "print(len(df))\n",
    "print(len(ob)-len(df))\n",
    "print(100*(len(ob)-len(df))/len(ob))"
   ]
  },
  {
   "cell_type": "code",
   "execution_count": null,
   "metadata": {},
   "outputs": [],
   "source": [
    "####  Filtering of \n",
    "#ExpIds = [2599, 2600]\n",
    "#rerun = \"sm1-focus-sep2020\"\n",
    "#cam = \"m1\"\n",
    "#roi_size = 24\n",
    "#doBck = True\n",
    "\n",
    "#Sources = [\"argon\", \"neon\"] \n",
    "\n",
    "#because of saturation or CR\n",
    "\n",
    "ind_wave = -1\n",
    "print(waves[ind_wave])\n",
    "df = ob[ob.wavelength != waves[ind_wave]]\n",
    "\n",
    "#ind_wave = 11\n",
    "#print(waves[ind_wave])\n",
    "#df = df[df.wavelength != waves[ind_wave]]\n",
    "\n",
    "df = df[(df.EE5>0.75) & (df.fwhm < 6) ] #=> checked CR "
   ]
  },
  {
   "cell_type": "code",
   "execution_count": null,
   "metadata": {},
   "outputs": [],
   "source": [
    "print(len(ob))\n",
    "print(len(df))\n",
    "print(len(ob)-len(df))\n",
    "print(100*(len(ob)-len(df))/len(ob))"
   ]
  },
  {
   "cell_type": "code",
   "execution_count": null,
   "metadata": {},
   "outputs": [],
   "source": [
    "####  Filtering of \n",
    "#\n",
    "#ExpIds = [3140, 3142]\n",
    "#rerun = \"sm1-focus-sep2020\" #\"sm1-march2020\"\n",
    "#cam = \"b1\"\n",
    "#roi_size = 24\n",
    "#doBck = True\n",
    "\n",
    "#Sources = [\"hgar\", \"neon\"] #, \"Neon\"]\n",
    "\n",
    "#because of saturation or CR\n",
    "\n",
    "ind_wave = 2\n",
    "print(waves[ind_wave])\n",
    "df = ob[ob.wavelength != waves[ind_wave]]\n",
    "\n",
    "#ind_wave = 11\n",
    "#print(waves[ind_wave])\n",
    "#df = df[df.wavelength != waves[ind_wave]]\n",
    "\n",
    "#df = df[(df.EE5>0.8) & (df.fwhm < 6) ] #=> checked CR \n",
    "df = df[(df.EE5>0.8)] #=> checked CR \n",
    "\n",
    "#update 2020/10/08\n",
    "\n",
    "df = df[(df.fwhm<3.5) & (df.fwhm>2.4)]  #saturation\n"
   ]
  },
  {
   "cell_type": "code",
   "execution_count": null,
   "metadata": {},
   "outputs": [],
   "source": [
    "print(len(ob))\n",
    "print(len(df))\n",
    "print(len(ob)-len(df))\n",
    "print(100*(len(ob)-len(df))/len(ob))"
   ]
  },
  {
   "cell_type": "code",
   "execution_count": null,
   "metadata": {},
   "outputs": [],
   "source": [
    "df = df[(df.sep_flag <1) ]"
   ]
  },
  {
   "cell_type": "raw",
   "metadata": {},
   "source": [
    "df[(df.wavelength == waves[ind_wave]) & (df.fiber == fibers[ind_fiber])].set_index([\"wavelength\", \"fiber\"])"
   ]
  },
  {
   "cell_type": "code",
   "execution_count": 32,
   "metadata": {},
   "outputs": [],
   "source": [
    "doSavePlot = True"
   ]
  },
  {
   "cell_type": "code",
   "execution_count": null,
   "metadata": {},
   "outputs": [],
   "source": [
    "pdf = df[(df.EE5<0.860)]\n",
    "print(len(pdf))"
   ]
  },
  {
   "cell_type": "code",
   "execution_count": null,
   "metadata": {},
   "outputs": [],
   "source": []
  },
  {
   "cell_type": "code",
   "execution_count": null,
   "metadata": {},
   "outputs": [],
   "source": [
    "pdf = df[(df.fwhm>3.5) | (df.fwhm<2.4)]\n",
    "print(len(pdf))"
   ]
  },
  {
   "cell_type": "code",
   "execution_count": null,
   "metadata": {},
   "outputs": [],
   "source": [
    "pdf.set_index([\"wavelength\", \"fiber\"])[[\"fwhm\", \"brightness\", \"EE5\"]]"
   ]
  },
  {
   "cell_type": "code",
   "execution_count": null,
   "metadata": {},
   "outputs": [],
   "source": [
    "pdf.fwhm_y"
   ]
  },
  {
   "cell_type": "code",
   "execution_count": null,
   "metadata": {},
   "outputs": [],
   "source": [
    "pdf.sep_flag"
   ]
  },
  {
   "cell_type": "code",
   "execution_count": null,
   "metadata": {},
   "outputs": [],
   "source": [
    "ind = 0"
   ]
  },
  {
   "cell_type": "code",
   "execution_count": null,
   "metadata": {},
   "outputs": [],
   "source": [
    "visitId = int(pdf.visit.iloc[ind])\n",
    "print(visitId)\n",
    "print(pdf.wavelength.iloc[ind])\n",
    "print(pdf.fiber.iloc[ind])\n",
    "print(pdf.EE5.iloc[ind])\n",
    "#visitId = 3449 "
   ]
  },
  {
   "cell_type": "code",
   "execution_count": null,
   "metadata": {},
   "outputs": [],
   "source": [
    "print(f\"{drpPath}/{repo}/rerun/{rerun}/detrend/\")"
   ]
  },
  {
   "cell_type": "code",
   "execution_count": null,
   "metadata": {},
   "outputs": [],
   "source": [
    "butler = dafPersist.Butler(f\"{drpPath}/{repo}/rerun/{rerun}/detrend/\")\n",
    "calExp = butler.get(\"calexp\", visit=visitId, arm=arm)"
   ]
  },
  {
   "cell_type": "code",
   "execution_count": null,
   "metadata": {},
   "outputs": [],
   "source": []
  },
  {
   "cell_type": "code",
   "execution_count": null,
   "metadata": {},
   "outputs": [],
   "source": [
    "cx = pdf.px.iloc[ind]\n",
    "cy = pdf.py.iloc[ind]\n",
    "print(cx,cy)\n",
    "#imagefile = imgPath+ pdf.file.iloc[ind]\n",
    "#print(imagefile)"
   ]
  },
  {
   "cell_type": "code",
   "execution_count": null,
   "metadata": {},
   "outputs": [],
   "source": [
    "plotRoiPeak(calExp.image.array, df[df.visit == visitId].reset_index(), roi_size=16, verbose=False)"
   ]
  },
  {
   "cell_type": "code",
   "execution_count": null,
   "metadata": {},
   "outputs": [],
   "source": [
    "plotRoiPeak(calExp.image.array, df[df.visit == visitId].reset_index(), roi_size=16, verbose=False, scale=True)"
   ]
  },
  {
   "cell_type": "code",
   "execution_count": null,
   "metadata": {},
   "outputs": [],
   "source": [
    "ob.wavelength.unique()"
   ]
  },
  {
   "cell_type": "code",
   "execution_count": null,
   "metadata": {},
   "outputs": [],
   "source": [
    "\n",
    "plotOnePeak(calExp.image.array,cx, cy, roi_size=24, vmin=0, vmax= 10, doBck=True, verbose=True)"
   ]
  },
  {
   "cell_type": "code",
   "execution_count": null,
   "metadata": {},
   "outputs": [],
   "source": [
    "getEE(calExp.image.array,cx, cy,doBck=True, roi_size=24)"
   ]
  },
  {
   "cell_type": "code",
   "execution_count": null,
   "metadata": {},
   "outputs": [],
   "source": [
    "\n",
    "for index, row in pdf.iterrows():\n",
    "    visitId = int(row.visit)\n",
    "    calExp2 = butler.get(\"calexp\", visit=visitId, arm=arm)\n",
    "    plotOnePeak(calExp2.image.array,row.px, row.py, roi_size=24, vmin=0, vmax= 10, doBck=True, verbose=True) "
   ]
  },
  {
   "cell_type": "code",
   "execution_count": null,
   "metadata": {},
   "outputs": [],
   "source": []
  },
  {
   "cell_type": "code",
   "execution_count": null,
   "metadata": {},
   "outputs": [],
   "source": []
  },
  {
   "cell_type": "code",
   "execution_count": null,
   "metadata": {},
   "outputs": [],
   "source": []
  },
  {
   "cell_type": "code",
   "execution_count": null,
   "metadata": {},
   "outputs": [],
   "source": [
    "roi_size = 24\n",
    "com = True  # Center Of Mass\n",
    "doBck = doBck # \n",
    "head = 0\n",
    "tail = 0\n",
    "criteria = 'EE5'\n",
    "verbose = False\n",
    "doPrint=True"
   ]
  },
  {
   "cell_type": "raw",
   "metadata": {},
   "source": [
    "imagefilelist = constructFilelist(experimentId, rerun=rerun, repo=repo, basePath=drpPath, subaru=True)\n",
    "imagefile = filelist.query(f\"cam == '{cam.lower()}'\").reset_index()\n",
    "imagefile = imagefile.filepath.iloc[0]\n",
    "\n",
    "if type(imagefile) is str:\n",
    "    hdulist = fits.open(imagefile, \"readonly\")\n",
    "    image = hdulist[1].data\n",
    "plotOnePeak(image,cx, cy, roi_size=12)"
   ]
  },
  {
   "cell_type": "code",
   "execution_count": null,
   "metadata": {},
   "outputs": [],
   "source": [
    "getPeakData(calExp.image.array, cx,cy, roi_size=roi_size, doBck=doBck)"
   ]
  },
  {
   "cell_type": "code",
   "execution_count": null,
   "metadata": {},
   "outputs": [],
   "source": [
    "getEE(calExp.image.array, cx,cy, roi_size=roi_size, doBck=doBck, nRows=5, ee_size=5)"
   ]
  },
  {
   "cell_type": "code",
   "execution_count": null,
   "metadata": {},
   "outputs": [],
   "source": [
    "a = getPeakDataSep(calExp.image.array, cx,cy,roi_size=roi_size, EE=[3,5], mask_size=100, threshold=200, doBck=True)"
   ]
  },
  {
   "cell_type": "code",
   "execution_count": null,
   "metadata": {},
   "outputs": [],
   "source": [
    "a.y2"
   ]
  },
  {
   "cell_type": "code",
   "execution_count": null,
   "metadata": {},
   "outputs": [],
   "source": [
    "a = getPeakDataSep(calExp.image.array, cx,cy,roi_size=roi_size, EE=[3,5], mask_size=100, threshold=200, doBck=False)"
   ]
  },
  {
   "cell_type": "code",
   "execution_count": null,
   "metadata": {},
   "outputs": [],
   "source": [
    "a.y2"
   ]
  },
  {
   "cell_type": "code",
   "execution_count": null,
   "metadata": {},
   "outputs": [],
   "source": []
  }
 ],
 "metadata": {
  "jupytext": {
   "text_representation": {
    "extension": ".py",
    "format_name": "light",
    "format_version": "1.5",
    "jupytext_version": "1.3.4"
   }
  },
  "kernelspec": {
   "display_name": "Python 3",
   "language": "python",
   "name": "python3"
  },
  "language_info": {
   "codemirror_mode": {
    "name": "ipython",
    "version": 3
   },
   "file_extension": ".py",
   "mimetype": "text/x-python",
   "name": "python",
   "nbconvert_exporter": "python",
   "pygments_lexer": "ipython3",
   "version": "3.7.2"
  }
 },
 "nbformat": 4,
 "nbformat_minor": 4
}
