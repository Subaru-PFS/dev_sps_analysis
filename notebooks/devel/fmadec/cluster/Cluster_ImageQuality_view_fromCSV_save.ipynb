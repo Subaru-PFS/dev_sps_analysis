{
 "cells": [
  {
   "cell_type": "code",
   "execution_count": 1,
   "metadata": {
    "lines_to_next_cell": 2
   },
   "outputs": [],
   "source": [
    "from pfs.lam.detAnalysis import *\n",
    "from pfs.lam.fileHandling import *\n",
    "import glob"
   ]
  },
  {
   "cell_type": "code",
   "execution_count": 3,
   "metadata": {},
   "outputs": [],
   "source": [
    "#%matplotlib widget\n",
    "\n",
    "import matplotlib.pyplot as plt\n",
    "#plt.style.use('dark_background')\n",
    "from matplotlib import style\n",
    "style.use('ggplot')"
   ]
  },
  {
   "cell_type": "code",
   "execution_count": 4,
   "metadata": {},
   "outputs": [],
   "source": [
    "cluster = False"
   ]
  },
  {
   "cell_type": "raw",
   "metadata": {
    "lines_to_next_cell": 2
   },
   "source": [
    "if cluster :\n",
    "    imgPath = '/net/SRVSTK20C/drp/fmadec/analysis/subaru/sm1/'\n",
    "    dataPath = \"/net/SRVSTK20C/drp/fmadec/analysis/subaru/sm1/\"\n",
    "    drpPath = \"/net/SRVSTK20C/drp/cluster\"\n",
    "    repo = \"repo\"\n",
    "else:\n",
    "    imgPath = '/home/fmadec/Pictures/analysis/'\n",
    "    dataPath = imgPath\n",
    "    drpPath = \"/home/fmadec/pfs/subaruData/\"    \n",
    "    repo = \"drp\"\n"
   ]
  },
  {
   "cell_type": "code",
   "execution_count": 5,
   "metadata": {
    "lines_to_next_cell": 2
   },
   "outputs": [],
   "source": [
    "if cluster :\n",
    "    imgPath = '/net/SRVSTK20C/drp/fmadec/analysis/subaru/sm1/'\n",
    "    dataPath = \"/net/SRVSTK20C/drp/fmadec/analysis/subaru/sm1/\"\n",
    "    drpPath = \"/net/SRVSTK20C/drp/cluster\"\n",
    "    repo = \"repo\"\n",
    "else:\n",
    "    imgPath = '/media/fmadec/PfsData/PFS/fmadec/analysis/subaru/sm1/'\n",
    "    dataPath = imgPath\n",
    "    drpPath = \"/home/fmadec/pfs/subaruData/\"    \n",
    "    repo = \"sm1-newfoc-20200721\"\n",
    "    repo = \"sm1\""
   ]
  },
  {
   "cell_type": "code",
   "execution_count": null,
   "metadata": {
    "lines_to_next_cell": 2
   },
   "outputs": [],
   "source": []
  },
  {
   "cell_type": "code",
   "execution_count": null,
   "metadata": {},
   "outputs": [],
   "source": []
  },
  {
   "cell_type": "code",
   "execution_count": null,
   "metadata": {},
   "outputs": [],
   "source": []
  },
  {
   "cell_type": "raw",
   "metadata": {},
   "source": [
    "filelist = [\"/home/pfs/shared/Pictures/SM1/\",\n",
    "            \"/home/pfs/shared/Pictures/SM1/Red-channel-alignment/imdata_ExpId950_R1_2019-04-29.csv\"]\n"
   ]
  },
  {
   "cell_type": "raw",
   "metadata": {},
   "source": [
    "filelist = [\"/home/fmadec/Pictures/analysis/imdata_ExpId101_SubaruDithersData_R1_2020-03-25_doBckFalse.csv\"]\n",
    "SM = \"SM1\"\n",
    "cam = \"R1\"\n",
    "ExpIds = [101]\n",
    "Sources = [\"Hgar\"]\n",
    "site = \"Subaru\""
   ]
  },
  {
   "cell_type": "raw",
   "metadata": {},
   "source": [
    "filelist = [\"/home/fmadec/Pictures/analysis/imdata_ExpId134_SubaruDithersData_R1_2020-04-02_doBckFalse.csv\"]\n",
    "filelist = [\"/home/fmadec/Pictures/analysis/imdata_ExpId134_SubaruDithersData_R1_2020-04-02_doBckTrue_NoDarkFlat.csv\"]\n",
    "\n",
    "SM = \"SM1\"\n",
    "cam = \"R1\"\n",
    "ExpIds = [134]\n",
    "Sources = [\"Ne\"]\n",
    "site = \"Subaru\""
   ]
  },
  {
   "cell_type": "code",
   "execution_count": 6,
   "metadata": {},
   "outputs": [],
   "source": [
    "verbose = True"
   ]
  },
  {
   "cell_type": "code",
   "execution_count": 7,
   "metadata": {},
   "outputs": [],
   "source": [
    "experimentId = 2605  #248 # 255\n",
    "rerun = \"sm1-focus-sep2020\" #\"sm1-march2020\"\n",
    "cam = \"r1\"\n",
    "roi_size = 24\n",
    "doBck = True\n",
    "Sources = [\"argon\"] #, \"Neon\"]"
   ]
  },
  {
   "cell_type": "code",
   "execution_count": null,
   "metadata": {},
   "outputs": [],
   "source": []
  },
  {
   "cell_type": "code",
   "execution_count": null,
   "metadata": {
    "lines_to_next_cell": 2
   },
   "outputs": [],
   "source": [
    "ExpIds = [2605, 2606]  #248 # 255\n",
    "rerun = \"sm1-focus-sep2020\" #\"sm1-march2020\"\n",
    "cam = \"r1\"\n",
    "roi_size = 24\n",
    "doBck = True\n",
    "\n",
    "Sources = [\"argon\", \"neon\"] #, \"Neon\"]\n"
   ]
  },
  {
   "cell_type": "code",
   "execution_count": null,
   "metadata": {
    "lines_to_next_cell": 2
   },
   "outputs": [],
   "source": [
    "experimentId = 2600 #248 # 255\n",
    "rerun = \"sm1-focus-sep2020\" #\"sm1-march2020\"\n",
    "cam = \"m1\"\n",
    "roi_size = 24\n",
    "doBck = True\n",
    "\n",
    "Sources = [\"neon\"] #, \"Neon\"]\n"
   ]
  },
  {
   "cell_type": "code",
   "execution_count": 8,
   "metadata": {},
   "outputs": [
    {
     "name": "stdout",
     "output_type": "stream",
     "text": [
      "r 1\n"
     ]
    }
   ],
   "source": [
    "#repo = \"drp\"\n",
    "#drpPath = \"/home/fmadec/pfs/subaruData/\"\n",
    "arm = cam[0]\n",
    "sm = int(cam[1])\n",
    "print(arm, sm)"
   ]
  },
  {
   "cell_type": "code",
   "execution_count": 9,
   "metadata": {},
   "outputs": [],
   "source": [
    "SM = \"SM1\"\n",
    "site = \"Subaru\""
   ]
  },
  {
   "cell_type": "code",
   "execution_count": 10,
   "metadata": {},
   "outputs": [],
   "source": [
    "ExpIds = [experimentId] #, 250]"
   ]
  },
  {
   "cell_type": "code",
   "execution_count": null,
   "metadata": {},
   "outputs": [],
   "source": []
  },
  {
   "cell_type": "code",
   "execution_count": 11,
   "metadata": {},
   "outputs": [],
   "source": [
    "#extra = \"Imqual_LAM_peaklist_2020July\"\n",
    "extra = \"\""
   ]
  },
  {
   "cell_type": "raw",
   "metadata": {},
   "source": [
    "extra = \"Lines_Med_NIST-2\"\n"
   ]
  },
  {
   "cell_type": "raw",
   "metadata": {},
   "source": [
    "files = []\n",
    "for ExpId in ExpIds :\n",
    "    if extra == \"\" :\n",
    "        search_file = f'imquality_{cam}_ExpId{ExpId}_doBck{doBck}.csv'\n",
    "    else:\n",
    "        search_file = f'imquality_{cam}_ExpId{ExpId}_doBck{doBck}_{extra}.csv'\n",
    "    print(f\"{dataPath}{search_file}\")\n",
    "    files.append(glob.glob(f\"{dataPath}{search_file}\")[0])\n",
    "print('\\n'.join(files))"
   ]
  },
  {
   "cell_type": "raw",
   "metadata": {},
   "source": [
    "files = []\n",
    "\n",
    "csvPath = imgPath+\"Exp\"+str(experimentId)+\"/\"+rerun+\"_roi\"+str(roi_size)+\"/doBck\"+str(doBck)+\"/\"+extra\n",
    "dataPath = csvPath\n",
    "print(dataPath)\n",
    "\n",
    "searchFile = f\"{csvPath}Imquality_{cam}_Exp{experimentId}*\"\n",
    "print(searchFile)\n",
    "files = glob.glob(searchFile)\n",
    "\n",
    "if verbose:\n",
    "    print(*files, sep=\"\\n\")"
   ]
  },
  {
   "cell_type": "code",
   "execution_count": 12,
   "metadata": {},
   "outputs": [
    {
     "name": "stdout",
     "output_type": "stream",
     "text": [
      "/media/fmadec/PfsData/PFS/fmadec/analysis/subaru/sm1/Exp2605/sm1-focus-sep2020_roi24/doBckTrue/Imquality_r1_Exp2605*\n",
      "/media/fmadec/PfsData/PFS/fmadec/analysis/subaru/sm1/Exp2605/sm1-focus-sep2020_roi24/doBckTrue/Imquality_r1_Exp2605_26524_20200921T09h55.csv\n",
      "/media/fmadec/PfsData/PFS/fmadec/analysis/subaru/sm1/Exp2605/sm1-focus-sep2020_roi24/doBckTrue/Imquality_r1_Exp2605_26526_20200921T09h55.csv\n",
      "/media/fmadec/PfsData/PFS/fmadec/analysis/subaru/sm1/Exp2605/sm1-focus-sep2020_roi24/doBckTrue/Imquality_r1_Exp2605_26528_20200921T09h55.csv\n",
      "/media/fmadec/PfsData/PFS/fmadec/analysis/subaru/sm1/Exp2605/sm1-focus-sep2020_roi24/doBckTrue/Imquality_r1_Exp2605_26530_20200921T09h55.csv\n",
      "/media/fmadec/PfsData/PFS/fmadec/analysis/subaru/sm1/Exp2605/sm1-focus-sep2020_roi24/doBckTrue/Imquality_r1_Exp2605_26532_20200921T09h55.csv\n",
      "/media/fmadec/PfsData/PFS/fmadec/analysis/subaru/sm1/Exp2605/sm1-focus-sep2020_roi24/doBckTrue/Imquality_r1_Exp2605_26534_20200921T09h55.csv\n",
      "/media/fmadec/PfsData/PFS/fmadec/analysis/subaru/sm1/Exp2605/sm1-focus-sep2020_roi24/doBckTrue/Imquality_r1_Exp2605_26536_20200921T09h55.csv\n",
      "/media/fmadec/PfsData/PFS/fmadec/analysis/subaru/sm1/Exp2605/sm1-focus-sep2020_roi24/doBckTrue/Imquality_r1_Exp2605_26538_20200921T09h55.csv\n",
      "/media/fmadec/PfsData/PFS/fmadec/analysis/subaru/sm1/Exp2605/sm1-focus-sep2020_roi24/doBckTrue/Imquality_r1_Exp2605_26540_20200921T09h55.csv\n",
      "/media/fmadec/PfsData/PFS/fmadec/analysis/subaru/sm1/Exp2605/sm1-focus-sep2020_roi24/doBckTrue/Imquality_r1_Exp2605_26542_20200921T09h55.csv\n",
      "/media/fmadec/PfsData/PFS/fmadec/analysis/subaru/sm1/Exp2605/sm1-focus-sep2020_roi24/doBckTrue/Imquality_r1_Exp2605_26544_20200921T09h55.csv\n",
      "/media/fmadec/PfsData/PFS/fmadec/analysis/subaru/sm1/Exp2605/sm1-focus-sep2020_roi24/doBckTrue/Imquality_r1_Exp2605_26546_20200921T09h55.csv\n"
     ]
    }
   ],
   "source": [
    "files = []\n",
    "for ExpId in ExpIds :\n",
    "    csvPath = imgPath+\"Exp\"+str(ExpId)+\"/\"+rerun+\"_roi\"+str(roi_size)+\"/doBck\"+str(doBck)+\"/\"+extra\n",
    "    dataPath = csvPath\n",
    "#    print(dataPath)\n",
    "\n",
    "    searchFile = f\"{csvPath}Imquality_{cam}_Exp{ExpId}*\"\n",
    "    print(searchFile)\n",
    "    files.extend(glob.glob(f\"{searchFile}\"))\n",
    "\n",
    "if verbose:\n",
    "    print(*files, sep=\"\\n\")"
   ]
  },
  {
   "cell_type": "code",
   "execution_count": 13,
   "metadata": {},
   "outputs": [],
   "source": [
    "filelist = files"
   ]
  },
  {
   "cell_type": "raw",
   "metadata": {},
   "source": [
    "#filelist = ['/home/fmadec/Pictures/analysis/imquality_r1_ExpId225_doBckFalse_peaklist_stack.csv']\n",
    "filelist = ['/home/fmadec/Pictures/analysis/']\n"
   ]
  },
  {
   "cell_type": "raw",
   "metadata": {},
   "source": [
    "filelist = [\"/home/fmadec/Pictures/analysis/imdata_ExpId101_SubaruDithersData_R1_2020-03-25_doBckFalse.csv\",\n",
    "            \"/home/fmadec/Pictures/analysis/imdata_ExpId134_SubaruDithersData_R1_2020-04-02_doBckFalse.csv\"]\n",
    "SM = \"SM1\"\n",
    "cam = \"R1\"\n",
    "ExpIds = [101,134]\n",
    "Sources = [\"Hgar\", \"Ne\"]\n",
    "site = \"Subaru\""
   ]
  },
  {
   "cell_type": "code",
   "execution_count": 14,
   "metadata": {},
   "outputs": [
    {
     "name": "stdout",
     "output_type": "stream",
     "text": [
      "/media/fmadec/PfsData/PFS/fmadec/analysis/subaru/sm1/SM1_Subaru_r1_ExpIds_2605_argon_doBckTrue\n",
      "/media/fmadec/PfsData/PFS/fmadec/analysis/subaru/sm1/SM1_Subaru_r1_ExpIds_2605_argon_scatter_doBckTrue\n",
      "SM1 Subaru r1 ExpIds 2605 argon\n",
      "doBckTrue\n"
     ]
    }
   ],
   "source": [
    "comment = extra + f\"doBck{doBck}\"\n",
    "savePlotFile = imgPath+f\"{SM}_{site}_{cam}_ExpIds_{'-'.join(str(x) for x in ExpIds)}_{'-'.join(str(x) for x in Sources)}\"\n",
    "savePlotFile = savePlotFile+f\"_{comment}\"\n",
    "print(savePlotFile)\n",
    "savePlotScatterFile = imgPath+f\"{SM}_{site}_{cam}_ExpIds_{'-'.join(str(x) for x in ExpIds)}_{'-'.join(str(x) for x in Sources)}_scatter\"\n",
    "savePlotScatterFile = savePlotScatterFile+f\"_{comment}\"\n",
    "print(savePlotScatterFile)\n",
    "title = f\"{SM} {site} {cam} ExpIds {' '.join(str(x) for x in ExpIds)} {' '.join(str(x) for x in Sources)}\"\n",
    "title = title + f\"\\n{comment}\"\n",
    "print(title)"
   ]
  },
  {
   "cell_type": "raw",
   "metadata": {},
   "source": [
    "print(filelist)"
   ]
  },
  {
   "cell_type": "code",
   "execution_count": 15,
   "metadata": {},
   "outputs": [],
   "source": [
    "ob = pd.concat([pd.read_csv(filen) for filen in filelist ], ignore_index=True)\n",
    "#ob = pd.concat(map(pd.read_csv,files)).reset_index().sort_values(by=\"motor1\")"
   ]
  },
  {
   "cell_type": "code",
   "execution_count": null,
   "metadata": {},
   "outputs": [],
   "source": []
  },
  {
   "cell_type": "code",
   "execution_count": 16,
   "metadata": {},
   "outputs": [],
   "source": [
    "ob[\"sep_2ndM\"]= ob.apply(lambda x: np.mean([x[\"sep_x2\"],x[\"sep_y2\"]]) , axis=1)"
   ]
  },
  {
   "cell_type": "code",
   "execution_count": 17,
   "metadata": {},
   "outputs": [
    {
     "data": {
      "text/html": [
       "<div>\n",
       "<style scoped>\n",
       "    .dataframe tbody tr th:only-of-type {\n",
       "        vertical-align: middle;\n",
       "    }\n",
       "\n",
       "    .dataframe tbody tr th {\n",
       "        vertical-align: top;\n",
       "    }\n",
       "\n",
       "    .dataframe thead th {\n",
       "        text-align: right;\n",
       "    }\n",
       "</style>\n",
       "<table border=\"1\" class=\"dataframe\">\n",
       "  <thead>\n",
       "    <tr style=\"text-align: right;\">\n",
       "      <th></th>\n",
       "      <th>Unnamed: 0</th>\n",
       "      <th>objx</th>\n",
       "      <th>objy</th>\n",
       "      <th>pos</th>\n",
       "      <th>oid_x</th>\n",
       "      <th>oid_y</th>\n",
       "      <th>fwhm_x</th>\n",
       "      <th>fwhm_y</th>\n",
       "      <th>fwhm</th>\n",
       "      <th>fwhm_radius</th>\n",
       "      <th>...</th>\n",
       "      <th>motor1</th>\n",
       "      <th>motor2</th>\n",
       "      <th>motor3</th>\n",
       "      <th>fcaFocus</th>\n",
       "      <th>fcaY</th>\n",
       "      <th>fcaZ</th>\n",
       "      <th>cam</th>\n",
       "      <th>obsdate</th>\n",
       "      <th>experimentId</th>\n",
       "      <th>sep_2ndM</th>\n",
       "    </tr>\n",
       "  </thead>\n",
       "  <tbody>\n",
       "    <tr>\n",
       "      <th>0</th>\n",
       "      <td>0</td>\n",
       "      <td>4012.967587</td>\n",
       "      <td>878.403988</td>\n",
       "      <td>0.942494</td>\n",
       "      <td>4012.905896</td>\n",
       "      <td>878.406116</td>\n",
       "      <td>3.275681</td>\n",
       "      <td>3.060459</td>\n",
       "      <td>3.169898</td>\n",
       "      <td>10</td>\n",
       "      <td>...</td>\n",
       "      <td>183.42</td>\n",
       "      <td>187.83</td>\n",
       "      <td>146.14</td>\n",
       "      <td>0.00002</td>\n",
       "      <td>0.00000</td>\n",
       "      <td>0.00000</td>\n",
       "      <td>r1</td>\n",
       "      <td>2020-09-19T00:00:59.500000000</td>\n",
       "      <td>2605</td>\n",
       "      <td>1.540460</td>\n",
       "    </tr>\n",
       "    <tr>\n",
       "      <th>1</th>\n",
       "      <td>1</td>\n",
       "      <td>3633.437599</td>\n",
       "      <td>864.979852</td>\n",
       "      <td>0.962568</td>\n",
       "      <td>3633.385427</td>\n",
       "      <td>864.992127</td>\n",
       "      <td>3.169621</td>\n",
       "      <td>3.158207</td>\n",
       "      <td>3.163919</td>\n",
       "      <td>10</td>\n",
       "      <td>...</td>\n",
       "      <td>183.42</td>\n",
       "      <td>187.83</td>\n",
       "      <td>146.14</td>\n",
       "      <td>0.00002</td>\n",
       "      <td>0.00000</td>\n",
       "      <td>0.00000</td>\n",
       "      <td>r1</td>\n",
       "      <td>2020-09-19T00:00:59.500000000</td>\n",
       "      <td>2605</td>\n",
       "      <td>1.496571</td>\n",
       "    </tr>\n",
       "    <tr>\n",
       "      <th>2</th>\n",
       "      <td>2</td>\n",
       "      <td>2836.139522</td>\n",
       "      <td>844.980859</td>\n",
       "      <td>0.977832</td>\n",
       "      <td>2836.171662</td>\n",
       "      <td>844.982893</td>\n",
       "      <td>3.049828</td>\n",
       "      <td>3.175168</td>\n",
       "      <td>3.113129</td>\n",
       "      <td>10</td>\n",
       "      <td>...</td>\n",
       "      <td>183.42</td>\n",
       "      <td>187.83</td>\n",
       "      <td>146.14</td>\n",
       "      <td>0.00002</td>\n",
       "      <td>0.00000</td>\n",
       "      <td>0.00000</td>\n",
       "      <td>r1</td>\n",
       "      <td>2020-09-19T00:00:59.500000000</td>\n",
       "      <td>2605</td>\n",
       "      <td>1.408921</td>\n",
       "    </tr>\n",
       "    <tr>\n",
       "      <th>3</th>\n",
       "      <td>3</td>\n",
       "      <td>2445.914368</td>\n",
       "      <td>839.536914</td>\n",
       "      <td>0.977638</td>\n",
       "      <td>2445.914963</td>\n",
       "      <td>839.536286</td>\n",
       "      <td>3.074679</td>\n",
       "      <td>3.111759</td>\n",
       "      <td>3.093275</td>\n",
       "      <td>10</td>\n",
       "      <td>...</td>\n",
       "      <td>183.42</td>\n",
       "      <td>187.83</td>\n",
       "      <td>146.14</td>\n",
       "      <td>0.00002</td>\n",
       "      <td>0.00000</td>\n",
       "      <td>0.00000</td>\n",
       "      <td>r1</td>\n",
       "      <td>2020-09-19T00:00:59.500000000</td>\n",
       "      <td>2605</td>\n",
       "      <td>1.465592</td>\n",
       "    </tr>\n",
       "    <tr>\n",
       "      <th>4</th>\n",
       "      <td>4</td>\n",
       "      <td>1999.406149</td>\n",
       "      <td>838.280234</td>\n",
       "      <td>0.977593</td>\n",
       "      <td>1999.375104</td>\n",
       "      <td>838.290446</td>\n",
       "      <td>3.051196</td>\n",
       "      <td>3.154728</td>\n",
       "      <td>3.103394</td>\n",
       "      <td>10</td>\n",
       "      <td>...</td>\n",
       "      <td>183.42</td>\n",
       "      <td>187.83</td>\n",
       "      <td>146.14</td>\n",
       "      <td>0.00002</td>\n",
       "      <td>0.00000</td>\n",
       "      <td>0.00000</td>\n",
       "      <td>r1</td>\n",
       "      <td>2020-09-19T00:00:59.500000000</td>\n",
       "      <td>2605</td>\n",
       "      <td>1.409172</td>\n",
       "    </tr>\n",
       "    <tr>\n",
       "      <th>...</th>\n",
       "      <td>...</td>\n",
       "      <td>...</td>\n",
       "      <td>...</td>\n",
       "      <td>...</td>\n",
       "      <td>...</td>\n",
       "      <td>...</td>\n",
       "      <td>...</td>\n",
       "      <td>...</td>\n",
       "      <td>...</td>\n",
       "      <td>...</td>\n",
       "      <td>...</td>\n",
       "      <td>...</td>\n",
       "      <td>...</td>\n",
       "      <td>...</td>\n",
       "      <td>...</td>\n",
       "      <td>...</td>\n",
       "      <td>...</td>\n",
       "      <td>...</td>\n",
       "      <td>...</td>\n",
       "      <td>...</td>\n",
       "      <td>...</td>\n",
       "    </tr>\n",
       "    <tr>\n",
       "      <th>595</th>\n",
       "      <td>45</td>\n",
       "      <td>1617.670744</td>\n",
       "      <td>3981.669329</td>\n",
       "      <td>0.948620</td>\n",
       "      <td>1617.594731</td>\n",
       "      <td>3981.635045</td>\n",
       "      <td>3.146595</td>\n",
       "      <td>3.324994</td>\n",
       "      <td>3.237024</td>\n",
       "      <td>10</td>\n",
       "      <td>...</td>\n",
       "      <td>183.42</td>\n",
       "      <td>187.83</td>\n",
       "      <td>146.14</td>\n",
       "      <td>-0.00000</td>\n",
       "      <td>0.01664</td>\n",
       "      <td>0.01724</td>\n",
       "      <td>r1</td>\n",
       "      <td>2020-09-19T00:00:59.500000000</td>\n",
       "      <td>2605</td>\n",
       "      <td>1.481735</td>\n",
       "    </tr>\n",
       "    <tr>\n",
       "      <th>596</th>\n",
       "      <td>46</td>\n",
       "      <td>1225.935161</td>\n",
       "      <td>3988.842590</td>\n",
       "      <td>0.948229</td>\n",
       "      <td>1225.957542</td>\n",
       "      <td>3988.720402</td>\n",
       "      <td>3.139109</td>\n",
       "      <td>3.274220</td>\n",
       "      <td>3.207376</td>\n",
       "      <td>10</td>\n",
       "      <td>...</td>\n",
       "      <td>183.42</td>\n",
       "      <td>187.83</td>\n",
       "      <td>146.14</td>\n",
       "      <td>-0.00000</td>\n",
       "      <td>0.01664</td>\n",
       "      <td>0.01724</td>\n",
       "      <td>r1</td>\n",
       "      <td>2020-09-19T00:00:59.500000000</td>\n",
       "      <td>2605</td>\n",
       "      <td>1.553784</td>\n",
       "    </tr>\n",
       "    <tr>\n",
       "      <th>597</th>\n",
       "      <td>47</td>\n",
       "      <td>849.418126</td>\n",
       "      <td>4000.210325</td>\n",
       "      <td>0.947608</td>\n",
       "      <td>849.479039</td>\n",
       "      <td>4000.144572</td>\n",
       "      <td>3.075130</td>\n",
       "      <td>3.344698</td>\n",
       "      <td>3.212743</td>\n",
       "      <td>10</td>\n",
       "      <td>...</td>\n",
       "      <td>183.42</td>\n",
       "      <td>187.83</td>\n",
       "      <td>146.14</td>\n",
       "      <td>-0.00000</td>\n",
       "      <td>0.01664</td>\n",
       "      <td>0.01724</td>\n",
       "      <td>r1</td>\n",
       "      <td>2020-09-19T00:00:59.500000000</td>\n",
       "      <td>2605</td>\n",
       "      <td>1.306826</td>\n",
       "    </tr>\n",
       "    <tr>\n",
       "      <th>598</th>\n",
       "      <td>48</td>\n",
       "      <td>461.272910</td>\n",
       "      <td>4016.716928</td>\n",
       "      <td>0.946700</td>\n",
       "      <td>461.239005</td>\n",
       "      <td>4016.712738</td>\n",
       "      <td>3.115884</td>\n",
       "      <td>3.414184</td>\n",
       "      <td>3.268439</td>\n",
       "      <td>10</td>\n",
       "      <td>...</td>\n",
       "      <td>183.42</td>\n",
       "      <td>187.83</td>\n",
       "      <td>146.14</td>\n",
       "      <td>-0.00000</td>\n",
       "      <td>0.01664</td>\n",
       "      <td>0.01724</td>\n",
       "      <td>r1</td>\n",
       "      <td>2020-09-19T00:00:59.500000000</td>\n",
       "      <td>2605</td>\n",
       "      <td>1.444773</td>\n",
       "    </tr>\n",
       "    <tr>\n",
       "      <th>599</th>\n",
       "      <td>49</td>\n",
       "      <td>66.129500</td>\n",
       "      <td>4038.821846</td>\n",
       "      <td>0.941442</td>\n",
       "      <td>66.177811</td>\n",
       "      <td>4038.730625</td>\n",
       "      <td>3.201403</td>\n",
       "      <td>3.498932</td>\n",
       "      <td>3.353469</td>\n",
       "      <td>10</td>\n",
       "      <td>...</td>\n",
       "      <td>183.42</td>\n",
       "      <td>187.83</td>\n",
       "      <td>146.14</td>\n",
       "      <td>-0.00000</td>\n",
       "      <td>0.01664</td>\n",
       "      <td>0.01724</td>\n",
       "      <td>r1</td>\n",
       "      <td>2020-09-19T00:00:59.500000000</td>\n",
       "      <td>2605</td>\n",
       "      <td>1.547485</td>\n",
       "    </tr>\n",
       "  </tbody>\n",
       "</table>\n",
       "<p>600 rows × 88 columns</p>\n",
       "</div>"
      ],
      "text/plain": [
       "     Unnamed: 0         objx         objy       pos        oid_x        oid_y  \\\n",
       "0             0  4012.967587   878.403988  0.942494  4012.905896   878.406116   \n",
       "1             1  3633.437599   864.979852  0.962568  3633.385427   864.992127   \n",
       "2             2  2836.139522   844.980859  0.977832  2836.171662   844.982893   \n",
       "3             3  2445.914368   839.536914  0.977638  2445.914963   839.536286   \n",
       "4             4  1999.406149   838.280234  0.977593  1999.375104   838.290446   \n",
       "..          ...          ...          ...       ...          ...          ...   \n",
       "595          45  1617.670744  3981.669329  0.948620  1617.594731  3981.635045   \n",
       "596          46  1225.935161  3988.842590  0.948229  1225.957542  3988.720402   \n",
       "597          47   849.418126  4000.210325  0.947608   849.479039  4000.144572   \n",
       "598          48   461.272910  4016.716928  0.946700   461.239005  4016.712738   \n",
       "599          49    66.129500  4038.821846  0.941442    66.177811  4038.730625   \n",
       "\n",
       "       fwhm_x    fwhm_y      fwhm  fwhm_radius  ...  motor1  motor2  motor3  \\\n",
       "0    3.275681  3.060459  3.169898           10  ...  183.42  187.83  146.14   \n",
       "1    3.169621  3.158207  3.163919           10  ...  183.42  187.83  146.14   \n",
       "2    3.049828  3.175168  3.113129           10  ...  183.42  187.83  146.14   \n",
       "3    3.074679  3.111759  3.093275           10  ...  183.42  187.83  146.14   \n",
       "4    3.051196  3.154728  3.103394           10  ...  183.42  187.83  146.14   \n",
       "..        ...       ...       ...          ...  ...     ...     ...     ...   \n",
       "595  3.146595  3.324994  3.237024           10  ...  183.42  187.83  146.14   \n",
       "596  3.139109  3.274220  3.207376           10  ...  183.42  187.83  146.14   \n",
       "597  3.075130  3.344698  3.212743           10  ...  183.42  187.83  146.14   \n",
       "598  3.115884  3.414184  3.268439           10  ...  183.42  187.83  146.14   \n",
       "599  3.201403  3.498932  3.353469           10  ...  183.42  187.83  146.14   \n",
       "\n",
       "     fcaFocus     fcaY     fcaZ  cam                        obsdate  \\\n",
       "0     0.00002  0.00000  0.00000   r1  2020-09-19T00:00:59.500000000   \n",
       "1     0.00002  0.00000  0.00000   r1  2020-09-19T00:00:59.500000000   \n",
       "2     0.00002  0.00000  0.00000   r1  2020-09-19T00:00:59.500000000   \n",
       "3     0.00002  0.00000  0.00000   r1  2020-09-19T00:00:59.500000000   \n",
       "4     0.00002  0.00000  0.00000   r1  2020-09-19T00:00:59.500000000   \n",
       "..        ...      ...      ...  ...                            ...   \n",
       "595  -0.00000  0.01664  0.01724   r1  2020-09-19T00:00:59.500000000   \n",
       "596  -0.00000  0.01664  0.01724   r1  2020-09-19T00:00:59.500000000   \n",
       "597  -0.00000  0.01664  0.01724   r1  2020-09-19T00:00:59.500000000   \n",
       "598  -0.00000  0.01664  0.01724   r1  2020-09-19T00:00:59.500000000   \n",
       "599  -0.00000  0.01664  0.01724   r1  2020-09-19T00:00:59.500000000   \n",
       "\n",
       "     experimentId  sep_2ndM  \n",
       "0            2605  1.540460  \n",
       "1            2605  1.496571  \n",
       "2            2605  1.408921  \n",
       "3            2605  1.465592  \n",
       "4            2605  1.409172  \n",
       "..            ...       ...  \n",
       "595          2605  1.481735  \n",
       "596          2605  1.553784  \n",
       "597          2605  1.306826  \n",
       "598          2605  1.444773  \n",
       "599          2605  1.547485  \n",
       "\n",
       "[600 rows x 88 columns]"
      ]
     },
     "execution_count": 17,
     "metadata": {},
     "output_type": "execute_result"
    }
   ],
   "source": [
    "ob"
   ]
  },
  {
   "cell_type": "code",
   "execution_count": 18,
   "metadata": {},
   "outputs": [
    {
     "data": {
      "text/plain": [
       "array(['Ar'], dtype=object)"
      ]
     },
     "execution_count": 18,
     "metadata": {},
     "output_type": "execute_result"
    }
   ],
   "source": [
    "ob.element.unique()"
   ]
  },
  {
   "cell_type": "code",
   "execution_count": 19,
   "metadata": {},
   "outputs": [
    {
     "data": {
      "text/plain": [
       "array([696.7352, 727.494 , 795.0362, 912.5471, 966.0435])"
      ]
     },
     "execution_count": 19,
     "metadata": {},
     "output_type": "execute_result"
    }
   ],
   "source": [
    "ob.wavelength.unique()"
   ]
  },
  {
   "cell_type": "code",
   "execution_count": null,
   "metadata": {},
   "outputs": [],
   "source": [
    "filelist[0].split('/')[-1]"
   ]
  },
  {
   "cell_type": "code",
   "execution_count": null,
   "metadata": {},
   "outputs": [],
   "source": []
  },
  {
   "cell_type": "raw",
   "metadata": {},
   "source": [
    "ob = []\n",
    "for i,filen in enumerate(filelist):\n",
    "    d = pd.read_csv(filen)\n",
    "    d[\"source\"] = Sources[0]\n",
    "    d[\"expId\"] = ExpIds[0]\n",
    "    d[\"file\"] = filen.split('/')[-1]\n",
    "    ob.append(d)\n",
    "    \n",
    "ob = pd.concat(ob, ignore_index=True)"
   ]
  },
  {
   "cell_type": "raw",
   "metadata": {},
   "source": [
    "def getcsvInfo(filename):\n",
    "    \n",
    "    return filename.split(\"imdata_\")[1].split(\".csv\")[0]"
   ]
  },
  {
   "cell_type": "raw",
   "metadata": {},
   "source": [
    "getcsvInfo(filelist[0])"
   ]
  },
  {
   "cell_type": "code",
   "execution_count": null,
   "metadata": {},
   "outputs": [],
   "source": [
    "def plotImageQuality(dframe, vmin=-1,vmax=-1, par=\"EE3\", hist=None, savePlotFile=None, com=False, doSave=False, title=None ):\n",
    "    \n",
    "    # select peak center \n",
    "    # default x , y are objx and objy, but if it is the center of Mass it is oid_x and oid_y\n",
    "#    x = dframe[\"objx\"]\n",
    "#    y = dframe[\"objy\"]\n",
    "#    if com :\n",
    "#        x = dframe[\"oid_x\"]\n",
    "#        y = dframe[\"oid_y\"]\n",
    "\n",
    "    ## should now be px, py which are affected during calculation according com or not\n",
    "    x = dframe[\"px\"]\n",
    "    y = dframe[\"py\"]    \n",
    "    \n",
    "    z = dframe[par]\n",
    "#    stat = 'ECE5' if par == 'ECE5' else 'EE5'\n",
    "    val = 0.5 if par == \"EE3\" else 0.9\n",
    "\n",
    "    stat = par\n",
    "    xs = dframe[dframe[stat]>val].px\n",
    "    ys = dframe[dframe[stat]>val].py\n",
    "    zs = dframe[dframe[stat]>val][stat]\n",
    "\n",
    "    statEE = f\"{100*len(zs)/len(z):.1f}% of peak have a {par} > {val}\"\n",
    "    # Set up a regular grid of interpolation points\n",
    "    xi, yi = np.linspace(x.min(), x.max(), 100), np.linspace(y.min(), y.max(), 100)\n",
    "    xi, yi = np.meshgrid(xi, yi)\n",
    "\n",
    "    # Interpolate\n",
    "    rbf = scipy.interpolate.Rbf(x, y, z, function='linear')\n",
    "    zi = rbf(xi, yi)\n",
    "\n",
    "    if vmin == -1 :\n",
    "        vmin = z.min()\n",
    "    if vmax == -1 :\n",
    "        vmax = z.max()\n",
    "    if hist is not None:\n",
    "        #fig, (ax1, ax2) = plt.subplots(1, 2, figsize=(8, 4))\n",
    "        fig = plt.figure(figsize=(16, 8))\n",
    "        gs = gridspec.GridSpec(1, 3,\n",
    " #                      width_ratios=[3,1],\n",
    " #                      height_ratios=[1,1]\n",
    "                       )\n",
    "        ax1 = plt.subplot(gs[0,:2])\n",
    "        ax2 = plt.subplot(gs[0,2])\n",
    "        im = ax1.imshow(zi, vmin=vmin, vmax=vmax, origin='lower',\n",
    "                   extent=[x.min(), x.max(), y.min(), y.max()], alpha=0.3)\n",
    "        ax1.scatter(x, y, c=z, vmin=vmin, vmax=vmax)\n",
    "        ax1.set_title(par)\n",
    "        ax1.set_xlim([0,4095])\n",
    "        ax1.set_ylim([0,4175])\n",
    "        fig.colorbar(im, ax=ax1, shrink=1)\n",
    "        dframe[hist].plot.hist(ax=ax2, bins=20)\n",
    "        ax2.axvline(x=val, color='k')\n",
    "        ax2.set_title(\"Histogram\")\n",
    "        if title is not(None):\n",
    "            fig.suptitle(title+\"\\n\"+statEE)\n",
    "        \n",
    "    else : \n",
    "        fig = plt.figure(figsize=(8, 8))\n",
    "\n",
    "        plt.imshow(zi, vmin=vmin, vmax=vmax, origin='lower',\n",
    "                   extent=[x.min(), x.max(), y.min(), y.max()], alpha=0.3)\n",
    "        plt.scatter(x, y, c=z, vmin=vmin, vmax=vmax)\n",
    "        \n",
    "        plt.colorbar(shrink=0.65)\n",
    "        plt.scatter(xs, ys, c=\"r\", marker=\"x\")\n",
    "\n",
    "        plt.xlim(0,4095)\n",
    "        plt.ylim(0,4175)\n",
    "        if title is not(None):\n",
    "            fig.suptitle(title+\"\\n\"+statEE)\n",
    "          \n",
    "    if doSave:\n",
    "        fig.patch.set_alpha(0.5)\n",
    "        plt.savefig(savePlotFile+f\"_{par}.png\")\n",
    "        plt.show()"
   ]
  },
  {
   "cell_type": "code",
   "execution_count": null,
   "metadata": {},
   "outputs": [],
   "source": []
  },
  {
   "cell_type": "raw",
   "metadata": {},
   "source": [
    "def getStatIM(dframe, par=\"EE5\", thresold=0.9):\n",
    "    z = dframe[par]\n",
    "    zs = dframe[dframe[par]>thresold][par]\n",
    "    print(\"%.f %% %s peaks >%s\"%(100*len(zs)/len(z),par, thresold))\n"
   ]
  },
  {
   "cell_type": "code",
   "execution_count": null,
   "metadata": {},
   "outputs": [],
   "source": [
    "def plotOnePeak(image, cx,cy, roi_size=30, doBck=False, nRows=5, vmin=None, vmax=None):\n",
    "    indx = cy\n",
    "    indy = cx\n",
    "\n",
    "    if type(image) is str:\n",
    "        hdulist = fits.open(image, \"readonly\")\n",
    "        image = hdulist[1].data\n",
    "\n",
    "    data = np.copy(image)\n",
    "    outer_data = data[int(indx-roi_size/2):int(indx+roi_size/2), int(indy-roi_size/2):int(indy+roi_size/2)]\n",
    "    \n",
    "    if doBck:\n",
    "        lowRows = image[int(indx-nRows-roi_size/2):int(indx-roi_size/2), int(indy-roi_size/2):int(indy+roi_size/2)]\n",
    "        upRows = image[int(indx+roi_size/2):int(indx+nRows+roi_size/2), int(indy-roi_size/2):int(indy+roi_size/2)]\n",
    "        allRows = np.zeros((2*nRows, roi_size))\n",
    "        allRows[:nRows,:] = lowRows\n",
    "        allRows[-nRows:,:] = upRows\n",
    "        for i in range(roi_size):\n",
    "            outer_data[:,i] -= np.median(allRows[:,i])\n",
    "\n",
    "    vmin = vmin if vmin is not None else np.amin(outer_data)\n",
    "    vmax = vmax if vmax is not None else np.amax(outer_data)\n",
    "    \n",
    "    ax = plt.subplot(111)\n",
    "    im = ax.imshow(outer_data,interpolation=\"none\", origin=\"lower\", vmin=vmin, vmax=vmax)\n",
    "    divider = make_axes_locatable(ax)\n",
    "    cax = divider.append_axes(\"right\", size=\"5%\", pad=0.05)\n",
    "\n",
    "    plt.colorbar(im, cax=cax)\n",
    "    plt.show()"
   ]
  },
  {
   "cell_type": "code",
   "execution_count": null,
   "metadata": {},
   "outputs": [],
   "source": [
    "#ob.fwhm.plot()\n",
    "ob.brightness.plot()\n",
    "print(ob.brightness.min())\n",
    "print(ob.brightness.max())"
   ]
  },
  {
   "cell_type": "code",
   "execution_count": null,
   "metadata": {},
   "outputs": [],
   "source": [
    "plt.figure()\n",
    "#ob.fwhm.plot(ylim=[-5,100])\n",
    "ob.fwhm.plot()"
   ]
  },
  {
   "cell_type": "code",
   "execution_count": null,
   "metadata": {},
   "outputs": [],
   "source": [
    "plt.figure()\n",
    "ax= ob.fwhm.hist(bins=20, figsize=(10,10), )\n",
    "#ax.axvline(x=0.9, color='k')\n",
    "#ax.set_xlim(0.5,1)"
   ]
  },
  {
   "cell_type": "code",
   "execution_count": null,
   "metadata": {},
   "outputs": [],
   "source": [
    "ax= ob.brightness.hist(bins=50, figsize=(10,10), )\n",
    "#ax.axvline(x=0.9, color='k')\n",
    "#ax.set_xlim(0.5,1)"
   ]
  },
  {
   "cell_type": "code",
   "execution_count": null,
   "metadata": {},
   "outputs": [],
   "source": [
    "ob.EE5.hist(bins=50, figsize=(10,10), )"
   ]
  },
  {
   "cell_type": "markdown",
   "metadata": {},
   "source": [
    "# do some filtering if needed/wanted"
   ]
  },
  {
   "cell_type": "code",
   "execution_count": null,
   "metadata": {},
   "outputs": [],
   "source": [
    "df = ob"
   ]
  },
  {
   "cell_type": "code",
   "execution_count": null,
   "metadata": {},
   "outputs": [],
   "source": [
    "len(ob[(ob.sep_flag >1) ])"
   ]
  },
  {
   "cell_type": "code",
   "execution_count": null,
   "metadata": {},
   "outputs": [],
   "source": [
    "df = ob[(ob.sep_flag <1) ]"
   ]
  },
  {
   "cell_type": "code",
   "execution_count": null,
   "metadata": {},
   "outputs": [],
   "source": [
    "df = ob[(ob.sep_flag <1) & (ob.fwhm_x >1.6) & (ob.fwhm_y >1.6) & (ob.fwhm < 10) ]"
   ]
  },
  {
   "cell_type": "code",
   "execution_count": null,
   "metadata": {},
   "outputs": [],
   "source": [
    "df = ob[(ob.sep_flag <1) & (ob.fwhm_x >2.6) & (ob.fwhm < 10) ]"
   ]
  },
  {
   "cell_type": "code",
   "execution_count": null,
   "metadata": {},
   "outputs": [],
   "source": [
    "df = ob[(ob.sep_flag <1) & (ob.fwhm > 2) ]"
   ]
  },
  {
   "cell_type": "code",
   "execution_count": null,
   "metadata": {},
   "outputs": [],
   "source": [
    "df = ob[(ob.sep_flag <1) & (ob.fwhm_x >1.6) & (ob.fwhm_y >1.6) & (ob.fwhm < 10) & (ob.brightness > 5000)]"
   ]
  },
  {
   "cell_type": "code",
   "execution_count": null,
   "metadata": {},
   "outputs": [],
   "source": [
    "df = df[df.EE5>0.3]  # the only point below that in Exp248 is because of CR"
   ]
  },
  {
   "cell_type": "raw",
   "metadata": {},
   "source": [
    "df = ob[(ob.sep_flag <1) & (ob.brightness > 1000)  & (ob.brightness < 45000)]"
   ]
  },
  {
   "cell_type": "raw",
   "metadata": {},
   "source": [
    "df = ob[(ob.sep_flag <1)& (ob.brightness < 45000) ]"
   ]
  },
  {
   "cell_type": "raw",
   "metadata": {},
   "source": [
    "bad = 3449\n",
    "867.0325\n",
    "63"
   ]
  },
  {
   "cell_type": "raw",
   "metadata": {},
   "source": [
    "df = df[(df.wavelength != 867.0325) &  (df.fiber != 63) & (df.visit != 3449)]"
   ]
  },
  {
   "cell_type": "raw",
   "metadata": {},
   "source": [
    "2588 \tarcs \tFocus_Test_R1_low \t25844 \t25853 \texpose arc hgar=5 cam=r1 duplicate=10 head='xcu_r1 motors moveCcd a=183.50 b=187.84 c=146.23 microns abs' name=\"Focus_Test_R1_low\" comments=\"with new invmat from 04-2020 data and pitch correction applied on 09-2020\" \twith new invmat from 04-2020 data and pitch correction applied on 09-2020df = df[(df.wavelength != 867.0325) & (df.visit != 3449)]"
   ]
  },
  {
   "cell_type": "raw",
   "metadata": {},
   "source": [
    "df = df[df.wavelength != 868.18775]"
   ]
  },
  {
   "cell_type": "code",
   "execution_count": null,
   "metadata": {
    "lines_to_next_cell": 2
   },
   "outputs": [],
   "source": [
    "ax= df.brightness.hist(bins=50, figsize=(10,10), )"
   ]
  },
  {
   "cell_type": "code",
   "execution_count": null,
   "metadata": {},
   "outputs": [],
   "source": [
    "df.brightness.plot()\n",
    "print(df.brightness.min())"
   ]
  },
  {
   "cell_type": "code",
   "execution_count": null,
   "metadata": {},
   "outputs": [],
   "source": [
    "df.EE5.hist(bins=50)"
   ]
  },
  {
   "cell_type": "code",
   "execution_count": null,
   "metadata": {},
   "outputs": [],
   "source": [
    "plt.figure()\n",
    "df.fwhm.plot()"
   ]
  },
  {
   "cell_type": "code",
   "execution_count": null,
   "metadata": {},
   "outputs": [],
   "source": [
    "len(df)"
   ]
  },
  {
   "cell_type": "markdown",
   "metadata": {},
   "source": [
    "# find the best EE5 value from the dither sequence"
   ]
  },
  {
   "cell_type": "code",
   "execution_count": null,
   "metadata": {},
   "outputs": [],
   "source": [
    "best = []\n",
    "for key,group in df.groupby([\"wavelength\",\"fiber\"]):\n",
    "#    best.append(group.where(group.EE5 == group.EE5.max()))\n",
    "    best.append(group[group.EE5 == group.EE5.max()])\n",
    "#    print(group.px.std())\n",
    "#    print(group.py.std())\n",
    "\n",
    "    #best.append(key)\n",
    "best = pd.concat(best)"
   ]
  },
  {
   "cell_type": "code",
   "execution_count": null,
   "metadata": {},
   "outputs": [],
   "source": [
    "len(best)"
   ]
  },
  {
   "cell_type": "raw",
   "metadata": {},
   "source": [
    "best2 = ob.groupby([\"wavelength\",\"fiber\"], sort=False)['EE5'].max()"
   ]
  },
  {
   "cell_type": "raw",
   "metadata": {},
   "source": [
    "idx = ob.groupby(['Mt'])['count'].transform(max) == ['count']\n"
   ]
  },
  {
   "cell_type": "code",
   "execution_count": null,
   "metadata": {},
   "outputs": [],
   "source": [
    "doSavePlot = True"
   ]
  },
  {
   "cell_type": "code",
   "execution_count": null,
   "metadata": {},
   "outputs": [],
   "source": [
    "plotImageQualityScatter(best, par=\"EE5\", hist=\"EE5\", savePlotFile=savePlotScatterFile+'_best', title=title+\" best\", doSave=doSavePlot,\\\n",
    "                       vmin=-1, vmax=-1)"
   ]
  },
  {
   "cell_type": "code",
   "execution_count": null,
   "metadata": {},
   "outputs": [],
   "source": [
    "plotImageQualityScatter(best, par=\"EE3\", hist=\"EE3\", savePlotFile=savePlotScatterFile+'_best', title=title+\" best\", doSave=doSavePlot,\\\n",
    "                       vmin=-1, vmax=-1)"
   ]
  },
  {
   "cell_type": "code",
   "execution_count": null,
   "metadata": {},
   "outputs": [],
   "source": [
    "plotImageQualityScatter(best, par=\"brightness\", hist=\"EE5\", savePlotFile=savePlotScatterFile, title=title, doSave=doSavePlot,\\\n",
    "                       vmin=-1, vmax=-1)"
   ]
  },
  {
   "cell_type": "code",
   "execution_count": null,
   "metadata": {
    "lines_to_next_cell": 2
   },
   "outputs": [],
   "source": [
    "plotImageQualityScatter(df, par=\"EE5\", hist=\"EE5\", savePlotFile=savePlotScatterFile, title=title, doSave=doSavePlot)"
   ]
  },
  {
   "cell_type": "raw",
   "metadata": {},
   "source": [
    "plotImageQualityScatter(df, par=\"EE5\", hist=\"EE5\",\\\n",
    "                        savePlotFile=savePlotScatterFile+'scale', title=title,\\\n",
    "                        vmin=0.8, vmax=1,\\\n",
    "                        doSave=doSavePlot)"
   ]
  },
  {
   "cell_type": "raw",
   "metadata": {},
   "source": [
    "plotImageQualityScatter(best, par=\"EE5\", hist=\"EE5\",\\\n",
    "                        savePlotFile=savePlotScatterFile+'_best_scale', title=title,\\\n",
    "                        vmin=0.8, vmax=1,\\\n",
    "                        doSave=doSavePlot)"
   ]
  },
  {
   "cell_type": "code",
   "execution_count": null,
   "metadata": {
    "lines_to_next_cell": 2
   },
   "outputs": [],
   "source": [
    "plotImageQualityScatter(df, par=\"EE3\", hist=\"EE3\", savePlotFile=savePlotScatterFile, title=title,\n",
    "                        vmin=-1, vmax=-1,\n",
    "                        doSave=True)"
   ]
  },
  {
   "cell_type": "code",
   "execution_count": null,
   "metadata": {
    "lines_to_next_cell": 2
   },
   "outputs": [],
   "source": [
    "plotImageQualityScatter(df, par=\"brightness\", hist=\"EE5\", savePlotFile=savePlotScatterFile, title=title,\n",
    "                        vmin=-1, vmax=-1,\n",
    "                        doSave=False)"
   ]
  },
  {
   "cell_type": "raw",
   "metadata": {
    "lines_to_next_cell": 2
   },
   "source": [
    "plotImageQualityScatter(ob, par=\"sep_x2\", hist=\"sep_y2\",\\\n",
    "                        savePlotFile=savePlotScatterFile+\"_2ndM_y\", title=title,\\\n",
    "                        vmin=-1, vmax = -1,\\\n",
    "                        doSave=True)"
   ]
  },
  {
   "cell_type": "raw",
   "metadata": {
    "lines_to_next_cell": 2
   },
   "source": [
    "plotImageQualityScatter(best, par=\"sep_y2\", hist=\"sep_y2\",\\\n",
    "                        savePlotFile=savePlotScatterFile+\"_best_2ndM_y\", title=title,\\\n",
    "                        vmin=0.5, vmax = 2.0,\\\n",
    "                        doSave=True)"
   ]
  },
  {
   "cell_type": "code",
   "execution_count": null,
   "metadata": {
    "lines_to_next_cell": 2
   },
   "outputs": [],
   "source": [
    "plotImageQualityScatter(df, par=\"sep_2ndM\", hist=\"sep_2ndM\",\\\n",
    "                        savePlotFile=savePlotScatterFile+\"_2ndM\", title=title,\\\n",
    "                        vmin=-1, vmax = -1,\\\n",
    "                        doSave=True)"
   ]
  },
  {
   "cell_type": "code",
   "execution_count": null,
   "metadata": {
    "lines_to_next_cell": 2
   },
   "outputs": [],
   "source": [
    "plotImageQualityScatter(ob, par=\"EE5\", hist=\"EE5\", savePlotFile=savePlotScatterFile, title=title, doSave=False)"
   ]
  },
  {
   "cell_type": "code",
   "execution_count": null,
   "metadata": {},
   "outputs": [],
   "source": [
    "ob[\"sep_meanEC5\"]= ob.apply(lambda x: np.mean([x[\"sep_ECE5\"],x[\"sep_ECR5\"]]) , axis=1)"
   ]
  },
  {
   "cell_type": "code",
   "execution_count": null,
   "metadata": {
    "lines_to_next_cell": 2
   },
   "outputs": [],
   "source": [
    "plotImageQualityScatter(ob, par=\"sep_meanEC5\", hist=\"EE5\", savePlotFile=savePlotScatterFile, title=title, doSave=False)"
   ]
  },
  {
   "cell_type": "code",
   "execution_count": null,
   "metadata": {},
   "outputs": [],
   "source": [
    "plotImageQualityScatter(best, par=\"EE3\", hist=\"EE3\", savePlotFile=savePlotScatterFile+'_best', title=title+' best', doSave=doSavePlot,\\\n",
    "                       vmin=-1, vmax=-1)"
   ]
  },
  {
   "cell_type": "code",
   "execution_count": null,
   "metadata": {},
   "outputs": [],
   "source": [
    "plotImageQualityScatter(df, par=\"EE3\", hist=\"EE3\", savePlotFile=savePlotScatterFile, title=title, doSave=doSavePlot,\\\n",
    "                       vmin=-1, vmax=-1)"
   ]
  },
  {
   "cell_type": "code",
   "execution_count": null,
   "metadata": {},
   "outputs": [],
   "source": [
    "df.sep_xy"
   ]
  },
  {
   "cell_type": "code",
   "execution_count": null,
   "metadata": {},
   "outputs": [],
   "source": [
    "getStatIM(df,par='EE5', thresold=0.82)"
   ]
  },
  {
   "cell_type": "code",
   "execution_count": null,
   "metadata": {},
   "outputs": [],
   "source": [
    "df.head()"
   ]
  },
  {
   "cell_type": "code",
   "execution_count": null,
   "metadata": {},
   "outputs": [],
   "source": [
    "ob.fwhm.describe()"
   ]
  },
  {
   "cell_type": "code",
   "execution_count": null,
   "metadata": {},
   "outputs": [],
   "source": [
    "pdf = df[(df.EE5<0.83)]\n",
    "print(len(pdf))"
   ]
  },
  {
   "cell_type": "code",
   "execution_count": null,
   "metadata": {},
   "outputs": [],
   "source": [
    "pdf.set_index([\"wavelength\", \"fiber\"])"
   ]
  },
  {
   "cell_type": "code",
   "execution_count": null,
   "metadata": {},
   "outputs": [],
   "source": [
    "pdf.fwhm_y"
   ]
  },
  {
   "cell_type": "code",
   "execution_count": null,
   "metadata": {},
   "outputs": [],
   "source": [
    "pdf.sep_flag"
   ]
  },
  {
   "cell_type": "code",
   "execution_count": null,
   "metadata": {},
   "outputs": [],
   "source": [
    "ind = 0"
   ]
  },
  {
   "cell_type": "code",
   "execution_count": null,
   "metadata": {},
   "outputs": [],
   "source": [
    "visitId = int(pdf.visit.iloc[ind])\n",
    "print(visitId)\n",
    "print(pdf.wavelength.iloc[ind])\n",
    "print(pdf.fiber.iloc[ind])\n",
    "#visitId = 3449 "
   ]
  },
  {
   "cell_type": "code",
   "execution_count": null,
   "metadata": {},
   "outputs": [],
   "source": [
    "import lsst.daf.persistence as dafPersist"
   ]
  },
  {
   "cell_type": "code",
   "execution_count": null,
   "metadata": {},
   "outputs": [],
   "source": [
    "print(f\"{drpPath}/{repo}/rerun/{rerun}/detrend/\")"
   ]
  },
  {
   "cell_type": "code",
   "execution_count": null,
   "metadata": {},
   "outputs": [],
   "source": [
    "butler = dafPersist.Butler(f\"{drpPath}/{repo}/rerun/{rerun}/detrend/\")\n",
    "calExp = butler.get(\"calexp\", visit=visitId, arm=arm)"
   ]
  },
  {
   "cell_type": "code",
   "execution_count": null,
   "metadata": {},
   "outputs": [],
   "source": []
  },
  {
   "cell_type": "code",
   "execution_count": null,
   "metadata": {},
   "outputs": [],
   "source": [
    "cx = pdf.px.iloc[ind]\n",
    "cy = pdf.py.iloc[ind]\n",
    "print(cx,cy)\n",
    "#imagefile = imgPath+ pdf.file.iloc[ind]\n",
    "#print(imagefile)"
   ]
  },
  {
   "cell_type": "code",
   "execution_count": null,
   "metadata": {
    "lines_to_next_cell": 2
   },
   "outputs": [],
   "source": [
    "def plotOnePeak(image, cx,cy, roi_size=30, doBck=False, nRows=5, vmin=None, vmax=None, verbose=False):\n",
    "    indx = cy\n",
    "    indy = cx\n",
    "\n",
    "    if type(image) is str:\n",
    "        hdulist = fits.open(image, \"readonly\")\n",
    "        image = hdulist[1].data\n",
    "    \n",
    "\n",
    "    data = np.copy(image)\n",
    "    outer_data, inner_data = getRois(data, cx, cy, inner_size=5, outer_size=roi_size, doBck=doBck, nRows=nRows)    \n",
    "    m, s = np.mean(outer_data), np.std(outer_data)\n",
    "    if verbose:\n",
    "        print(f\"mean: {m}\")\n",
    "        print(f\"std: {s}\")\n",
    "    vmin = vmin if vmin is not None else m-s\n",
    "    vmax = vmax if vmax is not None else m+s\n",
    "    \n",
    "    fig, (ax, ax2) = plt.subplots(ncols=2, constrained_layout=True)\n",
    "    #ax = plt.subplot(111)\n",
    "    im = ax.imshow(outer_data,interpolation=\"none\", origin=\"lower\", vmin=vmin, vmax=vmax)\n",
    "    divider = make_axes_locatable(ax)\n",
    "    cax = divider.append_axes(\"right\", size=\"5%\", pad=0.05)\n",
    "    \n",
    "    m = np.log10(np.where(outer_data>0, outer_data, -1))\n",
    "\n",
    "    #ax2 = plt.subplot(121)\n",
    "    im = ax2.imshow(m,interpolation=\"none\", origin=\"lower\",cmap=\"gray\")\n",
    "    \n",
    "    plt.colorbar(im, cax=cax)\n",
    "    plt.show()"
   ]
  },
  {
   "cell_type": "code",
   "execution_count": null,
   "metadata": {},
   "outputs": [],
   "source": [
    "\n",
    "plotOnePeak(calExp.image.array,cx, cy, roi_size=24, vmin=0, vmax= 10, doBck=False, verbose=True)"
   ]
  },
  {
   "cell_type": "code",
   "execution_count": null,
   "metadata": {},
   "outputs": [],
   "source": [
    "roi_size = 24\n",
    "com = True  # Center Of Mass\n",
    "doBck = doBck # \n",
    "head = 0\n",
    "tail = 0\n",
    "criteria = 'EE5'\n",
    "verbose = False\n",
    "doPrint=True"
   ]
  },
  {
   "cell_type": "raw",
   "metadata": {},
   "source": [
    "imagefilelist = constructFilelist(experimentId, rerun=rerun, repo=repo, basePath=drpPath, subaru=True)\n",
    "imagefile = filelist.query(f\"cam == '{cam.lower()}'\").reset_index()\n",
    "imagefile = imagefile.filepath.iloc[0]\n",
    "\n",
    "if type(imagefile) is str:\n",
    "    hdulist = fits.open(imagefile, \"readonly\")\n",
    "    image = hdulist[1].data\n",
    "plotOnePeak(image,cx, cy, roi_size=12)"
   ]
  },
  {
   "cell_type": "code",
   "execution_count": null,
   "metadata": {},
   "outputs": [],
   "source": [
    "getPeakData(calExp.image.array, cx,cy, roi_size=roi_size, doBck=doBck)"
   ]
  },
  {
   "cell_type": "code",
   "execution_count": null,
   "metadata": {},
   "outputs": [],
   "source": [
    "getEE(calExp.image.array, cx,cy, roi_size=roi_size, doBck=doBck, nRows=5, ee_size=5)"
   ]
  },
  {
   "cell_type": "code",
   "execution_count": null,
   "metadata": {},
   "outputs": [],
   "source": [
    "a = getPeakDataSep(calExp.image.array, cx,cy,roi_size=roi_size, EE=[3,5], mask_size=100, threshold=200, doBck=True)"
   ]
  },
  {
   "cell_type": "code",
   "execution_count": null,
   "metadata": {},
   "outputs": [],
   "source": [
    "a.y2"
   ]
  },
  {
   "cell_type": "code",
   "execution_count": null,
   "metadata": {},
   "outputs": [],
   "source": [
    "a = getPeakDataSep(calExp.image.array, cx,cy,roi_size=roi_size, EE=[3,5], mask_size=100, threshold=200, doBck=False)"
   ]
  },
  {
   "cell_type": "code",
   "execution_count": null,
   "metadata": {},
   "outputs": [],
   "source": [
    "a.y2"
   ]
  },
  {
   "cell_type": "code",
   "execution_count": null,
   "metadata": {},
   "outputs": [],
   "source": []
  }
 ],
 "metadata": {
  "jupytext": {
   "text_representation": {
    "extension": ".py",
    "format_name": "light",
    "format_version": "1.5",
    "jupytext_version": "1.3.4"
   }
  },
  "kernelspec": {
   "display_name": "Python 3",
   "language": "python",
   "name": "python3"
  },
  "language_info": {
   "codemirror_mode": {
    "name": "ipython",
    "version": 3
   },
   "file_extension": ".py",
   "mimetype": "text/x-python",
   "name": "python",
   "nbconvert_exporter": "python",
   "pygments_lexer": "ipython3",
   "version": "3.7.2"
  }
 },
 "nbformat": 4,
 "nbformat_minor": 4
}
