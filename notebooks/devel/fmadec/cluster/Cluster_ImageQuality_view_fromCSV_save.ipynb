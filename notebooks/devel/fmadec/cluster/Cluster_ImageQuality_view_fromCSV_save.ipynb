{
 "cells": [
  {
   "cell_type": "code",
   "execution_count": null,
   "metadata": {
    "lines_to_next_cell": 2
   },
   "outputs": [],
   "source": [
    "from pfs.lam.detAnalysis import *\n",
    "from pfs.lam.fileHandling import *\n",
    "import glob"
   ]
  },
  {
   "cell_type": "code",
   "execution_count": null,
   "metadata": {},
   "outputs": [],
   "source": [
    "#%matplotlib widget\n",
    "\n",
    "import matplotlib.pyplot as plt\n",
    "#plt.style.use('dark_background')\n",
    "from matplotlib import style\n",
    "style.use('ggplot')"
   ]
  },
  {
   "cell_type": "code",
   "execution_count": null,
   "metadata": {},
   "outputs": [],
   "source": [
    "cluster = False"
   ]
  },
  {
   "cell_type": "raw",
   "metadata": {
    "lines_to_next_cell": 2
   },
   "source": [
    "if cluster :\n",
    "    imgPath = '/net/SRVSTK20C/drp/fmadec/analysis/subaru/sm1/'\n",
    "    dataPath = \"/net/SRVSTK20C/drp/fmadec/analysis/subaru/sm1/\"\n",
    "    drpPath = \"/net/SRVSTK20C/drp/cluster\"\n",
    "    repo = \"repo\"\n",
    "else:\n",
    "    imgPath = '/home/fmadec/Pictures/analysis/'\n",
    "    dataPath = imgPath\n",
    "    drpPath = \"/home/fmadec/pfs/subaruData/\"    \n",
    "    repo = \"drp\"\n"
   ]
  },
  {
   "cell_type": "code",
   "execution_count": null,
   "metadata": {
    "lines_to_next_cell": 2
   },
   "outputs": [],
   "source": [
    "if cluster :\n",
    "    imgPath = '/net/SRVSTK20C/drp/fmadec/analysis/subaru/sm1/'\n",
    "    dataPath = \"/net/SRVSTK20C/drp/fmadec/analysis/subaru/sm1/\"\n",
    "    drpPath = \"/net/SRVSTK20C/drp/cluster\"\n",
    "    repo = \"repo\"\n",
    "else:\n",
    "    imgPath = '/media/fmadec/PfsData/PFS/fmadec/analysis/subaru/sm1/'\n",
    "    dataPath = imgPath\n",
    "    drpPath = \"/home/fmadec/pfs/subaruData/\"    \n",
    "    repo = \"sm1-newfoc-20200721\"\n",
    "    repo = \"sm1\""
   ]
  },
  {
   "cell_type": "code",
   "execution_count": null,
   "metadata": {
    "lines_to_next_cell": 2
   },
   "outputs": [],
   "source": []
  },
  {
   "cell_type": "code",
   "execution_count": null,
   "metadata": {},
   "outputs": [],
   "source": []
  },
  {
   "cell_type": "code",
   "execution_count": null,
   "metadata": {},
   "outputs": [],
   "source": []
  },
  {
   "cell_type": "raw",
   "metadata": {},
   "source": [
    "filelist = [\"/home/pfs/shared/Pictures/SM1/\",\n",
    "            \"/home/pfs/shared/Pictures/SM1/Red-channel-alignment/imdata_ExpId950_R1_2019-04-29.csv\"]\n"
   ]
  },
  {
   "cell_type": "raw",
   "metadata": {},
   "source": [
    "filelist = [\"/home/fmadec/Pictures/analysis/imdata_ExpId101_SubaruDithersData_R1_2020-03-25_doBckFalse.csv\"]\n",
    "SM = \"SM1\"\n",
    "cam = \"R1\"\n",
    "ExpIds = [101]\n",
    "Sources = [\"Hgar\"]\n",
    "site = \"Subaru\""
   ]
  },
  {
   "cell_type": "raw",
   "metadata": {},
   "source": [
    "filelist = [\"/home/fmadec/Pictures/analysis/imdata_ExpId134_SubaruDithersData_R1_2020-04-02_doBckFalse.csv\"]\n",
    "filelist = [\"/home/fmadec/Pictures/analysis/imdata_ExpId134_SubaruDithersData_R1_2020-04-02_doBckTrue_NoDarkFlat.csv\"]\n",
    "\n",
    "SM = \"SM1\"\n",
    "cam = \"R1\"\n",
    "ExpIds = [134]\n",
    "Sources = [\"Ne\"]\n",
    "site = \"Subaru\""
   ]
  },
  {
   "cell_type": "code",
   "execution_count": null,
   "metadata": {},
   "outputs": [],
   "source": [
    "verbose = True"
   ]
  },
  {
   "cell_type": "code",
   "execution_count": null,
   "metadata": {},
   "outputs": [],
   "source": [
    "experimentId = 2605  #248 # 255\n",
    "rerun = \"sm1-focus-sep2020\" #\"sm1-march2020\"\n",
    "cam = \"r1\"\n",
    "roi_size = 24\n",
    "doBck = True\n",
    "Sources = [\"argon\"] #, \"Neon\"]"
   ]
  },
  {
   "cell_type": "code",
   "execution_count": null,
   "metadata": {},
   "outputs": [],
   "source": []
  },
  {
   "cell_type": "code",
   "execution_count": null,
   "metadata": {
    "lines_to_next_cell": 2
   },
   "outputs": [],
   "source": [
    "ExpIds = [2605, 2606]  #248 # 255\n",
    "rerun = \"sm1-focus-sep2020\" #\"sm1-march2020\"\n",
    "cam = \"r1\"\n",
    "roi_size = 24\n",
    "doBck = True\n",
    "\n",
    "Sources = [\"argon\", \"neon\"] #, \"Neon\"]\n"
   ]
  },
  {
   "cell_type": "code",
   "execution_count": null,
   "metadata": {
    "lines_to_next_cell": 2
   },
   "outputs": [],
   "source": [
    "experimentId = 2600 #248 # 255\n",
    "rerun = \"sm1-focus-sep2020\" #\"sm1-march2020\"\n",
    "cam = \"m1\"\n",
    "roi_size = 24\n",
    "doBck = True\n",
    "\n",
    "Sources = [\"neon\"] #, \"Neon\"]\n"
   ]
  },
  {
   "cell_type": "code",
   "execution_count": null,
   "metadata": {},
   "outputs": [],
   "source": [
    "#repo = \"drp\"\n",
    "#drpPath = \"/home/fmadec/pfs/subaruData/\"\n",
    "arm = cam[0]\n",
    "sm = int(cam[1])\n",
    "print(arm, sm)"
   ]
  },
  {
   "cell_type": "code",
   "execution_count": null,
   "metadata": {},
   "outputs": [],
   "source": [
    "SM = \"SM1\"\n",
    "site = \"Subaru\""
   ]
  },
  {
   "cell_type": "code",
   "execution_count": null,
   "metadata": {},
   "outputs": [],
   "source": [
    "ExpIds = [experimentId] #, 250]"
   ]
  },
  {
   "cell_type": "code",
   "execution_count": null,
   "metadata": {},
   "outputs": [],
   "source": []
  },
  {
   "cell_type": "code",
   "execution_count": null,
   "metadata": {},
   "outputs": [],
   "source": [
    "#extra = \"Imqual_LAM_peaklist_2020July\"\n",
    "extra = \"\""
   ]
  },
  {
   "cell_type": "raw",
   "metadata": {},
   "source": [
    "extra = \"Lines_Med_NIST-2\"\n"
   ]
  },
  {
   "cell_type": "raw",
   "metadata": {},
   "source": [
    "files = []\n",
    "for ExpId in ExpIds :\n",
    "    if extra == \"\" :\n",
    "        search_file = f'imquality_{cam}_ExpId{ExpId}_doBck{doBck}.csv'\n",
    "    else:\n",
    "        search_file = f'imquality_{cam}_ExpId{ExpId}_doBck{doBck}_{extra}.csv'\n",
    "    print(f\"{dataPath}{search_file}\")\n",
    "    files.append(glob.glob(f\"{dataPath}{search_file}\")[0])\n",
    "print('\\n'.join(files))"
   ]
  },
  {
   "cell_type": "raw",
   "metadata": {},
   "source": [
    "files = []\n",
    "\n",
    "csvPath = imgPath+\"Exp\"+str(experimentId)+\"/\"+rerun+\"_roi\"+str(roi_size)+\"/doBck\"+str(doBck)+\"/\"+extra\n",
    "dataPath = csvPath\n",
    "print(dataPath)\n",
    "\n",
    "searchFile = f\"{csvPath}Imquality_{cam}_Exp{experimentId}*\"\n",
    "print(searchFile)\n",
    "files = glob.glob(searchFile)\n",
    "\n",
    "if verbose:\n",
    "    print(*files, sep=\"\\n\")"
   ]
  },
  {
   "cell_type": "code",
   "execution_count": null,
   "metadata": {},
   "outputs": [],
   "source": [
    "files = []\n",
    "for ExpId in ExpIds :\n",
    "    csvPath = imgPath+\"Exp\"+str(ExpId)+\"/\"+rerun+\"_roi\"+str(roi_size)+\"/doBck\"+str(doBck)+\"/\"+extra\n",
    "    dataPath = csvPath\n",
    "#    print(dataPath)\n",
    "\n",
    "    searchFile = f\"{csvPath}Imquality_{cam}_Exp{ExpId}*\"\n",
    "    print(searchFile)\n",
    "    files.extend(glob.glob(f\"{searchFile}\"))\n",
    "\n",
    "if verbose:\n",
    "    print(*files, sep=\"\\n\")"
   ]
  },
  {
   "cell_type": "code",
   "execution_count": null,
   "metadata": {},
   "outputs": [],
   "source": [
    "filelist = files"
   ]
  },
  {
   "cell_type": "raw",
   "metadata": {},
   "source": [
    "#filelist = ['/home/fmadec/Pictures/analysis/imquality_r1_ExpId225_doBckFalse_peaklist_stack.csv']\n",
    "filelist = ['/home/fmadec/Pictures/analysis/']\n"
   ]
  },
  {
   "cell_type": "raw",
   "metadata": {},
   "source": [
    "filelist = [\"/home/fmadec/Pictures/analysis/imdata_ExpId101_SubaruDithersData_R1_2020-03-25_doBckFalse.csv\",\n",
    "            \"/home/fmadec/Pictures/analysis/imdata_ExpId134_SubaruDithersData_R1_2020-04-02_doBckFalse.csv\"]\n",
    "SM = \"SM1\"\n",
    "cam = \"R1\"\n",
    "ExpIds = [101,134]\n",
    "Sources = [\"Hgar\", \"Ne\"]\n",
    "site = \"Subaru\""
   ]
  },
  {
   "cell_type": "code",
   "execution_count": null,
   "metadata": {},
   "outputs": [],
   "source": [
    "comment = extra + f\"doBck{doBck}\"\n",
    "savePlotFile = imgPath+f\"{SM}_{site}_{cam}_ExpIds_{'-'.join(str(x) for x in ExpIds)}_{'-'.join(str(x) for x in Sources)}\"\n",
    "savePlotFile = savePlotFile+f\"_{comment}\"\n",
    "print(savePlotFile)\n",
    "savePlotScatterFile = imgPath+f\"{SM}_{site}_{cam}_ExpIds_{'-'.join(str(x) for x in ExpIds)}_{'-'.join(str(x) for x in Sources)}_scatter\"\n",
    "savePlotScatterFile = savePlotScatterFile+f\"_{comment}\"\n",
    "print(savePlotScatterFile)\n",
    "title = f\"{SM} {site} {cam} ExpIds {' '.join(str(x) for x in ExpIds)} {' '.join(str(x) for x in Sources)}\"\n",
    "title = title + f\"\\n{comment}\"\n",
    "print(title)"
   ]
  },
  {
   "cell_type": "raw",
   "metadata": {},
   "source": [
    "print(filelist)"
   ]
  },
  {
   "cell_type": "code",
   "execution_count": null,
   "metadata": {},
   "outputs": [],
   "source": [
    "ob = pd.concat([pd.read_csv(filen) for filen in filelist ], ignore_index=True)\n",
    "#ob = pd.concat(map(pd.read_csv,files)).reset_index().sort_values(by=\"motor1\")"
   ]
  },
  {
   "cell_type": "code",
   "execution_count": null,
   "metadata": {},
   "outputs": [],
   "source": []
  },
  {
   "cell_type": "code",
   "execution_count": null,
   "metadata": {},
   "outputs": [],
   "source": [
    "ob[\"sep_2ndM\"]= ob.apply(lambda x: np.mean([x[\"sep_x2\"],x[\"sep_y2\"]]) , axis=1)"
   ]
  },
  {
   "cell_type": "code",
   "execution_count": null,
   "metadata": {},
   "outputs": [],
   "source": [
    "ob"
   ]
  },
  {
   "cell_type": "code",
   "execution_count": null,
   "metadata": {},
   "outputs": [],
   "source": [
    "ob.element.unique()"
   ]
  },
  {
   "cell_type": "code",
   "execution_count": null,
   "metadata": {},
   "outputs": [],
   "source": [
    "ob.wavelength.unique()"
   ]
  },
  {
   "cell_type": "code",
   "execution_count": null,
   "metadata": {},
   "outputs": [],
   "source": [
    "filelist[0].split('/')[-1]"
   ]
  },
  {
   "cell_type": "code",
   "execution_count": null,
   "metadata": {},
   "outputs": [],
   "source": []
  },
  {
   "cell_type": "raw",
   "metadata": {},
   "source": [
    "ob = []\n",
    "for i,filen in enumerate(filelist):\n",
    "    d = pd.read_csv(filen)\n",
    "    d[\"source\"] = Sources[0]\n",
    "    d[\"expId\"] = ExpIds[0]\n",
    "    d[\"file\"] = filen.split('/')[-1]\n",
    "    ob.append(d)\n",
    "    \n",
    "ob = pd.concat(ob, ignore_index=True)"
   ]
  },
  {
   "cell_type": "raw",
   "metadata": {},
   "source": [
    "def getcsvInfo(filename):\n",
    "    \n",
    "    return filename.split(\"imdata_\")[1].split(\".csv\")[0]"
   ]
  },
  {
   "cell_type": "raw",
   "metadata": {},
   "source": [
    "getcsvInfo(filelist[0])"
   ]
  },
  {
   "cell_type": "code",
   "execution_count": null,
   "metadata": {},
   "outputs": [],
   "source": [
    "def plotImageQuality(dframe, vmin=-1,vmax=-1, par=\"EE3\", hist=None, savePlotFile=None, com=False, doSave=False, title=None ):\n",
    "    \n",
    "    # select peak center \n",
    "    # default x , y are objx and objy, but if it is the center of Mass it is oid_x and oid_y\n",
    "#    x = dframe[\"objx\"]\n",
    "#    y = dframe[\"objy\"]\n",
    "#    if com :\n",
    "#        x = dframe[\"oid_x\"]\n",
    "#        y = dframe[\"oid_y\"]\n",
    "\n",
    "    ## should now be px, py which are affected during calculation according com or not\n",
    "    x = dframe[\"px\"]\n",
    "    y = dframe[\"py\"]    \n",
    "    \n",
    "    z = dframe[par]\n",
    "#    stat = 'ECE5' if par == 'ECE5' else 'EE5'\n",
    "    val = 0.5 if par == \"EE3\" else 0.9\n",
    "\n",
    "    stat = par\n",
    "    xs = dframe[dframe[stat]>val].px\n",
    "    ys = dframe[dframe[stat]>val].py\n",
    "    zs = dframe[dframe[stat]>val][stat]\n",
    "\n",
    "    statEE = f\"{100*len(zs)/len(z):.1f}% of peak have a {par} > {val}\"\n",
    "    # Set up a regular grid of interpolation points\n",
    "    xi, yi = np.linspace(x.min(), x.max(), 100), np.linspace(y.min(), y.max(), 100)\n",
    "    xi, yi = np.meshgrid(xi, yi)\n",
    "\n",
    "    # Interpolate\n",
    "    rbf = scipy.interpolate.Rbf(x, y, z, function='linear')\n",
    "    zi = rbf(xi, yi)\n",
    "\n",
    "    if vmin == -1 :\n",
    "        vmin = z.min()\n",
    "    if vmax == -1 :\n",
    "        vmax = z.max()\n",
    "    if hist is not None:\n",
    "        #fig, (ax1, ax2) = plt.subplots(1, 2, figsize=(8, 4))\n",
    "        fig = plt.figure(figsize=(16, 8))\n",
    "        gs = gridspec.GridSpec(1, 3,\n",
    " #                      width_ratios=[3,1],\n",
    " #                      height_ratios=[1,1]\n",
    "                       )\n",
    "        ax1 = plt.subplot(gs[0,:2])\n",
    "        ax2 = plt.subplot(gs[0,2])\n",
    "        im = ax1.imshow(zi, vmin=vmin, vmax=vmax, origin='lower',\n",
    "                   extent=[x.min(), x.max(), y.min(), y.max()], alpha=0.3)\n",
    "        ax1.scatter(x, y, c=z, vmin=vmin, vmax=vmax)\n",
    "        ax1.set_title(par)\n",
    "        ax1.set_xlim([0,4095])\n",
    "        ax1.set_ylim([0,4175])\n",
    "        fig.colorbar(im, ax=ax1, shrink=1)\n",
    "        dframe[hist].plot.hist(ax=ax2, bins=20)\n",
    "        ax2.axvline(x=val, color='k')\n",
    "        ax2.set_title(\"Histogram\")\n",
    "        if title is not(None):\n",
    "            fig.suptitle(title+\"\\n\"+statEE)\n",
    "        \n",
    "    else : \n",
    "        fig = plt.figure(figsize=(8, 8))\n",
    "\n",
    "        plt.imshow(zi, vmin=vmin, vmax=vmax, origin='lower',\n",
    "                   extent=[x.min(), x.max(), y.min(), y.max()], alpha=0.3)\n",
    "        plt.scatter(x, y, c=z, vmin=vmin, vmax=vmax)\n",
    "        \n",
    "        plt.colorbar(shrink=0.65)\n",
    "        plt.scatter(xs, ys, c=\"r\", marker=\"x\")\n",
    "\n",
    "        plt.xlim(0,4095)\n",
    "        plt.ylim(0,4175)\n",
    "        if title is not(None):\n",
    "            fig.suptitle(title+\"\\n\"+statEE)\n",
    "          \n",
    "    if doSave:\n",
    "        fig.patch.set_alpha(0.5)\n",
    "        plt.savefig(savePlotFile+f\"_{par}.png\")\n",
    "        plt.show()"
   ]
  },
  {
   "cell_type": "code",
   "execution_count": null,
   "metadata": {},
   "outputs": [],
   "source": []
  },
  {
   "cell_type": "raw",
   "metadata": {},
   "source": [
    "def getStatIM(dframe, par=\"EE5\", thresold=0.9):\n",
    "    z = dframe[par]\n",
    "    zs = dframe[dframe[par]>thresold][par]\n",
    "    print(\"%.f %% %s peaks >%s\"%(100*len(zs)/len(z),par, thresold))\n"
   ]
  },
  {
   "cell_type": "code",
   "execution_count": null,
   "metadata": {},
   "outputs": [],
   "source": [
    "def plotOnePeak(image, cx,cy, roi_size=30, doBck=False, nRows=5, vmin=None, vmax=None):\n",
    "    indx = cy\n",
    "    indy = cx\n",
    "\n",
    "    if type(image) is str:\n",
    "        hdulist = fits.open(image, \"readonly\")\n",
    "        image = hdulist[1].data\n",
    "\n",
    "    data = np.copy(image)\n",
    "    outer_data = data[int(indx-roi_size/2):int(indx+roi_size/2), int(indy-roi_size/2):int(indy+roi_size/2)]\n",
    "    \n",
    "    if doBck:\n",
    "        lowRows = image[int(indx-nRows-roi_size/2):int(indx-roi_size/2), int(indy-roi_size/2):int(indy+roi_size/2)]\n",
    "        upRows = image[int(indx+roi_size/2):int(indx+nRows+roi_size/2), int(indy-roi_size/2):int(indy+roi_size/2)]\n",
    "        allRows = np.zeros((2*nRows, roi_size))\n",
    "        allRows[:nRows,:] = lowRows\n",
    "        allRows[-nRows:,:] = upRows\n",
    "        for i in range(roi_size):\n",
    "            outer_data[:,i] -= np.median(allRows[:,i])\n",
    "\n",
    "    vmin = vmin if vmin is not None else np.amin(outer_data)\n",
    "    vmax = vmax if vmax is not None else np.amax(outer_data)\n",
    "    \n",
    "    ax = plt.subplot(111)\n",
    "    im = ax.imshow(outer_data,interpolation=\"none\", origin=\"lower\", vmin=vmin, vmax=vmax)\n",
    "    divider = make_axes_locatable(ax)\n",
    "    cax = divider.append_axes(\"right\", size=\"5%\", pad=0.05)\n",
    "\n",
    "    plt.colorbar(im, cax=cax)\n",
    "    plt.show()"
   ]
  },
  {
   "cell_type": "code",
   "execution_count": null,
   "metadata": {},
   "outputs": [],
   "source": [
    "#ob.fwhm.plot()\n",
    "ob.brightness.plot()\n",
    "print(ob.brightness.min())\n",
    "print(ob.brightness.max())"
   ]
  },
  {
   "cell_type": "code",
   "execution_count": null,
   "metadata": {},
   "outputs": [],
   "source": [
    "plt.figure()\n",
    "#ob.fwhm.plot(ylim=[-5,100])\n",
    "ob.fwhm.plot()"
   ]
  },
  {
   "cell_type": "code",
   "execution_count": null,
   "metadata": {},
   "outputs": [],
   "source": [
    "plt.figure()\n",
    "ax= ob.fwhm.hist(bins=20, figsize=(10,10), )\n",
    "#ax.axvline(x=0.9, color='k')\n",
    "#ax.set_xlim(0.5,1)"
   ]
  },
  {
   "cell_type": "code",
   "execution_count": null,
   "metadata": {},
   "outputs": [],
   "source": [
    "ax= ob.brightness.hist(bins=50, figsize=(10,10), )\n",
    "#ax.axvline(x=0.9, color='k')\n",
    "#ax.set_xlim(0.5,1)"
   ]
  },
  {
   "cell_type": "code",
   "execution_count": null,
   "metadata": {},
   "outputs": [],
   "source": [
    "ob.EE5.hist(bins=50, figsize=(10,10), )"
   ]
  },
  {
   "cell_type": "markdown",
   "metadata": {},
   "source": [
    "# do some filtering if needed/wanted"
   ]
  },
  {
   "cell_type": "code",
   "execution_count": null,
   "metadata": {},
   "outputs": [],
   "source": [
    "df = ob"
   ]
  },
  {
   "cell_type": "code",
   "execution_count": null,
   "metadata": {},
   "outputs": [],
   "source": [
    "len(ob[(ob.sep_flag >1) ])"
   ]
  },
  {
   "cell_type": "code",
   "execution_count": null,
   "metadata": {},
   "outputs": [],
   "source": [
    "df = ob[(ob.sep_flag <1) ]"
   ]
  },
  {
   "cell_type": "code",
   "execution_count": null,
   "metadata": {},
   "outputs": [],
   "source": [
    "df = ob[(ob.sep_flag <1) & (ob.fwhm_x >1.6) & (ob.fwhm_y >1.6) & (ob.fwhm < 10) ]"
   ]
  },
  {
   "cell_type": "code",
   "execution_count": null,
   "metadata": {},
   "outputs": [],
   "source": [
    "df = ob[(ob.sep_flag <1) & (ob.fwhm_x >2.6) & (ob.fwhm < 10) ]"
   ]
  },
  {
   "cell_type": "code",
   "execution_count": null,
   "metadata": {},
   "outputs": [],
   "source": [
    "df = ob[(ob.sep_flag <1) & (ob.fwhm > 2) ]"
   ]
  },
  {
   "cell_type": "code",
   "execution_count": null,
   "metadata": {},
   "outputs": [],
   "source": [
    "df = ob[(ob.sep_flag <1) & (ob.fwhm_x >1.6) & (ob.fwhm_y >1.6) & (ob.fwhm < 10) & (ob.brightness > 5000)]"
   ]
  },
  {
   "cell_type": "code",
   "execution_count": null,
   "metadata": {},
   "outputs": [],
   "source": [
    "df = df[df.EE5>0.3]  # the only point below that in Exp248 is because of CR"
   ]
  },
  {
   "cell_type": "raw",
   "metadata": {},
   "source": [
    "df = ob[(ob.sep_flag <1) & (ob.brightness > 1000)  & (ob.brightness < 45000)]"
   ]
  },
  {
   "cell_type": "raw",
   "metadata": {},
   "source": [
    "df = ob[(ob.sep_flag <1)& (ob.brightness < 45000) ]"
   ]
  },
  {
   "cell_type": "raw",
   "metadata": {},
   "source": [
    "bad = 3449\n",
    "867.0325\n",
    "63"
   ]
  },
  {
   "cell_type": "raw",
   "metadata": {},
   "source": [
    "df = df[(df.wavelength != 867.0325) &  (df.fiber != 63) & (df.visit != 3449)]"
   ]
  },
  {
   "cell_type": "raw",
   "metadata": {},
   "source": [
    "2588 \tarcs \tFocus_Test_R1_low \t25844 \t25853 \texpose arc hgar=5 cam=r1 duplicate=10 head='xcu_r1 motors moveCcd a=183.50 b=187.84 c=146.23 microns abs' name=\"Focus_Test_R1_low\" comments=\"with new invmat from 04-2020 data and pitch correction applied on 09-2020\" \twith new invmat from 04-2020 data and pitch correction applied on 09-2020df = df[(df.wavelength != 867.0325) & (df.visit != 3449)]"
   ]
  },
  {
   "cell_type": "raw",
   "metadata": {},
   "source": [
    "df = df[df.wavelength != 868.18775]"
   ]
  },
  {
   "cell_type": "code",
   "execution_count": null,
   "metadata": {
    "lines_to_next_cell": 2
   },
   "outputs": [],
   "source": [
    "ax= df.brightness.hist(bins=50, figsize=(10,10), )"
   ]
  },
  {
   "cell_type": "code",
   "execution_count": null,
   "metadata": {},
   "outputs": [],
   "source": [
    "df.brightness.plot()\n",
    "print(df.brightness.min())"
   ]
  },
  {
   "cell_type": "code",
   "execution_count": null,
   "metadata": {},
   "outputs": [],
   "source": [
    "df.EE5.hist(bins=50)"
   ]
  },
  {
   "cell_type": "code",
   "execution_count": null,
   "metadata": {},
   "outputs": [],
   "source": [
    "plt.figure()\n",
    "df.fwhm.plot()"
   ]
  },
  {
   "cell_type": "code",
   "execution_count": null,
   "metadata": {},
   "outputs": [],
   "source": [
    "len(df)"
   ]
  },
  {
   "cell_type": "markdown",
   "metadata": {},
   "source": [
    "# find the best EE5 value from the dither sequence"
   ]
  },
  {
   "cell_type": "code",
   "execution_count": null,
   "metadata": {},
   "outputs": [],
   "source": [
    "best = []\n",
    "for key,group in df.groupby([\"wavelength\",\"fiber\"]):\n",
    "#    best.append(group.where(group.EE5 == group.EE5.max()))\n",
    "    best.append(group[group.EE5 == group.EE5.max()])\n",
    "#    print(group.px.std())\n",
    "#    print(group.py.std())\n",
    "\n",
    "    #best.append(key)\n",
    "best = pd.concat(best)"
   ]
  },
  {
   "cell_type": "code",
   "execution_count": null,
   "metadata": {},
   "outputs": [],
   "source": [
    "len(best)"
   ]
  },
  {
   "cell_type": "raw",
   "metadata": {},
   "source": [
    "best2 = ob.groupby([\"wavelength\",\"fiber\"], sort=False)['EE5'].max()"
   ]
  },
  {
   "cell_type": "raw",
   "metadata": {},
   "source": [
    "idx = ob.groupby(['Mt'])['count'].transform(max) == ['count']\n"
   ]
  },
  {
   "cell_type": "code",
   "execution_count": null,
   "metadata": {},
   "outputs": [],
   "source": [
    "doSavePlot = True"
   ]
  },
  {
   "cell_type": "code",
   "execution_count": null,
   "metadata": {},
   "outputs": [],
   "source": [
    "plotImageQualityScatter(best, par=\"EE5\", hist=\"EE5\", savePlotFile=savePlotScatterFile+'_best', title=title+\" best\", doSave=doSavePlot,\\\n",
    "                       vmin=-1, vmax=-1)"
   ]
  },
  {
   "cell_type": "code",
   "execution_count": null,
   "metadata": {},
   "outputs": [],
   "source": [
    "plotImageQualityScatter(best, par=\"EE3\", hist=\"EE3\", savePlotFile=savePlotScatterFile+'_best', title=title+\" best\", doSave=doSavePlot,\\\n",
    "                       vmin=-1, vmax=-1)"
   ]
  },
  {
   "cell_type": "code",
   "execution_count": null,
   "metadata": {},
   "outputs": [],
   "source": [
    "plotImageQualityScatter(best, par=\"brightness\", hist=\"EE5\", savePlotFile=savePlotScatterFile, title=title, doSave=doSavePlot,\\\n",
    "                       vmin=-1, vmax=-1)"
   ]
  },
  {
   "cell_type": "code",
   "execution_count": null,
   "metadata": {
    "lines_to_next_cell": 2
   },
   "outputs": [],
   "source": [
    "plotImageQualityScatter(df, par=\"EE5\", hist=\"EE5\", savePlotFile=savePlotScatterFile, title=title, doSave=doSavePlot)"
   ]
  },
  {
   "cell_type": "raw",
   "metadata": {},
   "source": [
    "plotImageQualityScatter(df, par=\"EE5\", hist=\"EE5\",\\\n",
    "                        savePlotFile=savePlotScatterFile+'scale', title=title,\\\n",
    "                        vmin=0.8, vmax=1,\\\n",
    "                        doSave=doSavePlot)"
   ]
  },
  {
   "cell_type": "raw",
   "metadata": {},
   "source": [
    "plotImageQualityScatter(best, par=\"EE5\", hist=\"EE5\",\\\n",
    "                        savePlotFile=savePlotScatterFile+'_best_scale', title=title,\\\n",
    "                        vmin=0.8, vmax=1,\\\n",
    "                        doSave=doSavePlot)"
   ]
  },
  {
   "cell_type": "code",
   "execution_count": null,
   "metadata": {
    "lines_to_next_cell": 2
   },
   "outputs": [],
   "source": [
    "plotImageQualityScatter(df, par=\"EE3\", hist=\"EE3\", savePlotFile=savePlotScatterFile, title=title,\n",
    "                        vmin=-1, vmax=-1,\n",
    "                        doSave=True)"
   ]
  },
  {
   "cell_type": "code",
   "execution_count": null,
   "metadata": {
    "lines_to_next_cell": 2
   },
   "outputs": [],
   "source": [
    "plotImageQualityScatter(df, par=\"brightness\", hist=\"EE5\", savePlotFile=savePlotScatterFile, title=title,\n",
    "                        vmin=-1, vmax=-1,\n",
    "                        doSave=False)"
   ]
  },
  {
   "cell_type": "raw",
   "metadata": {
    "lines_to_next_cell": 2
   },
   "source": [
    "plotImageQualityScatter(ob, par=\"sep_x2\", hist=\"sep_y2\",\\\n",
    "                        savePlotFile=savePlotScatterFile+\"_2ndM_y\", title=title,\\\n",
    "                        vmin=-1, vmax = -1,\\\n",
    "                        doSave=True)"
   ]
  },
  {
   "cell_type": "raw",
   "metadata": {
    "lines_to_next_cell": 2
   },
   "source": [
    "plotImageQualityScatter(best, par=\"sep_y2\", hist=\"sep_y2\",\\\n",
    "                        savePlotFile=savePlotScatterFile+\"_best_2ndM_y\", title=title,\\\n",
    "                        vmin=0.5, vmax = 2.0,\\\n",
    "                        doSave=True)"
   ]
  },
  {
   "cell_type": "code",
   "execution_count": null,
   "metadata": {
    "lines_to_next_cell": 2
   },
   "outputs": [],
   "source": [
    "plotImageQualityScatter(df, par=\"sep_2ndM\", hist=\"sep_2ndM\",\\\n",
    "                        savePlotFile=savePlotScatterFile+\"_2ndM\", title=title,\\\n",
    "                        vmin=-1, vmax = -1,\\\n",
    "                        doSave=True)"
   ]
  },
  {
   "cell_type": "code",
   "execution_count": null,
   "metadata": {
    "lines_to_next_cell": 2
   },
   "outputs": [],
   "source": [
    "plotImageQualityScatter(ob, par=\"EE5\", hist=\"EE5\", savePlotFile=savePlotScatterFile, title=title, doSave=False)"
   ]
  },
  {
   "cell_type": "code",
   "execution_count": null,
   "metadata": {},
   "outputs": [],
   "source": [
    "ob[\"sep_meanEC5\"]= ob.apply(lambda x: np.mean([x[\"sep_ECE5\"],x[\"sep_ECR5\"]]) , axis=1)"
   ]
  },
  {
   "cell_type": "code",
   "execution_count": null,
   "metadata": {
    "lines_to_next_cell": 2
   },
   "outputs": [],
   "source": [
    "plotImageQualityScatter(ob, par=\"sep_meanEC5\", hist=\"EE5\", savePlotFile=savePlotScatterFile, title=title, doSave=False)"
   ]
  },
  {
   "cell_type": "code",
   "execution_count": null,
   "metadata": {},
   "outputs": [],
   "source": [
    "plotImageQualityScatter(best, par=\"EE3\", hist=\"EE3\", savePlotFile=savePlotScatterFile+'_best', title=title+' best', doSave=doSavePlot,\\\n",
    "                       vmin=-1, vmax=-1)"
   ]
  },
  {
   "cell_type": "code",
   "execution_count": null,
   "metadata": {},
   "outputs": [],
   "source": [
    "plotImageQualityScatter(df, par=\"EE3\", hist=\"EE3\", savePlotFile=savePlotScatterFile, title=title, doSave=doSavePlot,\\\n",
    "                       vmin=-1, vmax=-1)"
   ]
  },
  {
   "cell_type": "code",
   "execution_count": null,
   "metadata": {},
   "outputs": [],
   "source": [
    "df.sep_xy"
   ]
  },
  {
   "cell_type": "code",
   "execution_count": null,
   "metadata": {},
   "outputs": [],
   "source": [
    "getStatIM(df,par='EE5', thresold=0.82)"
   ]
  },
  {
   "cell_type": "code",
   "execution_count": null,
   "metadata": {},
   "outputs": [],
   "source": [
    "df.head()"
   ]
  },
  {
   "cell_type": "code",
   "execution_count": null,
   "metadata": {},
   "outputs": [],
   "source": [
    "ob.fwhm.describe()"
   ]
  },
  {
   "cell_type": "code",
   "execution_count": null,
   "metadata": {},
   "outputs": [],
   "source": [
    "pdf = df[(df.EE5<0.83)]\n",
    "print(len(pdf))"
   ]
  },
  {
   "cell_type": "code",
   "execution_count": null,
   "metadata": {},
   "outputs": [],
   "source": [
    "pdf.set_index([\"wavelength\", \"fiber\"])"
   ]
  },
  {
   "cell_type": "code",
   "execution_count": null,
   "metadata": {},
   "outputs": [],
   "source": [
    "pdf.fwhm_y"
   ]
  },
  {
   "cell_type": "code",
   "execution_count": null,
   "metadata": {},
   "outputs": [],
   "source": [
    "pdf.sep_flag"
   ]
  },
  {
   "cell_type": "code",
   "execution_count": null,
   "metadata": {},
   "outputs": [],
   "source": [
    "ind = 0"
   ]
  },
  {
   "cell_type": "code",
   "execution_count": null,
   "metadata": {},
   "outputs": [],
   "source": [
    "visitId = int(pdf.visit.iloc[ind])\n",
    "print(visitId)\n",
    "print(pdf.wavelength.iloc[ind])\n",
    "print(pdf.fiber.iloc[ind])\n",
    "#visitId = 3449 "
   ]
  },
  {
   "cell_type": "code",
   "execution_count": null,
   "metadata": {},
   "outputs": [],
   "source": [
    "import lsst.daf.persistence as dafPersist"
   ]
  },
  {
   "cell_type": "code",
   "execution_count": null,
   "metadata": {},
   "outputs": [],
   "source": [
    "print(f\"{drpPath}/{repo}/rerun/{rerun}/detrend/\")"
   ]
  },
  {
   "cell_type": "code",
   "execution_count": null,
   "metadata": {},
   "outputs": [],
   "source": [
    "butler = dafPersist.Butler(f\"{drpPath}/{repo}/rerun/{rerun}/detrend/\")\n",
    "calExp = butler.get(\"calexp\", visit=visitId, arm=arm)"
   ]
  },
  {
   "cell_type": "code",
   "execution_count": null,
   "metadata": {},
   "outputs": [],
   "source": []
  },
  {
   "cell_type": "code",
   "execution_count": null,
   "metadata": {},
   "outputs": [],
   "source": [
    "cx = pdf.px.iloc[ind]\n",
    "cy = pdf.py.iloc[ind]\n",
    "print(cx,cy)\n",
    "#imagefile = imgPath+ pdf.file.iloc[ind]\n",
    "#print(imagefile)"
   ]
  },
  {
   "cell_type": "code",
   "execution_count": null,
   "metadata": {
    "lines_to_next_cell": 2
   },
   "outputs": [],
   "source": [
    "def plotOnePeak(image, cx,cy, roi_size=30, doBck=False, nRows=5, vmin=None, vmax=None, verbose=False):\n",
    "    indx = cy\n",
    "    indy = cx\n",
    "\n",
    "    if type(image) is str:\n",
    "        hdulist = fits.open(image, \"readonly\")\n",
    "        image = hdulist[1].data\n",
    "    \n",
    "\n",
    "    data = np.copy(image)\n",
    "    outer_data, inner_data = getRois(data, cx, cy, inner_size=5, outer_size=roi_size, doBck=doBck, nRows=nRows)    \n",
    "    m, s = np.mean(outer_data), np.std(outer_data)\n",
    "    if verbose:\n",
    "        print(f\"mean: {m}\")\n",
    "        print(f\"std: {s}\")\n",
    "    vmin = vmin if vmin is not None else m-s\n",
    "    vmax = vmax if vmax is not None else m+s\n",
    "    \n",
    "    fig, (ax, ax2) = plt.subplots(ncols=2, constrained_layout=True)\n",
    "    #ax = plt.subplot(111)\n",
    "    im = ax.imshow(outer_data,interpolation=\"none\", origin=\"lower\", vmin=vmin, vmax=vmax)\n",
    "    divider = make_axes_locatable(ax)\n",
    "    cax = divider.append_axes(\"right\", size=\"5%\", pad=0.05)\n",
    "    \n",
    "    m = np.log10(np.where(outer_data>0, outer_data, -1))\n",
    "\n",
    "    #ax2 = plt.subplot(121)\n",
    "    im = ax2.imshow(m,interpolation=\"none\", origin=\"lower\",cmap=\"gray\")\n",
    "    \n",
    "    plt.colorbar(im, cax=cax)\n",
    "    plt.show()"
   ]
  },
  {
   "cell_type": "code",
   "execution_count": null,
   "metadata": {},
   "outputs": [],
   "source": [
    "\n",
    "plotOnePeak(calExp.image.array,cx, cy, roi_size=24, vmin=0, vmax= 10, doBck=False, verbose=True)"
   ]
  },
  {
   "cell_type": "code",
   "execution_count": null,
   "metadata": {},
   "outputs": [],
   "source": [
    "roi_size = 24\n",
    "com = True  # Center Of Mass\n",
    "doBck = doBck # \n",
    "head = 0\n",
    "tail = 0\n",
    "criteria = 'EE5'\n",
    "verbose = False\n",
    "doPrint=True"
   ]
  },
  {
   "cell_type": "raw",
   "metadata": {},
   "source": [
    "imagefilelist = constructFilelist(experimentId, rerun=rerun, repo=repo, basePath=drpPath, subaru=True)\n",
    "imagefile = filelist.query(f\"cam == '{cam.lower()}'\").reset_index()\n",
    "imagefile = imagefile.filepath.iloc[0]\n",
    "\n",
    "if type(imagefile) is str:\n",
    "    hdulist = fits.open(imagefile, \"readonly\")\n",
    "    image = hdulist[1].data\n",
    "plotOnePeak(image,cx, cy, roi_size=12)"
   ]
  },
  {
   "cell_type": "code",
   "execution_count": null,
   "metadata": {},
   "outputs": [],
   "source": [
    "getPeakData(calExp.image.array, cx,cy, roi_size=roi_size, doBck=doBck)"
   ]
  },
  {
   "cell_type": "code",
   "execution_count": null,
   "metadata": {},
   "outputs": [],
   "source": [
    "getEE(calExp.image.array, cx,cy, roi_size=roi_size, doBck=doBck, nRows=5, ee_size=5)"
   ]
  },
  {
   "cell_type": "code",
   "execution_count": null,
   "metadata": {},
   "outputs": [],
   "source": [
    "a = getPeakDataSep(calExp.image.array, cx,cy,roi_size=roi_size, EE=[3,5], mask_size=100, threshold=200, doBck=True)"
   ]
  },
  {
   "cell_type": "code",
   "execution_count": null,
   "metadata": {},
   "outputs": [],
   "source": [
    "a.y2"
   ]
  },
  {
   "cell_type": "code",
   "execution_count": null,
   "metadata": {},
   "outputs": [],
   "source": [
    "a = getPeakDataSep(calExp.image.array, cx,cy,roi_size=roi_size, EE=[3,5], mask_size=100, threshold=200, doBck=False)"
   ]
  },
  {
   "cell_type": "code",
   "execution_count": null,
   "metadata": {},
   "outputs": [],
   "source": [
    "a.y2"
   ]
  },
  {
   "cell_type": "code",
   "execution_count": null,
   "metadata": {},
   "outputs": [],
   "source": []
  }
 ],
 "metadata": {
  "jupytext": {
   "text_representation": {
    "extension": ".py",
    "format_name": "light",
    "format_version": "1.5",
    "jupytext_version": "1.3.4"
   }
  },
  "kernelspec": {
   "display_name": "Python 3",
   "language": "python",
   "name": "python3"
  },
  "language_info": {
   "codemirror_mode": {
    "name": "ipython",
    "version": 3
   },
   "file_extension": ".py",
   "mimetype": "text/x-python",
   "name": "python",
   "nbconvert_exporter": "python",
   "pygments_lexer": "ipython3",
   "version": "3.7.2"
  }
 },
 "nbformat": 4,
 "nbformat_minor": 4
}
