{
 "cells": [
  {
   "cell_type": "code",
   "execution_count": null,
   "metadata": {
    "lines_to_next_cell": 2
   },
   "outputs": [],
   "source": [
    "from pfs.lam.detAnalysis import *\n",
    "from pfs.lam.detFocusAnalysis import *\n",
    "from pfs.lam.fileHandling import *\n",
    "from pfs.lam.style import *\n",
    "import glob\n",
    "import lsst.daf.persistence as dafPersist"
   ]
  },
  {
   "cell_type": "code",
   "execution_count": null,
   "metadata": {},
   "outputs": [],
   "source": [
    "import seaborn as sns\n",
    "import matplotlib.pyplot as plt\n",
    "from datetime import datetime"
   ]
  },
  {
   "cell_type": "code",
   "execution_count": null,
   "metadata": {},
   "outputs": [],
   "source": [
    "from sklearn.ensemble import IsolationForest"
   ]
  },
  {
   "cell_type": "raw",
   "metadata": {
    "lines_to_next_cell": 2
   },
   "source": [
    "imgPath = '/net/SRVSTK20C/drp/fmadec/analysis/subaru/sm1/'\n",
    "dataPath = \"/net/SRVSTK20C/drp/fmadec/analysis/subaru/sm1/\"\n",
    "\n",
    "drpPath = \"/net/SRVSTK20C/drp/cluster\""
   ]
  },
  {
   "cell_type": "code",
   "execution_count": null,
   "metadata": {
    "lines_to_next_cell": 2
   },
   "outputs": [],
   "source": [
    "invMat = \"/home/fmadec/devel/ait-notebook/fmadec/Subaru/SM1/SM1_R1_DetFocusInvMat_20190423_F2.8.mat\"\n",
    "\n",
    "invMat = \"SM1_B1_DetFocusInvMat_20201002.mat\""
   ]
  },
  {
   "cell_type": "code",
   "execution_count": null,
   "metadata": {
    "jupyter": {
     "source_hidden": true
    }
   },
   "outputs": [],
   "source": [
    "def getFocusMap(fitdata, index='relPos', criterias=['EE5','EE3', 'brightness', 'fwhm']): \n",
    "    data = []\n",
    "    for (peak, fiber), series in fitdata.groupby(['peak','fiber']):\n",
    "        #series = series.dropna()\n",
    "        wavelength = series.wavelength.unique()[0]\n",
    "        for criteria in criterias:\n",
    "            if ('fwhm' in criteria) or ('2ndM' in criteria) :\n",
    "                ixmax = series[criteria].idxmin()\n",
    "                value = series[criteria].min()\n",
    "            else:\n",
    "                ixmax = series[criteria].idxmax()\n",
    "                value = series[criteria].max()\n",
    "            focus = series[index][ixmax]\n",
    "            px = series.px[ixmax]\n",
    "            py = series.py[ixmax]\n",
    "            mat = [peak,wavelength,fiber,criteria, px, py, focus, focus+series.motor1.min(), focus+series.motor2.min(), focus+series.motor3.min(), value]\n",
    "            data.append(tuple(mat))\n",
    "    \n",
    "    columns = ['peak','wavelength', 'fiber', 'criteria', 'px', 'py', 'relPos', 'motor1', 'motor2', 'motor3', 'value']\n",
    "    return pd.DataFrame(data, columns=columns)"
   ]
  },
  {
   "cell_type": "code",
   "execution_count": null,
   "metadata": {},
   "outputs": [],
   "source": [
    "def plot_one_group(piston_imdata, wave, fiber, exp, plot_path, criteria=\"EE5\", doSave=False) :\n",
    "    group = piston_imdata.groupby(['wavelength','fiber']).get_group((wave,fiber))\n",
    "    \n",
    "    ax = group.plot.scatter(\"motor1\", \"EE5\",\\\n",
    "                        title=f\"Exp{experimentId} - fiber {fiber} - wave {wave}\",\\\n",
    "                       label=\"EE5\")\n",
    "#    ax2 = ax.twinx()\n",
    "#    group.plot.scatter(\"motor1\", \"sep_x2\", ax=ax,color=\"r\", label=\"sep_x2\" )\n",
    "#    group.plot.scatter(\"motor1\", \"sep_y2\", ax=ax2,color=\"g\", label=\"sep_y2\" )\n",
    "#    group.plot.scatter(\"motor1\", \"sep_ECE5\", ax=ax2,color=\"y\", label=\"sep ECE5\" )\n",
    "\n",
    "    #fig.patch.set_alpha(0.5)\n",
    "    dat = datetime.now().isoformat(timespec='minutes') \n",
    "    if doSave : \n",
    "        plt.savefig(plot_path+f\"Focus_fit_fiber{fiber}_wave{wave}_Exp{exp}_{dat}.png\")\n",
    "    plt.show()"
   ]
  },
  {
   "cell_type": "code",
   "execution_count": null,
   "metadata": {},
   "outputs": [],
   "source": [
    "def str2bool(v):\n",
    "    if v.lower() in ('yes', 'true', 't', 'y', '1'):\n",
    "        return True\n",
    "    elif v.lower() in ('no', 'false', 'f', 'n', '0'):\n",
    "        return False"
   ]
  },
  {
   "cell_type": "code",
   "execution_count": null,
   "metadata": {
    "lines_to_end_of_cell_marker": 2,
    "lines_to_next_cell": 0
   },
   "outputs": [],
   "source": [
    "def plot_groups(piston_imdata, exp, plot_path, plot_prefix=\"Focus_Piston_plots\", title_suffix=None, col=\"fiber\", hue=\"wavelength\", criteria=\"EE5\", doSave=False) :\n",
    "    grid = sns.FacetGrid(piston_imdata, col=col, hue=hue,\n",
    "                         col_wrap=4, height=3, legend_out=True)\n",
    "    grid.map(plt.plot, \"motor1\", criteria, marker=\"+\")\n",
    "    grid.fig.tight_layout(w_pad=1)\n",
    "    grid.set(ylim=(0, 1))\n",
    "    grid.add_legend()\n",
    "    plt.subplots_adjust(top=0.85)\n",
    "    if title_suffix is None:\n",
    "        title = f\"{plot_prefix} - Exp{experimentId}\"\n",
    "    else: \n",
    "        title = f\"{plot_prefix} - Exp{experimentId}\\n{title_suffix}\"\n",
    "    grid.fig.suptitle(title)\n",
    "    dat = datetime.now().isoformat(timespec='minutes') \n",
    "    if doSave:\n",
    "        plt.savefig(plot_path+f\"{plot_prefix}_{col}_{hue}_Exp{exp}_{dat}.png\")\n",
    "    plt.show()"
   ]
  },
  {
   "cell_type": "raw",
   "metadata": {
    "jupyter": {
     "source_hidden": true
    },
    "lines_to_next_cell": 0
   },
   "source": [
    "def main(argv):\n",
    "    \n",
    "    imgPath = '/net/SRVSTK20C/drp/fmadec/analysis/subaru/sm1/'\n",
    "    dataPath = \"/net/SRVSTK20C/drp/fmadec/analysis/subaru/sm1/\"\n",
    "    drpPath = \"/net/SRVSTK20C/drp/cluster\"\n",
    "    imgPath = '/home/fmadec/Pictures/analysis/'\n",
    "    dataPath = imgPath\n",
    "    drpPath = \"/home/fmadec/pfs/subaruData/\"    \n",
    "    \n",
    "    repo = \"repo\"\n",
    "    repo = \"drp\"\n",
    "\n",
    "    extra = ''\n",
    "    \n",
    "    \n",
    "    visit = ''\n",
    "    peak = ''\n",
    "    outpath = ''\n",
    "    try:\n",
    "        opts, args = getopt.getopt(argv,\"hc:o:r:b:e:\",[\"cam=\", \"outpath=\", \"rerun=\", \"doBck=\", \"exp=\"])\n",
    "    except getopt.GetoptError:\n",
    "        print('Cluster_GetBestPlanefromCsv.py -v <visit> -p <peakfile> -c <cam> -r <rerun>')\n",
    "        sys.exit(2)\n",
    "    for opt, arg in opts:\n",
    "        if opt == '-h':\n",
    "            print('Cluster_GetBestPlanefromCsv.py -v <visit> -p <peakfile> -c <cam>')\n",
    "            sys.exit()\n",
    "        elif opt in (\"-e\", \"--exp\"):\n",
    "            experimentId = int(arg)\n",
    "        elif opt in (\"-c\", \"--cam\"):\n",
    "            cam = arg\n",
    "        elif opt in (\"-o\", \"--outpath\"):\n",
    "            outpath = arg\n",
    "        elif opt in (\"-r\", \"--rerun\"):\n",
    "            rerun = arg\n",
    "        elif opt in (\"-b\", \"--doBck\"):\n",
    "            doBck = str2bool(arg)\n",
    "\n",
    "           \n",
    "    piston_index = \"motor1\"\n",
    "\n",
    "\n",
    "    outpath = \"output\\\\\" if outpath is None else outpath\n",
    "\n",
    "    # define defaut parameters\n",
    "    roi_size = 24\n",
    "    com = True  # Center Of Mass\n",
    "    doBck = True\n",
    "    head = 0\n",
    "    tail = 0\n",
    "    criteria = 'EE5'\n",
    "    verbose = False\n",
    "    doPrint = False\n",
    "    arm = cam[0]\n",
    "    \n",
    "\n",
    "    \n",
    "    csvPath = imgPath+\"Exp\"+str(experimentId)+\"/\"+rerun+\"_roi\"+str(roi_size)+\"/doBck\"+str(doBck)+\"/\"+extra\n",
    "    dataPath = csvPath\n",
    "    print(dataPath)\n",
    "    \n",
    "    searchFile = f\"{csvPath}Imquality_{cam}_Exp{experimentId}*\"\n",
    "    print(searchFile)\n",
    "    files = glob.glob(searchFile)\n",
    "    \n",
    "    if verbose:\n",
    "        print(*files, sep=\"\\n\")\n",
    "        \n",
    "    piston_imdata = pd.concat(map(pd.read_csv,files)).reset_index()\n",
    "    \n",
    "    print(f\"Wavelength used: {piston_imdata.wavelength.unique()}\")\n",
    "    minPos = piston_imdata[['motor1','motor2','motor3']]\n",
    "    minPos = minPos - minPos.min()\n",
    "    piston_imdata['relPos'] = minPos['motor1']\n",
    "    \n",
    "\n",
    "    piston_fitdata = fitFocusData(piston_imdata, index=piston_index, doPlot=False, criterias=['EE5'] )\n",
    "\n",
    "    piston_focusMap = getFocusMap(piston_fitdata.dropna(), index=piston_index, criterias=['EE5'])\n",
    "\n",
    "    piston_focusMap[\"experimentId\"] = experimentId\n",
    "\n",
    "    piston_fitdata.to_csv(f\"{csvPath}imquality_{cam}_Exp{experimentId}_piston_fitdata.csv\")\n",
    "    piston_focusMap.to_csv(f\"{csvPath}imquality_{cam}_Exp{experimentId}_piston_focusMap.csv\")\n",
    "    \n",
    "    piston_imdata[\"x2+y2/2\"] = (piston_imdata.sep_x2 + piston_imdata.sep_y2)/2\n",
    "    \n",
    "    waves = piston_fitdata.wavelength.unique()\n",
    "    fibers = piston_fitdata.fiber.unique()\n",
    "\n",
    "    fiber = fibers[0]\n",
    "    wave = waves[0]\n",
    "#    group = piston_imdata.groupby(['wavelength','fiber']).get_group((wave,fiber))\n",
    "    plot_one_group(piston_imdata, wave, fiber, experimentId, dataPath)\n",
    "\n",
    "    piston_plane = getBestPlane(piston_focusMap.query(\"criteria == '%s'\"%criteria),order=1, \\\n",
    "                            doPlot=True, exp=experimentId, plot_path=dataPath)\n",
    "    \n",
    "\n",
    "    txtfile = f\"SM1_{cam.upper()}_BestFocusPlane_Exp{experimentId}.dat\"\n",
    "\n",
    "    foc = findMotorPos(piston_plane, inv_mat = invMat)\n",
    "\n",
    "    txt = f\"{datetime.now()} \\n\"\n",
    "    txt += f\"{csvPath}\\n\"\n",
    "    txt += f\"ExpId {experimentId}\\n\"\n",
    "    txt += f\"{invMat}\\n\"\n",
    "    txt += f\"{foc}\\n\"\n",
    "    txt += f\"xcu_{cam} motors moveCcd a={foc[0]:.2f} b={foc[1]:.2f} c={foc[2]:.2f} microns abs\\n\"\n",
    "\n",
    "    print(txt)\n",
    "\n",
    "    text_file = open(dataPath+txtfile, \"w\")\n",
    "    text_file.write(txt)\n",
    "    text_file.close()"
   ]
  },
  {
   "cell_type": "code",
   "execution_count": null,
   "metadata": {
    "lines_to_next_cell": 2
   },
   "outputs": [],
   "source": []
  },
  {
   "cell_type": "raw",
   "metadata": {},
   "source": [
    "if __name__ == \"__main__\":\n",
    "    start = time.time()\n",
    "    main(sys.argv[1:])\n",
    "    finish = time.time()\n",
    "    elapsed = finish - start\n",
    "    print(f\"Time elapsed: {elapsed}\")"
   ]
  },
  {
   "cell_type": "raw",
   "metadata": {
    "lines_to_next_cell": 2
   },
   "source": [
    "plot_groups(piston_imdata, experimentId, imgPath, plot_prefix=\"Focus_Piston_plots\", col=\"fiber\", hue=\"wavelength\")\n",
    "plot_groups(piston_fitdata, experimentId, imgPath, plot_prefix=\"Focus_Piston_fit_plots\", col=\"fiber\", hue=\"wavelength\")\n"
   ]
  },
  {
   "cell_type": "code",
   "execution_count": null,
   "metadata": {},
   "outputs": [],
   "source": [
    "\n",
    "experimentIds = [186,187,188,189]\n",
    "rerun = \"sm1-march2020-no_FD\" #\"sm1-march2020\"\n",
    "cam = \"r1\"\n",
    "\n",
    "roi_size = 24\n",
    "doBck = True\n",
    "threshold = 0.25"
   ]
  },
  {
   "cell_type": "code",
   "execution_count": null,
   "metadata": {},
   "outputs": [],
   "source": [
    "\n",
    "experimentIds = [144,141,142,143]\n",
    "rerun = \"sm1-focus-sep2020\" #\"sm1-march2020\"\n",
    "cam = \"b1\"\n",
    "\n",
    "roi_size = 24\n",
    "doBck = True\n",
    "threshold = 0."
   ]
  },
  {
   "cell_type": "code",
   "execution_count": null,
   "metadata": {},
   "outputs": [],
   "source": [
    "head = 0\n",
    "tail = 0"
   ]
  },
  {
   "cell_type": "code",
   "execution_count": null,
   "metadata": {
    "lines_to_next_cell": 2
   },
   "outputs": [],
   "source": [
    "cluster = False"
   ]
  },
  {
   "cell_type": "code",
   "execution_count": null,
   "metadata": {
    "lines_to_next_cell": 2
   },
   "outputs": [],
   "source": [
    "doForestFilter = False\n",
    "forest_contamin = 0.05   #r1 0.05   #m1 \n",
    "\n",
    "doNeighborFilter = True\n",
    "thres_neighbor = -0.1"
   ]
  },
  {
   "cell_type": "code",
   "execution_count": null,
   "metadata": {},
   "outputs": [],
   "source": [
    "doSave = False\n",
    "doSaveCsv = False"
   ]
  },
  {
   "cell_type": "code",
   "execution_count": null,
   "metadata": {
    "lines_to_next_cell": 2
   },
   "outputs": [],
   "source": [
    "extra = '' # 'stack/'"
   ]
  },
  {
   "cell_type": "code",
   "execution_count": null,
   "metadata": {},
   "outputs": [],
   "source": [
    "if cluster :\n",
    "    imgPath = '/net/SRVSTK20C/drp/fmadec/analysis/subaru/sm1/'\n",
    "    dataPath = \"/net/SRVSTK20C/drp/fmadec/analysis/subaru/sm1/\"\n",
    "    drpPath = \"/net/SRVSTK20C/drp/cluster\"\n",
    "    repo = \"repo\"\n",
    "else:\n",
    "    imgPath = \"/media/fmadec/PfsData/PFS/fmadec/analysis/subaru/sm1/\"\n",
    "    #imgPath = '/home/fmadec/Pictures/analysis/'\n",
    "    dataPath = imgPath\n",
    "    drpPath = \"/home/fmadec/pfs/subaruData/\"    \n",
    "    repo = \"drp\"\n",
    "\n",
    "outpath = ''\n",
    "\n",
    "\n",
    "if False:\n",
    "    outpath = ''\n",
    "    try:\n",
    "        opts, args = getopt.getopt(argv,\"hc:o:r:b:e:\",[\"cam=\", \"outpath=\", \"rerun=\", \"doBck=\", \"exp=\"])\n",
    "    except getopt.GetoptError:\n",
    "        print('Cluster_GetBestPlanefromCsv.py -v <visit> -p <peakfile> -c <cam> -r <rerun>')\n",
    "        sys.exit(2)\n",
    "    for opt, arg in opts:\n",
    "        if opt == '-h':\n",
    "            print('Cluster_GetBestPlanefromCsv.py -v <visit> -p <peakfile> -c <cam>')\n",
    "            sys.exit()\n",
    "        elif opt in (\"-e\", \"--exp\"):\n",
    "            experimentId = int(arg)\n",
    "        elif opt in (\"-c\", \"--cam\"):\n",
    "            cam = arg\n",
    "        elif opt in (\"-o\", \"--outpath\"):\n",
    "            outpath = arg\n",
    "        elif opt in (\"-r\", \"--rerun\"):\n",
    "            rerun = arg\n",
    "        elif opt in (\"-b\", \"--doBck\"):\n",
    "            doBck = str2bool(arg)\n",
    "\n",
    "\n",
    "piston_index = \"relPos\"\n",
    "\n",
    "\n",
    "outpath = \"output\\\\\" if outpath is None else outpath\n",
    "\n",
    "# define defaut parameters\n",
    "roi_size = 24\n",
    "com = True  # Center Of Mass\n",
    "head = 0\n",
    "tail = 0\n",
    "criteria = 'EE5'\n",
    "criterias = [criteria] #['EE5', 'sep_ECE5']\n",
    "verbose = False\n",
    "doPrint = False\n",
    "arm = cam[0]\n",
    "\n",
    "alldata = []\n",
    "allfocusMap=[]\n",
    "for experimentId in experimentIds:\n",
    "\n",
    "    csvPath = imgPath+\"Exp\"+str(experimentId)+\"/\"+rerun+\"_roi\"+str(roi_size)+\"/doBck\"+str(doBck)+\"/\"+extra\n",
    "    dataPath = csvPath\n",
    "    print(dataPath)\n",
    "\n",
    "    searchFile = f\"{csvPath}Imquality_{cam}_Exp{experimentId}*\"\n",
    "    print(searchFile)\n",
    "    files = glob.glob(searchFile)\n",
    "\n",
    "    if verbose:\n",
    "        print(*files, sep=\"\\n\")\n",
    "\n",
    "    piston_imdata = pd.concat(map(pd.read_csv,files)).reset_index().sort_values(by=\"motor1\")\n",
    "    print(f\"Wavelength used: {piston_imdata.wavelength.unique()}\")\n",
    "    minPos = piston_imdata[['motor1','motor2','motor3']]\n",
    "    minPos = minPos - minPos.min()\n",
    "    piston_imdata['relPos'] = minPos['motor1']\n",
    "\n",
    "    piston_imdata[\"experimentId\"] = experimentId\n",
    "\n",
    "    #piston = piston_imdata[piston_imdata.EE5>threshold]\n",
    "\n",
    "    piston_imdata[\"fit_flag\"] = 0\n",
    "    piston_imdata[\"EE5_diff_flag\"] = True\n",
    "\n",
    "    piston = piston_imdata[piston_imdata.EE5>threshold]\n",
    "\n",
    "    if doForestFilter :\n",
    "        tot = []\n",
    "    #    for  group_name, series in piston_imdata.groupby(['wavelength','fiber']):\n",
    "        for  group_name, series in piston.groupby(['wavelength','fiber']):\n",
    "\n",
    "            #clf = IsolationForest( behaviour = 'new', max_samples=series.count()[0], random_state = 1, contamination= \"auto\")\n",
    "            clf = IsolationForest( behaviour = 'new', max_samples=series.count()[0], random_state = 1, contamination= forest_contamin)\n",
    "\n",
    "            preds = clf.fit_predict(series[[piston_index, \"EE5\"]].values)\n",
    "            series.loc[:,\"fit_flag\"] = preds\n",
    "            tot.append(series)\n",
    "            piston = pd.concat(tot)\n",
    "\n",
    "    if doNeighborFilter :\n",
    "        tot = []\n",
    "    #    for  group_name, series in piston_imdata.groupby(['wavelength','fiber']):\n",
    "        for  group_name, series in piston.groupby(['wavelength','fiber']):\n",
    "            series[\"EE5_diff\"] = series.EE5 - (series.EE5.shift(-1) + series.EE5.shift(1))/2 \n",
    "            series[\"EE5_diff\"].fillna(0, inplace=True)\n",
    "            series[\"EE5_diff_flag\"] = (series.EE5_diff> thres_neighbor)\n",
    "            tot.append(series)\n",
    "            piston = pd.concat(tot)\n",
    "\n",
    "\n",
    "\n",
    "\n",
    "\n",
    "    forest_prefix = \"_Forest\" if doForestFilter else \"\"\n",
    "\n",
    "    piston_fitdata = fitFocusData(piston[piston.EE5_diff_flag] , index=piston_index, doPlot=False, criterias=criterias, head=head )\n",
    "\n",
    "    piston_focusMap = getFocusMap(piston_fitdata.dropna(), index=piston_index, criterias=criterias)\n",
    "\n",
    "    piston_focusMap[\"experimentId\"] = experimentId\n",
    " \n",
    "\n",
    "    allfocusMap.append(piston_focusMap)\n",
    "    alldata.append(piston)\n",
    "\n",
    "\n",
    "    if doSaveCsv:\n",
    "        piston_fitdata.to_csv(f\"{csvPath}imquality_{cam}_Exp{experimentId}_doBck{str(doBck)}_piston_fitdata_thres{str(int(threshold*100)).zfill(3)}{forest_prefix}.csv\")\n",
    "        piston_focusMap.to_csv(f\"{csvPath}imquality_{cam}_Exp{experimentId}_doBck{str(doBck)}_piston_focusMap_thres{str(int(threshold*100)).zfill(3)}{forest_prefix}.csv\")\n",
    "\n",
    "\n",
    "allfocusMap = pd.concat(allfocusMap)\n",
    "alldata = pd.concat(alldata)"
   ]
  },
  {
   "cell_type": "raw",
   "metadata": {},
   "source": [
    "####    un mauvais copier/coller a bien foutu le bordel ####\n",
    "## \n",
    "if cluster :\n",
    "    imgPath = '/net/SRVSTK20C/drp/fmadec/analysis/subaru/sm1/'\n",
    "    dataPath = \"/net/SRVSTK20C/drp/fmadec/analysis/subaru/sm1/\"\n",
    "    drpPath = \"/net/SRVSTK20C/drp/cluster\"\n",
    "    repo = \"repo\"\n",
    "else:\n",
    "    imgPath = \"/media/fmadec/PfsData/PFS/fmadec/analysis/subaru/sm1/\"\n",
    "    #imgPath = '/home/fmadec/Pictures/analysis/'\n",
    "    dataPath = imgPath\n",
    "    drpPath = \"/home/fmadec/pfs/subaruData/\"    \n",
    "    repo = \"drp\"\n",
    "\n",
    "outpath = ''\n",
    "\n",
    "\n",
    "if False:\n",
    "    outpath = ''\n",
    "    try:\n",
    "        opts, args = getopt.getopt(argv,\"hc:o:r:b:e:\",[\"cam=\", \"outpath=\", \"rerun=\", \"doBck=\", \"exp=\"])\n",
    "    except getopt.GetoptError:\n",
    "        print('Cluster_GetBestPlanefromCsv.py -v <visit> -p <peakfile> -c <cam> -r <rerun>')\n",
    "        sys.exit(2)\n",
    "    for opt, arg in opts:\n",
    "        if opt == '-h':\n",
    "            print('Cluster_GetBestPlanefromCsv.py -v <visit> -p <peakfile> -c <cam>')\n",
    "            sys.exit()\n",
    "        elif opt in (\"-e\", \"--exp\"):\n",
    "            experimentId = int(arg)\n",
    "        elif opt in (\"-c\", \"--cam\"):\n",
    "            cam = arg\n",
    "        elif opt in (\"-o\", \"--outpath\"):\n",
    "            outpath = arg\n",
    "        elif opt in (\"-r\", \"--rerun\"):\n",
    "            rerun = arg\n",
    "        elif opt in (\"-b\", \"--doBck\"):\n",
    "            doBck = str2bool(arg)\n",
    "\n",
    "\n",
    "piston_index = \"relPos\"\n",
    "\n",
    "\n",
    "outpath = \"output\\\\\" if outpath is None else outpath\n",
    "\n",
    "# define defaut parameters\n",
    "roi_size = 24\n",
    "com = True  # Center Of Mass\n",
    "head = 0\n",
    "tail = 0\n",
    "criteria = 'EE5'\n",
    "criterias = [criteria] #['EE5', 'sep_ECE5']\n",
    "verbose = False\n",
    "doPrint = False\n",
    "arm = cam[0]\n",
    "\n",
    "alldata = []\n",
    "allfocusMap=[]\n",
    "for experimentId in experimentIds:\n",
    "\n",
    "    csvPath = imgPath+\"Exp\"+str(experimentId)+\"/\"+rerun+\"_roi\"+str(roi_size)+\"/doBck\"+str(doBck)+\"/\"+extra\n",
    "    dataPath = csvPath\n",
    "    print(dataPath)\n",
    "\n",
    "    searchFile = f\"{csvPath}Imquality_{cam}_Exp{experimentId}*\"\n",
    "    print(searchFile)\n",
    "    files = glob.glob(searchFile)\n",
    "\n",
    "    if verbose:\n",
    "        print(*files, sep=\"\\n\")\n",
    "\n",
    "    piston_imdata = pd.concat(map(pd.read_csv,files)).reset_index().sort_values(by=\"motor1\")\n",
    "    print(f\"Wavelength used: {piston_imdata.wavelength.unique()}\")\n",
    "    minPos = piston_imdata[['motor1','motor2','motor3']]\n",
    "    minPos = minPos - minPos.min()\n",
    "    piston_imdata['relPos'] = minPos['motor1']\n",
    "\n",
    "    piston_imdata[\"experimentId\"] = experimentId\n",
    "\n",
    "    #piston = piston_imdata[piston_imdata.EE5>threshold]\n",
    "\n",
    "    piston_imdata[\"fit_flag\"] = 0\n",
    "    piston_imdata[\"EE5_diff_flag\"] = True\n",
    "\n",
    "    piston = piston_imdata[piston_imdata.EE5>threshold]\n",
    "\n",
    "    if doForestFilter :\n",
    "        tot = []\n",
    "    #    for  group_name, series in piston_imdata.groupby(['wavelength','fiber']):\n",
    "        for  group_name, series in piston.groupby(['wavelength','fiber']):\n",
    "\n",
    "            #clf = IsolationForest( behaviour = 'new', max_samples=series.count()[0], random_state = 1, contamination= \"auto\")\n",
    "            clf = IsolationForest( behaviour = 'new', max_samples=series.count()[0], random_state = 1, contamination= forest_contamin)\n",
    "\n",
    "            preds = clf.fit_predict(series[[piston_index, \"EE5\"]].values)\n",
    "            series.loc[:,\"fit_flag\"] = preds\n",
    "            tot.append(series)\n",
    "            piston = pd.concat(tot)\n",
    "\n",
    "    if doNeighborFilter :\n",
    "        tot = []\n",
    "    #    for  group_name, series in piston_imdata.groupby(['wavelength','fiber']):\n",
    "        for  group_name, series in piston.groupby(['wavelength','fiber']):\n",
    "            series[\"EE5_diff\"] = series.EE5 - (series.EE5.shift(-1) + series.EE5.shift(1))/2 \n",
    "            series[\"EE5_diff\"].fillna(0, inplace=True)\n",
    "            series[\"EE5_diff_flag\"] = (series.EE5_diff> thres_neighbor)\n",
    "            tot.append(series)\n",
    "            piston = pd.concat(tot)\n",
    "\n",
    "\n",
    "\n",
    "\n",
    "\n",
    "    forest_prefix = \"_Forest\" if doForestFilter else \"\"\n",
    "\n",
    "    piston_fitdata = fitFocusData(piston[piston.EE5_diff_flag] , index=piston_index, doPlot=False, criterias=criterias, head=head )\n",
    "\n",
    "    piston_focusMap = getFocusMap(piston_fitdata.dropna(), index=piston_index, criterias=criterias)\n",
    "\n",
    "    piston_focusMap[\"experimentId\"] = experimentId\n",
    " \n",
    "\n",
    "    allfocusMap.append(piston_focusMap)\n",
    "    alldata.append(piston)\n",
    "\n",
    "\n",
    "    if doSaveCsv:\n",
    "        piston_fitdata.to_csv(f\"{csvPath}imquality_{cam}_Exp{experimentId}_doBck{str(doBck)}_piston_fitdata_thres{str(int(threshold*100)).zfill(3)}{forest_prefix}.csv\")\n",
    "        piston_focusMap.to_csv(f\"{csvPath}imquality_{cam}_Exp{experimentId}_doBck{str(doBck)}_piston_focusMap_thres{str(int(threshold*100)).zfill(3)}{forest_prefix}.csv\")\n",
    "\n",
    "df = pd.DataFrame(dat, columns=[\"EE5\"])\n",
    "\n",
    "df.EE5.iloc[3] = 1.7\n",
    "\n",
    "df[\"EE5_diff\"] = (df.EE5.diff(-1) + df.EE5.diff(2) - df.EE5.diff(1))/2. \n",
    "\n",
    "df[\"EE5_diff\"].fillna(0, inplace=True)\n",
    "\n",
    "df[\"diff-1\"] = df.EE5.diff(-1)\n",
    "\n",
    "df[\"diff2\"] = df.EE5.diff(2)\n",
    "\n",
    "df[\"diff1\"] = df.EE5.diff(1)\n",
    "\n",
    "\n",
    "\n",
    "df[\"EE5_diff_2\"] = (df.EE5.diff(-1) + df.EE5.diff(2) - df.EE5.diff(1))/2. + df.EE5\n",
    "\n",
    "piston[\"x2+y2/2\"] = (piston.sep_x2 + piston.sep_y2)/2\n",
    "    \n",
    "allfocusMap = pd.concat(allfocusMap)\n",
    "alldata = pd.concat(alldata)"
   ]
  },
  {
   "cell_type": "code",
   "execution_count": null,
   "metadata": {},
   "outputs": [],
   "source": [
    "piston_imdata[[\"relPos\", \"motor1\"]]"
   ]
  },
  {
   "cell_type": "code",
   "execution_count": null,
   "metadata": {},
   "outputs": [],
   "source": [
    "planeMat=[]\n",
    "for experimentId, focusMap in allfocusMap.groupby('experimentId'):\n",
    "    c = getBestPlane(focusMap.query(\"criteria == '%s'\"%criteria),order=1, doPlot=True, exp=experimentId, plot_path=dataPath)\n",
    "    print(c)\n",
    "    c.resize(1,3)\n",
    "    dfp = pd.DataFrame(c, columns=['a', 'b', 'c'])\n",
    "    dfp[\"experimentId\"]=experimentId\n",
    "    dfp[\"motor1\"] = alldata.query(\"experimentId =='%s'\"%experimentId)[\"motor1\"].iloc[0]\n",
    "    dfp[\"motor2\"] = alldata.query(\"experimentId =='%s'\"%experimentId)[\"motor2\"].iloc[0]\n",
    "    dfp[\"motor3\"] = alldata.query(\"experimentId =='%s'\"%experimentId)[\"motor3\"].iloc[0]\n",
    "    planeMat.append(dfp)\n",
    "\n",
    "planeMat = pd.concat(planeMat)"
   ]
  },
  {
   "cell_type": "code",
   "execution_count": null,
   "metadata": {},
   "outputs": [],
   "source": [
    "planeMat"
   ]
  },
  {
   "cell_type": "code",
   "execution_count": null,
   "metadata": {},
   "outputs": [],
   "source": [
    "##  planeMat\n",
    "# first row has to be the pure piston\n",
    "planeMat = planeMat.reset_index().reindex([3,0,1,2])"
   ]
  },
  {
   "cell_type": "code",
   "execution_count": null,
   "metadata": {},
   "outputs": [],
   "source": []
  },
  {
   "cell_type": "raw",
   "metadata": {},
   "source": [
    " \ta \tb \tc \texperimentId \tmotor1 \tmotor2 \tmotor3\n",
    "0 \t-0.005317 \t0.006768 \t146.424542 \t186 \t9.93 \t9.96 \t9.96\n",
    "0 \t0.007364 \t0.007392 \t104.616535 \t187 \t50.00 \t9.96 \t9.96\n",
    "0 \t-0.011827 \t-0.003121 \t167.621069 \t188 \t9.93 \t49.98 \t9.96\n",
    "0 \t-0.011412 \t0.017129 \t123.823094 \t189 \t9.93 \t9.96 \t49.98"
   ]
  },
  {
   "cell_type": "raw",
   "metadata": {},
   "source": [
    " \ta \tb \tc \texperimentId \tmotor1 \tmotor2 \tmotor3\n",
    "0 \t-0.005317 \t0.006768 \t146.424542 \t186 \t9.93 \t9.96 \t9.96\n",
    "0 \t0.007364 \t0.007392 \t104.616535 \t187 \t50.00 \t9.96 \t9.96\n",
    "0 \t-0.011827 \t-0.003121 \t167.621069 \t188 \t9.93 \t49.98 \t9.96\n",
    "0 \t-0.011412 \t0.017129 \t123.823094 \t189 \t9.93 \t9.96 \t49.98"
   ]
  },
  {
   "cell_type": "code",
   "execution_count": null,
   "metadata": {},
   "outputs": [],
   "source": [
    "invMat = findInvMatrix(planeMat, doPrint=True, saveMat=\"InvMat_sm1_B1_02oct2020.mat\")"
   ]
  },
  {
   "cell_type": "code",
   "execution_count": null,
   "metadata": {},
   "outputs": [],
   "source": [
    "print(planeMat[[\"motor1\", \"motor2\", \"motor3\"]].max().iloc[0])\n",
    "print(planeMat[[\"motor1\", \"motor2\", \"motor3\"]].min().iloc[0])"
   ]
  },
  {
   "cell_type": "code",
   "execution_count": null,
   "metadata": {
    "lines_to_end_of_cell_marker": 2
   },
   "outputs": [],
   "source": [
    "tilt0 = None\n",
    "doPrint = True\n",
    "calTilt = round(planeMat[[\"motor1\", \"motor2\", \"motor3\"]].max().iloc[0]-planeMat[[\"motor1\", \"motor2\", \"motor3\"]].min().iloc[0])\n",
    "tilt0 = calTilt if tilt0 is None else tilt0\n",
    "planes = planeMat[[\"a\",\"b\",\"c\"]].values\n",
    "\n",
    "mat = np.zeros((3,3))\n",
    "mat[:,0] = planes[0,:] - planes[1,:] \n",
    "mat[:,1] = planes[0,:] - planes[2,:]\n",
    "mat[:,2] = planes[0,:] - planes[3,:]\n",
    "\n",
    "mat = mat / tilt0\n",
    "print(mat)\n",
    "inv_mat = np.linalg.inv(mat)\n",
    "print(inv_mat)\n",
    "if doPrint:\n",
    "    print(f'tilt: {tilt0}')\n",
    "    print(np.dot(inv_mat,mat))\n",
    "    print(f'plane {np.dot(inv_mat, planes[0,:])}')"
   ]
  },
  {
   "cell_type": "code",
   "execution_count": null,
   "metadata": {},
   "outputs": [],
   "source": [
    "invMat_2019 = \"/home/fmadec/devel/ait-notebook/fmadec/Subaru/SM1/SM1_R1_DetFocusInvMat_20190423_F2.8.mat\"\n",
    "inv_mat_2019 = np.load(invMat_2019, allow_pickle=True)\n",
    "print(inv_mat)"
   ]
  },
  {
   "cell_type": "code",
   "execution_count": null,
   "metadata": {},
   "outputs": [],
   "source": []
  },
  {
   "cell_type": "code",
   "execution_count": null,
   "metadata": {
    "lines_to_next_cell": 2
   },
   "outputs": [],
   "source": [
    "experimentId = experimentIds[0]\n",
    "piston_plane = getBestPlane(allfocusMap.query(f\"criteria == '{criteria}' & experimentId == {experimentId}\"),order=1, \\\n",
    "                        doPlot=True, exp=experimentId, plot_path=dataPath)"
   ]
  },
  {
   "cell_type": "code",
   "execution_count": null,
   "metadata": {
    "lines_to_next_cell": 2
   },
   "outputs": [],
   "source": [
    "print(np.dot(inv_mat_2019, piston_plane))"
   ]
  },
  {
   "cell_type": "code",
   "execution_count": null,
   "metadata": {},
   "outputs": [],
   "source": [
    "print(np.dot(invMat, piston_plane))"
   ]
  },
  {
   "cell_type": "code",
   "execution_count": null,
   "metadata": {},
   "outputs": [],
   "source": []
  },
  {
   "cell_type": "code",
   "execution_count": null,
   "metadata": {},
   "outputs": [],
   "source": []
  },
  {
   "cell_type": "code",
   "execution_count": null,
   "metadata": {},
   "outputs": [],
   "source": []
  },
  {
   "cell_type": "code",
   "execution_count": null,
   "metadata": {
    "lines_to_next_cell": 2
   },
   "outputs": [],
   "source": []
  },
  {
   "cell_type": "code",
   "execution_count": null,
   "metadata": {},
   "outputs": [],
   "source": [
    "invMat=\"InvMat_sm1_sept2020.mat\""
   ]
  },
  {
   "cell_type": "code",
   "execution_count": null,
   "metadata": {},
   "outputs": [],
   "source": [
    "piston[piston.fit_flag >=0 & piston.EE5_diff_flag].motor1.min()"
   ]
  },
  {
   "cell_type": "code",
   "execution_count": null,
   "metadata": {},
   "outputs": [],
   "source": [
    "piston_fitdata.motor1.min()"
   ]
  },
  {
   "cell_type": "code",
   "execution_count": null,
   "metadata": {
    "lines_to_next_cell": 0
   },
   "outputs": [],
   "source": [
    "waves = piston_fitdata.wavelength.unique()\n",
    "fibers = piston_fitdata.fiber.unique()\n",
    "\n",
    "fiber = fibers[5]\n",
    "wave = waves[1]\n",
    "#    group = piston_imdata.groupby(['wavelength','fiber']).get_group((wave,fiber))\n",
    "plot_one_group(piston, wave, fiber, experimentId, dataPath)\n",
    "\n",
    "\n",
    "for experimentId, focusMap in allfocusMap.groupby('experimentId'):\n",
    "\n",
    "piston_plane = getBestPlane(piston_focusMap.query(\"criteria == '%s'\"%criteria),order=1, \\\n",
    "                        doPlot=True, exp=experimentId, plot_path=dataPath)\n",
    "\n",
    "\n",
    "txtfile = f\"SM1_{cam.upper()}_BestFocusPlane_Exp{experimentId}_doBck{str(doBck)}_{criteria}_thres{str(int(threshold*100)).zfill(3)}{forest_prefix}.dat\"\n",
    "\n",
    "foc = findMotorPos(piston_plane, inv_mat = invMat)\n",
    "\n",
    "txt = f\"{datetime.now()} \\n\"\n",
    "txt += f\"{csvPath}\\n\"\n",
    "txt += f\"ExpId {experimentId}\\n\"\n",
    "txt += f\"{invMat}\\n\"\n",
    "txt += f\"{foc}\\n\"\n",
    "txt += f\"xcu_{cam} motors moveCcd a={foc[0]:.2f} b={foc[1]:.2f} c={foc[2]:.2f} microns abs\\n\"\n",
    "\n",
    "print(txt)\n",
    "\n",
    "if doSave :\n",
    "    text_file = open(csvPath+txtfile, \"w\")\n",
    "    text_file.write(txt)\n",
    "    text_file.close()\n",
    "\n",
    "plot_prefix = f\"Focus_Piston_plots_doBck{str(doBck)}_{criteria}_thres{str(int(threshold*100)).zfill(3)}{forest_prefix}\"\n",
    "title_suffix = f\"a={foc[0]:.2f} b={foc[1]:.2f} c={foc[2]:.2f} microns\"\n",
    "plot_groups(piston.sort_values(\"motor1\")[piston.EE5_diff_flag], experimentId, dataPath, plot_prefix=plot_prefix, title_suffix=title_suffix,\\\n",
    "            col=\"fiber\", hue=\"wavelength\", criteria=criteria, doSave=doSave)\n",
    "plot_groups(piston.sort_values(\"motor1\")[piston.EE5_diff_flag], experimentId, dataPath, plot_prefix=plot_prefix, title_suffix=title_suffix,\\\n",
    "            col=\"wavelength\", hue=\"fiber\", criteria=criteria, doSave=doSave)\n",
    "\n",
    "plot_prefix = f\"Focus_Piston_fit_plots_doBck{str(doBck)}_{criteria}_thres{int(threshold*100):<3}{forest_prefix}\"\n",
    "plot_groups(piston_fitdata.sort_values(\"motor1\"), experimentId, dataPath, plot_prefix=plot_prefix, title_suffix=title_suffix, \\\n",
    "            col=\"fiber\", hue=\"wavelength\", criteria=criteria, doSave=doSave)\n",
    "plot_groups(piston_fitdata.sort_values(\"motor1\"), experimentId, dataPath, plot_prefix=plot_prefix, title_suffix=title_suffix,\\\n",
    "            col=\"wavelength\", hue=\"fiber\", criteria=criteria, doSave=doSave)"
   ]
  },
  {
   "cell_type": "code",
   "execution_count": null,
   "metadata": {
    "lines_to_next_cell": 2
   },
   "outputs": [],
   "source": []
  },
  {
   "cell_type": "code",
   "execution_count": null,
   "metadata": {
    "lines_to_next_cell": 0
   },
   "outputs": [],
   "source": [
    "gfit = piston_fitdata.groupby(['wavelength','fiber']).get_group((wave,fiber))\n",
    "\n",
    "group = piston.groupby(['wavelength','fiber']).get_group((wave,fiber))\n",
    "g_filt = piston[piston.EE5_diff_flag >=0].groupby(['wavelength','fiber']).get_group((wave,fiber))\n",
    "\n",
    "#ax = group.plot.scatter(\"motor1\", \"sep_y2\",\\\n",
    "#                   title=f\"Exp{experimentId} - fiber {fiber} - wave {wave}\",\\\n",
    "#                   label=\"sep_y2\")\n",
    "#ax2 = ax.twinx()\n",
    "#group.plot.scatter(\"motor1\", \"sep_x2\", ax=ax,color=\"r\", label=\"sep_x2\" )\n",
    "ax = group.plot.scatter(\"motor1\", \"EE5\",color=\"g\", label=\"EE5\",  title=f\"Exp{experimentId} - fiber {fiber} - wave {wave}\", )\n",
    "g_filt[g_filt.EE5_diff_flag == False ].plot(\"motor1\", \"EE5\",color=\"r\", style='+'  ,ax=ax)\n",
    "#group.plot(\"motor1\", \"EE5\",ax=ax,color=\"r\", style=\"+\", label=\"EE5\",  title=f\"Exp{experimentId} - fiber {fiber} - wave {wave}\", )\n",
    "gfit.plot.scatter(\"motor1\", \"EE5\",color=\"b\", ax=ax, label=\"fit\",  )\n",
    "if doSave:\n",
    "    plt.savefig(csvPath+f\"Focus_fit_fiber{fiber}_wave{wave}_Exp{experimentId}.png\")\n"
   ]
  },
  {
   "cell_type": "code",
   "execution_count": null,
   "metadata": {
    "lines_to_next_cell": 2
   },
   "outputs": [],
   "source": []
  },
  {
   "cell_type": "code",
   "execution_count": null,
   "metadata": {},
   "outputs": [],
   "source": []
  },
  {
   "cell_type": "code",
   "execution_count": null,
   "metadata": {
    "lines_to_next_cell": 2
   },
   "outputs": [],
   "source": []
  },
  {
   "cell_type": "code",
   "execution_count": null,
   "metadata": {
    "lines_to_next_cell": 2
   },
   "outputs": [],
   "source": []
  },
  {
   "cell_type": "code",
   "execution_count": null,
   "metadata": {
    "lines_to_next_cell": 2
   },
   "outputs": [],
   "source": []
  },
  {
   "cell_type": "code",
   "execution_count": null,
   "metadata": {},
   "outputs": [],
   "source": [
    "plot_prefix = f\"Focus_Piston_plots_doBck{str(doBck)}_{criteria}\"\n",
    "title_suffix = f\"original data\"\n",
    "plot_groups(piston.sort_values(\"motor1\"), experimentId, dataPath, plot_prefix=plot_prefix, title_suffix=title_suffix,\\\n",
    "            col=\"fiber\", hue=\"wavelength\", criteria=criteria, doSave=doSave)\n",
    "plot_groups(piston.sort_values(\"motor1\"), experimentId, dataPath, plot_prefix=plot_prefix, title_suffix=title_suffix,\\\n",
    "            col=\"wavelength\", hue=\"fiber\", criteria=criteria, doSave=doSave)"
   ]
  },
  {
   "cell_type": "code",
   "execution_count": null,
   "metadata": {},
   "outputs": [],
   "source": [
    "piston_focusMap"
   ]
  },
  {
   "cell_type": "code",
   "execution_count": null,
   "metadata": {},
   "outputs": [],
   "source": [
    "\n",
    "# plot data\n",
    "fig, ax = plt.subplots(figsize=(15,7))\n",
    "# use unstack()\n",
    "#piston_focusMap.groupby(\"wavelength\").plot(x=\"fiber\", y=\"value\", ax=ax, legend=True)\n",
    "for name, plt_group in piston_focusMap.groupby(\"wavelength\"):\n",
    "    plt_group.plot(x=\"fiber\", y=\"value\", ax=ax, label=name, style=\"+-\")\n",
    "ax.set_ylim(0.8,1)\n",
    "ax.set_ylabel(\"EE5\")\n",
    "\n",
    "exp_title = f\"{cam.upper()} - Expected EE5  - Exp{experimentId}\\n from through focus sequence\"\n",
    "fig.suptitle(exp_title)\n",
    "dat = datetime.now().isoformat(timespec='minutes') \n",
    "if doSave:\n",
    "    plt.savefig(dataPath+f\"{cam.upper()}_Expected_EE5_Exp{experimentId}_{dat}.png\", bbox_inches = \"tight\")\n",
    "\n",
    "plotImageQualityScatter(piston_focusMap.rename(columns={\"value\": \"EE5\"}), par=\"EE5\", hist=\"EE5\", title=exp_title,\\\n",
    "                        savePlotFile=dataPath+f\"{cam.upper()}_Expected_Imquality_Exp{experimentId}_{dat}\",\\\n",
    "                       doSave=True)"
   ]
  },
  {
   "cell_type": "code",
   "execution_count": null,
   "metadata": {},
   "outputs": [],
   "source": [
    "fibers\n",
    "waves"
   ]
  },
  {
   "cell_type": "code",
   "execution_count": null,
   "metadata": {},
   "outputs": [],
   "source": [
    "val_motor = 164.073783\n",
    "d_val = 0.001\n",
    "df = piston_fitdata.groupby([\"fiber\", \"wavelength\"]).get_group((fibers[0], waves[0]))\n",
    "df = df[(df.motor1 > val_motor -d_val) & (df.motor1 < val_motor +d_val)]\n",
    "df"
   ]
  },
  {
   "cell_type": "code",
   "execution_count": null,
   "metadata": {},
   "outputs": [],
   "source": [
    "low = pd.read_csv(\"/home/fmadec/Pictures/analysis/Exp186/sm1-march2020_roi24/doBckTrue/imquality_r1_Exp186_doBckTrue_piston_focusMap_thres030.csv\")"
   ]
  },
  {
   "cell_type": "code",
   "execution_count": null,
   "metadata": {},
   "outputs": [],
   "source": [
    "low"
   ]
  },
  {
   "cell_type": "code",
   "execution_count": null,
   "metadata": {
    "lines_to_next_cell": 2
   },
   "outputs": [],
   "source": []
  },
  {
   "cell_type": "code",
   "execution_count": null,
   "metadata": {},
   "outputs": [],
   "source": [
    "piston_focusMap[piston_focusMap.value<0.9].count()"
   ]
  },
  {
   "cell_type": "code",
   "execution_count": null,
   "metadata": {},
   "outputs": [],
   "source": [
    "piston_focusMap.plot.scatter(x=\"fiber\", y=\"wavelength\",c=\"value\", colormap='viridis' )"
   ]
  },
  {
   "cell_type": "code",
   "execution_count": null,
   "metadata": {},
   "outputs": [],
   "source": [
    "df = piston_focusMap\n",
    "df = df.rename(columns={\"value\": \"EE5\"})"
   ]
  },
  {
   "cell_type": "code",
   "execution_count": null,
   "metadata": {},
   "outputs": [],
   "source": [
    "piston_group = piston.groupby([\"wavelength\"])"
   ]
  },
  {
   "cell_type": "code",
   "execution_count": null,
   "metadata": {},
   "outputs": [],
   "source": [
    "piston_group.brightness.mean()"
   ]
  },
  {
   "cell_type": "code",
   "execution_count": null,
   "metadata": {},
   "outputs": [],
   "source": [
    "piston_group.get_group(waves[-1]).brightness.hist()"
   ]
  },
  {
   "cell_type": "code",
   "execution_count": null,
   "metadata": {},
   "outputs": [],
   "source": [
    "fibers[0]"
   ]
  },
  {
   "cell_type": "code",
   "execution_count": null,
   "metadata": {},
   "outputs": [],
   "source": [
    "val_motor = piston_focusMap.groupby([\"fiber\", \"wavelength\"]).get_group((fibers[0], waves[-1])).motor1.values[0]"
   ]
  },
  {
   "cell_type": "code",
   "execution_count": null,
   "metadata": {},
   "outputs": [],
   "source": [
    "val_motor"
   ]
  },
  {
   "cell_type": "code",
   "execution_count": null,
   "metadata": {
    "lines_to_next_cell": 2
   },
   "outputs": [],
   "source": [
    "df = piston.groupby([\"fiber\", \"wavelength\"]).get_group((fibers[0], waves[-1]))[[\"motor1\", \"filename\", \"brightness\", \"objx\", \"objy\"]]"
   ]
  },
  {
   "cell_type": "code",
   "execution_count": null,
   "metadata": {},
   "outputs": [],
   "source": [
    "df = df[(df.motor1 > val_motor -10) & (df.motor1 < val_motor +10)]"
   ]
  },
  {
   "cell_type": "code",
   "execution_count": null,
   "metadata": {},
   "outputs": [],
   "source": [
    "imagefile = df.filename.values[0]\n",
    "cx = df.objx.values[0]\n",
    "cy = df.objy.values[0]"
   ]
  },
  {
   "cell_type": "code",
   "execution_count": null,
   "metadata": {},
   "outputs": [],
   "source": [
    "visit = int(imagefile.split('calExp-SA')[-1].split(f\"{cam}.fits\")[0])"
   ]
  },
  {
   "cell_type": "code",
   "execution_count": null,
   "metadata": {},
   "outputs": [],
   "source": [
    "print(f\"{drpPath}/{repo}/rerun/{rerun}/detrend/\")"
   ]
  },
  {
   "cell_type": "code",
   "execution_count": null,
   "metadata": {
    "lines_to_next_cell": 2
   },
   "outputs": [],
   "source": []
  },
  {
   "cell_type": "code",
   "execution_count": null,
   "metadata": {},
   "outputs": [],
   "source": [
    "butler = dafPersist.Butler(f\"{drpPath}/{repo}/rerun/{rerun}/detrend/\")\n",
    "calExp = butler.get(\"calexp\", visit=visit, arm=cam[0])"
   ]
  },
  {
   "cell_type": "code",
   "execution_count": null,
   "metadata": {},
   "outputs": [],
   "source": [
    "plotOnePeak(calExp.image.array, cx, cy, roi_size=roi_size, doBck=doBck)"
   ]
  },
  {
   "cell_type": "raw",
   "metadata": {
    "lines_to_next_cell": 0
   },
   "source": []
  },
  {
   "cell_type": "code",
   "execution_count": null,
   "metadata": {},
   "outputs": [],
   "source": []
  },
  {
   "cell_type": "code",
   "execution_count": null,
   "metadata": {
    "lines_to_next_cell": 2
   },
   "outputs": [],
   "source": []
  },
  {
   "cell_type": "code",
   "execution_count": null,
   "metadata": {
    "lines_to_next_cell": 2
   },
   "outputs": [],
   "source": []
  },
  {
   "cell_type": "code",
   "execution_count": null,
   "metadata": {},
   "outputs": [],
   "source": []
  },
  {
   "cell_type": "code",
   "execution_count": null,
   "metadata": {
    "lines_to_next_cell": 2
   },
   "outputs": [],
   "source": []
  },
  {
   "cell_type": "code",
   "execution_count": null,
   "metadata": {
    "lines_to_next_cell": 2
   },
   "outputs": [],
   "source": []
  },
  {
   "cell_type": "code",
   "execution_count": null,
   "metadata": {
    "lines_to_next_cell": 2
   },
   "outputs": [],
   "source": []
  },
  {
   "cell_type": "code",
   "execution_count": null,
   "metadata": {},
   "outputs": [],
   "source": []
  },
  {
   "cell_type": "code",
   "execution_count": null,
   "metadata": {
    "lines_to_next_cell": 2
   },
   "outputs": [],
   "source": []
  },
  {
   "cell_type": "code",
   "execution_count": null,
   "metadata": {
    "lines_to_next_cell": 2
   },
   "outputs": [],
   "source": []
  },
  {
   "cell_type": "code",
   "execution_count": null,
   "metadata": {
    "lines_to_next_cell": 2
   },
   "outputs": [],
   "source": []
  },
  {
   "cell_type": "code",
   "execution_count": null,
   "metadata": {
    "lines_to_next_cell": 2
   },
   "outputs": [],
   "source": []
  },
  {
   "cell_type": "code",
   "execution_count": null,
   "metadata": {
    "lines_to_next_cell": 2
   },
   "outputs": [],
   "source": []
  },
  {
   "cell_type": "raw",
   "metadata": {
    "lines_to_next_cell": 0
   },
   "source": [
    "criteria = \"EE5\"\n",
    "plot_prefix = f\"Focus_Piston_plots__{criteria}_thres{str(int(threshold*100)).zfill(3)}\"\n",
    "title_suffix = f\"a={foc[0]:.2f} b={foc[1]:.2f} c={foc[2]:.2f} microns\"\n",
    "plot_groups(piston.sort_values(\"motor1\"), experimentId, dataPath,\\\n",
    "            plot_prefix=plot_prefix, title_suffix=title_suffix, col=\"fiber\", hue=\"wavelength\", doSave=doSave)\n",
    "plot_groups(piston.sort_values(\"motor1\"), experimentId, dataPath,\\\n",
    "            plot_prefix=plot_prefix, title_suffix=title_suffix, col=\"wavelength\", hue=\"fiber\", doSave=doSave)\n",
    "\n",
    "plot_prefix = f\"Focus_Piston_fit_plots_thres{int(threshold*100):<3}\"\n",
    "plot_groups(piston_fitdata.sort_values(\"motor1\"), experimentId, dataPath,\\\n",
    "            plot_prefix=plot_prefix, title_suffix=title_suffix, col=\"fiber\", hue=\"wavelength\", doSave=doSave)\n",
    "plot_groups(piston_fitdata.sort_values(\"motor1\"), experimentId, dataPath, \\\n",
    "            plot_prefix=plot_prefix, title_suffix=title_suffix, col=\"wavelength\", hue=\"fiber\", doSave=doSave)\n"
   ]
  },
  {
   "cell_type": "code",
   "execution_count": null,
   "metadata": {},
   "outputs": [],
   "source": [
    "piston.fit_flag"
   ]
  },
  {
   "cell_type": "code",
   "execution_count": null,
   "metadata": {
    "lines_to_next_cell": 2
   },
   "outputs": [],
   "source": []
  },
  {
   "cell_type": "code",
   "execution_count": null,
   "metadata": {},
   "outputs": [],
   "source": [
    "fiber = fibers[-1]\n",
    "wave = waves[-1]\n",
    "print(wave, fiber)\n",
    "#    group = piston_imdata.groupby(['wavelength','fiber']).get_group((wave,fiber))\n",
    "plot_one_group(piston, wave, fiber, experimentId, dataPath)"
   ]
  },
  {
   "cell_type": "code",
   "execution_count": null,
   "metadata": {
    "lines_to_next_cell": 0
   },
   "outputs": [],
   "source": [
    "gfit = piston_fitdata.groupby(['wavelength','fiber']).get_group((wave,fiber))\n",
    "\n",
    "group = piston.groupby(['wavelength','fiber']).get_group((wave,fiber))\n",
    "g_filt = piston[piston.EE5_diff_flag >=0].groupby(['wavelength','fiber']).get_group((wave,fiber))\n",
    "\n",
    "#ax = group.plot.scatter(\"motor1\", \"sep_y2\",\\\n",
    "#                   title=f\"Exp{experimentId} - fiber {fiber} - wave {wave}\",\\\n",
    "#                   label=\"sep_y2\")\n",
    "#ax2 = ax.twinx()\n",
    "#group.plot.scatter(\"motor1\", \"sep_x2\", ax=ax,color=\"r\", label=\"sep_x2\" )\n",
    "ax = group.plot.scatter(\"motor1\", \"EE5\",color=\"g\", label=\"EE5\",  title=f\"Exp{experimentId} - fiber {fiber} - wave {wave}\", )\n",
    "g_filt[g_filt.EE5_diff_flag == False ].plot(\"motor1\", \"EE5\",color=\"r\", style='+'  ,ax=ax)\n",
    "#group.plot(\"motor1\", \"EE5\",ax=ax,color=\"r\", style=\"+\", label=\"EE5\",  title=f\"Exp{experimentId} - fiber {fiber} - wave {wave}\", )\n",
    "gfit.plot.scatter(\"motor1\", \"EE5\",color=\"b\", ax=ax, label=\"fit\",  )\n",
    "if doSave:\n",
    "    plt.savefig(csvPath+f\"Focus_fit_fiber{fiber}_wave{wave}_Exp{experimentId}.png\")\n"
   ]
  },
  {
   "cell_type": "code",
   "execution_count": null,
   "metadata": {
    "lines_to_next_cell": 2
   },
   "outputs": [],
   "source": []
  },
  {
   "cell_type": "code",
   "execution_count": null,
   "metadata": {
    "lines_to_next_cell": 2
   },
   "outputs": [],
   "source": []
  },
  {
   "cell_type": "code",
   "execution_count": null,
   "metadata": {
    "lines_to_next_cell": 2
   },
   "outputs": [],
   "source": []
  },
  {
   "cell_type": "code",
   "execution_count": null,
   "metadata": {
    "lines_to_next_cell": 2
   },
   "outputs": [],
   "source": []
  },
  {
   "cell_type": "code",
   "execution_count": null,
   "metadata": {},
   "outputs": [],
   "source": [
    "group.EE5.pct_change(periods=1)"
   ]
  },
  {
   "cell_type": "code",
   "execution_count": null,
   "metadata": {},
   "outputs": [],
   "source": [
    "ax = group.EE5.plot(style=\"*\")\n",
    "ax2 = ax.twinx()\n",
    "#group.EE5.diff(periods=-1).plot(ax=ax2, style=\"y\")\n",
    "#group.EE5.diff(periods=1).plot(ax=ax2, color=\"y\")\n",
    "\n",
    "group.EE5.pct_change(periods=-1).plot(ax=ax2, style=\"g\")\n",
    "group.EE5.pct_change(periods=1).plot(ax=ax2, style=\"b\")\n",
    "\n",
    "ax3 = ax2.twinx()\n",
    "\n",
    "(group.EE5.pct_change(periods=-1).abs() - group.EE5.pct_change(periods=1).abs()).plot(ax=ax3, color=\"r\")"
   ]
  },
  {
   "cell_type": "code",
   "execution_count": null,
   "metadata": {},
   "outputs": [],
   "source": [
    "(group.EE5.pct_change(periods=-1).abs() < thres) & (group.EE5.pct_change(periods=1).abs() > thres)"
   ]
  },
  {
   "cell_type": "code",
   "execution_count": null,
   "metadata": {
    "lines_to_next_cell": 2
   },
   "outputs": [],
   "source": [
    "thres = -0.2\n",
    "group[\"EE5_diff\"] = (group.EE5.pct_change(periods=-1).abs() - group.EE5.pct_change(periods=1).abs())\n",
    "\n",
    "group[\"EE5_diff_flag\"] = ((group.EE5.pct_change(periods=-1).abs() - group.EE5.pct_change(periods=1).abs() < thres))\n",
    "#group[group.EE5_diff_flag2]\n",
    "#\n",
    "group[\"EE5_diff_flag\"] = ((group.EE5.pct_change(periods=1) > thres))"
   ]
  },
  {
   "cell_type": "raw",
   "metadata": {},
   "source": [
    "thres = -0.08\n",
    "group[\"EE5_diff_flag\"] = (group.EE5.diff(periods=-1) > thres) & (group.EE5.diff(periods=1) > thres)\n"
   ]
  },
  {
   "cell_type": "raw",
   "metadata": {},
   "source": [
    "thres = -0.2\n",
    "group[\"EE5_diff_flag\"] = (group.EE5.pct_change(periods=-1) > thres) & (group.EE5.pct_change(periods=1) > thres)\n"
   ]
  },
  {
   "cell_type": "code",
   "execution_count": null,
   "metadata": {},
   "outputs": [],
   "source": [
    "x = group[group.EE5_diff_flag].motor1.values\n",
    "y = group[group.EE5_diff_flag].EE5.values\n",
    "\n",
    "offset = np.median(y)\n",
    "fy = y-offset\n",
    "amp = np.max(fy)\n",
    "mean = x[np.argmin(np.abs(fy-amp))]\n",
    "hmean = x[np.argmin(np.abs(fy-amp/2))]\n",
    "sig =  np.abs(mean-hmean) / (np.sqrt(2 * np.log(2)))\n",
    "\n",
    "popt1, pcov = curve_fit(oneD_Gaussian, x, y, p0=[amp,mean,sig,offset], maxfev=10000)\n"
   ]
  },
  {
   "cell_type": "code",
   "execution_count": null,
   "metadata": {},
   "outputs": [],
   "source": [
    "print(popt1)\n",
    "print(popt1[0]+popt1[-1])"
   ]
  },
  {
   "cell_type": "code",
   "execution_count": null,
   "metadata": {},
   "outputs": [],
   "source": [
    "newx = np.linspace(np.min(x), np.max(x), 100000)\n",
    "data = np.zeros((len(newx), 2))\n",
    "data[:,0] = newx     \n",
    "data[:,1] = oneD_Gaussian(newx, *popt1)"
   ]
  },
  {
   "cell_type": "code",
   "execution_count": null,
   "metadata": {},
   "outputs": [],
   "source": [
    "ax = group.set_index(\"motor1\").EE5.plot(style=\"k*\")\n",
    "ax2 = ax.twinx()\n",
    "#group.EE5.diff().plot(ax=ax2)\n",
    "#group.set_index(\"motor1\").EE5.pct_change().plot(ax=ax2, color=\"r\")\n",
    "\n",
    "#group.set_index(\"motor1\").EE5.diff(periods=-1).plot(ax=ax2, style=\"r\")\n",
    "#group.set_index(\"motor1\").EE5.diff(periods=1).plot(ax=ax2)\n",
    "\n",
    "group.set_index(\"motor1\").EE5_diff.plot( ax=ax2, color=\"y\")\n",
    "\n",
    "group[group.EE5_diff_flag].set_index(\"motor1\").EE5.plot(style=\"r*\", ax=ax)\n",
    "ax.plot(newx, data[:,1])"
   ]
  },
  {
   "cell_type": "code",
   "execution_count": null,
   "metadata": {},
   "outputs": [],
   "source": [
    "group[\"EE5_diff\"] = group.EE5.pct_change()\n",
    "print(group.EE5_diff.abs().mean())"
   ]
  },
  {
   "cell_type": "code",
   "execution_count": null,
   "metadata": {},
   "outputs": [],
   "source": [
    "group.EE5.diff(periods=2)"
   ]
  },
  {
   "cell_type": "code",
   "execution_count": null,
   "metadata": {},
   "outputs": [],
   "source": [
    "group[[\"EE5\",\"EE5_diff\"]].abs()"
   ]
  },
  {
   "cell_type": "code",
   "execution_count": null,
   "metadata": {},
   "outputs": [],
   "source": [
    "group[[\"EE5\",\"EE5_diff\"]].rolling(3).mean().abs()"
   ]
  },
  {
   "cell_type": "code",
   "execution_count": null,
   "metadata": {},
   "outputs": [],
   "source": [
    "CR_CL_8Sept2020group.EE5_diff.abs() > 2.5* group.EE5_diff.rolling(2).mean().abs()"
   ]
  },
  {
   "cell_type": "code",
   "execution_count": null,
   "metadata": {},
   "outputs": [],
   "source": [
    "ax = group.set_index(\"motor1\").EE5.plot(style=\"b*\")\n",
    "ax2 = ax.twinx()\n",
    "\n",
    "#group.set_index(\"motor1\").EE5.diff(1).plot(style=\"r*\", ax=ax2)\n",
    "\n",
    "group.rolling(2, on=\"EE5\").mean().set_index(\"motor1\").EE5.plot(style=\"g*\")"
   ]
  },
  {
   "cell_type": "code",
   "execution_count": null,
   "metadata": {},
   "outputs": [],
   "source": [
    "group[\"EE5_roll_mean\"] = group.EE5.rolling(2).mean()"
   ]
  },
  {
   "cell_type": "code",
   "execution_count": null,
   "metadata": {},
   "outputs": [],
   "source": [
    "group[[\"EE5_roll_mean\", \"EE5\"]].diff(periods=-1)"
   ]
  },
  {
   "cell_type": "code",
   "execution_count": null,
   "metadata": {},
   "outputs": [],
   "source": [
    "ax = group.set_index(\"motor1\").EE5.plot(style=\"b*\")\n",
    "ax2 = ax.twinx()\n",
    "#group.EE5.diff().plot(ax=ax2)\n",
    "group.set_index(\"motor1\").EE5.pct_change().plot(ax=ax2, color=\"b\")\n",
    "group[group.EE5_diff_flag].set_index(\"motor1\").EE5.plot(style=\"k*\", ax=ax)\n",
    "group.rolling(4, on=\"EE5_diff\").mean().set_index(\"motor1\").EE5_diff.plot(style=\"g*\")\n",
    "group[group.EE5_diff.abs() > 1.* group.EE5_diff.rolling(3).mean().abs()].set_index(\"motor1\").EE5.plot(style=\"rx\", ax=ax)"
   ]
  },
  {
   "cell_type": "code",
   "execution_count": null,
   "metadata": {},
   "outputs": [],
   "source": [
    "group[\"EE5_diff_flag\"] = True"
   ]
  },
  {
   "cell_type": "code",
   "execution_count": null,
   "metadata": {},
   "outputs": [],
   "source": [
    "thres = -0.3\n",
    "group[\"EE5_diff_flag\"] = (group.EE5_diff > thres)\n",
    "group[\"EE5_diff_flag\"].iloc[0] = True"
   ]
  },
  {
   "cell_type": "code",
   "execution_count": null,
   "metadata": {},
   "outputs": [],
   "source": [
    "group.EE5_diff > thres"
   ]
  },
  {
   "cell_type": "raw",
   "metadata": {},
   "source": [
    "group[\"EE5_diff_flag\"] = (group.EE5_diff > -0.1) & (group.EE5_diff.shift(-1) < 0.1)"
   ]
  },
  {
   "cell_type": "code",
   "execution_count": null,
   "metadata": {},
   "outputs": [],
   "source": [
    "ax = group.set_index(\"motor1\").EE5.plot(style=\"k*\")\n",
    "ax2 = ax.twinx()\n",
    "#group.EE5.diff().plot(ax=ax2)\n",
    "group.set_index(\"motor1\").EE5.pct_change().plot(ax=ax2, color=\"r\")\n",
    "group[group.EE5_diff_flag].set_index(\"motor1\").EE5.plot(style=\"r*\", ax=ax)"
   ]
  },
  {
   "cell_type": "code",
   "execution_count": null,
   "metadata": {},
   "outputs": [],
   "source": [
    "ax = group.set_index(\"motor1\").EE5.plot(style=\"k*\")\n",
    "ax2 = ax.twinx()\n",
    "#group.EE5.diff().plot(ax=ax2)\n",
    "group.set_index(\"motor1\").EE5.pct_change().plot(ax=ax2, color=\"r\")\n",
    "group[group.EE5_diff_flag].set_index(\"motor1\").dropna().EE5.plot(style=\"r*\", ax=ax)\n",
    "#group.dropna()[group.dropna().EE5_diff_flag].EE5.plot(style=\"*\", ax=ax)"
   ]
  },
  {
   "cell_type": "code",
   "execution_count": null,
   "metadata": {},
   "outputs": [],
   "source": [
    "low = .02\n",
    "high = .95\n",
    "quant_df = group.EE5_diff.quantile([low, high])"
   ]
  },
  {
   "cell_type": "code",
   "execution_count": null,
   "metadata": {},
   "outputs": [],
   "source": [
    "quant_df"
   ]
  },
  {
   "cell_type": "code",
   "execution_count": null,
   "metadata": {},
   "outputs": [],
   "source": [
    "import numpy as np\n",
    "def removeOutliers(x, outlierConstant):\n",
    "    a = np.array(x)\n",
    "    upper_quartile = np.percentile(a, 75)\n",
    "    lower_quartile = np.percentile(a, 25)\n",
    "    IQR = (upper_quartile - lower_quartile) * outlierConstant\n",
    "    quartileSet = (lower_quartile - IQR, upper_quartile + IQR)\n",
    "    resultList = []\n",
    "    for y in a.tolist():\n",
    "        if y >= quartileSet[0] and y <= quartileSet[1]:\n",
    "            resultList.append(y)\n",
    "    return resultList"
   ]
  },
  {
   "cell_type": "code",
   "execution_count": null,
   "metadata": {},
   "outputs": [],
   "source": [
    "df = group[[\"motor1\", \"EE5\"]]"
   ]
  },
  {
   "cell_type": "code",
   "execution_count": null,
   "metadata": {},
   "outputs": [],
   "source": [
    "import numpy as np\n",
    "from pandas.api.types import is_numeric_dtype\n",
    "\n",
    "def remove_outlier(df):\n",
    "    low = .10\n",
    "    high = .90\n",
    "    quant_df = df.quantile([low, high])\n",
    "    for name in list(df.columns):\n",
    "        if is_numeric_dtype(df[name]):\n",
    "            df = df[(df[name] > quant_df.loc[low, name]) \n",
    "           & (df[name] < quant_df.loc[high, name])]\n",
    "    return df\n",
    "remove_outlier(df)"
   ]
  },
  {
   "cell_type": "code",
   "execution_count": null,
   "metadata": {},
   "outputs": [],
   "source": [
    "quant_df = df.quantile([low, high])\n",
    "quant_df"
   ]
  },
  {
   "cell_type": "code",
   "execution_count": null,
   "metadata": {},
   "outputs": [],
   "source": [
    "ax = group.set_index(\"motor1\").EE5.plot(style=\"k*\")\n",
    "ax2 = ax.twinx()\n",
    "#group.EE5.diff().plot(ax=ax2)\n",
    "group.set_index(\"motor1\").EE5.pct_change().plot(ax=ax2, color=\"r\")\n",
    "group[group.EE5_diff_flag].set_index(\"motor1\").EE5.plot(style=\"r*\", ax=ax)\n",
    "df.set_index(\"motor1\").EE5.plot(style=\"gx\", ax=ax)"
   ]
  },
  {
   "cell_type": "code",
   "execution_count": null,
   "metadata": {
    "lines_to_next_cell": 2
   },
   "outputs": [],
   "source": []
  },
  {
   "cell_type": "code",
   "execution_count": null,
   "metadata": {},
   "outputs": [],
   "source": [
    "thfoc_data = []\n",
    "series = g_filt\n",
    "index = piston_index\n",
    "#    criterias = critierias if criterias is None else ['EE5', 'EE3', 'brightness', 'fwhm']\n",
    "\n",
    "    #series = series.dropna()\n",
    "thfoc = getFocus(series, criteria=criterias[0], index=index, doPrint=doPrint)"
   ]
  },
  {
   "cell_type": "code",
   "execution_count": null,
   "metadata": {},
   "outputs": [],
   "source": [
    "thfoc"
   ]
  },
  {
   "cell_type": "code",
   "execution_count": null,
   "metadata": {},
   "outputs": [],
   "source": [
    "for criteria in criterias:\n",
    "    thfoc[criteria] = getFocus(series, criteria=criteria, index=index, doPrint=doPrint)[criteria]\n",
    "\n",
    "thfoc['peak'] =  series.peak.unique()[0]\n",
    "thfoc['wavelength'] = wave\n",
    "thfoc['fiber'] = fiber\n",
    "thfoc['px'] = np.interp(thfoc[index], series[index], series['px'])\n",
    "thfoc['py'] = np.interp(thfoc[index], series[index], series['py'])\n",
    "# re-create motor value with the higer sampling given by gaussfit\n",
    "print(series.motor1.min())\n",
    "print(thfoc[index].min())\n",
    "thfoc['motor1'] = thfoc[index] + series.motor1.min()\n",
    "thfoc['motor2'] = thfoc[index] + series.motor2.min()\n",
    "thfoc['motor3'] = thfoc[index] + series.motor3.min()\n",
    "\n",
    "thfoc_data.append(thfoc)"
   ]
  },
  {
   "cell_type": "code",
   "execution_count": null,
   "metadata": {
    "lines_to_next_cell": 2
   },
   "outputs": [],
   "source": [
    "thfoc.motor1.min()"
   ]
  },
  {
   "cell_type": "code",
   "execution_count": null,
   "metadata": {},
   "outputs": [],
   "source": [
    "g_filt[[\"fit_flag\",\"motor1\"]].sort_values(\"motor1\")"
   ]
  },
  {
   "cell_type": "code",
   "execution_count": null,
   "metadata": {},
   "outputs": [],
   "source": [
    "g_filt.motor1.min()"
   ]
  },
  {
   "cell_type": "code",
   "execution_count": null,
   "metadata": {},
   "outputs": [],
   "source": [
    "thfoc_data = pd.concat(thfoc_data)\n",
    "\n",
    "if doPlot:\n",
    "    kwargs = dict(grid=True, figsize=(14,10), legend=True, subplots=True)\n",
    "    criterias = ['EE5','EE3', 'brightness', 'fwhm']\n",
    "    for (wavelength, fiber), fit in thfoc_data.groupby(['wavelength','fiber']):\n",
    "### WARINIG: CA VA PAS MARCHER !! ??\n",
    "        imdata['waveStr'] = imdata['wavelength'].map('{:,.5f}'.format).astype(\"str\")\n",
    "        raw = imdata.query(\"waveStr==%d and fiber==%d\"%(wavelength, fiber))\n",
    "        axes = fit.set_index('motor1')[criterias].plot(**kwargs)\n",
    "        for i, criteria in enumerate(criterias):\n",
    "            axes[i].plot(raw['motor1'].values, raw[criteria].values, 'o')"
   ]
  },
  {
   "cell_type": "code",
   "execution_count": null,
   "metadata": {
    "lines_to_next_cell": 0
   },
   "outputs": [],
   "source": [
    "def fitFocusData(imdata, index='relPos', criterias=['EE5','EE3', 'brightness', 'fwhm'], doPlot=False, doPrint=False, head=0, tail=0):\n",
    "    thfoc_data = []\n",
    "    tmpdata = imdata[head:imdata.count()[0]-tail]\n",
    "\n",
    "#    criterias = critierias if criterias is None else ['EE5', 'EE3', 'brightness', 'fwhm']\n",
    "\n",
    "    for (wavelength, fiber), series in tmpdata.groupby(['wavelength','fiber']):\n",
    "        #series = series.dropna()\n",
    "        thfoc = getFocus(series, criteria=criterias[0], index=index, doPrint=doPrint)\n",
    "        for criteria in criterias:\n",
    "            thfoc[criteria] = getFocus(series, criteria=criteria, index=index, doPrint=doPrint)[criteria]\n",
    "\n",
    "        thfoc['peak'] =  series.peak.unique()[0]\n",
    "        thfoc['wavelength'] = wavelength\n",
    "        thfoc['fiber'] = fiber\n",
    "        thfoc['px'] = np.interp(thfoc[index], series[index], series['px'])\n",
    "        thfoc['py'] = np.interp(thfoc[index], series[index], series['py'])\n",
    "        # re-create motor value with the higer sampling given by gaussfit\n",
    "        thfoc['motor1'] = thfoc[index] + series.motor1.min()\n",
    "        thfoc['motor2'] = thfoc[index] + series.motor2.min()\n",
    "        thfoc['motor3'] = thfoc[index] + series.motor3.min()\n",
    "\n",
    "        thfoc_data.append(thfoc)\n",
    "\n",
    "    thfoc_data = pd.concat(thfoc_data)\n",
    "    \n",
    "    if doPlot:\n",
    "        kwargs = dict(grid=True, figsize=(14,10), legend=True, subplots=True)\n",
    "        criterias = ['EE5','EE3', 'brightness', 'fwhm']\n",
    "        for (wavelength, fiber), fit in thfoc_data.groupby(['wavelength','fiber']):\n",
    "### WARINIG: CA VA PAS MARCHER !! ??\n",
    "            imdata['waveStr'] = imdata['wavelength'].map('{:,.5f}'.format).astype(\"str\")\n",
    "            raw = imdata.query(\"waveStr==%d and fiber==%d\"%(wavelength, fiber))\n",
    "            axes = fit.set_index('motor1')[criterias].plot(**kwargs)\n",
    "            for i, criteria in enumerate(criterias):\n",
    "                axes[i].plot(raw['motor1'].values, raw[criteria].values, 'o')\n",
    "                \n",
    "    return thfoc_data\n"
   ]
  },
  {
   "cell_type": "code",
   "execution_count": null,
   "metadata": {
    "lines_to_next_cell": 2
   },
   "outputs": [],
   "source": []
  },
  {
   "cell_type": "code",
   "execution_count": null,
   "metadata": {},
   "outputs": [],
   "source": [
    "clf = IsolationForest( behaviour = 'new', max_samples=group.count()[0], random_state = 1, contamination= 0.1)\n",
    "#clf = IsolationForest( behaviour = 'new', max_samples=group.count()[0], random_state = 1, contamination= \"auto\")\n",
    "\n",
    "#clf = IsolationForest(max_samples=group.count()[0], random_state = 1)\n",
    "\n",
    "preds = clf.fit_predict(group[[\"motor1\", \"EE5\"]].sort_values(by=\"motor1\").values)\n",
    "#preds = clf.fit_predict(group[[\"motor1\", \"EE5\"]].values)\n",
    "\n",
    "group[\"fit_flag\"] = preds"
   ]
  },
  {
   "cell_type": "code",
   "execution_count": null,
   "metadata": {},
   "outputs": [],
   "source": [
    "ax = group[group.fit_flag >0].plot.scatter(\"motor1\", \"EE5\",color=\"g\", title=f\"Exp{experimentId} - fiber {fiber} - wave {wave}\", )\n",
    "group.plot(\"motor1\", \"EE5\",ax=ax,color=\"r\", style=\"+\")\n",
    "#group[group.fit2_flag >0].plot.scatter(\"motor1\", \"EE5\",color=\"b\", ax=ax)"
   ]
  },
  {
   "cell_type": "code",
   "execution_count": null,
   "metadata": {},
   "outputs": [],
   "source": [
    "clf = IsolationForest( behaviour = 'new', max_samples=group.count()[0], random_state = 1, contamination= \"auto\")\n",
    "#clf = IsolationForest(max_samples=group.count()[0], random_state = 1)\n",
    "\n",
    "preds = clf.fit_predict(group[[\"motor1\", \"EE5\"]].values)\n",
    "\n",
    "group[\"fit2_flag\"] = preds"
   ]
  },
  {
   "cell_type": "raw",
   "metadata": {},
   "source": [
    "\n",
    "from sklearn.neighbors import LocalOutlierFactor\n",
    "clf = LocalOutlierFactor(n_neighbors=6, novelty=True, contamination=\"auto\")\n",
    "\n",
    "clf.fit(X_train)\n",
    "# DO NOT use predict, decision_function and score_samples on X_train as this\n",
    "# would give wrong results but only on new unseen data (not used in X_train),\n",
    "# e.g. X_test, X_outliers or the meshgrid\n",
    "y_pred_test = clf.predict(X_test)\n",
    "y_pred_outliers = clf.predict(X_outliers)\n",
    "n_error_test = y_pred_test[y_pred_test == -1].size\n",
    "n_error_outliers = y_pred_outliers[y_pred_outliers == 1].size\n",
    "\n",
    "#preds = clf.fit_predict(group[[\"motor1\", \"EE5\"]].values)\n",
    "\n",
    "#group[\"fit_flag\"] = preds"
   ]
  },
  {
   "cell_type": "raw",
   "metadata": {
    "jupyter": {
     "outputs_hidden": true
    },
    "lines_to_next_cell": 0
   },
   "source": [
    "from sklearn.linear_model import HuberRegressor\n",
    "X = group[\"motor1\"].values\n",
    "y = group[\"EE5\"].values\n",
    "huber = HuberRegressor().fit(X, y)\n",
    "huber.score(X, y)\n",
    "\n",
    "huber.predict(X[:1,])"
   ]
  },
  {
   "cell_type": "code",
   "execution_count": null,
   "metadata": {
    "lines_to_next_cell": 2
   },
   "outputs": [],
   "source": []
  },
  {
   "cell_type": "code",
   "execution_count": null,
   "metadata": {},
   "outputs": [],
   "source": [
    "x = group[\"motor1\"].values\n",
    "y = group[\"EE5\"].values"
   ]
  },
  {
   "cell_type": "code",
   "execution_count": null,
   "metadata": {
    "lines_to_next_cell": 2
   },
   "outputs": [],
   "source": []
  },
  {
   "cell_type": "code",
   "execution_count": null,
   "metadata": {
    "lines_to_end_of_cell_marker": 2
   },
   "outputs": [],
   "source": [
    "offset = np.median(y)\n",
    "fy = y-offset\n",
    "amp = np.max(fy)\n",
    "mean = x[np.argmin(np.abs(fy-amp))]\n",
    "hmean = x[np.argmin(np.abs(fy-amp/2))]\n",
    "sig =  np.abs(mean-hmean) / (np.sqrt(2 * np.log(2)))\n",
    "\n",
    "popt1, pcov = curve_fit(oneD_Gaussian, x, y, p0=[amp,mean,sig,offset], maxfev=10000)"
   ]
  },
  {
   "cell_type": "code",
   "execution_count": null,
   "metadata": {},
   "outputs": [],
   "source": [
    "plt.plot(x,y, \"+\")"
   ]
  },
  {
   "cell_type": "code",
   "execution_count": null,
   "metadata": {},
   "outputs": [],
   "source": [
    "perr = np.sqrt(np.diag(pcov))"
   ]
  },
  {
   "cell_type": "code",
   "execution_count": null,
   "metadata": {},
   "outputs": [],
   "source": [
    "perr"
   ]
  },
  {
   "cell_type": "code",
   "execution_count": null,
   "metadata": {},
   "outputs": [],
   "source": [
    "from scipy.optimize import least_squares"
   ]
  },
  {
   "cell_type": "code",
   "execution_count": null,
   "metadata": {},
   "outputs": [],
   "source": [
    "res_robust = least_squares(oneD_Gaussian, y, loss='soft_l1', f_scale=0.1, args=(amp,mean,sig,offset))"
   ]
  },
  {
   "cell_type": "code",
   "execution_count": null,
   "metadata": {},
   "outputs": [],
   "source": [
    "res_robust.x"
   ]
  },
  {
   "cell_type": "code",
   "execution_count": null,
   "metadata": {
    "lines_to_next_cell": 2
   },
   "outputs": [],
   "source": []
  },
  {
   "cell_type": "code",
   "execution_count": null,
   "metadata": {},
   "outputs": [],
   "source": [
    "def fitgauss1D(x, y):\n",
    "    offset = np.median(y)\n",
    "    fy = y-offset\n",
    "    amp = np.max(fy)\n",
    "    mean = x[np.argmin(np.abs(fy-amp))]\n",
    "    hmean = x[np.argmin(np.abs(fy-amp/2))]\n",
    "    sig =  np.abs(mean-hmean) / (np.sqrt(2 * np.log(2)))\n",
    "\n",
    "    popt1, pcov = curve_fit(oneD_Gaussian, x, y, p0=[amp,mean,sig,offset], maxfev=10000)\n",
    "\n",
    "    newx = np.linspace(np.min(x), np.max(x), 100000)\n",
    "    data = np.zeros((len(newx), 2))\n",
    "    data[:,0] = newx     \n",
    "    data[:,1] = oneD_Gaussian(newx, *popt1)\n",
    "\n",
    "    return TFocusDf(data), FitGauss1D(*popt1)"
   ]
  },
  {
   "cell_type": "code",
   "execution_count": null,
   "metadata": {
    "lines_to_next_cell": 2
   },
   "outputs": [],
   "source": []
  },
  {
   "cell_type": "code",
   "execution_count": null,
   "metadata": {},
   "outputs": [],
   "source": []
  },
  {
   "cell_type": "code",
   "execution_count": null,
   "metadata": {
    "lines_to_next_cell": 2
   },
   "outputs": [],
   "source": []
  },
  {
   "cell_type": "code",
   "execution_count": null,
   "metadata": {},
   "outputs": [],
   "source": [
    "dfp3 = piston_imdata"
   ]
  },
  {
   "cell_type": "code",
   "execution_count": null,
   "metadata": {},
   "outputs": [],
   "source": [
    "def remove_outliers(value):\n",
    "    clf = IsolationForest( behaviour = 'new', max_samples=100, random_state = 1, contamination= 'auto')\n",
    "    return clf.fit_predict(value)"
   ]
  },
  {
   "cell_type": "code",
   "execution_count": null,
   "metadata": {},
   "outputs": [],
   "source": []
  },
  {
   "cell_type": "code",
   "execution_count": null,
   "metadata": {},
   "outputs": [],
   "source": [
    "ind = \"motor1\"\n",
    "piston_imdata[\"fit_flag\"] = np.nan\n",
    "for (wave, fiber), series in piston_imdata.groupby(['wavelength','fiber']):\n",
    "    series[\"fit_flag\"]= remove_outliers(series[[\"motor1\",\"EE5\"]].values)"
   ]
  },
  {
   "cell_type": "code",
   "execution_count": null,
   "metadata": {},
   "outputs": [],
   "source": [
    "pi"
   ]
  },
  {
   "cell_type": "code",
   "execution_count": null,
   "metadata": {},
   "outputs": [],
   "source": [
    "series[\"fit_flag\"]= series.apply(lambda x: remove_outliers(x[\"motor1\"], x[\"EE5\"]), axis=1)`"
   ]
  },
  {
   "cell_type": "code",
   "execution_count": null,
   "metadata": {},
   "outputs": [],
   "source": [
    "dfp3['fit_flag'] = dfp3.groupby(['wavelength','fiber']).agg(\n",
    "        fit_flag=pd.NamedAgg(column='EE5', aggfunc='pct_change')\n",
    ")"
   ]
  },
  {
   "cell_type": "code",
   "execution_count": null,
   "metadata": {},
   "outputs": [],
   "source": [
    "dfp3['fit_flag'] = dfp3.groupby(['wavelength','fiber']).agg(\n",
    "        fit_flag=pd.NamedAgg(column='EE5', aggfunc='pct_change')\n",
    ")"
   ]
  },
  {
   "cell_type": "code",
   "execution_count": null,
   "metadata": {
    "lines_to_next_cell": 2
   },
   "outputs": [],
   "source": [
    "ind = \"motor1\"\n",
    "piston_imdata[\"fit_flag\"] = np.nan\n",
    "tot = []\n",
    "for (wave, fiber), series in piston_imdata.groupby(['wavelength','fiber']):\n",
    "        clf = IsolationForest( behaviour = 'new', max_samples=100, random_state = 1, contamination= 'auto')\n",
    "        preds = clf.fit_predict(series[[ind, \"EE5\"]].values)\n",
    "        series[\"fit_flag\"] = preds\n",
    "        tot.append(list(series.values))"
   ]
  },
  {
   "cell_type": "code",
   "execution_count": null,
   "metadata": {
    "lines_to_next_cell": 2
   },
   "outputs": [],
   "source": [
    "ind = \"motor1\"\n",
    "piston_imdata[\"fit_flag\"] = np.nan\n",
    "tot = []\n",
    "for  group_name, series in piston_imdata.groupby(['wavelength','fiber']):\n",
    "        clf = IsolationForest( behaviour = 'new', max_samples=series.count()[0], random_state = 1, contamination= 'auto')\n",
    "        preds = clf.fit_predict(series[[ind, \"EE5\"]].values)\n",
    "        series.loc[:,\"fit_flag\"] = preds\n",
    "        tot.append(series)"
   ]
  },
  {
   "cell_type": "code",
   "execution_count": null,
   "metadata": {
    "lines_to_next_cell": 2
   },
   "outputs": [],
   "source": [
    "series.count()"
   ]
  },
  {
   "cell_type": "code",
   "execution_count": null,
   "metadata": {},
   "outputs": [],
   "source": [
    "piston_imdata.groupby(['wavelength','fiber'])[[\"motor1\", \"EE5\"]]"
   ]
  },
  {
   "cell_type": "code",
   "execution_count": null,
   "metadata": {},
   "outputs": [],
   "source": [
    "df =pd.concat(tot)"
   ]
  },
  {
   "cell_type": "code",
   "execution_count": null,
   "metadata": {},
   "outputs": [],
   "source": [
    "df"
   ]
  },
  {
   "cell_type": "code",
   "execution_count": null,
   "metadata": {},
   "outputs": [],
   "source": [
    "piston_imdata = pd.concat(map(pd.read_csv,files)).reset_index()\n",
    "\n",
    "print(f\"Wavelength used: {piston_imdata.wavelength.unique()}\")\n",
    "minPos = piston_imdata[['motor1','motor2','motor3']]\n",
    "minPos = minPos - minPos.min()\n",
    "piston_imdata['relPos'] = minPos['motor1']"
   ]
  },
  {
   "cell_type": "code",
   "execution_count": null,
   "metadata": {},
   "outputs": [],
   "source": [
    "piston_imdata.groupby(['wavelength','fiber']).count()"
   ]
  },
  {
   "cell_type": "code",
   "execution_count": null,
   "metadata": {},
   "outputs": [],
   "source": [
    "piston_imdata.count()"
   ]
  },
  {
   "cell_type": "code",
   "execution_count": null,
   "metadata": {},
   "outputs": [],
   "source": [
    "1662/80"
   ]
  },
  {
   "cell_type": "code",
   "execution_count": null,
   "metadata": {
    "jupyter": {
     "source_hidden": true
    }
   },
   "outputs": [],
   "source": [
    "piston_imdata.fit_flag"
   ]
  },
  {
   "cell_type": "code",
   "execution_count": null,
   "metadata": {
    "lines_to_next_cell": 2
   },
   "outputs": [],
   "source": [
    "from sklearn.ensemble import IsolationForest"
   ]
  },
  {
   "cell_type": "code",
   "execution_count": null,
   "metadata": {},
   "outputs": [],
   "source": [
    "clf = IsolationForest( behaviour = 'new', max_samples=group.count()[0], random_state = 1, contamination= 0.1)\n",
    "#clf = IsolationForest(max_samples=group.count()[0], random_state = 1)\n",
    "\n",
    "preds = clf.fit_predict(group[[\"motor1\", \"EE5\"]].values)\n",
    "preds"
   ]
  },
  {
   "cell_type": "code",
   "execution_count": null,
   "metadata": {},
   "outputs": [],
   "source": [
    "group[\"fit_flag\"] = preds"
   ]
  },
  {
   "cell_type": "code",
   "execution_count": null,
   "metadata": {},
   "outputs": [],
   "source": [
    "ax = group[group.fit_flag >0].plot.scatter(\"motor1\", \"EE5\",color=\"g\", label=\"EE5\",  title=f\"Exp{experimentId} - fiber {fiber} - wave {wave}\", )\n",
    "group.plot(\"motor1\", \"EE5\",ax=ax,color=\"r\", style=\"+\", label=\"EE5\",  title=f\"Exp{experimentId} - fiber {fiber} - wave {wave}\", )"
   ]
  },
  {
   "cell_type": "code",
   "execution_count": null,
   "metadata": {
    "lines_to_next_cell": 2
   },
   "outputs": [],
   "source": []
  },
  {
   "cell_type": "code",
   "execution_count": null,
   "metadata": {},
   "outputs": [],
   "source": [
    "from scipy.stats import iqr"
   ]
  },
  {
   "cell_type": "code",
   "execution_count": null,
   "metadata": {},
   "outputs": [],
   "source": [
    "group.EE5"
   ]
  },
  {
   "cell_type": "code",
   "execution_count": null,
   "metadata": {},
   "outputs": [],
   "source": [
    "iqr(group.EE5.values, keepdims=True)"
   ]
  },
  {
   "cell_type": "code",
   "execution_count": null,
   "metadata": {},
   "outputs": [],
   "source": [
    "def remove_outlier(df_in, col_name):\n",
    "    q1 = df_in[col_name].quantile(0.25)\n",
    "    q3 = df_in[col_name].quantile(0.75)\n",
    "    iqr = q3-q1 #Interquartile range\n",
    "    fence_low  = q1-1.5*iqr\n",
    "    fence_high = q3+1.5*iqr\n",
    "    df_out = df_in.loc[(df_in[col_name] > fence_low) & (df_in[col_name] < fence_high)]\n",
    "    return df_out"
   ]
  },
  {
   "cell_type": "code",
   "execution_count": null,
   "metadata": {},
   "outputs": [],
   "source": [
    "df = remove_outlier(group, \"EE5\")"
   ]
  },
  {
   "cell_type": "code",
   "execution_count": null,
   "metadata": {},
   "outputs": [],
   "source": [
    "df = group[(group.sep_flag <1) ]"
   ]
  },
  {
   "cell_type": "code",
   "execution_count": null,
   "metadata": {},
   "outputs": [],
   "source": [
    "df.plot.scatter(\"motor1\", \"EE5\", color=\"g\", label=\"EE5\" )"
   ]
  },
  {
   "cell_type": "code",
   "execution_count": null,
   "metadata": {},
   "outputs": [],
   "source": [
    "df.plot.scatter(\"motor1\", \"sep_ECE5\", color=\"g\", label=\"EE5\" )"
   ]
  },
  {
   "cell_type": "code",
   "execution_count": null,
   "metadata": {},
   "outputs": [],
   "source": [
    "piston_imdata.fwhm.hist()"
   ]
  },
  {
   "cell_type": "code",
   "execution_count": null,
   "metadata": {},
   "outputs": [],
   "source": [
    "piston_imdata.sep_ECE5.hist()"
   ]
  },
  {
   "cell_type": "code",
   "execution_count": null,
   "metadata": {},
   "outputs": [],
   "source": [
    "piston_imdata.set_index([\"fiber\", \"wavelength\"])[[\"EE5\", \"sep_ECE5\", \"sep_flux_EC5\"]]"
   ]
  },
  {
   "cell_type": "code",
   "execution_count": null,
   "metadata": {},
   "outputs": [],
   "source": [
    "piston_imdata.sep_flux_EC5"
   ]
  },
  {
   "cell_type": "code",
   "execution_count": null,
   "metadata": {},
   "outputs": [],
   "source": []
  },
  {
   "cell_type": "code",
   "execution_count": null,
   "metadata": {
    "lines_to_next_cell": 2
   },
   "outputs": [],
   "source": []
  },
  {
   "cell_type": "code",
   "execution_count": null,
   "metadata": {},
   "outputs": [],
   "source": [
    "from matplotlib import pyplot as plt\n",
    "import numpy as np\n",
    "\n",
    "from sklearn.linear_model import (\n",
    "    LinearRegression, TheilSenRegressor, RANSACRegressor, HuberRegressor)\n",
    "from sklearn.metrics import mean_squared_error\n",
    "from sklearn.preprocessing import PolynomialFeatures\n",
    "from sklearn.pipeline import make_pipeline\n",
    "\n",
    "np.random.seed(42)\n",
    "\n",
    "X = np.random.normal(size=400)\n",
    "y = np.sin(X)\n",
    "# Make sure that it X is 2D\n",
    "X = X[:, np.newaxis]\n",
    "\n",
    "X_test = np.random.normal(size=200)\n",
    "y_test = np.sin(X_test)\n",
    "X_test = X_test[:, np.newaxis]\n",
    "\n",
    "y_errors = y.copy()\n",
    "y_errors[::3] = 3\n",
    "\n",
    "X_errors = X.copy()\n",
    "X_errors[::3] = 3\n",
    "\n",
    "y_errors_large = y.copy()\n",
    "y_errors_large[::3] = 10\n",
    "\n",
    "X_errors_large = X.copy()\n",
    "X_errors_large[::3] = 10\n",
    "\n",
    "estimators = [('OLS', LinearRegression()),\n",
    "              ('Theil-Sen', TheilSenRegressor(random_state=42)),\n",
    "              ('RANSAC', RANSACRegressor(random_state=42)),\n",
    "              ('HuberRegressor', HuberRegressor())]\n",
    "colors = {'OLS': 'turquoise', 'Theil-Sen': 'gold', 'RANSAC': 'lightgreen', 'HuberRegressor': 'black'}\n",
    "linestyle = {'OLS': '-', 'Theil-Sen': '-.', 'RANSAC': '--', 'HuberRegressor': '--'}\n",
    "lw = 3\n",
    "\n",
    "x_plot = np.linspace(X.min(), X.max())\n",
    "for title, this_X, this_y in [\n",
    "        ('Modeling Errors Only', X, y),\n",
    "        ('Corrupt X, Small Deviants', X_errors, y),\n",
    "        ('Corrupt y, Small Deviants', X, y_errors),\n",
    "        ('Corrupt X, Large Deviants', X_errors_large, y),\n",
    "        ('Corrupt y, Large Deviants', X, y_errors_large)]:\n",
    "    plt.figure(figsize=(5, 4))\n",
    "    plt.plot(this_X[:, 0], this_y, 'b+')\n",
    "\n",
    "    for name, estimator in estimators:\n",
    "        model = make_pipeline(PolynomialFeatures(3), estimator)\n",
    "        model.fit(this_X, this_y)\n",
    "        mse = mean_squared_error(model.predict(X_test), y_test)\n",
    "        y_plot = model.predict(x_plot[:, np.newaxis])\n",
    "        plt.plot(x_plot, y_plot, color=colors[name], linestyle=linestyle[name],\n",
    "                 linewidth=lw, label='%s: error = %.3f' % (name, mse))\n",
    "\n",
    "    legend_title = 'Error of Mean\\nAbsolute Deviation\\nto Non-corrupt Data'\n",
    "    legend = plt.legend(loc='upper right', frameon=False, title=legend_title,\n",
    "                        prop=dict(size='x-small'))\n",
    "    plt.xlim(-4, 10.2)\n",
    "    plt.ylim(-2, 10.2)\n",
    "    plt.title(title)\n",
    "plt.show()"
   ]
  },
  {
   "cell_type": "code",
   "execution_count": null,
   "metadata": {},
   "outputs": [],
   "source": [
    "y"
   ]
  },
  {
   "cell_type": "code",
   "execution_count": null,
   "metadata": {
    "lines_to_next_cell": 2
   },
   "outputs": [],
   "source": []
  },
  {
   "cell_type": "code",
   "execution_count": null,
   "metadata": {},
   "outputs": [],
   "source": []
  },
  {
   "cell_type": "code",
   "execution_count": null,
   "metadata": {},
   "outputs": [],
   "source": []
  },
  {
   "cell_type": "code",
   "execution_count": null,
   "metadata": {},
   "outputs": [],
   "source": []
  },
  {
   "cell_type": "code",
   "execution_count": null,
   "metadata": {},
   "outputs": [],
   "source": []
  },
  {
   "cell_type": "code",
   "execution_count": null,
   "metadata": {},
   "outputs": [],
   "source": []
  },
  {
   "cell_type": "code",
   "execution_count": null,
   "metadata": {
    "lines_to_next_cell": 0
   },
   "outputs": [],
   "source": [
    "import numpy as np\n",
    "from sklearn.neighbors import LocalOutlierFactor\n",
    "X = [[-1.1], [0.2], [101.1], [0.3]]\n",
    "clf = LocalOutlierFactor(n_neighbors=2)\n",
    "clf.fit_predict(X)\n",
    "\n",
    "clf.negative_outlier_factor_\n"
   ]
  },
  {
   "cell_type": "code",
   "execution_count": null,
   "metadata": {
    "lines_to_next_cell": 2
   },
   "outputs": [],
   "source": []
  }
 ],
 "metadata": {
  "jupytext": {
   "encoding": "# -*- coding: utf-8 -*-",
   "text_representation": {
    "extension": ".py",
    "format_name": "light",
    "format_version": "1.5",
    "jupytext_version": "1.3.4"
   }
  },
  "kernelspec": {
   "display_name": "Python 3",
   "language": "python",
   "name": "python3"
  },
  "language_info": {
   "codemirror_mode": {
    "name": "ipython",
    "version": 3
   },
   "file_extension": ".py",
   "mimetype": "text/x-python",
   "name": "python",
   "nbconvert_exporter": "python",
   "pygments_lexer": "ipython3",
   "version": "3.7.2"
  }
 },
 "nbformat": 4,
 "nbformat_minor": 4
}
