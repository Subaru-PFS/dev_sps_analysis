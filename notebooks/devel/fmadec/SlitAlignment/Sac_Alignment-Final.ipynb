{
 "cells": [
  {
   "cell_type": "code",
   "execution_count": null,
   "metadata": {},
   "outputs": [],
   "source": [
    "from astropy.io import fits\n",
    "import matplotlib.pyplot as plt\n",
    "from datetime import datetime as dt\n",
    "import numpy as np"
   ]
  },
  {
   "cell_type": "code",
   "execution_count": null,
   "metadata": {},
   "outputs": [],
   "source": []
  },
  {
   "cell_type": "code",
   "execution_count": null,
   "metadata": {},
   "outputs": [],
   "source": []
  },
  {
   "cell_type": "code",
   "execution_count": null,
   "metadata": {},
   "outputs": [],
   "source": [
    "from astropy.io import fits\n",
    "import matplotlib.pyplot as plt\n",
    "from datetime import datetime as dt\n",
    "import numpy as np"
   ]
  },
  {
   "cell_type": "code",
   "execution_count": null,
   "metadata": {},
   "outputs": [],
   "source": [
    "# import LAM library for logbook, data analysis...\n",
    "from pfs.lam.sacFileHandling import *"
   ]
  },
  {
   "cell_type": "code",
   "execution_count": null,
   "metadata": {},
   "outputs": [],
   "source": [
    "from matplotlib import style\n",
    "style.use('ggplot')"
   ]
  },
  {
   "cell_type": "code",
   "execution_count": null,
   "metadata": {},
   "outputs": [],
   "source": [
    "imgPath = '/home/pfs/shared/Pictures/SM1'"
   ]
  },
  {
   "cell_type": "code",
   "execution_count": null,
   "metadata": {},
   "outputs": [],
   "source": [
    "smId = 2"
   ]
  },
  {
   "cell_type": "code",
   "execution_count": null,
   "metadata": {},
   "outputs": [],
   "source": [
    "def correlate(reference, image):\n",
    "    return register_translation(reference, image, 100)\n",
    "\n",
    "    \n",
    "def sacShift(filelist, duplicate):\n",
    "    __, reference = stackedImage(filelist, 0, duplicate=duplicate)\n",
    "    res = []\n",
    "    \n",
    "    for i in range(len(filelist)//duplicate):\n",
    "        hdr, image = stackedImage(filelist, i, duplicate=duplicate)\n",
    "        ccdPos = round(hdr['ait.sac.ccd.position'], 1)\n",
    "        pentaPos= round(hdr['ait.sac.penta.position'], 1)\n",
    "\n",
    "        shift, error, diffphase = correlate(reference=reference, image=image)\n",
    "        res.append((ccdPos,pentaPos,shift[0], shift[1]))\n",
    "        \n",
    "    return pd.DataFrame(data=res, columns=['ccdPosition', 'pentaPosition', 'shift_x', 'shift_y'])\n",
    "\n",
    "\n",
    "def getDescription(experimentId):\n",
    "    visitStart, visitEnd = Logbook.visitRange(experimentId=experimentId)\n",
    "    filelist = constructFilelist(visitStart=visitStart, visitEnd=visitEnd)\n",
    "    duplicate = int(Logbook.getParameter(experimentId=experimentId, param='duplicate'))\n",
    "    dateobs = getDateObs(experimentId=experimentId)\n",
    "\n",
    "    description = pd.DataFrame([(experimentId, dateobs, len(filelist), visitStart, visitEnd, duplicate)],\n",
    "                               columns=['experimentId', 'dateobs', 'nbImages', 'visitStart', 'visitEnd', 'duplicate'])\n",
    "\n",
    "    return description"
   ]
  },
  {
   "cell_type": "code",
   "execution_count": null,
   "metadata": {},
   "outputs": [],
   "source": [
    "import sqlite3\n",
    "import pandas as pd\n",
    "\n",
    "engine = 'file:///data/ait/experimentLog-sac.db?mode=ro'\n",
    "#engine = 'file:///data/ait/experimentLog.db?mode=ro'\n",
    "\n",
    "query = \"select * from Experiment where type='sacAlignment' order by experimentId desc\"\n",
    "query = \"select * from Experiment where type='sacExpose' order by experimentId desc\"\n",
    "\n",
    "#query = \"select experimentId,obsdate,name,visitStart,visitEnd,type,cmdStr,comments,anomalies from Exposure inner join Experiment on Experiment.visitStart=Exposure.visit order by experimentId desc\"\n",
    "\n",
    "conn = sqlite3.connect(engine, uri=True)\n",
    "df = pd.read_sql_query(query, conn,index_col='experimentId')"
   ]
  },
  {
   "cell_type": "raw",
   "metadata": {},
   "source": [
    "df.cmdStr[223]\n"
   ]
  },
  {
   "cell_type": "code",
   "execution_count": null,
   "metadata": {
    "jupyter": {
     "outputs_hidden": true
    }
   },
   "outputs": [],
   "source": [
    "df"
   ]
  },
  {
   "cell_type": "markdown",
   "metadata": {},
   "source": [
    "## Data required : \n",
    "To be able to find the right focus, some data acquisition is required.\n",
    "\n",
    "you need to use ics_spsaitActor to perform your sequence\n",
    "\n",
    "example : <b>sac align exptime=1.0 focus=0 lowBound=-450 upBound=450 nbPosition=10 duplicate=3</b>\n",
    "\n",
    "-450 : 450 is the range of the pentaprism linear stage\n",
    "\n",
    "focus is the position of the ccd linear stage\n",
    "\n",
    "the goal here is to take several sequences for difference focus value, here we have taken data for [0,2,4,6,8]\n"
   ]
  },
  {
   "cell_type": "markdown",
   "metadata": {},
   "source": [
    "## Input Parameters : \n",
    "The only parameters needed is the experimentIds that match your data acquisition sequence"
   ]
  },
  {
   "cell_type": "code",
   "execution_count": null,
   "metadata": {},
   "outputs": [],
   "source": [
    "experimentStart = 246 #219 #185 #the first experimentId is 12\n",
    "experimentEnd = 251# 223#189    #the last experimentId is 16\n",
    "ignore = [250]"
   ]
  },
  {
   "cell_type": "code",
   "execution_count": null,
   "metadata": {},
   "outputs": [],
   "source": []
  },
  {
   "cell_type": "code",
   "execution_count": null,
   "metadata": {},
   "outputs": [],
   "source": [
    "dfs = []\n",
    "\n",
    "for experimentId in range(experimentStart, experimentEnd+1):\n",
    "    if experimentId in ignore:\n",
    "        continue\n",
    "    visitStart, visitEnd = Logbook.visitRange(experimentId=experimentId)\n",
    "    duplicate = int(Logbook.getParameter(experimentId=experimentId, param='duplicate'))\n",
    "#    duplicate = 2\n",
    "    filelist = constructFilelist(visitStart=visitStart, visitEnd=visitEnd)\n",
    "    df = sacShift(filelist=filelist, duplicate=duplicate)\n",
    "    df['experimentId'] = experimentId\n",
    "    dfs.append(df)\n",
    "\n",
    "cube = pd.concat(dfs)"
   ]
  },
  {
   "cell_type": "code",
   "execution_count": null,
   "metadata": {},
   "outputs": [],
   "source": [
    "dfs = []\n",
    "filelist = []\n",
    "for experimentId in [252,253]:\n",
    "    #if experimentId in ignore:\n",
    "    #    continue\n",
    "        \n",
    "    visitStart, visitEnd = Logbook.visitRange(experimentId=experimentId)\n",
    "    duplicate = int(Logbook.getParameter(experimentId=experimentId, param='duplicate'))\n",
    "#    duplicate = 2\n",
    "    filelist += constructFilelist(visitStart=visitStart, visitEnd=visitEnd)\n",
    "    \n",
    "df = sacShift(filelist=filelist, duplicate=duplicate)\n",
    "#df['experimentId'] = experimentId\n",
    "#    dfs.append(df)\n",
    "\n",
    "#cube = pd.concat(dfs)"
   ]
  },
  {
   "cell_type": "code",
   "execution_count": null,
   "metadata": {},
   "outputs": [],
   "source": [
    "df"
   ]
  },
  {
   "cell_type": "code",
   "execution_count": null,
   "metadata": {},
   "outputs": [],
   "source": [
    "descriptions = pd.concat([getDescription(experimentId) for experimentId in range(experimentStart, experimentEnd+1)])\n",
    "descriptions = descriptions.set_index('experimentId')\n",
    "descriptions"
   ]
  },
  {
   "cell_type": "code",
   "execution_count": null,
   "metadata": {},
   "outputs": [],
   "source": [
    "plt.figure(figsize=(12,8))\n",
    "plt.xlabel('Pentaprism Position (mm)')\n",
    "plt.ylabel('offset (pixels)')\n",
    "\n",
    "for ccdPosition, df in cube.groupby('ccdPosition'):\n",
    "    plt.plot(df['pentaPosition'], df['shift_x'], 'o-', label='ccdPosition : %.2f'%ccdPosition)\n",
    "    \n",
    "plt.title('Spot displacement vs pentaPosition - EXP%i-%i'%(experimentStart, experimentEnd))\n",
    "plt.grid()\n",
    "plt.legend()\n",
    "\n",
    "if False:\n",
    "    plt.savefig(os.path.join(imgPath, 'SM1_SACALIGN_EXP%i-%i_SPOT_DISPLACEMENT.png'%(experimentStart, experimentEnd)))"
   ]
  },
  {
   "cell_type": "code",
   "execution_count": null,
   "metadata": {},
   "outputs": [],
   "source": [
    "plt.figure(figsize=(12,8))\n",
    "plt.xlabel('Ccd Position (mm)')\n",
    "plt.ylabel('offset (pixels)')\n",
    "\n",
    "\n",
    "for pentaPosition, df in cube.groupby('pentaPosition'):\n",
    "    plt.plot(df['ccdPosition'], df['shift_x'], 'o-', label='pentaPosition : %.2f'%pentaPosition)\n",
    "    \n",
    "plt.title('Spot displacement vs ccdPosition - EXP%i-%i'%(experimentStart, experimentEnd))\n",
    "plt.grid()\n",
    "plt.legend()\n",
    "plt.xlim(3.6,4.8)\n",
    "plt.ylim(-2, 4)\n",
    "\n",
    "if False:\n",
    "    plt.savefig(os.path.join(imgPath, 'SM1_SACALIGN_EXP%i-%i_SPOT_DISPLACEMENT.png'%(experimentStart, experimentEnd)))"
   ]
  },
  {
   "cell_type": "code",
   "execution_count": null,
   "metadata": {},
   "outputs": [],
   "source": [
    "data = []\n",
    "for ccdPosition, df in cube.groupby('ccdPosition'):\n",
    "    [slope, offset] = np.polyfit(df['pentaPosition'], df['shift_x'], deg=1)\n",
    "    data.append((ccdPosition, slope))\n",
    "    \n",
    "df = pd.DataFrame(data=data, columns=['ccdPosition', 'slope'])"
   ]
  },
  {
   "cell_type": "code",
   "execution_count": null,
   "metadata": {},
   "outputs": [],
   "source": [
    "x = np.arange(np.min(df['ccdPosition']), np.max(df['ccdPosition'])+0.01, 0.01)\n",
    "popt = np.polyfit(df['ccdPosition'], df['slope'], deg=1)\n",
    "\n",
    "plt.figure(figsize=(12,8))\n",
    "plt.xlabel('Ccd Position (mm)')\n",
    "plt.ylabel('Slope')\n",
    "\n",
    "plt.plot(df['ccdPosition'], df['slope'], 'o')\n",
    "plt.plot(x, np.polyval(popt, x), '-')\n",
    "\n",
    "[calc_focus] = np.roots(popt)\n",
    "plt.vlines(x=calc_focus, ymin=np.min(df['slope']), ymax=np.max(df['slope']))\n",
    "plt.title('Calculated Focus = %.3f mm - EXP%i-%i'%(calc_focus, experimentStart, experimentEnd))\n",
    "plt.grid()\n",
    "\n",
    "if True:\n",
    "    plt.savefig(os.path.join(imgPath, 'SM1_SACALIGN_EXP%i-%i_CALC_FOCUS.png'%(experimentStart, experimentEnd)))"
   ]
  },
  {
   "cell_type": "code",
   "execution_count": null,
   "metadata": {},
   "outputs": [],
   "source": [
    "f = 1497.\n",
    "pix_size = 4.539e-3\n",
    "defoc = []\n",
    "\n",
    "for ccdPosition, df in cube.groupby('ccdPosition'):\n",
    "    for index, row in df.iterrows():\n",
    "        ref = row['shift_x']\n",
    "        penta = row['pentaPosition']\n",
    "        for ind, row2 in df[index+1:].iterrows():\n",
    "            shift = (row2['shift_x']-ref)* pix_size * f / ((row2[\"pentaPosition\"]-penta)/10)\n",
    "            defoc.append((ccdPosition,shift))\n",
    "\n",
    "defoc = pd.DataFrame(defoc, columns=['x', 'y'])\n",
    "p = np.polyfit(defoc.x, defoc.y, deg=1)"
   ]
  },
  {
   "cell_type": "code",
   "execution_count": null,
   "metadata": {},
   "outputs": [],
   "source": [
    "cube.plot(x=\"ccdPosition\", y=\"shift_y\", kind=\"scatter\")"
   ]
  },
  {
   "cell_type": "code",
   "execution_count": null,
   "metadata": {},
   "outputs": [],
   "source": [
    "vect = np.arange(defoc.x.iloc[0], defoc.x.iloc[-1], 0.01)\n",
    "plt.figure(figsize=(12,8))\n",
    "plt.xlabel('Ccd Position (?)')\n",
    "plt.ylabel('Calculated deFocus(mm)')\n",
    "plt.title('Defocus')\n",
    "\n",
    "plt.plot(defoc.x, defoc.y, 'bo')\n",
    "plt.plot(vect, np.polyval(p, vect), 'b-')\n",
    "plt.grid()"
   ]
  },
  {
   "cell_type": "code",
   "execution_count": null,
   "metadata": {},
   "outputs": [],
   "source": [
    "defoc[\"best\"] = defoc.x + (1/0.735) * defoc.y"
   ]
  },
  {
   "cell_type": "code",
   "execution_count": null,
   "metadata": {},
   "outputs": [],
   "source": [
    "plt.figure(figsize=(12,8))\n",
    "plt.xlabel('Ccd Position (mm)')\n",
    "plt.ylabel('Calculated Focus(mm)')\n",
    "plt.title('Focus other method')\n",
    "\n",
    "plt.plot(defoc.x,defoc[\"best\"], 'o')\n",
    "plt.hlines(defoc.query(\"0<best<10 \").best.mean(), xmin=defoc.x.min(), xmax=defoc.x.max(), colors=\"r\")\n",
    "plt.hlines(defoc.query(\"0<best<10 \").best.median(), xmin=defoc.x.min(), xmax=defoc.x.max())\n",
    "\n",
    "plt.grid()"
   ]
  },
  {
   "cell_type": "code",
   "execution_count": null,
   "metadata": {},
   "outputs": [],
   "source": [
    "print(np.median(foc), np.std(foc))"
   ]
  },
  {
   "cell_type": "code",
   "execution_count": null,
   "metadata": {},
   "outputs": [],
   "source": [
    "t = defoc.best.dropna()"
   ]
  },
  {
   "cell_type": "code",
   "execution_count": null,
   "metadata": {},
   "outputs": [],
   "source": [
    "defoc.query(\"0<best<10 \").best.std()"
   ]
  },
  {
   "cell_type": "code",
   "execution_count": null,
   "metadata": {},
   "outputs": [],
   "source": [
    "defoc.query(\"0<best<10 \").best.mean()"
   ]
  },
  {
   "cell_type": "code",
   "execution_count": null,
   "metadata": {},
   "outputs": [],
   "source": [
    "defoc.query(\"0<best<10 \").best.median()"
   ]
  },
  {
   "cell_type": "code",
   "execution_count": null,
   "metadata": {},
   "outputs": [],
   "source": []
  }
 ],
 "metadata": {
  "kernelspec": {
   "display_name": "Python 3",
   "language": "python",
   "name": "python3"
  },
  "language_info": {
   "codemirror_mode": {
    "name": "ipython",
    "version": 3
   },
   "file_extension": ".py",
   "mimetype": "text/x-python",
   "name": "python",
   "nbconvert_exporter": "python",
   "pygments_lexer": "ipython3",
   "version": "3.7.2"
  }
 },
 "nbformat": 4,
 "nbformat_minor": 4
}
