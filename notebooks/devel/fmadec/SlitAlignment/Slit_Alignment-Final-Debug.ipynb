{
 "cells": [
  {
   "cell_type": "code",
   "execution_count": null,
   "metadata": {},
   "outputs": [],
   "source": [
    "import matplotlib.pyplot as plt\n",
    "import numpy as np\n",
    "import pandas as pd"
   ]
  },
  {
   "cell_type": "code",
   "execution_count": null,
   "metadata": {},
   "outputs": [],
   "source": [
    "# import LAM library for logbook, data analysis...\n",
    "from pfs.lam.sacFileHandling import Logbook, constructFilelist\n",
    "import pfs.imageAnalysis as imeas\n",
    "from pfs.lam.slitFocusAnalysis import *\n",
    "from pfs.lam.style import colors"
   ]
  },
  {
   "cell_type": "code",
   "execution_count": null,
   "metadata": {},
   "outputs": [],
   "source": [
    "from matplotlib import style\n",
    "style.use('ggplot')"
   ]
  },
  {
   "cell_type": "code",
   "execution_count": null,
   "metadata": {},
   "outputs": [],
   "source": [
    "imgPath = '/home/pfs/shared/Pictures/SM1/SLITALIGN'"
   ]
  },
  {
   "cell_type": "code",
   "execution_count": null,
   "metadata": {},
   "outputs": [],
   "source": [
    "smId = 2"
   ]
  },
  {
   "cell_type": "code",
   "execution_count": null,
   "metadata": {},
   "outputs": [],
   "source": [
    "# filepath of data model\n",
    "pmodel = '/home/pfs/dev/ait-notebook/optical/input/slit'\n",
    "file = 'slit-defParam-Ouverture100-fiber65.csv'"
   ]
  },
  {
   "cell_type": "code",
   "execution_count": null,
   "metadata": {},
   "outputs": [],
   "source": [
    "zemaxData = pd.read_csv('%s/%s' % (pmodel, file), delimiter=\" \")\n",
    "zemaxMidFit = imeas.fitparabola(x=zemaxData.Slitdefocus, y=zemaxData.MidFiber, deg=15, focus='max')\n",
    "zemaxEndFit = imeas.fitparabola(x=zemaxData.Slitdefocus, y=zemaxData.ExtremeFiber, deg=15, focus='max')"
   ]
  },
  {
   "cell_type": "code",
   "execution_count": null,
   "metadata": {},
   "outputs": [],
   "source": [
    "experiments = pd.read_sql_query('select * from Experiment where type=\"slitAlignment\" order by experimentId desc',\n",
    "                                con='sqlite:////data/ait/experimentLog-sac.db', index_col='experimentId')\n",
    "\n",
    "experiments['exptime'] = [Logbook.getParameter(experimentId, 'exptime') for experimentId in experiments.index]\n",
    "experiments['fiber'] = [Logbook.getParameter(experimentId, 'fiber', doRaise=False) for experimentId in experiments.index]"
   ]
  },
  {
   "cell_type": "code",
   "execution_count": null,
   "metadata": {},
   "outputs": [],
   "source": [
    "fiberId = {126:'engtopmid',127:'engbotmid',128:'engtopmid',129:'engtopmid', 130:'engtopmid', 131:'engbotmid', 132:'engbotmid', 133:'engbotmid', 135:'engtopmid'}\n",
    "\n",
    "experiments['fiber']  = [experiments.fiber[experimentId] if experimentId not in fiberId.keys() else fiberId[experimentId] for experimentId in experiments.index ]"
   ]
  },
  {
   "cell_type": "raw",
   "metadata": {},
   "source": [
    "experiments"
   ]
  },
  {
   "cell_type": "code",
   "execution_count": null,
   "metadata": {},
   "outputs": [],
   "source": [
    "experiments.cmdStr[255]"
   ]
  },
  {
   "cell_type": "markdown",
   "metadata": {},
   "source": [
    "## Data required : \n",
    "To be able to find the right focus, some data acquisition is required.\n",
    "\n",
    "you need to use ics_spsaitActor to perform your sequence\n",
    "\n",
    "example : <b>slit throughfocus exptime=6.0 lowBound=-0.5 upBound=1.5 fiber=engbotend nbPosition=10 duplicate=1 </b>\n",
    "\n",
    "-0.5 : 1.5 is the range of the slit focus\n"
   ]
  },
  {
   "cell_type": "markdown",
   "metadata": {},
   "source": [
    "## Input Parameters : \n",
    "The only parameters needed is the experimentIds that match your data acquisition sequence"
   ]
  },
  {
   "cell_type": "code",
   "execution_count": null,
   "metadata": {},
   "outputs": [],
   "source": [
    "com = True\n",
    "doBck =True\n",
    "corrector = False\n",
    "experimentIds = [126, 127, 128, 129, 130, 131, 132, 133, 135]\n",
    "experimentIds = [287,288,289,290]\n",
    "experimentIds = [363,364,365,366]\n",
    "head = 6\n",
    "tail = 0\n",
    "#bck_expId = 260\n",
    "\n",
    "dfs = []"
   ]
  },
  {
   "cell_type": "code",
   "execution_count": null,
   "metadata": {},
   "outputs": [],
   "source": [
    "threshold = 300\n",
    "radius = 60\n",
    "doPrint = False\n",
    "doPlot = False\n",
    "roi_size = 150\n",
    "\n",
    "fwhm_radius = radius\n",
    "fwhm_method = 'gaussian'"
   ]
  },
  {
   "cell_type": "code",
   "execution_count": null,
   "metadata": {},
   "outputs": [],
   "source": [
    "for experimentId in experimentIds:\n",
    "    visitStart, visitEnd = Logbook.visitRange(experimentId=experimentId)\n",
    "    filelist = constructFilelist(visitStart=visitStart, visitEnd=visitEnd)\n",
    "    duplicate = int(Logbook.getParameter(experimentId=experimentId, param='duplicate'))\n",
    "    filelist = filelist[head*duplicate:len(filelist)-tail*duplicate]\n",
    "    guessedPos = getSlitPosFromMove(experimentId)\n",
    "\n",
    "    res = []\n",
    "    for i in range(len(filelist) // duplicate):\n",
    "        print(i)\n",
    "        print(filelist[i])\n",
    "        hdr, data = stackedImage(filelist=filelist, ind=i, duplicate=duplicate, doBck=doBck)\n",
    "    #    peak = getPeakData(data, com=com, doBck=False, doPlot=doPlot, doPrint=doPrint)\n",
    "        if doPlot:\n",
    "            plt.imshow(data, origin = 'lower', cmap = 'gray', vmin=300, vmax=800)\n",
    "        calc = iqcalc.IQCalc(None)\n",
    "        peaks = calc.find_bright_peaks(data, threshold=threshold, radius=radius)\n",
    "        objlist = calc.evaluate_peaks(peaks, data, fwhm_radius=radius, cb_fn=None, ev_intr=None, fwhm_method='gaussian')\n",
    "        if doPrint: \n",
    "            print(len(objlist))\n",
    "\n",
    "\n",
    "        objlist = [elem for elem in objlist if elem['fwhm'] > 15]\n",
    "        objlist = [elem for elem in objlist if (elem['fwhm_x'] > 15) and (elem['fwhm_y'] > 15)]\n",
    "        objlist = [elem for elem in objlist if threshold < elem['brightness'] < 50000]\n",
    "        for obj in objlist :\n",
    "            plt.scatter(obj['oid_x'],obj['oid_y'],s=80,c='red',marker='x',label='peak', edgecolors=None)\n",
    "        if doPlot:\n",
    "            plt.show()\n",
    "\n",
    "        if doPrint: \n",
    "            print(f\"Object detected after filtering: {len(objlist)}\")\n",
    "        if not objlist:\n",
    "            print('peak has not been properly detected')\n",
    "            obj ={\"px\": np.nan,\n",
    "                  \"py\": np.nan,\n",
    "                  \"oid_x\": np.nan,\n",
    "                  \"oid_y\": np.nan,\n",
    "                  \"ee20\" : np.nan\n",
    "                 }\n",
    "            dict(obj)\n",
    "        else:\n",
    "            maxi = np.argmax([imeas.getEE(image=data, cx=peak['oid_x'], cy=peak['oid_y'], ee_size=20, roi_size=300) for peak in objlist])\n",
    "            cx = objlist[maxi]['oid_x']\n",
    "            cy = objlist[maxi]['oid_y']\n",
    "\n",
    "        peak = imeas.getPeakData(data, cx, cy, EE=[20], roi_size=roi_size, doPlot=False, com=com, fwhm_radius=fwhm_radius, fwhm_method=fwhm_method)\n",
    "        peak['experimentId'] = experimentId\n",
    "        try:\n",
    "            fca_x = hdr['FCA_X']\n",
    "        except KeyError:\n",
    "            fca_x = guessedPos[i]\n",
    "\n",
    "        peak['fca_x'] = fca_x\n",
    "        res.append(peak)\n",
    "        if doPlot:\n",
    "            plt.show()\n",
    "        if doPrint:\n",
    "            print(\"\\n\")\n",
    "        df = pd.DataFrame(res)\n",
    "    dfs.append(df)\n",
    "\n",
    "cube = pd.concat(dfs)\n",
    "\n",
    "   "
   ]
  },
  {
   "cell_type": "code",
   "execution_count": null,
   "metadata": {},
   "outputs": [],
   "source": [
    "cube.plot(x='fca_x',y='EE20',style='*')"
   ]
  },
  {
   "cell_type": "code",
   "execution_count": null,
   "metadata": {},
   "outputs": [],
   "source": [
    "cube.groupby([\"experimentId\"]).plot(x='fca_x',y='EE20',style='*')"
   ]
  },
  {
   "cell_type": "code",
   "execution_count": null,
   "metadata": {},
   "outputs": [],
   "source": [
    "thres_neighbor = -0.1\n",
    "doNeighborFilter = True"
   ]
  },
  {
   "cell_type": "code",
   "execution_count": null,
   "metadata": {},
   "outputs": [],
   "source": [
    "\n",
    "if doNeighborFilter :\n",
    "    tot = []\n",
    "    for  group_name, series in cube.groupby([\"experimentId\"]):\n",
    "        series[\"EE20_diff\"] = series.EE20 - (series.EE20.shift(-1) + series.EE20.shift(1))/2 \n",
    "\n",
    "        series[\"EE20_diff\"].fillna(0, inplace=True)\n",
    "        series[\"EE20_diff_flag\"] = (series.EE20_diff> thres_neighbor)\n",
    "        tot.append(series)\n",
    "        cube2 = pd.concat(tot)\n"
   ]
  },
  {
   "cell_type": "code",
   "execution_count": null,
   "metadata": {},
   "outputs": [],
   "source": [
    "cube2[cube2.EE20_diff_flag].groupby([\"experimentId\"]).plot(x='fca_x',y='EE20',style='*')"
   ]
  },
  {
   "cell_type": "code",
   "execution_count": null,
   "metadata": {},
   "outputs": [],
   "source": [
    "def fitFocusData(cube, corrector=False, doPlot=False, index='fca_x'):\n",
    "    thfoc_data = []\n",
    "    \n",
    "    for experimentId, series in cube.groupby('experimentId'):\n",
    "        series = series.dropna()\n",
    "        thfoc = getFocus(series, 'EE20', index, corrector=corrector)\n",
    "#        for criteria in ['brightness', 'fwhm']:\n",
    "#            thfoc[criteria] = getFocus(series, criteria, index, corrector=corrector)[criteria]\n",
    "\n",
    "        thfoc['px'] = np.interp(thfoc[index], series[index], series['px'])\n",
    "        thfoc['py'] = np.interp(thfoc[index], series[index], series['py'])\n",
    "        thfoc['experimentId'] = experimentId\n",
    "        thfoc_data.append(thfoc)\n",
    "        \n",
    "    thfoc_data = pd.concat(thfoc_data)\n",
    "\n",
    "    if doPlot:\n",
    "        kwargs = dict(grid=True, figsize=(14,10), legend=True, subplots=True)\n",
    "#        criterias = ['EE20', 'brightness', 'fwhm']\n",
    "        criterias = ['EE20']\n",
    "        \n",
    "        for experimentId, fit in thfoc_data.groupby('experimentId'):\n",
    "            raw = cube.query(\"experimentId==%d\"%(experimentId))\n",
    "            axes = fit.set_index(index)[criterias].plot(**kwargs)\n",
    "            for i, criteria in enumerate(criterias):\n",
    "                axes[i].plot(raw[index].as_matrix(), raw[criteria].as_matrix(), 'o')\n",
    "                \n",
    "    return thfoc_data"
   ]
  },
  {
   "cell_type": "code",
   "execution_count": null,
   "metadata": {},
   "outputs": [],
   "source": [
    "thfocModel= fitFocusData(cube2[cube2.EE20_diff_flag], corrector=False, doPlot=True)"
   ]
  },
  {
   "cell_type": "code",
   "execution_count": null,
   "metadata": {},
   "outputs": [],
   "source": [
    "def getFocusModel(fitdata, index='fca_x'):\n",
    "    data = []\n",
    "    for experimentId, series in fitdata.groupby('experimentId'):\n",
    "        series = series.dropna()\n",
    "#        for criteria in ['EE20', 'brightness', 'fwhm']:\n",
    "        for criteria in ['EE20']:\n",
    "\n",
    "            ixmax = series[criteria].idxmax() if criteria !='fwhm' else series[criteria].idxmin()\n",
    "            focus = series[index][ixmax]\n",
    "            px = series.px[ixmax]\n",
    "            py = series.py[ixmax]\n",
    "            mat = [experimentId, criteria, px, py, focus]\n",
    "            data.append(tuple(mat))\n",
    "    \n",
    "    return pd.DataFrame(data, columns=['experimentId', 'criteria', 'px', 'py', index])"
   ]
  },
  {
   "cell_type": "code",
   "execution_count": null,
   "metadata": {},
   "outputs": [],
   "source": [
    "focusModel = getFocusModel(thfocModel)"
   ]
  },
  {
   "cell_type": "code",
   "execution_count": null,
   "metadata": {},
   "outputs": [],
   "source": [
    "vline = True\n",
    "plotModel = True\n",
    "criteria = 'EE20'\n",
    "index = 'fca_x'"
   ]
  },
  {
   "cell_type": "code",
   "execution_count": null,
   "metadata": {},
   "outputs": [],
   "source": [
    "fig = plt.figure(figsize=(12, 8))\n",
    "ax1 = fig.add_subplot(111)\n",
    "j=2\n",
    "\n",
    "if plotModel:\n",
    "    ax1.plot(zemaxData.Slitdefocus, zemaxData.MidFiber, 'o', color=colors[0], label='Zemax_MidFiber = %.3f' % zemaxMidFit.focus)\n",
    "    ax1.plot(zemaxMidFit.x, zemaxMidFit.y, '--', color=colors[0])\n",
    "    if vline:\n",
    "        ax1.vlines(color=colors[0], **zemaxMidFit.vline)\n",
    "\n",
    "    ax1.plot(zemaxData.Slitdefocus, zemaxData.ExtremeFiber, 'o', color=colors[1], label='Zemax_EndFiber = %.3f' % zemaxEndFit.focus)\n",
    "    ax1.plot(zemaxEndFit.x, zemaxEndFit.y, '--', color=colors[1])\n",
    "    if vline:\n",
    "        ax1.vlines(color=colors[1], **zemaxEndFit.vline)\n",
    "\n",
    "for experimentId, df in cube.groupby('experimentId'):\n",
    "    fit = thfocModel.query(\"experimentId==%d\"%(experimentId))\n",
    "    focus = focusModel.query(\"experimentId==%d and criteria=='%s'\"%(experimentId, criteria))\n",
    "    \n",
    "    ax1.plot(df[index], df[criteria], 'o', color=colors[j], \n",
    "             label='expId%d:%s = %.3f' % (experimentId, experiments.fiber[experimentId], focus[index]))\n",
    "    ax1.plot(fit[index], fit[criteria], '--', color=colors[j])\n",
    "    \n",
    "    if vline:\n",
    "        ax1.vlines(x=focus[index], ymin=fit[criteria].min(), ymax = fit[criteria].max(), color=colors[j])\n",
    "    j+=1\n",
    "\n",
    "    \n",
    "lns = [line for i, line in enumerate(ax1.get_lines()) if not i % 2]\n",
    "labs = [line.get_label() for line in lns]\n",
    "\n",
    "ax1.legend(lns, labs)\n",
    "ax1.set_xlabel('%s(mm)'%index)\n",
    "ax1.set_ylabel(criteria)\n",
    "\n",
    "plt.title('Slit Through focus : Zemax vs Engineering_Fibers \\n Criteria : %s doBck=True' %criteria)\n",
    "plt.grid()"
   ]
  },
  {
   "cell_type": "code",
   "execution_count": null,
   "metadata": {},
   "outputs": [],
   "source": []
  },
  {
   "cell_type": "code",
   "execution_count": null,
   "metadata": {},
   "outputs": [],
   "source": []
  },
  {
   "cell_type": "code",
   "execution_count": null,
   "metadata": {},
   "outputs": [],
   "source": [
    "distance_fibres = 138.84\n",
    "delta_focus = (0.533 - 0.523)\n",
    "angle=np.arctan(delta_focus/distance_fibres)\n",
    "angle_degre=(angle*180)/(np.pi)\n",
    "print(angle_degre)\n"
   ]
  },
  {
   "cell_type": "code",
   "execution_count": null,
   "metadata": {},
   "outputs": [],
   "source": [
    "((0.648+0.658)/2) - 0.309\n"
   ]
  },
  {
   "cell_type": "code",
   "execution_count": null,
   "metadata": {},
   "outputs": [],
   "source": [
    "0.270-0.0062"
   ]
  },
  {
   "cell_type": "code",
   "execution_count": null,
   "metadata": {},
   "outputs": [],
   "source": [
    "1.532-0.885"
   ]
  },
  {
   "cell_type": "code",
   "execution_count": null,
   "metadata": {},
   "outputs": [],
   "source": []
  }
 ],
 "metadata": {
  "kernelspec": {
   "display_name": "Python 3",
   "language": "python",
   "name": "python3"
  },
  "language_info": {
   "codemirror_mode": {
    "name": "ipython",
    "version": 3
   },
   "file_extension": ".py",
   "mimetype": "text/x-python",
   "name": "python",
   "nbconvert_exporter": "python",
   "pygments_lexer": "ipython3",
   "version": "3.7.2"
  }
 },
 "nbformat": 4,
 "nbformat_minor": 4
}
