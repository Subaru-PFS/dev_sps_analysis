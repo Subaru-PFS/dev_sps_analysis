{
 "cells": [
  {
   "cell_type": "code",
   "execution_count": 1,
   "metadata": {},
   "outputs": [],
   "source": [
    "%load_ext autoreload\n",
    "\n",
    "%autoreload 2"
   ]
  },
  {
   "cell_type": "code",
   "execution_count": 37,
   "metadata": {
    "lines_to_next_cell": 2
   },
   "outputs": [],
   "source": [
    "from pfs.lam.imageAnalysis import neighbor_outlier_filter\n",
    "\n",
    "from pfs.lam.detAnalysis import *\n",
    "from pfs.lam.detFocusAnalysis import *\n",
    "from pfs.lam.fileHandling import *\n",
    "from pfs.lam.style import *\n",
    "from pfs.lam.analysisPlot import *\n",
    "import glob\n",
    "import lsst.daf.persistence as dafPersist"
   ]
  },
  {
   "cell_type": "code",
   "execution_count": 3,
   "metadata": {},
   "outputs": [],
   "source": [
    "import seaborn as sns\n",
    "import matplotlib.pyplot as plt\n",
    "from datetime import datetime"
   ]
  },
  {
   "cell_type": "raw",
   "metadata": {
    "lines_to_next_cell": 2
   },
   "source": [
    "imgPath = '/net/SRVSTK20C/drp/fmadec/analysis/subaru/sm1/'\n",
    "dataPath = \"/net/SRVSTK20C/drp/fmadec/analysis/subaru/sm1/\"\n",
    "\n",
    "drpPath = \"/net/SRVSTK20C/drp/cluster\""
   ]
  },
  {
   "cell_type": "code",
   "execution_count": 4,
   "metadata": {
    "lines_to_next_cell": 2
   },
   "outputs": [],
   "source": [
    "#invMat = \"/home/fmadec/devel/ait-notebook/fmadec/Subaru/SM1/SM1_R1_DetFocusInvMat_20190423_F2.8.mat\"\n",
    "invMat=\"InvMat_sm1_B1_02oct2020.mat\"\n",
    "#invMat = \"SM1_B1_DetFocusInvMat_20190305_bundlesBGR3R6.mat\"\n",
    "invMat = \"/home/pfs/dev/ait-notebook/fmadec/Subaru/SM1/cluster/InvMat_sm1_17sept2020.mat\"\n"
   ]
  },
  {
   "cell_type": "raw",
   "metadata": {},
   "source": [
    "def getFocusMap(fitdata, index='relPos', criterias=['EE5','EE3', 'brightness', 'fwhm']): \n",
    "    data = []\n",
    "    for (peak, fiber), series in fitdata.groupby(['peak','fiber']):\n",
    "        #series = series.dropna()\n",
    "        wavelength = series.wavelength.unique()[0]\n",
    "        for criteria in criterias:\n",
    "            if ('fwhm' in criteria) or ('2ndM' in criteria) :\n",
    "                ixmax = series[criteria].idxmin()\n",
    "                value = series[criteria].min()\n",
    "            else:\n",
    "                ixmax = series[criteria].idxmax()\n",
    "                value = series[criteria].max()\n",
    "            focus = series[index][ixmax]\n",
    "            px = series.px[ixmax]\n",
    "            py = series.py[ixmax]\n",
    "            mat = [peak,wavelength,fiber,criteria, px, py, focus, focus+series.motor1.min(), focus+series.motor2.min(), focus+series.motor3.min(), value]\n",
    "            data.append(tuple(mat))\n",
    "    \n",
    "    columns = ['peak','wavelength', 'fiber', 'criteria', 'px', 'py', 'relPos', 'motor1', 'motor2', 'motor3', 'value']\n",
    "    return pd.DataFrame(data, columns=columns)"
   ]
  },
  {
   "cell_type": "raw",
   "metadata": {},
   "source": [
    "def plot_one_group(piston_imdata, wave, fiber, exp, plot_path, criteria=\"EE5\", doSave=False) :\n",
    "    group = piston_imdata.groupby(['wavelength','fiber']).get_group((wave,fiber))\n",
    "    \n",
    "    ax = group.plot.scatter(\"motor1\", \"EE5\",\\\n",
    "                        title=f\"Exp{experimentId} - fiber {fiber} - wave {wave}\",\\\n",
    "                       label=\"EE5\")\n",
    "#    ax2 = ax.twinx()\n",
    "#    group.plot.scatter(\"motor1\", \"sep_x2\", ax=ax,color=\"r\", label=\"sep_x2\" )\n",
    "#    group.plot.scatter(\"motor1\", \"sep_y2\", ax=ax2,color=\"g\", label=\"sep_y2\" )\n",
    "#    group.plot.scatter(\"motor1\", \"sep_ECE5\", ax=ax2,color=\"y\", label=\"sep ECE5\" )\n",
    "\n",
    "    #fig.patch.set_alpha(0.5)\n",
    "    dat = datetime.now().isoformat(timespec='minutes') \n",
    "    if doSave : \n",
    "        plt.savefig(plot_path+f\"Focus_fit_fiber{fiber}_wave{wave}_Exp{exp}_{dat}.png\")\n",
    "    plt.show()"
   ]
  },
  {
   "cell_type": "raw",
   "metadata": {
    "lines_to_end_of_cell_marker": 2,
    "lines_to_next_cell": 0
   },
   "source": [
    "def plot_groups(piston_imdata, exp, plot_path, plot_prefix=\"Focus_Piston_plots\", title_suffix=None, col=\"fiber\", hue=\"wavelength\", criteria=\"EE5\", doSave=False, verbose=False) :\n",
    "    grid = sns.FacetGrid(piston_imdata, col=col, hue=hue,\n",
    "#                         col_wrap=4, height=3, legend_out=True)\n",
    "                         col_wrap=3, height=3, legend_out=True)\n",
    "\n",
    "    grid.map(plt.plot, \"motor1\", criteria, marker=\"+\")\n",
    "    grid.fig.tight_layout(w_pad=1)\n",
    "    if criteria == \"EE5\":\n",
    "        grid.set(ylim=(0, 1))\n",
    "    grid.add_legend()\n",
    "    plt.subplots_adjust(top=0.75)\n",
    "    if title_suffix is None:\n",
    "        title = f\"{plot_prefix} - Exp{experimentId}\"\n",
    "    else: \n",
    "        title = f\"{plot_prefix} - Exp{experimentId}\\n{title_suffix}\"\n",
    "    grid.fig.suptitle(title)\n",
    "#    dat = datetime.now().isoformat(timespec='minutes') \n",
    "    dat = datetime.now().strftime(\"%Y-%m-%dT%Hh%M\")\n",
    "    if doSave:\n",
    "        if verbose:\n",
    "            print(f\"write png file: \\n {plot_path}{plot_prefix}_{col}_{hue}_Exp{exp}_{dat}.png\")\n",
    "        plt.savefig(plot_path+f\"{plot_prefix}_{col}_{hue}_Exp{exp}_{dat}.png\", transparent=True)\n",
    "    plt.show()"
   ]
  },
  {
   "cell_type": "raw",
   "metadata": {},
   "source": [
    "def str2bool(v):\n",
    "    if v.lower() in ('yes', 'true', 't', 'y', '1'):\n",
    "        return True\n",
    "    elif v.lower() in ('no', 'false', 'f', 'n', '0'):\n",
    "        return False"
   ]
  },
  {
   "cell_type": "raw",
   "metadata": {
    "lines_to_next_cell": 0
   },
   "source": [
    "def main(argv):\n",
    "    \n",
    "    imgPath = '/net/SRVSTK20C/drp/fmadec/analysis/subaru/sm1/'\n",
    "    dataPath = \"/net/SRVSTK20C/drp/fmadec/analysis/subaru/sm1/\"\n",
    "    drpPath = \"/net/SRVSTK20C/drp/cluster\"\n",
    "    imgPath = '/home/fmadec/Pictures/analysis/'\n",
    "    dataPath = imgPath\n",
    "    drpPath = \"/home/fmadec/pfs/subaruData/\"    \n",
    "    \n",
    "    repo = \"repo\"\n",
    "    repo = \"drp\"\n",
    "\n",
    "    extra = ''\n",
    "    \n",
    "    \n",
    "    visit = ''\n",
    "    peak = ''\n",
    "    outpath = ''\n",
    "    try:\n",
    "        opts, args = getopt.getopt(argv,\"hc:o:r:b:e:\",[\"cam=\", \"outpath=\", \"rerun=\", \"doBck=\", \"exp=\"])\n",
    "    except getopt.GetoptError:\n",
    "        print('Cluster_GetBestPlanefromCsv.py -v <visit> -p <peakfile> -c <cam> -r <rerun>')\n",
    "        sys.exit(2)\n",
    "    for opt, arg in opts:\n",
    "        if opt == '-h':\n",
    "            print('Cluster_GetBestPlanefromCsv.py -v <visit> -p <peakfile> -c <cam>')\n",
    "            sys.exit()\n",
    "        elif opt in (\"-e\", \"--exp\"):\n",
    "            experimentId = int(arg)\n",
    "        elif opt in (\"-c\", \"--cam\"):\n",
    "            cam = arg\n",
    "        elif opt in (\"-o\", \"--outpath\"):\n",
    "            outpath = arg\n",
    "        elif opt in (\"-r\", \"--rerun\"):\n",
    "            rerun = arg\n",
    "        elif opt in (\"-b\", \"--doBck\"):\n",
    "            doBck = str2bool(arg)\n",
    "\n",
    "           \n",
    "    piston_index = \"motor1\"\n",
    "\n",
    "\n",
    "    outpath = \"output\\\\\" if outpath is None else outpath\n",
    "\n",
    "    # define defaut parameters\n",
    "    roi_size = 24\n",
    "    com = True  # Center Of Mass\n",
    "    doBck = True\n",
    "    head = 0\n",
    "    tail = 0\n",
    "    criteria = 'EE5'\n",
    "    verbose = False\n",
    "    doPrint = False\n",
    "    arm = cam[0]\n",
    "    \n",
    "\n",
    "    \n",
    "    csvPath = imgPath+\"Exp\"+str(experimentId)+\"/\"+rerun+\"_roi\"+str(roi_size)+\"/doBck\"+str(doBck)+\"/\"+extra\n",
    "    dataPath = csvPath\n",
    "    print(dataPath)\n",
    "    \n",
    "    searchFile = f\"{csvPath}Imquality_{cam}_Exp{experimentId}*\"\n",
    "    print(searchFile)\n",
    "    files = glob.glob(searchFile)\n",
    "    \n",
    "    if verbose:\n",
    "        print(*files, sep=\"\\n\")\n",
    "        \n",
    "    piston_imdata = pd.concat(map(pd.read_csv,files)).reset_index()\n",
    "    \n",
    "    print(f\"Wavelength used: {piston_imdata.wavelength.unique()}\")\n",
    "    minPos = piston_imdata[['motor1','motor2','motor3']]\n",
    "    minPos = minPos - minPos.min()\n",
    "    piston_imdata['relPos'] = minPos['motor1']\n",
    "    \n",
    "\n",
    "    piston_fitdata = fitFocusData(piston_imdata, index=piston_index, doPlot=False, criterias=['EE5'] )\n",
    "\n",
    "    piston_focusMap = getFocusMap(piston_fitdata.dropna(), index=piston_index, criterias=['EE5'])\n",
    "\n",
    "    piston_focusMap[\"experimentId\"] = experimentId\n",
    "\n",
    "    piston_fitdata.to_csv(f\"{csvPath}imquality_{cam}_Exp{experimentId}_piston_fitdata.csv\")\n",
    "    piston_focusMap.to_csv(f\"{csvPath}imquality_{cam}_Exp{experimentId}_piston_focusMap.csv\")\n",
    "    \n",
    "    piston_imdata[\"x2+y2/2\"] = (piston_imdata.sep_x2 + piston_imdata.sep_y2)/2\n",
    "    \n",
    "    waves = piston_fitdata.wavelength.unique()\n",
    "    fibers = piston_fitdata.fiber.unique()\n",
    "\n",
    "    fiber = fibers[0]\n",
    "    wave = waves[0]\n",
    "#    group = piston_imdata.groupby(['wavelength','fiber']).get_group((wave,fiber))\n",
    "    plot_one_group(piston_imdata, wave, fiber, experimentId, dataPath)\n",
    "\n",
    "    piston_plane = getBestPlane(piston_focusMap.query(\"criteria == '%s'\"%criteria),order=1, \\\n",
    "                            doPlot=True, exp=experimentId, plot_path=dataPath)\n",
    "    \n",
    "\n",
    "    txtfile = f\"SM1_{cam.upper()}_BestFocusPlane_Exp{experimentId}.dat\"\n",
    "\n",
    "    foc = findMotorPos(piston_plane, inv_mat = invMat)\n",
    "\n",
    "    txt = f\"{datetime.now()} \\n\"\n",
    "    txt += f\"{csvPath}\\n\"\n",
    "    txt += f\"ExpId {experimentId}\\n\"\n",
    "    txt += f\"{invMat}\\n\"\n",
    "    txt += f\"{foc}\\n\"\n",
    "    txt += f\"xcu_{cam} motors moveCcd a={foc[0]:.2f} b={foc[1]:.2f} c={foc[2]:.2f} microns abs\\n\"\n",
    "\n",
    "    print(txt)\n",
    "\n",
    "    text_file = open(dataPath+txtfile, \"w\")\n",
    "    text_file.write(txt)\n",
    "    text_file.close()"
   ]
  },
  {
   "cell_type": "code",
   "execution_count": null,
   "metadata": {
    "lines_to_next_cell": 2
   },
   "outputs": [],
   "source": [
    "datetime.now().strftime(\"%Y-%m-%dT%Hh%M\")"
   ]
  },
  {
   "cell_type": "code",
   "execution_count": null,
   "metadata": {},
   "outputs": [],
   "source": [
    "datetime.isoformat()"
   ]
  },
  {
   "cell_type": "raw",
   "metadata": {},
   "source": [
    "if __name__ == \"__main__\":\n",
    "    start = time.time()\n",
    "    main(sys.argv[1:])\n",
    "    finish = time.time()\n",
    "    elapsed = finish - start\n",
    "    print(f\"Time elapsed: {elapsed}\")"
   ]
  },
  {
   "cell_type": "raw",
   "metadata": {
    "lines_to_next_cell": 2
   },
   "source": [
    "plot_groups(piston_imdata, experimentId, imgPath, plot_prefix=\"Focus_Piston_plots\", col=\"fiber\", hue=\"wavelength\")\n",
    "plot_groups(piston_fitdata, experimentId, imgPath, plot_prefix=\"Focus_Piston_fit_plots\", col=\"fiber\", hue=\"wavelength\")\n"
   ]
  },
  {
   "cell_type": "code",
   "execution_count": null,
   "metadata": {
    "lines_to_next_cell": 2
   },
   "outputs": [],
   "source": []
  },
  {
   "cell_type": "code",
   "execution_count": null,
   "metadata": {},
   "outputs": [],
   "source": [
    "100*(r1/r)"
   ]
  },
  {
   "cell_type": "code",
   "execution_count": null,
   "metadata": {},
   "outputs": [],
   "source": [
    "experimentId = 255\n",
    "rerun = \"sm1-march2020\" #\"sm1-march2020\"\n",
    "cam = \"m1\"\n",
    "#thres_neighbor = -0.05\n",
    "extra = 'stack/'"
   ]
  },
  {
   "cell_type": "code",
   "execution_count": null,
   "metadata": {},
   "outputs": [],
   "source": [
    "experimentId = 186\n",
    "rerun = \"sm1-march2020-no_FD\" #\"sm1-march2020\"\n",
    "cam = \"r1\"\n",
    "extra = ''"
   ]
  },
  {
   "cell_type": "code",
   "execution_count": null,
   "metadata": {},
   "outputs": [],
   "source": [
    "experimentId = 122\n",
    "rerun = \"dcb2\" #\"sm1-march2020\"\n",
    "cam = \"b2\"\n",
    "extra = ''"
   ]
  },
  {
   "cell_type": "code",
   "execution_count": null,
   "metadata": {},
   "outputs": [],
   "source": [
    "experimentId = 125\n",
    "rerun = \"defocus\" #\"sm1-march2020\"\n",
    "cam = \"b2\"\n",
    "extra = ''"
   ]
  },
  {
   "cell_type": "code",
   "execution_count": null,
   "metadata": {},
   "outputs": [],
   "source": [
    "expIds = [124,125]\n",
    "rerun = \"defocus\" #\"sm1-march2020\"\n",
    "cam = \"b2\"\n",
    "extra = ''"
   ]
  },
  {
   "cell_type": "code",
   "execution_count": null,
   "metadata": {},
   "outputs": [],
   "source": [
    "expIds = [134]\n",
    "rerun = \"defocus\" #\"sm1-march2020\"\n",
    "cam = \"r2\"\n",
    "extra = ''"
   ]
  },
  {
   "cell_type": "code",
   "execution_count": null,
   "metadata": {},
   "outputs": [],
   "source": [
    "expIds = [152]\n",
    "rerun = \"defocus\" #\"sm1-march2020\"\n",
    "cam = \"r2\"\n",
    "extra = ''"
   ]
  },
  {
   "cell_type": "code",
   "execution_count": 5,
   "metadata": {},
   "outputs": [],
   "source": [
    "expIds = [153]\n",
    "rerun = \"defocus\" #\"sm1-march2020\"\n",
    "cam = \"r2\"\n",
    "extra = ''"
   ]
  },
  {
   "cell_type": "markdown",
   "metadata": {},
   "source": [
    "# define defaut parameters\n"
   ]
  },
  {
   "cell_type": "code",
   "execution_count": 6,
   "metadata": {},
   "outputs": [],
   "source": [
    "roi_size = 24\n",
    "doBck = True\n",
    "threshold = 0."
   ]
  },
  {
   "cell_type": "code",
   "execution_count": 7,
   "metadata": {},
   "outputs": [],
   "source": [
    "piston_index = \"motor1\"\n",
    "\n",
    "com = True  # Center Of Mass\n",
    "head = 0\n",
    "tail = 0\n",
    "criteria = 'EE5'\n",
    "criterias = [criteria] #['EE5', 'sep_ECE5']\n",
    "verbose = True\n",
    "doPrint = False\n",
    "arm = cam[0]\n"
   ]
  },
  {
   "cell_type": "code",
   "execution_count": 8,
   "metadata": {},
   "outputs": [],
   "source": [
    "head = 0\n",
    "tail = 0"
   ]
  },
  {
   "cell_type": "code",
   "execution_count": 9,
   "metadata": {
    "lines_to_next_cell": 2
   },
   "outputs": [],
   "source": [
    "cluster = False"
   ]
  },
  {
   "cell_type": "code",
   "execution_count": 10,
   "metadata": {
    "lines_to_next_cell": 2
   },
   "outputs": [],
   "source": [
    "doForestFilter = False\n",
    "forest_contamin = 0.05   #r1 0.05   #m1 "
   ]
  },
  {
   "cell_type": "code",
   "execution_count": 29,
   "metadata": {
    "lines_to_next_cell": 2
   },
   "outputs": [],
   "source": [
    "doNeighborFilter = True\n",
    "thres_neighbor = -0.1 # default -0.1"
   ]
  },
  {
   "cell_type": "code",
   "execution_count": 12,
   "metadata": {},
   "outputs": [],
   "source": [
    "doSave = False\n",
    "doSaveCsv = False"
   ]
  },
  {
   "cell_type": "code",
   "execution_count": null,
   "metadata": {
    "lines_to_next_cell": 2
   },
   "outputs": [],
   "source": []
  },
  {
   "cell_type": "markdown",
   "metadata": {},
   "source": [
    "def neighbor_outlier_filter(df, column, thres):\n",
    "    \"\"\"\n",
    "    Filter data of the Dataframe column by neighbors comparison\n",
    "    add a <column>_nbh_flag \n",
    "    This flag can then be used to filter the data:\n",
    "    df[df.<column>_nbh_flag] return filtered Dataframe so values that are greater than the threshold\n",
    "    \"\"\"\n",
    "    df.loc[:,f\"{column}_nbh_diff\"] = df[column] - (df[column].shift(-1) + df[column].shift(1))/2 \n",
    "    df[f\"{column}_nbh_diff\"].fillna(0, inplace=True)\n",
    "    df.loc[:,f\"{column}_nbh_flag\"] = (df[f\"{column}_nbh_diff\"]> thres)\n",
    "    return df"
   ]
  },
  {
   "cell_type": "markdown",
   "metadata": {},
   "source": [
    "# Set folder according place either cluster, laptop"
   ]
  },
  {
   "cell_type": "code",
   "execution_count": 30,
   "metadata": {},
   "outputs": [],
   "source": [
    "if cluster :\n",
    "    imgPath = '/net/SRVSTK20C/drp/fmadec/analysis/subaru/sm1/'\n",
    "    dataPath = \"/net/SRVSTK20C/drp/fmadec/analysis/subaru/sm1/\"\n",
    "    drpPath = \"/net/SRVSTK20C/drp/cluster\"\n",
    "    repo = \"repo\"\n",
    "else:\n",
    "    imgPath = \"/media/fmadec/PfsData/PFS/fmadec/analysis/subaru/sm1/\"\n",
    "    #imgPath = '/home/fmadec/Pictures/analysis/'\n",
    "    dataPath = imgPath\n",
    "    drpPath = \"/home/fmadec/pfs/subaruData/\"    \n",
    "    repo = \"drp\"\n",
    "\n",
    "if False:\n",
    "    imgPath = \"/home/fmadec/Pictures/analysis/\"\n",
    "    #imgPath = '/home/fmadec/Pictures/analysis/'\n",
    "    dataPath = imgPath\n",
    "    drpPath = \"/home/fmadec/pfs/subaruData/\"    \n",
    "    repo = \"drp\"\n",
    " #   Exp255/sm1-march2020_roi24/doBckTrue/stack\n",
    "    \n",
    "if True:\n",
    "    imgPath = '/data/drp/analysis/sm2/'\n",
    "    #imgPath = '/home/fmadec/Pictures/analysis/'\n",
    "    dataPath = imgPath\n",
    "    drpPath = \"/data/drp\"    \n",
    "    repo = \"sps\"\n",
    " #   Exp255/sm1-march2020_roi24/doBckTrue/stack\n",
    "\n"
   ]
  },
  {
   "cell_type": "code",
   "execution_count": 17,
   "metadata": {},
   "outputs": [],
   "source": [
    "outpath = ''\n",
    "outpath = \"output\\\\\" if outpath is None else outpath\n",
    "\n"
   ]
  },
  {
   "cell_type": "markdown",
   "metadata": {},
   "source": [
    "# Read data CSV files for all experimentIds"
   ]
  },
  {
   "cell_type": "code",
   "execution_count": 18,
   "metadata": {},
   "outputs": [
    {
     "name": "stdout",
     "output_type": "stream",
     "text": [
      "/data/drp/analysis/sm2/Exp153/defocus_roi24/doBckTrue/\n",
      "/data/drp/analysis/sm2/Exp153/defocus_roi24/doBckTrue/Imquality_r2_Exp153*\n",
      "/data/drp/analysis/sm2/Exp153/defocus_roi24/doBckTrue/Imquality_r2_Exp153_23985_20210108T09h35.csv\n",
      "/data/drp/analysis/sm2/Exp153/defocus_roi24/doBckTrue/Imquality_r2_Exp153_23994_20210108T09h46.csv\n",
      "/data/drp/analysis/sm2/Exp153/defocus_roi24/doBckTrue/Imquality_r2_Exp153_23989_20210108T09h40.csv\n",
      "/data/drp/analysis/sm2/Exp153/defocus_roi24/doBckTrue/Imquality_r2_Exp153_23988_20210108T09h38.csv\n",
      "/data/drp/analysis/sm2/Exp153/defocus_roi24/doBckTrue/Imquality_r2_Exp153_23982_20210108T09h32.csv\n",
      "/data/drp/analysis/sm2/Exp153/defocus_roi24/doBckTrue/Imquality_r2_Exp153_23981_20210108T09h30.csv\n",
      "/data/drp/analysis/sm2/Exp153/defocus_roi24/doBckTrue/Imquality_r2_Exp153_23979_20210108T09h28.csv\n",
      "/data/drp/analysis/sm2/Exp153/defocus_roi24/doBckTrue/Imquality_r2_Exp153_23996_20210108T09h48.csv\n",
      "/data/drp/analysis/sm2/Exp153/defocus_roi24/doBckTrue/Imquality_r2_Exp153_23986_20210108T09h36.csv\n",
      "/data/drp/analysis/sm2/Exp153/defocus_roi24/doBckTrue/Imquality_r2_Exp153_23992_20210108T09h43.csv\n",
      "/data/drp/analysis/sm2/Exp153/defocus_roi24/doBckTrue/Imquality_r2_Exp153_23990_20210108T09h41.csv\n",
      "/data/drp/analysis/sm2/Exp153/defocus_roi24/doBckTrue/Imquality_r2_Exp153_23978_20210108T09h27.csv\n",
      "/data/drp/analysis/sm2/Exp153/defocus_roi24/doBckTrue/Imquality_r2_Exp153_23991_20210108T09h42.csv\n",
      "/data/drp/analysis/sm2/Exp153/defocus_roi24/doBckTrue/Imquality_r2_Exp153_23993_20210108T09h44.csv\n",
      "/data/drp/analysis/sm2/Exp153/defocus_roi24/doBckTrue/Imquality_r2_Exp153_23983_20210108T09h33.csv\n",
      "/data/drp/analysis/sm2/Exp153/defocus_roi24/doBckTrue/Imquality_r2_Exp153_23984_20210108T09h34.csv\n",
      "/data/drp/analysis/sm2/Exp153/defocus_roi24/doBckTrue/Imquality_r2_Exp153_23995_20210108T09h47.csv\n",
      "/data/drp/analysis/sm2/Exp153/defocus_roi24/doBckTrue/Imquality_r2_Exp153_23980_20210108T09h29.csv\n",
      "/data/drp/analysis/sm2/Exp153/defocus_roi24/doBckTrue/Imquality_r2_Exp153_23997_20210108T09h49.csv\n",
      "/data/drp/analysis/sm2/Exp153/defocus_roi24/doBckTrue/Imquality_r2_Exp153_23987_20210108T09h37.csv\n"
     ]
    }
   ],
   "source": [
    "files = []\n",
    "for experimentId in expIds:\n",
    "\n",
    "    csvPath = imgPath+\"Exp\"+str(experimentId)+\"/\"+rerun+\"_roi\"+str(roi_size)+\"/doBck\"+str(doBck)+\"/\"+extra\n",
    "    dataPath = csvPath\n",
    "    print(dataPath)\n",
    "\n",
    "    searchFile = f\"{csvPath}Imquality_{cam}_Exp{experimentId}*\"\n",
    "    print(searchFile)\n",
    "    files.extend(glob.glob(searchFile))\n",
    "\n",
    "if verbose:\n",
    "    print(*files, sep=\"\\n\")\n",
    "\n",
    "piston_imdata = pd.concat(map(pd.read_csv,files)).reset_index().sort_values(by=\"motor1\")\n",
    "#piston_imdata[\"wavelength\"] = 300\n",
    "\n",
    "piston_imdata = piston_imdata.groupby(['wavelength','fiber', \"motor1\"]).mean().reset_index()"
   ]
  },
  {
   "cell_type": "code",
   "execution_count": 19,
   "metadata": {},
   "outputs": [
    {
     "name": "stdout",
     "output_type": "stream",
     "text": [
      "Wavelength used: [696.7352 727.494  795.0362 912.5471 966.0435]\n"
     ]
    }
   ],
   "source": [
    "# hack debut sm2\n",
    "\n",
    "\n",
    "print(f\"Wavelength used: {piston_imdata.wavelength.unique()}\")\n",
    "minPos = piston_imdata[['motor1','motor2','motor3']]\n",
    "minPos = minPos - minPos.min()\n",
    "piston_imdata['relPos'] = minPos['motor1']\n",
    "\n",
    "#piston = piston_imdata[piston_imdata.EE5>threshold]\n",
    "\n",
    "piston_imdata[\"fit_flag\"] = 0\n",
    "piston_imdata[\"EE5_diff_flag\"] = True\n",
    "\n",
    "piston = piston_imdata\n",
    "\n",
    "#piston = piston_imdata[piston_imdata.EE5>threshold]"
   ]
  },
  {
   "cell_type": "markdown",
   "metadata": {},
   "source": [
    "# filtering the data"
   ]
  },
  {
   "cell_type": "raw",
   "metadata": {},
   "source": [
    "if doNeighborFilter :\n",
    "    tot = []\n",
    "    for  group_name, series in piston.groupby(['wavelength','fiber']):\n",
    "        series.loc[:,\"EE5_diff\"] = series.EE5 - (series.EE5.shift(-1) + series.EE5.shift(1))/2 \n",
    "        series[\"EE5_diff\"].fillna(0, inplace=True)\n",
    "        series.loc[:,\"EE5_diff_flag\"] = (series.EE5_diff> thres_neighbor)\n",
    "        tot.append(series)\n",
    "        piston = pd.concat(tot)\n",
    "        "
   ]
  },
  {
   "cell_type": "code",
   "execution_count": 65,
   "metadata": {},
   "outputs": [
    {
     "name": "stderr",
     "output_type": "stream",
     "text": [
      "/software/drp/python/miniconda3-4.5.12/envs/lsst-scipipe-1172c30/lib/python3.7/site-packages/pandas/core/indexing.py:966: SettingWithCopyWarning: \n",
      "A value is trying to be set on a copy of a slice from a DataFrame.\n",
      "Try using .loc[row_indexer,col_indexer] = value instead\n",
      "\n",
      "See the caveats in the documentation: https://pandas.pydata.org/pandas-docs/stable/user_guide/indexing.html#returning-a-view-versus-a-copy\n",
      "  self.obj[item] = s\n",
      "/software/drp/python/miniconda3-4.5.12/envs/lsst-scipipe-1172c30/lib/python3.7/site-packages/pandas/core/generic.py:6245: SettingWithCopyWarning: \n",
      "A value is trying to be set on a copy of a slice from a DataFrame\n",
      "\n",
      "See the caveats in the documentation: https://pandas.pydata.org/pandas-docs/stable/user_guide/indexing.html#returning-a-view-versus-a-copy\n",
      "  self._update_inplace(new_data)\n"
     ]
    }
   ],
   "source": [
    "\n",
    "if doNeighborFilter :\n",
    "    tot = []\n",
    "    for  group_name, series in piston.groupby(['wavelength','fiber']):\n",
    "        series = neighbor_outlier_filter(series, \"EE5\", thres_neighbor, absolute=True)\n",
    "        tot.append(series)\n",
    "        piston = pd.concat(tot)\n",
    "        "
   ]
  },
  {
   "cell_type": "markdown",
   "metadata": {},
   "source": [
    "# Through focus fit "
   ]
  },
  {
   "cell_type": "code",
   "execution_count": 66,
   "metadata": {},
   "outputs": [
    {
     "name": "stderr",
     "output_type": "stream",
     "text": [
      "/software/drp/python/miniconda3-4.5.12/envs/lsst-scipipe-1172c30/lib/python3.7/site-packages/scipy/optimize/minpack.py:787: OptimizeWarning: Covariance of the parameters could not be estimated\n",
      "  category=OptimizeWarning)\n"
     ]
    }
   ],
   "source": [
    "piston_fitdata = fitFocusData(piston[piston.EE5_diff_flag] , index=piston_index, doPlot=False, criterias=criterias, head=head )\n",
    "\n",
    "piston_focusMap = getFocusMap(piston_fitdata.dropna(), index=piston_index, criterias=criterias)\n",
    "\n",
    "piston_focusMap[\"experimentId\"] = experimentId\n",
    "\n",
    "if doSaveCsv:\n",
    "    piston_fitdata.to_csv(f\"{csvPath}imquality_{cam}_Exp{experimentId}_doBck{str(doBck)}_piston_fitdata_thres{str(int(threshold*100)).zfill(3)}{forest_prefix}.csv\")\n",
    "    piston_focusMap.to_csv(f\"{csvPath}imquality_{cam}_Exp{experimentId}_doBck{str(doBck)}_piston_focusMap_thres{str(int(threshold*100)).zfill(3)}{forest_prefix}.csv\")\n",
    "\n"
   ]
  },
  {
   "cell_type": "markdown",
   "metadata": {},
   "source": [
    "# 2nd Moment calculation from SEP"
   ]
  },
  {
   "cell_type": "code",
   "execution_count": 67,
   "metadata": {},
   "outputs": [],
   "source": [
    "piston_imdata[\"sep_2ndM\"]= piston_imdata.apply(lambda x: np.mean([x[\"sep_x2\"],x[\"sep_y2\"]]) , axis=1)"
   ]
  },
  {
   "cell_type": "code",
   "execution_count": 68,
   "metadata": {},
   "outputs": [
    {
     "data": {
      "text/plain": [
       "9.99"
      ]
     },
     "execution_count": 68,
     "metadata": {},
     "output_type": "execute_result"
    }
   ],
   "source": [
    "piston[piston.fit_flag >=0 & piston.EE5_diff_flag].motor1.min()"
   ]
  },
  {
   "cell_type": "code",
   "execution_count": 69,
   "metadata": {
    "lines_to_next_cell": 0
   },
   "outputs": [
    {
     "name": "stdout",
     "output_type": "stream",
     "text": [
      "[  2  63 192 255 339 401 464 525 587 650] [696.7352 727.494  795.0362 912.5471 966.0435]\n"
     ]
    },
    {
     "data": {
      "image/png": "[encoded data removed]",
      "text/plain": [
       "<Figure size 432x288 with 1 Axes>"
      ]
     },
     "metadata": {
      "needs_background": "light"
     },
     "output_type": "display_data"
    },
    {
     "data": {
      "image/png": "[encoded data removed]",
      "text/plain": [
       "<Figure size 432x288 with 1 Axes>"
      ]
     },
     "metadata": {
      "needs_background": "light"
     },
     "output_type": "display_data"
    },
    {
     "name": "stdout",
     "output_type": "stream",
     "text": [
      "2021-01-15 14:39:18.038098 \n",
      "/data/drp/analysis/sm2/Exp153/defocus_roi24/doBckTrue/\n",
      "ExpId 153\n",
      "/home/pfs/dev/ait-notebook/fmadec/Subaru/SM1/cluster/InvMat_sm1_17sept2020.mat\n",
      "[179.14914316 157.61852973  32.3234925 ]\n",
      "xcu_r2 motors moveCcd a=179.15 b=157.62 c=32.32 microns abs\n",
      "\n"
     ]
    },
    {
     "name": "stderr",
     "output_type": "stream",
     "text": [
      "/software/drp/python/miniconda3-4.5.12/envs/lsst-scipipe-1172c30/lib/python3.7/site-packages/ipykernel_launcher.py:37: UserWarning: Boolean Series key will be reindexed to match DataFrame index.\n"
     ]
    },
    {
     "data": {
      "image/png": "[encoded data removed]",
      "text/plain": [
       "<Figure size 788.875x864 with 10 Axes>"
      ]
     },
     "metadata": {
      "needs_background": "light"
     },
     "output_type": "display_data"
    },
    {
     "name": "stderr",
     "output_type": "stream",
     "text": [
      "/software/drp/python/miniconda3-4.5.12/envs/lsst-scipipe-1172c30/lib/python3.7/site-packages/ipykernel_launcher.py:39: UserWarning: Boolean Series key will be reindexed to match DataFrame index.\n"
     ]
    },
    {
     "data": {
      "image/png": "[encoded data removed]",
      "text/plain": [
       "<Figure size 703.125x432 with 5 Axes>"
      ]
     },
     "metadata": {
      "needs_background": "light"
     },
     "output_type": "display_data"
    },
    {
     "data": {
      "image/png": "[encoded data removed]",
      "text/plain": [
       "<Figure size 788.875x864 with 10 Axes>"
      ]
     },
     "metadata": {
      "needs_background": "light"
     },
     "output_type": "display_data"
    },
    {
     "data": {
      "image/png": "[encoded data removed]",
      "text/plain": [
       "<Figure size 703.125x432 with 5 Axes>"
      ]
     },
     "metadata": {
      "needs_background": "light"
     },
     "output_type": "display_data"
    }
   ],
   "source": [
    "waves = piston_fitdata.wavelength.unique()\n",
    "fibers = piston_fitdata.fiber.unique()\n",
    "print(fibers, waves)\n",
    "fiber = fibers[-1]\n",
    "wave = waves[-1]\n",
    "#    group = piston_imdata.groupby(['wavelength','fiber']).get_group((wave,fiber))\n",
    "plot_one_group(piston, wave, fiber, experimentId, dataPath)\n",
    "\n",
    "piston_plane = getBestPlane(piston_focusMap.query(\"criteria == '%s'\"%criteria),order=1, \\\n",
    "                        doPlot=True, exp=experimentId, plot_path=dataPath)\n",
    "\n",
    "\n",
    "txtfile = f\"SM1_{cam.upper()}_BestFocusPlane_Exp{experimentId}_doBck{str(doBck)}_{criteria}_thres{str(int(threshold*100)).zfill(3)}.dat\"\n",
    "\n",
    "foc = findMotorPos(piston_plane, inv_mat = invMat)\n",
    "\n",
    "txt = f\"{datetime.now()} \\n\"\n",
    "txt += f\"{csvPath}\\n\"\n",
    "txt += f\"ExpId {experimentId}\\n\"\n",
    "txt += f\"{invMat}\\n\"\n",
    "txt += f\"{foc}\\n\"\n",
    "txt += f\"xcu_{cam} motors moveCcd a={foc[0]:.2f} b={foc[1]:.2f} c={foc[2]:.2f} microns abs\\n\"\n",
    "\n",
    "print(txt)\n",
    "\n",
    "# debug B2 \n",
    "#dataPath = \"/drp/analysis/sm2/debugB2\"\n",
    "\n",
    "if doSave :\n",
    "    text_file = open(csvPath+txtfile, \"w\")\n",
    "    text_file.write(txt)\n",
    "    text_file.close()\n",
    "\n",
    "plot_prefix = f\"Focus_Piston_plots_doBck{str(doBck)}_{criteria}_thres{str(int(threshold*100)).zfill(3)}\"\n",
    "title_suffix = f\"a={foc[0]:.2f} b={foc[1]:.2f} c={foc[2]:.2f} microns\"\n",
    "title_suffix += f\"- DetBox {piston.detBoxTemp.mean():.1f}K - ccdTemp {piston.ccdTemp.mean():.1f}K\"\n",
    "plot_groups(piston.sort_values(\"motor1\")[piston.EE5_diff_flag], experimentId, dataPath, plot_prefix=plot_prefix, title_suffix=title_suffix,\\\n",
    "            col=\"fiber\", hue=\"wavelength\", criteria=criteria, doSave=doSave, verbose=True)\n",
    "plot_groups(piston.sort_values(\"motor1\")[piston.EE5_diff_flag], experimentId, dataPath, plot_prefix=plot_prefix, title_suffix=title_suffix,\\\n",
    "            col=\"wavelength\", hue=\"fiber\", criteria=criteria, doSave=doSave)\n",
    "\n",
    "plot_prefix = f\"Focus_Piston_fit_plots_doBck{str(doBck)}_{criteria}_thres{int(threshold*100):<3}\"\n",
    "plot_groups(piston_fitdata.sort_values(\"motor1\"), experimentId, dataPath, plot_prefix=plot_prefix, title_suffix=title_suffix, \\\n",
    "            col=\"fiber\", hue=\"wavelength\", criteria=criteria, doSave=doSave)\n",
    "plot_groups(piston_fitdata.sort_values(\"motor1\"), experimentId, dataPath, plot_prefix=plot_prefix, title_suffix=title_suffix,\\\n",
    "            col=\"wavelength\", hue=\"fiber\", criteria=criteria, doSave=doSave)"
   ]
  },
  {
   "cell_type": "code",
   "execution_count": null,
   "metadata": {},
   "outputs": [],
   "source": [
    "piston_focusMap[\"ccdTemp\"] = piston.ccdTemp.mean()\n",
    "piston_focusMap[\"detBoxTemp\"] = piston.detBoxTemp.mean()\n"
   ]
  },
  {
   "cell_type": "code",
   "execution_count": null,
   "metadata": {},
   "outputs": [],
   "source": [
    "fib_list = [2,339,650]\n",
    "piston_focusMap[piston_focusMap.fiber.isin(fib_list)].set_index([\"fiber\",\"wavelength\"]).sort_index()[[\"relPos\", \"criteria\",\"value\", \"detBoxTemp\", \"ccdTemp\"]]"
   ]
  },
  {
   "cell_type": "code",
   "execution_count": null,
   "metadata": {},
   "outputs": [],
   "source": [
    "piston_focusMap[piston_focusMap.fiber.isin(fib_list)].to_excel(f\"{imgPath}{cam.upper()}_Exp{experimentId}.xlsx\")"
   ]
  },
  {
   "cell_type": "code",
   "execution_count": null,
   "metadata": {},
   "outputs": [],
   "source": [
    "plot_groups(piston[piston.fiber.isin(fib_list)].sort_values(\"motor1\")[piston.EE5_diff_flag], experimentId, dataPath, plot_prefix=plot_prefix, title_suffix=title_suffix,\\\n",
    "            col=\"fiber\", hue=\"wavelength\", criteria=criteria, doSave=doSave, verbose=True)"
   ]
  },
  {
   "cell_type": "code",
   "execution_count": null,
   "metadata": {},
   "outputs": [],
   "source": []
  },
  {
   "cell_type": "code",
   "execution_count": null,
   "metadata": {},
   "outputs": [],
   "source": []
  },
  {
   "cell_type": "code",
   "execution_count": null,
   "metadata": {},
   "outputs": [],
   "source": [
    "piston_focusMap[piston_focusMap.fiber.isin(fib_list)].to_csv(f\"{imgPath}{cam.upper()}_Exp{experimentId}.csv\")"
   ]
  },
  {
   "cell_type": "code",
   "execution_count": null,
   "metadata": {},
   "outputs": [],
   "source": [
    "piston_focusMap[piston_focusMap.fiber.isin(fib_list)]"
   ]
  },
  {
   "cell_type": "code",
   "execution_count": null,
   "metadata": {},
   "outputs": [],
   "source": [
    "piston.detBoxTemp.plot()"
   ]
  },
  {
   "cell_type": "code",
   "execution_count": null,
   "metadata": {},
   "outputs": [],
   "source": [
    "piston_focusMap.fiber == 650"
   ]
  },
  {
   "cell_type": "code",
   "execution_count": null,
   "metadata": {},
   "outputs": [],
   "source": [
    "piston.sort_values(\"motor1\")[\"fwhm\"].plot()"
   ]
  },
  {
   "cell_type": "code",
   "execution_count": null,
   "metadata": {},
   "outputs": [],
   "source": [
    "plot_groups(piston_imdata.sort_values(\"motor1\"), experimentId, dataPath, plot_prefix=plot_prefix, title_suffix=title_suffix,\\\n",
    "            col=\"fiber\", hue=\"wavelength\", criteria=\"fwhm\", doSave=False)"
   ]
  },
  {
   "cell_type": "code",
   "execution_count": null,
   "metadata": {},
   "outputs": [],
   "source": [
    "plot_groups(piston_imdata.sort_values(\"motor1\"), experimentId, dataPath, plot_prefix=plot_prefix, title_suffix=title_suffix,\\\n",
    "            col=\"fiber\", hue=\"wavelength\", criteria=\"sep_2ndM\", doSave=False)"
   ]
  },
  {
   "cell_type": "code",
   "execution_count": null,
   "metadata": {},
   "outputs": [],
   "source": []
  },
  {
   "cell_type": "code",
   "execution_count": null,
   "metadata": {},
   "outputs": [],
   "source": []
  },
  {
   "cell_type": "raw",
   "metadata": {
    "lines_to_next_cell": 2
   },
   "source": [
    "old invmat\n",
    "head='xcu_r1 motors moveCcd a=161.57 b=137.30 c=122.22 microns abs'"
   ]
  },
  {
   "cell_type": "raw",
   "metadata": {
    "lines_to_next_cell": 0
   },
   "source": [
    "invmat sept 2020\n",
    "head='xcu_r1 motors moveCcd a=167.60 b=173.08 c=129.01 microns abs'"
   ]
  },
  {
   "cell_type": "code",
   "execution_count": null,
   "metadata": {},
   "outputs": [],
   "source": [
    "a=166.46\n",
    "b=170.40\n",
    "c=132.65\n",
    "\n",
    "r = 0.635 #micron/rev\n",
    "r1 = 0.7\n",
    "correction = r1/r\n",
    "\n",
    "print(f\"Focus position adjusted with the motor picth correction {correction}\")\n",
    "\n",
    "print(f\"xcu_r1 motors moveCcd a={a*correction:.2f} b={b*correction:.2f} c={c*correction:.2f} microns abs\")"
   ]
  },
  {
   "cell_type": "code",
   "execution_count": null,
   "metadata": {},
   "outputs": [],
   "source": [
    "xcu_m1 motors moveCcd a=155.66 b=174.74 c=102.09 microns abs"
   ]
  },
  {
   "cell_type": "code",
   "execution_count": null,
   "metadata": {},
   "outputs": [],
   "source": [
    "a=156.66\n",
    "b=174.74\n",
    "c=102.09\n",
    "\n",
    "r = 0.635 #micron/rev\n",
    "r1 = 0.7\n",
    "correction = r1/r\n",
    "\n",
    "print(f\"Focus position adjusted with the motor picth correction {correction}\")\n",
    "\n",
    "print(f\"xcu_r1 motors moveCcd a={a*correction:.2f} b={b*correction:.2f} c={c*correction:.2f} microns abs\")"
   ]
  },
  {
   "cell_type": "code",
   "execution_count": null,
   "metadata": {
    "lines_to_next_cell": 2
   },
   "outputs": [],
   "source": [
    "192.3*correction"
   ]
  },
  {
   "cell_type": "code",
   "execution_count": null,
   "metadata": {},
   "outputs": [],
   "source": [
    "xcu_r1 motors moveCcd a=172.70 b=192.63 c=112.54 microns abs"
   ]
  },
  {
   "cell_type": "code",
   "execution_count": null,
   "metadata": {},
   "outputs": [],
   "source": [
    "plot_prefix = f\"Focus_Piston_plots_doBck{str(doBck)}_{criteria}\"\n",
    "title_suffix = f\"original data\"\n",
    "plot_groups(piston.sort_values(\"motor1\"), experimentId, dataPath, plot_prefix=plot_prefix, title_suffix=title_suffix,\\\n",
    "            col=\"fiber\", hue=\"wavelength\", criteria=criteria, doSave=doSave)\n",
    "plot_groups(piston.sort_values(\"motor1\"), experimentId, dataPath, plot_prefix=plot_prefix, title_suffix=title_suffix,\\\n",
    "            col=\"wavelength\", hue=\"fiber\", criteria=criteria, doSave=doSave)"
   ]
  },
  {
   "cell_type": "code",
   "execution_count": null,
   "metadata": {},
   "outputs": [],
   "source": [
    "piston_focusMap"
   ]
  },
  {
   "cell_type": "code",
   "execution_count": null,
   "metadata": {},
   "outputs": [],
   "source": [
    "\n",
    "# plot data\n",
    "fig, ax = plt.subplots(figsize=(15,7))\n",
    "# use unstack()\n",
    "#piston_focusMap.groupby(\"wavelength\").plot(x=\"fiber\", y=\"value\", ax=ax, legend=True)\n",
    "for name, plt_group in piston_focusMap.groupby(\"wavelength\"):\n",
    "    plt_group.plot(x=\"fiber\", y=\"value\", ax=ax, label=name, style=\"+-\")\n",
    "ax.set_ylim(0.8,1)\n",
    "ax.set_ylabel(\"EE5\")\n",
    "\n",
    "exp_title = f\"{cam.upper()} - Expected EE5  - Exp{experimentId}\\n from through focus sequence\"\n",
    "fig.suptitle(exp_title)\n",
    "dat = datetime.now().isoformat(timespec='minutes') \n",
    "if doSave:\n",
    "    plt.savefig(dataPath+f\"{cam.upper()}_Expected_EE5_Exp{experimentId}_{dat}.png\", bbox_inches = \"tight\")\n",
    "\n",
    "plotImageQualityScatter(piston_focusMap.rename(columns={\"value\": \"EE5\"}), par=\"EE5\", hist=\"EE5\", title=exp_title,\\\n",
    "                        savePlotFile=dataPath+f\"{cam.upper()}_Expected_Imquality_Exp{experimentId}_{dat}\",\\\n",
    "                       doSave=True)"
   ]
  },
  {
   "cell_type": "code",
   "execution_count": null,
   "metadata": {},
   "outputs": [],
   "source": [
    "fibers\n",
    "waves"
   ]
  },
  {
   "cell_type": "code",
   "execution_count": null,
   "metadata": {},
   "outputs": [],
   "source": [
    "val_motor = 164.073783\n",
    "d_val = 0.001\n",
    "df = piston_fitdata.groupby([\"fiber\", \"wavelength\"]).get_group((fibers[0], waves[0]))\n",
    "df = df[(df.motor1 > val_motor -d_val) & (df.motor1 < val_motor +d_val)]\n",
    "df"
   ]
  },
  {
   "cell_type": "code",
   "execution_count": null,
   "metadata": {},
   "outputs": [],
   "source": [
    "low = pd.read_csv(\"/home/fmadec/Pictures/analysis/Exp186/sm1-march2020_roi24/doBckTrue/imquality_r1_Exp186_doBckTrue_piston_focusMap_thres030.csv\")"
   ]
  },
  {
   "cell_type": "code",
   "execution_count": null,
   "metadata": {},
   "outputs": [],
   "source": [
    "low"
   ]
  },
  {
   "cell_type": "code",
   "execution_count": null,
   "metadata": {
    "lines_to_next_cell": 2
   },
   "outputs": [],
   "source": []
  },
  {
   "cell_type": "code",
   "execution_count": null,
   "metadata": {},
   "outputs": [],
   "source": [
    "piston_focusMap[piston_focusMap.value<0.9].count()"
   ]
  },
  {
   "cell_type": "code",
   "execution_count": null,
   "metadata": {},
   "outputs": [],
   "source": [
    "piston_focusMap.plot.scatter(x=\"fiber\", y=\"wavelength\",c=\"value\", colormap='viridis' )"
   ]
  },
  {
   "cell_type": "code",
   "execution_count": null,
   "metadata": {},
   "outputs": [],
   "source": [
    "df = piston_focusMap\n",
    "df = df.rename(columns={\"value\": \"EE5\"})"
   ]
  },
  {
   "cell_type": "code",
   "execution_count": null,
   "metadata": {},
   "outputs": [],
   "source": [
    "piston_group = piston.groupby([\"wavelength\"])"
   ]
  },
  {
   "cell_type": "code",
   "execution_count": null,
   "metadata": {},
   "outputs": [],
   "source": [
    "piston_group.brightness.mean()"
   ]
  },
  {
   "cell_type": "code",
   "execution_count": null,
   "metadata": {},
   "outputs": [],
   "source": [
    "piston_group.get_group(waves[-1]).brightness.hist()"
   ]
  },
  {
   "cell_type": "code",
   "execution_count": null,
   "metadata": {},
   "outputs": [],
   "source": [
    "fibers[0]"
   ]
  },
  {
   "cell_type": "code",
   "execution_count": null,
   "metadata": {},
   "outputs": [],
   "source": [
    "val_motor = piston_focusMap.groupby([\"fiber\", \"wavelength\"]).get_group((fibers[0], waves[-1])).motor1.values[0]"
   ]
  },
  {
   "cell_type": "code",
   "execution_count": null,
   "metadata": {},
   "outputs": [],
   "source": [
    "val_motor"
   ]
  },
  {
   "cell_type": "code",
   "execution_count": null,
   "metadata": {
    "lines_to_next_cell": 2
   },
   "outputs": [],
   "source": [
    "df = piston.groupby([\"fiber\", \"wavelength\"]).get_group((fibers[0], waves[-1]))[[\"motor1\", \"filename\", \"brightness\", \"objx\", \"objy\"]]"
   ]
  },
  {
   "cell_type": "code",
   "execution_count": null,
   "metadata": {},
   "outputs": [],
   "source": [
    "df = df[(df.motor1 > val_motor -10) & (df.motor1 < val_motor +10)]"
   ]
  },
  {
   "cell_type": "code",
   "execution_count": null,
   "metadata": {},
   "outputs": [],
   "source": [
    "imagefile = df.filename.values[0]\n",
    "cx = df.objx.values[0]\n",
    "cy = df.objy.values[0]"
   ]
  },
  {
   "cell_type": "code",
   "execution_count": null,
   "metadata": {},
   "outputs": [],
   "source": [
    "visit = int(imagefile.split('calExp-SA')[-1].split(f\"{cam}.fits\")[0])"
   ]
  },
  {
   "cell_type": "code",
   "execution_count": null,
   "metadata": {},
   "outputs": [],
   "source": [
    "print(f\"{drpPath}/{repo}/rerun/{rerun}/detrend/\")"
   ]
  },
  {
   "cell_type": "code",
   "execution_count": null,
   "metadata": {
    "lines_to_next_cell": 2
   },
   "outputs": [],
   "source": []
  },
  {
   "cell_type": "code",
   "execution_count": null,
   "metadata": {},
   "outputs": [],
   "source": [
    "butler = dafPersist.Butler(f\"{drpPath}/{repo}/rerun/{rerun}/detrend/\")\n",
    "calExp = butler.get(\"calexp\", visit=visit, arm=cam[0])"
   ]
  },
  {
   "cell_type": "code",
   "execution_count": null,
   "metadata": {},
   "outputs": [],
   "source": [
    "plotOnePeak(calExp.image.array, cx, cy, roi_size=roi_size, doBck=doBck)"
   ]
  },
  {
   "cell_type": "raw",
   "metadata": {
    "lines_to_next_cell": 0
   },
   "source": []
  },
  {
   "cell_type": "code",
   "execution_count": null,
   "metadata": {},
   "outputs": [],
   "source": []
  },
  {
   "cell_type": "code",
   "execution_count": null,
   "metadata": {
    "lines_to_next_cell": 2
   },
   "outputs": [],
   "source": []
  },
  {
   "cell_type": "code",
   "execution_count": null,
   "metadata": {},
   "outputs": [],
   "source": []
  },
  {
   "cell_type": "code",
   "execution_count": null,
   "metadata": {
    "lines_to_next_cell": 2
   },
   "outputs": [],
   "source": []
  },
  {
   "cell_type": "code",
   "execution_count": null,
   "metadata": {
    "lines_to_next_cell": 2
   },
   "outputs": [],
   "source": []
  },
  {
   "cell_type": "code",
   "execution_count": null,
   "metadata": {},
   "outputs": [],
   "source": []
  },
  {
   "cell_type": "code",
   "execution_count": null,
   "metadata": {},
   "outputs": [],
   "source": []
  },
  {
   "cell_type": "code",
   "execution_count": null,
   "metadata": {
    "lines_to_next_cell": 2
   },
   "outputs": [],
   "source": []
  },
  {
   "cell_type": "code",
   "execution_count": null,
   "metadata": {},
   "outputs": [],
   "source": []
  },
  {
   "cell_type": "code",
   "execution_count": null,
   "metadata": {
    "lines_to_next_cell": 2
   },
   "outputs": [],
   "source": []
  },
  {
   "cell_type": "raw",
   "metadata": {
    "lines_to_next_cell": 0
   },
   "source": [
    "criteria = \"EE5\"\n",
    "plot_prefix = f\"Focus_Piston_plots__{criteria}_thres{str(int(threshold*100)).zfill(3)}\"\n",
    "title_suffix = f\"a={foc[0]:.2f} b={foc[1]:.2f} c={foc[2]:.2f} microns\"\n",
    "plot_groups(piston.sort_values(\"motor1\"), experimentId, dataPath,\\\n",
    "            plot_prefix=plot_prefix, title_suffix=title_suffix, col=\"fiber\", hue=\"wavelength\", doSave=doSave)\n",
    "plot_groups(piston.sort_values(\"motor1\"), experimentId, dataPath,\\\n",
    "            plot_prefix=plot_prefix, title_suffix=title_suffix, col=\"wavelength\", hue=\"fiber\", doSave=doSave)\n",
    "\n",
    "plot_prefix = f\"Focus_Piston_fit_plots_thres{int(threshold*100):<3}\"\n",
    "plot_groups(piston_fitdata.sort_values(\"motor1\"), experimentId, dataPath,\\\n",
    "            plot_prefix=plot_prefix, title_suffix=title_suffix, col=\"fiber\", hue=\"wavelength\", doSave=doSave)\n",
    "plot_groups(piston_fitdata.sort_values(\"motor1\"), experimentId, dataPath, \\\n",
    "            plot_prefix=plot_prefix, title_suffix=title_suffix, col=\"wavelength\", hue=\"fiber\", doSave=doSave)\n"
   ]
  },
  {
   "cell_type": "code",
   "execution_count": null,
   "metadata": {},
   "outputs": [],
   "source": [
    "piston.fit_flag"
   ]
  },
  {
   "cell_type": "code",
   "execution_count": null,
   "metadata": {
    "lines_to_next_cell": 2
   },
   "outputs": [],
   "source": []
  },
  {
   "cell_type": "code",
   "execution_count": 39,
   "metadata": {},
   "outputs": [
    {
     "name": "stdout",
     "output_type": "stream",
     "text": [
      "727.4939999999998 587\n"
     ]
    },
    {
     "data": {
      "image/png": "[encoded data removed]",
      "text/plain": [
       "<Figure size 432x288 with 1 Axes>"
      ]
     },
     "metadata": {
      "needs_background": "light"
     },
     "output_type": "display_data"
    }
   ],
   "source": [
    "fiber = fibers[-2]\n",
    "wave = waves[1]\n",
    "print(wave, fiber)\n",
    "group = piston_imdata.groupby(['wavelength','fiber']).get_group((wave,fiber))\n",
    "plot_one_group(piston, wave, fiber, experimentId, dataPath)"
   ]
  },
  {
   "cell_type": "code",
   "execution_count": null,
   "metadata": {},
   "outputs": [],
   "source": [
    "group.motor1.plot(style=\"*\")"
   ]
  },
  {
   "cell_type": "code",
   "execution_count": null,
   "metadata": {},
   "outputs": [],
   "source": [
    "len(group.motor1)"
   ]
  },
  {
   "cell_type": "code",
   "execution_count": null,
   "metadata": {},
   "outputs": [],
   "source": [
    "2256-2275"
   ]
  },
  {
   "cell_type": "code",
   "execution_count": 41,
   "metadata": {
    "lines_to_next_cell": 2
   },
   "outputs": [],
   "source": [
    "gfit = piston_fitdata.groupby(['wavelength','fiber']).get_group((wave,fiber))"
   ]
  },
  {
   "cell_type": "code",
   "execution_count": 64,
   "metadata": {
    "lines_to_next_cell": 2
   },
   "outputs": [
    {
     "data": {
      "image/png": "[encoded data removed]",
      "text/plain": [
       "<Figure size 432x288 with 2 Axes>"
      ]
     },
     "metadata": {
      "needs_background": "light"
     },
     "output_type": "display_data"
    }
   ],
   "source": [
    "group = piston.groupby(['wavelength','fiber']).get_group((wave,fiber))\n",
    "g_filt = piston[piston.EE5_nbh_diff >=0].groupby(['wavelength','fiber']).get_group((wave,fiber))\n",
    "\n",
    "#ax = group.plot.scatter(\"motor1\", \"sep_y2\",\\\n",
    "#                   title=f\"Exp{experimentId} - fiber {fiber} - wave {wave}\",\\\n",
    "#                   label=\"sep_y2\")\n",
    "#ax2 = ax.twinx()\n",
    "#group.plot.scatter(\"motor1\", \"sep_x2\", ax=ax,color=\"r\", label=\"sep_x2\" )\n",
    "ax = group.plot.scatter(\"motor1\", \"EE5\",color=\"g\", label=\"EE5\",  title=f\"Exp{experimentId} - fiber {fiber} - wave {wave:.2f}nm\", )\n",
    "g_filt[g_filt.EE5_diff_flag == False ].plot(\"motor1\", \"EE5\",color=\"r\", style='+'  ,ax=ax)\n",
    "#group.plot(\"motor1\", \"EE5\",ax=ax,color=\"r\", style=\"+\", label=\"EE5\",  title=f\"Exp{experimentId} - fiber {fiber} - wave {wave}\", )\n",
    "gfit.plot.scatter(\"motor1\", \"EE5\",color=\"b\", ax=ax, label=\"fit\",  )\n",
    "\n",
    "ax2 = ax.twinx()\n",
    "group.plot(\"motor1\", \"EE5_nbh_diff\", ax=ax2)\n",
    "\n",
    "if doSave:\n",
    "    plt.savefig(csvPath+f\"Focus_fit_fiber{fiber}_wave{wave}_Exp{experimentId}.png\")"
   ]
  },
  {
   "cell_type": "code",
   "execution_count": 62,
   "metadata": {},
   "outputs": [
    {
     "name": "stderr",
     "output_type": "stream",
     "text": [
      "/software/drp/python/miniconda3-4.5.12/envs/lsst-scipipe-1172c30/lib/python3.7/site-packages/pandas/core/indexing.py:966: SettingWithCopyWarning: \n",
      "A value is trying to be set on a copy of a slice from a DataFrame.\n",
      "Try using .loc[row_indexer,col_indexer] = value instead\n",
      "\n",
      "See the caveats in the documentation: https://pandas.pydata.org/pandas-docs/stable/user_guide/indexing.html#returning-a-view-versus-a-copy\n",
      "  self.obj[item] = s\n",
      "/software/drp/python/miniconda3-4.5.12/envs/lsst-scipipe-1172c30/lib/python3.7/site-packages/pandas/core/generic.py:6245: SettingWithCopyWarning: \n",
      "A value is trying to be set on a copy of a slice from a DataFrame\n",
      "\n",
      "See the caveats in the documentation: https://pandas.pydata.org/pandas-docs/stable/user_guide/indexing.html#returning-a-view-versus-a-copy\n",
      "  self._update_inplace(new_data)\n"
     ]
    }
   ],
   "source": [
    "group = neighbor_outlier_filter(group,\"EE5\", 0.1, absolute=True)"
   ]
  },
  {
   "cell_type": "code",
   "execution_count": 63,
   "metadata": {},
   "outputs": [
    {
     "data": {
      "text/html": [
       "<div>\n",
       "<style scoped>\n",
       "    .dataframe tbody tr th:only-of-type {\n",
       "        vertical-align: middle;\n",
       "    }\n",
       "\n",
       "    .dataframe tbody tr th {\n",
       "        vertical-align: top;\n",
       "    }\n",
       "\n",
       "    .dataframe thead th {\n",
       "        text-align: right;\n",
       "    }\n",
       "</style>\n",
       "<table border=\"1\" class=\"dataframe\">\n",
       "  <thead>\n",
       "    <tr style=\"text-align: right;\">\n",
       "      <th></th>\n",
       "      <th>EE5</th>\n",
       "      <th>EE5_nbh_diff</th>\n",
       "      <th>EE5_nbh_flag</th>\n",
       "    </tr>\n",
       "  </thead>\n",
       "  <tbody>\n",
       "    <tr>\n",
       "      <th>360</th>\n",
       "      <td>0.364429</td>\n",
       "      <td>0.000000</td>\n",
       "      <td>True</td>\n",
       "    </tr>\n",
       "    <tr>\n",
       "      <th>361</th>\n",
       "      <td>0.355110</td>\n",
       "      <td>-0.031418</td>\n",
       "      <td>True</td>\n",
       "    </tr>\n",
       "    <tr>\n",
       "      <th>362</th>\n",
       "      <td>0.408626</td>\n",
       "      <td>-0.103060</td>\n",
       "      <td>False</td>\n",
       "    </tr>\n",
       "    <tr>\n",
       "      <th>363</th>\n",
       "      <td>0.668263</td>\n",
       "      <td>0.142808</td>\n",
       "      <td>False</td>\n",
       "    </tr>\n",
       "    <tr>\n",
       "      <th>364</th>\n",
       "      <td>0.642284</td>\n",
       "      <td>0.025923</td>\n",
       "      <td>True</td>\n",
       "    </tr>\n",
       "    <tr>\n",
       "      <th>365</th>\n",
       "      <td>0.564458</td>\n",
       "      <td>-0.059677</td>\n",
       "      <td>True</td>\n",
       "    </tr>\n",
       "    <tr>\n",
       "      <th>366</th>\n",
       "      <td>0.605987</td>\n",
       "      <td>0.172016</td>\n",
       "      <td>False</td>\n",
       "    </tr>\n",
       "    <tr>\n",
       "      <th>367</th>\n",
       "      <td>0.303485</td>\n",
       "      <td>-0.500795</td>\n",
       "      <td>False</td>\n",
       "    </tr>\n",
       "    <tr>\n",
       "      <th>368</th>\n",
       "      <td>1.002572</td>\n",
       "      <td>0.571275</td>\n",
       "      <td>False</td>\n",
       "    </tr>\n",
       "    <tr>\n",
       "      <th>369</th>\n",
       "      <td>0.559109</td>\n",
       "      <td>-0.307543</td>\n",
       "      <td>False</td>\n",
       "    </tr>\n",
       "    <tr>\n",
       "      <th>370</th>\n",
       "      <td>0.730731</td>\n",
       "      <td>-0.015128</td>\n",
       "      <td>True</td>\n",
       "    </tr>\n",
       "    <tr>\n",
       "      <th>371</th>\n",
       "      <td>0.932609</td>\n",
       "      <td>0.111385</td>\n",
       "      <td>False</td>\n",
       "    </tr>\n",
       "    <tr>\n",
       "      <th>372</th>\n",
       "      <td>0.911717</td>\n",
       "      <td>0.046040</td>\n",
       "      <td>True</td>\n",
       "    </tr>\n",
       "    <tr>\n",
       "      <th>373</th>\n",
       "      <td>0.798745</td>\n",
       "      <td>-0.081019</td>\n",
       "      <td>True</td>\n",
       "    </tr>\n",
       "    <tr>\n",
       "      <th>374</th>\n",
       "      <td>0.847811</td>\n",
       "      <td>0.058115</td>\n",
       "      <td>True</td>\n",
       "    </tr>\n",
       "    <tr>\n",
       "      <th>375</th>\n",
       "      <td>0.780647</td>\n",
       "      <td>0.014539</td>\n",
       "      <td>True</td>\n",
       "    </tr>\n",
       "    <tr>\n",
       "      <th>376</th>\n",
       "      <td>0.684405</td>\n",
       "      <td>-0.002091</td>\n",
       "      <td>True</td>\n",
       "    </tr>\n",
       "    <tr>\n",
       "      <th>377</th>\n",
       "      <td>0.592346</td>\n",
       "      <td>-0.063032</td>\n",
       "      <td>True</td>\n",
       "    </tr>\n",
       "    <tr>\n",
       "      <th>378</th>\n",
       "      <td>0.626350</td>\n",
       "      <td>0.085390</td>\n",
       "      <td>True</td>\n",
       "    </tr>\n",
       "    <tr>\n",
       "      <th>379</th>\n",
       "      <td>0.489575</td>\n",
       "      <td>0.000000</td>\n",
       "      <td>True</td>\n",
       "    </tr>\n",
       "  </tbody>\n",
       "</table>\n",
       "</div>"
      ],
      "text/plain": [
       "          EE5  EE5_nbh_diff  EE5_nbh_flag\n",
       "360  0.364429      0.000000          True\n",
       "361  0.355110     -0.031418          True\n",
       "362  0.408626     -0.103060         False\n",
       "363  0.668263      0.142808         False\n",
       "364  0.642284      0.025923          True\n",
       "365  0.564458     -0.059677          True\n",
       "366  0.605987      0.172016         False\n",
       "367  0.303485     -0.500795         False\n",
       "368  1.002572      0.571275         False\n",
       "369  0.559109     -0.307543         False\n",
       "370  0.730731     -0.015128          True\n",
       "371  0.932609      0.111385         False\n",
       "372  0.911717      0.046040          True\n",
       "373  0.798745     -0.081019          True\n",
       "374  0.847811      0.058115          True\n",
       "375  0.780647      0.014539          True\n",
       "376  0.684405     -0.002091          True\n",
       "377  0.592346     -0.063032          True\n",
       "378  0.626350      0.085390          True\n",
       "379  0.489575      0.000000          True"
      ]
     },
     "execution_count": 63,
     "metadata": {},
     "output_type": "execute_result"
    }
   ],
   "source": [
    "group[[\"EE5\",\"EE5_nbh_diff\",\"EE5_nbh_flag\"]]"
   ]
  },
  {
   "cell_type": "code",
   "execution_count": 52,
   "metadata": {
    "lines_to_next_cell": 2
   },
   "outputs": [
    {
     "name": "stderr",
     "output_type": "stream",
     "text": [
      "/software/drp/python/miniconda3-4.5.12/envs/lsst-scipipe-1172c30/lib/python3.7/site-packages/ipykernel_launcher.py:3: SettingWithCopyWarning: \n",
      "A value is trying to be set on a copy of a slice from a DataFrame.\n",
      "Try using .loc[row_indexer,col_indexer] = value instead\n",
      "\n",
      "See the caveats in the documentation: https://pandas.pydata.org/pandas-docs/stable/user_guide/indexing.html#returning-a-view-versus-a-copy\n",
      "  This is separate from the ipykernel package so we can avoid doing imports until\n",
      "/software/drp/python/miniconda3-4.5.12/envs/lsst-scipipe-1172c30/lib/python3.7/site-packages/pandas/core/generic.py:6245: SettingWithCopyWarning: \n",
      "A value is trying to be set on a copy of a slice from a DataFrame\n",
      "\n",
      "See the caveats in the documentation: https://pandas.pydata.org/pandas-docs/stable/user_guide/indexing.html#returning-a-view-versus-a-copy\n",
      "  self._update_inplace(new_data)\n",
      "/software/drp/python/miniconda3-4.5.12/envs/lsst-scipipe-1172c30/lib/python3.7/site-packages/ipykernel_launcher.py:6: SettingWithCopyWarning: \n",
      "A value is trying to be set on a copy of a slice from a DataFrame.\n",
      "Try using .loc[row_indexer,col_indexer] = value instead\n",
      "\n",
      "See the caveats in the documentation: https://pandas.pydata.org/pandas-docs/stable/user_guide/indexing.html#returning-a-view-versus-a-copy\n",
      "  \n",
      "/software/drp/python/miniconda3-4.5.12/envs/lsst-scipipe-1172c30/lib/python3.7/site-packages/ipykernel_launcher.py:11: SettingWithCopyWarning: \n",
      "A value is trying to be set on a copy of a slice from a DataFrame.\n",
      "Try using .loc[row_indexer,col_indexer] = value instead\n",
      "\n",
      "See the caveats in the documentation: https://pandas.pydata.org/pandas-docs/stable/user_guide/indexing.html#returning-a-view-versus-a-copy\n",
      "  # This is added back by InteractiveShellApp.init_path()\n"
     ]
    }
   ],
   "source": [
    "thres = -0.05\n",
    "#group[\"EE5_diff\"] = (group.EE5.diff(periods=-1) - group.EE5.diff(periods=1))/2.\n",
    "group[\"EE5_diff\"] = group.EE5 - (group.EE5.shift(-1) + group.EE5.shift(1))/2. \n",
    "group[\"EE5_diff\"].fillna(0, inplace=True)\n",
    "\n",
    "group[\"EE5_meanlocal\"] = (group.EE5.shift(-1) + group.EE5.shift(1))/2. \n",
    "\n",
    "#group[\"EE5_diff_flag\"] = ((group.EE5.pct_change(periods=-1).abs() - group.EE5.pct_change(periods=1).abs() < thres))\n",
    "#group[group.EE5_diff_flag2]\n",
    "#\n",
    "group[\"EE5_diff_flag\"] = ((group.EE5_diff > thres))"
   ]
  },
  {
   "cell_type": "raw",
   "metadata": {},
   "source": [
    "thres = -0.1\n",
    "#group[\"EE5_diff\"] = (group.EE5.diff(periods=-1) - group.EE5.diff(periods=1))/2.\n",
    "group[\"EE5_diff\"] = (group.EE5.diff(-1) + group.EE5.diff(2) - group.EE5.diff(1))/2. \n",
    "group[\"EE5_diff\"].fillna(0, inplace=True)\n",
    "\n",
    "group[\"EE5_diff2\"] = (group.EE5.diff(-1) + group.EE5.diff(2) - group.EE5.diff(1))/2. + group.EE5\n",
    "\n",
    "#group[\"EE5_diff_flag\"] = ((group.EE5.pct_change(periods=-1).abs() - group.EE5.pct_change(periods=1).abs() < thres))\n",
    "#group[group.EE5_diff_flag2]\n",
    "#\n",
    "group[\"EE5_diff_flag\"] = ((group.EE5_diff > thres))\n"
   ]
  },
  {
   "cell_type": "raw",
   "metadata": {},
   "source": [
    "thres = -0.08\n",
    "group[\"EE5_diff_flag\"] = (group.EE5.diff(periods=-1) > thres) & (group.EE5.diff(periods=1) > thres)\n"
   ]
  },
  {
   "cell_type": "raw",
   "metadata": {},
   "source": [
    "thres = -0.2\n",
    "group[\"EE5_diff_flag\"] = (group.EE5.pct_change(periods=-1) > thres) & (group.EE5.pct_change(periods=1) > thres)\n"
   ]
  },
  {
   "cell_type": "code",
   "execution_count": 53,
   "metadata": {},
   "outputs": [],
   "source": [
    "x = group[group.EE5_diff_flag].motor1.values\n",
    "y = group[group.EE5_diff_flag].EE5.values\n",
    "offset = np.median(y)\n",
    "fy = y-offset\n",
    "amp = np.max(fy)\n",
    "mean = x[np.argmin(np.abs(fy-amp))]\n",
    "hmean = x[np.argmin(np.abs(fy-amp/2))]\n",
    "sig =  np.abs(mean-hmean) / (np.sqrt(2 * np.log(2)))\n",
    "\n",
    "popt1, pcov = curve_fit(oneD_Gaussian, x, y, p0=[amp,mean,sig,offset], maxfev=10000)\n"
   ]
  },
  {
   "cell_type": "code",
   "execution_count": 54,
   "metadata": {},
   "outputs": [
    {
     "name": "stdout",
     "output_type": "stream",
     "text": [
      "[  1.33592241 155.80535225 141.95455018  -0.4485366 ]\n",
      "0.8873858068093478\n"
     ]
    }
   ],
   "source": [
    "print(popt1)\n",
    "print(popt1[0]+popt1[-1])"
   ]
  },
  {
   "cell_type": "code",
   "execution_count": 55,
   "metadata": {},
   "outputs": [],
   "source": [
    "newx = np.linspace(np.min(x), np.max(x), 100000)\n",
    "data = np.zeros((len(newx), 2))\n",
    "data[:,0] = newx     \n",
    "data[:,1] = oneD_Gaussian(newx, *popt1)"
   ]
  },
  {
   "cell_type": "code",
   "execution_count": 56,
   "metadata": {},
   "outputs": [
    {
     "data": {
      "text/html": [
       "<div>\n",
       "<style scoped>\n",
       "    .dataframe tbody tr th:only-of-type {\n",
       "        vertical-align: middle;\n",
       "    }\n",
       "\n",
       "    .dataframe tbody tr th {\n",
       "        vertical-align: top;\n",
       "    }\n",
       "\n",
       "    .dataframe thead th {\n",
       "        text-align: right;\n",
       "    }\n",
       "</style>\n",
       "<table border=\"1\" class=\"dataframe\">\n",
       "  <thead>\n",
       "    <tr style=\"text-align: right;\">\n",
       "      <th></th>\n",
       "      <th>wavelength</th>\n",
       "      <th>fiber</th>\n",
       "      <th>index</th>\n",
       "      <th>Unnamed: 0</th>\n",
       "      <th>objx</th>\n",
       "      <th>objy</th>\n",
       "      <th>pos</th>\n",
       "      <th>oid_x</th>\n",
       "      <th>oid_y</th>\n",
       "      <th>fwhm_x</th>\n",
       "      <th>...</th>\n",
       "      <th>ccdTemp</th>\n",
       "      <th>detBoxTemp</th>\n",
       "      <th>experimentId</th>\n",
       "      <th>relPos</th>\n",
       "      <th>fit_flag</th>\n",
       "      <th>EE5_diff_flag</th>\n",
       "      <th>EE5_nbh_diff</th>\n",
       "      <th>EE5_nbh_flag</th>\n",
       "      <th>EE5_diff</th>\n",
       "      <th>EE5_meanlocal</th>\n",
       "    </tr>\n",
       "    <tr>\n",
       "      <th>motor1</th>\n",
       "      <th></th>\n",
       "      <th></th>\n",
       "      <th></th>\n",
       "      <th></th>\n",
       "      <th></th>\n",
       "      <th></th>\n",
       "      <th></th>\n",
       "      <th></th>\n",
       "      <th></th>\n",
       "      <th></th>\n",
       "      <th></th>\n",
       "      <th></th>\n",
       "      <th></th>\n",
       "      <th></th>\n",
       "      <th></th>\n",
       "      <th></th>\n",
       "      <th></th>\n",
       "      <th></th>\n",
       "      <th></th>\n",
       "      <th></th>\n",
       "      <th></th>\n",
       "    </tr>\n",
       "  </thead>\n",
       "  <tbody>\n",
       "    <tr>\n",
       "      <th>9.99</th>\n",
       "      <td>727.494</td>\n",
       "      <td>587</td>\n",
       "      <td>18</td>\n",
       "      <td>18</td>\n",
       "      <td>521.019052</td>\n",
       "      <td>1240.454008</td>\n",
       "      <td>0.965233</td>\n",
       "      <td>519.358514</td>\n",
       "      <td>1240.354951</td>\n",
       "      <td>6.635830</td>\n",
       "      <td>...</td>\n",
       "      <td>172.6519</td>\n",
       "      <td>169.1421</td>\n",
       "      <td>153</td>\n",
       "      <td>0.00</td>\n",
       "      <td>0</td>\n",
       "      <td>True</td>\n",
       "      <td>0.000000</td>\n",
       "      <td>True</td>\n",
       "      <td>0.000000</td>\n",
       "      <td>NaN</td>\n",
       "    </tr>\n",
       "    <tr>\n",
       "      <th>23.61</th>\n",
       "      <td>727.494</td>\n",
       "      <td>587</td>\n",
       "      <td>18</td>\n",
       "      <td>18</td>\n",
       "      <td>522.503345</td>\n",
       "      <td>1240.565031</td>\n",
       "      <td>0.965300</td>\n",
       "      <td>520.637752</td>\n",
       "      <td>1242.189166</td>\n",
       "      <td>5.681952</td>\n",
       "      <td>...</td>\n",
       "      <td>172.5911</td>\n",
       "      <td>169.1378</td>\n",
       "      <td>153</td>\n",
       "      <td>13.62</td>\n",
       "      <td>0</td>\n",
       "      <td>True</td>\n",
       "      <td>-0.031418</td>\n",
       "      <td>True</td>\n",
       "      <td>-0.031418</td>\n",
       "      <td>0.386528</td>\n",
       "    </tr>\n",
       "    <tr>\n",
       "      <th>37.31</th>\n",
       "      <td>727.494</td>\n",
       "      <td>587</td>\n",
       "      <td>18</td>\n",
       "      <td>18</td>\n",
       "      <td>521.123683</td>\n",
       "      <td>1240.258746</td>\n",
       "      <td>0.965237</td>\n",
       "      <td>519.425052</td>\n",
       "      <td>1239.708966</td>\n",
       "      <td>5.081803</td>\n",
       "      <td>...</td>\n",
       "      <td>172.5865</td>\n",
       "      <td>169.1312</td>\n",
       "      <td>153</td>\n",
       "      <td>27.32</td>\n",
       "      <td>0</td>\n",
       "      <td>False</td>\n",
       "      <td>-0.103060</td>\n",
       "      <td>False</td>\n",
       "      <td>-0.103060</td>\n",
       "      <td>0.511686</td>\n",
       "    </tr>\n",
       "    <tr>\n",
       "      <th>51.02</th>\n",
       "      <td>727.494</td>\n",
       "      <td>587</td>\n",
       "      <td>18</td>\n",
       "      <td>18</td>\n",
       "      <td>521.601585</td>\n",
       "      <td>1240.516031</td>\n",
       "      <td>0.965259</td>\n",
       "      <td>521.612575</td>\n",
       "      <td>1241.223874</td>\n",
       "      <td>5.231578</td>\n",
       "      <td>...</td>\n",
       "      <td>172.5860</td>\n",
       "      <td>169.1265</td>\n",
       "      <td>153</td>\n",
       "      <td>41.03</td>\n",
       "      <td>0</td>\n",
       "      <td>True</td>\n",
       "      <td>0.142808</td>\n",
       "      <td>True</td>\n",
       "      <td>0.142808</td>\n",
       "      <td>0.525455</td>\n",
       "    </tr>\n",
       "    <tr>\n",
       "      <th>64.73</th>\n",
       "      <td>727.494</td>\n",
       "      <td>587</td>\n",
       "      <td>18</td>\n",
       "      <td>18</td>\n",
       "      <td>521.482335</td>\n",
       "      <td>1240.658134</td>\n",
       "      <td>0.965254</td>\n",
       "      <td>521.049540</td>\n",
       "      <td>1241.715966</td>\n",
       "      <td>4.638664</td>\n",
       "      <td>...</td>\n",
       "      <td>172.5861</td>\n",
       "      <td>169.1211</td>\n",
       "      <td>153</td>\n",
       "      <td>54.74</td>\n",
       "      <td>0</td>\n",
       "      <td>True</td>\n",
       "      <td>0.025923</td>\n",
       "      <td>True</td>\n",
       "      <td>0.025923</td>\n",
       "      <td>0.616361</td>\n",
       "    </tr>\n",
       "    <tr>\n",
       "      <th>78.34</th>\n",
       "      <td>727.494</td>\n",
       "      <td>587</td>\n",
       "      <td>18</td>\n",
       "      <td>18</td>\n",
       "      <td>522.056249</td>\n",
       "      <td>1240.544165</td>\n",
       "      <td>0.965280</td>\n",
       "      <td>521.200510</td>\n",
       "      <td>1242.213949</td>\n",
       "      <td>4.113826</td>\n",
       "      <td>...</td>\n",
       "      <td>172.5876</td>\n",
       "      <td>169.1177</td>\n",
       "      <td>153</td>\n",
       "      <td>68.35</td>\n",
       "      <td>0</td>\n",
       "      <td>False</td>\n",
       "      <td>-0.059677</td>\n",
       "      <td>True</td>\n",
       "      <td>-0.059677</td>\n",
       "      <td>0.624136</td>\n",
       "    </tr>\n",
       "    <tr>\n",
       "      <th>92.05</th>\n",
       "      <td>727.494</td>\n",
       "      <td>587</td>\n",
       "      <td>18</td>\n",
       "      <td>18</td>\n",
       "      <td>521.797171</td>\n",
       "      <td>1240.464535</td>\n",
       "      <td>0.965268</td>\n",
       "      <td>521.393791</td>\n",
       "      <td>1242.837393</td>\n",
       "      <td>3.719781</td>\n",
       "      <td>...</td>\n",
       "      <td>172.5987</td>\n",
       "      <td>169.1145</td>\n",
       "      <td>153</td>\n",
       "      <td>82.06</td>\n",
       "      <td>0</td>\n",
       "      <td>True</td>\n",
       "      <td>0.172016</td>\n",
       "      <td>True</td>\n",
       "      <td>0.172016</td>\n",
       "      <td>0.433972</td>\n",
       "    </tr>\n",
       "    <tr>\n",
       "      <th>105.75</th>\n",
       "      <td>727.494</td>\n",
       "      <td>587</td>\n",
       "      <td>18</td>\n",
       "      <td>18</td>\n",
       "      <td>521.616549</td>\n",
       "      <td>1240.372834</td>\n",
       "      <td>0.965260</td>\n",
       "      <td>521.995579</td>\n",
       "      <td>1243.227006</td>\n",
       "      <td>2.429936</td>\n",
       "      <td>...</td>\n",
       "      <td>172.6095</td>\n",
       "      <td>169.1102</td>\n",
       "      <td>153</td>\n",
       "      <td>95.76</td>\n",
       "      <td>0</td>\n",
       "      <td>False</td>\n",
       "      <td>-0.500795</td>\n",
       "      <td>False</td>\n",
       "      <td>-0.500795</td>\n",
       "      <td>0.804280</td>\n",
       "    </tr>\n",
       "    <tr>\n",
       "      <th>119.46</th>\n",
       "      <td>727.494</td>\n",
       "      <td>587</td>\n",
       "      <td>18</td>\n",
       "      <td>18</td>\n",
       "      <td>520.867042</td>\n",
       "      <td>1240.358714</td>\n",
       "      <td>0.965226</td>\n",
       "      <td>520.580960</td>\n",
       "      <td>1240.580199</td>\n",
       "      <td>3.146232</td>\n",
       "      <td>...</td>\n",
       "      <td>172.6198</td>\n",
       "      <td>169.1057</td>\n",
       "      <td>153</td>\n",
       "      <td>109.47</td>\n",
       "      <td>0</td>\n",
       "      <td>True</td>\n",
       "      <td>0.571275</td>\n",
       "      <td>True</td>\n",
       "      <td>0.571275</td>\n",
       "      <td>0.431297</td>\n",
       "    </tr>\n",
       "    <tr>\n",
       "      <th>133.07</th>\n",
       "      <td>727.494</td>\n",
       "      <td>587</td>\n",
       "      <td>18</td>\n",
       "      <td>18</td>\n",
       "      <td>521.196575</td>\n",
       "      <td>1240.349957</td>\n",
       "      <td>0.965241</td>\n",
       "      <td>521.853874</td>\n",
       "      <td>1242.037034</td>\n",
       "      <td>2.837805</td>\n",
       "      <td>...</td>\n",
       "      <td>172.6315</td>\n",
       "      <td>169.1004</td>\n",
       "      <td>153</td>\n",
       "      <td>123.08</td>\n",
       "      <td>0</td>\n",
       "      <td>False</td>\n",
       "      <td>-0.307543</td>\n",
       "      <td>False</td>\n",
       "      <td>-0.307543</td>\n",
       "      <td>0.866652</td>\n",
       "    </tr>\n",
       "    <tr>\n",
       "      <th>146.78</th>\n",
       "      <td>727.494</td>\n",
       "      <td>587</td>\n",
       "      <td>18</td>\n",
       "      <td>18</td>\n",
       "      <td>520.704355</td>\n",
       "      <td>1240.227561</td>\n",
       "      <td>0.965218</td>\n",
       "      <td>519.784539</td>\n",
       "      <td>1239.597220</td>\n",
       "      <td>2.963828</td>\n",
       "      <td>...</td>\n",
       "      <td>172.6495</td>\n",
       "      <td>169.0974</td>\n",
       "      <td>153</td>\n",
       "      <td>136.79</td>\n",
       "      <td>0</td>\n",
       "      <td>True</td>\n",
       "      <td>-0.015128</td>\n",
       "      <td>True</td>\n",
       "      <td>-0.015128</td>\n",
       "      <td>0.745859</td>\n",
       "    </tr>\n",
       "    <tr>\n",
       "      <th>160.48</th>\n",
       "      <td>727.494</td>\n",
       "      <td>587</td>\n",
       "      <td>18</td>\n",
       "      <td>18</td>\n",
       "      <td>520.664665</td>\n",
       "      <td>1240.216963</td>\n",
       "      <td>0.965217</td>\n",
       "      <td>520.021483</td>\n",
       "      <td>1239.763082</td>\n",
       "      <td>2.843700</td>\n",
       "      <td>...</td>\n",
       "      <td>172.6626</td>\n",
       "      <td>169.0935</td>\n",
       "      <td>153</td>\n",
       "      <td>150.49</td>\n",
       "      <td>0</td>\n",
       "      <td>True</td>\n",
       "      <td>0.111385</td>\n",
       "      <td>True</td>\n",
       "      <td>0.111385</td>\n",
       "      <td>0.821224</td>\n",
       "    </tr>\n",
       "    <tr>\n",
       "      <th>174.19</th>\n",
       "      <td>727.494</td>\n",
       "      <td>587</td>\n",
       "      <td>18</td>\n",
       "      <td>18</td>\n",
       "      <td>520.449563</td>\n",
       "      <td>1240.240596</td>\n",
       "      <td>0.965207</td>\n",
       "      <td>519.599576</td>\n",
       "      <td>1240.097414</td>\n",
       "      <td>3.053321</td>\n",
       "      <td>...</td>\n",
       "      <td>172.6802</td>\n",
       "      <td>169.0887</td>\n",
       "      <td>153</td>\n",
       "      <td>164.20</td>\n",
       "      <td>0</td>\n",
       "      <td>True</td>\n",
       "      <td>0.046040</td>\n",
       "      <td>True</td>\n",
       "      <td>0.046040</td>\n",
       "      <td>0.865677</td>\n",
       "    </tr>\n",
       "    <tr>\n",
       "      <th>187.80</th>\n",
       "      <td>727.494</td>\n",
       "      <td>587</td>\n",
       "      <td>18</td>\n",
       "      <td>18</td>\n",
       "      <td>520.225122</td>\n",
       "      <td>1240.086185</td>\n",
       "      <td>0.965196</td>\n",
       "      <td>520.398418</td>\n",
       "      <td>1240.689345</td>\n",
       "      <td>3.031301</td>\n",
       "      <td>...</td>\n",
       "      <td>172.6956</td>\n",
       "      <td>169.0849</td>\n",
       "      <td>153</td>\n",
       "      <td>177.81</td>\n",
       "      <td>0</td>\n",
       "      <td>False</td>\n",
       "      <td>-0.081019</td>\n",
       "      <td>False</td>\n",
       "      <td>-0.081019</td>\n",
       "      <td>0.879764</td>\n",
       "    </tr>\n",
       "    <tr>\n",
       "      <th>201.51</th>\n",
       "      <td>727.494</td>\n",
       "      <td>587</td>\n",
       "      <td>18</td>\n",
       "      <td>18</td>\n",
       "      <td>519.975601</td>\n",
       "      <td>1239.905344</td>\n",
       "      <td>0.965185</td>\n",
       "      <td>520.011674</td>\n",
       "      <td>1240.570234</td>\n",
       "      <td>3.096901</td>\n",
       "      <td>...</td>\n",
       "      <td>172.7090</td>\n",
       "      <td>169.0805</td>\n",
       "      <td>153</td>\n",
       "      <td>191.52</td>\n",
       "      <td>0</td>\n",
       "      <td>True</td>\n",
       "      <td>0.058115</td>\n",
       "      <td>True</td>\n",
       "      <td>0.058115</td>\n",
       "      <td>0.789696</td>\n",
       "    </tr>\n",
       "    <tr>\n",
       "      <th>215.22</th>\n",
       "      <td>727.494</td>\n",
       "      <td>587</td>\n",
       "      <td>18</td>\n",
       "      <td>18</td>\n",
       "      <td>519.765844</td>\n",
       "      <td>1239.966556</td>\n",
       "      <td>0.965176</td>\n",
       "      <td>519.790753</td>\n",
       "      <td>1240.410966</td>\n",
       "      <td>3.059660</td>\n",
       "      <td>...</td>\n",
       "      <td>172.7244</td>\n",
       "      <td>169.0754</td>\n",
       "      <td>153</td>\n",
       "      <td>205.23</td>\n",
       "      <td>0</td>\n",
       "      <td>True</td>\n",
       "      <td>0.014539</td>\n",
       "      <td>True</td>\n",
       "      <td>0.014539</td>\n",
       "      <td>0.766108</td>\n",
       "    </tr>\n",
       "    <tr>\n",
       "      <th>228.92</th>\n",
       "      <td>727.494</td>\n",
       "      <td>587</td>\n",
       "      <td>18</td>\n",
       "      <td>18</td>\n",
       "      <td>519.419911</td>\n",
       "      <td>1240.174292</td>\n",
       "      <td>0.965160</td>\n",
       "      <td>518.465303</td>\n",
       "      <td>1239.955233</td>\n",
       "      <td>3.358755</td>\n",
       "      <td>...</td>\n",
       "      <td>172.7334</td>\n",
       "      <td>169.0711</td>\n",
       "      <td>153</td>\n",
       "      <td>218.93</td>\n",
       "      <td>0</td>\n",
       "      <td>True</td>\n",
       "      <td>-0.002091</td>\n",
       "      <td>True</td>\n",
       "      <td>-0.002091</td>\n",
       "      <td>0.686496</td>\n",
       "    </tr>\n",
       "    <tr>\n",
       "      <th>242.63</th>\n",
       "      <td>727.494</td>\n",
       "      <td>587</td>\n",
       "      <td>18</td>\n",
       "      <td>18</td>\n",
       "      <td>519.324066</td>\n",
       "      <td>1240.042472</td>\n",
       "      <td>0.965155</td>\n",
       "      <td>518.646713</td>\n",
       "      <td>1239.976638</td>\n",
       "      <td>3.946381</td>\n",
       "      <td>...</td>\n",
       "      <td>172.7503</td>\n",
       "      <td>169.0679</td>\n",
       "      <td>153</td>\n",
       "      <td>232.64</td>\n",
       "      <td>0</td>\n",
       "      <td>False</td>\n",
       "      <td>-0.063032</td>\n",
       "      <td>True</td>\n",
       "      <td>-0.063032</td>\n",
       "      <td>0.655378</td>\n",
       "    </tr>\n",
       "    <tr>\n",
       "      <th>256.24</th>\n",
       "      <td>727.494</td>\n",
       "      <td>587</td>\n",
       "      <td>18</td>\n",
       "      <td>18</td>\n",
       "      <td>518.911387</td>\n",
       "      <td>1240.028105</td>\n",
       "      <td>0.965137</td>\n",
       "      <td>518.561038</td>\n",
       "      <td>1239.557695</td>\n",
       "      <td>4.584947</td>\n",
       "      <td>...</td>\n",
       "      <td>172.7585</td>\n",
       "      <td>169.0636</td>\n",
       "      <td>153</td>\n",
       "      <td>246.25</td>\n",
       "      <td>0</td>\n",
       "      <td>True</td>\n",
       "      <td>0.085390</td>\n",
       "      <td>True</td>\n",
       "      <td>0.085390</td>\n",
       "      <td>0.540960</td>\n",
       "    </tr>\n",
       "    <tr>\n",
       "      <th>269.95</th>\n",
       "      <td>727.494</td>\n",
       "      <td>587</td>\n",
       "      <td>18</td>\n",
       "      <td>18</td>\n",
       "      <td>518.487017</td>\n",
       "      <td>1240.073571</td>\n",
       "      <td>0.965117</td>\n",
       "      <td>518.391015</td>\n",
       "      <td>1239.809963</td>\n",
       "      <td>4.800469</td>\n",
       "      <td>...</td>\n",
       "      <td>172.7670</td>\n",
       "      <td>169.0592</td>\n",
       "      <td>153</td>\n",
       "      <td>259.96</td>\n",
       "      <td>0</td>\n",
       "      <td>True</td>\n",
       "      <td>0.000000</td>\n",
       "      <td>True</td>\n",
       "      <td>0.000000</td>\n",
       "      <td>NaN</td>\n",
       "    </tr>\n",
       "  </tbody>\n",
       "</table>\n",
       "<p>20 rows × 92 columns</p>\n",
       "</div>"
      ],
      "text/plain": [
       "        wavelength  fiber  index  Unnamed: 0        objx         objy  \\\n",
       "motor1                                                                  \n",
       "9.99       727.494    587     18          18  521.019052  1240.454008   \n",
       "23.61      727.494    587     18          18  522.503345  1240.565031   \n",
       "37.31      727.494    587     18          18  521.123683  1240.258746   \n",
       "51.02      727.494    587     18          18  521.601585  1240.516031   \n",
       "64.73      727.494    587     18          18  521.482335  1240.658134   \n",
       "78.34      727.494    587     18          18  522.056249  1240.544165   \n",
       "92.05      727.494    587     18          18  521.797171  1240.464535   \n",
       "105.75     727.494    587     18          18  521.616549  1240.372834   \n",
       "119.46     727.494    587     18          18  520.867042  1240.358714   \n",
       "133.07     727.494    587     18          18  521.196575  1240.349957   \n",
       "146.78     727.494    587     18          18  520.704355  1240.227561   \n",
       "160.48     727.494    587     18          18  520.664665  1240.216963   \n",
       "174.19     727.494    587     18          18  520.449563  1240.240596   \n",
       "187.80     727.494    587     18          18  520.225122  1240.086185   \n",
       "201.51     727.494    587     18          18  519.975601  1239.905344   \n",
       "215.22     727.494    587     18          18  519.765844  1239.966556   \n",
       "228.92     727.494    587     18          18  519.419911  1240.174292   \n",
       "242.63     727.494    587     18          18  519.324066  1240.042472   \n",
       "256.24     727.494    587     18          18  518.911387  1240.028105   \n",
       "269.95     727.494    587     18          18  518.487017  1240.073571   \n",
       "\n",
       "             pos       oid_x        oid_y    fwhm_x  ...   ccdTemp  \\\n",
       "motor1                                               ...             \n",
       "9.99    0.965233  519.358514  1240.354951  6.635830  ...  172.6519   \n",
       "23.61   0.965300  520.637752  1242.189166  5.681952  ...  172.5911   \n",
       "37.31   0.965237  519.425052  1239.708966  5.081803  ...  172.5865   \n",
       "51.02   0.965259  521.612575  1241.223874  5.231578  ...  172.5860   \n",
       "64.73   0.965254  521.049540  1241.715966  4.638664  ...  172.5861   \n",
       "78.34   0.965280  521.200510  1242.213949  4.113826  ...  172.5876   \n",
       "92.05   0.965268  521.393791  1242.837393  3.719781  ...  172.5987   \n",
       "105.75  0.965260  521.995579  1243.227006  2.429936  ...  172.6095   \n",
       "119.46  0.965226  520.580960  1240.580199  3.146232  ...  172.6198   \n",
       "133.07  0.965241  521.853874  1242.037034  2.837805  ...  172.6315   \n",
       "146.78  0.965218  519.784539  1239.597220  2.963828  ...  172.6495   \n",
       "160.48  0.965217  520.021483  1239.763082  2.843700  ...  172.6626   \n",
       "174.19  0.965207  519.599576  1240.097414  3.053321  ...  172.6802   \n",
       "187.80  0.965196  520.398418  1240.689345  3.031301  ...  172.6956   \n",
       "201.51  0.965185  520.011674  1240.570234  3.096901  ...  172.7090   \n",
       "215.22  0.965176  519.790753  1240.410966  3.059660  ...  172.7244   \n",
       "228.92  0.965160  518.465303  1239.955233  3.358755  ...  172.7334   \n",
       "242.63  0.965155  518.646713  1239.976638  3.946381  ...  172.7503   \n",
       "256.24  0.965137  518.561038  1239.557695  4.584947  ...  172.7585   \n",
       "269.95  0.965117  518.391015  1239.809963  4.800469  ...  172.7670   \n",
       "\n",
       "        detBoxTemp  experimentId  relPos  fit_flag  EE5_diff_flag  \\\n",
       "motor1                                                              \n",
       "9.99      169.1421           153    0.00         0           True   \n",
       "23.61     169.1378           153   13.62         0           True   \n",
       "37.31     169.1312           153   27.32         0          False   \n",
       "51.02     169.1265           153   41.03         0           True   \n",
       "64.73     169.1211           153   54.74         0           True   \n",
       "78.34     169.1177           153   68.35         0          False   \n",
       "92.05     169.1145           153   82.06         0           True   \n",
       "105.75    169.1102           153   95.76         0          False   \n",
       "119.46    169.1057           153  109.47         0           True   \n",
       "133.07    169.1004           153  123.08         0          False   \n",
       "146.78    169.0974           153  136.79         0           True   \n",
       "160.48    169.0935           153  150.49         0           True   \n",
       "174.19    169.0887           153  164.20         0           True   \n",
       "187.80    169.0849           153  177.81         0          False   \n",
       "201.51    169.0805           153  191.52         0           True   \n",
       "215.22    169.0754           153  205.23         0           True   \n",
       "228.92    169.0711           153  218.93         0           True   \n",
       "242.63    169.0679           153  232.64         0          False   \n",
       "256.24    169.0636           153  246.25         0           True   \n",
       "269.95    169.0592           153  259.96         0           True   \n",
       "\n",
       "        EE5_nbh_diff  EE5_nbh_flag  EE5_diff  EE5_meanlocal  \n",
       "motor1                                                       \n",
       "9.99        0.000000          True  0.000000            NaN  \n",
       "23.61      -0.031418          True -0.031418       0.386528  \n",
       "37.31      -0.103060         False -0.103060       0.511686  \n",
       "51.02       0.142808          True  0.142808       0.525455  \n",
       "64.73       0.025923          True  0.025923       0.616361  \n",
       "78.34      -0.059677          True -0.059677       0.624136  \n",
       "92.05       0.172016          True  0.172016       0.433972  \n",
       "105.75     -0.500795         False -0.500795       0.804280  \n",
       "119.46      0.571275          True  0.571275       0.431297  \n",
       "133.07     -0.307543         False -0.307543       0.866652  \n",
       "146.78     -0.015128          True -0.015128       0.745859  \n",
       "160.48      0.111385          True  0.111385       0.821224  \n",
       "174.19      0.046040          True  0.046040       0.865677  \n",
       "187.80     -0.081019         False -0.081019       0.879764  \n",
       "201.51      0.058115          True  0.058115       0.789696  \n",
       "215.22      0.014539          True  0.014539       0.766108  \n",
       "228.92     -0.002091          True -0.002091       0.686496  \n",
       "242.63     -0.063032          True -0.063032       0.655378  \n",
       "256.24      0.085390          True  0.085390       0.540960  \n",
       "269.95      0.000000          True  0.000000            NaN  \n",
       "\n",
       "[20 rows x 92 columns]"
      ]
     },
     "execution_count": 56,
     "metadata": {},
     "output_type": "execute_result"
    }
   ],
   "source": [
    "group.groupby(\"motor1\").mean()"
   ]
  },
  {
   "cell_type": "code",
   "execution_count": 57,
   "metadata": {},
   "outputs": [
    {
     "data": {
      "text/html": [
       "<div>\n",
       "<style scoped>\n",
       "    .dataframe tbody tr th:only-of-type {\n",
       "        vertical-align: middle;\n",
       "    }\n",
       "\n",
       "    .dataframe tbody tr th {\n",
       "        vertical-align: top;\n",
       "    }\n",
       "\n",
       "    .dataframe thead th {\n",
       "        text-align: right;\n",
       "    }\n",
       "</style>\n",
       "<table border=\"1\" class=\"dataframe\">\n",
       "  <thead>\n",
       "    <tr style=\"text-align: right;\">\n",
       "      <th></th>\n",
       "      <th>EE5_meanlocal</th>\n",
       "    </tr>\n",
       "    <tr>\n",
       "      <th>motor1</th>\n",
       "      <th></th>\n",
       "    </tr>\n",
       "  </thead>\n",
       "  <tbody>\n",
       "    <tr>\n",
       "      <th>9.99</th>\n",
       "      <td>NaN</td>\n",
       "    </tr>\n",
       "    <tr>\n",
       "      <th>23.61</th>\n",
       "      <td>0.386528</td>\n",
       "    </tr>\n",
       "    <tr>\n",
       "      <th>37.31</th>\n",
       "      <td>0.511686</td>\n",
       "    </tr>\n",
       "    <tr>\n",
       "      <th>51.02</th>\n",
       "      <td>0.525455</td>\n",
       "    </tr>\n",
       "    <tr>\n",
       "      <th>64.73</th>\n",
       "      <td>0.616361</td>\n",
       "    </tr>\n",
       "    <tr>\n",
       "      <th>78.34</th>\n",
       "      <td>0.624136</td>\n",
       "    </tr>\n",
       "    <tr>\n",
       "      <th>92.05</th>\n",
       "      <td>0.433972</td>\n",
       "    </tr>\n",
       "    <tr>\n",
       "      <th>105.75</th>\n",
       "      <td>0.804280</td>\n",
       "    </tr>\n",
       "    <tr>\n",
       "      <th>119.46</th>\n",
       "      <td>0.431297</td>\n",
       "    </tr>\n",
       "    <tr>\n",
       "      <th>133.07</th>\n",
       "      <td>0.866652</td>\n",
       "    </tr>\n",
       "    <tr>\n",
       "      <th>146.78</th>\n",
       "      <td>0.745859</td>\n",
       "    </tr>\n",
       "    <tr>\n",
       "      <th>160.48</th>\n",
       "      <td>0.821224</td>\n",
       "    </tr>\n",
       "    <tr>\n",
       "      <th>174.19</th>\n",
       "      <td>0.865677</td>\n",
       "    </tr>\n",
       "    <tr>\n",
       "      <th>187.80</th>\n",
       "      <td>0.879764</td>\n",
       "    </tr>\n",
       "    <tr>\n",
       "      <th>201.51</th>\n",
       "      <td>0.789696</td>\n",
       "    </tr>\n",
       "    <tr>\n",
       "      <th>215.22</th>\n",
       "      <td>0.766108</td>\n",
       "    </tr>\n",
       "    <tr>\n",
       "      <th>228.92</th>\n",
       "      <td>0.686496</td>\n",
       "    </tr>\n",
       "    <tr>\n",
       "      <th>242.63</th>\n",
       "      <td>0.655378</td>\n",
       "    </tr>\n",
       "    <tr>\n",
       "      <th>256.24</th>\n",
       "      <td>0.540960</td>\n",
       "    </tr>\n",
       "    <tr>\n",
       "      <th>269.95</th>\n",
       "      <td>NaN</td>\n",
       "    </tr>\n",
       "  </tbody>\n",
       "</table>\n",
       "</div>"
      ],
      "text/plain": [
       "        EE5_meanlocal\n",
       "motor1               \n",
       "9.99              NaN\n",
       "23.61        0.386528\n",
       "37.31        0.511686\n",
       "51.02        0.525455\n",
       "64.73        0.616361\n",
       "78.34        0.624136\n",
       "92.05        0.433972\n",
       "105.75       0.804280\n",
       "119.46       0.431297\n",
       "133.07       0.866652\n",
       "146.78       0.745859\n",
       "160.48       0.821224\n",
       "174.19       0.865677\n",
       "187.80       0.879764\n",
       "201.51       0.789696\n",
       "215.22       0.766108\n",
       "228.92       0.686496\n",
       "242.63       0.655378\n",
       "256.24       0.540960\n",
       "269.95            NaN"
      ]
     },
     "execution_count": 57,
     "metadata": {},
     "output_type": "execute_result"
    }
   ],
   "source": [
    "group.groupby(\"motor1\").mean()[[\"EE5_meanlocal\"]]"
   ]
  },
  {
   "cell_type": "code",
   "execution_count": 58,
   "metadata": {
    "lines_to_next_cell": 0
   },
   "outputs": [
    {
     "data": {
      "text/plain": [
       "[<matplotlib.lines.Line2D at 0x7f8cfb819240>]"
      ]
     },
     "execution_count": 58,
     "metadata": {},
     "output_type": "execute_result"
    },
    {
     "data": {
      "image/png": "[encoded data removed]",
      "text/plain": [
       "<Figure size 432x288 with 2 Axes>"
      ]
     },
     "metadata": {
      "needs_background": "light"
     },
     "output_type": "display_data"
    }
   ],
   "source": [
    "ax = group.set_index(\"motor1\").EE5.plot(style=\"k*\")\n",
    "ax2 = ax.twinx()\n",
    "#group.EE5.diff().plot(ax=ax2)\n",
    "#group.set_index(\"motor1\").EE5.pct_change().plot(ax=ax2, color=\"r\")\n",
    "\n",
    "#group.set_index(\"motor1\").EE5.diff(periods=-1).plot(ax=ax2, style=\"r\")\n",
    "#group.set_index(\"motor1\").EE5.diff(periods=1).plot(ax=ax2)\n",
    "\n",
    "group.set_index(\"motor1\").EE5_meanlocal.plot( ax=ax, style=\"r+\")\n",
    "#group.set_index(\"motor1\").EE5_diff.plot( ax=ax2, style=\"g+\")\n",
    "#group.set_index(\"motor1\").EE5.rolling(2, win_type='triang', center=True).mean().plot(ax=ax, style=\"yo\")\n",
    "\n",
    "#group[group.EE5_diff_flag].set_index(\"motor1\").EE5.plot(style=\"r*\", ax=ax)\n",
    "ax.plot(newx, data[:,1])"
   ]
  },
  {
   "cell_type": "code",
   "execution_count": 59,
   "metadata": {
    "lines_to_next_cell": 0
   },
   "outputs": [
    {
     "data": {
      "text/plain": [
       "[<matplotlib.lines.Line2D at 0x7f8cf635c7b8>]"
      ]
     },
     "execution_count": 59,
     "metadata": {},
     "output_type": "execute_result"
    },
    {
     "data": {
      "image/png": "[encoded data removed]",
      "text/plain": [
       "<Figure size 432x288 with 2 Axes>"
      ]
     },
     "metadata": {
      "needs_background": "light"
     },
     "output_type": "display_data"
    }
   ],
   "source": [
    "ax = group.set_index(\"motor1\").EE5.plot(style=\"k+\")\n",
    "ax2 = ax.twinx()\n",
    "\n",
    "group.set_index(\"motor1\").EE5_meanlocal.plot( ax=ax, style=\"b*\")\n",
    "group.set_index(\"motor1\").EE5_diff.plot( ax=ax2, style=\"g+\")\n",
    "group[group.EE5_diff_flag].set_index(\"motor1\").EE5.plot(style=\"r*\", ax=ax)\n",
    "ax.plot(newx, data[:,1])"
   ]
  },
  {
   "cell_type": "code",
   "execution_count": null,
   "metadata": {},
   "outputs": [],
   "source": []
  },
  {
   "cell_type": "code",
   "execution_count": null,
   "metadata": {
    "lines_to_next_cell": 2
   },
   "outputs": [],
   "source": []
  },
  {
   "cell_type": "code",
   "execution_count": null,
   "metadata": {
    "lines_to_next_cell": 2
   },
   "outputs": [],
   "source": []
  },
  {
   "cell_type": "code",
   "execution_count": null,
   "metadata": {},
   "outputs": [],
   "source": []
  },
  {
   "cell_type": "code",
   "execution_count": null,
   "metadata": {
    "lines_to_next_cell": 2
   },
   "outputs": [],
   "source": []
  },
  {
   "cell_type": "code",
   "execution_count": null,
   "metadata": {
    "lines_to_next_cell": 2
   },
   "outputs": [],
   "source": []
  },
  {
   "cell_type": "code",
   "execution_count": null,
   "metadata": {
    "lines_to_next_cell": 2
   },
   "outputs": [],
   "source": []
  },
  {
   "cell_type": "code",
   "execution_count": null,
   "metadata": {
    "lines_to_next_cell": 2
   },
   "outputs": [],
   "source": []
  },
  {
   "cell_type": "code",
   "execution_count": null,
   "metadata": {
    "lines_to_next_cell": 2
   },
   "outputs": [],
   "source": []
  },
  {
   "cell_type": "code",
   "execution_count": null,
   "metadata": {},
   "outputs": [],
   "source": [
    "ax = group.set_index(\"motor1\").EE5.plot(style=\"k*\")\n",
    "ax2 = ax.twinx()\n",
    "#group.EE5.diff().plot(ax=ax2)\n",
    "#group.set_index(\"motor1\").EE5.pct_change().plot(ax=ax2, color=\"r\")\n",
    "\n",
    "group.set_index(\"motor1\").EE5.diff(periods=-1).plot(ax=ax2, style=\"r\")\n",
    "group.set_index(\"motor1\").EE5.diff(periods=1).plot(ax=ax2)\n",
    "\n",
    "group.set_index(\"motor1\").EE5_diff.plot( ax=ax2, color=\"y\")\n",
    "\n",
    "group[group.EE5_diff_flag].set_index(\"motor1\").EE5.plot(style=\"r*\", ax=ax)\n",
    "ax.plot(newx, data[:,1])"
   ]
  },
  {
   "cell_type": "code",
   "execution_count": null,
   "metadata": {},
   "outputs": [],
   "source": [
    "group[\"EE5_diff\"] = group.EE5.pct_change()\n",
    "print(group.EE5_diff.abs().mean())"
   ]
  },
  {
   "cell_type": "code",
   "execution_count": null,
   "metadata": {},
   "outputs": [],
   "source": [
    "group.EE5.diff(periods=2)"
   ]
  },
  {
   "cell_type": "code",
   "execution_count": null,
   "metadata": {},
   "outputs": [],
   "source": [
    "group[[\"EE5\",\"EE5_diff\"]].abs()"
   ]
  },
  {
   "cell_type": "code",
   "execution_count": null,
   "metadata": {},
   "outputs": [],
   "source": [
    "group[[\"EE5\",\"EE5_diff\"]].rolling(2).mean().abs()"
   ]
  },
  {
   "cell_type": "code",
   "execution_count": null,
   "metadata": {},
   "outputs": [],
   "source": [
    "group.EE5_diff.abs() > 2.5* group.EE5_diff.rolling(2).mean().abs()"
   ]
  },
  {
   "cell_type": "code",
   "execution_count": null,
   "metadata": {},
   "outputs": [],
   "source": [
    "ax = group.set_index(\"motor1\").EE5.plot(style=\"b*\")\n",
    "ax2 = ax.twinx()\n",
    "\n",
    "#group.set_index(\"motor1\").EE5.diff(1).plot(style=\"r*\", ax=ax2)\n",
    "\n",
    "group.rolling(2, on=\"EE5\").mean().set_index(\"motor1\").EE5.plot(style=\"g*\")"
   ]
  },
  {
   "cell_type": "code",
   "execution_count": null,
   "metadata": {},
   "outputs": [],
   "source": [
    "group[\"EE5_roll_mean\"] = group.EE5.rolling(2).mean()"
   ]
  },
  {
   "cell_type": "code",
   "execution_count": null,
   "metadata": {},
   "outputs": [],
   "source": [
    "group[[\"EE5_roll_mean\", \"EE5\"]].diff(periods=-1)"
   ]
  },
  {
   "cell_type": "code",
   "execution_count": null,
   "metadata": {},
   "outputs": [],
   "source": [
    "ax = group.set_index(\"motor1\").EE5.plot(style=\"b*\")\n",
    "ax2 = ax.twinx()\n",
    "#group.EE5.diff().plot(ax=ax2)\n",
    "group.set_index(\"motor1\").EE5.pct_change().plot(ax=ax2, color=\"b\")\n",
    "group[group.EE5_diff_flag].set_index(\"motor1\").EE5.plot(style=\"k*\", ax=ax)\n",
    "group.rolling(4, on=\"EE5_diff\").mean().set_index(\"motor1\").EE5_diff.plot(style=\"g*\")\n",
    "group[group.EE5_diff.abs() > 1.* group.EE5_diff.rolling(3).mean().abs()].set_index(\"motor1\").EE5.plot(style=\"rx\", ax=ax)"
   ]
  },
  {
   "cell_type": "code",
   "execution_count": null,
   "metadata": {},
   "outputs": [],
   "source": [
    "group[\"EE5_diff_flag\"] = True"
   ]
  },
  {
   "cell_type": "code",
   "execution_count": null,
   "metadata": {},
   "outputs": [],
   "source": [
    "thres = -0.3\n",
    "group[\"EE5_diff_flag\"] = (group.EE5_diff > thres)\n",
    "group[\"EE5_diff_flag\"].iloc[0] = True"
   ]
  },
  {
   "cell_type": "code",
   "execution_count": null,
   "metadata": {},
   "outputs": [],
   "source": [
    "group.EE5_diff > thres"
   ]
  },
  {
   "cell_type": "raw",
   "metadata": {},
   "source": [
    "group[\"EE5_diff_flag\"] = (group.EE5_diff > -0.1) & (group.EE5_diff.shift(-1) < 0.1)"
   ]
  },
  {
   "cell_type": "code",
   "execution_count": null,
   "metadata": {},
   "outputs": [],
   "source": [
    "ax = group.set_index(\"motor1\").EE5.plot(style=\"k*\")\n",
    "ax2 = ax.twinx()\n",
    "#group.EE5.diff().plot(ax=ax2)\n",
    "group.set_index(\"motor1\").EE5.pct_change().plot(ax=ax2, color=\"r\")\n",
    "group[group.EE5_diff_flag].set_index(\"motor1\").EE5.plot(style=\"r*\", ax=ax)"
   ]
  },
  {
   "cell_type": "code",
   "execution_count": null,
   "metadata": {},
   "outputs": [],
   "source": [
    "ax = group.set_index(\"motor1\").EE5.plot(style=\"k*\")\n",
    "ax2 = ax.twinx()\n",
    "#group.EE5.diff().plot(ax=ax2)\n",
    "group.set_index(\"motor1\").EE5.pct_change().plot(ax=ax2, color=\"r\")\n",
    "group[group.EE5_diff_flag].set_index(\"motor1\").dropna().EE5.plot(style=\"r*\", ax=ax)\n",
    "#group.dropna()[group.dropna().EE5_diff_flag].EE5.plot(style=\"*\", ax=ax)"
   ]
  },
  {
   "cell_type": "code",
   "execution_count": null,
   "metadata": {},
   "outputs": [],
   "source": [
    "low = .02\n",
    "high = .95\n",
    "quant_df = group.EE5_diff.quantile([low, high])"
   ]
  },
  {
   "cell_type": "code",
   "execution_count": null,
   "metadata": {},
   "outputs": [],
   "source": [
    "quant_df"
   ]
  },
  {
   "cell_type": "code",
   "execution_count": null,
   "metadata": {},
   "outputs": [],
   "source": [
    "import numpy as np\n",
    "def removeOutliers(x, outlierConstant):\n",
    "    a = np.array(x)\n",
    "    upper_quartile = np.percentile(a, 75)\n",
    "    lower_quartile = np.percentile(a, 25)\n",
    "    IQR = (upper_quartile - lower_quartile) * outlierConstant\n",
    "    quartileSet = (lower_quartile - IQR, upper_quartile + IQR)\n",
    "    resultList = []\n",
    "    for y in a.tolist():\n",
    "        if y >= quartileSet[0] and y <= quartileSet[1]:\n",
    "            resultList.append(y)\n",
    "    return resultList"
   ]
  },
  {
   "cell_type": "code",
   "execution_count": null,
   "metadata": {},
   "outputs": [],
   "source": [
    "df = group[[\"motor1\", \"EE5\"]]"
   ]
  },
  {
   "cell_type": "code",
   "execution_count": null,
   "metadata": {},
   "outputs": [],
   "source": [
    "import numpy as np\n",
    "from pandas.api.types import is_numeric_dtype\n",
    "\n",
    "def remove_outlier(df):\n",
    "    low = .10\n",
    "    high = .90\n",
    "    quant_df = df.quantile([low, high])\n",
    "    for name in list(df.columns):\n",
    "        if is_numeric_dtype(df[name]):\n",
    "            df = df[(df[name] > quant_df.loc[low, name]) \n",
    "           & (df[name] < quant_df.loc[high, name])]\n",
    "    return df\n",
    "remove_outlier(df)"
   ]
  },
  {
   "cell_type": "code",
   "execution_count": null,
   "metadata": {},
   "outputs": [],
   "source": [
    "quant_df = df.quantile([low, high])\n",
    "quant_df"
   ]
  },
  {
   "cell_type": "code",
   "execution_count": null,
   "metadata": {},
   "outputs": [],
   "source": [
    "ax = group.set_index(\"motor1\").EE5.plot(style=\"k*\")\n",
    "ax2 = ax.twinx()\n",
    "#group.EE5.diff().plot(ax=ax2)\n",
    "group.set_index(\"motor1\").EE5.pct_change().plot(ax=ax2, color=\"r\")\n",
    "group[group.EE5_diff_flag].set_index(\"motor1\").EE5.plot(style=\"r*\", ax=ax)\n",
    "df.set_index(\"motor1\").EE5.plot(style=\"gx\", ax=ax)"
   ]
  },
  {
   "cell_type": "code",
   "execution_count": null,
   "metadata": {
    "lines_to_next_cell": 2
   },
   "outputs": [],
   "source": []
  },
  {
   "cell_type": "code",
   "execution_count": null,
   "metadata": {},
   "outputs": [],
   "source": [
    "thfoc_data = []\n",
    "series = g_filt\n",
    "index = piston_index\n",
    "#    criterias = critierias if criterias is None else ['EE5', 'EE3', 'brightness', 'fwhm']\n",
    "\n",
    "    #series = series.dropna()\n",
    "thfoc = getFocus(series, criteria=criterias[0], index=index, doPrint=doPrint)"
   ]
  },
  {
   "cell_type": "code",
   "execution_count": null,
   "metadata": {},
   "outputs": [],
   "source": [
    "thfoc"
   ]
  },
  {
   "cell_type": "code",
   "execution_count": null,
   "metadata": {},
   "outputs": [],
   "source": [
    "for criteria in criterias:\n",
    "    thfoc[criteria] = getFocus(series, criteria=criteria, index=index, doPrint=doPrint)[criteria]\n",
    "\n",
    "thfoc['peak'] =  series.peak.unique()[0]\n",
    "thfoc['wavelength'] = wave\n",
    "thfoc['fiber'] = fiber\n",
    "thfoc['px'] = np.interp(thfoc[index], series[index], series['px'])\n",
    "thfoc['py'] = np.interp(thfoc[index], series[index], series['py'])\n",
    "# re-create motor value with the higer sampling given by gaussfit\n",
    "print(series.motor1.min())\n",
    "print(thfoc[index].min())\n",
    "thfoc['motor1'] = thfoc[index] + series.motor1.min()\n",
    "thfoc['motor2'] = thfoc[index] + series.motor2.min()\n",
    "thfoc['motor3'] = thfoc[index] + series.motor3.min()\n",
    "\n",
    "thfoc_data.append(thfoc)"
   ]
  },
  {
   "cell_type": "code",
   "execution_count": null,
   "metadata": {
    "lines_to_next_cell": 2
   },
   "outputs": [],
   "source": [
    "thfoc.motor1.min()"
   ]
  },
  {
   "cell_type": "code",
   "execution_count": null,
   "metadata": {},
   "outputs": [],
   "source": [
    "g_filt[[\"fit_flag\",\"motor1\"]].sort_values(\"motor1\")"
   ]
  },
  {
   "cell_type": "code",
   "execution_count": null,
   "metadata": {},
   "outputs": [],
   "source": [
    "g_filt.motor1.min()"
   ]
  },
  {
   "cell_type": "code",
   "execution_count": null,
   "metadata": {},
   "outputs": [],
   "source": [
    "thfoc_data = pd.concat(thfoc_data)\n",
    "\n",
    "if doPlot:\n",
    "    kwargs = dict(grid=True, figsize=(14,10), legend=True, subplots=True)\n",
    "    criterias = ['EE5','EE3', 'brightness', 'fwhm']\n",
    "    for (wavelength, fiber), fit in thfoc_data.groupby(['wavelength','fiber']):\n",
    "### WARINIG: CA VA PAS MARCHER !! ??\n",
    "        imdata['waveStr'] = imdata['wavelength'].map('{:,.5f}'.format).astype(\"str\")\n",
    "        raw = imdata.query(\"waveStr==%d and fiber==%d\"%(wavelength, fiber))\n",
    "        axes = fit.set_index('motor1')[criterias].plot(**kwargs)\n",
    "        for i, criteria in enumerate(criterias):\n",
    "            axes[i].plot(raw['motor1'].values, raw[criteria].values, 'o')"
   ]
  },
  {
   "cell_type": "code",
   "execution_count": null,
   "metadata": {
    "lines_to_next_cell": 0
   },
   "outputs": [],
   "source": [
    "def fitFocusData(imdata, index='relPos', criterias=['EE5','EE3', 'brightness', 'fwhm'], doPlot=False, doPrint=False, head=0, tail=0):\n",
    "    thfoc_data = []\n",
    "    tmpdata = imdata[head:imdata.count()[0]-tail]\n",
    "\n",
    "#    criterias = critierias if criterias is None else ['EE5', 'EE3', 'brightness', 'fwhm']\n",
    "\n",
    "    for (wavelength, fiber), series in tmpdata.groupby(['wavelength','fiber']):\n",
    "        #series = series.dropna()\n",
    "        thfoc = getFocus(series, criteria=criterias[0], index=index, doPrint=doPrint)\n",
    "        for criteria in criterias:\n",
    "            thfoc[criteria] = getFocus(series, criteria=criteria, index=index, doPrint=doPrint)[criteria]\n",
    "\n",
    "        thfoc['peak'] =  series.peak.unique()[0]\n",
    "        thfoc['wavelength'] = wavelength\n",
    "        thfoc['fiber'] = fiber\n",
    "        thfoc['px'] = np.interp(thfoc[index], series[index], series['px'])\n",
    "        thfoc['py'] = np.interp(thfoc[index], series[index], series['py'])\n",
    "        # re-create motor value with the higer sampling given by gaussfit\n",
    "        thfoc['motor1'] = thfoc[index] + series.motor1.min()\n",
    "        thfoc['motor2'] = thfoc[index] + series.motor2.min()\n",
    "        thfoc['motor3'] = thfoc[index] + series.motor3.min()\n",
    "\n",
    "        thfoc_data.append(thfoc)\n",
    "\n",
    "    thfoc_data = pd.concat(thfoc_data)\n",
    "    \n",
    "    if doPlot:\n",
    "        kwargs = dict(grid=True, figsize=(14,10), legend=True, subplots=True)\n",
    "        criterias = ['EE5','EE3', 'brightness', 'fwhm']\n",
    "        for (wavelength, fiber), fit in thfoc_data.groupby(['wavelength','fiber']):\n",
    "### WARINIG: CA VA PAS MARCHER !! ??\n",
    "            imdata['waveStr'] = imdata['wavelength'].map('{:,.5f}'.format).astype(\"str\")\n",
    "            raw = imdata.query(\"waveStr==%d and fiber==%d\"%(wavelength, fiber))\n",
    "            axes = fit.set_index('motor1')[criterias].plot(**kwargs)\n",
    "            for i, criteria in enumerate(criterias):\n",
    "                axes[i].plot(raw['motor1'].values, raw[criteria].values, 'o')\n",
    "                \n",
    "    return thfoc_data\n"
   ]
  },
  {
   "cell_type": "code",
   "execution_count": null,
   "metadata": {
    "lines_to_next_cell": 2
   },
   "outputs": [],
   "source": []
  },
  {
   "cell_type": "code",
   "execution_count": null,
   "metadata": {},
   "outputs": [],
   "source": [
    "clf = IsolationForest( behaviour = 'new', max_samples=group.count()[0], random_state = 1, contamination= 0.1)\n",
    "#clf = IsolationForest( behaviour = 'new', max_samples=group.count()[0], random_state = 1, contamination= \"auto\")\n",
    "\n",
    "#clf = IsolationForest(max_samples=group.count()[0], random_state = 1)\n",
    "\n",
    "preds = clf.fit_predict(group[[\"motor1\", \"EE5\"]].sort_values(by=\"motor1\").values)\n",
    "#preds = clf.fit_predict(group[[\"motor1\", \"EE5\"]].values)\n",
    "\n",
    "group[\"fit_flag\"] = preds"
   ]
  },
  {
   "cell_type": "code",
   "execution_count": null,
   "metadata": {},
   "outputs": [],
   "source": [
    "ax = group[group.fit_flag >0].plot.scatter(\"motor1\", \"EE5\",color=\"g\", title=f\"Exp{experimentId} - fiber {fiber} - wave {wave}\", )\n",
    "group.plot(\"motor1\", \"EE5\",ax=ax,color=\"r\", style=\"+\")\n",
    "#group[group.fit2_flag >0].plot.scatter(\"motor1\", \"EE5\",color=\"b\", ax=ax)"
   ]
  },
  {
   "cell_type": "code",
   "execution_count": null,
   "metadata": {},
   "outputs": [],
   "source": [
    "clf = IsolationForest( behaviour = 'new', max_samples=group.count()[0], random_state = 1, contamination= \"auto\")\n",
    "#clf = IsolationForest(max_samples=group.count()[0], random_state = 1)\n",
    "\n",
    "preds = clf.fit_predict(group[[\"motor1\", \"EE5\"]].values)\n",
    "\n",
    "group[\"fit2_flag\"] = preds"
   ]
  },
  {
   "cell_type": "raw",
   "metadata": {},
   "source": [
    "\n",
    "from sklearn.neighbors import LocalOutlierFactor\n",
    "clf = LocalOutlierFactor(n_neighbors=6, novelty=True, contamination=\"auto\")\n",
    "\n",
    "clf.fit(X_train)\n",
    "# DO NOT use predict, decision_function and score_samples on X_train as this\n",
    "# would give wrong results but only on new unseen data (not used in X_train),\n",
    "# e.g. X_test, X_outliers or the meshgrid\n",
    "y_pred_test = clf.predict(X_test)\n",
    "y_pred_outliers = clf.predict(X_outliers)\n",
    "n_error_test = y_pred_test[y_pred_test == -1].size\n",
    "n_error_outliers = y_pred_outliers[y_pred_outliers == 1].size\n",
    "\n",
    "#preds = clf.fit_predict(group[[\"motor1\", \"EE5\"]].values)\n",
    "\n",
    "#group[\"fit_flag\"] = preds"
   ]
  },
  {
   "cell_type": "raw",
   "metadata": {
    "jupyter": {
     "outputs_hidden": true
    },
    "lines_to_next_cell": 0
   },
   "source": [
    "from sklearn.linear_model import HuberRegressor\n",
    "X = group[\"motor1\"].values\n",
    "y = group[\"EE5\"].values\n",
    "huber = HuberRegressor().fit(X, y)\n",
    "huber.score(X, y)\n",
    "\n",
    "huber.predict(X[:1,])"
   ]
  },
  {
   "cell_type": "code",
   "execution_count": null,
   "metadata": {
    "lines_to_next_cell": 2
   },
   "outputs": [],
   "source": []
  },
  {
   "cell_type": "code",
   "execution_count": null,
   "metadata": {},
   "outputs": [],
   "source": [
    "x = group[\"motor1\"].values\n",
    "y = group[\"EE5\"].values"
   ]
  },
  {
   "cell_type": "code",
   "execution_count": null,
   "metadata": {
    "lines_to_next_cell": 2
   },
   "outputs": [],
   "source": []
  },
  {
   "cell_type": "code",
   "execution_count": null,
   "metadata": {
    "lines_to_end_of_cell_marker": 2
   },
   "outputs": [],
   "source": [
    "offset = np.median(y)\n",
    "fy = y-offset\n",
    "amp = np.max(fy)\n",
    "mean = x[np.argmin(np.abs(fy-amp))]\n",
    "hmean = x[np.argmin(np.abs(fy-amp/2))]\n",
    "sig =  np.abs(mean-hmean) / (np.sqrt(2 * np.log(2)))\n",
    "\n",
    "popt1, pcov = curve_fit(oneD_Gaussian, x, y, p0=[amp,mean,sig,offset], maxfev=10000)"
   ]
  },
  {
   "cell_type": "code",
   "execution_count": null,
   "metadata": {},
   "outputs": [],
   "source": [
    "plt.plot(x,y, \"+\")"
   ]
  },
  {
   "cell_type": "code",
   "execution_count": null,
   "metadata": {},
   "outputs": [],
   "source": [
    "perr = np.sqrt(np.diag(pcov))"
   ]
  },
  {
   "cell_type": "code",
   "execution_count": null,
   "metadata": {},
   "outputs": [],
   "source": [
    "perr"
   ]
  },
  {
   "cell_type": "code",
   "execution_count": null,
   "metadata": {},
   "outputs": [],
   "source": [
    "from scipy.optimize import least_squares"
   ]
  },
  {
   "cell_type": "code",
   "execution_count": null,
   "metadata": {},
   "outputs": [],
   "source": [
    "res_robust = least_squares(oneD_Gaussian, y, loss='soft_l1', f_scale=0.1, args=(amp,mean,sig,offset))"
   ]
  },
  {
   "cell_type": "code",
   "execution_count": null,
   "metadata": {},
   "outputs": [],
   "source": [
    "res_robust.x"
   ]
  },
  {
   "cell_type": "code",
   "execution_count": null,
   "metadata": {
    "lines_to_next_cell": 2
   },
   "outputs": [],
   "source": []
  },
  {
   "cell_type": "code",
   "execution_count": null,
   "metadata": {},
   "outputs": [],
   "source": [
    "def fitgauss1D(x, y):\n",
    "    offset = np.median(y)\n",
    "    fy = y-offset\n",
    "    amp = np.max(fy)\n",
    "    mean = x[np.argmin(np.abs(fy-amp))]\n",
    "    hmean = x[np.argmin(np.abs(fy-amp/2))]\n",
    "    sig =  np.abs(mean-hmean) / (np.sqrt(2 * np.log(2)))\n",
    "\n",
    "    popt1, pcov = curve_fit(oneD_Gaussian, x, y, p0=[amp,mean,sig,offset], maxfev=10000)\n",
    "\n",
    "    newx = np.linspace(np.min(x), np.max(x), 100000)\n",
    "    data = np.zeros((len(newx), 2))\n",
    "    data[:,0] = newx     \n",
    "    data[:,1] = oneD_Gaussian(newx, *popt1)\n",
    "\n",
    "    return TFocusDf(data), FitGauss1D(*popt1)"
   ]
  },
  {
   "cell_type": "code",
   "execution_count": null,
   "metadata": {},
   "outputs": [],
   "source": []
  },
  {
   "cell_type": "code",
   "execution_count": null,
   "metadata": {},
   "outputs": [],
   "source": []
  },
  {
   "cell_type": "code",
   "execution_count": null,
   "metadata": {
    "lines_to_next_cell": 2
   },
   "outputs": [],
   "source": []
  },
  {
   "cell_type": "code",
   "execution_count": null,
   "metadata": {},
   "outputs": [],
   "source": [
    "dfp3 = piston_imdata"
   ]
  },
  {
   "cell_type": "code",
   "execution_count": null,
   "metadata": {},
   "outputs": [],
   "source": [
    "def remove_outliers(value):\n",
    "    clf = IsolationForest( behaviour = 'new', max_samples=100, random_state = 1, contamination= 'auto')\n",
    "    return clf.fit_predict(value)"
   ]
  },
  {
   "cell_type": "code",
   "execution_count": null,
   "metadata": {},
   "outputs": [],
   "source": []
  },
  {
   "cell_type": "code",
   "execution_count": null,
   "metadata": {},
   "outputs": [],
   "source": [
    "ind = \"motor1\"\n",
    "piston_imdata[\"fit_flag\"] = np.nan\n",
    "for (wave, fiber), series in piston_imdata.groupby(['wavelength','fiber']):\n",
    "    series[\"fit_flag\"]= remove_outliers(series[[\"motor1\",\"EE5\"]].values)"
   ]
  },
  {
   "cell_type": "code",
   "execution_count": null,
   "metadata": {},
   "outputs": [],
   "source": [
    "pi"
   ]
  },
  {
   "cell_type": "code",
   "execution_count": null,
   "metadata": {},
   "outputs": [],
   "source": [
    "series[\"fit_flag\"]= series.apply(lambda x: remove_outliers(x[\"motor1\"], x[\"EE5\"]), axis=1)`"
   ]
  },
  {
   "cell_type": "code",
   "execution_count": null,
   "metadata": {},
   "outputs": [],
   "source": [
    "dfp3['fit_flag'] = dfp3.groupby(['wavelength','fiber']).agg(\n",
    "        fit_flag=pd.NamedAgg(column='EE5', aggfunc='pct_change')\n",
    ")"
   ]
  },
  {
   "cell_type": "code",
   "execution_count": null,
   "metadata": {},
   "outputs": [],
   "source": [
    "dfp3['fit_flag'] = dfp3.groupby(['wavelength','fiber']).agg(\n",
    "        fit_flag=pd.NamedAgg(column='EE5', aggfunc='pct_change')\n",
    ")"
   ]
  },
  {
   "cell_type": "code",
   "execution_count": null,
   "metadata": {
    "lines_to_next_cell": 2
   },
   "outputs": [],
   "source": [
    "ind = \"motor1\"\n",
    "piston_imdata[\"fit_flag\"] = np.nan\n",
    "tot = []\n",
    "for (wave, fiber), series in piston_imdata.groupby(['wavelength','fiber']):\n",
    "        clf = IsolationForest( behaviour = 'new', max_samples=100, random_state = 1, contamination= 'auto')\n",
    "        preds = clf.fit_predict(series[[ind, \"EE5\"]].values)\n",
    "        series[\"fit_flag\"] = preds\n",
    "        tot.append(list(series.values))"
   ]
  },
  {
   "cell_type": "code",
   "execution_count": null,
   "metadata": {
    "lines_to_next_cell": 2
   },
   "outputs": [],
   "source": [
    "ind = \"motor1\"\n",
    "piston_imdata[\"fit_flag\"] = np.nan\n",
    "tot = []\n",
    "for  group_name, series in piston_imdata.groupby(['wavelength','fiber']):\n",
    "        clf = IsolationForest( behaviour = 'new', max_samples=series.count()[0], random_state = 1, contamination= 'auto')\n",
    "        preds = clf.fit_predict(series[[ind, \"EE5\"]].values)\n",
    "        series.loc[:,\"fit_flag\"] = preds\n",
    "        tot.append(series)"
   ]
  },
  {
   "cell_type": "code",
   "execution_count": null,
   "metadata": {
    "lines_to_next_cell": 2
   },
   "outputs": [],
   "source": [
    "series.count()"
   ]
  },
  {
   "cell_type": "code",
   "execution_count": null,
   "metadata": {},
   "outputs": [],
   "source": [
    "piston_imdata.groupby(['wavelength','fiber'])[[\"motor1\", \"EE5\"]]"
   ]
  },
  {
   "cell_type": "code",
   "execution_count": null,
   "metadata": {},
   "outputs": [],
   "source": [
    "df =pd.concat(tot)"
   ]
  },
  {
   "cell_type": "code",
   "execution_count": null,
   "metadata": {},
   "outputs": [],
   "source": [
    "df"
   ]
  },
  {
   "cell_type": "code",
   "execution_count": null,
   "metadata": {},
   "outputs": [],
   "source": [
    "piston_imdata = pd.concat(map(pd.read_csv,files)).reset_index()\n",
    "\n",
    "print(f\"Wavelength used: {piston_imdata.wavelength.unique()}\")\n",
    "minPos = piston_imdata[['motor1','motor2','motor3']]\n",
    "minPos = minPos - minPos.min()\n",
    "piston_imdata['relPos'] = minPos['motor1']"
   ]
  },
  {
   "cell_type": "code",
   "execution_count": null,
   "metadata": {},
   "outputs": [],
   "source": [
    "piston_imdata.groupby(['wavelength','fiber']).count()"
   ]
  },
  {
   "cell_type": "code",
   "execution_count": null,
   "metadata": {},
   "outputs": [],
   "source": [
    "piston_imdata.count()"
   ]
  },
  {
   "cell_type": "code",
   "execution_count": null,
   "metadata": {},
   "outputs": [],
   "source": [
    "1662/80"
   ]
  },
  {
   "cell_type": "code",
   "execution_count": null,
   "metadata": {},
   "outputs": [],
   "source": [
    "piston_imdata.fit_flag"
   ]
  },
  {
   "cell_type": "code",
   "execution_count": null,
   "metadata": {
    "lines_to_next_cell": 2
   },
   "outputs": [],
   "source": [
    "from sklearn.ensemble import IsolationForest"
   ]
  },
  {
   "cell_type": "code",
   "execution_count": null,
   "metadata": {},
   "outputs": [],
   "source": [
    "clf = IsolationForest( behaviour = 'new', max_samples=group.count()[0], random_state = 1, contamination= 0.1)\n",
    "#clf = IsolationForest(max_samples=group.count()[0], random_state = 1)\n",
    "\n",
    "preds = clf.fit_predict(group[[\"motor1\", \"EE5\"]].values)\n",
    "preds"
   ]
  },
  {
   "cell_type": "code",
   "execution_count": null,
   "metadata": {},
   "outputs": [],
   "source": [
    "group[\"fit_flag\"] = preds"
   ]
  },
  {
   "cell_type": "code",
   "execution_count": null,
   "metadata": {},
   "outputs": [],
   "source": [
    "ax = group[group.fit_flag >0].plot.scatter(\"motor1\", \"EE5\",color=\"g\", label=\"EE5\",  title=f\"Exp{experimentId} - fiber {fiber} - wave {wave}\", )\n",
    "group.plot(\"motor1\", \"EE5\",ax=ax,color=\"r\", style=\"+\", label=\"EE5\",  title=f\"Exp{experimentId} - fiber {fiber} - wave {wave}\", )"
   ]
  },
  {
   "cell_type": "code",
   "execution_count": null,
   "metadata": {},
   "outputs": [],
   "source": []
  },
  {
   "cell_type": "code",
   "execution_count": null,
   "metadata": {},
   "outputs": [],
   "source": [
    "from scipy.stats import iqr"
   ]
  },
  {
   "cell_type": "code",
   "execution_count": null,
   "metadata": {},
   "outputs": [],
   "source": [
    "group.EE5"
   ]
  },
  {
   "cell_type": "code",
   "execution_count": null,
   "metadata": {},
   "outputs": [],
   "source": [
    "iqr(group.EE5.values, keepdims=True)"
   ]
  },
  {
   "cell_type": "code",
   "execution_count": null,
   "metadata": {},
   "outputs": [],
   "source": [
    "def remove_outlier(df_in, col_name):\n",
    "    q1 = df_in[col_name].quantile(0.25)\n",
    "    q3 = df_in[col_name].quantile(0.75)\n",
    "    iqr = q3-q1 #Interquartile range\n",
    "    fence_low  = q1-1.5*iqr\n",
    "    fence_high = q3+1.5*iqr\n",
    "    df_out = df_in.loc[(df_in[col_name] > fence_low) & (df_in[col_name] < fence_high)]\n",
    "    return df_out"
   ]
  },
  {
   "cell_type": "code",
   "execution_count": null,
   "metadata": {},
   "outputs": [],
   "source": [
    "df = remove_outlier(group, \"EE5\")"
   ]
  },
  {
   "cell_type": "code",
   "execution_count": null,
   "metadata": {},
   "outputs": [],
   "source": [
    "df = group[(group.sep_flag <1) ]"
   ]
  },
  {
   "cell_type": "code",
   "execution_count": null,
   "metadata": {},
   "outputs": [],
   "source": [
    "df.plot.scatter(\"motor1\", \"EE5\", color=\"g\", label=\"EE5\" )"
   ]
  },
  {
   "cell_type": "code",
   "execution_count": null,
   "metadata": {},
   "outputs": [],
   "source": [
    "df.plot.scatter(\"motor1\", \"sep_ECE5\", color=\"g\", label=\"EE5\" )"
   ]
  },
  {
   "cell_type": "code",
   "execution_count": null,
   "metadata": {},
   "outputs": [],
   "source": [
    "piston_imdata.fwhm.hist()"
   ]
  },
  {
   "cell_type": "code",
   "execution_count": null,
   "metadata": {},
   "outputs": [],
   "source": [
    "piston_imdata.sep_ECE5.hist()"
   ]
  },
  {
   "cell_type": "code",
   "execution_count": null,
   "metadata": {},
   "outputs": [],
   "source": [
    "piston_imdata.set_index([\"fiber\", \"wavelength\"])[[\"EE5\", \"sep_ECE5\", \"sep_flux_EC5\"]]"
   ]
  },
  {
   "cell_type": "code",
   "execution_count": null,
   "metadata": {},
   "outputs": [],
   "source": [
    "piston_imdata.sep_flux_EC5"
   ]
  },
  {
   "cell_type": "code",
   "execution_count": null,
   "metadata": {},
   "outputs": [],
   "source": []
  },
  {
   "cell_type": "code",
   "execution_count": null,
   "metadata": {},
   "outputs": [],
   "source": []
  },
  {
   "cell_type": "code",
   "execution_count": null,
   "metadata": {},
   "outputs": [],
   "source": [
    "from matplotlib import pyplot as plt\n",
    "import numpy as np\n",
    "\n",
    "from sklearn.linear_model import (\n",
    "    LinearRegression, TheilSenRegressor, RANSACRegressor, HuberRegressor)\n",
    "from sklearn.metrics import mean_squared_error\n",
    "from sklearn.preprocessing import PolynomialFeatures\n",
    "from sklearn.pipeline import make_pipeline\n",
    "\n",
    "np.random.seed(42)\n",
    "\n",
    "X = np.random.normal(size=400)\n",
    "y = np.sin(X)\n",
    "# Make sure that it X is 2D\n",
    "X = X[:, np.newaxis]\n",
    "\n",
    "X_test = np.random.normal(size=200)\n",
    "y_test = np.sin(X_test)\n",
    "X_test = X_test[:, np.newaxis]\n",
    "\n",
    "y_errors = y.copy()\n",
    "y_errors[::3] = 3\n",
    "\n",
    "X_errors = X.copy()\n",
    "X_errors[::3] = 3\n",
    "\n",
    "y_errors_large = y.copy()\n",
    "y_errors_large[::3] = 10\n",
    "\n",
    "X_errors_large = X.copy()\n",
    "X_errors_large[::3] = 10\n",
    "\n",
    "estimators = [('OLS', LinearRegression()),\n",
    "              ('Theil-Sen', TheilSenRegressor(random_state=42)),\n",
    "              ('RANSAC', RANSACRegressor(random_state=42)),\n",
    "              ('HuberRegressor', HuberRegressor())]\n",
    "colors = {'OLS': 'turquoise', 'Theil-Sen': 'gold', 'RANSAC': 'lightgreen', 'HuberRegressor': 'black'}\n",
    "linestyle = {'OLS': '-', 'Theil-Sen': '-.', 'RANSAC': '--', 'HuberRegressor': '--'}\n",
    "lw = 3\n",
    "\n",
    "x_plot = np.linspace(X.min(), X.max())\n",
    "for title, this_X, this_y in [\n",
    "        ('Modeling Errors Only', X, y),\n",
    "        ('Corrupt X, Small Deviants', X_errors, y),\n",
    "        ('Corrupt y, Small Deviants', X, y_errors),\n",
    "        ('Corrupt X, Large Deviants', X_errors_large, y),\n",
    "        ('Corrupt y, Large Deviants', X, y_errors_large)]:\n",
    "    plt.figure(figsize=(5, 4))\n",
    "    plt.plot(this_X[:, 0], this_y, 'b+')\n",
    "\n",
    "    for name, estimator in estimators:\n",
    "        model = make_pipeline(PolynomialFeatures(3), estimator)\n",
    "        model.fit(this_X, this_y)\n",
    "        mse = mean_squared_error(model.predict(X_test), y_test)\n",
    "        y_plot = model.predict(x_plot[:, np.newaxis])\n",
    "        plt.plot(x_plot, y_plot, color=colors[name], linestyle=linestyle[name],\n",
    "                 linewidth=lw, label='%s: error = %.3f' % (name, mse))\n",
    "\n",
    "    legend_title = 'Error of Mean\\nAbsolute Deviation\\nto Non-corrupt Data'\n",
    "    legend = plt.legend(loc='upper right', frameon=False, title=legend_title,\n",
    "                        prop=dict(size='x-small'))\n",
    "    plt.xlim(-4, 10.2)\n",
    "    plt.ylim(-2, 10.2)\n",
    "    plt.title(title)\n",
    "plt.show()"
   ]
  },
  {
   "cell_type": "code",
   "execution_count": null,
   "metadata": {},
   "outputs": [],
   "source": [
    "y"
   ]
  },
  {
   "cell_type": "code",
   "execution_count": null,
   "metadata": {},
   "outputs": [],
   "source": []
  },
  {
   "cell_type": "code",
   "execution_count": null,
   "metadata": {},
   "outputs": [],
   "source": []
  },
  {
   "cell_type": "code",
   "execution_count": null,
   "metadata": {},
   "outputs": [],
   "source": []
  },
  {
   "cell_type": "code",
   "execution_count": null,
   "metadata": {},
   "outputs": [],
   "source": []
  },
  {
   "cell_type": "code",
   "execution_count": null,
   "metadata": {},
   "outputs": [],
   "source": []
  },
  {
   "cell_type": "code",
   "execution_count": null,
   "metadata": {},
   "outputs": [],
   "source": [
    "dat = np.arange(0,10,0.5)\n",
    "\n",
    "df = pd.DataFrame(dat, columns=[\"EE5\"])\n",
    "\n",
    "df.EE5.iloc[3] = 1.7\n",
    "\n",
    "df[\"EE5_diff\"] = (df.EE5.diff(-1) + df.EE5.diff(2) - df.EE5.diff(1))/2. \n",
    "df[\"EE5_diff\"].fillna(0, inplace=True)\n",
    "df[\"diff-1\"] = df.EE5.diff(-1)\n",
    "df[\"diff2\"] = df.EE5.diff(2)\n",
    "df[\"diff1\"] = df.EE5.diff(1)\n",
    "\n",
    "df[\"EE5_diff_2\"] = (df.EE5.diff(-1) + df.EE5.diff(2) - df.EE5.diff(1))/2. + df.EE5"
   ]
  },
  {
   "cell_type": "code",
   "execution_count": null,
   "metadata": {},
   "outputs": [],
   "source": [
    "df"
   ]
  },
  {
   "cell_type": "code",
   "execution_count": null,
   "metadata": {},
   "outputs": [],
   "source": []
  },
  {
   "cell_type": "code",
   "execution_count": null,
   "metadata": {},
   "outputs": [],
   "source": [
    "dat = np.arange(0,10,0.5)\n",
    "\n",
    "df = pd.DataFrame(dat, columns=[\"EE5\"])\n",
    "\n",
    "df.EE5.iloc[3] = 1.3"
   ]
  },
  {
   "cell_type": "code",
   "execution_count": null,
   "metadata": {},
   "outputs": [],
   "source": [
    "df[\"EE5_diff\"] = (df.EE5.diff(-1) + df.EE5.diff(2) - df.EE5.diff(1))/2. \n",
    "df[\"EE5_diff\"].fillna(0, inplace=True)\n",
    "df[\"diff-1\"] = df.EE5.diff(-1)\n",
    "df[\"diff2\"] = df.EE5.diff(2)\n",
    "df[\"diff1\"] = df.EE5.diff(1)\n",
    "\n",
    "df[\"EE5_diff_2\"] = (df.EE5.diff(-1) + df.EE5.diff(2) - df.EE5.diff(1))/2. + df.EE5"
   ]
  },
  {
   "cell_type": "code",
   "execution_count": null,
   "metadata": {
    "lines_to_next_cell": 2
   },
   "outputs": [],
   "source": [
    "df[\"shift1\"] = df.EE5.shift(1)\n",
    "df[\"shift-1\"] = df.EE5.shift(-1)\n",
    "df[\"meanlocal\"] = (df.EE5.shift(-1) + df.EE5.shift(1))/2\n",
    "df[\"diff_mean\"] = df.EE5 - (df.EE5.shift(-1) + df.EE5.shift(1))/2 "
   ]
  },
  {
   "cell_type": "code",
   "execution_count": null,
   "metadata": {},
   "outputs": [],
   "source": [
    "df"
   ]
  },
  {
   "cell_type": "code",
   "execution_count": null,
   "metadata": {},
   "outputs": [],
   "source": []
  },
  {
   "cell_type": "code",
   "execution_count": null,
   "metadata": {},
   "outputs": [],
   "source": []
  }
 ],
 "metadata": {
  "jupytext": {
   "text_representation": {
    "extension": ".py",
    "format_name": "light",
    "format_version": "1.5",
    "jupytext_version": "1.3.4"
   }
  },
  "kernelspec": {
   "display_name": "Python 3",
   "language": "python",
   "name": "python3"
  },
  "language_info": {
   "codemirror_mode": {
    "name": "ipython",
    "version": 3
   },
   "file_extension": ".py",
   "mimetype": "text/x-python",
   "name": "python",
   "nbconvert_exporter": "python",
   "pygments_lexer": "ipython3",
   "version": "3.7.2"
  }
 },
 "nbformat": 4,
 "nbformat_minor": 4
}
