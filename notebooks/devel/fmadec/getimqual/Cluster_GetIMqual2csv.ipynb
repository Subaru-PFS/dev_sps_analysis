{
 "cells": [
  {
   "cell_type": "code",
   "execution_count": null,
   "metadata": {},
   "outputs": [],
   "source": [
    "import getopt\n",
    "import sys\n",
    "import pandas as pd\n",
    "from pfs.lam.detAnalysis import *\n",
    "import time"
   ]
  },
  {
   "cell_type": "code",
   "execution_count": null,
   "metadata": {},
   "outputs": [],
   "source": [
    "from pfs.lam.opdb import *\n"
   ]
  },
  {
   "cell_type": "code",
   "execution_count": null,
   "metadata": {},
   "outputs": [],
   "source": [
    "from pfs.lam.fileHandling import *\n",
    "from pfs.lam.detFocusAnalysis import *\n",
    "import os\n",
    "import lsst.daf.persistence as dafPersist\n",
    "import re\n",
    "from astropy.modeling import models, fitting\n",
    "from astropy.stats import gaussian_sigma_to_fwhm"
   ]
  },
  {
   "cell_type": "code",
   "execution_count": null,
   "metadata": {},
   "outputs": [],
   "source": [
    "def VisitImageQualityToCsv(visit, \\\n",
    "                           peak_list, roi_size, com=True, doBck=True, EE=[3,5], doFit=True, doLSF=False,\\\n",
    "                           cam=None, repo=\"cluster\",rerun=\"sm1-dither\", cluster=False, doPlot=False,\\\n",
    "                           doSep=False, mask_size=50, threshold= 50, subpix = 5 , maxPeakDist=80,\\\n",
    "                           maxPeakFlux=40000, minPeakFlux=2000,\\\n",
    "                          csv_path = \"\", drpImage=None, experimentId = None, doPrint=False):\n",
    "    if drpImage is None:\n",
    "        experimentId = Logbook.visitExperimentId(visit=visit)\n",
    "        \n",
    "        doRaise = True\n",
    "        try:\n",
    "            filepath, date = getvisitfilepath(visit, rerun, None, cam, repo, cluster=cluster)\n",
    "            visitfilepath = filepath\n",
    "        except IOError:\n",
    "            if doRaise:\n",
    "                raise\n",
    "    else :\n",
    "        filepath = drpImage[0]\n",
    "        visitfilepath = drpImage[1]\n",
    "        visit = drpImage[2]\n",
    "        try:\n",
    "            #experimentId = Logbook.visitExperimentId(visit=visit)\n",
    "            experimentId = get_Visit_Set_Id(visit)\n",
    "        except:\n",
    "            experimentId = np.nan\n",
    "            print(\"Unable to get experimentId from logbook\")\n",
    "\n",
    "    data = getImageQuality(filepath, peak_list, roi_size=roi_size, EE=EE, com=com, doPlot=doPlot, doBck=doBck, doFit=doFit, doLSF=doLSF)\n",
    "    if doSep:\n",
    "        dsep = getImageEncerclEnergy(filepath, peak_list, roi_size=roi_size, EE=EE,\\\n",
    "        mask_size=mask_size, threshold= threshold, subpix = subpix ,\\\n",
    "        maxPeakDist=maxPeakDist, maxPeakFlux=maxPeakFlux, minPeakFlux=minPeakFlux,\\\n",
    "        doPlot=doPlot, doBck=doBck)\n",
    "        dsep = dsep.add_prefix(\"sep_\")\n",
    "        dsep = dsep.rename(columns={'sep_peak': 'peak','sep_fiber': 'fiber'})\n",
    "        data = data.merge(dsep, on=[\"peak\",\"fiber\"]) \n",
    "    __, fname = os.path.split(visitfilepath)\n",
    "\n",
    "    data[\"filename\"] = fname\n",
    "    data[\"visit\"] = visit\n",
    "\n",
    "#    data[\"peaklist\"] = peak_list        \n",
    "\n",
    "#    data[\"motor1\"] = np.float(getFitsKey(visitfilepath, 'W_XCU_MOTOR1_MICRONS'))\n",
    "#    data[\"motor2\"] = np.float(getFitsKey(visitfilepath, 'W_XCU_MOTOR2_MICRONS'))\n",
    "#    data[\"motor3\"] = np.float(getFitsKey(visitfilepath, 'W_XCU_MOTOR3_MICRONS'))\n",
    "    data[\"xm1pos\"] = np.float(getFitsKey(visitfilepath, 'W_XM1POS'))\n",
    "    data[\"xm2pos\"] = np.float(getFitsKey(visitfilepath, 'W_XM2POS'))\n",
    "    data[\"xm3pos\"] = np.float(getFitsKey(visitfilepath, 'W_XM3POS'))\n",
    "    data[\"motor1\"] = data[\"xm1pos\"] \n",
    "    data[\"motor2\"] = data[\"xm2pos\"]\n",
    "    data[\"motor3\"] = data[\"xm3pos\"]   \n",
    "    fcax = np.float(getFitsKey(visitfilepath, 'W_ENFCAX', doRaise=False))\n",
    "    fcay = np.float(getFitsKey(visitfilepath, 'W_ENFCAY', doRaise=False))\n",
    "    fcaz = np.float(getFitsKey(visitfilepath, 'W_ENFCAZ', doRaise=False))\n",
    "\n",
    "    # OneChannel back compatiblity\n",
    "    fcax = np.float(getFitsKey(visitfilepath, 'HIERARCH W_FCA_FOCUS', doRaise=False)) if np.isnan(fcax) else fcax\n",
    "    data['fcaFocus'] = fcax\n",
    "    data['fcaY'] = fcay\n",
    "    data['fcaZ'] = fcaz\n",
    "\n",
    "#    feeTemp = np.float(getFitsKey(visitfilepath, 'temps.FEE'))\n",
    "#    feeTemp = np.float(getFitsKey(visitfilepath, 'HIERARCH temps.FEE', doRaise=False)) if np.isnan(feeTemp) else feeTemp\n",
    "\n",
    "#    data['feeTemp'] = feeTemp\n",
    "#    ccdTemp = np.float(getFitsKey(visitfilepath, 'temps.CCD0'))\n",
    "#    ccdTemp = np.float(getFitsKey(visitfilepath, 'HIERARCH temps.CCD0', doRaise=False)) if np.isnan(ccdTemp) else ccdTemp\n",
    "#    data['ccdTemp'] = ccdTemp\n",
    "    ccdTemp = np.float(getFitsKey(visitfilepath, 'W_XTDET1', doRaise=False))\n",
    "    data['ccdTemp'] = ccdTemp\n",
    "    detBoxTemp = np.float(getFitsKey(visitfilepath, 'W_XTDBOX', doRaise=False))\n",
    "    data['detBoxTemp'] = detBoxTemp\n",
    "\n",
    "    data['cam'] = cam\n",
    "    data['obsdate'] = getFitsKey(visitfilepath, 'DATE-AVG')\n",
    "    data['experimentId'] = experimentId\n",
    "\n",
    "    now = datetime.now() # current date and time\\n\",\n",
    "    date_time = now.strftime(\"%Y%m%dT%Hh%M\")\n",
    "\n",
    "    csvName = f\"Imquality_{cam}_Exp{experimentId}_{visit}_{date_time}.csv\"\n",
    "    if not os.path.exists(csv_path):\n",
    "        os.makedirs(csv_path)\n",
    "    data.to_csv(csv_path+csvName)\n",
    "    if doPrint:\n",
    "        print(csv_path+csvName)\n",
    "\n",
    "    return"
   ]
  },
  {
   "cell_type": "code",
   "execution_count": null,
   "metadata": {},
   "outputs": [],
   "source": []
  },
  {
   "cell_type": "code",
   "execution_count": null,
   "metadata": {
    "lines_to_next_cell": 0
   },
   "outputs": [],
   "source": [
    "def main(argv):\n",
    "    visit = ''\n",
    "    peak = ''\n",
    "    outpath = ''\n",
    "    try:\n",
    "        opts, args = getopt.getopt(argv,\"hv:p:c:o:r:\",[\"visit=\",\"peak=\", \"cam=\", \"outpath=\", \"rerun=\"])\n",
    "    except getopt.GetoptError:\n",
    "        print('Cluster_GetIMqual.py -v <visit> -p <peakfile> -c <cam> -r <rerun>')\n",
    "        sys.exit(2)\n",
    "    for opt, arg in opts:\n",
    "        if opt == '-h':\n",
    "            print('Cluster_GetIMqual.py -v <visit> -p <peakfile> -c <cam>')\n",
    "            sys.exit()\n",
    "        elif opt in (\"-v\", \"--visit\"):\n",
    "            visit = int(arg)\n",
    "        elif opt in (\"-p\", \"--peak\"):\n",
    "            peaklist = arg\n",
    "        elif opt in (\"-c\", \"--cam\"):\n",
    "            cam = arg\n",
    "        elif opt in (\"-o\", \"--outpath\"):\n",
    "            outpath = arg\n",
    "        elif opt in (\"-r\", \"--rerun\"):\n",
    "            rerun = arg\n",
    "           \n",
    "\n",
    "\n",
    "    outpath = \"output\\\\\" if outpath is None else outpath\n",
    "\n",
    "    # define defaut parameters\n",
    "    roi_size = 24\n",
    "    com = True  # Center Of Mass\n",
    "    doBck = True\n",
    "    head = 0\n",
    "    tail = 0\n",
    "    criteria = 'EE5'\n",
    "    verbose = False\n",
    "    doPrint = False\n",
    "    arm = cam[0]\n",
    "    \n",
    "    drpPath = \"/drp/\"\n",
    "    repo = \"sps\"\n",
    "    basePath = '/drp/fmadec/analysis/sm2/'\n",
    "    extra = ''\n",
    "    \n",
    "    try:\n",
    "#            experimentId = Logbook.visitExperimentId(visit=visit)\n",
    "            experimentId = get_Visit_Set_Id(visit)\n",
    "\n",
    "    except:\n",
    "            experimentId = np.nan\n",
    "            print(\"Unable to get experimentId from logbook\")\n",
    "            \n",
    "    csvPath = basePath+\"Exp\"+str(experimentId)+\"/\"+rerun+\"_roi\"+str(roi_size)+\"/doBck\"+str(doBck)+\"/\"+extra\n",
    "    print(csvPath)\n",
    "    \n",
    "#    peakPath =\"/home/fmadec/dev/ait-notebook/optical/input/\"\n",
    "#    peaklist = peakPath+peaklist\n",
    "#    peaklist = \"/drp/cluster/devel/ait-notebook/fmadec/Subaru/SM1/selectLines/Imqual_LAM_peaklist_2020July.csv\"\n",
    "    peaklist = \"SM2_peak_engineering_20201210.csv\"\n",
    "\n",
    "#   VisitImageQualityToCsv(visit, peaklist, roi_size, cam=cam, \\\n",
    "#                          repo=\"sm1\",rerun=\"ginga\",  cluster=True, \\\n",
    "#                          com=True, doBck=True, EE=[3,5], doFit=True, doLSF=False,\n",
    "#                          csv_path = outpath)\n",
    "\n",
    "    print(f'Start visit {visit} of {cam} with {peaklist}')\n",
    "    print(f\"{drpPath}/{repo}/rerun/{rerun}/detrend/\")\n",
    "    \n",
    "    butler = dafPersist.Butler(f\"{drpPath}/{repo}/rerun/{rerun}/detrend/\")\n",
    "    rbutler = dafPersist.Butler(f\"{drpPath}/{repo}/\")\n",
    "    rbutler.getKeys('raw')\n",
    "    lamps = rbutler.queryMetadata('raw', ['lamps'], visit=visit, arm=arm) \n",
    "    calExp = butler.get(\"calexp\", visit=visit, arm=cam[0])\n",
    "\n",
    "    peaks = pd.read_csv(peaklist)\n",
    "    selected_peaks = peaks[peaks.arm == arm]\n",
    "    selected_peaks = selected_peaks[(selected_peaks.element.str.contains('|'.join(re.findall('[A-Z][^A-Z]*', \"\".join(lamps)))))]\n",
    "    \n",
    "    visit = int(visit)\n",
    "    calExp = butler.get(\"calexp\", visit=visit, arm=cam[0])\n",
    "    calexfilePath = butler.getUri(\"calexp\", visit=visit, arm=cam[0])\n",
    "    if verbose:\n",
    "        print(calexfilePath)\n",
    "    \n",
    "    VisitImageQualityToCsv(visit, selected_peaks, roi_size,\\\n",
    "                           drpImage=[ calExp.image.array, calexfilePath, visit],\\\n",
    "                           com=com, doBck=doBck, EE=[3,5], doFit=True, doLSF=True,\\\n",
    "                           cam=cam, repo=None,rerun=None, cluster=False, doPlot=False,\\\n",
    "                           doSep=True, mask_size=20, threshold= 50, subpix = 5 , maxPeakDist=80,\\\n",
    "                           maxPeakFlux=40000, minPeakFlux=2000,\\\n",
    "                          csv_path = csvPath, experimentId=experimentId, doPrint=verbose)"
   ]
  },
  {
   "cell_type": "code",
   "execution_count": null,
   "metadata": {
    "lines_to_next_cell": 2
   },
   "outputs": [],
   "source": []
  },
  {
   "cell_type": "raw",
   "metadata": {},
   "source": [
    "if __name__ == \"__main__\":\n",
    "    start = time.time()\n",
    "    main(sys.argv[1:])\n",
    "    finish = time.time()\n",
    "    elapsed = finish - start\n",
    "    print(f\"Time elapsed: {elapsed}\")"
   ]
  },
  {
   "cell_type": "code",
   "execution_count": null,
   "metadata": {},
   "outputs": [],
   "source": []
  },
  {
   "cell_type": "code",
   "execution_count": null,
   "metadata": {},
   "outputs": [],
   "source": []
  },
  {
   "cell_type": "code",
   "execution_count": null,
   "metadata": {},
   "outputs": [],
   "source": []
  },
  {
   "cell_type": "code",
   "execution_count": null,
   "metadata": {},
   "outputs": [],
   "source": [
    "experimentId = 124\n",
    "cam = \"b2\"\n",
    "rerun = \"defocus\" #\"dcb2\"\n",
    "\n",
    "peaklist = \"Imqual_LAM_peaklist_DEBUG_Neon_3peaks_B2_Dec2020.csv\"\n"
   ]
  },
  {
   "cell_type": "code",
   "execution_count": null,
   "metadata": {},
   "outputs": [],
   "source": [
    "experimentId = 125\n",
    "cam = \"b2\"\n",
    "rerun = \"defocus\" #\"dcb2\"\n",
    "\n",
    "peaklist = \"../SM2-defocus/Imqual_LAM_peaklist_DCB2-notfinal.csv\"\n"
   ]
  },
  {
   "cell_type": "code",
   "execution_count": null,
   "metadata": {},
   "outputs": [],
   "source": [
    "experimentId = 136\n",
    "cam = \"r2\"\n",
    "rerun = \"defocus\" #\"dcb2\"\n",
    "\n",
    "peaklist = \"Imqual_LAM_peaklist_DEBUG_HgAr_R2_Dec2020.csv\"\n"
   ]
  },
  {
   "cell_type": "code",
   "execution_count": null,
   "metadata": {},
   "outputs": [],
   "source": [
    "experimentId = 152\n",
    "cam = \"r2\"\n",
    "rerun = \"defocus\" #\"dcb2\"\n",
    "\n",
    "peaklist = \"Imqual_LAM_peaklist_DEBUG_HgAr_R2_Dec2020.csv\"\n"
   ]
  },
  {
   "cell_type": "code",
   "execution_count": null,
   "metadata": {},
   "outputs": [],
   "source": [
    "experimentId = 153\n",
    "cam = \"r2\"\n",
    "rerun = \"defocus\" #\"dcb2\"\n",
    "\n",
    "peaklist = \"Imqual_LAM_peaklist_DEBUG_HgAr_R2_Dec2020.csv\"\n"
   ]
  },
  {
   "cell_type": "code",
   "execution_count": null,
   "metadata": {},
   "outputs": [],
   "source": [
    "experimentId = 154\n",
    "cam = \"r2\"\n",
    "rerun = \"defocus\" #\"dcb2\"\n",
    "\n",
    "peaklist = \"Imqual_LAM_peaklist_DEBUG_HgAr_R2_Dec2020.csv\"\n"
   ]
  },
  {
   "cell_type": "code",
   "execution_count": null,
   "metadata": {},
   "outputs": [],
   "source": [
    "visitStart, visitEnd = getVisitRange(experimentId)"
   ]
  },
  {
   "cell_type": "code",
   "execution_count": null,
   "metadata": {},
   "outputs": [],
   "source": [
    "print(f\"visit: {visitStart}-{visitEnd}\")"
   ]
  },
  {
   "cell_type": "code",
   "execution_count": null,
   "metadata": {},
   "outputs": [],
   "source": [
    "get_Visit_Set_Id(visitStart)"
   ]
  },
  {
   "cell_type": "code",
   "execution_count": null,
   "metadata": {},
   "outputs": [],
   "source": [
    "# define defaut parameters\n",
    "roi_size = 24\n",
    "com = True  # Center Of Mass\n",
    "doBck = True\n",
    "head = 0\n",
    "tail = 0\n",
    "criteria = 'EE5'\n",
    "verbose = True\n",
    "doPrint = False\n",
    "arm = cam[0]\n",
    "\n",
    "drpPath = \"/drp\"\n",
    "repo = \"sps\"\n",
    "basePath = '/drp/analysis/sm2/'\n",
    "extra = ''\n",
    "\n",
    "for visit in range(visitStart, visitEnd+1):\n",
    "\n",
    "    now = datetime.now() # current date and time\\n\",\n",
    "    date_time = now.strftime(\"%Y%m%dT%Hh%M\")\n",
    "    csvPath = basePath+\"Exp\"+str(experimentId)+\"/\"+rerun+\"_roi\"+str(roi_size)+\"/doBck\"+str(doBck)+\"/\"+extra+date_time+\"/\"\n",
    "    print(csvPath)\n",
    "\n",
    "    print(f'Start visit {visit} of {cam} with {peaklist}')\n",
    "    print(f\"{drpPath}/{repo}/rerun/{rerun}/detrend/\")\n",
    "\n",
    "    butler = dafPersist.Butler(f\"{drpPath}/{repo}/rerun/{rerun}/detrend/\")\n",
    "    rbutler = dafPersist.Butler(f\"{drpPath}/{repo}/\")\n",
    "    rbutler.getKeys('raw')\n",
    "    lamps = rbutler.queryMetadata('raw', ['lamps'], visit=visit, arm=arm) \n",
    "    print(f\"lamps used: {lamps}\")\n",
    "    calExp = butler.get(\"calexp\", visit=visit, arm=cam[0])\n",
    "\n",
    "    peaks = pd.read_csv(peaklist)\n",
    "    selected_peaks = peaks[peaks.arm == arm]\n",
    "    selected_peaks = selected_peaks[(selected_peaks.element.str.contains('|'.join(re.findall('[A-Z][^A-Z]*', \"\".join(lamps)))))]\n",
    "    #selected_peaks = peaks\n",
    "    print(selected_peaks.element.unique())\n",
    "    visit = int(visit)\n",
    "    calExp = butler.get(\"calexp\", visit=visit, arm=cam[0])\n",
    "    calexfilePath = butler.getUri(\"calexp\", visit=visit, arm=cam[0])\n",
    "    if verbose:\n",
    "        print(calexfilePath)\n",
    "\n",
    "    VisitImageQualityToCsv(visit, selected_peaks, roi_size,\\\n",
    "                           drpImage=[ calExp.image.array, calexfilePath, visit],\\\n",
    "                           com=com, doBck=doBck, EE=[3,5], doFit=True, doLSF=True,\\\n",
    "                           cam=cam, repo=None,rerun=None, cluster=False, doPlot=False,\\\n",
    "                           doSep=True, mask_size=20, threshold= 50, subpix = 5 , maxPeakDist=80,\\\n",
    "                           maxPeakFlux=40000, minPeakFlux=2000,\\\n",
    "                          csv_path = csvPath, experimentId=experimentId, doPrint=verbose)"
   ]
  },
  {
   "cell_type": "code",
   "execution_count": null,
   "metadata": {},
   "outputs": [],
   "source": [
    "\n",
    "print(date_time)"
   ]
  },
  {
   "cell_type": "code",
   "execution_count": null,
   "metadata": {},
   "outputs": [],
   "source": []
  }
 ],
 "metadata": {
  "jupytext": {
   "cell_metadata_filter": "-all",
   "executable": "/usr/bin/python",
   "notebook_metadata_filter": "-all",
   "text_representation": {
    "extension": ".py",
    "format_name": "light"
   }
  },
  "kernelspec": {
   "display_name": "Python 3",
   "language": "python",
   "name": "python3"
  },
  "language_info": {
   "codemirror_mode": {
    "name": "ipython",
    "version": 3
   },
   "file_extension": ".py",
   "mimetype": "text/x-python",
   "name": "python",
   "nbconvert_exporter": "python",
   "pygments_lexer": "ipython3",
   "version": "3.7.2"
  }
 },
 "nbformat": 4,
 "nbformat_minor": 4
}
