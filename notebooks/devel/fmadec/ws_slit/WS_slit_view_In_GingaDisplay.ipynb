{
 "cells": [
  {
   "cell_type": "code",
   "execution_count": 1,
   "metadata": {},
   "outputs": [
    {
     "data": {
      "text/plain": [
       "'3.0.1'"
      ]
     },
     "execution_count": 1,
     "metadata": {},
     "output_type": "execute_result"
    }
   ],
   "source": [
    "from ginga import __version__\n",
    "__version__"
   ]
  },
  {
   "cell_type": "code",
   "execution_count": 2,
   "metadata": {},
   "outputs": [],
   "source": [
    "# import ginga remote control module\n",
    "from ginga.util import grc"
   ]
  },
  {
   "cell_type": "code",
   "execution_count": 3,
   "metadata": {},
   "outputs": [],
   "source": [
    "import pandas as pd\n",
    "import re\n",
    "import numpy as np"
   ]
  },
  {
   "cell_type": "code",
   "execution_count": 4,
   "metadata": {},
   "outputs": [],
   "source": [
    "import lsst.daf.persistence as dafPersist\n",
    "from pfs.lam.opdb import *\n"
   ]
  },
  {
   "cell_type": "code",
   "execution_count": 5,
   "metadata": {},
   "outputs": [],
   "source": [
    "# host and port parameters can be set in the graphical ui of the plugin.\n",
    "# These are the defaults\n",
    "viewer = grc.RemoteClient('localhost', 9000)\n",
    "#viewer = grc.RemoteClient('ws1.pfs', 9001)"
   ]
  },
  {
   "cell_type": "code",
   "execution_count": 6,
   "metadata": {},
   "outputs": [
    {
     "data": {
      "text/plain": [
       "'localhost'"
      ]
     },
     "execution_count": 6,
     "metadata": {},
     "output_type": "execute_result"
    }
   ],
   "source": [
    "viewer.host"
   ]
  },
  {
   "cell_type": "code",
   "execution_count": 7,
   "metadata": {},
   "outputs": [],
   "source": [
    "\n",
    "\n",
    "# This gives you a handle to the reference viewer shell.\n",
    "# It is similar to what you can do from the command line with:\n",
    "#    $ grc ginga ...\n",
    "#\n",
    "shell = viewer.shell()\n",
    "\n"
   ]
  },
  {
   "cell_type": "code",
   "execution_count": 90,
   "metadata": {},
   "outputs": [
    {
     "data": {
      "text/plain": [
       "'#UNDEFINED'"
      ]
     },
     "execution_count": 90,
     "metadata": {},
     "output_type": "execute_result"
    }
   ],
   "source": [
    "# the RC plugin in the viewer\n",
    "shell.add_channel('Peak')"
   ]
  },
  {
   "cell_type": "code",
   "execution_count": 91,
   "metadata": {},
   "outputs": [],
   "source": [
    "# This gives you a handle to a reference viewer channel.\n",
    "# It is similar to what you can do from the command line with:\n",
    "#    $ grc channel ...\n",
    "#\n",
    "ch = viewer.channel('Peak')"
   ]
  },
  {
   "cell_type": "code",
   "execution_count": 10,
   "metadata": {},
   "outputs": [],
   "source": [
    "repo = \"sps\"\n",
    "drpPath = \"/data/drp\""
   ]
  },
  {
   "cell_type": "code",
   "execution_count": 99,
   "metadata": {},
   "outputs": [],
   "source": [
    "experimentId = 124\n",
    "cam = \"b2\"\n",
    "arm = cam[0]\n",
    "\n",
    "\n",
    "rerun = \"defocus\" #\"dcb2\"\n",
    "\n",
    "drpPath = \"/drp\"\n",
    "repo = \"sps\"\n",
    "basePath = '/drp/analysis/sm2/'\n",
    "\n",
    "peaklist = \"../SM2-defocus/Imqual_LAM_peaklist_DCB2-notfinal.csv\"\n"
   ]
  },
  {
   "cell_type": "code",
   "execution_count": 82,
   "metadata": {},
   "outputs": [],
   "source": [
    "experimentId = 125\n",
    "cam = \"b2\"\n",
    "arm = cam[0]\n",
    "\n",
    "\n",
    "rerun = \"defocus\" #\"dcb2\"\n",
    "\n",
    "drpPath = \"/drp\"\n",
    "repo = \"sps\"\n",
    "basePath = '/drp/analysis/sm2/'\n",
    "\n",
    "#peaklist = \"../SM2-defocus/Imqual_LAM_peaklist_forFocus_2020July.csv\"\n",
    "peaklist = \"../SM2-defocus/Imqual_LAM_peaklist_DCB2-notfinal.csv\"\n"
   ]
  },
  {
   "cell_type": "code",
   "execution_count": null,
   "metadata": {},
   "outputs": [],
   "source": [
    "experimentId = 132\n",
    "cam = \"r2\"\n",
    "arm = cam[0]\n",
    "\n",
    "\n",
    "rerun = \"defocus\" #\"dcb2\"\n",
    "\n",
    "drpPath = \"/drp\"\n",
    "repo = \"sps\"\n",
    "basePath = '/drp/analysis/sm2/'"
   ]
  },
  {
   "cell_type": "code",
   "execution_count": null,
   "metadata": {},
   "outputs": [],
   "source": [
    "experimentId = 191 \n",
    "rerun = \"ws_slit\"\n",
    "#rerun = \"dcb2\"\n",
    "\n",
    "repo = \"sps\"\n",
    "cam = \"r3\"\n",
    "arm = cam[0]\n",
    "drpPath = \"/data/drp\""
   ]
  },
  {
   "cell_type": "code",
   "execution_count": null,
   "metadata": {},
   "outputs": [],
   "source": [
    "experimentId = 173\n",
    "cam = \"r2\"\n",
    "rerun = \"ws_slit\" #\"defocus\" #\"dcb2\"\n",
    "arm = cam[0]\n",
    "\n",
    "#peaklist = \"Imqual_LAM_peaklist_DEBUG_B2_9peaks_Dec2020.csv\"\n",
    "peaklist = \"Imqual_LAM_peaklist_DEBUG_R3_Jan2020_WS_slit_2.csv\"\n",
    "\n"
   ]
  },
  {
   "cell_type": "code",
   "execution_count": 83,
   "metadata": {},
   "outputs": [],
   "source": [
    "visitStart, visitEnd = getVisitRange(experimentId)"
   ]
  },
  {
   "cell_type": "code",
   "execution_count": 84,
   "metadata": {},
   "outputs": [],
   "source": [
    "visit = int(visitStart)"
   ]
  },
  {
   "cell_type": "code",
   "execution_count": 85,
   "metadata": {},
   "outputs": [],
   "source": [
    "# define defaut parameters\n",
    "roi_size = 24\n",
    "com = True  # Center Of Mass\n",
    "doBck = True\n",
    "head = 0\n",
    "tail = 0\n",
    "criteria = 'EE5'\n",
    "verbose = True\n",
    "doPrint = False\n",
    "\n",
    "\n"
   ]
  },
  {
   "cell_type": "raw",
   "metadata": {},
   "source": [
    "from pfs.fileHandling import *\n",
    "experimentId = 1167 # 411 #847#842 #700\n",
    "filelist = constructFilelist(experimentId, repo=\"sm1\" ,rerun='ginga')\n",
    "filelist2 = filelist[filelist.cam ==\"b1\"].reset_index()\n",
    "#print(filelist2)"
   ]
  },
  {
   "cell_type": "raw",
   "metadata": {},
   "source": [
    "filelist2\n",
    "filepath = filelist2.filepath[0]"
   ]
  },
  {
   "cell_type": "code",
   "execution_count": null,
   "metadata": {},
   "outputs": [],
   "source": [
    "#peaklist = \"Imqual_LAM_peaklist_2020July.csv\"\n",
    "#peaklist = \"Imqual_LAM_peaklist_DEBUG_B2_Dec2020.csv\"\n",
    "peaklist = \"Imqual_LAM_peaklist_DEBUG_HgAr_R2_Dec2020.csv\""
   ]
  },
  {
   "cell_type": "code",
   "execution_count": null,
   "metadata": {},
   "outputs": [],
   "source": [
    "peaklist = \"Imqual_LAM_peaklist_DEBUG_R3_Jan2020_WS_slit_2.csv\""
   ]
  },
  {
   "cell_type": "code",
   "execution_count": 86,
   "metadata": {},
   "outputs": [
    {
     "name": "stdout",
     "output_type": "stream",
     "text": [
      "Start visit 23797 of b2 with ../SM2-defocus/Imqual_LAM_peaklist_DCB2-notfinal.csv\n",
      "/drp/sps/rerun/defocus/detrend/\n"
     ]
    }
   ],
   "source": [
    "\n",
    "butler = dafPersist.Butler(f\"{drpPath}/{repo}/rerun/{rerun}/detrend/\")\n",
    "rbutler = dafPersist.Butler(f\"{drpPath}/{repo}/\")\n",
    "rbutler.getKeys('raw')\n",
    "lamps = rbutler.queryMetadata('raw', ['lamps'], visit=visit, arm=arm) \n",
    "calExp = butler.get(\"calexp\", visit=visit, arm=cam[0])\n",
    "\n",
    "print(f'Start visit {visit} of {cam} with {peaklist}')\n",
    "print(f\"{drpPath}/{repo}/rerun/{rerun}/detrend/\")\n"
   ]
  },
  {
   "cell_type": "code",
   "execution_count": 92,
   "metadata": {},
   "outputs": [
    {
     "data": {
      "text/plain": [
       "0"
      ]
     },
     "execution_count": 92,
     "metadata": {},
     "output_type": "execute_result"
    }
   ],
   "source": [
    "ch.load_np(\"image\", calExp.image.array, 'fits', {})"
   ]
  },
  {
   "cell_type": "code",
   "execution_count": 88,
   "metadata": {},
   "outputs": [
    {
     "name": "stdout",
     "output_type": "stream",
     "text": [
      "['HgAr']\n"
     ]
    }
   ],
   "source": [
    "print(lamps)"
   ]
  },
  {
   "cell_type": "code",
   "execution_count": 89,
   "metadata": {},
   "outputs": [],
   "source": [
    "canvas = viewer.canvas('Peak')\n",
    "#canvas = viewer.canvas('B1_DETREND')\n"
   ]
  },
  {
   "cell_type": "code",
   "execution_count": 68,
   "metadata": {},
   "outputs": [],
   "source": [
    "peaks = pd.read_csv(peaklist)"
   ]
  },
  {
   "cell_type": "code",
   "execution_count": 69,
   "metadata": {},
   "outputs": [],
   "source": [
    "for (X,Y), group in peaks.groupby([\"X\",\"Y\"]):\n",
    "    canvas.add('circle',float(X),float(Y), radius=20, color='red')\n",
    "        "
   ]
  },
  {
   "cell_type": "code",
   "execution_count": null,
   "metadata": {},
   "outputs": [],
   "source": []
  },
  {
   "cell_type": "code",
   "execution_count": null,
   "metadata": {},
   "outputs": [],
   "source": [
    "for visit in np.arange(visitStart,visitEnd+1):\n",
    "    calExp = butler.get(\"calexp\", visit=int(visit), arm=arm)\n",
    "    ch.load_np(\"image\", calExp.image.array, 'fits', {})\n",
    "    "
   ]
  },
  {
   "cell_type": "code",
   "execution_count": null,
   "metadata": {},
   "outputs": [],
   "source": [
    "peaks = pd.read_csv(peaklist)"
   ]
  },
  {
   "cell_type": "code",
   "execution_count": null,
   "metadata": {},
   "outputs": [],
   "source": [
    "for (X,Y), group in peaks.groupby([\"X\",\"Y\"]):\n",
    "    canvas.add('circle',float(X),float(Y), radius=20, color='blue')\n",
    "        "
   ]
  },
  {
   "cell_type": "code",
   "execution_count": null,
   "metadata": {},
   "outputs": [],
   "source": [
    "peaks[\"X\"] = peaks[\"X\"] + 50"
   ]
  },
  {
   "cell_type": "code",
   "execution_count": null,
   "metadata": {},
   "outputs": [],
   "source": [
    "for (X,Y), group in peaks.groupby([\"X\",\"Y\"]):\n",
    "    canvas.add('circle',float(X),float(Y), radius=20, color='orange')"
   ]
  },
  {
   "cell_type": "code",
   "execution_count": null,
   "metadata": {},
   "outputs": [],
   "source": [
    "peaks.to_csv(\"Imqual_LAM_peaklist_DEBUG_R2_Jan2020_WS_slit.csv\")"
   ]
  },
  {
   "cell_type": "code",
   "execution_count": null,
   "metadata": {},
   "outputs": [],
   "source": []
  },
  {
   "cell_type": "code",
   "execution_count": null,
   "metadata": {},
   "outputs": [],
   "source": [
    "peaks[peaks.X>2000][\"Y\"] = peaks[peaks.X>2000][\"Y\"] - 10"
   ]
  },
  {
   "cell_type": "code",
   "execution_count": null,
   "metadata": {},
   "outputs": [],
   "source": [
    "peaks.loc[peaks.X>2000,\"Y\"] = peaks.loc[peaks.X>2000,\"Y\"]  - 10"
   ]
  },
  {
   "cell_type": "code",
   "execution_count": null,
   "metadata": {},
   "outputs": [],
   "source": [
    "peaks.loc[peaks.X>2000,\"Y\"] "
   ]
  },
  {
   "cell_type": "code",
   "execution_count": null,
   "metadata": {},
   "outputs": [],
   "source": [
    "peaks.to_csv(\"Imqual_LAM_peaklist_DEBUG_R3_Jan2020_WS_slit_2.csv\")"
   ]
  },
  {
   "cell_type": "code",
   "execution_count": null,
   "metadata": {},
   "outputs": [],
   "source": [
    "dbutler = dafPersist.Butler('/drp/cluster/repo/')"
   ]
  },
  {
   "cell_type": "code",
   "execution_count": null,
   "metadata": {},
   "outputs": [],
   "source": [
    "dmap = dbutler.get(\"detectorMap\", visit0=3128, spectrograph=1, arm='r', immediate=True)"
   ]
  },
  {
   "cell_type": "code",
   "execution_count": null,
   "metadata": {},
   "outputs": [],
   "source": [
    "for fiber in dmap.getFiberId():\n",
    "    print(fiber, dmap.getXCenter(fiber, 2000))"
   ]
  },
  {
   "cell_type": "code",
   "execution_count": null,
   "metadata": {},
   "outputs": [],
   "source": [
    "waves = selected_peaks.wavelength.unique()\n",
    "print(waves)"
   ]
  },
  {
   "cell_type": "code",
   "execution_count": null,
   "metadata": {},
   "outputs": [],
   "source": [
    "dmap.findPoint()"
   ]
  },
  {
   "cell_type": "code",
   "execution_count": null,
   "metadata": {},
   "outputs": [],
   "source": [
    "fiber = 554\n",
    "wave = waves[1]"
   ]
  },
  {
   "cell_type": "code",
   "execution_count": null,
   "metadata": {},
   "outputs": [],
   "source": [
    "X,Y = dmap.findPoint(fiber, wave)journalctl -f | grep --line-buffered kde"
   ]
  },
  {
   "cell_type": "code",
   "execution_count": null,
   "metadata": {},
   "outputs": [],
   "source": [
    "canvas.add('circle',float(X),float(Y), radius=30, color='blue')\n"
   ]
  },
  {
   "cell_type": "code",
   "execution_count": null,
   "metadata": {},
   "outputs": [],
   "source": [
    "fibers = [2,102,166,489,554,650]\n"
   ]
  },
  {
   "cell_type": "code",
   "execution_count": null,
   "metadata": {},
   "outputs": [],
   "source": [
    "for wave in waves:\n",
    "    for fiber in fibers:\n",
    "        X,Y = dmap.findPoint(fiber, wave)\n",
    "        canvas.add('circle',float(X),float(Y)+30, radius=30, color='lightblue')"
   ]
  },
  {
   "cell_type": "code",
   "execution_count": null,
   "metadata": {},
   "outputs": [],
   "source": [
    "new_peak_list = pd.DataFrame(columns = ['fiber','wavelength','element','exptime','arm','X','Y','peak'])"
   ]
  },
  {
   "cell_type": "code",
   "execution_count": null,
   "metadata": {},
   "outputs": [],
   "source": [
    "i = 0\n",
    "for fiber in fibers:\n",
    "    p = 1\n",
    "    for wave in waves:\n",
    "        X,Y = dmap.findPoint(fiber, wave)\n",
    "        Y = Y + 30\n",
    "        new_peak_list.loc[i] = [fiber, wave, \"Ar\",0, \"r\",X,Y, p]\n",
    "        i += 1\n",
    "        p += 1\n",
    "    "
   ]
  },
  {
   "cell_type": "code",
   "execution_count": null,
   "metadata": {},
   "outputs": [],
   "source": [
    "new_peak_list"
   ]
  },
  {
   "cell_type": "code",
   "execution_count": null,
   "metadata": {},
   "outputs": [],
   "source": [
    "new_peak_list.to_csv(\"Imqual_LAM_peaklist_DEBUG_R3_Jan2020_WS_slit.csv\")"
   ]
  },
  {
   "cell_type": "raw",
   "metadata": {},
   "source": [
    "# example of loading an HDU from an astropy HDUlist\n",
    "# parameters are (image_name, channel_name, hdulist, hdulist_key)\n",
    "#\n",
    "from astropy.io import fits\n",
    "hdulist = fits.open(filepath, \"readonly\")\n",
    "ch.load_hdu(\"r\", hdulist, 1)\n"
   ]
  },
  {
   "cell_type": "code",
   "execution_count": 72,
   "metadata": {},
   "outputs": [],
   "source": [
    "canvas = viewer.canvas('Peak')\n",
    "#canvas = viewer.canvas('B1_DETREND')\n"
   ]
  },
  {
   "cell_type": "code",
   "execution_count": 73,
   "metadata": {},
   "outputs": [
    {
     "data": {
      "text/plain": [
       "'#UNDEFINED'"
      ]
     },
     "execution_count": 73,
     "metadata": {},
     "output_type": "execute_result"
    }
   ],
   "source": [
    "canvas.clear()"
   ]
  },
  {
   "cell_type": "code",
   "execution_count": 93,
   "metadata": {},
   "outputs": [],
   "source": [
    "peaks = pd.read_csv(peaklist)"
   ]
  },
  {
   "cell_type": "code",
   "execution_count": 94,
   "metadata": {},
   "outputs": [],
   "source": [
    "selected_peaks = peaks[peaks.arm == arm]\n",
    "selected_peaks = selected_peaks[(selected_peaks.element.str.contains('|'.join(re.findall('[A-Z][^A-Z]*', \"\".join(lamps)))))]\n"
   ]
  },
  {
   "cell_type": "code",
   "execution_count": 98,
   "metadata": {},
   "outputs": [
    {
     "data": {
      "text/html": [
       "<div>\n",
       "<style scoped>\n",
       "    .dataframe tbody tr th:only-of-type {\n",
       "        vertical-align: middle;\n",
       "    }\n",
       "\n",
       "    .dataframe tbody tr th {\n",
       "        vertical-align: top;\n",
       "    }\n",
       "\n",
       "    .dataframe thead th {\n",
       "        text-align: right;\n",
       "    }\n",
       "</style>\n",
       "<table border=\"1\" class=\"dataframe\">\n",
       "  <thead>\n",
       "    <tr style=\"text-align: right;\">\n",
       "      <th></th>\n",
       "      <th>Unnamed: 0</th>\n",
       "      <th>fiber</th>\n",
       "      <th>wavelength</th>\n",
       "      <th>element</th>\n",
       "      <th>exptime</th>\n",
       "      <th>arm</th>\n",
       "      <th>X</th>\n",
       "      <th>Y</th>\n",
       "      <th>peak</th>\n",
       "    </tr>\n",
       "  </thead>\n",
       "  <tbody>\n",
       "    <tr>\n",
       "      <th>80</th>\n",
       "      <td>80</td>\n",
       "      <td>2</td>\n",
       "      <td>404.7708</td>\n",
       "      <td>Hg</td>\n",
       "      <td>2</td>\n",
       "      <td>b</td>\n",
       "      <td>4072.2748</td>\n",
       "      <td>486.1170</td>\n",
       "      <td>1.0</td>\n",
       "    </tr>\n",
       "    <tr>\n",
       "      <th>81</th>\n",
       "      <td>81</td>\n",
       "      <td>63</td>\n",
       "      <td>404.7708</td>\n",
       "      <td>Hg</td>\n",
       "      <td>2</td>\n",
       "      <td>b</td>\n",
       "      <td>3693.0971</td>\n",
       "      <td>477.3762</td>\n",
       "      <td>1.0</td>\n",
       "    </tr>\n",
       "    <tr>\n",
       "      <th>82</th>\n",
       "      <td>82</td>\n",
       "      <td>192</td>\n",
       "      <td>404.7708</td>\n",
       "      <td>Hg</td>\n",
       "      <td>2</td>\n",
       "      <td>b</td>\n",
       "      <td>2896.2412</td>\n",
       "      <td>464.1442</td>\n",
       "      <td>1.0</td>\n",
       "    </tr>\n",
       "    <tr>\n",
       "      <th>83</th>\n",
       "      <td>83</td>\n",
       "      <td>255</td>\n",
       "      <td>404.7708</td>\n",
       "      <td>Hg</td>\n",
       "      <td>2</td>\n",
       "      <td>b</td>\n",
       "      <td>2508.1425</td>\n",
       "      <td>460.8045</td>\n",
       "      <td>1.0</td>\n",
       "    </tr>\n",
       "    <tr>\n",
       "      <th>84</th>\n",
       "      <td>84</td>\n",
       "      <td>308</td>\n",
       "      <td>404.7708</td>\n",
       "      <td>Hg</td>\n",
       "      <td>2</td>\n",
       "      <td>b</td>\n",
       "      <td>2174.0000</td>\n",
       "      <td>459.7467</td>\n",
       "      <td>1.0</td>\n",
       "    </tr>\n",
       "    <tr>\n",
       "      <th>85</th>\n",
       "      <td>85</td>\n",
       "      <td>401</td>\n",
       "      <td>404.7708</td>\n",
       "      <td>Hg</td>\n",
       "      <td>2</td>\n",
       "      <td>b</td>\n",
       "      <td>1678.3849</td>\n",
       "      <td>461.5610</td>\n",
       "      <td>1.0</td>\n",
       "    </tr>\n",
       "    <tr>\n",
       "      <th>86</th>\n",
       "      <td>86</td>\n",
       "      <td>464</td>\n",
       "      <td>404.7708</td>\n",
       "      <td>Hg</td>\n",
       "      <td>2</td>\n",
       "      <td>b</td>\n",
       "      <td>1290.0830</td>\n",
       "      <td>465.5930</td>\n",
       "      <td>1.0</td>\n",
       "    </tr>\n",
       "    <tr>\n",
       "      <th>87</th>\n",
       "      <td>87</td>\n",
       "      <td>525</td>\n",
       "      <td>404.7708</td>\n",
       "      <td>Hg</td>\n",
       "      <td>2</td>\n",
       "      <td>b</td>\n",
       "      <td>913.4822</td>\n",
       "      <td>471.5147</td>\n",
       "      <td>1.0</td>\n",
       "    </tr>\n",
       "    <tr>\n",
       "      <th>88</th>\n",
       "      <td>88</td>\n",
       "      <td>587</td>\n",
       "      <td>404.7708</td>\n",
       "      <td>Hg</td>\n",
       "      <td>2</td>\n",
       "      <td>b</td>\n",
       "      <td>529.5797</td>\n",
       "      <td>479.3791</td>\n",
       "      <td>1.0</td>\n",
       "    </tr>\n",
       "    <tr>\n",
       "      <th>89</th>\n",
       "      <td>89</td>\n",
       "      <td>650</td>\n",
       "      <td>404.7708</td>\n",
       "      <td>Hg</td>\n",
       "      <td>2</td>\n",
       "      <td>b</td>\n",
       "      <td>137.4574</td>\n",
       "      <td>488.9628</td>\n",
       "      <td>1.0</td>\n",
       "    </tr>\n",
       "    <tr>\n",
       "      <th>90</th>\n",
       "      <td>90</td>\n",
       "      <td>2</td>\n",
       "      <td>435.9560</td>\n",
       "      <td>Hg</td>\n",
       "      <td>2</td>\n",
       "      <td>b</td>\n",
       "      <td>4068.7931</td>\n",
       "      <td>939.0182</td>\n",
       "      <td>2.0</td>\n",
       "    </tr>\n",
       "    <tr>\n",
       "      <th>91</th>\n",
       "      <td>91</td>\n",
       "      <td>63</td>\n",
       "      <td>435.9560</td>\n",
       "      <td>Hg</td>\n",
       "      <td>2</td>\n",
       "      <td>b</td>\n",
       "      <td>3690.9220</td>\n",
       "      <td>928.8912</td>\n",
       "      <td>2.0</td>\n",
       "    </tr>\n",
       "    <tr>\n",
       "      <th>92</th>\n",
       "      <td>92</td>\n",
       "      <td>192</td>\n",
       "      <td>435.9560</td>\n",
       "      <td>Hg</td>\n",
       "      <td>2</td>\n",
       "      <td>b</td>\n",
       "      <td>2895.5534</td>\n",
       "      <td>914.0710</td>\n",
       "      <td>2.0</td>\n",
       "    </tr>\n",
       "    <tr>\n",
       "      <th>93</th>\n",
       "      <td>93</td>\n",
       "      <td>255</td>\n",
       "      <td>435.9560</td>\n",
       "      <td>Hg</td>\n",
       "      <td>2</td>\n",
       "      <td>b</td>\n",
       "      <td>2507.8589</td>\n",
       "      <td>910.3958</td>\n",
       "      <td>2.0</td>\n",
       "    </tr>\n",
       "    <tr>\n",
       "      <th>94</th>\n",
       "      <td>94</td>\n",
       "      <td>308</td>\n",
       "      <td>435.9560</td>\n",
       "      <td>Hg</td>\n",
       "      <td>2</td>\n",
       "      <td>b</td>\n",
       "      <td>2174.0000</td>\n",
       "      <td>909.1939</td>\n",
       "      <td>2.0</td>\n",
       "    </tr>\n",
       "    <tr>\n",
       "      <th>95</th>\n",
       "      <td>95</td>\n",
       "      <td>401</td>\n",
       "      <td>435.9560</td>\n",
       "      <td>Hg</td>\n",
       "      <td>2</td>\n",
       "      <td>b</td>\n",
       "      <td>1678.7545</td>\n",
       "      <td>911.1031</td>\n",
       "      <td>2.0</td>\n",
       "    </tr>\n",
       "    <tr>\n",
       "      <th>96</th>\n",
       "      <td>96</td>\n",
       "      <td>464</td>\n",
       "      <td>435.9560</td>\n",
       "      <td>Hg</td>\n",
       "      <td>2</td>\n",
       "      <td>b</td>\n",
       "      <td>1290.7267</td>\n",
       "      <td>915.4283</td>\n",
       "      <td>2.0</td>\n",
       "    </tr>\n",
       "    <tr>\n",
       "      <th>97</th>\n",
       "      <td>97</td>\n",
       "      <td>525</td>\n",
       "      <td>435.9560</td>\n",
       "      <td>Hg</td>\n",
       "      <td>2</td>\n",
       "      <td>b</td>\n",
       "      <td>914.4671</td>\n",
       "      <td>921.8760</td>\n",
       "      <td>2.0</td>\n",
       "    </tr>\n",
       "    <tr>\n",
       "      <th>98</th>\n",
       "      <td>98</td>\n",
       "      <td>587</td>\n",
       "      <td>435.9560</td>\n",
       "      <td>Hg</td>\n",
       "      <td>2</td>\n",
       "      <td>b</td>\n",
       "      <td>531.1206</td>\n",
       "      <td>930.6176</td>\n",
       "      <td>2.0</td>\n",
       "    </tr>\n",
       "    <tr>\n",
       "      <th>99</th>\n",
       "      <td>99</td>\n",
       "      <td>650</td>\n",
       "      <td>435.9560</td>\n",
       "      <td>Hg</td>\n",
       "      <td>2</td>\n",
       "      <td>b</td>\n",
       "      <td>139.9350</td>\n",
       "      <td>941.5596</td>\n",
       "      <td>2.0</td>\n",
       "    </tr>\n",
       "    <tr>\n",
       "      <th>100</th>\n",
       "      <td>100</td>\n",
       "      <td>2</td>\n",
       "      <td>546.2268</td>\n",
       "      <td>Hg</td>\n",
       "      <td>2</td>\n",
       "      <td>b</td>\n",
       "      <td>4065.2722</td>\n",
       "      <td>2554.7631</td>\n",
       "      <td>3.0</td>\n",
       "    </tr>\n",
       "    <tr>\n",
       "      <th>101</th>\n",
       "      <td>101</td>\n",
       "      <td>63</td>\n",
       "      <td>546.2268</td>\n",
       "      <td>Hg</td>\n",
       "      <td>2</td>\n",
       "      <td>b</td>\n",
       "      <td>3688.8147</td>\n",
       "      <td>2541.6552</td>\n",
       "      <td>3.0</td>\n",
       "    </tr>\n",
       "    <tr>\n",
       "      <th>102</th>\n",
       "      <td>102</td>\n",
       "      <td>192</td>\n",
       "      <td>546.2268</td>\n",
       "      <td>Hg</td>\n",
       "      <td>2</td>\n",
       "      <td>b</td>\n",
       "      <td>2895.0831</td>\n",
       "      <td>2523.1758</td>\n",
       "      <td>3.0</td>\n",
       "    </tr>\n",
       "    <tr>\n",
       "      <th>103</th>\n",
       "      <td>103</td>\n",
       "      <td>255</td>\n",
       "      <td>546.2268</td>\n",
       "      <td>Hg</td>\n",
       "      <td>2</td>\n",
       "      <td>b</td>\n",
       "      <td>2507.8216</td>\n",
       "      <td>2518.6031</td>\n",
       "      <td>3.0</td>\n",
       "    </tr>\n",
       "    <tr>\n",
       "      <th>104</th>\n",
       "      <td>104</td>\n",
       "      <td>308</td>\n",
       "      <td>546.2268</td>\n",
       "      <td>Hg</td>\n",
       "      <td>2</td>\n",
       "      <td>b</td>\n",
       "      <td>2174.0000</td>\n",
       "      <td>2516.9874</td>\n",
       "      <td>3.0</td>\n",
       "    </tr>\n",
       "    <tr>\n",
       "      <th>105</th>\n",
       "      <td>105</td>\n",
       "      <td>401</td>\n",
       "      <td>546.2268</td>\n",
       "      <td>Hg</td>\n",
       "      <td>2</td>\n",
       "      <td>b</td>\n",
       "      <td>1679.0337</td>\n",
       "      <td>2519.1259</td>\n",
       "      <td>3.0</td>\n",
       "    </tr>\n",
       "    <tr>\n",
       "      <th>106</th>\n",
       "      <td>106</td>\n",
       "      <td>464</td>\n",
       "      <td>546.2268</td>\n",
       "      <td>Hg</td>\n",
       "      <td>2</td>\n",
       "      <td>b</td>\n",
       "      <td>1290.9550</td>\n",
       "      <td>2524.1730</td>\n",
       "      <td>3.0</td>\n",
       "    </tr>\n",
       "    <tr>\n",
       "      <th>107</th>\n",
       "      <td>107</td>\n",
       "      <td>525</td>\n",
       "      <td>546.2268</td>\n",
       "      <td>Hg</td>\n",
       "      <td>2</td>\n",
       "      <td>b</td>\n",
       "      <td>914.5477</td>\n",
       "      <td>2531.8333</td>\n",
       "      <td>3.0</td>\n",
       "    </tr>\n",
       "    <tr>\n",
       "      <th>108</th>\n",
       "      <td>108</td>\n",
       "      <td>587</td>\n",
       "      <td>546.2268</td>\n",
       "      <td>Hg</td>\n",
       "      <td>2</td>\n",
       "      <td>b</td>\n",
       "      <td>531.0490</td>\n",
       "      <td>2542.4431</td>\n",
       "      <td>3.0</td>\n",
       "    </tr>\n",
       "    <tr>\n",
       "      <th>109</th>\n",
       "      <td>109</td>\n",
       "      <td>650</td>\n",
       "      <td>546.2268</td>\n",
       "      <td>Hg</td>\n",
       "      <td>2</td>\n",
       "      <td>b</td>\n",
       "      <td>139.8824</td>\n",
       "      <td>2556.2143</td>\n",
       "      <td>3.0</td>\n",
       "    </tr>\n",
       "    <tr>\n",
       "      <th>110</th>\n",
       "      <td>110</td>\n",
       "      <td>2</td>\n",
       "      <td>577.1210</td>\n",
       "      <td>Hg</td>\n",
       "      <td>2</td>\n",
       "      <td>b</td>\n",
       "      <td>4066.2883</td>\n",
       "      <td>3014.5411</td>\n",
       "      <td>4.0</td>\n",
       "    </tr>\n",
       "    <tr>\n",
       "      <th>111</th>\n",
       "      <td>111</td>\n",
       "      <td>63</td>\n",
       "      <td>577.1210</td>\n",
       "      <td>Hg</td>\n",
       "      <td>2</td>\n",
       "      <td>b</td>\n",
       "      <td>3689.5270</td>\n",
       "      <td>3000.5205</td>\n",
       "      <td>4.0</td>\n",
       "    </tr>\n",
       "    <tr>\n",
       "      <th>112</th>\n",
       "      <td>112</td>\n",
       "      <td>192</td>\n",
       "      <td>577.1210</td>\n",
       "      <td>Hg</td>\n",
       "      <td>2</td>\n",
       "      <td>b</td>\n",
       "      <td>2895.4973</td>\n",
       "      <td>2980.9437</td>\n",
       "      <td>4.0</td>\n",
       "    </tr>\n",
       "    <tr>\n",
       "      <th>113</th>\n",
       "      <td>113</td>\n",
       "      <td>255</td>\n",
       "      <td>577.1210</td>\n",
       "      <td>Hg</td>\n",
       "      <td>2</td>\n",
       "      <td>b</td>\n",
       "      <td>2508.0916</td>\n",
       "      <td>2976.0989</td>\n",
       "      <td>4.0</td>\n",
       "    </tr>\n",
       "    <tr>\n",
       "      <th>114</th>\n",
       "      <td>114</td>\n",
       "      <td>308</td>\n",
       "      <td>577.1210</td>\n",
       "      <td>Hg</td>\n",
       "      <td>2</td>\n",
       "      <td>b</td>\n",
       "      <td>2174.0000</td>\n",
       "      <td>2974.3603</td>\n",
       "      <td>4.0</td>\n",
       "    </tr>\n",
       "    <tr>\n",
       "      <th>115</th>\n",
       "      <td>115</td>\n",
       "      <td>401</td>\n",
       "      <td>577.1210</td>\n",
       "      <td>Hg</td>\n",
       "      <td>2</td>\n",
       "      <td>b</td>\n",
       "      <td>1678.8140</td>\n",
       "      <td>2976.5712</td>\n",
       "      <td>4.0</td>\n",
       "    </tr>\n",
       "    <tr>\n",
       "      <th>116</th>\n",
       "      <td>116</td>\n",
       "      <td>464</td>\n",
       "      <td>577.1210</td>\n",
       "      <td>Hg</td>\n",
       "      <td>2</td>\n",
       "      <td>b</td>\n",
       "      <td>1290.4508</td>\n",
       "      <td>2981.8383</td>\n",
       "      <td>4.0</td>\n",
       "    </tr>\n",
       "    <tr>\n",
       "      <th>117</th>\n",
       "      <td>117</td>\n",
       "      <td>525</td>\n",
       "      <td>577.1210</td>\n",
       "      <td>Hg</td>\n",
       "      <td>2</td>\n",
       "      <td>b</td>\n",
       "      <td>913.6972</td>\n",
       "      <td>2989.8636</td>\n",
       "      <td>4.0</td>\n",
       "    </tr>\n",
       "    <tr>\n",
       "      <th>118</th>\n",
       "      <td>118</td>\n",
       "      <td>587</td>\n",
       "      <td>577.1210</td>\n",
       "      <td>Hg</td>\n",
       "      <td>2</td>\n",
       "      <td>b</td>\n",
       "      <td>529.7231</td>\n",
       "      <td>3001.0391</td>\n",
       "      <td>4.0</td>\n",
       "    </tr>\n",
       "    <tr>\n",
       "      <th>119</th>\n",
       "      <td>119</td>\n",
       "      <td>650</td>\n",
       "      <td>577.1210</td>\n",
       "      <td>Hg</td>\n",
       "      <td>2</td>\n",
       "      <td>b</td>\n",
       "      <td>137.8344</td>\n",
       "      <td>3015.6834</td>\n",
       "      <td>4.0</td>\n",
       "    </tr>\n",
       "    <tr>\n",
       "      <th>120</th>\n",
       "      <td>120</td>\n",
       "      <td>2</td>\n",
       "      <td>579.2276</td>\n",
       "      <td>Hg</td>\n",
       "      <td>2</td>\n",
       "      <td>b</td>\n",
       "      <td>4066.3986</td>\n",
       "      <td>3046.0457</td>\n",
       "      <td>5.0</td>\n",
       "    </tr>\n",
       "    <tr>\n",
       "      <th>121</th>\n",
       "      <td>121</td>\n",
       "      <td>63</td>\n",
       "      <td>579.2276</td>\n",
       "      <td>Hg</td>\n",
       "      <td>2</td>\n",
       "      <td>b</td>\n",
       "      <td>3689.6019</td>\n",
       "      <td>3031.9553</td>\n",
       "      <td>5.0</td>\n",
       "    </tr>\n",
       "    <tr>\n",
       "      <th>122</th>\n",
       "      <td>122</td>\n",
       "      <td>192</td>\n",
       "      <td>579.2276</td>\n",
       "      <td>Hg</td>\n",
       "      <td>2</td>\n",
       "      <td>b</td>\n",
       "      <td>2895.5356</td>\n",
       "      <td>3012.2964</td>\n",
       "      <td>5.0</td>\n",
       "    </tr>\n",
       "    <tr>\n",
       "      <th>123</th>\n",
       "      <td>123</td>\n",
       "      <td>255</td>\n",
       "      <td>579.2276</td>\n",
       "      <td>Hg</td>\n",
       "      <td>2</td>\n",
       "      <td>b</td>\n",
       "      <td>2508.1154</td>\n",
       "      <td>3007.4323</td>\n",
       "      <td>5.0</td>\n",
       "    </tr>\n",
       "    <tr>\n",
       "      <th>124</th>\n",
       "      <td>124</td>\n",
       "      <td>308</td>\n",
       "      <td>579.2276</td>\n",
       "      <td>Hg</td>\n",
       "      <td>2</td>\n",
       "      <td>b</td>\n",
       "      <td>2174.0000</td>\n",
       "      <td>3005.6842</td>\n",
       "      <td>5.0</td>\n",
       "    </tr>\n",
       "    <tr>\n",
       "      <th>125</th>\n",
       "      <td>125</td>\n",
       "      <td>401</td>\n",
       "      <td>579.2276</td>\n",
       "      <td>Hg</td>\n",
       "      <td>2</td>\n",
       "      <td>b</td>\n",
       "      <td>1678.7928</td>\n",
       "      <td>3007.9011</td>\n",
       "      <td>5.0</td>\n",
       "    </tr>\n",
       "    <tr>\n",
       "      <th>126</th>\n",
       "      <td>126</td>\n",
       "      <td>464</td>\n",
       "      <td>579.2276</td>\n",
       "      <td>Hg</td>\n",
       "      <td>2</td>\n",
       "      <td>b</td>\n",
       "      <td>1290.4060</td>\n",
       "      <td>3013.1826</td>\n",
       "      <td>5.0</td>\n",
       "    </tr>\n",
       "    <tr>\n",
       "      <th>127</th>\n",
       "      <td>127</td>\n",
       "      <td>525</td>\n",
       "      <td>579.2276</td>\n",
       "      <td>Hg</td>\n",
       "      <td>2</td>\n",
       "      <td>b</td>\n",
       "      <td>913.6225</td>\n",
       "      <td>3021.2355</td>\n",
       "      <td>5.0</td>\n",
       "    </tr>\n",
       "    <tr>\n",
       "      <th>128</th>\n",
       "      <td>128</td>\n",
       "      <td>587</td>\n",
       "      <td>579.2276</td>\n",
       "      <td>Hg</td>\n",
       "      <td>2</td>\n",
       "      <td>b</td>\n",
       "      <td>529.6070</td>\n",
       "      <td>3032.4536</td>\n",
       "      <td>5.0</td>\n",
       "    </tr>\n",
       "    <tr>\n",
       "      <th>129</th>\n",
       "      <td>129</td>\n",
       "      <td>650</td>\n",
       "      <td>579.2276</td>\n",
       "      <td>Hg</td>\n",
       "      <td>2</td>\n",
       "      <td>b</td>\n",
       "      <td>137.6541</td>\n",
       "      <td>3047.1661</td>\n",
       "      <td>5.0</td>\n",
       "    </tr>\n",
       "  </tbody>\n",
       "</table>\n",
       "</div>"
      ],
      "text/plain": [
       "     Unnamed: 0  fiber  wavelength element  exptime arm          X          Y  \\\n",
       "80           80      2    404.7708      Hg        2   b  4072.2748   486.1170   \n",
       "81           81     63    404.7708      Hg        2   b  3693.0971   477.3762   \n",
       "82           82    192    404.7708      Hg        2   b  2896.2412   464.1442   \n",
       "83           83    255    404.7708      Hg        2   b  2508.1425   460.8045   \n",
       "84           84    308    404.7708      Hg        2   b  2174.0000   459.7467   \n",
       "85           85    401    404.7708      Hg        2   b  1678.3849   461.5610   \n",
       "86           86    464    404.7708      Hg        2   b  1290.0830   465.5930   \n",
       "87           87    525    404.7708      Hg        2   b   913.4822   471.5147   \n",
       "88           88    587    404.7708      Hg        2   b   529.5797   479.3791   \n",
       "89           89    650    404.7708      Hg        2   b   137.4574   488.9628   \n",
       "90           90      2    435.9560      Hg        2   b  4068.7931   939.0182   \n",
       "91           91     63    435.9560      Hg        2   b  3690.9220   928.8912   \n",
       "92           92    192    435.9560      Hg        2   b  2895.5534   914.0710   \n",
       "93           93    255    435.9560      Hg        2   b  2507.8589   910.3958   \n",
       "94           94    308    435.9560      Hg        2   b  2174.0000   909.1939   \n",
       "95           95    401    435.9560      Hg        2   b  1678.7545   911.1031   \n",
       "96           96    464    435.9560      Hg        2   b  1290.7267   915.4283   \n",
       "97           97    525    435.9560      Hg        2   b   914.4671   921.8760   \n",
       "98           98    587    435.9560      Hg        2   b   531.1206   930.6176   \n",
       "99           99    650    435.9560      Hg        2   b   139.9350   941.5596   \n",
       "100         100      2    546.2268      Hg        2   b  4065.2722  2554.7631   \n",
       "101         101     63    546.2268      Hg        2   b  3688.8147  2541.6552   \n",
       "102         102    192    546.2268      Hg        2   b  2895.0831  2523.1758   \n",
       "103         103    255    546.2268      Hg        2   b  2507.8216  2518.6031   \n",
       "104         104    308    546.2268      Hg        2   b  2174.0000  2516.9874   \n",
       "105         105    401    546.2268      Hg        2   b  1679.0337  2519.1259   \n",
       "106         106    464    546.2268      Hg        2   b  1290.9550  2524.1730   \n",
       "107         107    525    546.2268      Hg        2   b   914.5477  2531.8333   \n",
       "108         108    587    546.2268      Hg        2   b   531.0490  2542.4431   \n",
       "109         109    650    546.2268      Hg        2   b   139.8824  2556.2143   \n",
       "110         110      2    577.1210      Hg        2   b  4066.2883  3014.5411   \n",
       "111         111     63    577.1210      Hg        2   b  3689.5270  3000.5205   \n",
       "112         112    192    577.1210      Hg        2   b  2895.4973  2980.9437   \n",
       "113         113    255    577.1210      Hg        2   b  2508.0916  2976.0989   \n",
       "114         114    308    577.1210      Hg        2   b  2174.0000  2974.3603   \n",
       "115         115    401    577.1210      Hg        2   b  1678.8140  2976.5712   \n",
       "116         116    464    577.1210      Hg        2   b  1290.4508  2981.8383   \n",
       "117         117    525    577.1210      Hg        2   b   913.6972  2989.8636   \n",
       "118         118    587    577.1210      Hg        2   b   529.7231  3001.0391   \n",
       "119         119    650    577.1210      Hg        2   b   137.8344  3015.6834   \n",
       "120         120      2    579.2276      Hg        2   b  4066.3986  3046.0457   \n",
       "121         121     63    579.2276      Hg        2   b  3689.6019  3031.9553   \n",
       "122         122    192    579.2276      Hg        2   b  2895.5356  3012.2964   \n",
       "123         123    255    579.2276      Hg        2   b  2508.1154  3007.4323   \n",
       "124         124    308    579.2276      Hg        2   b  2174.0000  3005.6842   \n",
       "125         125    401    579.2276      Hg        2   b  1678.7928  3007.9011   \n",
       "126         126    464    579.2276      Hg        2   b  1290.4060  3013.1826   \n",
       "127         127    525    579.2276      Hg        2   b   913.6225  3021.2355   \n",
       "128         128    587    579.2276      Hg        2   b   529.6070  3032.4536   \n",
       "129         129    650    579.2276      Hg        2   b   137.6541  3047.1661   \n",
       "\n",
       "     peak  \n",
       "80    1.0  \n",
       "81    1.0  \n",
       "82    1.0  \n",
       "83    1.0  \n",
       "84    1.0  \n",
       "85    1.0  \n",
       "86    1.0  \n",
       "87    1.0  \n",
       "88    1.0  \n",
       "89    1.0  \n",
       "90    2.0  \n",
       "91    2.0  \n",
       "92    2.0  \n",
       "93    2.0  \n",
       "94    2.0  \n",
       "95    2.0  \n",
       "96    2.0  \n",
       "97    2.0  \n",
       "98    2.0  \n",
       "99    2.0  \n",
       "100   3.0  \n",
       "101   3.0  \n",
       "102   3.0  \n",
       "103   3.0  \n",
       "104   3.0  \n",
       "105   3.0  \n",
       "106   3.0  \n",
       "107   3.0  \n",
       "108   3.0  \n",
       "109   3.0  \n",
       "110   4.0  \n",
       "111   4.0  \n",
       "112   4.0  \n",
       "113   4.0  \n",
       "114   4.0  \n",
       "115   4.0  \n",
       "116   4.0  \n",
       "117   4.0  \n",
       "118   4.0  \n",
       "119   4.0  \n",
       "120   5.0  \n",
       "121   5.0  \n",
       "122   5.0  \n",
       "123   5.0  \n",
       "124   5.0  \n",
       "125   5.0  \n",
       "126   5.0  \n",
       "127   5.0  \n",
       "128   5.0  \n",
       "129   5.0  "
      ]
     },
     "execution_count": 98,
     "metadata": {},
     "output_type": "execute_result"
    }
   ],
   "source": [
    "selected_peaks"
   ]
  },
  {
   "cell_type": "code",
   "execution_count": 97,
   "metadata": {},
   "outputs": [],
   "source": [
    "for (fiber),a in selected_peaks.sort_values(\"X\").groupby([\"fiber\"]):\n",
    "    l = len(selected_peaks[(selected_peaks.fiber == fiber)])\n",
    "#    print(l)\n",
    "    selected_peaks.loc[selected_peaks.fiber == fiber, \"peak\"] = np.arange(1,l+1)"
   ]
  },
  {
   "cell_type": "code",
   "execution_count": null,
   "metadata": {},
   "outputs": [],
   "source": []
  },
  {
   "cell_type": "code",
   "execution_count": null,
   "metadata": {},
   "outputs": [],
   "source": []
  },
  {
   "cell_type": "code",
   "execution_count": 95,
   "metadata": {},
   "outputs": [],
   "source": [
    "for (X,Y), group in selected_peaks.groupby([\"X\",\"Y\"]):\n",
    "    canvas.add('circle',float(X),float(Y), radius=10, color='red')\n",
    "        "
   ]
  },
  {
   "cell_type": "code",
   "execution_count": null,
   "metadata": {},
   "outputs": [],
   "source": [
    "\n",
    "        "
   ]
  },
  {
   "cell_type": "code",
   "execution_count": null,
   "metadata": {},
   "outputs": [],
   "source": []
  },
  {
   "cell_type": "raw",
   "metadata": {},
   "source": [
    "#canvas = viewer.canvas('Peak')\n",
    "canvas = viewer.canvas('R1_DETREND')"
   ]
  },
  {
   "cell_type": "code",
   "execution_count": null,
   "metadata": {},
   "outputs": [],
   "source": [
    "canvas.clear()"
   ]
  },
  {
   "cell_type": "raw",
   "metadata": {},
   "source": [
    "#peaklist = \"/home/pfs/dev/ait-notebook/optical/input/peaks_SM1_B1_Mar2019.csv\"\n",
    "#peaklist = \"/home/pfs/dev/ait-notebook/optical/input/SM1_Blue_A_hgar_Exp759.csv\"\n",
    "#peaklist = \"/home/pfs/dev/ait-notebook/optical/input/SM1_Red_M_hgar_Exp606.csv\"\n",
    "peaklist = \"/home/pfs/dev/ait-notebook/optical/input/SM1_r1_M_hgar_Exp892.csv\"\n",
    "\n",
    "\n",
    "peak = pd.read_csv(peaklist)"
   ]
  },
  {
   "cell_type": "raw",
   "metadata": {},
   "source": [
    "for (X,Y), group in peak.groupby([\"X\",\"Y\"]):\n",
    "    canvas.add('circle',float(X),float(Y), radius=30, color='red')\n",
    "        "
   ]
  },
  {
   "cell_type": "code",
   "execution_count": 37,
   "metadata": {},
   "outputs": [],
   "source": [
    "delta_px = +48\n",
    "delta_py = +32"
   ]
  },
  {
   "cell_type": "code",
   "execution_count": null,
   "metadata": {},
   "outputs": [],
   "source": [
    "#Neon\n",
    "delta_px = +45\n",
    "delta_py = +28"
   ]
  },
  {
   "cell_type": "code",
   "execution_count": null,
   "metadata": {},
   "outputs": [],
   "source": [
    "#R2 HgAr\n",
    "delta_px = +41\n",
    "delta_py = +17"
   ]
  },
  {
   "cell_type": "code",
   "execution_count": 38,
   "metadata": {},
   "outputs": [],
   "source": [
    "new_peaks = selected_peaks\n",
    "new_peaks[\"X\"] = new_peaks.apply(lambda x : x[\"X\"] + delta_px, axis=1)\n",
    "new_peaks[\"Y\"] = new_peaks.apply(lambda x : x[\"Y\"] + delta_py, axis=1)"
   ]
  },
  {
   "cell_type": "code",
   "execution_count": 75,
   "metadata": {},
   "outputs": [],
   "source": [
    "new_peaks = peaks\n",
    "new_peaks[\"X\"] = new_peaks.apply(lambda x : x[\"X\"] + delta_px, axis=1)\n",
    "new_peaks[\"Y\"] = new_peaks.apply(lambda x : x[\"Y\"] + delta_py, axis=1)"
   ]
  },
  {
   "cell_type": "code",
   "execution_count": 39,
   "metadata": {},
   "outputs": [],
   "source": [
    "for (X,Y), group in new_peaks.groupby([\"X\",\"Y\"]):\n",
    "    canvas.add('circle',float(X),float(Y), radius=30, color='orange')\n",
    "        "
   ]
  },
  {
   "cell_type": "code",
   "execution_count": 40,
   "metadata": {},
   "outputs": [
    {
     "name": "stdout",
     "output_type": "stream",
     "text": [
      "[  2  63 192 255 339 401 464 525 587 650]\n"
     ]
    }
   ],
   "source": [
    "fibers = new_peaks.fiber.unique()\n",
    "print(fibers)"
   ]
  },
  {
   "cell_type": "code",
   "execution_count": 76,
   "metadata": {},
   "outputs": [
    {
     "name": "stderr",
     "output_type": "stream",
     "text": [
      "/software/drp/python/miniconda3-4.5.12/envs/lsst-scipipe-1172c30/lib/python3.7/site-packages/ipykernel_launcher.py:1: SettingWithCopyWarning: \n",
      "A value is trying to be set on a copy of a slice from a DataFrame.\n",
      "Try using .loc[row_indexer,col_indexer] = value instead\n",
      "\n",
      "See the caveats in the documentation: https://pandas.pydata.org/pandas-docs/stable/user_guide/indexing.html#returning-a-view-versus-a-copy\n",
      "  \"\"\"Entry point for launching an IPython kernel.\n"
     ]
    }
   ],
   "source": [
    "new_peaks.loc[new_peaks[\"fiber\"] == 339][\"fiber\"] = 308"
   ]
  },
  {
   "cell_type": "code",
   "execution_count": 77,
   "metadata": {},
   "outputs": [],
   "source": [
    "new_peaks.loc[new_peaks[\"fiber\"] == 339, [\"fiber\"]] = 308"
   ]
  },
  {
   "cell_type": "code",
   "execution_count": 78,
   "metadata": {},
   "outputs": [],
   "source": [
    "new_peaks.loc[new_peaks[\"fiber\"] == 308, [\"X\"]] = 2174"
   ]
  },
  {
   "cell_type": "code",
   "execution_count": 80,
   "metadata": {},
   "outputs": [],
   "source": [
    "selected_peaks = new_peaks[new_peaks.arm == arm]\n",
    "for (X,Y), group in selected_peaks.groupby([\"X\",\"Y\"]):\n",
    "    canvas.add('circle',float(X),float(Y), radius=20, color='orange')"
   ]
  },
  {
   "cell_type": "code",
   "execution_count": null,
   "metadata": {},
   "outputs": [],
   "source": []
  },
  {
   "cell_type": "code",
   "execution_count": null,
   "metadata": {},
   "outputs": [],
   "source": [
    "del_fiber = fibers[8]\n",
    "print(del_fiber)"
   ]
  },
  {
   "cell_type": "code",
   "execution_count": null,
   "metadata": {},
   "outputs": [],
   "source": [
    "new_peaks = new_peaks[new_peaks.fiber != del_fiber]"
   ]
  },
  {
   "cell_type": "code",
   "execution_count": null,
   "metadata": {},
   "outputs": [],
   "source": [
    "new_peaks.fiber.unique()"
   ]
  },
  {
   "cell_type": "code",
   "execution_count": 79,
   "metadata": {},
   "outputs": [],
   "source": [
    "for (X,Y), group in new_peaks.groupby([\"X\",\"Y\"]):\n",
    "    canvas.add('circle',float(X),float(Y), radius=30, color='blue')\n",
    "        "
   ]
  },
  {
   "cell_type": "code",
   "execution_count": null,
   "metadata": {},
   "outputs": [],
   "source": [
    "waves = new_peaks.wavelength.unique()\n",
    "print(waves)"
   ]
  },
  {
   "cell_type": "code",
   "execution_count": null,
   "metadata": {},
   "outputs": [],
   "source": [
    "del_wave = waves[3]\n",
    "print(del_wave)"
   ]
  },
  {
   "cell_type": "code",
   "execution_count": null,
   "metadata": {},
   "outputs": [],
   "source": [
    "new_peaks = new_peaks[new_peaks.wavelength != del_wave]"
   ]
  },
  {
   "cell_type": "code",
   "execution_count": null,
   "metadata": {},
   "outputs": [],
   "source": [
    "keep_wave = waves[-1]\n",
    "print(keep_wave)"
   ]
  },
  {
   "cell_type": "code",
   "execution_count": null,
   "metadata": {},
   "outputs": [],
   "source": [
    "new_peaks = new_peaks[new_peaks.wavelength == keep_wave]"
   ]
  },
  {
   "cell_type": "code",
   "execution_count": null,
   "metadata": {},
   "outputs": [],
   "source": [
    "canvas.clear()"
   ]
  },
  {
   "cell_type": "code",
   "execution_count": null,
   "metadata": {},
   "outputs": [],
   "source": [
    "for (X,Y), group in new_peaks.groupby([\"X\",\"Y\"]):\n",
    "    canvas.add('circle',float(X),float(Y), radius=30, color='lightblue')\n",
    "        "
   ]
  },
  {
   "cell_type": "code",
   "execution_count": null,
   "metadata": {},
   "outputs": [],
   "source": [
    "new_peaks.loc[(new_peaks.fiber == 339), 'fiber'] = 315"
   ]
  },
  {
   "cell_type": "code",
   "execution_count": null,
   "metadata": {},
   "outputs": [],
   "source": []
  },
  {
   "cell_type": "code",
   "execution_count": null,
   "metadata": {},
   "outputs": [],
   "source": [
    "new_peaks.loc[(new_peaks.fiber == 315), 'X'] = 2178"
   ]
  },
  {
   "cell_type": "code",
   "execution_count": null,
   "metadata": {},
   "outputs": [],
   "source": [
    "new_peaks.to_csv(\"Imqual_LAM_peaklist_DEBUG_HgAr_R2_Dec2020.csv\")"
   ]
  },
  {
   "cell_type": "code",
   "execution_count": 81,
   "metadata": {},
   "outputs": [],
   "source": [
    "new_peaks.to_csv(\"../SM2-defocus/Imqual_LAM_peaklist_DCB2-notfinal.csv\")"
   ]
  },
  {
   "cell_type": "code",
   "execution_count": 104,
   "metadata": {},
   "outputs": [],
   "source": [
    "new_peaks = pd.read_csv(peaklist)"
   ]
  },
  {
   "cell_type": "code",
   "execution_count": 107,
   "metadata": {},
   "outputs": [
    {
     "data": {
      "text/html": [
       "<div>\n",
       "<style scoped>\n",
       "    .dataframe tbody tr th:only-of-type {\n",
       "        vertical-align: middle;\n",
       "    }\n",
       "\n",
       "    .dataframe tbody tr th {\n",
       "        vertical-align: top;\n",
       "    }\n",
       "\n",
       "    .dataframe thead th {\n",
       "        text-align: right;\n",
       "    }\n",
       "</style>\n",
       "<table border=\"1\" class=\"dataframe\">\n",
       "  <thead>\n",
       "    <tr style=\"text-align: right;\">\n",
       "      <th></th>\n",
       "      <th>Unnamed: 0</th>\n",
       "      <th>fiber</th>\n",
       "      <th>wavelength</th>\n",
       "      <th>element</th>\n",
       "      <th>exptime</th>\n",
       "      <th>arm</th>\n",
       "      <th>X</th>\n",
       "      <th>Y</th>\n",
       "      <th>peak</th>\n",
       "    </tr>\n",
       "  </thead>\n",
       "  <tbody>\n",
       "    <tr>\n",
       "      <th>0</th>\n",
       "      <td>0</td>\n",
       "      <td>2</td>\n",
       "      <td>585.4110</td>\n",
       "      <td>Ne</td>\n",
       "      <td>2</td>\n",
       "      <td>b</td>\n",
       "      <td>4066.7559</td>\n",
       "      <td>3138.6487</td>\n",
       "      <td>1.0</td>\n",
       "    </tr>\n",
       "    <tr>\n",
       "      <th>1</th>\n",
       "      <td>1</td>\n",
       "      <td>63</td>\n",
       "      <td>585.4110</td>\n",
       "      <td>Ne</td>\n",
       "      <td>2</td>\n",
       "      <td>b</td>\n",
       "      <td>3689.8413</td>\n",
       "      <td>3124.3406</td>\n",
       "      <td>1.0</td>\n",
       "    </tr>\n",
       "    <tr>\n",
       "      <th>2</th>\n",
       "      <td>2</td>\n",
       "      <td>192</td>\n",
       "      <td>585.4110</td>\n",
       "      <td>Ne</td>\n",
       "      <td>2</td>\n",
       "      <td>b</td>\n",
       "      <td>2895.6566</td>\n",
       "      <td>3104.4308</td>\n",
       "      <td>1.0</td>\n",
       "    </tr>\n",
       "    <tr>\n",
       "      <th>3</th>\n",
       "      <td>3</td>\n",
       "      <td>255</td>\n",
       "      <td>585.4110</td>\n",
       "      <td>Ne</td>\n",
       "      <td>2</td>\n",
       "      <td>b</td>\n",
       "      <td>2508.1881</td>\n",
       "      <td>3099.5100</td>\n",
       "      <td>1.0</td>\n",
       "    </tr>\n",
       "    <tr>\n",
       "      <th>4</th>\n",
       "      <td>4</td>\n",
       "      <td>308</td>\n",
       "      <td>585.4110</td>\n",
       "      <td>Ne</td>\n",
       "      <td>2</td>\n",
       "      <td>b</td>\n",
       "      <td>2174.0000</td>\n",
       "      <td>3097.7355</td>\n",
       "      <td>1.0</td>\n",
       "    </tr>\n",
       "    <tr>\n",
       "      <th>...</th>\n",
       "      <td>...</td>\n",
       "      <td>...</td>\n",
       "      <td>...</td>\n",
       "      <td>...</td>\n",
       "      <td>...</td>\n",
       "      <td>...</td>\n",
       "      <td>...</td>\n",
       "      <td>...</td>\n",
       "      <td>...</td>\n",
       "    </tr>\n",
       "    <tr>\n",
       "      <th>365</th>\n",
       "      <td>365</td>\n",
       "      <td>401</td>\n",
       "      <td>867.0325</td>\n",
       "      <td>Ar</td>\n",
       "      <td>30</td>\n",
       "      <td>m</td>\n",
       "      <td>1676.0183</td>\n",
       "      <td>3546.0329</td>\n",
       "      <td>37.0</td>\n",
       "    </tr>\n",
       "    <tr>\n",
       "      <th>366</th>\n",
       "      <td>366</td>\n",
       "      <td>464</td>\n",
       "      <td>867.0325</td>\n",
       "      <td>Ar</td>\n",
       "      <td>30</td>\n",
       "      <td>m</td>\n",
       "      <td>1287.3728</td>\n",
       "      <td>3549.6807</td>\n",
       "      <td>37.0</td>\n",
       "    </tr>\n",
       "    <tr>\n",
       "      <th>367</th>\n",
       "      <td>367</td>\n",
       "      <td>525</td>\n",
       "      <td>867.0325</td>\n",
       "      <td>Ar</td>\n",
       "      <td>30</td>\n",
       "      <td>m</td>\n",
       "      <td>910.2129</td>\n",
       "      <td>3555.6873</td>\n",
       "      <td>37.0</td>\n",
       "    </tr>\n",
       "    <tr>\n",
       "      <th>368</th>\n",
       "      <td>368</td>\n",
       "      <td>587</td>\n",
       "      <td>867.0325</td>\n",
       "      <td>Ar</td>\n",
       "      <td>30</td>\n",
       "      <td>m</td>\n",
       "      <td>525.6300</td>\n",
       "      <td>3564.7368</td>\n",
       "      <td>37.0</td>\n",
       "    </tr>\n",
       "    <tr>\n",
       "      <th>369</th>\n",
       "      <td>369</td>\n",
       "      <td>650</td>\n",
       "      <td>867.0325</td>\n",
       "      <td>Ar</td>\n",
       "      <td>30</td>\n",
       "      <td>m</td>\n",
       "      <td>132.7545</td>\n",
       "      <td>3576.8074</td>\n",
       "      <td>37.0</td>\n",
       "    </tr>\n",
       "  </tbody>\n",
       "</table>\n",
       "<p>370 rows × 9 columns</p>\n",
       "</div>"
      ],
      "text/plain": [
       "     Unnamed: 0  fiber  wavelength element  exptime arm          X          Y  \\\n",
       "0             0      2    585.4110      Ne        2   b  4066.7559  3138.6487   \n",
       "1             1     63    585.4110      Ne        2   b  3689.8413  3124.3406   \n",
       "2             2    192    585.4110      Ne        2   b  2895.6566  3104.4308   \n",
       "3             3    255    585.4110      Ne        2   b  2508.1881  3099.5100   \n",
       "4             4    308    585.4110      Ne        2   b  2174.0000  3097.7355   \n",
       "..          ...    ...         ...     ...      ...  ..        ...        ...   \n",
       "365         365    401    867.0325      Ar       30   m  1676.0183  3546.0329   \n",
       "366         366    464    867.0325      Ar       30   m  1287.3728  3549.6807   \n",
       "367         367    525    867.0325      Ar       30   m   910.2129  3555.6873   \n",
       "368         368    587    867.0325      Ar       30   m   525.6300  3564.7368   \n",
       "369         369    650    867.0325      Ar       30   m   132.7545  3576.8074   \n",
       "\n",
       "     peak  \n",
       "0     1.0  \n",
       "1     1.0  \n",
       "2     1.0  \n",
       "3     1.0  \n",
       "4     1.0  \n",
       "..    ...  \n",
       "365  37.0  \n",
       "366  37.0  \n",
       "367  37.0  \n",
       "368  37.0  \n",
       "369  37.0  \n",
       "\n",
       "[370 rows x 9 columns]"
      ]
     },
     "execution_count": 107,
     "metadata": {},
     "output_type": "execute_result"
    }
   ],
   "source": [
    "new_peaks"
   ]
  },
  {
   "cell_type": "code",
   "execution_count": 106,
   "metadata": {},
   "outputs": [
    {
     "name": "stdout",
     "output_type": "stream",
     "text": [
      "37\n",
      "37\n",
      "37\n",
      "37\n",
      "37\n",
      "37\n",
      "37\n",
      "37\n",
      "37\n",
      "37\n"
     ]
    }
   ],
   "source": [
    "for (fiber),a in new_peaks.sort_values(\"X\").groupby([\"fiber\"]):\n",
    "    l = len(new_peaks[(new_peaks.fiber == fiber)])\n",
    "    print(l)\n",
    "    new_peaks.loc[new_peaks.fiber == fiber, \"peak\"] = np.arange(1,l+1)"
   ]
  },
  {
   "cell_type": "code",
   "execution_count": 108,
   "metadata": {},
   "outputs": [
    {
     "data": {
      "text/plain": [
       "<pandas.core.groupby.generic.DataFrameGroupBy object at 0x7f21a6c14ba8>"
      ]
     },
     "execution_count": 108,
     "metadata": {},
     "output_type": "execute_result"
    }
   ],
   "source": [
    "new_peaks.sort_values(\"X\").groupby([\"fiber\"])"
   ]
  },
  {
   "cell_type": "code",
   "execution_count": null,
   "metadata": {},
   "outputs": [],
   "source": [
    "new_peaks = peaks\n",
    "new_peaks[\"X\"] = new_peaks.apply(lambda x : x[\"X\"] + delta_px, axis=1)\n",
    "new_peaks[\"Y\"] = new_peaks.apply(lambda x : x[\"Y\"] + delta_py, axis=1)"
   ]
  },
  {
   "cell_type": "code",
   "execution_count": null,
   "metadata": {},
   "outputs": [],
   "source": [
    "new_peaks.to_csv(\"Imqual_LAM_peaklist_DEBUG_B2_Dec2020.csv\")"
   ]
  },
  {
   "cell_type": "code",
   "execution_count": null,
   "metadata": {},
   "outputs": [],
   "source": []
  },
  {
   "cell_type": "code",
   "execution_count": null,
   "metadata": {},
   "outputs": [],
   "source": [
    "hgar = pd.read_csv(\"Imqual_LAM_peaklist_DEBUG_HgAr_3peaks_B2_Dec2020.csv\")\n",
    "neon = pd.read_csv(\"Imqual_LAM_peaklist_DEBUG_Neon_3peaks_B2_Dec2020.csv\")"
   ]
  },
  {
   "cell_type": "code",
   "execution_count": null,
   "metadata": {},
   "outputs": [],
   "source": [
    "peaklist_debugb2 = pd.concat([hgar,neon])"
   ]
  },
  {
   "cell_type": "code",
   "execution_count": null,
   "metadata": {},
   "outputs": [],
   "source": [
    "peaklist_debugb2"
   ]
  },
  {
   "cell_type": "code",
   "execution_count": null,
   "metadata": {},
   "outputs": [],
   "source": [
    "peaklist_debugb2.drop(columns=\"Unnamed: 0\", axis=1, inplace=True)"
   ]
  },
  {
   "cell_type": "code",
   "execution_count": null,
   "metadata": {},
   "outputs": [],
   "source": [
    "peaklist_debugb2.to_csv(\"Imqual_LAM_peaklist_DEBUG_B2_9peaks_Dec2020.csv\")"
   ]
  },
  {
   "cell_type": "code",
   "execution_count": null,
   "metadata": {},
   "outputs": [],
   "source": []
  },
  {
   "cell_type": "code",
   "execution_count": null,
   "metadata": {},
   "outputs": [],
   "source": [
    "shell.add_channel('flat')"
   ]
  },
  {
   "cell_type": "code",
   "execution_count": null,
   "metadata": {},
   "outputs": [],
   "source": [
    "experimentId = 705\n",
    "filelist = constructFilelist(experimentId, rerun='ginga')\n",
    "filepath = filelist.filepath[0]"
   ]
  },
  {
   "cell_type": "code",
   "execution_count": null,
   "metadata": {},
   "outputs": [],
   "source": [
    "from astropy.io import fits\n",
    "hdulist = fits.open(filepath, \"readonly\")\n",
    "ch.load_hdu(\"r\", hdulist, 1)"
   ]
  },
  {
   "cell_type": "code",
   "execution_count": null,
   "metadata": {},
   "outputs": [],
   "source": [
    "peaklist = \"/home/pfs/dev/ait-notebook/optical/input/hgar_peaks_exptime_dec2017.csv\"\n"
   ]
  },
  {
   "cell_type": "code",
   "execution_count": null,
   "metadata": {},
   "outputs": [],
   "source": [
    "peak = pd.read_csv(peaklist)"
   ]
  },
  {
   "cell_type": "code",
   "execution_count": null,
   "metadata": {},
   "outputs": [],
   "source": [
    "canvas = ch.add_canvas()\n"
   ]
  },
  {
   "cell_type": "code",
   "execution_count": null,
   "metadata": {},
   "outputs": [],
   "source": [
    "# Draw circles around all objects\n",
    "Circle = canvas.get_draw_class('circle')\n",
    "for (X,Y), group in peak.groupby([\"X\",\"Y\"]):\n",
    "#    x, y = x1+obj.objx, y1+obj.objy\n",
    "    x = X\n",
    "    y = Y\n",
    "\n",
    "    canvas.add(Circle(x, y, radius=10, color='yellow'))"
   ]
  }
 ],
 "metadata": {
  "kernelspec": {
   "display_name": "Python 3",
   "language": "python",
   "name": "python3"
  },
  "language_info": {
   "codemirror_mode": {
    "name": "ipython",
    "version": 3
   },
   "file_extension": ".py",
   "mimetype": "text/x-python",
   "name": "python",
   "nbconvert_exporter": "python",
   "pygments_lexer": "ipython3",
   "version": "3.7.2"
  }
 },
 "nbformat": 4,
 "nbformat_minor": 4
}
