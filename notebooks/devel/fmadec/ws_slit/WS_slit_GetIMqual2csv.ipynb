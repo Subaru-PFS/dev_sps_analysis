{
 "cells": [
  {
   "cell_type": "code",
   "execution_count": 1,
   "metadata": {},
   "outputs": [],
   "source": [
    "import getopt\n",
    "import sys\n",
    "import pandas as pd\n",
    "from pfs.lam.detAnalysis import *\n",
    "import time\n",
    "import numpy as np"
   ]
  },
  {
   "cell_type": "code",
   "execution_count": 2,
   "metadata": {},
   "outputs": [],
   "source": [
    "from pfs.lam.opdb import *\n"
   ]
  },
  {
   "cell_type": "code",
   "execution_count": 3,
   "metadata": {},
   "outputs": [],
   "source": [
    "from pfs.lam.fileHandling import *\n",
    "from pfs.lam.detFocusAnalysis import *\n",
    "\n",
    "\n",
    "import os\n",
    "import lsst.daf.persistence as dafPersist\n",
    "import re\n",
    "from astropy.modeling import models, fitting\n",
    "from astropy.stats import gaussian_sigma_to_fwhm"
   ]
  },
  {
   "cell_type": "code",
   "execution_count": 4,
   "metadata": {},
   "outputs": [],
   "source": [
    "def VisitImageQualityToCsv(visit, \\\n",
    "                           peak_list, roi_size, com=True, doBck=True, EE=[3,5], doFit=True, doLSF=False,\\\n",
    "                           cam=None, repo=\"cluster\",rerun=\"sm1-dither\", cluster=False, doPlot=False,\\\n",
    "                           doSep=False, mask_size=50, threshold= 50, subpix = 5 , maxPeakDist=80,\\\n",
    "                           maxPeakFlux=40000, minPeakFlux=2000,\\\n",
    "                          csv_path = \"\", drpImage=None, experimentId = None, doPrint=False):\n",
    "    if drpImage is None:\n",
    "        experimentId = Logbook.visitExperimentId(visit=visit)\n",
    "        \n",
    "        doRaise = True\n",
    "        try:\n",
    "            filepath, date = getvisitfilepath(visit, rerun, None, cam, repo, cluster=cluster)\n",
    "            visitfilepath = filepath\n",
    "        except IOError:\n",
    "            if doRaise:\n",
    "                raise\n",
    "    else :\n",
    "        filepath = drpImage[0]\n",
    "        visitfilepath = drpImage[1]\n",
    "        visit = drpImage[2]\n",
    "        try:\n",
    "            #experimentId = Logbook.visitExperimentId(visit=visit)\n",
    "            experimentId = get_Visit_Set_Id(visit)\n",
    "        except:\n",
    "            experimentId = np.nan\n",
    "            print(\"Unable to get experimentId from logbook\")\n",
    "\n",
    "    data = getImageQuality(filepath, peak_list, roi_size=roi_size, EE=EE, com=com, doPlot=doPlot, doBck=doBck, doFit=doFit, doLSF=doLSF)\n",
    "    if doSep:\n",
    "        dsep = getImageEncerclEnergy(filepath, peak_list, roi_size=roi_size, EE=EE,\\\n",
    "        mask_size=mask_size, threshold= threshold, subpix = subpix ,\\\n",
    "        maxPeakDist=maxPeakDist, maxPeakFlux=maxPeakFlux, minPeakFlux=minPeakFlux,\\\n",
    "        doPlot=doPlot, doBck=doBck)\n",
    "        dsep = dsep.add_prefix(\"sep_\")\n",
    "        dsep = dsep.rename(columns={'sep_peak': 'peak','sep_fiber': 'fiber'})\n",
    "        data = data.merge(dsep, on=[\"peak\",\"fiber\"]) \n",
    "    __, fname = os.path.split(visitfilepath)\n",
    "\n",
    "    data[\"filename\"] = fname\n",
    "    data[\"visit\"] = visit\n",
    "\n",
    "#    data[\"peaklist\"] = peak_list        \n",
    "\n",
    "#    data[\"motor1\"] = np.float(getFitsKey(visitfilepath, 'W_XCU_MOTOR1_MICRONS'))\n",
    "#    data[\"motor2\"] = np.float(getFitsKey(visitfilepath, 'W_XCU_MOTOR2_MICRONS'))\n",
    "#    data[\"motor3\"] = np.float(getFitsKey(visitfilepath, 'W_XCU_MOTOR3_MICRONS'))\n",
    "    data[\"xm1pos\"] = np.float(getFitsKey(visitfilepath, 'W_XM1POS'))\n",
    "    data[\"xm2pos\"] = np.float(getFitsKey(visitfilepath, 'W_XM2POS'))\n",
    "    data[\"xm3pos\"] = np.float(getFitsKey(visitfilepath, 'W_XM3POS'))\n",
    "    data[\"motor1\"] = data[\"xm1pos\"] \n",
    "    data[\"motor2\"] = data[\"xm2pos\"]\n",
    "    data[\"motor3\"] = data[\"xm3pos\"]   \n",
    "    \n",
    "    \n",
    "    fcax = np.float(getFitsKey(visitfilepath, 'W_ENFCAX', doRaise=False))\n",
    "    fcay = np.float(getFitsKey(visitfilepath, 'W_ENFCAY', doRaise=False))\n",
    "    fcaz = np.float(getFitsKey(visitfilepath, 'W_ENFCAZ', doRaise=False))\n",
    "\n",
    "    # OneChannel back compatiblity\n",
    "    fcax = np.float(getFitsKey(visitfilepath, 'HIERARCH W_FCA_FOCUS', doRaise=False)) if np.isnan(fcax) else fcax\n",
    "    data['fcaFocus'] = np.nan #cax\n",
    "    data['fcaY'] = np.nan #fcay\n",
    "    data['fcaZ'] = np.nan #fcaz\n",
    "\n",
    "#    feeTemp = np.float(getFitsKey(visitfilepath, 'temps.FEE'))\n",
    "#    feeTemp = np.float(getFitsKey(visitfilepath, 'HIERARCH temps.FEE', doRaise=False)) if np.isnan(feeTemp) else feeTemp\n",
    "\n",
    "#    data['feeTemp'] = feeTemp\n",
    "#    ccdTemp = np.float(getFitsKey(visitfilepath, 'temps.CCD0'))\n",
    "#    ccdTemp = np.float(getFitsKey(visitfilepath, 'HIERARCH temps.CCD0', doRaise=False)) if np.isnan(ccdTemp) else ccdTemp\n",
    "#    data['ccdTemp'] = ccdTemp\n",
    "    ccdTemp = np.float(getFitsKey(visitfilepath, 'W_XTDET1', doRaise=False))\n",
    "    data['ccdTemp'] = ccdTemp\n",
    "    detBoxTemp = np.float(getFitsKey(visitfilepath, 'W_XTDBOX', doRaise=False))\n",
    "    data['detBoxTemp'] = detBoxTemp\n",
    "\n",
    "    data['cam'] = cam\n",
    "    data['obsdate'] = getFitsKey(visitfilepath, 'DATE-AVG')\n",
    "    data['experimentId'] = experimentId\n",
    "\n",
    "    now = datetime.now() # current date and time\\n\",\n",
    "    date_time = now.strftime(\"%Y%m%dT%Hh%M\")\n",
    "\n",
    "    csvName = f\"Imquality_{cam}_Exp{experimentId}_{visit}_{date_time}.csv\"\n",
    "    if not os.path.exists(csv_path):\n",
    "        os.makedirs(csv_path)\n",
    "    data.to_csv(csv_path+csvName)\n",
    "    if doPrint:\n",
    "        print(csv_path+csvName)\n",
    "\n",
    "    return data"
   ]
  },
  {
   "cell_type": "raw",
   "metadata": {},
   "source": [
    "def plotRoiPeak(image, peak_list, roi_size=20, raw=False, scale=True, verbose=False, savePlotFile=False):\n",
    "    if type(image) is str:     \n",
    "        hdulist = fits.open(image, \"readonly\")\n",
    "        image = hdulist[1].data\n",
    "    \n",
    "    plist = pd.read_csv(peak_list) if type(peak_list) is str else peak_list\n",
    "\n",
    "#    plist = plist.sort_values([\"X\",\"Y\"], ascending=[True,False])\n",
    "    \n",
    "    nbfiber = len(plist.fiber.unique())\n",
    "    nbwave = len(plist.wavelength.unique())\n",
    "    # have a list of fiber from 0 to nbfiber\n",
    "    listwavestoplot = pd.DataFrame(plist.wavelength.unique(), columns=[\"wavelength\"])\n",
    "\n",
    "    listfiberstoplot = pd.DataFrame(plist.fiber.unique(), columns=[\"fiber\"])\n",
    "    \n",
    "    print(\"#Fiber= %d and #wavelength= %d\"%(nbfiber, nbwave))\n",
    "    f, axarr = plt.subplots(nbwave, nbfiber,  sharex='col', sharey='row',figsize=(12,8))\n",
    "#    print(axarr.shape)\n",
    "    vmin=None\n",
    "    vmax=None\n",
    "    \n",
    "    for (wave, fiber), group in plist.groupby(['wavelength','fiber']):\n",
    "        k = listwavestoplot[listwavestoplot.wavelength == wave].index.tolist()[0]\n",
    "        i = listfiberstoplot[listfiberstoplot.fiber == fiber].index.tolist()[0]\n",
    "        if verbose:\n",
    "            print(k,i)\n",
    "            print(f\"px {group['px']}    py: {group['py']}\")\n",
    "        #cut_data = image[int(indx-roi_size/2):int(indx+roi_size/2), int(indy-roi_size/2):int(indy+roi_size/2)]\n",
    "        cut_data = selectRoi(image, group[\"px\"], group[\"py\"], roi_size=roi_size)\n",
    "        if nbwave == 1 and nbfiber == 1:\n",
    "            axarr.set_title(f\"{str(fiber)}, {str(wave)}\")\n",
    "            axarr.imshow(cut_data,interpolation=\"none\", origin=\"lower\", vmin=vmin, vmax=vmax)\n",
    "        else:\n",
    "            #axarr[nbwave -1 -k, nbfiber - i -1].set_title(f\"{fiber}, {wave:.2f}\")\n",
    "            #axarr[nbwave -1 -k, nbfiber - i -1].label_outer()\n",
    "            axarr[nbwave -1 -k, nbfiber - i -1].imshow(cut_data,interpolation=\"none\", origin=\"lower\", vmin=vmin, vmax=vmax)\n",
    "#            axarr[nbwave -1 -k, nbfiber - i -1].set_ylabel(f\"{wave:.2f}\")\n",
    "#            axarr[nbwave -1 -k, nbfiber - i -1].set_xlabel(fiber)\n",
    "            axarr[nbwave -1 -k, nbfiber - i -1].grid(False)\n",
    "\n",
    "                \n",
    "    f.subplots_adjust(hspace=0.5,wspace=0.5)\n",
    "\n",
    "    for ax, wave in zip(axarr[:,0], listwavestoplot.sort_index(ascending=False).wavelength.values) :\n",
    "            ax.set_ylabel(f\"{wave:.2f}\", rotation='horizontal', ha='right', fontsize=20)\n",
    "#            ax.set_xlabel(ax.get_xlabel(), rotation='vertical', fontsize=20)\n",
    "            ax.set_yticklabels('')\n",
    "            ax.set_xticklabels('')\n",
    "            ax.set_frame_on(False)\n",
    "    for ax, fiber in zip(axarr[-1,:], listfiberstoplot.sort_index(ascending=False).fiber.values):\n",
    "#            ax.set_ylabel(ax.get_ylabel(), rotation='horizontal', ha='right', fontsize=20)\n",
    "            ax.set_xlabel(fiber, rotation='vertical', fontsize=20)\n",
    "            ax.set_yticklabels('')\n",
    "            ax.set_xticklabels('')\n",
    "            ax.set_frame_on(False)\n",
    "\n",
    "    plt.gcf().set_facecolor('w')\n",
    "    if doSave:\n",
    "        fig.patch.set_alpha(0.5)\n",
    "        plt.savefig(savePlotFile+f\"_roi_all.png\")\n",
    "                  \n",
    "    plt.show()\n"
   ]
  },
  {
   "cell_type": "code",
   "execution_count": null,
   "metadata": {},
   "outputs": [],
   "source": []
  },
  {
   "cell_type": "raw",
   "metadata": {
    "lines_to_next_cell": 0
   },
   "source": [
    "def main(argv):\n",
    "    visit = ''\n",
    "    peak = ''\n",
    "    outpath = ''\n",
    "    try:\n",
    "        opts, args = getopt.getopt(argv,\"hv:p:c:o:r:\",[\"visit=\",\"peak=\", \"cam=\", \"outpath=\", \"rerun=\"])\n",
    "    except getopt.GetoptError:\n",
    "        print('Cluster_GetIMqual.py -v <visit> -p <peakfile> -c <cam> -r <rerun>')\n",
    "        sys.exit(2)\n",
    "    for opt, arg in opts:\n",
    "        if opt == '-h':\n",
    "            print('Cluster_GetIMqual.py -v <visit> -p <peakfile> -c <cam>')\n",
    "            sys.exit()\n",
    "        elif opt in (\"-v\", \"--visit\"):\n",
    "            visit = int(arg)\n",
    "        elif opt in (\"-p\", \"--peak\"):\n",
    "            peaklist = arg\n",
    "        elif opt in (\"-c\", \"--cam\"):\n",
    "            cam = arg\n",
    "        elif opt in (\"-o\", \"--outpath\"):\n",
    "            outpath = arg\n",
    "        elif opt in (\"-r\", \"--rerun\"):\n",
    "            rerun = arg\n",
    "           \n",
    "\n",
    "\n",
    "    outpath = \"output\\\\\" if outpath is None else outpath\n",
    "\n",
    "    # define defaut parameters\n",
    "    roi_size = 24\n",
    "    com = True  # Center Of Mass\n",
    "    doBck = True\n",
    "    head = 0\n",
    "    tail = 0\n",
    "    criteria = 'EE5'\n",
    "    verbose = False\n",
    "    doPrint = False\n",
    "    arm = cam[0]\n",
    "    \n",
    "    drpPath = \"/drp/\"\n",
    "    repo = \"sps\"\n",
    "    basePath = '/drp/fmadec/analysis/sm2/'\n",
    "    extra = ''\n",
    "    \n",
    "    try:\n",
    "#            experimentId = Logbook.visitExperimentId(visit=visit)\n",
    "            experimentId = get_Visit_Set_Id(visit)\n",
    "\n",
    "    except:\n",
    "            experimentId = np.nan\n",
    "            print(\"Unable to get experimentId from logbook\")\n",
    "            \n",
    "    csvPath = basePath+\"Exp\"+str(experimentId)+\"/\"+rerun+\"_roi\"+str(roi_size)+\"/doBck\"+str(doBck)+\"/\"+extra\n",
    "    print(csvPath)\n",
    "    \n",
    "#    peakPath =\"/home/fmadec/dev/ait-notebook/optical/input/\"\n",
    "#    peaklist = peakPath+peaklist\n",
    "#    peaklist = \"/drp/cluster/devel/ait-notebook/fmadec/Subaru/SM1/selectLines/Imqual_LAM_peaklist_2020July.csv\"\n",
    "    peaklist = \"SM2_peak_engineering_20201210.csv\"\n",
    "\n",
    "#   VisitImageQualityToCsv(visit, peaklist, roi_size, cam=cam, \\\n",
    "#                          repo=\"sm1\",rerun=\"ginga\",  cluster=True, \\\n",
    "#                          com=True, doBck=True, EE=[3,5], doFit=True, doLSF=False,\n",
    "#                          csv_path = outpath)\n",
    "\n",
    "    print(f'Start visit {visit} of {cam} with {peaklist}')\n",
    "    print(f\"{drpPath}/{repo}/rerun/{rerun}/detrend/\")\n",
    "    \n",
    "    butler = dafPersist.Butler(f\"{drpPath}/{repo}/rerun/{rerun}/detrend/\")\n",
    "    rbutler = dafPersist.Butler(f\"{drpPath}/{repo}/\")\n",
    "    rbutler.getKeys('raw')\n",
    "    lamps = rbutler.queryMetadata('raw', ['lamps'], visit=visit, arm=arm) \n",
    "    calExp = butler.get(\"calexp\", visit=visit, arm=cam[0])\n",
    "\n",
    "    peaks = pd.read_csv(peaklist)\n",
    "    selected_peaks = peaks[peaks.arm == arm]\n",
    "    selected_peaks = selected_peaks[(selected_peaks.element.str.contains('|'.join(re.findall('[A-Z][^A-Z]*', \"\".join(lamps)))))]\n",
    "    \n",
    "    visit = int(visit)\n",
    "    calExp = butler.get(\"calexp\", visit=visit, arm=cam[0])\n",
    "    calexfilePath = butler.getUri(\"calexp\", visit=visit, arm=cam[0])\n",
    "    if verbose:\n",
    "        print(calexfilePath)\n",
    "    \n",
    "    VisitImageQualityToCsv(visit, selected_peaks, roi_size,\\\n",
    "                           drpImage=[ calExp.image.array, calexfilePath, visit],\\\n",
    "                           com=com, doBck=doBck, EE=[3,5], doFit=True, doLSF=True,\\\n",
    "                           cam=cam, repo=None,rerun=None, cluster=False, doPlot=False,\\\n",
    "                           doSep=True, mask_size=20, threshold= 50, subpix = 5 , maxPeakDist=80,\\\n",
    "                           maxPeakFlux=40000, minPeakFlux=2000,\\\n",
    "                          csv_path = csvPath, experimentId=experimentId, doPrint=verbose)"
   ]
  },
  {
   "cell_type": "code",
   "execution_count": null,
   "metadata": {
    "lines_to_next_cell": 2
   },
   "outputs": [],
   "source": []
  },
  {
   "cell_type": "raw",
   "metadata": {},
   "source": [
    "if __name__ == \"__main__\":\n",
    "    start = time.time()\n",
    "    main(sys.argv[1:])\n",
    "    finish = time.time()\n",
    "    elapsed = finish - start\n",
    "    print(f\"Time elapsed: {elapsed}\")"
   ]
  },
  {
   "cell_type": "code",
   "execution_count": null,
   "metadata": {},
   "outputs": [],
   "source": []
  },
  {
   "cell_type": "code",
   "execution_count": null,
   "metadata": {},
   "outputs": [],
   "source": []
  },
  {
   "cell_type": "code",
   "execution_count": null,
   "metadata": {},
   "outputs": [],
   "source": []
  },
  {
   "cell_type": "code",
   "execution_count": null,
   "metadata": {},
   "outputs": [],
   "source": [
    "experimentId = 124\n",
    "cam = \"b2\"\n",
    "rerun = \"defocus\" #\"dcb2\"\n",
    "\n",
    "peaklist = \"Imqual_LAM_peaklist_DEBUG_Neon_3peaks_B2_Dec2020.csv\"\n"
   ]
  },
  {
   "cell_type": "code",
   "execution_count": null,
   "metadata": {},
   "outputs": [],
   "source": [
    "experimentId = 125\n",
    "cam = \"b2\"\n",
    "rerun = \"defocus\" #\"dcb2\"\n",
    "\n",
    "peaklist = \"../SM2-defocus/Imqual_LAM_peaklist_DCB2-notfinal.csv\""
   ]
  },
  {
   "cell_type": "code",
   "execution_count": null,
   "metadata": {},
   "outputs": [],
   "source": [
    "experimentId = 136\n",
    "cam = \"r2\"\n",
    "rerun = \"defocus\" #\"dcb2\"\n",
    "\n",
    "peaklist = \"Imqual_LAM_peaklist_DEBUG_HgAr_R2_Dec2020.csv\"\n"
   ]
  },
  {
   "cell_type": "code",
   "execution_count": null,
   "metadata": {},
   "outputs": [],
   "source": [
    "experimentId = 152\n",
    "cam = \"r2\"\n",
    "rerun = \"defocus\" #\"dcb2\"\n",
    "\n",
    "peaklist = \"Imqual_LAM_peaklist_DEBUG_HgAr_R2_Dec2020.csv\"\n"
   ]
  },
  {
   "cell_type": "code",
   "execution_count": null,
   "metadata": {},
   "outputs": [],
   "source": [
    "experimentId = 153\n",
    "cam = \"r2\"\n",
    "rerun = \"defocus\" #\"dcb2\"\n",
    "\n",
    "peaklist = \"Imqual_LAM_peaklist_DEBUG_HgAr_R2_Dec2020.csv\"\n"
   ]
  },
  {
   "cell_type": "code",
   "execution_count": null,
   "metadata": {},
   "outputs": [],
   "source": [
    "experimentId = 154\n",
    "cam = \"r2\"\n",
    "rerun = \"defocus\" #\"dcb2\"\n",
    "\n",
    "peaklist = \"Imqual_LAM_peaklist_DEBUG_HgAr_R2_Dec2020.csv\"\n"
   ]
  },
  {
   "cell_type": "code",
   "execution_count": null,
   "metadata": {},
   "outputs": [],
   "source": [
    "experimentId = 156\n",
    "cam = \"b2\"\n",
    "rerun = \"defocus\" #\"dcb2\"\n",
    "\n",
    "peaklist = \"Imqual_LAM_peaklist_DEBUG_Neon_3peaks_B2_Dec2020.csv\"\n"
   ]
  },
  {
   "cell_type": "code",
   "execution_count": null,
   "metadata": {},
   "outputs": [],
   "source": [
    "experimentId = 157\n",
    "cam = \"b2\"\n",
    "rerun = \"defocus\" #\"dcb2\"\n",
    "\n",
    "#peaklist = \"Imqual_LAM_peaklist_DEBUG_B2_9peaks_Dec2020.csv\"\n",
    "peaklist = \"Imqual_LAM_peaklist_DEBUG_HgAr_3peaks_B2_Dec2020.csv\"\n",
    "\n"
   ]
  },
  {
   "cell_type": "code",
   "execution_count": null,
   "metadata": {},
   "outputs": [],
   "source": [
    "experimentId = 171\n",
    "cam = \"b2\"\n",
    "rerun = \"ginga\" #\"defocus\" #\"dcb2\"\n",
    "\n",
    "#peaklist = \"Imqual_LAM_peaklist_DEBUG_B2_9peaks_Dec2020.csv\"\n",
    "peaklist = \"Imqual_LAM_peaklist_DEBUG_B2_Jan2020_WS_slit.csv\"\n",
    "\n"
   ]
  },
  {
   "cell_type": "code",
   "execution_count": null,
   "metadata": {},
   "outputs": [],
   "source": [
    "experimentId = 190\n",
    "cam = \"r3\"\n",
    "rerun = \"ws_slit\" #\"defocus\" #\"dcb2\"\n",
    "\n",
    "#peaklist = \"Imqual_LAM_peaklist_DEBUG_B2_9peaks_Dec2020.csv\"\n",
    "peaklist = \"Imqual_LAM_peaklist_DEBUG_R3_Jan2020_WS_slit_2.csv\"\n",
    "\n"
   ]
  },
  {
   "cell_type": "code",
   "execution_count": null,
   "metadata": {},
   "outputs": [],
   "source": [
    "experimentId = 191\n",
    "cam = \"r3\"\n",
    "rerun = \"ws_slit\" #\"defocus\" #\"dcb2\"\n",
    "\n",
    "#peaklist = \"Imqual_LAM_peaklist_DEBUG_B2_9peaks_Dec2020.csv\"\n",
    "peaklist = \"Imqual_LAM_peaklist_DEBUG_R3_Jan2020_WS_slit_2.csv\"\n",
    "\n"
   ]
  },
  {
   "cell_type": "code",
   "execution_count": null,
   "metadata": {},
   "outputs": [],
   "source": [
    "experimentId = 173\n",
    "cam = \"r2\"\n",
    "rerun = \"ws_slit\" #\"defocus\" #\"dcb2\"\n",
    "\n",
    "#peaklist = \"Imqual_LAM_peaklist_DEBUG_B2_9peaks_Dec2020.csv\"\n",
    "peaklist = \"Imqual_LAM_peaklist_DEBUG_R2_Jan2020_WS_slit.csv\"\n",
    "\n"
   ]
  },
  {
   "cell_type": "code",
   "execution_count": null,
   "metadata": {},
   "outputs": [],
   "source": [
    "experimentId = 202\n",
    "cam = \"b3\"\n",
    "rerun = \"ws_slit\" #\"defocus\" #\"dcb2\"\n",
    "\n",
    "#peaklist = \"Imqual_LAM_peaklist_DEBUG_B2_9peaks_Dec2020.csv\"\n",
    "peaklist = \"Imqual_LAM_peaklist_DEBUG_B3_WS_slit.csv\"\n",
    "\n"
   ]
  },
  {
   "cell_type": "code",
   "execution_count": null,
   "metadata": {},
   "outputs": [],
   "source": [
    "experimentId = 203\n",
    "cam = \"b3\"\n",
    "rerun = \"ws_slit\" #\"defocus\" #\"dcb2\"\n",
    "\n",
    "#peaklist = \"Imqual_LAM_peaklist_DEBUG_B2_9peaks_Dec2020.csv\"\n",
    "peaklist = \"Imqual_LAM_peaklist_DEBUG_B3_WS_slit.csv\"\n",
    "\n"
   ]
  },
  {
   "cell_type": "code",
   "execution_count": 5,
   "metadata": {},
   "outputs": [],
   "source": [
    "experimentId = 204\n",
    "cam = \"b3\"\n",
    "rerun = \"ws_slit\" #\"defocus\" #\"dcb2\"\n",
    "\n",
    "#peaklist = \"Imqual_LAM_peaklist_DEBUG_B2_9peaks_Dec2020.csv\"\n",
    "peaklist = \"Imqual_LAM_peaklist_DEBUG_B3_WS_slit.csv\"\n",
    "\n"
   ]
  },
  {
   "cell_type": "code",
   "execution_count": 6,
   "metadata": {},
   "outputs": [],
   "source": [
    "visitStart, visitEnd = getVisitRange(experimentId)"
   ]
  },
  {
   "cell_type": "code",
   "execution_count": 7,
   "metadata": {},
   "outputs": [
    {
     "name": "stdout",
     "output_type": "stream",
     "text": [
      "24369 24389\n"
     ]
    }
   ],
   "source": [
    "print(visitStart, visitEnd)"
   ]
  },
  {
   "cell_type": "code",
   "execution_count": 8,
   "metadata": {},
   "outputs": [],
   "source": [
    "drpPath = \"/drp\"\n",
    "repo = \"sps\"\n",
    "basePath = '/drp/analysis/sm2/'\n",
    "arm = cam[0]\n"
   ]
  },
  {
   "cell_type": "code",
   "execution_count": 9,
   "metadata": {},
   "outputs": [],
   "source": [
    "visit = int(visitStart)"
   ]
  },
  {
   "cell_type": "code",
   "execution_count": 10,
   "metadata": {},
   "outputs": [
    {
     "name": "stdout",
     "output_type": "stream",
     "text": [
      "/drp/sps/rerun/ws_slit/detrend/\n",
      "lamps used: ['HgAr']\n"
     ]
    }
   ],
   "source": [
    "print(f\"{drpPath}/{repo}/rerun/{rerun}/detrend/\")\n",
    "\n",
    "butler = dafPersist.Butler(f\"{drpPath}/{repo}/rerun/{rerun}/detrend/\")\n",
    "rbutler = dafPersist.Butler(f\"{drpPath}/{repo}/\")\n",
    "rbutler.getKeys('raw')\n",
    "lamps = rbutler.queryMetadata('raw', ['lamps'], visit=visit, arm=arm) \n",
    "print(f\"lamps used: {lamps}\")\n",
    "calExp = butler.get(\"calexp\", visit=visit, arm=cam[0])\n",
    "\n",
    "peaks = pd.read_csv(peaklist)\n",
    "selected_peaks = peaks[peaks.arm == arm]\n",
    "selected_peaks = selected_peaks[(selected_peaks.element.str.contains('|'.join(re.findall('[A-Z][^A-Z]*', \"\".join(lamps)))))]"
   ]
  },
  {
   "cell_type": "code",
   "execution_count": 11,
   "metadata": {},
   "outputs": [
    {
     "name": "stdout",
     "output_type": "stream",
     "text": [
      "#Fiber= 4 and #wavelength= 2\n"
     ]
    },
    {
     "data": {
      "image/png": "[encoded data removed]",
      "text/plain": [
       "<Figure size 864x576 with 8 Axes>"
      ]
     },
     "metadata": {},
     "output_type": "display_data"
    }
   ],
   "source": [
    "plotRoiPeak(calExp.image.array, selected_peaks, raw=True, roi_size=60)"
   ]
  },
  {
   "cell_type": "code",
   "execution_count": null,
   "metadata": {},
   "outputs": [],
   "source": []
  },
  {
   "cell_type": "code",
   "execution_count": null,
   "metadata": {},
   "outputs": [
    {
     "name": "stdout",
     "output_type": "stream",
     "text": [
      "/drp/analysis/sm2/Exp204/ws_slit_roi60/doBckTrue/\n",
      "Start visit 24369 of b3 with Imqual_LAM_peaklist_DEBUG_B3_WS_slit.csv\n",
      "/drp/sps/rerun/ws_slit/detrend/\n",
      "lamps used: ['HgAr']\n",
      "['Hg']\n",
      "/drp/sps/rerun/ws_slit/detrend/calExp/2021-03-08/v024369/calExp-LA024369b3.fits\n",
      "/drp/analysis/sm2/Exp204/ws_slit_roi60/doBckTrue/Imquality_b3_Exp204_24369_20210309T01h09.csv\n",
      "/drp/analysis/sm2/Exp204/ws_slit_roi60/doBckTrue/\n",
      "Start visit 24370 of b3 with Imqual_LAM_peaklist_DEBUG_B3_WS_slit.csv\n",
      "/drp/sps/rerun/ws_slit/detrend/\n",
      "lamps used: ['HgAr']\n",
      "['Hg']\n",
      "/drp/sps/rerun/ws_slit/detrend/calExp/2021-03-08/v024370/calExp-LA024370b3.fits\n",
      "/drp/analysis/sm2/Exp204/ws_slit_roi60/doBckTrue/Imquality_b3_Exp204_24370_20210309T01h09.csv\n",
      "/drp/analysis/sm2/Exp204/ws_slit_roi60/doBckTrue/\n",
      "Start visit 24371 of b3 with Imqual_LAM_peaklist_DEBUG_B3_WS_slit.csv\n",
      "/drp/sps/rerun/ws_slit/detrend/\n",
      "lamps used: ['HgAr']\n",
      "['Hg']\n",
      "/drp/sps/rerun/ws_slit/detrend/calExp/2021-03-08/v024371/calExp-LA024371b3.fits\n",
      "/drp/analysis/sm2/Exp204/ws_slit_roi60/doBckTrue/Imquality_b3_Exp204_24371_20210309T01h09.csv\n",
      "/drp/analysis/sm2/Exp204/ws_slit_roi60/doBckTrue/\n",
      "Start visit 24372 of b3 with Imqual_LAM_peaklist_DEBUG_B3_WS_slit.csv\n",
      "/drp/sps/rerun/ws_slit/detrend/\n",
      "lamps used: ['HgAr']\n",
      "['Hg']\n",
      "/drp/sps/rerun/ws_slit/detrend/calExp/2021-03-08/v024372/calExp-LA024372b3.fits\n",
      "/drp/analysis/sm2/Exp204/ws_slit_roi60/doBckTrue/Imquality_b3_Exp204_24372_20210309T01h09.csv\n",
      "/drp/analysis/sm2/Exp204/ws_slit_roi60/doBckTrue/\n",
      "Start visit 24373 of b3 with Imqual_LAM_peaklist_DEBUG_B3_WS_slit.csv\n",
      "/drp/sps/rerun/ws_slit/detrend/\n",
      "lamps used: ['']\n",
      "['Hg']\n",
      "/drp/sps/rerun/ws_slit/detrend/calExp/2021-03-08/v024373/calExp-LA024373b3.fits\n",
      "/drp/analysis/sm2/Exp204/ws_slit_roi60/doBckTrue/Imquality_b3_Exp204_24373_20210309T01h09.csv\n",
      "/drp/analysis/sm2/Exp204/ws_slit_roi60/doBckTrue/\n",
      "Start visit 24374 of b3 with Imqual_LAM_peaklist_DEBUG_B3_WS_slit.csv\n",
      "/drp/sps/rerun/ws_slit/detrend/\n",
      "lamps used: ['HgAr']\n",
      "['Hg']\n",
      "/drp/sps/rerun/ws_slit/detrend/calExp/2021-03-08/v024374/calExp-LA024374b3.fits\n",
      "/drp/analysis/sm2/Exp204/ws_slit_roi60/doBckTrue/Imquality_b3_Exp204_24374_20210309T01h10.csv\n",
      "/drp/analysis/sm2/Exp204/ws_slit_roi60/doBckTrue/\n",
      "Start visit 24375 of b3 with Imqual_LAM_peaklist_DEBUG_B3_WS_slit.csv\n",
      "/drp/sps/rerun/ws_slit/detrend/\n",
      "lamps used: ['HgAr']\n",
      "['Hg']\n",
      "/drp/sps/rerun/ws_slit/detrend/calExp/2021-03-08/v024375/calExp-LA024375b3.fits\n",
      "/drp/analysis/sm2/Exp204/ws_slit_roi60/doBckTrue/Imquality_b3_Exp204_24375_20210309T01h10.csv\n",
      "/drp/analysis/sm2/Exp204/ws_slit_roi60/doBckTrue/\n",
      "Start visit 24376 of b3 with Imqual_LAM_peaklist_DEBUG_B3_WS_slit.csv\n",
      "/drp/sps/rerun/ws_slit/detrend/\n",
      "lamps used: ['HgAr']\n",
      "['Hg']\n",
      "/drp/sps/rerun/ws_slit/detrend/calExp/2021-03-08/v024376/calExp-LA024376b3.fits\n",
      "/drp/analysis/sm2/Exp204/ws_slit_roi60/doBckTrue/Imquality_b3_Exp204_24376_20210309T01h10.csv\n",
      "/drp/analysis/sm2/Exp204/ws_slit_roi60/doBckTrue/\n",
      "Start visit 24377 of b3 with Imqual_LAM_peaklist_DEBUG_B3_WS_slit.csv\n",
      "/drp/sps/rerun/ws_slit/detrend/\n"
     ]
    }
   ],
   "source": [
    "    # define defaut parameters\n",
    "    roi_size = 60\n",
    "    com = True  # Center Of Mass\n",
    "    doBck = True\n",
    "    head = 0\n",
    "    tail = 0\n",
    "    criteria = 'EE5'\n",
    "    verbose = True\n",
    "    doPrint = False\n",
    "    arm = cam[0]\n",
    "    \n",
    "    drpPath = \"/drp\"\n",
    "    repo = \"sps\"\n",
    "    basePath = '/drp/analysis/sm2/'\n",
    "    extra = ''\n",
    "    \n",
    "    for visit in range(visitStart, visitEnd+1):\n",
    "\n",
    "        #now = datetime.now() # current date and time\\n\",\n",
    "        #date_time = now.strftime(\"%Y%m%dT%Hh%M\")\n",
    "        #csvPath = basePath+\"Exp\"+str(experimentId)+\"/\"+rerun+\"_roi\"+str(roi_size)+\"/doBck\"+str(doBck)+\"/\"+date_time+\"/\"\n",
    "        csvPath = basePath+\"Exp\"+str(experimentId)+\"/\"+rerun+\"_roi\"+str(roi_size)+\"/doBck\"+str(doBck)+\"/\"\n",
    "\n",
    "        print(csvPath)\n",
    "\n",
    "    #    peakPath =\"/home/fmadec/dev/ait-notebook/optical/input/\"\n",
    "    #    peaklist = peakPath+peaklist\n",
    "    #    peaklist = \"/drp/cluster/devel/ait-notebook/fmadec/Subaru/SM1/selectLines/Imqual_LAM_peaklist_2020July.csv\"\n",
    "#        peaklist = \"SM2_peak_engineering_20201210.csv\"        \n",
    "#        peaklist = \"SM2_peak_dcb2_20201211.csv\"\n",
    "#        peaklist = \"Imqual_LAM_peaklist_DEBUG_B2_9peaks_Dec2020.csv\"\n",
    "\n",
    "#        peaklist = \"SM2_peak_dcb2_neon_20201211.csv\"\n",
    "\n",
    "\n",
    "    #   VisitImageQualityToCsv(visit, peaklist, roi_size, cam=cam, \\\n",
    "    #                          repo=\"sm1\",rerun=\"ginga\",  cluster=True, \\\n",
    "    #                          com=True, doBck=True, EE=[3,5], doFit=True, doLSF=False,\n",
    "    #                          csv_path = outpath)\n",
    "\n",
    "        print(f'Start visit {visit} of {cam} with {peaklist}')\n",
    "        print(f\"{drpPath}/{repo}/rerun/{rerun}/detrend/\")\n",
    "\n",
    "        butler = dafPersist.Butler(f\"{drpPath}/{repo}/rerun/{rerun}/detrend/\")\n",
    "        rbutler = dafPersist.Butler(f\"{drpPath}/{repo}/\")\n",
    "        rbutler.getKeys('raw')\n",
    "        lamps = rbutler.queryMetadata('raw', ['lamps'], visit=visit, arm=arm) \n",
    "        print(f\"lamps used: {lamps}\")\n",
    "        calExp = butler.get(\"calexp\", visit=visit, arm=cam[0])\n",
    "\n",
    "        peaks = pd.read_csv(peaklist)\n",
    "        selected_peaks = peaks[peaks.arm == arm]\n",
    "        selected_peaks = selected_peaks[(selected_peaks.element.str.contains('|'.join(re.findall('[A-Z][^A-Z]*', \"\".join(lamps)))))]\n",
    " #       selected_peaks = peaksdef plotRoiPeak(image, peak_list, roi_size=20, raw=False, scale=True, verbose=False, savePlotFile=False):\n",
    "\n",
    "        print(selected_peaks.element.unique())\n",
    "        visit = int(visit)\n",
    "        calExp = butler.get(\"calexp\", visit=visit, arm=cam[0])\n",
    "        calexfilePath = butler.getUri(\"calexp\", visit=visit, arm=cam[0])\n",
    "        if verbose:\n",
    "            print(calexfilePath)\n",
    "\n",
    "        data = VisitImageQualityToCsv(visit, selected_peaks, roi_size,\\\n",
    "                               drpImage=[ calExp.image.array, calexfilePath, visit],\\\n",
    "                               com=com, doBck=doBck, EE=[3,5,20], doFit=True, doLSF=False,\\\n",
    "                               cam=cam, repo=None,rerun=None, cluster=False, doPlot=False,\\\n",
    "                               doSep=False, mask_size=20, threshold= 50, subpix = 5 , maxPeakDist=80,\\\n",
    "                               maxPeakFlux=40000, minPeakFlux=2000,\\\n",
    "                               csv_path = csvPath, experimentId=experimentId, doPrint=verbose)"
   ]
  },
  {
   "cell_type": "code",
   "execution_count": null,
   "metadata": {},
   "outputs": [],
   "source": [
    "data.wavelength"
   ]
  },
  {
   "cell_type": "code",
   "execution_count": null,
   "metadata": {},
   "outputs": [],
   "source": []
  }
 ],
 "metadata": {
  "jupytext": {
   "cell_metadata_filter": "-all",
   "executable": "/usr/bin/python",
   "notebook_metadata_filter": "-all",
   "text_representation": {
    "extension": ".py",
    "format_name": "light"
   }
  },
  "kernelspec": {
   "display_name": "Python 3",
   "language": "python",
   "name": "python3"
  },
  "language_info": {
   "codemirror_mode": {
    "name": "ipython",
    "version": 3
   },
   "file_extension": ".py",
   "mimetype": "text/x-python",
   "name": "python",
   "nbconvert_exporter": "python",
   "pygments_lexer": "ipython3",
   "version": "3.7.2"
  }
 },
 "nbformat": 4,
 "nbformat_minor": 4
}
