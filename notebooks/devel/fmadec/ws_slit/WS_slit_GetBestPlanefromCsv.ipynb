{
 "cells": [
  {
   "cell_type": "code",
   "execution_count": 1,
   "metadata": {
    "lines_to_next_cell": 2
   },
   "outputs": [],
   "source": [
    "from pfs.lam.detAnalysis import *\n",
    "from pfs.lam.detFocusAnalysis import *\n",
    "from pfs.lam.fileHandling import *\n",
    "from pfs.lam.style import *\n",
    "import glob\n",
    "import lsst.daf.persistence as dafPersist"
   ]
  },
  {
   "cell_type": "code",
   "execution_count": 2,
   "metadata": {},
   "outputs": [],
   "source": [
    "import seaborn as sns\n",
    "import matplotlib.pyplot as plt\n",
    "from datetime import datetime"
   ]
  },
  {
   "cell_type": "code",
   "execution_count": 3,
   "metadata": {},
   "outputs": [],
   "source": [
    "from sklearn.ensemble import IsolationForest"
   ]
  },
  {
   "cell_type": "raw",
   "metadata": {
    "lines_to_next_cell": 2
   },
   "source": [
    "imgPath = '/net/SRVSTK20C/drp/fmadec/analysis/subaru/sm1/'\n",
    "dataPath = \"/net/SRVSTK20C/drp/fmadec/analysis/subaru/sm1/\"\n",
    "\n",
    "drpPath = \"/net/SRVSTK20C/drp/cluster\""
   ]
  },
  {
   "cell_type": "code",
   "execution_count": 4,
   "metadata": {
    "lines_to_next_cell": 2
   },
   "outputs": [],
   "source": [
    "#invMat = \"/home/fmadec/devel/ait-notebook/fmadec/Subaru/SM1/SM1_R1_DetFocusInvMat_20190423_F2.8.mat\"\n",
    "invMat=\"InvMat_sm1_B1_02oct2020.mat\"\n",
    "#invMat = \"SM1_B1_DetFocusInvMat_20190305_bundlesBGR3R6.mat\"\n",
    "invMat = \"/home/pfs/dev/ait-notebook/fmadec/Subaru/SM1/cluster/InvMat_sm1_17sept2020.mat\"\n"
   ]
  },
  {
   "cell_type": "code",
   "execution_count": 5,
   "metadata": {},
   "outputs": [],
   "source": [
    "def getFocusMap(fitdata, index='relPos', criterias=['EE5','EE3', 'brightness', 'fwhm']): \n",
    "    data = []\n",
    "    for (peak, fiber), series in fitdata.groupby(['peak','fiber']):\n",
    "        #series = series.dropna()\n",
    "        wavelength = series.wavelength.unique()[0]\n",
    "        for criteria in criterias:\n",
    "            if ('fwhm' in criteria) or ('2ndM' in criteria) :\n",
    "                ixmax = series[criteria].idxmin()\n",
    "                value = series[criteria].min()\n",
    "            else:\n",
    "                ixmax = series[criteria].idxmax()\n",
    "                value = series[criteria].max()\n",
    "            focus = series[index][ixmax]\n",
    "            px = series.px[ixmax]\n",
    "            py = series.py[ixmax]\n",
    "            mat = [peak,wavelength,fiber,criteria, px, py, focus, focus+series.motor1.min(), focus+series.motor2.min(), focus+series.motor3.min(), value]\n",
    "            data.append(tuple(mat))\n",
    "    \n",
    "    columns = ['peak','wavelength', 'fiber', 'criteria', 'px', 'py', 'relPos', 'motor1', 'motor2', 'motor3', 'value']\n",
    "    return pd.DataFrame(data, columns=columns)"
   ]
  },
  {
   "cell_type": "code",
   "execution_count": 6,
   "metadata": {},
   "outputs": [],
   "source": [
    "def plot_one_group(piston_imdata, wave, fiber, exp, plot_path, criteria=\"EE5\", doSave=False) :\n",
    "    group = piston_imdata.groupby(['wavelength','fiber']).get_group((wave,fiber))\n",
    "    \n",
    "    ax = group.plot.scatter(\"motor1\", criteria,\\\n",
    "                        title=f\"Exp{experimentId} - fiber {fiber} - wave {wave}\",\\\n",
    "                       label=criteria)\n",
    "#    ax2 = ax.twinx()\n",
    "#    group.plot.scatter(\"motor1\", \"sep_x2\", ax=ax,color=\"r\", label=\"sep_x2\" )\n",
    "#    group.plot.scatter(\"motor1\", \"sep_y2\", ax=ax2,color=\"g\", label=\"sep_y2\" )\n",
    "#    group.plot.scatter(\"motor1\", \"sep_ECE5\", ax=ax2,color=\"y\", label=\"sep ECE5\" )\n",
    "\n",
    "    #fig.patch.set_alpha(0.5)\n",
    "    dat = datetime.now().isoformat(timespec='minutes') \n",
    "    if doSave : \n",
    "        plt.savefig(plot_path+f\"Focus_fit_fiber{fiber}_wave{wave}_Exp{exp}_{dat}.png\")\n",
    "    plt.show()"
   ]
  },
  {
   "cell_type": "code",
   "execution_count": 7,
   "metadata": {},
   "outputs": [],
   "source": [
    "def str2bool(v):\n",
    "    if v.lower() in ('yes', 'true', 't', 'y', '1'):\n",
    "        return True\n",
    "    elif v.lower() in ('no', 'false', 'f', 'n', '0'):\n",
    "        return False"
   ]
  },
  {
   "cell_type": "code",
   "execution_count": 8,
   "metadata": {
    "lines_to_end_of_cell_marker": 2,
    "lines_to_next_cell": 0
   },
   "outputs": [],
   "source": [
    "def plot_groups(piston_imdata, exp, plot_path, plot_prefix=\"Focus_Piston_plots\", title_suffix=None, col=\"fiber\", hue=\"wavelength\", criteria=\"EE5\", doSave=False, verbose=False) :\n",
    "    grid = sns.FacetGrid(piston_imdata, col=col, hue=hue,\n",
    "#                         col_wrap=4, height=3, legend_out=True)\n",
    "                         col_wrap=3, height=3, legend_out=True)\n",
    "\n",
    "    grid.map(plt.plot, \"motor1\", criteria, marker=\"+\")\n",
    "    grid.fig.tight_layout(w_pad=1)\n",
    "    if criteria == \"EE5\":\n",
    "        grid.set(ylim=(0, 1))\n",
    "    grid.add_legend()\n",
    "    plt.subplots_adjust(top=0.75)\n",
    "    if title_suffix is None:\n",
    "        title = f\"{plot_prefix} - Exp{experimentId}\"\n",
    "    else: \n",
    "        title = f\"{plot_prefix} - Exp{experimentId}\\n{title_suffix}\"\n",
    "    grid.fig.suptitle(title)\n",
    "#    dat = datetime.now().isoformat(timespec='minutes') \n",
    "    dat = datetime.now().strftime(\"%Y-%m-%dT%Hh%M\")\n",
    "    if doSave:\n",
    "        if verbose:\n",
    "            print(f\"write png file: \\n {plot_path}{plot_prefix}_{col}_{hue}_Exp{exp}_{dat}.png\")\n",
    "        plt.savefig(plot_path+f\"{plot_prefix}_{col}_{hue}_Exp{exp}_{dat}.png\", transparent=True)\n",
    "    plt.show()"
   ]
  },
  {
   "cell_type": "raw",
   "metadata": {
    "lines_to_next_cell": 0
   },
   "source": [
    "def main(argv):\n",
    "    \n",
    "    imgPath = '/net/SRVSTK20C/drp/fmadec/analysis/subaru/sm1/'\n",
    "    dataPath = \"/net/SRVSTK20C/drp/fmadec/analysis/subaru/sm1/\"\n",
    "    drpPath = \"/net/SRVSTK20C/drp/cluster\"\n",
    "    imgPath = '/home/fmadec/Pictures/analysis/'\n",
    "    dataPath = imgPath\n",
    "    drpPath = \"/home/fmadec/pfs/subaruData/\"    \n",
    "    \n",
    "    repo = \"repo\"\n",
    "    repo = \"drp\"\n",
    "\n",
    "    extra = ''\n",
    "    \n",
    "    \n",
    "    visit = ''\n",
    "    peak = ''\n",
    "    outpath = ''\n",
    "    try:\n",
    "        opts, args = getopt.getopt(argv,\"hc:o:r:b:e:\",[\"cam=\", \"outpath=\", \"rerun=\", \"doBck=\", \"exp=\"])\n",
    "    except getopt.GetoptError:\n",
    "        print('Cluster_GetBestPlanefromCsv.py -v <visit> -p <peakfile> -c <cam> -r <rerun>')\n",
    "        sys.exit(2)\n",
    "    for opt, arg in opts:\n",
    "        if opt == '-h':\n",
    "            print('Cluster_GetBestPlanefromCsv.py -v <visit> -p <peakfile> -c <cam>')\n",
    "            sys.exit()\n",
    "        elif opt in (\"-e\", \"--exp\"):\n",
    "            experimentId = int(arg)\n",
    "        elif opt in (\"-c\", \"--cam\"):\n",
    "            cam = arg\n",
    "        elif opt in (\"-o\", \"--outpath\"):\n",
    "            outpath = arg\n",
    "        elif opt in (\"-r\", \"--rerun\"):\n",
    "            rerun = arg\n",
    "        elif opt in (\"-b\", \"--doBck\"):\n",
    "            doBck = str2bool(arg)\n",
    "\n",
    "           \n",
    "    piston_index = \"motor1\"\n",
    "\n",
    "\n",
    "    outpath = \"output\\\\\" if outpath is None else outpath\n",
    "\n",
    "    # define defaut parameters\n",
    "    roi_size = 24\n",
    "    com = True  # Center Of Mass\n",
    "    doBck = True\n",
    "    head = 0\n",
    "    tail = 0\n",
    "    criteria = 'EE5'\n",
    "    verbose = False\n",
    "    doPrint = False\n",
    "    arm = cam[0]\n",
    "    \n",
    "\n",
    "    \n",
    "    csvPath = imgPath+\"Exp\"+str(experimentId)+\"/\"+rerun+\"_roi\"+str(roi_size)+\"/doBck\"+str(doBck)+\"/\"+extra\n",
    "    dataPath = csvPath\n",
    "    print(dataPath)\n",
    "    \n",
    "    searchFile = f\"{csvPath}Imquality_{cam}_Exp{experimentId}*\"\n",
    "    print(searchFile)\n",
    "    files = glob.glob(searchFile)\n",
    "    \n",
    "    if verbose:\n",
    "        print(*files, sep=\"\\n\")\n",
    "        \n",
    "    piston_imdata = pd.concat(map(pd.read_csv,files)).reset_index()\n",
    "    \n",
    "    print(f\"Wavelength used: {piston_imdata.wavelength.unique()}\")\n",
    "    minPos = piston_imdata[['motor1','motor2','motor3']]\n",
    "    minPos = minPos - minPos.min()\n",
    "    piston_imdata['relPos'] = minPos['motor1']\n",
    "    \n",
    "\n",
    "    piston_fitdata = fitFocusData(piston_imdata, index=piston_index, doPlot=False, criterias=['EE5'] )\n",
    "\n",
    "    piston_focusMap = getFocusMap(piston_fitdata.dropna(), index=piston_index, criterias=['EE5'])\n",
    "\n",
    "    piston_focusMap[\"experimentId\"] = experimentId\n",
    "\n",
    "    piston_fitdata.to_csv(f\"{csvPath}imquality_{cam}_Exp{experimentId}_piston_fitdata.csv\")\n",
    "    piston_focusMap.to_csv(f\"{csvPath}imquality_{cam}_Exp{experimentId}_piston_focusMap.csv\")\n",
    "    \n",
    "    piston_imdata[\"x2+y2/2\"] = (piston_imdata.sep_x2 + piston_imdata.sep_y2)/2\n",
    "    \n",
    "    waves = piston_fitdata.wavelength.unique()\n",
    "    fibers = piston_fitdata.fiber.unique()\n",
    "\n",
    "    fiber = fibers[0]\n",
    "    wave = waves[0]\n",
    "#    group = piston_imdata.groupby(['wavelength','fiber']).get_group((wave,fiber))\n",
    "    plot_one_group(piston_imdata, wave, fiber, experimentId, dataPath)\n",
    "\n",
    "    piston_plane = getBestPlane(piston_focusMap.query(\"criteria == '%s'\"%criteria),order=1, \\\n",
    "                            doPlot=True, exp=experimentId, plot_path=dataPath)\n",
    "    \n",
    "\n",
    "    txtfile = f\"SM1_{cam.upper()}_BestFocusPlane_Exp{experimentId}.dat\"\n",
    "\n",
    "    foc = findMotorPos(piston_plane, inv_mat = invMat)\n",
    "\n",
    "    txt = f\"{datetime.now()} \\n\"\n",
    "    txt += f\"{csvPath}\\n\"\n",
    "    txt += f\"ExpId {experimentId}\\n\"\n",
    "    txt += f\"{invMat}\\n\"\n",
    "    txt += f\"{foc}\\n\"\n",
    "    txt += f\"xcu_{cam} motors moveCcd a={foc[0]:.2f} b={foc[1]:.2f} c={foc[2]:.2f} microns abs\\n\"\n",
    "\n",
    "    print(txt)\n",
    "\n",
    "    text_file = open(dataPath+txtfile, \"w\")\n",
    "    text_file.write(txt)\n",
    "    text_file.close()"
   ]
  },
  {
   "cell_type": "code",
   "execution_count": 9,
   "metadata": {
    "lines_to_next_cell": 2
   },
   "outputs": [
    {
     "data": {
      "text/plain": [
       "'2021-02-19T12h06'"
      ]
     },
     "execution_count": 9,
     "metadata": {},
     "output_type": "execute_result"
    }
   ],
   "source": [
    "datetime.now().strftime(\"%Y-%m-%dT%Hh%M\")"
   ]
  },
  {
   "cell_type": "code",
   "execution_count": 10,
   "metadata": {},
   "outputs": [
    {
     "ename": "TypeError",
     "evalue": "descriptor 'isoformat' of 'datetime.datetime' object needs an argument",
     "output_type": "error",
     "traceback": [
      "\u001b[0;31m---------------------------------------------------------------------------\u001b[0m",
      "\u001b[0;31mTypeError\u001b[0m                                 Traceback (most recent call last)",
      "\u001b[0;32m<ipython-input-10-88ba98ad5a27>\u001b[0m in \u001b[0;36m<module>\u001b[0;34m\u001b[0m\n\u001b[0;32m----> 1\u001b[0;31m \u001b[0mdatetime\u001b[0m\u001b[0;34m.\u001b[0m\u001b[0misoformat\u001b[0m\u001b[0;34m(\u001b[0m\u001b[0;34m)\u001b[0m\u001b[0;34m\u001b[0m\u001b[0;34m\u001b[0m\u001b[0m\n\u001b[0m",
      "\u001b[0;31mTypeError\u001b[0m: descriptor 'isoformat' of 'datetime.datetime' object needs an argument"
     ]
    }
   ],
   "source": [
    "datetime.isoformat()"
   ]
  },
  {
   "cell_type": "raw",
   "metadata": {},
   "source": [
    "if __name__ == \"__main__\":\n",
    "    start = time.time()\n",
    "    main(sys.argv[1:])\n",
    "    finish = time.time()\n",
    "    elapsed = finish - start\n",
    "    print(f\"Time elapsed: {elapsed}\")"
   ]
  },
  {
   "cell_type": "raw",
   "metadata": {
    "lines_to_next_cell": 2
   },
   "source": [
    "plot_groups(piston_imdata, experimentId, imgPath, plot_prefix=\"Focus_Piston_plots\", col=\"fiber\", hue=\"wavelength\")\n",
    "plot_groups(piston_fitdata, experimentId, imgPath, plot_prefix=\"Focus_Piston_fit_plots\", col=\"fiber\", hue=\"wavelength\")\n"
   ]
  },
  {
   "cell_type": "code",
   "execution_count": null,
   "metadata": {},
   "outputs": [],
   "source": []
  },
  {
   "cell_type": "code",
   "execution_count": null,
   "metadata": {},
   "outputs": [],
   "source": []
  },
  {
   "cell_type": "code",
   "execution_count": null,
   "metadata": {},
   "outputs": [],
   "source": []
  },
  {
   "cell_type": "code",
   "execution_count": null,
   "metadata": {
    "lines_to_next_cell": 2
   },
   "outputs": [],
   "source": []
  },
  {
   "cell_type": "code",
   "execution_count": 11,
   "metadata": {},
   "outputs": [],
   "source": [
    "roi_size = 24\n",
    "doBck = True\n",
    "threshold = 0."
   ]
  },
  {
   "cell_type": "code",
   "execution_count": null,
   "metadata": {
    "lines_to_next_cell": 2
   },
   "outputs": [],
   "source": []
  },
  {
   "cell_type": "code",
   "execution_count": null,
   "metadata": {},
   "outputs": [],
   "source": [
    "100*(r1/r)"
   ]
  },
  {
   "cell_type": "code",
   "execution_count": null,
   "metadata": {},
   "outputs": [],
   "source": [
    "experimentId = 255\n",
    "rerun = \"sm1-march2020\" #\"sm1-march2020\"\n",
    "cam = \"m1\"\n",
    "#thres_neighbor = -0.05\n",
    "extra = 'stack/'"
   ]
  },
  {
   "cell_type": "code",
   "execution_count": null,
   "metadata": {},
   "outputs": [],
   "source": [
    "experimentId = 186\n",
    "rerun = \"sm1-march2020-no_FD\" #\"sm1-march2020\"\n",
    "cam = \"r1\"\n",
    "extra = ''"
   ]
  },
  {
   "cell_type": "code",
   "execution_count": null,
   "metadata": {},
   "outputs": [],
   "source": [
    "experimentId = 122\n",
    "rerun = \"dcb2\" #\"sm1-march2020\"\n",
    "cam = \"b2\"\n",
    "extra = ''"
   ]
  },
  {
   "cell_type": "code",
   "execution_count": null,
   "metadata": {},
   "outputs": [],
   "source": [
    "experimentId = 125\n",
    "rerun = \"defocus\" #\"sm1-march2020\"\n",
    "cam = \"b2\"\n",
    "extra = ''"
   ]
  },
  {
   "cell_type": "code",
   "execution_count": null,
   "metadata": {},
   "outputs": [],
   "source": [
    "expIds = [124,125]\n",
    "rerun = \"defocus\" #\"sm1-march2020\"\n",
    "cam = \"b2\"\n",
    "extra = ''"
   ]
  },
  {
   "cell_type": "code",
   "execution_count": null,
   "metadata": {},
   "outputs": [],
   "source": [
    "expIds = [134]\n",
    "rerun = \"defocus\" #\"sm1-march2020\"\n",
    "cam = \"r2\"\n",
    "extra = ''"
   ]
  },
  {
   "cell_type": "code",
   "execution_count": null,
   "metadata": {},
   "outputs": [],
   "source": [
    "expIds = [152]\n",
    "rerun = \"defocus\" #\"sm1-march2020\"\n",
    "cam = \"r2\"\n",
    "extra = ''"
   ]
  },
  {
   "cell_type": "code",
   "execution_count": null,
   "metadata": {},
   "outputs": [],
   "source": [
    "expIds = [153]\n",
    "rerun = \"defocus\" #\"sm1-march2020\"\n",
    "cam = \"r2\"\n",
    "extra = ''"
   ]
  },
  {
   "cell_type": "code",
   "execution_count": null,
   "metadata": {},
   "outputs": [],
   "source": [
    "expIds = [156,157]\n",
    "rerun = \"defocus\" #\"sm1-march2020\"\n",
    "cam = \"b2\"\n",
    "extra = ''"
   ]
  },
  {
   "cell_type": "code",
   "execution_count": null,
   "metadata": {},
   "outputs": [],
   "source": [
    "# WS_Slit\n",
    "expIds = [171]\n",
    "rerun = \"ginga\" #\"sm1-march2020\"\n",
    "cam = \"b2\"\n",
    "extra = ''"
   ]
  },
  {
   "cell_type": "code",
   "execution_count": 34,
   "metadata": {},
   "outputs": [],
   "source": [
    "# WS_Slit\n",
    "expIds = [190]\n",
    "rerun = \"ws_slit\" #\"sm1-march2020\"\n",
    "cam = \"r3\"\n",
    "extra = ''\n",
    "roi_size = 60"
   ]
  },
  {
   "cell_type": "code",
   "execution_count": 45,
   "metadata": {},
   "outputs": [],
   "source": [
    "# WS_Slit\n",
    "expIds = [191]\n",
    "rerun = \"ws_slit\" #\"sm1-march2020\"\n",
    "cam = \"r3\"\n",
    "extra = ''\n",
    "roi_size = 24"
   ]
  },
  {
   "cell_type": "code",
   "execution_count": 23,
   "metadata": {},
   "outputs": [],
   "source": [
    "# WS_Slit\n",
    "expIds = [173]\n",
    "rerun = \"ws_slit\" #\"sm1-march2020\"\n",
    "cam = \"r2\"\n",
    "extra = ''\n",
    "roi_size = 60"
   ]
  },
  {
   "cell_type": "code",
   "execution_count": 24,
   "metadata": {},
   "outputs": [],
   "source": [
    "head = 0\n",
    "tail = 0"
   ]
  },
  {
   "cell_type": "code",
   "execution_count": 25,
   "metadata": {
    "lines_to_next_cell": 2
   },
   "outputs": [],
   "source": [
    "cluster = False"
   ]
  },
  {
   "cell_type": "code",
   "execution_count": 26,
   "metadata": {
    "lines_to_next_cell": 2
   },
   "outputs": [],
   "source": [
    "doForestFilter = False\n",
    "forest_contamin = 0.05   #r1 0.05   #m1 "
   ]
  },
  {
   "cell_type": "code",
   "execution_count": 27,
   "metadata": {
    "lines_to_next_cell": 2
   },
   "outputs": [],
   "source": [
    "doNeighborFilter = True\n",
    "thres_neighbor = -0.1"
   ]
  },
  {
   "cell_type": "code",
   "execution_count": 28,
   "metadata": {},
   "outputs": [],
   "source": [
    "doSave = True\n",
    "doSaveCsv = False"
   ]
  },
  {
   "cell_type": "code",
   "execution_count": null,
   "metadata": {
    "lines_to_next_cell": 2
   },
   "outputs": [],
   "source": []
  },
  {
   "cell_type": "code",
   "execution_count": 20,
   "metadata": {},
   "outputs": [],
   "source": [
    "def neighbor_outlier_filter(df, column, thres):\n",
    "    df[f\"{column}_nbh_diff\"] = df[column] - (df[column].shift(-1) + df[column].shift(1))/2 \n",
    "    df[f\"{column}_nbh_diff\"].fillna(0, inplace=True)\n",
    "    df[f\"{column}_nbh_flag\"] = (df[f\"{column}_nbh_diff\"]> thres)\n",
    "    return df"
   ]
  },
  {
   "cell_type": "code",
   "execution_count": 21,
   "metadata": {},
   "outputs": [
    {
     "ename": "NameError",
     "evalue": "name 'piston' is not defined",
     "output_type": "error",
     "traceback": [
      "\u001b[0;31m---------------------------------------------------------------------------\u001b[0m",
      "\u001b[0;31mNameError\u001b[0m                                 Traceback (most recent call last)",
      "\u001b[0;32m<ipython-input-21-0214d1aefc8b>\u001b[0m in \u001b[0;36m<module>\u001b[0;34m\u001b[0m\n\u001b[1;32m      1\u001b[0m \u001b[0;32mif\u001b[0m \u001b[0mdoNeighborFilter\u001b[0m \u001b[0;34m:\u001b[0m\u001b[0;34m\u001b[0m\u001b[0;34m\u001b[0m\u001b[0m\n\u001b[1;32m      2\u001b[0m     \u001b[0mtot\u001b[0m \u001b[0;34m=\u001b[0m \u001b[0;34m[\u001b[0m\u001b[0;34m]\u001b[0m\u001b[0;34m\u001b[0m\u001b[0;34m\u001b[0m\u001b[0m\n\u001b[0;32m----> 3\u001b[0;31m     \u001b[0;32mfor\u001b[0m  \u001b[0mgroup_name\u001b[0m\u001b[0;34m,\u001b[0m \u001b[0mseries\u001b[0m \u001b[0;32min\u001b[0m \u001b[0mpiston\u001b[0m\u001b[0;34m.\u001b[0m\u001b[0mgroupby\u001b[0m\u001b[0;34m(\u001b[0m\u001b[0;34m[\u001b[0m\u001b[0;34m'wavelength'\u001b[0m\u001b[0;34m,\u001b[0m\u001b[0;34m'fiber'\u001b[0m\u001b[0;34m]\u001b[0m\u001b[0;34m)\u001b[0m\u001b[0;34m:\u001b[0m\u001b[0;34m\u001b[0m\u001b[0;34m\u001b[0m\u001b[0m\n\u001b[0m\u001b[1;32m      4\u001b[0m         \u001b[0mseries\u001b[0m \u001b[0;34m=\u001b[0m \u001b[0mneighbor_outlier_filter\u001b[0m\u001b[0;34m(\u001b[0m\u001b[0mseries\u001b[0m\u001b[0;34m,\u001b[0m \u001b[0;34m\"EE5\"\u001b[0m\u001b[0;34m,\u001b[0m \u001b[0mthres_neighbor\u001b[0m\u001b[0;34m)\u001b[0m\u001b[0;34m\u001b[0m\u001b[0;34m\u001b[0m\u001b[0m\n\u001b[1;32m      5\u001b[0m         \u001b[0mtot\u001b[0m\u001b[0;34m.\u001b[0m\u001b[0mappend\u001b[0m\u001b[0;34m(\u001b[0m\u001b[0mseries\u001b[0m\u001b[0;34m)\u001b[0m\u001b[0;34m\u001b[0m\u001b[0;34m\u001b[0m\u001b[0m\n",
      "\u001b[0;31mNameError\u001b[0m: name 'piston' is not defined"
     ]
    }
   ],
   "source": [
    "\n",
    "if doNeighborFilter :\n",
    "    tot = []\n",
    "    for  group_name, series in piston.groupby(['wavelength','fiber']):\n",
    "        series = neighbor_outlier_filter(series, \"EE5\", thres_neighbor)\n",
    "        tot.append(series)\n",
    "        piston = pd.concat(tot)\n",
    "        "
   ]
  },
  {
   "cell_type": "code",
   "execution_count": null,
   "metadata": {},
   "outputs": [],
   "source": []
  },
  {
   "cell_type": "code",
   "execution_count": 29,
   "metadata": {},
   "outputs": [
    {
     "name": "stdout",
     "output_type": "stream",
     "text": [
      "/data/drp/analysis/sm2/Exp173/ws_slit_roi60/doBckTrue/\n",
      "/data/drp/analysis/sm2/Exp173/ws_slit_roi60/doBckTrue/Imquality_r2_Exp173*\n",
      "/data/drp/analysis/sm2/Exp173/ws_slit_roi60/doBckTrue/Imquality_r2_Exp173_24172_20210219T11h39.csv\n",
      "/data/drp/analysis/sm2/Exp173/ws_slit_roi60/doBckTrue/Imquality_r2_Exp173_24181_20210219T11h45.csv\n",
      "/data/drp/analysis/sm2/Exp173/ws_slit_roi60/doBckTrue/Imquality_r2_Exp173_24185_20210219T11h47.csv\n",
      "/data/drp/analysis/sm2/Exp173/ws_slit_roi60/doBckTrue/Imquality_r2_Exp173_24191_20210219T11h51.csv\n",
      "/data/drp/analysis/sm2/Exp173/ws_slit_roi60/doBckTrue/Imquality_r2_Exp173_24173_20210219T11h40.csv\n",
      "/data/drp/analysis/sm2/Exp173/ws_slit_roi60/doBckTrue/Imquality_r2_Exp173_24189_20210219T11h50.csv\n",
      "/data/drp/analysis/sm2/Exp173/ws_slit_roi60/doBckTrue/Imquality_r2_Exp173_24182_20210219T11h46.csv\n",
      "/data/drp/analysis/sm2/Exp173/ws_slit_roi60/doBckTrue/Imquality_r2_Exp173_24187_20210219T11h49.csv\n",
      "/data/drp/analysis/sm2/Exp173/ws_slit_roi60/doBckTrue/Imquality_r2_Exp173_24174_20210219T11h40.csv\n",
      "/data/drp/analysis/sm2/Exp173/ws_slit_roi60/doBckTrue/Imquality_r2_Exp173_24179_20210219T11h44.csv\n",
      "/data/drp/analysis/sm2/Exp173/ws_slit_roi60/doBckTrue/Imquality_r2_Exp173_24177_20210219T11h42.csv\n",
      "/data/drp/analysis/sm2/Exp173/ws_slit_roi60/doBckTrue/Imquality_r2_Exp173_24176_20210219T11h42.csv\n",
      "/data/drp/analysis/sm2/Exp173/ws_slit_roi60/doBckTrue/Imquality_r2_Exp173_24178_20210219T11h43.csv\n",
      "/data/drp/analysis/sm2/Exp173/ws_slit_roi60/doBckTrue/Imquality_r2_Exp173_24190_20210219T11h50.csv\n",
      "/data/drp/analysis/sm2/Exp173/ws_slit_roi60/doBckTrue/Imquality_r2_Exp173_24180_20210219T11h44.csv\n",
      "/data/drp/analysis/sm2/Exp173/ws_slit_roi60/doBckTrue/Imquality_r2_Exp173_24183_20210219T11h46.csv\n",
      "/data/drp/analysis/sm2/Exp173/ws_slit_roi60/doBckTrue/Imquality_r2_Exp173_24184_20210219T11h47.csv\n",
      "/data/drp/analysis/sm2/Exp173/ws_slit_roi60/doBckTrue/Imquality_r2_Exp173_24186_20210219T11h48.csv\n",
      "/data/drp/analysis/sm2/Exp173/ws_slit_roi60/doBckTrue/Imquality_r2_Exp173_24188_20210219T11h49.csv\n",
      "/data/drp/analysis/sm2/Exp173/ws_slit_roi60/doBckTrue/Imquality_r2_Exp173_24175_20210219T11h41.csv\n",
      "/data/drp/analysis/sm2/Exp173/ws_slit_roi60/doBckTrue/Imquality_r2_Exp173_24171_20210219T11h38.csv\n",
      "Wavelength used: [696.7352 727.494  795.0362 912.5471 966.0435]\n"
     ]
    },
    {
     "name": "stderr",
     "output_type": "stream",
     "text": [
      "/software/drp/python/miniconda3-4.5.12/envs/lsst-scipipe-1172c30/lib/python3.7/site-packages/ipykernel_launcher.py:128: SettingWithCopyWarning: \n",
      "A value is trying to be set on a copy of a slice from a DataFrame.\n",
      "Try using .loc[row_indexer,col_indexer] = value instead\n",
      "\n",
      "See the caveats in the documentation: https://pandas.pydata.org/pandas-docs/stable/user_guide/indexing.html#returning-a-view-versus-a-copy\n",
      "/software/drp/python/miniconda3-4.5.12/envs/lsst-scipipe-1172c30/lib/python3.7/site-packages/ipykernel_launcher.py:131: SettingWithCopyWarning: \n",
      "A value is trying to be set on a copy of a slice from a DataFrame.\n",
      "Try using .loc[row_indexer,col_indexer] = value instead\n",
      "\n",
      "See the caveats in the documentation: https://pandas.pydata.org/pandas-docs/stable/user_guide/indexing.html#returning-a-view-versus-a-copy\n"
     ]
    },
    {
     "name": "stdout",
     "output_type": "stream",
     "text": [
      "could not fit data for EE5\n",
      "could not fit data for EE5\n",
      "could not fit data for EE5\n",
      "could not fit data for EE5\n",
      "could not fit data for EE5\n",
      "could not fit data for EE5\n",
      "could not fit data for EE5\n",
      "could not fit data for EE5\n",
      "could not fit data for EE5\n",
      "could not fit data for EE5\n",
      "could not fit data for EE5\n",
      "could not fit data for EE5\n",
      "could not fit data for EE5\n",
      "could not fit data for EE5\n",
      "could not fit data for EE5\n",
      "could not fit data for EE5\n",
      "could not fit data for EE5\n",
      "could not fit data for EE5\n",
      "could not fit data for EE5\n",
      "could not fit data for EE5\n",
      "could not fit data for EE5\n",
      "could not fit data for EE5\n",
      "could not fit data for EE5\n",
      "could not fit data for EE5\n",
      "could not fit data for EE5\n",
      "could not fit data for EE5\n"
     ]
    }
   ],
   "source": [
    "if cluster :\n",
    "    imgPath = '/net/SRVSTK20C/drp/fmadec/analysis/subaru/sm1/'\n",
    "    dataPath = \"/net/SRVSTK20C/drp/fmadec/analysis/subaru/sm1/\"\n",
    "    drpPath = \"/net/SRVSTK20C/drp/cluster\"\n",
    "    repo = \"repo\"\n",
    "else:\n",
    "    imgPath = \"/media/fmadec/PfsData/PFS/fmadec/analysis/subaru/sm1/\"\n",
    "    #imgPath = '/home/fmadec/Pictures/analysis/'\n",
    "    dataPath = imgPath\n",
    "    drpPath = \"/home/fmadec/pfs/subaruData/\"    \n",
    "    repo = \"drp\"\n",
    "if False:\n",
    "    imgPath = \"/home/fmadec/Pictures/analysis/\"\n",
    "    #imgPath = '/home/fmadec/Pictures/analysis/'visitStart, visitEnd = getVisitRange(experimentId)\n",
    "\n",
    "\n",
    "    dataPath = imgPath\n",
    "    drpPath = \"/home/fmadec/pfs/subaruData/\"    \n",
    "    repo = \"drp\"\n",
    " #   Exp255/sm1-march2020_roi24/doBckTrue/stack\n",
    "    \n",
    "if True:\n",
    "    imgPath = '/data/drp/analysis/sm2/'\n",
    "    #imgPath = '/home/fmadec/Pictures/analysis/'\n",
    "    dataPath = imgPath\n",
    "    drpPath = \"/data/drp\"    \n",
    "    repo = \"sps\"\n",
    " #   Exp255/sm1-march2020_roi24/doBckTrue/stack\n",
    "\n",
    "outpath = ''\n",
    "\n",
    "\n",
    "if False:\n",
    "    outpath = ''\n",
    "    try:\n",
    "        opts, args = getopt.getopt(argv,\"hc:o:r:b:e:\",[\"cam=\", \"outpath=\", \"rerun=\", \"doBck=\", \"exp=\"])\n",
    "    except getopt.GetoptError:\n",
    "        print('Cluster_GetBestPlanefromCsv.py -v <visit> -p <peakfile> -c <cam> -r <rerun>')\n",
    "        sys.exit(2)\n",
    "    for opt, arg in opts:\n",
    "        if opt == '-h':\n",
    "            print('Cluster_GetBestPlanefromCsv.py -v <visit> -p <peakfile> -c <cam>')\n",
    "            sys.exit()\n",
    "        elif opt in (\"-e\", \"--exp\"):\n",
    "            experimentId = int(arg)\n",
    "        elif opt in (\"-c\", \"--cam\"):\n",
    "            cam = arg\n",
    "        elif opt in (\"-o\", \"--outpath\"):\n",
    "            outpath = arg\n",
    "        elif opt in (\"-r\", \"--rerun\"):\n",
    "            rerun = arg\n",
    "        elif opt in (\"-b\", \"--doBck\"):\n",
    "            doBck = str2bool(arg)\n",
    "\n",
    "\n",
    "piston_index = \"motor1\"\n",
    "\n",
    "\n",
    "outpath = \"output\\\\\" if outpath is None else outpath\n",
    "\n",
    "# define defaut parameters\n",
    "#roi_size = 24/data/drp/analysis/sm2/Exp190/ws_slit_roi40/doBckTrue/Imquality_r3_Exp190_24274_20210127T11h04.csv\n",
    "com = True  # Center Of Mass\n",
    "head = 0\n",
    "tail = 0\n",
    "criteria = 'EE5'\n",
    "criterias = [criteria] #['EE5', 'sep_ECE5']\n",
    "verbose = True\n",
    "doPrint = False\n",
    "arm = cam[0]\n",
    "\n",
    "files = []\n",
    "for experimentId in expIds:\n",
    "\n",
    "    csvPath = imgPath+\"Exp\"+str(experimentId)+\"/\"+rerun+\"_roi\"+str(roi_size)+\"/doBck\"+str(doBck)+\"/\"+extra\n",
    "    dataPath = csvPath\n",
    "    print(dataPath)\n",
    "\n",
    "    searchFile = f\"{csvPath}Imquality_{cam}_Exp{experimentId}*\"\n",
    "    print(searchFile)\n",
    "    files.extend(glob.glob(searchFile))\n",
    "\n",
    "if verbose:\n",
    "    print(*files, sep=\"\\n\")\n",
    "\n",
    "piston_imdata = pd.concat(map(pd.read_csv,files)).reset_index().sort_values(by=\"motor1\")\n",
    "#piston_imdata[\"wavelength\"] = 300\n",
    "\n",
    "piston_imdata = piston_imdata.groupby(['wavelength','fiber', \"motor1\"]).mean().reset_index()\n",
    "\n",
    "# hack ws_slit\n",
    "\n",
    "\n",
    "print(f\"Wavelength used: {piston_imdata.wavelength.unique()}\")\n",
    "minPos = piston_imdata[['motor1','motor2','motor3']]\n",
    "minPos = minPos - minPos.min()\n",
    "piston_imdata['relPos'] = minPos['motor1']\n",
    "\n",
    "#piston = piston_imdata[piston_imdata.EE5>threshold]\n",
    "\n",
    "piston_imdata[\"fit_flag\"] = 0\n",
    "piston_imdata[\"EE5_diff_flag\"] = True\n",
    "\n",
    "\n",
    "piston = piston_imdata[piston_imdata.EE5>threshold]\n",
    "\n",
    "if doForestFilter :\n",
    "    tot = []\n",
    "#    for  group_name, series in piston_imdata.groupby(['wavelength','fiber']):\n",
    "    for  group_name, series in piston.groupby(['wavelength','fiber']):\n",
    "\n",
    "        #clf = IsolationForest( behaviour = 'new', max_samples=series.count()[0], random_state = 1, contamination= \"auto\")\n",
    "        clf = IsolationForest( behaviour = 'new', max_samples=series.count()[0], random_state = 1, contamination= forest_contamin)\n",
    "\n",
    "        preds = clf.fit_predict(series[[piston_index, \"EE5\"]].values)\n",
    "        series.loc[:,\"fit_flag\"] = preds\n",
    "        tot.append(series)\n",
    "        piston = pd.concat(tot)\n",
    "\n",
    "if doNeighborFilter :\n",
    "    tot = []\n",
    "#    for  group_name, series in piston_imdata.groupby(['wavelength','fiber']):\n",
    "    for  group_name, series in piston.groupby(['wavelength','fiber']):\n",
    "        #clf = IsolationForest( behaviour = 'new', max_samples=series.count()[0], random_state = 1, contamination= \"auto\")\n",
    "        #series[\"EE5_diff\"] = (series.EE5.pct_change(periods=-1).abs() - series.EE5.pct_change(periods=1).abs())\n",
    "        #series[\"EE5_diff_flag\"] = (series.EE5.pct_change(periods=-1).abs() - series.EE5.pct_change(periods=1).abs() < thres_neighbor)\n",
    "        #series[\"EE5_diff\"] = (series.EE5.diff(-1) + series.EE5.diff(2) - series.EE5.diff(1))/2. \n",
    "        series[\"EE5_diff\"] = series[criteria] - (series[criteria].shift(-1) + series[criteria].shift(1))/2 \n",
    "\n",
    "        series[\"EE5_diff\"].fillna(0, inplace=True)\n",
    "        series[\"EE5_diff_flag\"] = (series.EE5_diff> thres_neighbor)\n",
    "        tot.append(series)\n",
    "        piston = pd.concat(tot)\n",
    "\n",
    "\n",
    "\n",
    "forest_prefix = \"_Forest\" if doForestFilter else \"\"\n",
    "\n",
    "piston_fitdata = fitFocusData(piston[piston.EE5_diff_flag] , index=piston_index, doPlot=False, criterias=criterias, head=head )\n",
    "\n",
    "piston_focusMap = getFocusMap(piston_fitdata.dropna(), index=piston_index, criterias=criterias)\n",
    "\n",
    "piston_focusMap[\"experimentId\"] = experimentId\n",
    "\n",
    "if doSaveCsv:\n",
    "    piston_fitdata.to_csv(f\"{csvPath}imquality_{cam}_Exp{experimentId}_doBck{str(doBck)}_piston_fitdata_thres{str(int(threshold*100)).zfill(3)}{forest_prefix}.csv\")\n",
    "    piston_focusMap.to_csv(f\"{csvPath}imquality_{cam}_Exp{experimentId}_doBck{str(doBck)}_piston_focusMap_thres{str(int(threshold*100)).zfill(3)}{forest_prefix}.csv\")\n",
    "\n",
    "#piston[\"x2+y2/2\"] = (piston.sep_x2 + piston.sep_y2)/2"
   ]
  },
  {
   "cell_type": "code",
   "execution_count": 54,
   "metadata": {},
   "outputs": [],
   "source": [
    "df = pd.read_csv(\"/data/drp/analysis/sm2/Exp190/ws_slit_roi40/doBckTrue/Imquality_r3_Exp190_24258_20210127T16h24.csv\")"
   ]
  },
  {
   "cell_type": "code",
   "execution_count": 25,
   "metadata": {},
   "outputs": [
    {
     "data": {
      "text/plain": [
       "0     0.097734\n",
       "1     0.081879\n",
       "2     0.042309\n",
       "3     0.027159\n",
       "4    -0.002234\n",
       "5     0.012978\n",
       "6     0.015378\n",
       "7     0.006728\n",
       "8     0.040255\n",
       "9     0.014833\n",
       "10    0.013913\n",
       "11    0.022090\n",
       "12    0.004948\n",
       "13    0.098421\n",
       "14   -0.059016\n",
       "15    0.026223\n",
       "16    0.017667\n",
       "17    0.006112\n",
       "18    0.041896\n",
       "19    0.008153\n",
       "20    0.069086\n",
       "21    0.046942\n",
       "22    0.031452\n",
       "23    0.026284\n",
       "24         NaN\n",
       "25    0.020586\n",
       "26    0.017836\n",
       "27    0.017894\n",
       "28    0.030338\n",
       "29    0.021759\n",
       "Name: EE5, dtype: float64"
      ]
     },
     "execution_count": 25,
     "metadata": {},
     "output_type": "execute_result"
    }
   ],
   "source": [
    "df.EE5"
   ]
  },
  {
   "cell_type": "code",
   "execution_count": null,
   "metadata": {},
   "outputs": [],
   "source": []
  },
  {
   "cell_type": "code",
   "execution_count": 30,
   "metadata": {
    "collapsed": true,
    "jupyter": {
     "outputs_hidden": true
    }
   },
   "outputs": [
    {
     "ename": "KeyError",
     "evalue": "'sep_x2'",
     "output_type": "error",
     "traceback": [
      "\u001b[0;31m---------------------------------------------------------------------------\u001b[0m",
      "\u001b[0;31mTypeError\u001b[0m                                 Traceback (most recent call last)",
      "\u001b[0;32m/software/drp/python/miniconda3-4.5.12/envs/lsst-scipipe-1172c30/lib/python3.7/site-packages/pandas/core/indexes/base.py\u001b[0m in \u001b[0;36mget_value\u001b[0;34m(self, series, key)\u001b[0m\n\u001b[1;32m   4410\u001b[0m             \u001b[0;32mtry\u001b[0m\u001b[0;34m:\u001b[0m\u001b[0;34m\u001b[0m\u001b[0;34m\u001b[0m\u001b[0m\n\u001b[0;32m-> 4411\u001b[0;31m                 \u001b[0;32mreturn\u001b[0m \u001b[0mlibindex\u001b[0m\u001b[0;34m.\u001b[0m\u001b[0mget_value_at\u001b[0m\u001b[0;34m(\u001b[0m\u001b[0ms\u001b[0m\u001b[0;34m,\u001b[0m \u001b[0mkey\u001b[0m\u001b[0;34m)\u001b[0m\u001b[0;34m\u001b[0m\u001b[0;34m\u001b[0m\u001b[0m\n\u001b[0m\u001b[1;32m   4412\u001b[0m             \u001b[0;32mexcept\u001b[0m \u001b[0mIndexError\u001b[0m\u001b[0;34m:\u001b[0m\u001b[0;34m\u001b[0m\u001b[0;34m\u001b[0m\u001b[0m\n",
      "\u001b[0;32mpandas/_libs/index.pyx\u001b[0m in \u001b[0;36mpandas._libs.index.get_value_at\u001b[0;34m()\u001b[0m\n",
      "\u001b[0;32mpandas/_libs/index.pyx\u001b[0m in \u001b[0;36mpandas._libs.index.get_value_at\u001b[0;34m()\u001b[0m\n",
      "\u001b[0;32mpandas/_libs/util.pxd\u001b[0m in \u001b[0;36mpandas._libs.util.get_value_at\u001b[0;34m()\u001b[0m\n",
      "\u001b[0;32mpandas/_libs/util.pxd\u001b[0m in \u001b[0;36mpandas._libs.util.validate_indexer\u001b[0;34m()\u001b[0m\n",
      "\u001b[0;31mTypeError\u001b[0m: 'str' object cannot be interpreted as an integer",
      "\nDuring handling of the above exception, another exception occurred:\n",
      "\u001b[0;31mKeyError\u001b[0m                                  Traceback (most recent call last)",
      "\u001b[0;32m<ipython-input-30-7feb16f86f27>\u001b[0m in \u001b[0;36m<module>\u001b[0;34m\u001b[0m\n\u001b[0;32m----> 1\u001b[0;31m \u001b[0mpiston_imdata\u001b[0m\u001b[0;34m[\u001b[0m\u001b[0;34m\"sep_2ndM\"\u001b[0m\u001b[0;34m]\u001b[0m\u001b[0;34m=\u001b[0m \u001b[0mpiston_imdata\u001b[0m\u001b[0;34m.\u001b[0m\u001b[0mapply\u001b[0m\u001b[0;34m(\u001b[0m\u001b[0;32mlambda\u001b[0m \u001b[0mx\u001b[0m\u001b[0;34m:\u001b[0m \u001b[0mnp\u001b[0m\u001b[0;34m.\u001b[0m\u001b[0mmean\u001b[0m\u001b[0;34m(\u001b[0m\u001b[0;34m[\u001b[0m\u001b[0mx\u001b[0m\u001b[0;34m[\u001b[0m\u001b[0;34m\"sep_x2\"\u001b[0m\u001b[0;34m]\u001b[0m\u001b[0;34m,\u001b[0m\u001b[0mx\u001b[0m\u001b[0;34m[\u001b[0m\u001b[0;34m\"sep_y2\"\u001b[0m\u001b[0;34m]\u001b[0m\u001b[0;34m]\u001b[0m\u001b[0;34m)\u001b[0m \u001b[0;34m,\u001b[0m \u001b[0maxis\u001b[0m\u001b[0;34m=\u001b[0m\u001b[0;36m1\u001b[0m\u001b[0;34m)\u001b[0m\u001b[0;34m\u001b[0m\u001b[0;34m\u001b[0m\u001b[0m\n\u001b[0m",
      "\u001b[0;32m/software/drp/python/miniconda3-4.5.12/envs/lsst-scipipe-1172c30/lib/python3.7/site-packages/pandas/core/frame.py\u001b[0m in \u001b[0;36mapply\u001b[0;34m(self, func, axis, raw, result_type, args, **kwds)\u001b[0m\n\u001b[1;32m   6876\u001b[0m             \u001b[0mkwds\u001b[0m\u001b[0;34m=\u001b[0m\u001b[0mkwds\u001b[0m\u001b[0;34m,\u001b[0m\u001b[0;34m\u001b[0m\u001b[0;34m\u001b[0m\u001b[0m\n\u001b[1;32m   6877\u001b[0m         )\n\u001b[0;32m-> 6878\u001b[0;31m         \u001b[0;32mreturn\u001b[0m \u001b[0mop\u001b[0m\u001b[0;34m.\u001b[0m\u001b[0mget_result\u001b[0m\u001b[0;34m(\u001b[0m\u001b[0;34m)\u001b[0m\u001b[0;34m\u001b[0m\u001b[0;34m\u001b[0m\u001b[0m\n\u001b[0m\u001b[1;32m   6879\u001b[0m \u001b[0;34m\u001b[0m\u001b[0m\n\u001b[1;32m   6880\u001b[0m     \u001b[0;32mdef\u001b[0m \u001b[0mapplymap\u001b[0m\u001b[0;34m(\u001b[0m\u001b[0mself\u001b[0m\u001b[0;34m,\u001b[0m \u001b[0mfunc\u001b[0m\u001b[0;34m)\u001b[0m \u001b[0;34m->\u001b[0m \u001b[0;34m\"DataFrame\"\u001b[0m\u001b[0;34m:\u001b[0m\u001b[0;34m\u001b[0m\u001b[0;34m\u001b[0m\u001b[0m\n",
      "\u001b[0;32m/software/drp/python/miniconda3-4.5.12/envs/lsst-scipipe-1172c30/lib/python3.7/site-packages/pandas/core/apply.py\u001b[0m in \u001b[0;36mget_result\u001b[0;34m(self)\u001b[0m\n\u001b[1;32m    184\u001b[0m             \u001b[0;32mreturn\u001b[0m \u001b[0mself\u001b[0m\u001b[0;34m.\u001b[0m\u001b[0mapply_raw\u001b[0m\u001b[0;34m(\u001b[0m\u001b[0;34m)\u001b[0m\u001b[0;34m\u001b[0m\u001b[0;34m\u001b[0m\u001b[0m\n\u001b[1;32m    185\u001b[0m \u001b[0;34m\u001b[0m\u001b[0m\n\u001b[0;32m--> 186\u001b[0;31m         \u001b[0;32mreturn\u001b[0m \u001b[0mself\u001b[0m\u001b[0;34m.\u001b[0m\u001b[0mapply_standard\u001b[0m\u001b[0;34m(\u001b[0m\u001b[0;34m)\u001b[0m\u001b[0;34m\u001b[0m\u001b[0;34m\u001b[0m\u001b[0m\n\u001b[0m\u001b[1;32m    187\u001b[0m \u001b[0;34m\u001b[0m\u001b[0m\n\u001b[1;32m    188\u001b[0m     \u001b[0;32mdef\u001b[0m \u001b[0mapply_empty_result\u001b[0m\u001b[0;34m(\u001b[0m\u001b[0mself\u001b[0m\u001b[0;34m)\u001b[0m\u001b[0;34m:\u001b[0m\u001b[0;34m\u001b[0m\u001b[0;34m\u001b[0m\u001b[0m\n",
      "\u001b[0;32m/software/drp/python/miniconda3-4.5.12/envs/lsst-scipipe-1172c30/lib/python3.7/site-packages/pandas/core/apply.py\u001b[0m in \u001b[0;36mapply_standard\u001b[0;34m(self)\u001b[0m\n\u001b[1;32m    294\u001b[0m             \u001b[0;32mtry\u001b[0m\u001b[0;34m:\u001b[0m\u001b[0;34m\u001b[0m\u001b[0;34m\u001b[0m\u001b[0m\n\u001b[1;32m    295\u001b[0m                 result = libreduction.compute_reduction(\n\u001b[0;32m--> 296\u001b[0;31m                     \u001b[0mvalues\u001b[0m\u001b[0;34m,\u001b[0m \u001b[0mself\u001b[0m\u001b[0;34m.\u001b[0m\u001b[0mf\u001b[0m\u001b[0;34m,\u001b[0m \u001b[0maxis\u001b[0m\u001b[0;34m=\u001b[0m\u001b[0mself\u001b[0m\u001b[0;34m.\u001b[0m\u001b[0maxis\u001b[0m\u001b[0;34m,\u001b[0m \u001b[0mdummy\u001b[0m\u001b[0;34m=\u001b[0m\u001b[0mdummy\u001b[0m\u001b[0;34m,\u001b[0m \u001b[0mlabels\u001b[0m\u001b[0;34m=\u001b[0m\u001b[0mlabels\u001b[0m\u001b[0;34m\u001b[0m\u001b[0;34m\u001b[0m\u001b[0m\n\u001b[0m\u001b[1;32m    297\u001b[0m                 )\n\u001b[1;32m    298\u001b[0m             \u001b[0;32mexcept\u001b[0m \u001b[0mValueError\u001b[0m \u001b[0;32mas\u001b[0m \u001b[0merr\u001b[0m\u001b[0;34m:\u001b[0m\u001b[0;34m\u001b[0m\u001b[0;34m\u001b[0m\u001b[0m\n",
      "\u001b[0;32mpandas/_libs/reduction.pyx\u001b[0m in \u001b[0;36mpandas._libs.reduction.compute_reduction\u001b[0;34m()\u001b[0m\n",
      "\u001b[0;32mpandas/_libs/reduction.pyx\u001b[0m in \u001b[0;36mpandas._libs.reduction.Reducer.get_result\u001b[0;34m()\u001b[0m\n",
      "\u001b[0;32m<ipython-input-30-7feb16f86f27>\u001b[0m in \u001b[0;36m<lambda>\u001b[0;34m(x)\u001b[0m\n\u001b[0;32m----> 1\u001b[0;31m \u001b[0mpiston_imdata\u001b[0m\u001b[0;34m[\u001b[0m\u001b[0;34m\"sep_2ndM\"\u001b[0m\u001b[0;34m]\u001b[0m\u001b[0;34m=\u001b[0m \u001b[0mpiston_imdata\u001b[0m\u001b[0;34m.\u001b[0m\u001b[0mapply\u001b[0m\u001b[0;34m(\u001b[0m\u001b[0;32mlambda\u001b[0m \u001b[0mx\u001b[0m\u001b[0;34m:\u001b[0m \u001b[0mnp\u001b[0m\u001b[0;34m.\u001b[0m\u001b[0mmean\u001b[0m\u001b[0;34m(\u001b[0m\u001b[0;34m[\u001b[0m\u001b[0mx\u001b[0m\u001b[0;34m[\u001b[0m\u001b[0;34m\"sep_x2\"\u001b[0m\u001b[0;34m]\u001b[0m\u001b[0;34m,\u001b[0m\u001b[0mx\u001b[0m\u001b[0;34m[\u001b[0m\u001b[0;34m\"sep_y2\"\u001b[0m\u001b[0;34m]\u001b[0m\u001b[0;34m]\u001b[0m\u001b[0;34m)\u001b[0m \u001b[0;34m,\u001b[0m \u001b[0maxis\u001b[0m\u001b[0;34m=\u001b[0m\u001b[0;36m1\u001b[0m\u001b[0;34m)\u001b[0m\u001b[0;34m\u001b[0m\u001b[0;34m\u001b[0m\u001b[0m\n\u001b[0m",
      "\u001b[0;32m/software/drp/python/miniconda3-4.5.12/envs/lsst-scipipe-1172c30/lib/python3.7/site-packages/pandas/core/series.py\u001b[0m in \u001b[0;36m__getitem__\u001b[0;34m(self, key)\u001b[0m\n\u001b[1;32m    869\u001b[0m         \u001b[0mkey\u001b[0m \u001b[0;34m=\u001b[0m \u001b[0mcom\u001b[0m\u001b[0;34m.\u001b[0m\u001b[0mapply_if_callable\u001b[0m\u001b[0;34m(\u001b[0m\u001b[0mkey\u001b[0m\u001b[0;34m,\u001b[0m \u001b[0mself\u001b[0m\u001b[0;34m)\u001b[0m\u001b[0;34m\u001b[0m\u001b[0;34m\u001b[0m\u001b[0m\n\u001b[1;32m    870\u001b[0m         \u001b[0;32mtry\u001b[0m\u001b[0;34m:\u001b[0m\u001b[0;34m\u001b[0m\u001b[0;34m\u001b[0m\u001b[0m\n\u001b[0;32m--> 871\u001b[0;31m             \u001b[0mresult\u001b[0m \u001b[0;34m=\u001b[0m \u001b[0mself\u001b[0m\u001b[0;34m.\u001b[0m\u001b[0mindex\u001b[0m\u001b[0;34m.\u001b[0m\u001b[0mget_value\u001b[0m\u001b[0;34m(\u001b[0m\u001b[0mself\u001b[0m\u001b[0;34m,\u001b[0m \u001b[0mkey\u001b[0m\u001b[0;34m)\u001b[0m\u001b[0;34m\u001b[0m\u001b[0;34m\u001b[0m\u001b[0m\n\u001b[0m\u001b[1;32m    872\u001b[0m \u001b[0;34m\u001b[0m\u001b[0m\n\u001b[1;32m    873\u001b[0m             \u001b[0;32mif\u001b[0m \u001b[0;32mnot\u001b[0m \u001b[0mis_scalar\u001b[0m\u001b[0;34m(\u001b[0m\u001b[0mresult\u001b[0m\u001b[0;34m)\u001b[0m\u001b[0;34m:\u001b[0m\u001b[0;34m\u001b[0m\u001b[0;34m\u001b[0m\u001b[0m\n",
      "\u001b[0;32m/software/drp/python/miniconda3-4.5.12/envs/lsst-scipipe-1172c30/lib/python3.7/site-packages/pandas/core/indexes/base.py\u001b[0m in \u001b[0;36mget_value\u001b[0;34m(self, series, key)\u001b[0m\n\u001b[1;32m   4417\u001b[0m                     \u001b[0;32mraise\u001b[0m \u001b[0mInvalidIndexError\u001b[0m\u001b[0;34m(\u001b[0m\u001b[0mkey\u001b[0m\u001b[0;34m)\u001b[0m\u001b[0;34m\u001b[0m\u001b[0;34m\u001b[0m\u001b[0m\n\u001b[1;32m   4418\u001b[0m                 \u001b[0;32melse\u001b[0m\u001b[0;34m:\u001b[0m\u001b[0;34m\u001b[0m\u001b[0;34m\u001b[0m\u001b[0m\n\u001b[0;32m-> 4419\u001b[0;31m                     \u001b[0;32mraise\u001b[0m \u001b[0me1\u001b[0m\u001b[0;34m\u001b[0m\u001b[0;34m\u001b[0m\u001b[0m\n\u001b[0m\u001b[1;32m   4420\u001b[0m             \u001b[0;32mexcept\u001b[0m \u001b[0mException\u001b[0m\u001b[0;34m:\u001b[0m\u001b[0;34m\u001b[0m\u001b[0;34m\u001b[0m\u001b[0m\n\u001b[1;32m   4421\u001b[0m                 \u001b[0;32mraise\u001b[0m \u001b[0me1\u001b[0m\u001b[0;34m\u001b[0m\u001b[0;34m\u001b[0m\u001b[0m\n",
      "\u001b[0;32m/software/drp/python/miniconda3-4.5.12/envs/lsst-scipipe-1172c30/lib/python3.7/site-packages/pandas/core/indexes/base.py\u001b[0m in \u001b[0;36mget_value\u001b[0;34m(self, series, key)\u001b[0m\n\u001b[1;32m   4403\u001b[0m         \u001b[0mk\u001b[0m \u001b[0;34m=\u001b[0m \u001b[0mself\u001b[0m\u001b[0;34m.\u001b[0m\u001b[0m_convert_scalar_indexer\u001b[0m\u001b[0;34m(\u001b[0m\u001b[0mk\u001b[0m\u001b[0;34m,\u001b[0m \u001b[0mkind\u001b[0m\u001b[0;34m=\u001b[0m\u001b[0;34m\"getitem\"\u001b[0m\u001b[0;34m)\u001b[0m\u001b[0;34m\u001b[0m\u001b[0;34m\u001b[0m\u001b[0m\n\u001b[1;32m   4404\u001b[0m         \u001b[0;32mtry\u001b[0m\u001b[0;34m:\u001b[0m\u001b[0;34m\u001b[0m\u001b[0;34m\u001b[0m\u001b[0m\n\u001b[0;32m-> 4405\u001b[0;31m             \u001b[0;32mreturn\u001b[0m \u001b[0mself\u001b[0m\u001b[0;34m.\u001b[0m\u001b[0m_engine\u001b[0m\u001b[0;34m.\u001b[0m\u001b[0mget_value\u001b[0m\u001b[0;34m(\u001b[0m\u001b[0ms\u001b[0m\u001b[0;34m,\u001b[0m \u001b[0mk\u001b[0m\u001b[0;34m,\u001b[0m \u001b[0mtz\u001b[0m\u001b[0;34m=\u001b[0m\u001b[0mgetattr\u001b[0m\u001b[0;34m(\u001b[0m\u001b[0mseries\u001b[0m\u001b[0;34m.\u001b[0m\u001b[0mdtype\u001b[0m\u001b[0;34m,\u001b[0m \u001b[0;34m\"tz\"\u001b[0m\u001b[0;34m,\u001b[0m \u001b[0;32mNone\u001b[0m\u001b[0;34m)\u001b[0m\u001b[0;34m)\u001b[0m\u001b[0;34m\u001b[0m\u001b[0;34m\u001b[0m\u001b[0m\n\u001b[0m\u001b[1;32m   4406\u001b[0m         \u001b[0;32mexcept\u001b[0m \u001b[0mKeyError\u001b[0m \u001b[0;32mas\u001b[0m \u001b[0me1\u001b[0m\u001b[0;34m:\u001b[0m\u001b[0;34m\u001b[0m\u001b[0;34m\u001b[0m\u001b[0m\n\u001b[1;32m   4407\u001b[0m             \u001b[0;32mif\u001b[0m \u001b[0mlen\u001b[0m\u001b[0;34m(\u001b[0m\u001b[0mself\u001b[0m\u001b[0;34m)\u001b[0m \u001b[0;34m>\u001b[0m \u001b[0;36m0\u001b[0m \u001b[0;32mand\u001b[0m \u001b[0;34m(\u001b[0m\u001b[0mself\u001b[0m\u001b[0;34m.\u001b[0m\u001b[0mholds_integer\u001b[0m\u001b[0;34m(\u001b[0m\u001b[0;34m)\u001b[0m \u001b[0;32mor\u001b[0m \u001b[0mself\u001b[0m\u001b[0;34m.\u001b[0m\u001b[0mis_boolean\u001b[0m\u001b[0;34m(\u001b[0m\u001b[0;34m)\u001b[0m\u001b[0;34m)\u001b[0m\u001b[0;34m:\u001b[0m\u001b[0;34m\u001b[0m\u001b[0;34m\u001b[0m\u001b[0m\n",
      "\u001b[0;32mpandas/_libs/index.pyx\u001b[0m in \u001b[0;36mpandas._libs.index.IndexEngine.get_value\u001b[0;34m()\u001b[0m\n",
      "\u001b[0;32mpandas/_libs/index.pyx\u001b[0m in \u001b[0;36mpandas._libs.index.IndexEngine.get_value\u001b[0;34m()\u001b[0m\n",
      "\u001b[0;32mpandas/_libs/index.pyx\u001b[0m in \u001b[0;36mpandas._libs.index.IndexEngine.get_loc\u001b[0;34m()\u001b[0m\n",
      "\u001b[0;32mpandas/_libs/hashtable_class_helper.pxi\u001b[0m in \u001b[0;36mpandas._libs.hashtable.PyObjectHashTable.get_item\u001b[0;34m()\u001b[0m\n",
      "\u001b[0;32mpandas/_libs/hashtable_class_helper.pxi\u001b[0m in \u001b[0;36mpandas._libs.hashtable.PyObjectHashTable.get_item\u001b[0;34m()\u001b[0m\n",
      "\u001b[0;31mKeyError\u001b[0m: 'sep_x2'"
     ]
    }
   ],
   "source": [
    "piston_imdata[\"sep_2ndM\"]= piston_imdata.apply(lambda x: np.mean([x[\"sep_x2\"],x[\"sep_y2\"]]) , axis=1)"
   ]
  },
  {
   "cell_type": "raw",
   "metadata": {},
   "source": [
    "ax = piston_imdata.groupby([\"peak\", \"fiber\"]).plot(\"motor1\", \"fwhm\")\n",
    "ax[0].set_ylim(0,20)visitStart, visitEnd = getVisitRange(experimentId)\n",
    "\n"
   ]
  },
  {
   "cell_type": "raw",
   "metadata": {},
   "source": [
    "piston_imdata.groupby(['wavelength','fiber', \"motor1\"]).mean().reset_index()"
   ]
  },
  {
   "cell_type": "code",
   "execution_count": 31,
   "metadata": {},
   "outputs": [
    {
     "data": {
      "text/plain": [
       "9.99"
      ]
     },
     "execution_count": 31,
     "metadata": {},
     "output_type": "execute_result"
    }
   ],
   "source": [
    "piston[piston.fit_flag >=0 & piston.EE5_diff_flag].motor1.min()"
   ]
  },
  {
   "cell_type": "code",
   "execution_count": 32,
   "metadata": {},
   "outputs": [
    {
     "data": {
      "text/plain": [
       "9.99"
      ]
     },
     "execution_count": 32,
     "metadata": {},
     "output_type": "execute_result"
    }
   ],
   "source": [
    "piston_fitdata.motor1.min()"
   ]
  },
  {
   "cell_type": "code",
   "execution_count": 33,
   "metadata": {},
   "outputs": [
    {
     "ename": "NameError",
     "evalue": "name 'plot_prefix' is not defined",
     "output_type": "error",
     "traceback": [
      "\u001b[0;31m---------------------------------------------------------------------------\u001b[0m",
      "\u001b[0;31mNameError\u001b[0m                                 Traceback (most recent call last)",
      "\u001b[0;32m<ipython-input-33-9b2d503dbce7>\u001b[0m in \u001b[0;36m<module>\u001b[0;34m\u001b[0m\n\u001b[0;32m----> 1\u001b[0;31m \u001b[0mprint\u001b[0m\u001b[0;34m(\u001b[0m\u001b[0mplot_prefix\u001b[0m\u001b[0;34m)\u001b[0m\u001b[0;34m\u001b[0m\u001b[0;34m\u001b[0m\u001b[0m\n\u001b[0m\u001b[1;32m      2\u001b[0m \u001b[0mprint\u001b[0m\u001b[0;34m(\u001b[0m\u001b[0mdataPath\u001b[0m\u001b[0;34m)\u001b[0m\u001b[0;34m\u001b[0m\u001b[0;34m\u001b[0m\u001b[0m\n",
      "\u001b[0;31mNameError\u001b[0m: name 'plot_prefix' is not defined"
     ]
    }
   ],
   "source": [
    "print(plot_prefix)\n",
    "print(dataPath)"
   ]
  },
  {
   "cell_type": "code",
   "execution_count": 34,
   "metadata": {
    "lines_to_next_cell": 0
   },
   "outputs": [
    {
     "name": "stdout",
     "output_type": "stream",
     "text": [
      "[  2 102 166 489 554 650] [696.7352 727.494  795.0362 912.5471 966.0435]\n"
     ]
    },
    {
     "data": {
      "image/png": "[encoded data removed]",
      "text/plain": [
       "<Figure size 432x288 with 1 Axes>"
      ]
     },
     "metadata": {
      "needs_background": "light"
     },
     "output_type": "display_data"
    },
    {
     "data": {
      "image/png": "[encoded data removed]",
      "text/plain": [
       "<Figure size 432x288 with 1 Axes>"
      ]
     },
     "metadata": {
      "needs_background": "light"
     },
     "output_type": "display_data"
    },
    {
     "name": "stdout",
     "output_type": "stream",
     "text": [
      "2021-02-19 12:11:19.309467 \n",
      "/data/drp/analysis/sm2/Exp173/ws_slit_roi60/doBckTrue/\n",
      "ExpId 173\n",
      "/home/pfs/dev/ait-notebook/fmadec/Subaru/SM1/cluster/InvMat_sm1_17sept2020.mat\n",
      "[262.30613232 275.99989772 250.88954106]\n",
      "xcu_r2 motors moveCcd a=262.31 b=276.00 c=250.89 microns abs\n",
      "\n"
     ]
    },
    {
     "name": "stderr",
     "output_type": "stream",
     "text": [
      "/software/drp/python/miniconda3-4.5.12/envs/lsst-scipipe-1172c30/lib/python3.7/site-packages/ipykernel_launcher.py:40: UserWarning: Boolean Series key will be reindexed to match DataFrame index.\n"
     ]
    },
    {
     "name": "stdout",
     "output_type": "stream",
     "text": [
      "write png file: \n",
      " /data/drp/analysis/sm2/Exp173/ws_slit_roi60/doBckTrue/Focus_Piston_plots_doBckTrue_EE5_thres000_fiber_wavelength_Exp173_2021-02-19T12h11.png\n"
     ]
    },
    {
     "data": {
      "image/png": "[encoded data removed]",
      "text/plain": [
       "<Figure size 789x432 with 6 Axes>"
      ]
     },
     "metadata": {
      "needs_background": "light"
     },
     "output_type": "display_data"
    },
    {
     "name": "stderr",
     "output_type": "stream",
     "text": [
      "/software/drp/python/miniconda3-4.5.12/envs/lsst-scipipe-1172c30/lib/python3.7/site-packages/ipykernel_launcher.py:42: UserWarning: Boolean Series key will be reindexed to match DataFrame index.\n"
     ]
    },
    {
     "data": {
      "image/png": "[encoded data removed]",
      "text/plain": [
       "<Figure size 703.125x432 with 5 Axes>"
      ]
     },
     "metadata": {
      "needs_background": "light"
     },
     "output_type": "display_data"
    },
    {
     "data": {
      "image/png": "[encoded data removed]",
      "text/plain": [
       "<Figure size 789x432 with 6 Axes>"
      ]
     },
     "metadata": {
      "needs_background": "light"
     },
     "output_type": "display_data"
    },
    {
     "data": {
      "image/png": "[encoded data removed]",
      "text/plain": [
       "<Figure size 703.125x432 with 5 Axes>"
      ]
     },
     "metadata": {
      "needs_background": "light"
     },
     "output_type": "display_data"
    }
   ],
   "source": [
    "waves = piston_fitdata.wavelength.unique()\n",
    "fibers = piston_fitdata.fiber.unique()\n",
    "print(fibers, waves)\n",
    "fiber = fibers[-1]\n",
    "wave = waves[-1]\n",
    "#    group = piston_imdata.groupby(['wavelength','fiber']).get_group((wave,fiber))\n",
    "plot_one_group(piston, wave, fiber, experimentId, dataPath)\n",
    "\n",
    "piston_plane = getBestPlane(piston_focusMap.query(\"criteria == '%s'\"%criteria),order=1, \\\n",
    "                        doPlot=True, exp=experimentId, plot_path=dataPath)\n",
    "\n",
    "\n",
    "txtfile = f\"SM1_{cam.upper()}_BestFocusPlane_Exp{experimentId}_doBck{str(doBck)}_{criteria}_thres{str(int(threshold*100)).zfill(3)}{forest_prefix}.dat\"\n",
    "\n",
    "foc = findMotorPos(piston_plane, inv_mat = invMat)\n",
    "\n",
    "txt = f\"{datetime.now()} \\n\"\n",
    "txt += f\"{csvPath}\\n\"\n",
    "txt += f\"ExpId {experimentId}\\n\"\n",
    "txt += f\"{invMat}\\n\"\n",
    "txt += f\"{foc}\\n\"\n",
    "txt += f\"xcu_{cam} motors moveCcd a={foc[0]:.2f} b={foc[1]:.2f} c={foc[2]:.2f} microns abs\\n\"\n",
    "\n",
    "print(txt)\n",
    "\n",
    "# debug B2 \n",
    "#dataPath = \"/drp/analysis/sm2/debugB2\"\n",
    "\n",
    "if doSave :\n",
    "    text_file = open(csvPath+txtfile, \"w\")\n",
    "    text_file.write(txt)\n",
    "    text_file.close()\n",
    "\n",
    "plot_prefix = f\"Focus_Piston_plots_doBck{str(doBck)}_{criteria}_thres{str(int(threshold*100)).zfill(3)}{forest_prefix}\"\n",
    "title_suffix = f\"a={foc[0]:.2f} b={foc[1]:.2f} c={foc[2]:.2f} microns\"\n",
    "#title_suffix += f\"- DetBox {piston.detBoxTemp.mean():.1f}K - ccdTemp {piston.ccdTemp.mean():.1f}K - Slit Focus {piston.fcaFocus.mean():+.1f}mm\"\n",
    "title_suffix += f\"- DetBox {piston.detBoxTemp.mean():.1f}K - ccdTemp {piston.ccdTemp.mean():.1f}K - WS Slit tool\"\n",
    "\n",
    "\n",
    "plot_groups(piston.sort_values(\"motor1\")[piston.EE5_diff_flag], experimentId, dataPath, plot_prefix=plot_prefix, title_suffix=title_suffix,\\\n",
    "            col=\"fiber\", hue=\"wavelength\", criteria=criteria, doSave=doSave, verbose=True)\n",
    "plot_groups(piston.sort_values(\"motor1\")[piston.EE5_diff_flag], experimentId, dataPath, plot_prefix=plot_prefix, title_suffix=title_suffix,\\\n",
    "            col=\"wavelength\", hue=\"fiber\", criteria=criteria, doSave=doSave)\n",
    "\n",
    "plot_prefix = f\"Focus_Piston_fit_plots_doBck{str(doBck)}_{criteria}_thres{int(threshold*100):<3}{forest_prefix}\"\n",
    "plot_groups(piston_fitdata.sort_values(\"motor1\"), experimentId, dataPath, plot_prefix=plot_prefix, title_suffix=title_suffix, \\\n",
    "            col=\"fiber\", hue=\"wavelength\", criteria=criteria, doSave=doSave)\n",
    "plot_groups(piston_fitdata.sort_values(\"motor1\"), experimentId, dataPath, plot_prefix=plot_prefix, title_suffix=title_suffix,\\\n",
    "            col=\"wavelength\", hue=\"fiber\", criteria=criteria, doSave=doSave)"
   ]
  },
  {
   "cell_type": "code",
   "execution_count": 35,
   "metadata": {},
   "outputs": [],
   "source": [
    "piston_focusMap[\"ccdTemp\"] = piston.ccdTemp.mean()\n",
    "piston_focusMap[\"detBoxTemp\"] = piston.detBoxTemp.mean()\n"
   ]
  },
  {
   "cell_type": "code",
   "execution_count": 36,
   "metadata": {},
   "outputs": [
    {
     "data": {
      "text/plain": [
       "array([696.7352, 727.494 , 795.0362, 912.5471, 966.0435])"
      ]
     },
     "execution_count": 36,
     "metadata": {},
     "output_type": "execute_result"
    }
   ],
   "source": [
    "piston.wavelength.unique()"
   ]
  },
  {
   "cell_type": "code",
   "execution_count": 37,
   "metadata": {},
   "outputs": [
    {
     "data": {
      "text/html": [
       "<div>\n",
       "<style scoped>\n",
       "    .dataframe tbody tr th:only-of-type {\n",
       "        vertical-align: middle;\n",
       "    }\n",
       "\n",
       "    .dataframe tbody tr th {\n",
       "        vertical-align: top;\n",
       "    }\n",
       "\n",
       "    .dataframe thead th {\n",
       "        text-align: right;\n",
       "    }\n",
       "</style>\n",
       "<table border=\"1\" class=\"dataframe\">\n",
       "  <thead>\n",
       "    <tr style=\"text-align: right;\">\n",
       "      <th></th>\n",
       "      <th></th>\n",
       "      <th>relPos</th>\n",
       "      <th>criteria</th>\n",
       "      <th>value</th>\n",
       "      <th>detBoxTemp</th>\n",
       "      <th>ccdTemp</th>\n",
       "    </tr>\n",
       "    <tr>\n",
       "      <th>fiber</th>\n",
       "      <th>wavelength</th>\n",
       "      <th></th>\n",
       "      <th></th>\n",
       "      <th></th>\n",
       "      <th></th>\n",
       "      <th></th>\n",
       "    </tr>\n",
       "  </thead>\n",
       "  <tbody>\n",
       "    <tr>\n",
       "      <th rowspan=\"5\" valign=\"top\">2</th>\n",
       "      <th>696.7352</th>\n",
       "      <td>248.943131</td>\n",
       "      <td>EE5</td>\n",
       "      <td>0.964048</td>\n",
       "      <td>162.114543</td>\n",
       "      <td>165.283157</td>\n",
       "    </tr>\n",
       "    <tr>\n",
       "      <th>727.4940</th>\n",
       "      <td>253.232900</td>\n",
       "      <td>EE5</td>\n",
       "      <td>0.953255</td>\n",
       "      <td>162.114543</td>\n",
       "      <td>165.283157</td>\n",
       "    </tr>\n",
       "    <tr>\n",
       "      <th>795.0362</th>\n",
       "      <td>261.058479</td>\n",
       "      <td>EE5</td>\n",
       "      <td>0.934460</td>\n",
       "      <td>162.114543</td>\n",
       "      <td>165.283157</td>\n",
       "    </tr>\n",
       "    <tr>\n",
       "      <th>912.5471</th>\n",
       "      <td>269.950000</td>\n",
       "      <td>EE5</td>\n",
       "      <td>0.675997</td>\n",
       "      <td>162.114543</td>\n",
       "      <td>165.283157</td>\n",
       "    </tr>\n",
       "    <tr>\n",
       "      <th>966.0435</th>\n",
       "      <td>269.950000</td>\n",
       "      <td>EE5</td>\n",
       "      <td>0.692006</td>\n",
       "      <td>162.114543</td>\n",
       "      <td>165.283157</td>\n",
       "    </tr>\n",
       "    <tr>\n",
       "      <th rowspan=\"5\" valign=\"top\">650</th>\n",
       "      <th>696.7352</th>\n",
       "      <td>269.950000</td>\n",
       "      <td>EE5</td>\n",
       "      <td>0.311429</td>\n",
       "      <td>162.114543</td>\n",
       "      <td>165.283157</td>\n",
       "    </tr>\n",
       "    <tr>\n",
       "      <th>727.4940</th>\n",
       "      <td>269.950000</td>\n",
       "      <td>EE5</td>\n",
       "      <td>0.245808</td>\n",
       "      <td>162.114543</td>\n",
       "      <td>165.283157</td>\n",
       "    </tr>\n",
       "    <tr>\n",
       "      <th>795.0362</th>\n",
       "      <td>269.950000</td>\n",
       "      <td>EE5</td>\n",
       "      <td>0.187560</td>\n",
       "      <td>162.114543</td>\n",
       "      <td>165.283157</td>\n",
       "    </tr>\n",
       "    <tr>\n",
       "      <th>912.5471</th>\n",
       "      <td>269.950000</td>\n",
       "      <td>EE5</td>\n",
       "      <td>0.198661</td>\n",
       "      <td>162.114543</td>\n",
       "      <td>165.283157</td>\n",
       "    </tr>\n",
       "    <tr>\n",
       "      <th>966.0435</th>\n",
       "      <td>269.950000</td>\n",
       "      <td>EE5</td>\n",
       "      <td>0.144423</td>\n",
       "      <td>162.114543</td>\n",
       "      <td>165.283157</td>\n",
       "    </tr>\n",
       "  </tbody>\n",
       "</table>\n",
       "</div>"
      ],
      "text/plain": [
       "                      relPos criteria     value  detBoxTemp     ccdTemp\n",
       "fiber wavelength                                                       \n",
       "2     696.7352    248.943131      EE5  0.964048  162.114543  165.283157\n",
       "      727.4940    253.232900      EE5  0.953255  162.114543  165.283157\n",
       "      795.0362    261.058479      EE5  0.934460  162.114543  165.283157\n",
       "      912.5471    269.950000      EE5  0.675997  162.114543  165.283157\n",
       "      966.0435    269.950000      EE5  0.692006  162.114543  165.283157\n",
       "650   696.7352    269.950000      EE5  0.311429  162.114543  165.283157\n",
       "      727.4940    269.950000      EE5  0.245808  162.114543  165.283157\n",
       "      795.0362    269.950000      EE5  0.187560  162.114543  165.283157\n",
       "      912.5471    269.950000      EE5  0.198661  162.114543  165.283157\n",
       "      966.0435    269.950000      EE5  0.144423  162.114543  165.283157"
      ]
     },
     "execution_count": 37,
     "metadata": {},
     "output_type": "execute_result"
    }
   ],
   "source": [
    "fib_list = [2,339,650]\n",
    "piston_focusMap[piston_focusMap.fiber.isin(fib_list)].set_index([\"fiber\",\"wavelength\"]).sort_index()[[\"relPos\", \"criteria\",\"value\", \"detBoxTemp\", \"ccdTemp\"]]"
   ]
  },
  {
   "cell_type": "code",
   "execution_count": null,
   "metadata": {},
   "outputs": [],
   "source": [
    "piston_focusMap[piston_focusMap.fiber.isin(fib_list)].to_excel(f\"{imgPath}{cam.upper()}_Exp{experimentId}.xlsx\")"
   ]
  },
  {
   "cell_type": "code",
   "execution_count": 38,
   "metadata": {},
   "outputs": [
    {
     "name": "stderr",
     "output_type": "stream",
     "text": [
      "/software/drp/python/miniconda3-4.5.12/envs/lsst-scipipe-1172c30/lib/python3.7/site-packages/ipykernel_launcher.py:1: UserWarning: Boolean Series key will be reindexed to match DataFrame index.\n",
      "  \"\"\"Entry point for launching an IPython kernel.\n"
     ]
    },
    {
     "name": "stdout",
     "output_type": "stream",
     "text": [
      "write png file: \n",
      " /data/drp/analysis/sm2/Exp173/ws_slit_roi60/doBckTrue/Focus_Piston_fit_plots_doBckTrue_EE5_thres0  _fiber_wavelength_Exp173_2021-02-19T12h12.png\n"
     ]
    },
    {
     "data": {
      "image/png": "[encoded data removed]",
      "text/plain": [
       "<Figure size 789x216 with 2 Axes>"
      ]
     },
     "metadata": {
      "needs_background": "light"
     },
     "output_type": "display_data"
    }
   ],
   "source": [
    "plot_groups(piston[piston.fiber.isin(fib_list)].sort_values(\"motor1\")[piston.EE5_diff_flag], experimentId, dataPath, plot_prefix=plot_prefix, title_suffix=title_suffix,\\\n",
    "            col=\"fiber\", hue=\"wavelength\", criteria=criteria, doSave=doSave, verbose=True)"
   ]
  },
  {
   "cell_type": "code",
   "execution_count": null,
   "metadata": {},
   "outputs": [],
   "source": []
  },
  {
   "cell_type": "code",
   "execution_count": null,
   "metadata": {},
   "outputs": [],
   "source": []
  },
  {
   "cell_type": "code",
   "execution_count": null,
   "metadata": {},
   "outputs": [],
   "source": [
    "piston_focusMap[piston_focusMap.fiber.isin(fib_list)].to_csv(f\"{imgPath}{cam.upper()}_Exp{experimentId}.csv\")"
   ]
  },
  {
   "cell_type": "code",
   "execution_count": null,
   "metadata": {},
   "outputs": [],
   "source": [
    "piston_focusMap[piston_focusMap.fiber.isin(fib_list)]"
   ]
  },
  {
   "cell_type": "code",
   "execution_count": null,
   "metadata": {},
   "outputs": [],
   "source": [
    "piston.detBoxTemp.plot()"
   ]
  },
  {
   "cell_type": "code",
   "execution_count": null,
   "metadata": {},
   "outputs": [],
   "source": [
    "piston_focusMap.fiber == 650"
   ]
  },
  {
   "cell_type": "code",
   "execution_count": null,
   "metadata": {},
   "outputs": [],
   "source": [
    "piston.sort_values(\"motor1\")[\"fwhm\"].plot()"
   ]
  },
  {
   "cell_type": "code",
   "execution_count": null,
   "metadata": {},
   "outputs": [],
   "source": [
    "plot_groups(piston_imdata.sort_values(\"motor1\"), experimentId, dataPath, plot_prefix=plot_prefix, title_suffix=title_suffix,\\\n",
    "            col=\"fiber\", hue=\"wavelength\", criteria=\"fwhm\", doSave=False)"
   ]
  },
  {
   "cell_type": "code",
   "execution_count": null,
   "metadata": {},
   "outputs": [],
   "source": [
    "plot_groups(piston_imdata.sort_values(\"motor1\"), experimentId, dataPath, plot_prefix=plot_prefix, title_suffix=title_suffix,\\\n",
    "            col=\"fiber\", hue=\"wavelength\", criteria=\"sep_2ndM\", doSave=False)"
   ]
  },
  {
   "cell_type": "code",
   "execution_count": null,
   "metadata": {},
   "outputs": [],
   "source": []
  },
  {
   "cell_type": "code",
   "execution_count": null,
   "metadata": {},
   "outputs": [],
   "source": []
  },
  {
   "cell_type": "raw",
   "metadata": {
    "lines_to_next_cell": 2
   },
   "source": [
    "old invmat\n",
    "head='xcu_r1 motors moveCcd a=161.57 b=137.30 c=122.22 microns abs'"
   ]
  },
  {
   "cell_type": "raw",
   "metadata": {
    "lines_to_next_cell": 0
   },
   "source": [
    "invmat sept 2020\n",
    "head='xcu_r1 motors moveCcd a=167.60 b=173.08 c=129.01 microns abs'"
   ]
  },
  {
   "cell_type": "code",
   "execution_count": null,
   "metadata": {},
   "outputs": [],
   "source": [
    "a=166.46\n",
    "b=170.40\n",
    "c=132.65\n",
    "\n",
    "r = 0.635 #micron/rev\n",
    "r1 = 0.7\n",
    "correction = r1/r\n",
    "\n",
    "print(f\"Focus position adjusted with the motor picth correction {correction}\")\n",
    "\n",
    "print(f\"xcu_r1 motors moveCcd a={a*correction:.2f} b={b*correction:.2f} c={c*correction:.2f} microns abs\")"
   ]
  },
  {
   "cell_type": "code",
   "execution_count": null,
   "metadata": {},
   "outputs": [],
   "source": [
    "xcu_m1 motors moveCcd a=155.66 b=174.74 c=102.09 microns abs"
   ]
  },
  {
   "cell_type": "code",
   "execution_count": null,
   "metadata": {},
   "outputs": [],
   "source": [
    "a=156.66\n",
    "b=174.74\n",
    "c=102.09\n",
    "\n",
    "r = 0.635 #micron/rev\n",
    "r1 = 0.7\n",
    "correction = r1/r\n",
    "\n",
    "print(f\"Focus position adjusted with the motor picth correction {correction}\")\n",
    "\n",
    "print(f\"xcu_r1 motors moveCcd a={a*correction:.2f} b={b*correction:.2f} c={c*correction:.2f} microns abs\")"
   ]
  },
  {
   "cell_type": "code",
   "execution_count": null,
   "metadata": {
    "lines_to_next_cell": 2
   },
   "outputs": [],
   "source": [
    "192.3*correction"
   ]
  },
  {
   "cell_type": "code",
   "execution_count": null,
   "metadata": {},
   "outputs": [],
   "source": [
    "xcu_r1 motors moveCcd a=172.70 b=192.63 c=112.54 microns abs"
   ]
  },
  {
   "cell_type": "code",
   "execution_count": null,
   "metadata": {},
   "outputs": [],
   "source": [
    "plot_prefix = f\"Focus_Piston_plots_doBck{str(doBck)}_{criteria}\"\n",
    "title_suffix = f\"original data\"\n",
    "plot_groups(piston.sort_values(\"motor1\"), experimentId, dataPath, plot_prefix=plot_prefix, title_suffix=title_suffix,\\\n",
    "            col=\"fiber\", hue=\"wavelength\", criteria=criteria, doSave=doSave)\n",
    "plot_groups(piston.sort_values(\"motor1\"), experimentId, dataPath, plot_prefix=plot_prefix, title_suffix=title_suffix,\\\n",
    "            col=\"wavelength\", hue=\"fiber\", criteria=criteria, doSave=doSave)"
   ]
  },
  {
   "cell_type": "code",
   "execution_count": null,
   "metadata": {},
   "outputs": [],
   "source": [
    "piston_focusMap"
   ]
  },
  {
   "cell_type": "code",
   "execution_count": null,
   "metadata": {},
   "outputs": [],
   "source": [
    "\n",
    "# plot data\n",
    "fig, ax = plt.subplots(figsize=(15,7))\n",
    "# use unstack()\n",
    "#piston_focusMap.groupby(\"wavelength\").plot(x=\"fiber\", y=\"value\", ax=ax, legend=True)\n",
    "for name, plt_group in piston_focusMap.groupby(\"wavelength\"):\n",
    "    plt_group.plot(x=\"fiber\", y=\"value\", ax=ax, label=name, style=\"+-\")\n",
    "ax.set_ylim(0.8,1)\n",
    "ax.set_ylabel(\"EE5\")\n",
    "\n",
    "exp_title = f\"{cam.upper()} - Expected EE5  - Exp{experimentId}\\n from through focus sequence\"\n",
    "fig.suptitle(exp_title)\n",
    "dat = datetime.now().isoformat(timespec='minutes') \n",
    "if doSave:\n",
    "    plt.savefig(dataPath+f\"{cam.upper()}_Expected_EE5_Exp{experimentId}_{dat}.png\", bbox_inches = \"tight\")\n",
    "\n",
    "plotImageQualityScatter(piston_focusMap.rename(columns={\"value\": \"EE5\"}), par=\"EE5\", hist=\"EE5\", title=exp_title,\\\n",
    "                        savePlotFile=dataPath+f\"{cam.upper()}_Expected_Imquality_Exp{experimentId}_{dat}\",\\\n",
    "                       doSave=True)"
   ]
  },
  {
   "cell_type": "code",
   "execution_count": null,
   "metadata": {},
   "outputs": [],
   "source": [
    "fibers\n",
    "waves"
   ]
  },
  {
   "cell_type": "code",
   "execution_count": null,
   "metadata": {},
   "outputs": [],
   "source": [
    "val_motor = 164.073783\n",
    "d_val = 0.001\n",
    "df = piston_fitdata.groupby([\"fiber\", \"wavelength\"]).get_group((fibers[0], waves[0]))\n",
    "df = df[(df.motor1 > val_motor -d_val) & (df.motor1 < val_motor +d_val)]\n",
    "df"
   ]
  },
  {
   "cell_type": "code",
   "execution_count": null,
   "metadata": {},
   "outputs": [],
   "source": [
    "low = pd.read_csv(\"/home/fmadec/Pictures/analysis/Exp186/sm1-march2020_roi24/doBckTrue/imquality_r1_Exp186_doBckTrue_piston_focusMap_thres030.csv\")"
   ]
  },
  {
   "cell_type": "code",
   "execution_count": null,
   "metadata": {},
   "outputs": [],
   "source": [
    "low"
   ]
  },
  {
   "cell_type": "code",
   "execution_count": null,
   "metadata": {
    "lines_to_next_cell": 2
   },
   "outputs": [],
   "source": []
  },
  {
   "cell_type": "code",
   "execution_count": null,
   "metadata": {},
   "outputs": [],
   "source": [
    "piston_focusMap[piston_focusMap.value<0.9].count()"
   ]
  },
  {
   "cell_type": "code",
   "execution_count": null,
   "metadata": {},
   "outputs": [],
   "source": [
    "piston_focusMap.plot.scatter(x=\"fiber\", y=\"wavelength\",c=\"value\", colormap='viridis' )"
   ]
  },
  {
   "cell_type": "code",
   "execution_count": null,
   "metadata": {},
   "outputs": [],
   "source": [
    "df = piston_focusMap\n",
    "df = df.rename(columns={\"value\": \"EE5\"})"
   ]
  },
  {
   "cell_type": "code",
   "execution_count": null,
   "metadata": {},
   "outputs": [],
   "source": [
    "piston_group = piston.groupby([\"wavelength\"])"
   ]
  },
  {
   "cell_type": "code",
   "execution_count": null,
   "metadata": {},
   "outputs": [],
   "source": [
    "piston_group.brightness.mean()"
   ]
  },
  {
   "cell_type": "code",
   "execution_count": null,
   "metadata": {},
   "outputs": [],
   "source": [
    "piston_group.get_group(waves[-1]).brightness.hist()"
   ]
  },
  {
   "cell_type": "code",
   "execution_count": null,
   "metadata": {},
   "outputs": [],
   "source": [
    "fibers[0]"
   ]
  },
  {
   "cell_type": "code",
   "execution_count": null,
   "metadata": {},
   "outputs": [],
   "source": [
    "val_motor = piston_focusMap.groupby([\"fiber\", \"wavelength\"]).get_group((fibers[0], waves[-1])).motor1.values[0]"
   ]
  },
  {
   "cell_type": "code",
   "execution_count": null,
   "metadata": {},
   "outputs": [],
   "source": [
    "val_motorpsql -U essais -d geoloc -c 'UPDATE \"ERIOS_unit\" SET \"ERIOS_unit_symb\" = '\"'C'\"' WHERE \"ERIOS_unit_ID\" = 2';`"
   ]
  },
  {
   "cell_type": "code",
   "execution_count": null,
   "metadata": {
    "lines_to_next_cell": 2
   },
   "outputs": [],
   "source": [
    "df = piston.groupby([\"fiber\", \"wavelength\"]).get_group((fibers[0], waves[-1]))[[\"motor1\", \"filename\", \"brightness\", \"objx\", \"objy\"]]"
   ]
  },
  {
   "cell_type": "code",
   "execution_count": null,
   "metadata": {},
   "outputs": [],
   "source": [
    "df = df[(df.motor1 > val_motor -10) & (df.motor1 < val_motor +10)]"
   ]
  },
  {
   "cell_type": "code",
   "execution_count": null,
   "metadata": {},
   "outputs": [],
   "source": [
    "imagefile = df.filename.values[0]\n",
    "cx = df.objx.values[0]\n",
    "cy = df.objy.values[0]"
   ]
  },
  {
   "cell_type": "code",
   "execution_count": null,
   "metadata": {},
   "outputs": [],
   "source": [
    "visit = int(imagefile.split('calExp-SA')[-1].split(f\"{cam}.fits\")[0])"
   ]
  },
  {
   "cell_type": "code",
   "execution_count": null,
   "metadata": {},
   "outputs": [],
   "source": [
    "print(f\"{drpPath}/{repo}/rerun/{rerun}/detrend/\")"
   ]
  },
  {
   "cell_type": "code",
   "execution_count": null,
   "metadata": {
    "lines_to_next_cell": 2
   },
   "outputs": [],
   "source": []
  },
  {
   "cell_type": "code",
   "execution_count": null,
   "metadata": {},
   "outputs": [],
   "source": [
    "butler = dafPersist.Butler(f\"{drpPath}/{repo}/rerun/{rerun}/detrend/\")\n",
    "calExp = butler.get(\"calexp\", visit=visit, arm=cam[0])"
   ]
  },
  {
   "cell_type": "code",
   "execution_count": null,
   "metadata": {},
   "outputs": [],
   "source": [
    "plotOnePeak(calExp.image.array, cx, cy, roi_size=roi_size, doBck=doBck)"
   ]
  },
  {
   "cell_type": "raw",
   "metadata": {
    "lines_to_next_cell": 0
   },
   "source": []
  },
  {
   "cell_type": "code",
   "execution_count": null,
   "metadata": {},
   "outputs": [],
   "source": []
  },
  {
   "cell_type": "code",
   "execution_count": null,
   "metadata": {
    "lines_to_next_cell": 2
   },
   "outputs": [],
   "source": []
  },
  {
   "cell_type": "code",
   "execution_count": null,
   "metadata": {},
   "outputs": [],
   "source": []
  },
  {
   "cell_type": "code",
   "execution_count": null,
   "metadata": {
    "lines_to_next_cell": 2
   },
   "outputs": [],
   "source": []
  },
  {
   "cell_type": "code",
   "execution_count": null,
   "metadata": {
    "lines_to_next_cell": 2
   },
   "outputs": [],
   "source": []
  },
  {
   "cell_type": "code",
   "execution_count": null,
   "metadata": {},
   "outputs": [],
   "source": []
  },
  {
   "cell_type": "code",
   "execution_count": null,
   "metadata": {},
   "outputs": [],
   "source": []
  },
  {
   "cell_type": "code",
   "execution_count": null,
   "metadata": {
    "lines_to_next_cell": 2
   },
   "outputs": [],
   "source": []
  },
  {
   "cell_type": "code",
   "execution_count": null,
   "metadata": {},
   "outputs": [],
   "source": []
  },
  {
   "cell_type": "code",
   "execution_count": null,
   "metadata": {
    "lines_to_next_cell": 2
   },
   "outputs": [],
   "source": []
  },
  {
   "cell_type": "raw",
   "metadata": {
    "lines_to_next_cell": 0
   },
   "source": [
    "criteria = \"EE5\"\n",
    "plot_prefix = f\"Focus_Piston_plots__{criteria}_thres{str(int(threshold*100)).zfill(3)}\"\n",
    "title_suffix = f\"a={foc[0]:.2f} b={foc[1]:.2f} c={foc[2]:.2f} microns\"\n",
    "plot_groups(piston.sort_values(\"motor1\"), experimentId, dataPath,\\\n",
    "            plot_prefix=plot_prefix, title_suffix=title_suffix, col=\"fiber\", hue=\"wavelength\", doSave=doSave)\n",
    "plot_groups(piston.sort_values(\"motor1\"), experimentId, dataPath,\\\n",
    "            plot_prefix=plot_prefix, title_suffix=title_suffix, col=\"wavelength\", hue=\"fiber\", doSave=doSave)\n",
    "\n",
    "plot_prefix = f\"Focus_Piston_fit_plots_thres{int(threshold*100):<3}\"\n",
    "plot_groups(piston_fitdata.sort_values(\"motor1\"), experimentId, dataPath,\\\n",
    "            plot_prefix=plot_prefix, title_suffix=title_suffix, col=\"fiber\", hue=\"wavelength\", doSave=doSave)\n",
    "plot_groups(piston_fitdata.sort_values(\"motor1\"), experimentId, dataPath, \\\n",
    "            plot_prefix=plot_prefix, title_suffix=title_suffix, col=\"wavelength\", hue=\"fiber\", doSave=doSave)\n"
   ]
  },
  {
   "cell_type": "code",
   "execution_count": null,
   "metadata": {},
   "outputs": [],
   "source": [
    "piston.fit_flag"
   ]
  },
  {
   "cell_type": "code",
   "execution_count": null,
   "metadata": {
    "lines_to_next_cell": 2
   },
   "outputs": [],
   "source": []
  },
  {
   "cell_type": "code",
   "execution_count": null,
   "metadata": {},
   "outputs": [],
   "source": [
    "fiber = fibers[0]\n",
    "wave = waves[-1]\n",
    "print(wave, fiber)\n",
    "group = piston_imdata.groupby(['wavelength','fiber']).get_group((wave,fiber))\n",
    "plot_one_group(piston, wave, fiber, experimentId, dataPath)"
   ]
  },
  {
   "cell_type": "code",
   "execution_count": null,
   "metadata": {},
   "outputs": [],
   "source": [
    "group.motor1.plot(style=\"*\")"
   ]
  },
  {
   "cell_type": "code",
   "execution_count": null,
   "metadata": {},
   "outputs": [],
   "source": [
    "len(group.motor1)"
   ]
  },
  {
   "cell_type": "code",
   "execution_count": null,
   "metadata": {},
   "outputs": [],
   "source": [
    "2256-2275"
   ]
  },
  {
   "cell_type": "code",
   "execution_count": null,
   "metadata": {
    "lines_to_next_cell": 2
   },
   "outputs": [],
   "source": [
    "gfit = piston_fitdata.groupby(['wavelength','fiber']).get_group((wave,fiber))"
   ]
  },
  {
   "cell_type": "code",
   "execution_count": null,
   "metadata": {
    "lines_to_next_cell": 2
   },
   "outputs": [],
   "source": [
    "group = piston.groupby(['wavelength','fiber']).get_group((wave,fiber))\n",
    "g_filt = piston[piston.EE5_diff_flag >=0].groupby(['wavelength','fiber']).get_group((wave,fiber))\n",
    "\n",
    "#ax = group.plot.scatter(\"motor1\", \"sep_y2\",\\\n",
    "#                   title=f\"Exp{experimentId} - fiber {fiber} - wave {wave}\",\\\n",
    "#                   label=\"sep_y2\")\n",
    "#ax2 = ax.twinx()\n",
    "#group.plot.scatter(\"motor1\", \"sep_x2\", ax=ax,color=\"r\", label=\"sep_x2\" )\n",
    "ax = group.plot.scatter(\"motor1\", \"EE5\",color=\"g\", label=\"EE5\",  title=f\"Exp{experimentId} - fiber {fiber} - wave {wave}\", )\n",
    "g_filt[g_filt.EE5_diff_flag == False ].plot(\"motor1\", \"EE5\",color=\"r\", style='+'  ,ax=ax)\n",
    "#group.plot(\"motor1\", \"EE5\",ax=ax,color=\"r\", style=\"+\", label=\"EE5\",  title=f\"Exp{experimentId} - fiber {fiber} - wave {wave}\", )\n",
    "gfit.plot.scatter(\"motor1\", \"EE5\",color=\"b\", ax=ax, label=\"fit\",  )\n",
    "if doSave:\n",
    "    plt.savefig(csvPath+f\"Focus_fit_fiber{fiber}_wave{wave}_Exp{experimentId}.png\")"
   ]
  },
  {
   "cell_type": "code",
   "execution_count": null,
   "metadata": {
    "lines_to_next_cell": 2
   },
   "outputs": [],
   "source": [
    "thres = -0.05\n",
    "#group[\"EE5_diff\"] = (group.EE5.diff(periods=-1) - group.EE5.diff(periods=1))/2.\n",
    "group[\"EE5_diff\"] = group.EE5 - (group.EE5.shift(-1) + group.EE5.shift(1))/2. \n",
    "group[\"EE5_diff\"].fillna(0, inplace=True)\n",
    "\n",
    "group[\"EE5_meanlocal\"] = (group.EE5.shift(-1) + group.EE5.shift(1))/2. \n",
    "\n",
    "#group[\"EE5_diff_flag\"] = ((group.EE5.pct_change(periods=-1).abs() - group.EE5.pct_change(periods=1).abs() < thres))\n",
    "#group[group.EE5_diff_flag2]\n",
    "#\n",
    "group[\"EE5_diff_flag\"] = ((group.EE5_diff > thres))"
   ]
  },
  {
   "cell_type": "raw",
   "metadata": {},
   "source": [
    "thres = -0.1\n",
    "#group[\"EE5_diff\"] = (group.EE5.diff(periods=-1) - group.EE5.diff(periods=1))/2.\n",
    "group[\"EE5_diff\"] = (group.EE5.diff(-1) + group.EE5.diff(2) - group.EE5.diff(1))/2. \n",
    "group[\"EE5_diff\"].fillna(0, inplace=True)\n",
    "\n",
    "group[\"EE5_diff2\"] = (group.EE5.diff(-1) + group.EE5.diff(2) - group.EE5.diff(1))/2. + group.EE5\n",
    "\n",
    "#group[\"EE5_diff_flag\"] = ((group.EE5.pct_change(periods=-1).abs() - group.EE5.pct_change(periods=1).abs() < thres))\n",
    "#group[group.EE5_diff_flag2]\n",
    "#\n",
    "group[\"EE5_diff_flag\"] = ((group.EE5_diff > thres))\n"
   ]
  },
  {
   "cell_type": "raw",
   "metadata": {},
   "source": [
    "thres = -0.08\n",
    "group[\"EE5_diff_flag\"] = (group.EE5.diff(periods=-1) > thres) & (group.EE5.diff(periods=1) > thres)\n"
   ]
  },
  {
   "cell_type": "raw",
   "metadata": {},
   "source": [
    "thres = -0.2\n",
    "group[\"EE5_diff_flag\"] = (group.EE5.pct_change(periods=-1) > thres) & (group.EE5.pct_change(periods=1) > thres)\n"
   ]
  },
  {
   "cell_type": "code",
   "execution_count": null,
   "metadata": {},
   "outputs": [],
   "source": [
    "x = group[group.EE5_diff_flag].motor1.values\n",
    "y = group[group.EE5_diff_flag].EE5.values\n",
    "offset = np.median(y)\n",
    "fy = y-offset\n",
    "amp = np.max(fy)\n",
    "mean = x[np.argmin(np.abs(fy-amp))]\n",
    "hmean = x[np.argmin(np.abs(fy-amp/2))]\n",
    "sig =  np.abs(mean-hmean) / (np.sqrt(2 * np.log(2)))\n",
    "\n",
    "popt1, pcov = curve_fit(oneD_Gaussian, x, y, p0=[amp,mean,sig,offset], maxfev=10000)\n"
   ]
  },
  {
   "cell_type": "code",
   "execution_count": null,
   "metadata": {},
   "outputs": [],
   "source": [
    "print(popt1)\n",
    "print(popt1[0]+popt1[-1])"
   ]
  },
  {
   "cell_type": "code",
   "execution_count": null,
   "metadata": {},
   "outputs": [],
   "source": [
    "newx = np.linspace(np.min(x), np.max(x), 100000)\n",
    "data = np.zeros((len(newx), 2))\n",
    "data[:,0] = newx     \n",
    "data[:,1] = oneD_Gaussian(newx, *popt1)"
   ]
  },
  {
   "cell_type": "code",
   "execution_count": null,
   "metadata": {},
   "outputs": [],
   "source": [
    "group.groupby(\"motor1\").mean()"
   ]
  },
  {
   "cell_type": "code",
   "execution_count": null,
   "metadata": {},
   "outputs": [],
   "source": [
    "group.groupby(\"motor1\").mean()[[\"EE5_meanlocal\"]]"
   ]
  },
  {
   "cell_type": "code",
   "execution_count": null,
   "metadata": {
    "lines_to_next_cell": 0
   },
   "outputs": [],
   "source": [
    "ax = group.set_index(\"motor1\").EE5.plot(style=\"k*\")\n",
    "ax2 = ax.twinx()\n",
    "#group.EE5.diff().plot(ax=ax2)\n",
    "#group.set_index(\"motor1\").EE5.pct_change().plot(ax=ax2, color=\"r\")\n",
    "\n",
    "#group.set_index(\"motor1\").EE5.diff(periods=-1).plot(ax=ax2, style=\"r\")\n",
    "#group.set_index(\"motor1\").EE5.diff(periods=1).plot(ax=ax2)\n",
    "\n",
    "group.set_index(\"motor1\").EE5_meanlocal.plot( ax=ax, style=\"r+\")\n",
    "#group.set_index(\"motor1\").EE5_diff.plot( ax=ax2, style=\"g+\")\n",
    "#group.set_index(\"motor1\").EE5.rolling(2, win_type='triang', center=True).mean().plot(ax=ax, style=\"yo\")\n",
    "\n",
    "#group[group.EE5_diff_flag].set_index(\"motor1\").EE5.plot(style=\"r*\", ax=ax)\n",
    "ax.plot(newx, data[:,1])"
   ]
  },
  {
   "cell_type": "code",
   "execution_count": null,
   "metadata": {
    "lines_to_next_cell": 0
   },
   "outputs": [],
   "source": [
    "ax = group.set_index(\"motor1\").EE5.plot(style=\"k+\")\n",
    "ax2 = ax.twinx()\n",
    "\n",
    "group.set_index(\"motor1\").EE5_meanlocal.plot( ax=ax, style=\"b*\")\n",
    "group.set_index(\"motor1\").EE5_diff.plot( ax=ax2, style=\"g+\")\n",
    "group[group.EE5_diff_flag].set_index(\"motor1\").EE5.plot(style=\"r*\", ax=ax)\n",
    "ax.plot(newx, data[:,1])"
   ]
  },
  {
   "cell_type": "code",
   "execution_count": null,
   "metadata": {},
   "outputs": [],
   "source": []
  },
  {
   "cell_type": "code",
   "execution_count": null,
   "metadata": {
    "lines_to_next_cell": 2
   },
   "outputs": [],
   "source": []
  },
  {
   "cell_type": "code",
   "execution_count": null,
   "metadata": {
    "lines_to_next_cell": 2
   },
   "outputs": [],
   "source": []
  },
  {
   "cell_type": "code",
   "execution_count": null,
   "metadata": {},
   "outputs": [],
   "source": []
  },
  {
   "cell_type": "code",
   "execution_count": null,
   "metadata": {
    "lines_to_next_cell": 2
   },
   "outputs": [],
   "source": []
  },
  {
   "cell_type": "code",
   "execution_count": null,
   "metadata": {
    "lines_to_next_cell": 2
   },
   "outputs": [],
   "source": []
  },
  {
   "cell_type": "code",
   "execution_count": null,
   "metadata": {
    "lines_to_next_cell": 2
   },
   "outputs": [],
   "source": []
  },
  {
   "cell_type": "code",
   "execution_count": null,
   "metadata": {
    "lines_to_next_cell": 2
   },
   "outputs": [],
   "source": []
  },
  {
   "cell_type": "code",
   "execution_count": null,
   "metadata": {
    "lines_to_next_cell": 2
   },
   "outputs": [],
   "source": []
  },
  {
   "cell_type": "code",
   "execution_count": null,
   "metadata": {},
   "outputs": [],
   "source": [
    "ax = group.set_index(\"motor1\").EE5.plot(style=\"k*\")\n",
    "ax2 = ax.twinx()\n",
    "#group.EE5.diff().plot(ax=ax2)\n",
    "#group.set_index(\"motor1\").EE5.pct_change().plot(ax=ax2, color=\"r\")\n",
    "\n",
    "group.set_index(\"motor1\").EE5.diff(periods=-1).plot(ax=ax2, style=\"r\")\n",
    "group.set_index(\"motor1\").EE5.diff(periods=1).plot(ax=ax2)\n",
    "\n",
    "group.set_index(\"motor1\").EE5_diff.plot( ax=ax2, color=\"y\")\n",
    "\n",
    "group[group.EE5_diff_flag].set_index(\"motor1\").EE5.plot(style=\"r*\", ax=ax)\n",
    "ax.plot(newx, data[:,1])"
   ]
  },
  {
   "cell_type": "code",
   "execution_count": null,
   "metadata": {},
   "outputs": [],
   "source": [
    "group[\"EE5_diff\"] = group.EE5.pct_change()\n",
    "print(group.EE5_diff.abs().mean())"
   ]
  },
  {
   "cell_type": "code",
   "execution_count": null,
   "metadata": {},
   "outputs": [],
   "source": [
    "group.EE5.diff(periods=2)"
   ]
  },
  {
   "cell_type": "code",
   "execution_count": null,
   "metadata": {},
   "outputs": [],
   "source": [
    "group[[\"EE5\",\"EE5_diff\"]].abs()"
   ]
  },
  {
   "cell_type": "code",
   "execution_count": null,
   "metadata": {},
   "outputs": [],
   "source": [
    "group[[\"EE5\",\"EE5_diff\"]].rolling(2).mean().abs()"
   ]
  },
  {
   "cell_type": "code",
   "execution_count": null,
   "metadata": {},
   "outputs": [],
   "source": [
    "group.EE5_diff.abs() > 2.5* group.EE5_diff.rolling(2).mean().abs()"
   ]
  },
  {
   "cell_type": "code",
   "execution_count": null,
   "metadata": {},
   "outputs": [],
   "source": [
    "ax = group.set_index(\"motor1\").EE5.plot(style=\"b*\")\n",
    "ax2 = ax.twinx()\n",
    "\n",
    "#group.set_index(\"motor1\").EE5.diff(1).plot(style=\"r*\", ax=ax2)\n",
    "\n",
    "group.rolling(2, on=\"EE5\").mean().set_index(\"motor1\").EE5.plot(style=\"g*\")"
   ]
  },
  {
   "cell_type": "code",
   "execution_count": null,
   "metadata": {},
   "outputs": [],
   "source": [
    "group[\"EE5_roll_mean\"] = group.EE5.rolling(2).mean()"
   ]
  },
  {
   "cell_type": "code",
   "execution_count": null,
   "metadata": {},
   "outputs": [],
   "source": [
    "group[[\"EE5_roll_mean\", \"EE5\"]].diff(periods=-1)"
   ]
  },
  {
   "cell_type": "code",
   "execution_count": null,
   "metadata": {},
   "outputs": [],
   "source": [
    "ax = group.set_index(\"motor1\").EE5.plot(style=\"b*\")\n",
    "ax2 = ax.twinx()\n",
    "#group.EE5.diff().plot(ax=ax2)\n",
    "group.set_index(\"motor1\").EE5.pct_change().plot(ax=ax2, color=\"b\")\n",
    "group[group.EE5_diff_flag].set_index(\"motor1\").EE5.plot(style=\"k*\", ax=ax)\n",
    "group.rolling(4, on=\"EE5_diff\").mean().set_index(\"motor1\").EE5_diff.plot(style=\"g*\")\n",
    "group[group.EE5_diff.abs() > 1.* group.EE5_diff.rolling(3).mean().abs()].set_index(\"motor1\").EE5.plot(style=\"rx\", ax=ax)"
   ]
  },
  {
   "cell_type": "code",
   "execution_count": null,
   "metadata": {},
   "outputs": [],
   "source": [
    "group[\"EE5_diff_flag\"] = True"
   ]
  },
  {
   "cell_type": "code",
   "execution_count": null,
   "metadata": {},
   "outputs": [],
   "source": [
    "thres = -0.3\n",
    "group[\"EE5_diff_flag\"] = (group.EE5_diff > thres)\n",
    "group[\"EE5_diff_flag\"].iloc[0] = True"
   ]
  },
  {
   "cell_type": "code",
   "execution_count": null,
   "metadata": {},
   "outputs": [],
   "source": [
    "group.EE5_diff > thres"
   ]
  },
  {
   "cell_type": "raw",
   "metadata": {},
   "source": [
    "group[\"EE5_diff_flag\"] = (group.EE5_diff > -0.1) & (group.EE5_diff.shift(-1) < 0.1)"
   ]
  },
  {
   "cell_type": "code",
   "execution_count": null,
   "metadata": {},
   "outputs": [],
   "source": [
    "ax = group.set_index(\"motor1\").EE5.plot(style=\"k*\")\n",
    "ax2 = ax.twinx()\n",
    "#group.EE5.diff().plot(ax=ax2)\n",
    "group.set_index(\"motor1\").EE5.pct_change().plot(ax=ax2, color=\"r\")\n",
    "group[group.EE5_diff_flag].set_index(\"motor1\").EE5.plot(style=\"r*\", ax=ax)"
   ]
  },
  {
   "cell_type": "code",
   "execution_count": null,
   "metadata": {},
   "outputs": [],
   "source": [
    "ax = group.set_index(\"motor1\").EE5.plot(style=\"k*\")\n",
    "ax2 = ax.twinx()\n",
    "#group.EE5.diff().plot(ax=ax2)\n",
    "group.set_index(\"motor1\").EE5.pct_change().plot(ax=ax2, color=\"r\")\n",
    "group[group.EE5_diff_flag].set_index(\"motor1\").dropna().EE5.plot(style=\"r*\", ax=ax)\n",
    "#group.dropna()[group.dropna().EE5_diff_flag].EE5.plot(style=\"*\", ax=ax)"
   ]
  },
  {
   "cell_type": "code",
   "execution_count": null,
   "metadata": {},
   "outputs": [],
   "source": [
    "low = .02\n",
    "high = .95\n",
    "quant_df = group.EE5_diff.quantile([low, high])"
   ]
  },
  {
   "cell_type": "code",
   "execution_count": null,
   "metadata": {},
   "outputs": [],
   "source": [
    "quant_df"
   ]
  },
  {
   "cell_type": "code",
   "execution_count": null,
   "metadata": {},
   "outputs": [],
   "source": [
    "import numpy as np\n",
    "def removeOutliers(x, outlierConstant):\n",
    "    a = np.array(x)\n",
    "    upper_quartile = np.percentile(a, 75)\n",
    "    lower_quartile = np.percentile(a, 25)\n",
    "    IQR = (upper_quartile - lower_quartile) * outlierConstant\n",
    "    quartileSet = (lower_quartile - IQR, upper_quartile + IQR)\n",
    "    resultList = []\n",
    "    for y in a.tolist():\n",
    "        if y >= quartileSet[0] and y <= quartileSet[1]:\n",
    "            resultList.append(y)\n",
    "    return resultList"
   ]
  },
  {
   "cell_type": "code",
   "execution_count": null,
   "metadata": {},
   "outputs": [],
   "source": [
    "df = group[[\"motor1\", \"EE5\"]]"
   ]
  },
  {
   "cell_type": "code",
   "execution_count": null,
   "metadata": {},
   "outputs": [],
   "source": [
    "import numpy as np\n",
    "from pandas.api.types import is_numeric_dtype\n",
    "\n",
    "def remove_outlier(df):\n",
    "    low = .10\n",
    "    high = .90\n",
    "    quant_df = df.quantile([low, high])\n",
    "    for name in list(df.columns):\n",
    "        if is_numeric_dtype(df[name]):\n",
    "            df = df[(df[name] > quant_df.loc[low, name]) \n",
    "           & (df[name] < quant_df.loc[high, name])]\n",
    "    return df\n",
    "remove_outlier(df)"
   ]
  },
  {
   "cell_type": "code",
   "execution_count": null,
   "metadata": {},
   "outputs": [],
   "source": [
    "quant_df = df.quantile([low, high])\n",
    "quant_df"
   ]
  },
  {
   "cell_type": "code",
   "execution_count": null,
   "metadata": {},
   "outputs": [],
   "source": [
    "ax = group.set_index(\"motor1\").EE5.plot(style=\"k*\")\n",
    "ax2 = ax.twinx()\n",
    "#group.EE5.diff().plot(ax=ax2)\n",
    "group.set_index(\"motor1\").EE5.pct_change().plot(ax=ax2, color=\"r\")\n",
    "group[group.EE5_diff_flag].set_index(\"motor1\").EE5.plot(style=\"r*\", ax=ax)\n",
    "df.set_index(\"motor1\").EE5.plot(style=\"gx\", ax=ax)"
   ]
  },
  {
   "cell_type": "code",
   "execution_count": null,
   "metadata": {
    "lines_to_next_cell": 2
   },
   "outputs": [],
   "source": []
  },
  {
   "cell_type": "code",
   "execution_count": null,
   "metadata": {},
   "outputs": [],
   "source": [
    "thfoc_data = []\n",
    "series = g_filt\n",
    "index = piston_index\n",
    "#    criterias = critierias if criterias is None else ['EE5', 'EE3', 'brightness', 'fwhm']\n",
    "\n",
    "    #series = series.dropna()\n",
    "thfoc = getFocus(series, criteria=criterias[0], index=index, doPrint=doPrint)"
   ]
  },
  {
   "cell_type": "code",
   "execution_count": null,
   "metadata": {},
   "outputs": [],
   "source": [
    "thfoc"
   ]
  },
  {
   "cell_type": "code",
   "execution_count": null,
   "metadata": {},
   "outputs": [],
   "source": [
    "for criteria in criterias:\n",
    "    thfoc[criteria] = getFocus(series, criteria=criteria, index=index, doPrint=doPrint)[criteria]\n",
    "\n",
    "thfoc['peak'] =  series.peak.unique()[0]\n",
    "thfoc['wavelength'] = wave\n",
    "thfoc['fiber'] = fiber\n",
    "thfoc['px'] = np.interp(thfoc[index], series[index], series['px'])\n",
    "thfoc['py'] = np.interp(thfoc[index], series[index], series['py'])\n",
    "# re-create motor value with the higer sampling given by gaussfit\n",
    "print(series.motor1.min())\n",
    "print(thfoc[index].min())\n",
    "thfoc['motor1'] = thfoc[index] + series.motor1.min()\n",
    "thfoc['motor2'] = thfoc[index] + series.motor2.min()\n",
    "thfoc['motor3'] = thfoc[index] + series.motor3.min()\n",
    "\n",
    "thfoc_data.append(thfoc)"
   ]
  },
  {
   "cell_type": "code",
   "execution_count": null,
   "metadata": {
    "lines_to_next_cell": 2
   },
   "outputs": [],
   "source": [
    "thfoc.motor1.min()"
   ]
  },
  {
   "cell_type": "code",
   "execution_count": null,
   "metadata": {},
   "outputs": [],
   "source": [
    "g_filt[[\"fit_flag\",\"motor1\"]].sort_values(\"motor1\")"
   ]
  },
  {
   "cell_type": "code",
   "execution_count": null,
   "metadata": {},
   "outputs": [],
   "source": [
    "g_filt.motor1.min()"
   ]
  },
  {
   "cell_type": "code",
   "execution_count": null,
   "metadata": {},
   "outputs": [],
   "source": [
    "thfoc_data = pd.concat(thfoc_data)\n",
    "\n",
    "if doPlot:\n",
    "    kwargs = dict(grid=True, figsize=(14,10), legend=True, subplots=True)\n",
    "    criterias = ['EE5','EE3', 'brightness', 'fwhm']\n",
    "    for (wavelength, fiber), fit in thfoc_data.groupby(['wavelength','fiber']):\n",
    "### WARINIG: CA VA PAS MARCHER !! ??\n",
    "        imdata['waveStr'] = imdata['wavelength'].map('{:,.5f}'.format).astype(\"str\")\n",
    "        raw = imdata.query(\"waveStr==%d and fiber==%d\"%(wavelength, fiber))\n",
    "        axes = fit.set_index('motor1')[criterias].plot(**kwargs)\n",
    "        for i, criteria in enumerate(criterias):\n",
    "            axes[i].plot(raw['motor1'].values, raw[criteria].values, 'o')"
   ]
  },
  {
   "cell_type": "code",
   "execution_count": null,
   "metadata": {
    "lines_to_next_cell": 0
   },
   "outputs": [],
   "source": [
    "def fitFocusData(imdata, index='relPos', criterias=['EE5','EE3', 'brightness', 'fwhm'], doPlot=False, doPrint=False, head=0, tail=0):\n",
    "    thfoc_data = []\n",
    "    tmpdata = imdata[head:imdata.count()[0]-tail]\n",
    "\n",
    "#    criterias = critierias if criterias is None else ['EE5', 'EE3', 'brightness', 'fwhm']\n",
    "\n",
    "    for (wavelength, fiber), series in tmpdata.groupby(['wavelength','fiber']):\n",
    "        #series = series.dropna()\n",
    "        thfoc = getFocus(series, criteria=criterias[0], index=index, doPrint=doPrint)\n",
    "        for criteria in criterias:\n",
    "            thfoc[criteria] = getFocus(series, criteria=criteria, index=index, doPrint=doPrint)[criteria]\n",
    "\n",
    "        thfoc['peak'] =  series.peak.unique()[0]\n",
    "        thfoc['wavelength'] = wavelength\n",
    "        thfoc['fiber'] = fiber\n",
    "        thfoc['px'] = np.interp(thfoc[index], series[index], series['px'])\n",
    "        thfoc['py'] = np.interp(thfoc[index], series[index], series['py'])\n",
    "        # re-create motor value with the higer sampling given by gaussfit\n",
    "        thfoc['motor1'] = thfoc[index] + series.motor1.min()\n",
    "        thfoc['motor2'] = thfoc[index] + series.motor2.min()\n",
    "        thfoc['motor3'] = thfoc[index] + series.motor3.min()\n",
    "\n",
    "        thfoc_data.append(thfoc)\n",
    "\n",
    "    thfoc_data = pd.concat(thfoc_data)\n",
    "    \n",
    "    if doPlot:\n",
    "        kwargs = dict(grid=True, figsize=(14,10), legend=True, subplots=True)\n",
    "        criterias = ['EE5','EE3', 'brightness', 'fwhm']\n",
    "        for (wavelength, fiber), fit in thfoc_data.groupby(['wavelength','fiber']):\n",
    "### WARINIG: CA VA PAS MARCHER !! ??\n",
    "            imdata['waveStr'] = imdata['wavelength'].map('{:,.5f}'.format).astype(\"str\")\n",
    "            raw = imdata.query(\"waveStr==%d and fiber==%d\"%(wavelength, fiber))\n",
    "            axes = fit.set_index('motor1')[criterias].plot(**kwargs)\n",
    "            for i, criteria in enumerate(criterias):\n",
    "                axes[i].plot(raw['motor1'].values, raw[criteria].values, 'o')\n",
    "                \n",
    "    return thfoc_data\n"
   ]
  },
  {
   "cell_type": "code",
   "execution_count": null,
   "metadata": {
    "lines_to_next_cell": 2
   },
   "outputs": [],
   "source": []
  },
  {
   "cell_type": "code",
   "execution_count": null,
   "metadata": {},
   "outputs": [],
   "source": [
    "clf = IsolationForest( behaviour = 'new', max_samples=group.count()[0], random_state = 1, contamination= 0.1)\n",
    "#clf = IsolationForest( behaviour = 'new', max_samples=group.count()[0], random_state = 1, contamination= \"auto\")\n",
    "\n",
    "#clf = IsolationForest(max_samples=group.count()[0], random_state = 1)\n",
    "\n",
    "preds = clf.fit_predict(group[[\"motor1\", \"EE5\"]].sort_values(by=\"motor1\").values)\n",
    "#preds = clf.fit_predict(group[[\"motor1\", \"EE5\"]].values)\n",
    "\n",
    "group[\"fit_flag\"] = preds"
   ]
  },
  {
   "cell_type": "code",
   "execution_count": null,
   "metadata": {},
   "outputs": [],
   "source": [
    "ax = group[group.fit_flag >0].plot.scatter(\"motor1\", \"EE5\",color=\"g\", title=f\"Exp{experimentId} - fiber {fiber} - wave {wave}\", )\n",
    "group.plot(\"motor1\", \"EE5\",ax=ax,color=\"r\", style=\"+\")\n",
    "#group[group.fit2_flag >0].plot.scatter(\"motor1\", \"EE5\",color=\"b\", ax=ax)"
   ]
  },
  {
   "cell_type": "code",
   "execution_count": null,
   "metadata": {},
   "outputs": [],
   "source": [
    "clf = IsolationForest( behaviour = 'new', max_samples=group.count()[0], random_state = 1, contamination= \"auto\")\n",
    "#clf = IsolationForest(max_samples=group.count()[0], random_state = 1)\n",
    "\n",
    "preds = clf.fit_predict(group[[\"motor1\", \"EE5\"]].values)\n",
    "\n",
    "group[\"fit2_flag\"] = preds"
   ]
  },
  {
   "cell_type": "raw",
   "metadata": {},
   "source": [
    "\n",
    "from sklearn.neighbors import LocalOutlierFactor\n",
    "clf = LocalOutlierFactor(n_neighbors=6, novelty=True, contamination=\"auto\")\n",
    "\n",
    "clf.fit(X_train)\n",
    "# DO NOT use predict, decision_function and score_samples on X_train as this\n",
    "# would give wrong results but only on new unseen data (not used in X_train),\n",
    "# e.g. X_test, X_outliers or the meshgrid\n",
    "y_pred_test = clf.predict(X_test)\n",
    "y_pred_outliers = clf.predict(X_outliers)\n",
    "n_error_test = y_pred_test[y_pred_test == -1].size\n",
    "n_error_outliers = y_pred_outliers[y_pred_outliers == 1].size\n",
    "\n",
    "#preds = clf.fit_predict(group[[\"motor1\", \"EE5\"]].values)\n",
    "\n",
    "#group[\"fit_flag\"] = preds"
   ]
  },
  {
   "cell_type": "raw",
   "metadata": {
    "jupyter": {
     "outputs_hidden": true
    },
    "lines_to_next_cell": 0
   },
   "source": [
    "from sklearn.linear_model import HuberRegressor\n",
    "X = group[\"motor1\"].values\n",
    "y = group[\"EE5\"].values\n",
    "huber = HuberRegressor().fit(X, y)\n",
    "huber.score(X, y)\n",
    "\n",
    "huber.predict(X[:1,])"
   ]
  },
  {
   "cell_type": "code",
   "execution_count": null,
   "metadata": {
    "lines_to_next_cell": 2
   },
   "outputs": [],
   "source": []
  },
  {
   "cell_type": "code",
   "execution_count": null,
   "metadata": {},
   "outputs": [],
   "source": [
    "x = group[\"motor1\"].values\n",
    "y = group[\"EE5\"].values"
   ]
  },
  {
   "cell_type": "code",
   "execution_count": null,
   "metadata": {
    "lines_to_next_cell": 2
   },
   "outputs": [],
   "source": []
  },
  {
   "cell_type": "code",
   "execution_count": null,
   "metadata": {
    "lines_to_end_of_cell_marker": 2
   },
   "outputs": [],
   "source": [
    "offset = np.median(y)\n",
    "fy = y-offset\n",
    "amp = np.max(fy)\n",
    "mean = x[np.argmin(np.abs(fy-amp))]\n",
    "hmean = x[np.argmin(np.abs(fy-amp/2))]\n",
    "sig =  np.abs(mean-hmean) / (np.sqrt(2 * np.log(2)))\n",
    "\n",
    "popt1, pcov = curve_fit(oneD_Gaussian, x, y, p0=[amp,mean,sig,offset], maxfev=10000)"
   ]
  },
  {
   "cell_type": "code",
   "execution_count": null,
   "metadata": {},
   "outputs": [],
   "source": [
    "plt.plot(x,y, \"+\")"
   ]
  },
  {
   "cell_type": "code",
   "execution_count": null,
   "metadata": {},
   "outputs": [],
   "source": [
    "perr = np.sqrt(np.diag(pcov))"
   ]
  },
  {
   "cell_type": "code",
   "execution_count": null,
   "metadata": {},
   "outputs": [],
   "source": [
    "perr"
   ]
  },
  {
   "cell_type": "code",
   "execution_count": null,
   "metadata": {},
   "outputs": [],
   "source": [
    "from scipy.optimize import least_squares"
   ]
  },
  {
   "cell_type": "code",
   "execution_count": null,
   "metadata": {},
   "outputs": [],
   "source": [
    "res_robust = least_squares(oneD_Gaussian, y, loss='soft_l1', f_scale=0.1, args=(amp,mean,sig,offset))"
   ]
  },
  {
   "cell_type": "code",
   "execution_count": null,
   "metadata": {},
   "outputs": [],
   "source": [
    "res_robust.x"
   ]
  },
  {
   "cell_type": "code",
   "execution_count": null,
   "metadata": {
    "lines_to_next_cell": 2
   },
   "outputs": [],
   "source": []
  },
  {
   "cell_type": "code",
   "execution_count": null,
   "metadata": {},
   "outputs": [],
   "source": [
    "def fitgauss1D(x, y):\n",
    "    offset = np.median(y)\n",
    "    fy = y-offset\n",
    "    amp = np.max(fy)\n",
    "    mean = x[np.argmin(np.abs(fy-amp))]\n",
    "    hmean = x[np.argmin(np.abs(fy-amp/2))]\n",
    "    sig =  np.abs(mean-hmean) / (np.sqrt(2 * np.log(2)))\n",
    "\n",
    "    popt1, pcov = curve_fit(oneD_Gaussian, x, y, p0=[amp,mean,sig,offset], maxfev=10000)\n",
    "\n",
    "    newx = np.linspace(np.min(x), np.max(x), 100000)\n",
    "    data = np.zeros((len(newx), 2))\n",
    "    data[:,0] = newx     \n",
    "    data[:,1] = oneD_Gaussian(newx, *popt1)\n",
    "\n",
    "    return TFocusDf(data), FitGauss1D(*popt1)"
   ]
  },
  {
   "cell_type": "code",
   "execution_count": null,
   "metadata": {},
   "outputs": [],
   "source": []
  },
  {
   "cell_type": "code",
   "execution_count": null,
   "metadata": {},
   "outputs": [],
   "source": []
  },
  {
   "cell_type": "code",
   "execution_count": null,
   "metadata": {
    "lines_to_next_cell": 2
   },
   "outputs": [],
   "source": []
  },
  {
   "cell_type": "code",
   "execution_count": null,
   "metadata": {},
   "outputs": [],
   "source": [
    "dfp3 = piston_imdata"
   ]
  },
  {
   "cell_type": "code",
   "execution_count": null,
   "metadata": {},
   "outputs": [],
   "source": [
    "def remove_outliers(value):\n",
    "    clf = IsolationForest( behaviour = 'new', max_samples=100, random_state = 1, contamination= 'auto')\n",
    "    return clf.fit_predict(value)"
   ]
  },
  {
   "cell_type": "code",
   "execution_count": null,
   "metadata": {},
   "outputs": [],
   "source": []
  },
  {
   "cell_type": "code",
   "execution_count": null,
   "metadata": {},
   "outputs": [],
   "source": [
    "ind = \"motor1\"\n",
    "piston_imdata[\"fit_flag\"] = np.nan\n",
    "for (wave, fiber), series in piston_imdata.groupby(['wavelength','fiber']):\n",
    "    series[\"fit_flag\"]= remove_outliers(series[[\"motor1\",\"EE5\"]].values)"
   ]
  },
  {
   "cell_type": "code",
   "execution_count": null,
   "metadata": {},
   "outputs": [],
   "source": [
    "pi"
   ]
  },
  {
   "cell_type": "code",
   "execution_count": null,
   "metadata": {},
   "outputs": [],
   "source": [
    "series[\"fit_flag\"]= series.apply(lambda x: remove_outliers(x[\"motor1\"], x[\"EE5\"]), axis=1)`"
   ]
  },
  {
   "cell_type": "code",
   "execution_count": null,
   "metadata": {},
   "outputs": [],
   "source": [
    "dfp3['fit_flag'] = dfp3.groupby(['wavelength','fiber']).agg(\n",
    "        fit_flag=pd.NamedAgg(column='EE5', aggfunc='pct_change')\n",
    ")"
   ]
  },
  {
   "cell_type": "code",
   "execution_count": null,
   "metadata": {},
   "outputs": [],
   "source": [
    "dfp3['fit_flag'] = dfp3.groupby(['wavelength','fiber']).agg(\n",
    "        fit_flag=pd.NamedAgg(column='EE5', aggfunc='pct_change')\n",
    ")"
   ]
  },
  {
   "cell_type": "code",
   "execution_count": null,
   "metadata": {
    "lines_to_next_cell": 2
   },
   "outputs": [],
   "source": [
    "ind = \"motor1\"\n",
    "piston_imdata[\"fit_flag\"] = np.nan\n",
    "tot = []\n",
    "for (wave, fiber), series in piston_imdata.groupby(['wavelength','fiber']):\n",
    "        clf = IsolationForest( behaviour = 'new', max_samples=100, random_state = 1, contamination= 'auto')\n",
    "        preds = clf.fit_predict(series[[ind, \"EE5\"]].values)\n",
    "        series[\"fit_flag\"] = preds\n",
    "        tot.append(list(series.values))"
   ]
  },
  {
   "cell_type": "code",
   "execution_count": null,
   "metadata": {
    "lines_to_next_cell": 2
   },
   "outputs": [],
   "source": [
    "ind = \"motor1\"\n",
    "piston_imdata[\"fit_flag\"] = np.nan\n",
    "tot = []\n",
    "for  group_name, series in piston_imdata.groupby(['wavelength','fiber']):\n",
    "        clf = IsolationForest( behaviour = 'new', max_samples=series.count()[0], random_state = 1, contamination= 'auto')\n",
    "        preds = clf.fit_predict(series[[ind, \"EE5\"]].values)\n",
    "        series.loc[:,\"fit_flag\"] = preds\n",
    "        tot.append(series)"
   ]
  },
  {
   "cell_type": "code",
   "execution_count": null,
   "metadata": {
    "lines_to_next_cell": 2
   },
   "outputs": [],
   "source": [
    "series.count()"
   ]
  },
  {
   "cell_type": "code",
   "execution_count": null,
   "metadata": {},
   "outputs": [],
   "source": [
    "piston_imdata.groupby(['wavelength','fiber'])[[\"motor1\", \"EE5\"]]"
   ]
  },
  {
   "cell_type": "code",
   "execution_count": null,
   "metadata": {},
   "outputs": [],
   "source": [
    "df =pd.concat(tot)"
   ]
  },
  {
   "cell_type": "code",
   "execution_count": null,
   "metadata": {},
   "outputs": [],
   "source": [
    "df"
   ]
  },
  {
   "cell_type": "code",
   "execution_count": null,
   "metadata": {},
   "outputs": [],
   "source": [
    "piston_imdata = pd.concat(map(pd.read_csv,files)).reset_index()\n",
    "\n",
    "print(f\"Wavelength used: {piston_imdata.wavelength.unique()}\")\n",
    "minPos = piston_imdata[['motor1','motor2','motor3']]\n",
    "minPos = minPos - minPos.min()\n",
    "piston_imdata['relPos'] = minPos['motor1']"
   ]
  },
  {
   "cell_type": "code",
   "execution_count": null,
   "metadata": {},
   "outputs": [],
   "source": [
    "piston_imdata.groupby(['wavelength','fiber']).count()"
   ]
  },
  {
   "cell_type": "code",
   "execution_count": null,
   "metadata": {},
   "outputs": [],
   "source": [
    "piston_imdata.count()"
   ]
  },
  {
   "cell_type": "code",
   "execution_count": null,
   "metadata": {},
   "outputs": [],
   "source": [
    "1662/80"
   ]
  },
  {
   "cell_type": "code",
   "execution_count": null,
   "metadata": {},
   "outputs": [],
   "source": [
    "piston_imdata.fit_flag"
   ]
  },
  {
   "cell_type": "code",
   "execution_count": null,
   "metadata": {
    "lines_to_next_cell": 2
   },
   "outputs": [],
   "source": [
    "from sklearn.ensemble import IsolationForest"
   ]
  },
  {
   "cell_type": "code",
   "execution_count": null,
   "metadata": {},
   "outputs": [],
   "source": [
    "clf = IsolationForest( behaviour = 'new', max_samples=group.count()[0], random_state = 1, contamination= 0.1)\n",
    "#clf = IsolationForest(max_samples=group.count()[0], random_state = 1)\n",
    "\n",
    "preds = clf.fit_predict(group[[\"motor1\", \"EE5\"]].values)\n",
    "preds"
   ]
  },
  {
   "cell_type": "code",
   "execution_count": null,
   "metadata": {},
   "outputs": [],
   "source": [
    "group[\"fit_flag\"] = preds"
   ]
  },
  {
   "cell_type": "code",
   "execution_count": null,
   "metadata": {},
   "outputs": [],
   "source": [
    "ax = group[group.fit_flag >0].plot.scatter(\"motor1\", \"EE5\",color=\"g\", label=\"EE5\",  title=f\"Exp{experimentId} - fiber {fiber} - wave {wave}\", )\n",
    "group.plot(\"motor1\", \"EE5\",ax=ax,color=\"r\", style=\"+\", label=\"EE5\",  title=f\"Exp{experimentId} - fiber {fiber} - wave {wave}\", )"
   ]
  },
  {
   "cell_type": "code",
   "execution_count": null,
   "metadata": {},
   "outputs": [],
   "source": []
  },
  {
   "cell_type": "code",
   "execution_count": null,
   "metadata": {},
   "outputs": [],
   "source": [
    "from scipy.stats import iqr"
   ]
  },
  {
   "cell_type": "code",
   "execution_count": null,
   "metadata": {},
   "outputs": [],
   "source": [
    "group.EE5"
   ]
  },
  {
   "cell_type": "code",
   "execution_count": null,
   "metadata": {},
   "outputs": [],
   "source": [
    "iqr(group.EE5.values, keepdims=True)"
   ]
  },
  {
   "cell_type": "code",
   "execution_count": null,
   "metadata": {},
   "outputs": [],
   "source": [
    "def remove_outlier(df_in, col_name):\n",
    "    q1 = df_in[col_name].quantile(0.25)\n",
    "    q3 = df_in[col_name].quantile(0.75)\n",
    "    iqr = q3-q1 #Interquartile range\n",
    "    fence_low  = q1-1.5*iqr\n",
    "    fence_high = q3+1.5*iqr\n",
    "    df_out = df_in.loc[(df_in[col_name] > fence_low) & (df_in[col_name] < fence_high)]\n",
    "    return df_out"
   ]
  },
  {
   "cell_type": "code",
   "execution_count": null,
   "metadata": {},
   "outputs": [],
   "source": [
    "df = remove_outlier(group, \"EE5\")"
   ]
  },
  {
   "cell_type": "code",
   "execution_count": null,
   "metadata": {},
   "outputs": [],
   "source": [
    "df = group[(group.sep_flag <1) ]"
   ]
  },
  {
   "cell_type": "code",
   "execution_count": null,
   "metadata": {},
   "outputs": [],
   "source": [
    "df.plot.scatter(\"motor1\", \"EE5\", color=\"g\", label=\"EE5\" )"
   ]
  },
  {
   "cell_type": "code",
   "execution_count": null,
   "metadata": {},
   "outputs": [],
   "source": [
    "df.plot.scatter(\"motor1\", \"sep_ECE5\", color=\"g\", label=\"EE5\" )"
   ]
  },
  {
   "cell_type": "code",
   "execution_count": null,
   "metadata": {},
   "outputs": [],
   "source": [
    "piston_imdata.fwhm.hist()"
   ]
  },
  {
   "cell_type": "code",
   "execution_count": null,
   "metadata": {},
   "outputs": [],
   "source": [
    "piston_imdata.sep_ECE5.hist()"
   ]
  },
  {
   "cell_type": "code",
   "execution_count": null,
   "metadata": {},
   "outputs": [],
   "source": [
    "piston_imdata.set_index([\"fiber\", \"wavelength\"])[[\"EE5\", \"sep_ECE5\", \"sep_flux_EC5\"]]"
   ]
  },
  {
   "cell_type": "code",
   "execution_count": null,
   "metadata": {},
   "outputs": [],
   "source": [
    "piston_imdata.sep_flux_EC5"
   ]
  },
  {
   "cell_type": "code",
   "execution_count": null,
   "metadata": {},
   "outputs": [],
   "source": []
  },
  {
   "cell_type": "code",
   "execution_count": null,
   "metadata": {},
   "outputs": [],
   "source": []
  },
  {
   "cell_type": "code",
   "execution_count": null,
   "metadata": {},
   "outputs": [],
   "source": [
    "from matplotlib import pyplot as plt\n",
    "import numpy as np\n",
    "\n",
    "from sklearn.linear_model import (\n",
    "    LinearRegression, TheilSenRegressor, RANSACRegressor, HuberRegressor)\n",
    "from sklearn.metrics import mean_squared_error\n",
    "from sklearn.preprocessing import PolynomialFeatures\n",
    "from sklearn.pipeline import make_pipeline\n",
    "\n",
    "np.random.seed(42)\n",
    "\n",
    "X = np.random.normal(size=400)\n",
    "y = np.sin(X)\n",
    "# Make sure that it X is 2D\n",
    "X = X[:, np.newaxis]\n",
    "\n",
    "X_test = np.random.normal(size=200)\n",
    "y_test = np.sin(X_test)\n",
    "X_test = X_test[:, np.newaxis]\n",
    "\n",
    "y_errors = y.copy()\n",
    "y_errors[::3] = 3\n",
    "\n",
    "X_errors = X.copy()\n",
    "X_errors[::3] = 3\n",
    "\n",
    "y_errors_large = y.copy()\n",
    "y_errors_large[::3] = 10\n",
    "\n",
    "X_errors_large = X.copy()\n",
    "X_errors_large[::3] = 10\n",
    "\n",
    "estimators = [('OLS', LinearRegression()),\n",
    "              ('Theil-Sen', TheilSenRegressor(random_state=42)),\n",
    "              ('RANSAC', RANSACRegressor(random_state=42)),\n",
    "              ('HuberRegressor', HuberRegressor())]\n",
    "colors = {'OLS': 'turquoise', 'Theil-Sen': 'gold', 'RANSAC': 'lightgreen', 'HuberRegressor': 'black'}\n",
    "linestyle = {'OLS': '-', 'Theil-Sen': '-.', 'RANSAC': '--', 'HuberRegressor': '--'}\n",
    "lw = 3\n",
    "\n",
    "x_plot = np.linspace(X.min(), X.max())\n",
    "for title, this_X, this_y in [\n",
    "        ('Modeling Errors Only', X, y),\n",
    "        ('Corrupt X, Small Deviants', X_errors, y),\n",
    "        ('Corrupt y, Small Deviants', X, y_errors),\n",
    "        ('Corrupt X, Large Deviants', X_errors_large, y),\n",
    "        ('Corrupt y, Large Deviants', X, y_errors_large)]:\n",
    "    plt.figure(figsize=(5, 4))\n",
    "    plt.plot(this_X[:, 0], this_y, 'b+')\n",
    "\n",
    "    for name, estimator in estimators:\n",
    "        model = make_pipeline(PolynomialFeatures(3), estimator)\n",
    "        model.fit(this_X, this_y)\n",
    "        mse = mean_squared_error(model.predict(X_test), y_test)\n",
    "        y_plot = model.predict(x_plot[:, np.newaxis])\n",
    "        plt.plot(x_plot, y_plot, color=colors[name], linestyle=linestyle[name],\n",
    "                 linewidth=lw, label='%s: error = %.3f' % (name, mse))\n",
    "\n",
    "    legend_title = 'Error of Mean\\nAbsolute Deviation\\nto Non-corrupt Data'\n",
    "    legend = plt.legend(loc='upper right', frameon=False, title=legend_title,\n",
    "                        prop=dict(size='x-small'))\n",
    "    plt.xlim(-4, 10.2)\n",
    "    plt.ylim(-2, 10.2)\n",
    "    plt.title(title)\n",
    "plt.show()"
   ]
  },
  {
   "cell_type": "code",
   "execution_count": null,
   "metadata": {},
   "outputs": [],
   "source": [
    "y"
   ]
  },
  {
   "cell_type": "code",
   "execution_count": null,
   "metadata": {},
   "outputs": [],
   "source": []
  },
  {
   "cell_type": "code",
   "execution_count": null,
   "metadata": {},
   "outputs": [],
   "source": []
  },
  {
   "cell_type": "code",
   "execution_count": null,
   "metadata": {},
   "outputs": [],
   "source": []
  },
  {
   "cell_type": "code",
   "execution_count": null,
   "metadata": {},
   "outputs": [],
   "source": []
  },
  {
   "cell_type": "code",
   "execution_count": null,
   "metadata": {},
   "outputs": [],
   "source": []
  },
  {
   "cell_type": "code",
   "execution_count": null,
   "metadata": {},
   "outputs": [],
   "source": [
    "dat = np.arange(0,10,0.5)\n",
    "\n",
    "df = pd.DataFrame(dat, columns=[\"EE5\"])\n",
    "\n",
    "df.EE5.iloc[3] = 1.7\n",
    "\n",
    "df[\"EE5_diff\"] = (df.EE5.diff(-1) + df.EE5.diff(2) - df.EE5.diff(1))/2. \n",
    "df[\"EE5_diff\"].fillna(0, inplace=True)\n",
    "df[\"diff-1\"] = df.EE5.diff(-1)\n",
    "df[\"diff2\"] = df.EE5.diff(2)\n",
    "df[\"diff1\"] = df.EE5.diff(1)\n",
    "\n",
    "df[\"EE5_diff_2\"] = (df.EE5.diff(-1) + df.EE5.diff(2) - df.EE5.diff(1))/2. + df.EE5"
   ]
  },
  {
   "cell_type": "code",
   "execution_count": null,
   "metadata": {},
   "outputs": [],
   "source": [
    "df"
   ]
  },
  {
   "cell_type": "code",
   "execution_count": null,
   "metadata": {},
   "outputs": [],
   "source": []
  },
  {
   "cell_type": "code",
   "execution_count": null,
   "metadata": {},
   "outputs": [],
   "source": [
    "dat = np.arange(0,10,0.5)\n",
    "\n",
    "df = pd.DataFrame(dat, columns=[\"EE5\"])\n",
    "\n",
    "df.EE5.iloc[3] = 1.3"
   ]
  },
  {
   "cell_type": "code",
   "execution_count": null,
   "metadata": {},
   "outputs": [],
   "source": [
    "df[\"EE5_diff\"] = (df.EE5.diff(-1) + df.EE5.diff(2) - df.EE5.diff(1))/2. \n",
    "df[\"EE5_diff\"].fillna(0, inplace=True)\n",
    "df[\"diff-1\"] = df.EE5.diff(-1)\n",
    "df[\"diff2\"] = df.EE5.diff(2)\n",
    "df[\"diff1\"] = df.EE5.diff(1)\n",
    "\n",
    "df[\"EE5_diff_2\"] = (df.EE5.diff(-1) + df.EE5.diff(2) - df.EE5.diff(1))/2. + df.EE5"
   ]
  },
  {
   "cell_type": "code",
   "execution_count": null,
   "metadata": {
    "lines_to_next_cell": 2
   },
   "outputs": [],
   "source": [
    "df[\"shift1\"] = df.EE5.shift(1)\n",
    "df[\"shift-1\"] = df.EE5.shift(-1)\n",
    "df[\"meanlocal\"] = (df.EE5.shift(-1) + df.EE5.shift(1))/2\n",
    "df[\"diff_mean\"] = df.EE5 - (df.EE5.shift(-1) + df.EE5.shift(1))/2 "
   ]
  },
  {
   "cell_type": "code",
   "execution_count": null,
   "metadata": {},
   "outputs": [],
   "source": [
    "df"
   ]
  },
  {
   "cell_type": "code",
   "execution_count": null,
   "metadata": {},
   "outputs": [],
   "source": []
  }
 ],
 "metadata": {
  "jupytext": {
   "text_representation": {
    "extension": ".py",
    "format_name": "light",
    "format_version": "1.5",
    "jupytext_version": "1.3.4"
   }
  },
  "kernelspec": {
   "display_name": "Python 3",
   "language": "python",
   "name": "python3"
  },
  "language_info": {
   "codemirror_mode": {
    "name": "ipython",
    "version": 3
   },
   "file_extension": ".py",
   "mimetype": "text/x-python",
   "name": "python",
   "nbconvert_exporter": "python",
   "pygments_lexer": "ipython3",
   "version": "3.7.2"
  }
 },
 "nbformat": 4,
 "nbformat_minor": 4
}
