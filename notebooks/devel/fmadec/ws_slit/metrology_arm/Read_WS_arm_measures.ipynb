{
 "cells": [
  {
   "cell_type": "code",
   "execution_count": null,
   "metadata": {},
   "outputs": [],
   "source": [
    "import pandas as pd\n",
    "import numpy as np"
   ]
  },
  {
   "cell_type": "code",
   "execution_count": null,
   "metadata": {},
   "outputs": [],
   "source": [
    "%matplotlib widget\n",
    "# aka import ipympl\n",
    "import matplotlib.pyplot as plt"
   ]
  },
  {
   "cell_type": "code",
   "execution_count": null,
   "metadata": {},
   "outputs": [],
   "source": [
    "from mpl_toolkits.mplot3d import axes3d, Axes3D"
   ]
  },
  {
   "cell_type": "code",
   "execution_count": null,
   "metadata": {},
   "outputs": [],
   "source": [
    "df = pd.read_csv(\"WS_measures/B3 Etat Initial.txt\", sep=';', encoding='iso-8859-1')"
   ]
  },
  {
   "cell_type": "code",
   "execution_count": null,
   "metadata": {},
   "outputs": [],
   "source": [
    "df"
   ]
  },
  {
   "cell_type": "code",
   "execution_count": null,
   "metadata": {},
   "outputs": [],
   "source": [
    "df[(df[\"Type Elt.\"] == \"Point\") & (df[\"Nom Elt.\"] == \"B 1\" )]"
   ]
  },
  {
   "cell_type": "code",
   "execution_count": null,
   "metadata": {},
   "outputs": [],
   "source": [
    "df[(df[\"Type Elt.\"] == \"Point\") & (df[\"Nom Elt.\"] == \"B 1\" )][\"Mesuré\"].dropna()"
   ]
  },
  {
   "cell_type": "code",
   "execution_count": null,
   "metadata": {},
   "outputs": [],
   "source": [
    "verbose = False"
   ]
  },
  {
   "cell_type": "code",
   "execution_count": null,
   "metadata": {},
   "outputs": [],
   "source": [
    "data = []\n",
    "point_names = [\"B\"]\n",
    "colors = [\"red\"]\n",
    "nbpoints = 29\n",
    "for name,color in zip(point_names,colors):\n",
    "    for point in np.arange(nbpoints)+1:\n",
    "        x,y,z = df[(df[\"Type Elt.\"] == \"Point\") & (df[\"Nom Elt.\"] == f\"{name} {point}\" )][\"Mesuré\"].dropna()\n",
    "        if verbose : print(f\"{name} {point}\",x,y,z)\n",
    "        data.append([name,point,x,y,z,color])"
   ]
  },
  {
   "cell_type": "code",
   "execution_count": null,
   "metadata": {},
   "outputs": [],
   "source": [
    "point_names = [\"B1\",\"B3\"]\n",
    "colors = [\"blue\", \"green\"]\n",
    "nbpoints = 9\n",
    "for name,color in zip(point_names,colors):\n",
    "    for point in np.arange(nbpoints)+1:\n",
    "        x,y,z = df[(df[\"Type Elt.\"] == \"Point\") & (df[\"Nom Elt.\"] == f\"{name} {point}\" )][\"Mesuré\"].dropna()\n",
    "        if verbose : print(f\"{name} {point}\",x,y,z)\n",
    "        data.append([name,point,x,y,z,color])"
   ]
  },
  {
   "cell_type": "code",
   "execution_count": null,
   "metadata": {},
   "outputs": [],
   "source": [
    "point_names = [\"B2\"]\n",
    "colors = [\"k\"]\n",
    "nbpoints = 8\n",
    "for name,color in zip(point_names,colors):\n",
    "    for point in np.arange(nbpoints)+1:\n",
    "        x,y,z = df[(df[\"Type Elt.\"] == \"Point\") & (df[\"Nom Elt.\"] == f\"{name} {point}\" )][\"Mesuré\"].dropna()\n",
    "        if verbose : print(f\"{name} {point}\",x,y,z)\n",
    "        data.append([name,point,x,y,z,color])"
   ]
  },
  {
   "cell_type": "code",
   "execution_count": null,
   "metadata": {},
   "outputs": [],
   "source": [
    "point_names = [\"Plan DetBox\"]\n",
    "colors = [\"orange\"]\n",
    "nbpoints = 9\n",
    "for name,color in zip(point_names,colors):\n",
    "    for point in np.arange(nbpoints)+1:\n",
    "        x,y,z = df[(df[\"Type Elt.\"] == \"Point\") & (df[\"Nom Elt.\"] == f\"{name} {point}\" )][\"Mesuré\"].dropna()\n",
    "        if verbose : print(f\"{name} {point}\",x,y,z)\n",
    "        data.append([name,point,x,y,z,color])"
   ]
  },
  {
   "cell_type": "code",
   "execution_count": null,
   "metadata": {},
   "outputs": [],
   "source": [
    "verbose = True"
   ]
  },
  {
   "cell_type": "raw",
   "metadata": {},
   "source": [
    "point_names = [\"CamMot1\",\"Goup CamMot1\",\"Goup1\",\"Goup2\"]\n",
    "colors = [\"yellow\", \"purple\",\"cyan\",\"lightblue\"]\n",
    "nbpoints = 3\n",
    "for name,color in zip(point_names,colors):\n",
    "    for point in np.arange(nbpoints)+1:\n",
    "        x,y,z = df[(df[\"Type Elt.\"] == \"Point\") & (df[\"Nom Elt.\"] == f\"{name} {point}\" )][\"Mesuré\"].dropna()\n",
    "        if verbose : print(f\"{name} {point}\",x,y,z)\n",
    "        data.append([name,point,x,y,z,color])"
   ]
  },
  {
   "cell_type": "code",
   "execution_count": null,
   "metadata": {},
   "outputs": [],
   "source": [
    "point_names = [\"Goup CamMot1\",\"Goup1\",\"Goup2\"]\n",
    "colors = [\"purple\",\"cyan\",\"lightblue\"]\n",
    "nbpoints = 3\n",
    "for name,color in zip(point_names,colors):\n",
    "    for point in np.arange(nbpoints)+1:\n",
    "        x,y,z = df[(df[\"Type Elt.\"] == \"Point\") & (df[\"Nom Elt.\"] == f\"{name} {point}\" )][\"Mesuré\"].dropna()\n",
    "        if verbose : print(f\"{name} {point}\",x,y,z)\n",
    "        data.append([name,point,x,y,z,color])"
   ]
  },
  {
   "cell_type": "code",
   "execution_count": null,
   "metadata": {},
   "outputs": [],
   "source": [
    "points_3d = pd.DataFrame(data, columns=[\"name\", \"point\", \"x\", \"y\", \"z\",\"color\"])"
   ]
  },
  {
   "cell_type": "code",
   "execution_count": null,
   "metadata": {},
   "outputs": [],
   "source": [
    "points_3d.to_csv(\"WS_measures/df_B3_Etat_Initial.csv\")"
   ]
  },
  {
   "cell_type": "raw",
   "metadata": {},
   "source": [
    "points_3d.set_index(\"point\", inplace=True)"
   ]
  },
  {
   "cell_type": "raw",
   "metadata": {},
   "source": [
    "fig = plt.figure()\n",
    "ax = fig.add_subplot(111, projection='3d')"
   ]
  },
  {
   "cell_type": "raw",
   "metadata": {},
   "source": [
    "Axes3D.scatter(points_3d.x, points_3d.y, points_3d.z)"
   ]
  },
  {
   "cell_type": "code",
   "execution_count": null,
   "metadata": {},
   "outputs": [],
   "source": [
    "points_3d"
   ]
  },
  {
   "cell_type": "code",
   "execution_count": null,
   "metadata": {},
   "outputs": [],
   "source": [
    "fig = plt.figure()\n",
    "ax = fig.gca(projection='3d')\n",
    "#ax.plot_surface(X, Y, Z, rstride=1, cstride=1, alpha=0.2)\n",
    "ax.scatter(points_3d.x, points_3d.y, points_3d.z, c=points_3d.color, s=50)\n",
    "ax.legend()"
   ]
  },
  {
   "cell_type": "code",
   "execution_count": null,
   "metadata": {},
   "outputs": [],
   "source": [
    "groupby_name = points_3d.groupby(['name'])"
   ]
  },
  {
   "cell_type": "code",
   "execution_count": null,
   "metadata": {},
   "outputs": [],
   "source": [
    "group"
   ]
  },
  {
   "cell_type": "code",
   "execution_count": null,
   "metadata": {},
   "outputs": [],
   "source": [
    "#fig = plt.figure(figsize=(6,6))\n",
    "fig = plt.figure()\n",
    "\n",
    "ax = fig.gca(projection='3d')\n",
    "#ax.plot_surface(X, Y, Z, rstride=1, cstride=1, alpha=0.2)\n",
    "for name,group in groupby_name:\n",
    "    #group.plot(x='saleDate', y='MeanToDate', title=title)\n",
    "    ax.scatter(group.x, group.y, group.z, c=group.color, s=50, label=group.name.unique())\n",
    "\n",
    "ax.legend(loc='best')"
   ]
  },
  {
   "cell_type": "code",
   "execution_count": null,
   "metadata": {},
   "outputs": [],
   "source": [
    "group =  groupby_name.get_group(\"B\")\n",
    "fig = plt.figure()\n",
    "ax = fig.gca(projection='3d')\n",
    "#ax.plot_surface(X, Y, Z, rstride=1, cstride=1, alpha=0.2)\n",
    "ax.scatter(group.x, group.y, group.z, c=group.color, s=50, label=group.name.unique())\n",
    "ax.legend()"
   ]
  },
  {
   "cell_type": "code",
   "execution_count": null,
   "metadata": {},
   "outputs": [],
   "source": [
    "group_liste = [\"B1\", \"B2\", \"B3\"]\n",
    "groups = pd.concat( [ groupby_name.get_group(gr) for gr in group_liste] ).groupby('name')    \n",
    "fig = plt.figure()\n",
    "ax = fig.gca(projection='3d')\n",
    "#ax.plot_surface(X, Y, Z, rstride=1, cstride=1, alpha=0.2)\n",
    "for name,group in groups:\n",
    "    #group.plot(x='saleDate', y='MeanToDate', title=title)\n",
    "    ax.scatter(group.x, group.y, group.z, c=group.color, s=50, label=group.name.unique())\n",
    "ax.legend()"
   ]
  },
  {
   "cell_type": "code",
   "execution_count": null,
   "metadata": {},
   "outputs": [],
   "source": [
    "https://raw.githubusercontent.com/Subaru-PFS/doc/master/misc/PFS_Abbreviations.tsvgroup =  groupby_name.get_group(\"Plan DetBox\")\n",
    "fig = plt.figure()\n",
    "ax = fig.gca(projection='3d')\n",
    "#ax.plot_surface(X, Y, Z, rstride=1, cstride=1, alpha=0.2)\n",
    "ax.scatter(group.x, group.y, group.z, c=group.color, s=50, label=group.name.unique())\n",
    "ax.legend()"
   ]
  },
  {
   "cell_type": "code",
   "execution_count": null,
   "metadata": {},
   "outputs": [],
   "source": [
    "group =  groupby_name.get_group(\"Plan DetBox\")\n",
    "\n",
    "print(group.z.min()- group.z.max())"
   ]
  },
  {
   "cell_type": "code",
   "execution_count": null,
   "metadata": {},
   "outputs": [],
   "source": [
    "print(group.z.min(), group.z.max())"
   ]
  },
  {
   "cell_type": "code",
   "execution_count": null,
   "metadata": {},
   "outputs": [],
   "source": [
    "group[[\"x\",\"y\",\"z\"]]"
   ]
  },
  {
   "cell_type": "code",
   "execution_count": null,
   "metadata": {},
   "outputs": [],
   "source": []
  }
 ],
 "metadata": {
  "kernelspec": {
   "display_name": "Python 3",
   "language": "python",
   "name": "python3"
  },
  "language_info": {
   "codemirror_mode": {
    "name": "ipython",
    "version": 3
   },
   "file_extension": ".py",
   "mimetype": "text/x-python",
   "name": "python",
   "nbconvert_exporter": "python",
   "pygments_lexer": "ipython3",
   "version": "3.8.5"
  }
 },
 "nbformat": 4,
 "nbformat_minor": 4
}
