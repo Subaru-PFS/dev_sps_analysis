{
 "cells": [
  {
   "cell_type": "code",
   "execution_count": 1,
   "metadata": {},
   "outputs": [],
   "source": [
    "import pandas as pd\n",
    "import numpy as np"
   ]
  },
  {
   "cell_type": "code",
   "execution_count": 2,
   "metadata": {},
   "outputs": [],
   "source": [
    "df = pd.read_csv(\"WS_measures/B3 Etat Initial.txt\", sep=';', encoding='iso-8859-1')"
   ]
  },
  {
   "cell_type": "code",
   "execution_count": 3,
   "metadata": {},
   "outputs": [
    {
     "data": {
      "text/html": [
       "<div>\n",
       "<style scoped>\n",
       "    .dataframe tbody tr th:only-of-type {\n",
       "        vertical-align: middle;\n",
       "    }\n",
       "\n",
       "    .dataframe tbody tr th {\n",
       "        vertical-align: top;\n",
       "    }\n",
       "\n",
       "    .dataframe thead th {\n",
       "        text-align: right;\n",
       "    }\n",
       "</style>\n",
       "<table border=\"1\" class=\"dataframe\">\n",
       "  <thead>\n",
       "    <tr style=\"text-align: right;\">\n",
       "      <th></th>\n",
       "      <th>Type Elt.</th>\n",
       "      <th>Nom Elt.</th>\n",
       "      <th>Cote</th>\n",
       "      <th>Mesuré</th>\n",
       "      <th>Nominal</th>\n",
       "      <th>Ecart</th>\n",
       "      <th>Tol-</th>\n",
       "      <th>Tol+</th>\n",
       "      <th>Hors tol.</th>\n",
       "      <th>Commentaire</th>\n",
       "      <th>Commentaire utilisateur</th>\n",
       "    </tr>\n",
       "  </thead>\n",
       "  <tbody>\n",
       "    <tr>\n",
       "      <th>0</th>\n",
       "      <td>Angle</td>\n",
       "      <td>Angle DetBox</td>\n",
       "      <td>Esp.</td>\n",
       "      <td>0.093</td>\n",
       "      <td>0.081</td>\n",
       "      <td>0.011</td>\n",
       "      <td>NaN</td>\n",
       "      <td>NaN</td>\n",
       "      <td>NaN</td>\n",
       "      <td>Plan DetBox - XY-PLANE / Repère.</td>\n",
       "      <td>NaN</td>\n",
       "    </tr>\n",
       "    <tr>\n",
       "      <th>1</th>\n",
       "      <td>Angle</td>\n",
       "      <td>Angle DetBox</td>\n",
       "      <td>XoY</td>\n",
       "      <td>NaN</td>\n",
       "      <td>NaN</td>\n",
       "      <td>NaN</td>\n",
       "      <td>NaN</td>\n",
       "      <td>NaN</td>\n",
       "      <td>NaN</td>\n",
       "      <td>NaN</td>\n",
       "      <td>NaN</td>\n",
       "    </tr>\n",
       "    <tr>\n",
       "      <th>2</th>\n",
       "      <td>Angle</td>\n",
       "      <td>Angle DetBox</td>\n",
       "      <td>YoZ</td>\n",
       "      <td>-0.012</td>\n",
       "      <td>0.000</td>\n",
       "      <td>-0.012</td>\n",
       "      <td>NaN</td>\n",
       "      <td>NaN</td>\n",
       "      <td>NaN</td>\n",
       "      <td>NaN</td>\n",
       "      <td>NaN</td>\n",
       "    </tr>\n",
       "    <tr>\n",
       "      <th>3</th>\n",
       "      <td>Angle</td>\n",
       "      <td>Angle DetBox</td>\n",
       "      <td>ZoX</td>\n",
       "      <td>-0.092</td>\n",
       "      <td>-0.081</td>\n",
       "      <td>-0.011</td>\n",
       "      <td>NaN</td>\n",
       "      <td>NaN</td>\n",
       "      <td>NaN</td>\n",
       "      <td>NaN</td>\n",
       "      <td>NaN</td>\n",
       "    </tr>\n",
       "    <tr>\n",
       "      <th>4</th>\n",
       "      <td>Point</td>\n",
       "      <td>Centre DetBox</td>\n",
       "      <td>V.G.</td>\n",
       "      <td>0.075</td>\n",
       "      <td>0.000</td>\n",
       "      <td>0.075</td>\n",
       "      <td>NaN</td>\n",
       "      <td>NaN</td>\n",
       "      <td>NaN</td>\n",
       "      <td>Inter. de Plan DetBox avec Z-AXIS.</td>\n",
       "      <td>NaN</td>\n",
       "    </tr>\n",
       "    <tr>\n",
       "      <th>...</th>\n",
       "      <td>...</td>\n",
       "      <td>...</td>\n",
       "      <td>...</td>\n",
       "      <td>...</td>\n",
       "      <td>...</td>\n",
       "      <td>...</td>\n",
       "      <td>...</td>\n",
       "      <td>...</td>\n",
       "      <td>...</td>\n",
       "      <td>...</td>\n",
       "      <td>...</td>\n",
       "    </tr>\n",
       "    <tr>\n",
       "      <th>389</th>\n",
       "      <td>Droite</td>\n",
       "      <td>Y</td>\n",
       "      <td>E.F.</td>\n",
       "      <td>0.000</td>\n",
       "      <td>NaN</td>\n",
       "      <td>0.000</td>\n",
       "      <td>NaN</td>\n",
       "      <td>NaN</td>\n",
       "      <td>NaN</td>\n",
       "      <td>NaN</td>\n",
       "      <td>NaN</td>\n",
       "    </tr>\n",
       "    <tr>\n",
       "      <th>390</th>\n",
       "      <td>Point</td>\n",
       "      <td>Y+</td>\n",
       "      <td>V.G.</td>\n",
       "      <td>NaN</td>\n",
       "      <td>NaN</td>\n",
       "      <td>NaN</td>\n",
       "      <td>-0.05</td>\n",
       "      <td>0.05</td>\n",
       "      <td>NaN</td>\n",
       "      <td>Proj. Goup CamMot1 / B.</td>\n",
       "      <td>NaN</td>\n",
       "    </tr>\n",
       "    <tr>\n",
       "      <th>391</th>\n",
       "      <td>Point</td>\n",
       "      <td>Y+</td>\n",
       "      <td>X</td>\n",
       "      <td>-0.009</td>\n",
       "      <td>NaN</td>\n",
       "      <td>NaN</td>\n",
       "      <td>-0.05</td>\n",
       "      <td>0.05</td>\n",
       "      <td>NaN</td>\n",
       "      <td>NaN</td>\n",
       "      <td>NaN</td>\n",
       "    </tr>\n",
       "    <tr>\n",
       "      <th>392</th>\n",
       "      <td>Point</td>\n",
       "      <td>Y+</td>\n",
       "      <td>Y</td>\n",
       "      <td>257.927</td>\n",
       "      <td>NaN</td>\n",
       "      <td>NaN</td>\n",
       "      <td>-0.05</td>\n",
       "      <td>0.05</td>\n",
       "      <td>NaN</td>\n",
       "      <td>NaN</td>\n",
       "      <td>NaN</td>\n",
       "    </tr>\n",
       "    <tr>\n",
       "      <th>393</th>\n",
       "      <td>Point</td>\n",
       "      <td>Y+</td>\n",
       "      <td>Z</td>\n",
       "      <td>-94.000</td>\n",
       "      <td>NaN</td>\n",
       "      <td>NaN</td>\n",
       "      <td>-0.05</td>\n",
       "      <td>0.05</td>\n",
       "      <td>NaN</td>\n",
       "      <td>NaN</td>\n",
       "      <td>NaN</td>\n",
       "    </tr>\n",
       "  </tbody>\n",
       "</table>\n",
       "<p>394 rows × 11 columns</p>\n",
       "</div>"
      ],
      "text/plain": [
       "    Type Elt.       Nom Elt.  Cote   Mesuré  Nominal  Ecart  Tol-  Tol+  \\\n",
       "0       Angle   Angle DetBox  Esp.    0.093    0.081  0.011   NaN   NaN   \n",
       "1       Angle   Angle DetBox   XoY      NaN      NaN    NaN   NaN   NaN   \n",
       "2       Angle   Angle DetBox   YoZ   -0.012    0.000 -0.012   NaN   NaN   \n",
       "3       Angle   Angle DetBox   ZoX   -0.092   -0.081 -0.011   NaN   NaN   \n",
       "4       Point  Centre DetBox  V.G.    0.075    0.000  0.075   NaN   NaN   \n",
       "..        ...            ...   ...      ...      ...    ...   ...   ...   \n",
       "389    Droite              Y  E.F.    0.000      NaN  0.000   NaN   NaN   \n",
       "390     Point             Y+  V.G.      NaN      NaN    NaN -0.05  0.05   \n",
       "391     Point             Y+     X   -0.009      NaN    NaN -0.05  0.05   \n",
       "392     Point             Y+     Y  257.927      NaN    NaN -0.05  0.05   \n",
       "393     Point             Y+     Z  -94.000      NaN    NaN -0.05  0.05   \n",
       "\n",
       "     Hors tol.                         Commentaire  Commentaire utilisateur  \n",
       "0          NaN    Plan DetBox - XY-PLANE / Repère.                      NaN  \n",
       "1          NaN                                 NaN                      NaN  \n",
       "2          NaN                                 NaN                      NaN  \n",
       "3          NaN                                 NaN                      NaN  \n",
       "4          NaN  Inter. de Plan DetBox avec Z-AXIS.                      NaN  \n",
       "..         ...                                 ...                      ...  \n",
       "389        NaN                                 NaN                      NaN  \n",
       "390        NaN             Proj. Goup CamMot1 / B.                      NaN  \n",
       "391        NaN                                 NaN                      NaN  \n",
       "392        NaN                                 NaN                      NaN  \n",
       "393        NaN                                 NaN                      NaN  \n",
       "\n",
       "[394 rows x 11 columns]"
      ]
     },
     "execution_count": 3,
     "metadata": {},
     "output_type": "execute_result"
    }
   ],
   "source": [
    "df"
   ]
  },
  {
   "cell_type": "code",
   "execution_count": 4,
   "metadata": {},
   "outputs": [
    {
     "data": {
      "text/html": [
       "<div>\n",
       "<style scoped>\n",
       "    .dataframe tbody tr th:only-of-type {\n",
       "        vertical-align: middle;\n",
       "    }\n",
       "\n",
       "    .dataframe tbody tr th {\n",
       "        vertical-align: top;\n",
       "    }\n",
       "\n",
       "    .dataframe thead th {\n",
       "        text-align: right;\n",
       "    }\n",
       "</style>\n",
       "<table border=\"1\" class=\"dataframe\">\n",
       "  <thead>\n",
       "    <tr style=\"text-align: right;\">\n",
       "      <th></th>\n",
       "      <th>Type Elt.</th>\n",
       "      <th>Nom Elt.</th>\n",
       "      <th>Cote</th>\n",
       "      <th>Mesuré</th>\n",
       "      <th>Nominal</th>\n",
       "      <th>Ecart</th>\n",
       "      <th>Tol-</th>\n",
       "      <th>Tol+</th>\n",
       "      <th>Hors tol.</th>\n",
       "      <th>Commentaire</th>\n",
       "      <th>Commentaire utilisateur</th>\n",
       "    </tr>\n",
       "  </thead>\n",
       "  <tbody>\n",
       "    <tr>\n",
       "      <th>23</th>\n",
       "      <td>Point</td>\n",
       "      <td>B 1</td>\n",
       "      <td>V.G.</td>\n",
       "      <td>NaN</td>\n",
       "      <td>NaN</td>\n",
       "      <td>NaN</td>\n",
       "      <td>-0.05</td>\n",
       "      <td>0.05</td>\n",
       "      <td>NaN</td>\n",
       "      <td>Point de palpage extrait de l'élément B Option...</td>\n",
       "      <td>NaN</td>\n",
       "    </tr>\n",
       "    <tr>\n",
       "      <th>24</th>\n",
       "      <td>Point</td>\n",
       "      <td>B 1</td>\n",
       "      <td>X</td>\n",
       "      <td>-241.867</td>\n",
       "      <td>NaN</td>\n",
       "      <td>NaN</td>\n",
       "      <td>-0.05</td>\n",
       "      <td>0.05</td>\n",
       "      <td>NaN</td>\n",
       "      <td>NaN</td>\n",
       "      <td>NaN</td>\n",
       "    </tr>\n",
       "    <tr>\n",
       "      <th>25</th>\n",
       "      <td>Point</td>\n",
       "      <td>B 1</td>\n",
       "      <td>Y</td>\n",
       "      <td>-89.896</td>\n",
       "      <td>NaN</td>\n",
       "      <td>NaN</td>\n",
       "      <td>-0.05</td>\n",
       "      <td>0.05</td>\n",
       "      <td>NaN</td>\n",
       "      <td>NaN</td>\n",
       "      <td>NaN</td>\n",
       "    </tr>\n",
       "    <tr>\n",
       "      <th>26</th>\n",
       "      <td>Point</td>\n",
       "      <td>B 1</td>\n",
       "      <td>Z</td>\n",
       "      <td>-91.020</td>\n",
       "      <td>NaN</td>\n",
       "      <td>NaN</td>\n",
       "      <td>-0.05</td>\n",
       "      <td>0.05</td>\n",
       "      <td>NaN</td>\n",
       "      <td>NaN</td>\n",
       "      <td>NaN</td>\n",
       "    </tr>\n",
       "  </tbody>\n",
       "</table>\n",
       "</div>"
      ],
      "text/plain": [
       "   Type Elt. Nom Elt.  Cote   Mesuré  Nominal  Ecart  Tol-  Tol+  Hors tol.  \\\n",
       "23     Point      B 1  V.G.      NaN      NaN    NaN -0.05  0.05        NaN   \n",
       "24     Point      B 1     X -241.867      NaN    NaN -0.05  0.05        NaN   \n",
       "25     Point      B 1     Y  -89.896      NaN    NaN -0.05  0.05        NaN   \n",
       "26     Point      B 1     Z  -91.020      NaN    NaN -0.05  0.05        NaN   \n",
       "\n",
       "                                          Commentaire  Commentaire utilisateur  \n",
       "23  Point de palpage extrait de l'élément B Option...                      NaN  \n",
       "24                                                NaN                      NaN  \n",
       "25                                                NaN                      NaN  \n",
       "26                                                NaN                      NaN  "
      ]
     },
     "execution_count": 4,
     "metadata": {},
     "output_type": "execute_result"
    }
   ],
   "source": [
    "df[(df[\"Type Elt.\"] == \"Point\") & (df[\"Nom Elt.\"] == \"B 1\" )]"
   ]
  },
  {
   "cell_type": "code",
   "execution_count": 5,
   "metadata": {},
   "outputs": [
    {
     "data": {
      "text/plain": [
       "24   -241.867\n",
       "25    -89.896\n",
       "26    -91.020\n",
       "Name: Mesuré, dtype: float64"
      ]
     },
     "execution_count": 5,
     "metadata": {},
     "output_type": "execute_result"
    }
   ],
   "source": [
    "df[(df[\"Type Elt.\"] == \"Point\") & (df[\"Nom Elt.\"] == \"B 1\" )][\"Mesuré\"].dropna()"
   ]
  },
  {
   "cell_type": "code",
   "execution_count": 6,
   "metadata": {},
   "outputs": [],
   "source": [
    "nbpoints = 29"
   ]
  },
  {
   "cell_type": "code",
   "execution_count": 7,
   "metadata": {},
   "outputs": [
    {
     "name": "stdout",
     "output_type": "stream",
     "text": [
      "B1 -241.86700000000002 -89.896 -91.02\n",
      "B2 -273.22700000000003 -33.72 -90.994\n",
      "B3 -269.311 57.794 -91.00399999999999\n",
      "B4 -128.464 257.836 -90.97399999999999\n",
      "B5 -83.876 242.872 -91.012\n",
      "B6 -32.156 288.14799999999997 -91.001\n",
      "B7 -32.613 256.58299999999997 -91.02\n",
      "B8 -150.703 240.727 -90.98700000000001\n",
      "B9 235.53099999999998 -169.14 -91.012\n",
      "B10 205.33900000000003 -153.4 -91.01899999999999\n",
      "B11 174.665 -209.518 -90.98700000000001\n",
      "B12 94.321 -268.262 -90.993\n",
      "B13 83.38799999999999 -251.354 -90.98899999999999\n",
      "B14 -92.565 -275.15 -90.98\n",
      "B15 -103.382 -238.717 -90.98700000000001\n",
      "B16 -234.425 -169.028 -91.023\n",
      "B17 35.733000000000004 253.622 -91.01700000000001\n",
      "B18 50.015 286.341 -90.991\n",
      "B19 95.626 251.77599999999998 -90.988\n",
      "B20 154.643 243.503 -90.979\n",
      "B21 167.451 200.773 -91.00299999999999\n",
      "B22 228.979 157.596 -91.01\n",
      "B23 236.605 99.402 -91.01299999999999\n",
      "B24 276.084 77.94 -90.995\n",
      "B25 275.403 76.752 -90.995\n",
      "B26 260.216 -18.471 -91.00299999999999\n",
      "B27 270.846 -105.575 -90.993\n",
      "B28 246.75 -107.686 -91.012\n",
      "B29 282.92 -24.287 -90.999\n"
     ]
    }
   ],
   "source": [
    "data = []\n",
    "for point in np.arange(nbpoints)+1:\n",
    "    x,y,z = df[(df[\"Type Elt.\"] == \"Point\") & (df[\"Nom Elt.\"] == f\"B {point}\" )][\"Mesuré\"].dropna()\n",
    "    print(f\"B{point}\",x,y,z)\n",
    "    data.append([f\"B{point}\",x,y,z])"
   ]
  },
  {
   "cell_type": "code",
   "execution_count": 8,
   "metadata": {},
   "outputs": [],
   "source": [
    "points_3d = pd.DataFrame(data, columns=[\"point\", \"x\", \"y\", \"z\"])"
   ]
  },
  {
   "cell_type": "code",
   "execution_count": 9,
   "metadata": {},
   "outputs": [],
   "source": [
    "points_3d.set_index(\"point\", inplace=True)"
   ]
  },
  {
   "cell_type": "code",
   "execution_count": 10,
   "metadata": {},
   "outputs": [],
   "source": [
    "#%matplotlib agg\n",
    "# aka import ipympl\n",
    "import matplotlib.pyplot as plt"
   ]
  },
  {
   "cell_type": "code",
   "execution_count": 12,
   "metadata": {},
   "outputs": [],
   "source": [
    "from mpl_toolkits.mplot3d import axes3d, Axes3D"
   ]
  },
  {
   "cell_type": "raw",
   "metadata": {},
   "source": [
    "fig = plt.figure()\n",
    "ax = fig.add_subplot(111, projection='3d')"
   ]
  },
  {
   "cell_type": "raw",
   "metadata": {},
   "source": [
    "Axes3D.scatter(points_3d.x, points_3d.y, points_3d.z)"
   ]
  },
  {
   "cell_type": "raw",
   "metadata": {},
   "source": [
    "plt.show()"
   ]
  },
  {
   "cell_type": "code",
   "execution_count": 13,
   "metadata": {},
   "outputs": [
    {
     "data": {
      "text/plain": [
       "<mpl_toolkits.mplot3d.art3d.Path3DCollection at 0x7fb260fcdba8>"
      ]
     },
     "execution_count": 13,
     "metadata": {},
     "output_type": "execute_result"
    }
   ],
   "source": [
    "fig = plt.figure()\n",
    "ax = fig.gca(projection='3d')\n",
    "#ax.plot_surface(X, Y, Z, rstride=1, cstride=1, alpha=0.2)\n",
    "ax.scatter(points_3d.x, points_3d.y, points_3d.z, c='r', s=50)"
   ]
  },
  {
   "cell_type": "raw",
   "metadata": {},
   "source": [
    "import matplotlib\n",
    "print(matplotlib.get_backend())\n"
   ]
  },
  {
   "cell_type": "code",
   "execution_count": null,
   "metadata": {},
   "outputs": [],
   "source": []
  }
 ],
 "metadata": {
  "kernelspec": {
   "display_name": "Python 3",
   "language": "python",
   "name": "python3"
  },
  "language_info": {
   "codemirror_mode": {
    "name": "ipython",
    "version": 3
   },
   "file_extension": ".py",
   "mimetype": "text/x-python",
   "name": "python",
   "nbconvert_exporter": "python",
   "pygments_lexer": "ipython3",
   "version": "3.7.2"
  }
 },
 "nbformat": 4,
 "nbformat_minor": 4
}
