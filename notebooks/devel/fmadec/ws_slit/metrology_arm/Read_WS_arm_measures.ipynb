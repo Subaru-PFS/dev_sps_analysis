{
 "cells": [
  {
   "cell_type": "code",
   "execution_count": 1,
   "metadata": {},
   "outputs": [],
   "source": [
    "import pandas as pd\n",
    "import numpy as np"
   ]
  },
  {
   "cell_type": "code",
   "execution_count": 2,
   "metadata": {},
   "outputs": [],
   "source": [
    "%matplotlib widget\n",
    "# aka import ipympl\n",
    "import matplotlib.pyplot as plt"
   ]
  },
  {
   "cell_type": "code",
   "execution_count": 3,
   "metadata": {},
   "outputs": [],
   "source": [
    "from mpl_toolkits.mplot3d import axes3d, Axes3D"
   ]
  },
  {
   "cell_type": "code",
   "execution_count": 4,
   "metadata": {},
   "outputs": [],
   "source": [
    "df = pd.read_csv(\"WS_measures/B3 Etat Initial.txt\", sep=';', encoding='iso-8859-1')"
   ]
  },
  {
   "cell_type": "code",
   "execution_count": 5,
   "metadata": {},
   "outputs": [
    {
     "data": {
      "text/html": [
       "<div>\n",
       "<style scoped>\n",
       "    .dataframe tbody tr th:only-of-type {\n",
       "        vertical-align: middle;\n",
       "    }\n",
       "\n",
       "    .dataframe tbody tr th {\n",
       "        vertical-align: top;\n",
       "    }\n",
       "\n",
       "    .dataframe thead th {\n",
       "        text-align: right;\n",
       "    }\n",
       "</style>\n",
       "<table border=\"1\" class=\"dataframe\">\n",
       "  <thead>\n",
       "    <tr style=\"text-align: right;\">\n",
       "      <th></th>\n",
       "      <th>Type Elt.</th>\n",
       "      <th>Nom Elt.</th>\n",
       "      <th>Cote</th>\n",
       "      <th>Mesuré</th>\n",
       "      <th>Nominal</th>\n",
       "      <th>Ecart</th>\n",
       "      <th>Tol-</th>\n",
       "      <th>Tol+</th>\n",
       "      <th>Hors tol.</th>\n",
       "      <th>Commentaire</th>\n",
       "      <th>Commentaire utilisateur</th>\n",
       "    </tr>\n",
       "  </thead>\n",
       "  <tbody>\n",
       "    <tr>\n",
       "      <th>0</th>\n",
       "      <td>Angle</td>\n",
       "      <td>Angle DetBox</td>\n",
       "      <td>Esp.</td>\n",
       "      <td>0.093</td>\n",
       "      <td>0.081</td>\n",
       "      <td>0.011</td>\n",
       "      <td>NaN</td>\n",
       "      <td>NaN</td>\n",
       "      <td>NaN</td>\n",
       "      <td>Plan DetBox - XY-PLANE / Repère.</td>\n",
       "      <td>NaN</td>\n",
       "    </tr>\n",
       "    <tr>\n",
       "      <th>1</th>\n",
       "      <td>Angle</td>\n",
       "      <td>Angle DetBox</td>\n",
       "      <td>XoY</td>\n",
       "      <td>NaN</td>\n",
       "      <td>NaN</td>\n",
       "      <td>NaN</td>\n",
       "      <td>NaN</td>\n",
       "      <td>NaN</td>\n",
       "      <td>NaN</td>\n",
       "      <td>NaN</td>\n",
       "      <td>NaN</td>\n",
       "    </tr>\n",
       "    <tr>\n",
       "      <th>2</th>\n",
       "      <td>Angle</td>\n",
       "      <td>Angle DetBox</td>\n",
       "      <td>YoZ</td>\n",
       "      <td>-0.012</td>\n",
       "      <td>0.000</td>\n",
       "      <td>-0.012</td>\n",
       "      <td>NaN</td>\n",
       "      <td>NaN</td>\n",
       "      <td>NaN</td>\n",
       "      <td>NaN</td>\n",
       "      <td>NaN</td>\n",
       "    </tr>\n",
       "    <tr>\n",
       "      <th>3</th>\n",
       "      <td>Angle</td>\n",
       "      <td>Angle DetBox</td>\n",
       "      <td>ZoX</td>\n",
       "      <td>-0.092</td>\n",
       "      <td>-0.081</td>\n",
       "      <td>-0.011</td>\n",
       "      <td>NaN</td>\n",
       "      <td>NaN</td>\n",
       "      <td>NaN</td>\n",
       "      <td>NaN</td>\n",
       "      <td>NaN</td>\n",
       "    </tr>\n",
       "    <tr>\n",
       "      <th>4</th>\n",
       "      <td>Point</td>\n",
       "      <td>Centre DetBox</td>\n",
       "      <td>V.G.</td>\n",
       "      <td>0.075</td>\n",
       "      <td>0.000</td>\n",
       "      <td>0.075</td>\n",
       "      <td>NaN</td>\n",
       "      <td>NaN</td>\n",
       "      <td>NaN</td>\n",
       "      <td>Inter. de Plan DetBox avec Z-AXIS.</td>\n",
       "      <td>NaN</td>\n",
       "    </tr>\n",
       "    <tr>\n",
       "      <th>...</th>\n",
       "      <td>...</td>\n",
       "      <td>...</td>\n",
       "      <td>...</td>\n",
       "      <td>...</td>\n",
       "      <td>...</td>\n",
       "      <td>...</td>\n",
       "      <td>...</td>\n",
       "      <td>...</td>\n",
       "      <td>...</td>\n",
       "      <td>...</td>\n",
       "      <td>...</td>\n",
       "    </tr>\n",
       "    <tr>\n",
       "      <th>389</th>\n",
       "      <td>Droite</td>\n",
       "      <td>Y</td>\n",
       "      <td>E.F.</td>\n",
       "      <td>0.000</td>\n",
       "      <td>NaN</td>\n",
       "      <td>0.000</td>\n",
       "      <td>NaN</td>\n",
       "      <td>NaN</td>\n",
       "      <td>NaN</td>\n",
       "      <td>NaN</td>\n",
       "      <td>NaN</td>\n",
       "    </tr>\n",
       "    <tr>\n",
       "      <th>390</th>\n",
       "      <td>Point</td>\n",
       "      <td>Y+</td>\n",
       "      <td>V.G.</td>\n",
       "      <td>NaN</td>\n",
       "      <td>NaN</td>\n",
       "      <td>NaN</td>\n",
       "      <td>-0.05</td>\n",
       "      <td>0.05</td>\n",
       "      <td>NaN</td>\n",
       "      <td>Proj. Goup CamMot1 / B.</td>\n",
       "      <td>NaN</td>\n",
       "    </tr>\n",
       "    <tr>\n",
       "      <th>391</th>\n",
       "      <td>Point</td>\n",
       "      <td>Y+</td>\n",
       "      <td>X</td>\n",
       "      <td>-0.009</td>\n",
       "      <td>NaN</td>\n",
       "      <td>NaN</td>\n",
       "      <td>-0.05</td>\n",
       "      <td>0.05</td>\n",
       "      <td>NaN</td>\n",
       "      <td>NaN</td>\n",
       "      <td>NaN</td>\n",
       "    </tr>\n",
       "    <tr>\n",
       "      <th>392</th>\n",
       "      <td>Point</td>\n",
       "      <td>Y+</td>\n",
       "      <td>Y</td>\n",
       "      <td>257.927</td>\n",
       "      <td>NaN</td>\n",
       "      <td>NaN</td>\n",
       "      <td>-0.05</td>\n",
       "      <td>0.05</td>\n",
       "      <td>NaN</td>\n",
       "      <td>NaN</td>\n",
       "      <td>NaN</td>\n",
       "    </tr>\n",
       "    <tr>\n",
       "      <th>393</th>\n",
       "      <td>Point</td>\n",
       "      <td>Y+</td>\n",
       "      <td>Z</td>\n",
       "      <td>-94.000</td>\n",
       "      <td>NaN</td>\n",
       "      <td>NaN</td>\n",
       "      <td>-0.05</td>\n",
       "      <td>0.05</td>\n",
       "      <td>NaN</td>\n",
       "      <td>NaN</td>\n",
       "      <td>NaN</td>\n",
       "    </tr>\n",
       "  </tbody>\n",
       "</table>\n",
       "<p>394 rows × 11 columns</p>\n",
       "</div>"
      ],
      "text/plain": [
       "    Type Elt.       Nom Elt.  Cote   Mesuré  Nominal  Ecart  Tol-  Tol+  \\\n",
       "0       Angle   Angle DetBox  Esp.    0.093    0.081  0.011   NaN   NaN   \n",
       "1       Angle   Angle DetBox   XoY      NaN      NaN    NaN   NaN   NaN   \n",
       "2       Angle   Angle DetBox   YoZ   -0.012    0.000 -0.012   NaN   NaN   \n",
       "3       Angle   Angle DetBox   ZoX   -0.092   -0.081 -0.011   NaN   NaN   \n",
       "4       Point  Centre DetBox  V.G.    0.075    0.000  0.075   NaN   NaN   \n",
       "..        ...            ...   ...      ...      ...    ...   ...   ...   \n",
       "389    Droite              Y  E.F.    0.000      NaN  0.000   NaN   NaN   \n",
       "390     Point             Y+  V.G.      NaN      NaN    NaN -0.05  0.05   \n",
       "391     Point             Y+     X   -0.009      NaN    NaN -0.05  0.05   \n",
       "392     Point             Y+     Y  257.927      NaN    NaN -0.05  0.05   \n",
       "393     Point             Y+     Z  -94.000      NaN    NaN -0.05  0.05   \n",
       "\n",
       "     Hors tol.                         Commentaire  Commentaire utilisateur  \n",
       "0          NaN    Plan DetBox - XY-PLANE / Repère.                      NaN  \n",
       "1          NaN                                 NaN                      NaN  \n",
       "2          NaN                                 NaN                      NaN  \n",
       "3          NaN                                 NaN                      NaN  \n",
       "4          NaN  Inter. de Plan DetBox avec Z-AXIS.                      NaN  \n",
       "..         ...                                 ...                      ...  \n",
       "389        NaN                                 NaN                      NaN  \n",
       "390        NaN             Proj. Goup CamMot1 / B.                      NaN  \n",
       "391        NaN                                 NaN                      NaN  \n",
       "392        NaN                                 NaN                      NaN  \n",
       "393        NaN                                 NaN                      NaN  \n",
       "\n",
       "[394 rows x 11 columns]"
      ]
     },
     "execution_count": 5,
     "metadata": {},
     "output_type": "execute_result"
    }
   ],
   "source": [
    "df"
   ]
  },
  {
   "cell_type": "code",
   "execution_count": 6,
   "metadata": {},
   "outputs": [
    {
     "data": {
      "text/html": [
       "<div>\n",
       "<style scoped>\n",
       "    .dataframe tbody tr th:only-of-type {\n",
       "        vertical-align: middle;\n",
       "    }\n",
       "\n",
       "    .dataframe tbody tr th {\n",
       "        vertical-align: top;\n",
       "    }\n",
       "\n",
       "    .dataframe thead th {\n",
       "        text-align: right;\n",
       "    }\n",
       "</style>\n",
       "<table border=\"1\" class=\"dataframe\">\n",
       "  <thead>\n",
       "    <tr style=\"text-align: right;\">\n",
       "      <th></th>\n",
       "      <th>Type Elt.</th>\n",
       "      <th>Nom Elt.</th>\n",
       "      <th>Cote</th>\n",
       "      <th>Mesuré</th>\n",
       "      <th>Nominal</th>\n",
       "      <th>Ecart</th>\n",
       "      <th>Tol-</th>\n",
       "      <th>Tol+</th>\n",
       "      <th>Hors tol.</th>\n",
       "      <th>Commentaire</th>\n",
       "      <th>Commentaire utilisateur</th>\n",
       "    </tr>\n",
       "  </thead>\n",
       "  <tbody>\n",
       "    <tr>\n",
       "      <th>23</th>\n",
       "      <td>Point</td>\n",
       "      <td>B 1</td>\n",
       "      <td>V.G.</td>\n",
       "      <td>NaN</td>\n",
       "      <td>NaN</td>\n",
       "      <td>NaN</td>\n",
       "      <td>-0.05</td>\n",
       "      <td>0.05</td>\n",
       "      <td>NaN</td>\n",
       "      <td>Point de palpage extrait de l'élément B Option...</td>\n",
       "      <td>NaN</td>\n",
       "    </tr>\n",
       "    <tr>\n",
       "      <th>24</th>\n",
       "      <td>Point</td>\n",
       "      <td>B 1</td>\n",
       "      <td>X</td>\n",
       "      <td>-241.867</td>\n",
       "      <td>NaN</td>\n",
       "      <td>NaN</td>\n",
       "      <td>-0.05</td>\n",
       "      <td>0.05</td>\n",
       "      <td>NaN</td>\n",
       "      <td>NaN</td>\n",
       "      <td>NaN</td>\n",
       "    </tr>\n",
       "    <tr>\n",
       "      <th>25</th>\n",
       "      <td>Point</td>\n",
       "      <td>B 1</td>\n",
       "      <td>Y</td>\n",
       "      <td>-89.896</td>\n",
       "      <td>NaN</td>\n",
       "      <td>NaN</td>\n",
       "      <td>-0.05</td>\n",
       "      <td>0.05</td>\n",
       "      <td>NaN</td>\n",
       "      <td>NaN</td>\n",
       "      <td>NaN</td>\n",
       "    </tr>\n",
       "    <tr>\n",
       "      <th>26</th>\n",
       "      <td>Point</td>\n",
       "      <td>B 1</td>\n",
       "      <td>Z</td>\n",
       "      <td>-91.020</td>\n",
       "      <td>NaN</td>\n",
       "      <td>NaN</td>\n",
       "      <td>-0.05</td>\n",
       "      <td>0.05</td>\n",
       "      <td>NaN</td>\n",
       "      <td>NaN</td>\n",
       "      <td>NaN</td>\n",
       "    </tr>\n",
       "  </tbody>\n",
       "</table>\n",
       "</div>"
      ],
      "text/plain": [
       "   Type Elt. Nom Elt.  Cote   Mesuré  Nominal  Ecart  Tol-  Tol+  Hors tol.  \\\n",
       "23     Point      B 1  V.G.      NaN      NaN    NaN -0.05  0.05        NaN   \n",
       "24     Point      B 1     X -241.867      NaN    NaN -0.05  0.05        NaN   \n",
       "25     Point      B 1     Y  -89.896      NaN    NaN -0.05  0.05        NaN   \n",
       "26     Point      B 1     Z  -91.020      NaN    NaN -0.05  0.05        NaN   \n",
       "\n",
       "                                          Commentaire  Commentaire utilisateur  \n",
       "23  Point de palpage extrait de l'élément B Option...                      NaN  \n",
       "24                                                NaN                      NaN  \n",
       "25                                                NaN                      NaN  \n",
       "26                                                NaN                      NaN  "
      ]
     },
     "execution_count": 6,
     "metadata": {},
     "output_type": "execute_result"
    }
   ],
   "source": [
    "df[(df[\"Type Elt.\"] == \"Point\") & (df[\"Nom Elt.\"] == \"B 1\" )]"
   ]
  },
  {
   "cell_type": "code",
   "execution_count": 7,
   "metadata": {},
   "outputs": [
    {
     "data": {
      "text/plain": [
       "24   -241.867\n",
       "25    -89.896\n",
       "26    -91.020\n",
       "Name: Mesuré, dtype: float64"
      ]
     },
     "execution_count": 7,
     "metadata": {},
     "output_type": "execute_result"
    }
   ],
   "source": [
    "df[(df[\"Type Elt.\"] == \"Point\") & (df[\"Nom Elt.\"] == \"B 1\" )][\"Mesuré\"].dropna()"
   ]
  },
  {
   "cell_type": "code",
   "execution_count": 8,
   "metadata": {},
   "outputs": [],
   "source": [
    "verbose = False"
   ]
  },
  {
   "cell_type": "code",
   "execution_count": 9,
   "metadata": {},
   "outputs": [],
   "source": [
    "data = []\n",
    "point_names = [\"B\"]\n",
    "colors = [\"red\"]\n",
    "nbpoints = 29\n",
    "for name,color in zip(point_names,colors):\n",
    "    for point in np.arange(nbpoints)+1:\n",
    "        x,y,z = df[(df[\"Type Elt.\"] == \"Point\") & (df[\"Nom Elt.\"] == f\"{name} {point}\" )][\"Mesuré\"].dropna()\n",
    "        if verbose : print(f\"{name} {point}\",x,y,z)\n",
    "        data.append([name,point,x,y,z,color])"
   ]
  },
  {
   "cell_type": "code",
   "execution_count": 10,
   "metadata": {},
   "outputs": [],
   "source": [
    "point_names = [\"B1\",\"B3\"]\n",
    "colors = [\"blue\", \"green\"]\n",
    "nbpoints = 9\n",
    "for name,color in zip(point_names,colors):\n",
    "    for point in np.arange(nbpoints)+1:\n",
    "        x,y,z = df[(df[\"Type Elt.\"] == \"Point\") & (df[\"Nom Elt.\"] == f\"{name} {point}\" )][\"Mesuré\"].dropna()\n",
    "        if verbose : print(f\"{name} {point}\",x,y,z)\n",
    "        data.append([name,point,x,y,z,color])"
   ]
  },
  {
   "cell_type": "code",
   "execution_count": 11,
   "metadata": {},
   "outputs": [],
   "source": [
    "point_names = [\"B2\"]\n",
    "colors = [\"k\"]\n",
    "nbpoints = 8\n",
    "for name,color in zip(point_names,colors):\n",
    "    for point in np.arange(nbpoints)+1:\n",
    "        x,y,z = df[(df[\"Type Elt.\"] == \"Point\") & (df[\"Nom Elt.\"] == f\"{name} {point}\" )][\"Mesuré\"].dropna()\n",
    "        if verbose : print(f\"{name} {point}\",x,y,z)\n",
    "        data.append([name,point,x,y,z,color])"
   ]
  },
  {
   "cell_type": "code",
   "execution_count": 12,
   "metadata": {},
   "outputs": [],
   "source": [
    "point_names = [\"Plan DetBox\"]\n",
    "colors = [\"orange\"]\n",
    "nbpoints = 9\n",
    "for name,color in zip(point_names,colors):\n",
    "    for point in np.arange(nbpoints)+1:\n",
    "        x,y,z = df[(df[\"Type Elt.\"] == \"Point\") & (df[\"Nom Elt.\"] == f\"{name} {point}\" )][\"Mesuré\"].dropna()\n",
    "        if verbose : print(f\"{name} {point}\",x,y,z)\n",
    "        data.append([name,point,x,y,z,color])"
   ]
  },
  {
   "cell_type": "code",
   "execution_count": null,
   "metadata": {},
   "outputs": [],
   "source": [
    "verbose = True"
   ]
  },
  {
   "cell_type": "raw",
   "metadata": {},
   "source": [
    "point_names = [\"CamMot1\",\"Goup CamMot1\",\"Goup1\",\"Goup2\"]\n",
    "colors = [\"yellow\", \"purple\",\"cyan\",\"lightblue\"]\n",
    "nbpoints = 3\n",
    "for name,color in zip(point_names,colors):\n",
    "    for point in np.arange(nbpoints)+1:\n",
    "        x,y,z = df[(df[\"Type Elt.\"] == \"Point\") & (df[\"Nom Elt.\"] == f\"{name} {point}\" )][\"Mesuré\"].dropna()\n",
    "        if verbose : print(f\"{name} {point}\",x,y,z)\n",
    "        data.append([name,point,x,y,z,color])"
   ]
  },
  {
   "cell_type": "code",
   "execution_count": 13,
   "metadata": {},
   "outputs": [],
   "source": [
    "point_names = [\"Goup CamMot1\",\"Goup1\",\"Goup2\"]\n",
    "colors = [\"purple\",\"cyan\",\"lightblue\"]\n",
    "nbpoints = 3\n",
    "for name,color in zip(point_names,colors):\n",
    "    for point in np.arange(nbpoints)+1:\n",
    "        x,y,z = df[(df[\"Type Elt.\"] == \"Point\") & (df[\"Nom Elt.\"] == f\"{name} {point}\" )][\"Mesuré\"].dropna()\n",
    "        if verbose : print(f\"{name} {point}\",x,y,z)\n",
    "        data.append([name,point,x,y,z,color])"
   ]
  },
  {
   "cell_type": "code",
   "execution_count": 14,
   "metadata": {},
   "outputs": [],
   "source": [
    "points_3d = pd.DataFrame(data, columns=[\"name\", \"point\", \"x\", \"y\", \"z\",\"color\"])"
   ]
  },
  {
   "cell_type": "code",
   "execution_count": 16,
   "metadata": {},
   "outputs": [],
   "source": [
    "points_3d.to_csv(\"WS_measures/df_B3_Etat_Initial.csv\")"
   ]
  },
  {
   "cell_type": "raw",
   "metadata": {},
   "source": [
    "points_3d.set_index(\"point\", inplace=True)"
   ]
  },
  {
   "cell_type": "raw",
   "metadata": {},
   "source": [
    "fig = plt.figure()\n",
    "ax = fig.add_subplot(111, projection='3d')"
   ]
  },
  {
   "cell_type": "raw",
   "metadata": {},
   "source": [
    "Axes3D.scatter(points_3d.x, points_3d.y, points_3d.z)"
   ]
  },
  {
   "cell_type": "code",
   "execution_count": null,
   "metadata": {},
   "outputs": [],
   "source": [
    "points_3d"
   ]
  },
  {
   "cell_type": "code",
   "execution_count": null,
   "metadata": {},
   "outputs": [],
   "source": [
    "fig = plt.figure()\n",
    "ax = fig.gca(projection='3d')\n",
    "#ax.plot_surface(X, Y, Z, rstride=1, cstride=1, alpha=0.2)\n",
    "ax.scatter(points_3d.x, points_3d.y, points_3d.z, c=points_3d.color, s=50)\n",
    "ax.legend()"
   ]
  },
  {
   "cell_type": "code",
   "execution_count": 17,
   "metadata": {},
   "outputs": [],
   "source": [
    "groupby_name = points_3d.groupby(['name'])"
   ]
  },
  {
   "cell_type": "code",
   "execution_count": null,
   "metadata": {},
   "outputs": [],
   "source": [
    "group"
   ]
  },
  {
   "cell_type": "code",
   "execution_count": 22,
   "metadata": {},
   "outputs": [
    {
     "data": {
      "application/vnd.jupyter.widget-view+json": {
       "model_id": "ef33503c14114c72803a6d68ecd171a9",
       "version_major": 2,
       "version_minor": 0
      },
      "text/plain": [
       "Canvas(toolbar=Toolbar(toolitems=[('Home', 'Reset original view', 'home', 'home'), ('Back', 'Back to previous …"
      ]
     },
     "metadata": {},
     "output_type": "display_data"
    },
    {
     "data": {
      "text/plain": [
       "<matplotlib.legend.Legend at 0x7fddfb2651c0>"
      ]
     },
     "execution_count": 22,
     "metadata": {},
     "output_type": "execute_result"
    }
   ],
   "source": [
    "#fig = plt.figure(figsize=(6,6))\n",
    "fig = plt.figure()\n",
    "\n",
    "ax = fig.gca(projection='3d')\n",
    "#ax.plot_surface(X, Y, Z, rstride=1, cstride=1, alpha=0.2)\n",
    "for name,group in groupby_name:\n",
    "    #group.plot(x='saleDate', y='MeanToDate', title=title)\n",
    "    ax.scatter(group.x, group.y, group.z, c=group.color, s=50, label=group.name.unique())\n",
    "\n",
    "ax.legend(loc='best')"
   ]
  },
  {
   "cell_type": "code",
   "execution_count": 19,
   "metadata": {},
   "outputs": [
    {
     "data": {
      "application/vnd.jupyter.widget-view+json": {
       "model_id": "711874a26e334edfb9d189f85a2b1381",
       "version_major": 2,
       "version_minor": 0
      },
      "text/plain": [
       "Canvas(toolbar=Toolbar(toolitems=[('Home', 'Reset original view', 'home', 'home'), ('Back', 'Back to previous …"
      ]
     },
     "metadata": {},
     "output_type": "display_data"
    },
    {
     "data": {
      "text/plain": [
       "<matplotlib.legend.Legend at 0x7fddfbc6f0a0>"
      ]
     },
     "execution_count": 19,
     "metadata": {},
     "output_type": "execute_result"
    }
   ],
   "source": [
    "group =  groupby_name.get_group(\"B\")\n",
    "fig = plt.figure()\n",
    "ax = fig.gca(projection='3d')\n",
    "#ax.plot_surface(X, Y, Z, rstride=1, cstride=1, alpha=0.2)\n",
    "ax.scatter(group.x, group.y, group.z, c=group.color, s=50, label=group.name.unique())\n",
    "ax.legend()"
   ]
  },
  {
   "cell_type": "code",
   "execution_count": 24,
   "metadata": {},
   "outputs": [
    {
     "data": {
      "application/vnd.jupyter.widget-view+json": {
       "model_id": "4c3e7d7116fd44f58a645b5d66498ebc",
       "version_major": 2,
       "version_minor": 0
      },
      "text/plain": [
       "Canvas(toolbar=Toolbar(toolitems=[('Home', 'Reset original view', 'home', 'home'), ('Back', 'Back to previous …"
      ]
     },
     "metadata": {},
     "output_type": "display_data"
    },
    {
     "data": {
      "text/plain": [
       "<matplotlib.legend.Legend at 0x7fddfb699760>"
      ]
     },
     "execution_count": 24,
     "metadata": {},
     "output_type": "execute_result"
    }
   ],
   "source": [
    "group_liste = [\"B1\", \"B2\", \"B3\"]\n",
    "groups = pd.concat( [ groupby_name.get_group(gr) for gr in group_liste] ).groupby('name')    \n",
    "fig = plt.figure()\n",
    "ax = fig.gca(projection='3d')\n",
    "#ax.plot_surface(X, Y, Z, rstride=1, cstride=1, alpha=0.2)\n",
    "for name,group in groups:\n",
    "    #group.plot(x='saleDate', y='MeanToDate', title=title)\n",
    "    ax.scatter(group.x, group.y, group.z, c=group.color, s=50, label=group.name.unique())\n",
    "ax.legend()"
   ]
  },
  {
   "cell_type": "code",
   "execution_count": 21,
   "metadata": {},
   "outputs": [
    {
     "data": {
      "application/vnd.jupyter.widget-view+json": {
       "model_id": "e3855e6f116944dcb9ad93ff52eea9da",
       "version_major": 2,
       "version_minor": 0
      },
      "text/plain": [
       "Canvas(toolbar=Toolbar(toolitems=[('Home', 'Reset original view', 'home', 'home'), ('Back', 'Back to previous …"
      ]
     },
     "metadata": {},
     "output_type": "display_data"
    },
    {
     "data": {
      "text/plain": [
       "<matplotlib.legend.Legend at 0x7fddfb7b6160>"
      ]
     },
     "execution_count": 21,
     "metadata": {},
     "output_type": "execute_result"
    }
   ],
   "source": [
    "group =  groupby_name.get_group(\"Plan DetBox\")\n",
    "fig = plt.figure()\n",
    "ax = fig.gca(projection='3d')\n",
    "#ax.plot_surface(X, Y, Z, rstride=1, cstride=1, alpha=0.2)\n",
    "ax.scatter(group.x, group.y, group.z, c=group.color, s=50, label=group.name.unique())\n",
    "ax.legend()"
   ]
  },
  {
   "cell_type": "code",
   "execution_count": null,
   "metadata": {},
   "outputs": [],
   "source": []
  }
 ],
 "metadata": {
  "kernelspec": {
   "display_name": "Python 3",
   "language": "python",
   "name": "python3"
  },
  "language_info": {
   "codemirror_mode": {
    "name": "ipython",
    "version": 3
   },
   "file_extension": ".py",
   "mimetype": "text/x-python",
   "name": "python",
   "nbconvert_exporter": "python",
   "pygments_lexer": "ipython3",
   "version": "3.8.5"
  }
 },
 "nbformat": 4,
 "nbformat_minor": 4
}
