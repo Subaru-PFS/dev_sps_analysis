{
 "cells": [
  {
   "cell_type": "code",
   "execution_count": null,
   "id": "remarkable-concrete",
   "metadata": {},
   "outputs": [],
   "source": [
    "import scipy.linalg"
   ]
  },
  {
   "cell_type": "code",
   "execution_count": null,
   "id": "urban-generator",
   "metadata": {},
   "outputs": [],
   "source": [
    "import pandas as pd\n",
    "import numpy as np"
   ]
  },
  {
   "cell_type": "code",
   "execution_count": null,
   "id": "martial-introduction",
   "metadata": {},
   "outputs": [],
   "source": [
    "%matplotlib widget\n",
    "# aka import ipympl"
   ]
  },
  {
   "cell_type": "code",
   "execution_count": null,
   "id": "found-sympathy",
   "metadata": {},
   "outputs": [],
   "source": [
    "import matplotlib.pyplot as plt"
   ]
  },
  {
   "cell_type": "code",
   "execution_count": null,
   "id": "affected-venue",
   "metadata": {},
   "outputs": [],
   "source": [
    "from mpl_toolkits.mplot3d import axes3d, Axes3D"
   ]
  },
  {
   "cell_type": "code",
   "execution_count": null,
   "id": "scenic-harvest",
   "metadata": {},
   "outputs": [],
   "source": [
    "points_3d = pd.read_csv(\"WS_measures/df_B3_Etat_Initial.csv\")"
   ]
  },
  {
   "cell_type": "code",
   "execution_count": null,
   "id": "constant-nomination",
   "metadata": {},
   "outputs": [],
   "source": [
    "groupby_name = points_3d.groupby(['name'])"
   ]
  },
  {
   "cell_type": "code",
   "execution_count": null,
   "id": "terminal-burton",
   "metadata": {},
   "outputs": [],
   "source": [
    "#fig = plt.figure(figsize=(6,6))\n",
    "fig = plt.figure()\n",
    "\n",
    "ax = fig.gca(projection='3d')\n",
    "#ax.plot_surface(X, Y, Z, rstride=1, cstride=1, alpha=0.2)\n",
    "for name,group in groupby_name:\n",
    "    #group.plot(x='saleDate', y='MeanToDate', title=title)\n",
    "    ax.scatter(group.x, group.y, group.z, c=group.color, s=50, label=group.name.unique())\n",
    "\n",
    "\n",
    "ax.legend(loc='best')"
   ]
  },
  {
   "cell_type": "code",
   "execution_count": null,
   "id": "vocal-madagascar",
   "metadata": {},
   "outputs": [],
   "source": [
    "def fit3dPlane(df, coords=[\"x\",\"y\",\"z\"], order=1, x_bound=None, y_bound=None, \\\n",
    "               doPlot=False, plot_path=None, plot_title=None, plot_name=None, savePlot=False):\n",
    "#def fit3dPlane(df, coords=[\"x\",\"y\",\"z\"], order=1, doPlot=False, plot_path=None, exp=None):\n",
    "    \n",
    "    import scipy.linalg\n",
    "    from mpl_toolkits.mplot3d import Axes3D\n",
    "    import matplotlib.pyplot as plt\n",
    "    \n",
    "    x = df[coords[0]]\n",
    "    y = df[coords[1]]\n",
    "    z = df[coords[2]]\n",
    "    x_bound = [x.min(),x.max()] if x_bound is None else x_bound\n",
    "    y_bound = [y.min(),y.max()] if y_bound is None else y_bound\n",
    "\n",
    "    # regular grid covering the domain of the data\n",
    "    X,Y = np.meshgrid(np.arange(x_bound[0], x_bound[1], 100), np.arange(y_bound[0], y_bound[1], 100))\n",
    "    XX = X.flatten()\n",
    "    YY = Y.flatten()\n",
    "\n",
    "    # 1: linear, 2: quadratic\n",
    "    if order == 1:\n",
    "        # best-fit linear plane\n",
    "        A = np.c_[x, y, np.ones(x.shape[0])]\n",
    "        C,_,_,_ = scipy.linalg.lstsq(A, z)    # coefficients\n",
    "\n",
    "        # evaluate it on grid\n",
    "        Z = C[0]*X + C[1]*Y + C[2]\n",
    "\n",
    "        # or expressed using matrix/vector product\n",
    "        #Z = np.dot(np.c_[XX, YY, np.ones(XX.shape)], C).reshape(X.shape)\n",
    "\n",
    "    elif order == 2:\n",
    "        # best-fit quadratic curve\n",
    "        A = np.c_[np.ones(x.shape[0]), df[[coords[0],coords[1]]], \\\n",
    "                  np.prod(df[[coords[0],coords[1]]].values, axis=1),df[[coords[0],coords[1]]].values**2]\n",
    "        C,_,_,_ = scipy.linalg.lstsq(A, z)\n",
    "        # evaluate it on a grid\n",
    "        Z = np.dot(np.c_[np.ones(XX.shape), XX, YY, XX*YY, XX**2, YY**2], C).reshape(X.shape)\n",
    "\n",
    "    if doPlot:\n",
    "    # plot points and fitted surface\n",
    "        fig = plt.figure()\n",
    "        ax = fig.gca(projection='3d')\n",
    "        ax.plot_surface(X, Y, Z, rstride=1, cstride=1, alpha=0.2)\n",
    "        ax.scatter(x, y, z, c='r', s=50)\n",
    "        plt.xlabel('X')\n",
    "        plt.ylabel('Y')\n",
    "        ax.set_zlabel('Z')\n",
    "#        ax.axis('equal')\n",
    "#        ax.axis('tight')\n",
    "\n",
    "        if plot_title is not None:\n",
    "            plt.suptitle(plot_title)\n",
    "\n",
    "        if savePlot :\n",
    "            if plot_path is None or plot_title is None:\n",
    "                  raise Exception(\"you must specify a plot path and a title\")\n",
    "            plt.savefig(plot_path+plot_title)\n",
    "        plt.show()\n",
    "#        plt.cla()\n",
    "    \n",
    "    return C\n"
   ]
  },
  {
   "cell_type": "code",
   "execution_count": null,
   "id": "flexible-extraction",
   "metadata": {},
   "outputs": [],
   "source": [
    "def getBestPlane(data, order=1, doPlot=False, plot_path=None, exp=None):\n",
    "    \n",
    "    coords = [\"px\", \"py\", \"relPos\"]\n",
    "    x_bound = [0,4200]\n",
    "    y_bound = [0,4200]\n",
    "    \n",
    "    if exp is not None:\n",
    "        plot_title = f\"Focus_plane_Exp{exp}.png\"\n",
    "        plot_name = f\"Exp{exp}\"\n",
    "    else :\n",
    "        plot_title = None\n",
    "        plot_name = None\n",
    "\n",
    "    return fit3dPlane(df, coords=coords, order=1, x_bound=x_bound, y_bound=y_bound, \\\n",
    "                      doPlot=doPlot, plot_path=plot_path, plot_title=plot_title, plot_name=plot_name)\n"
   ]
  },
  {
   "cell_type": "code",
   "execution_count": null,
   "id": "mysterious-conspiracy",
   "metadata": {},
   "outputs": [],
   "source": [
    "group =  groupby_name.get_group(\"B3\")\n",
    "\n",
    "\n",
    "fit3dPlane(group, doPlot=True, order=1)"
   ]
  },
  {
   "cell_type": "code",
   "execution_count": null,
   "id": "separated-valley",
   "metadata": {},
   "outputs": [],
   "source": [
    "from scipy.linalg import norm"
   ]
  },
  {
   "cell_type": "code",
   "execution_count": null,
   "id": "fourth-backup",
   "metadata": {},
   "outputs": [],
   "source": [
    "np.cross(z)"
   ]
  },
  {
   "cell_type": "code",
   "execution_count": null,
   "id": "robust-adult",
   "metadata": {},
   "outputs": [],
   "source": [
    "group_liste = [\"B1\", \"B2\", \"B3\"]\n",
    "groups = pd.concat( [ groupby_name.get_group(gr) for gr in group_liste] )\n",
    "\n",
    "fit3dPlane(groups, doPlot=True)"
   ]
  },
  {
   "cell_type": "code",
   "execution_count": null,
   "id": "related-violin",
   "metadata": {},
   "outputs": [],
   "source": [
    "group_liste = [\"Plan DetBox\"]\n",
    "\n",
    "groups = pd.concat( [ groupby_name.get_group(gr) for gr in group_liste] ).groupby('name')    \n",
    "fig = plt.figure()\n",
    "ax = fig.gca(projection='3d')\n",
    "#ax.plot_surface(X, Y, Z, rstride=1, cstride=1, alpha=0.2)\n",
    "for name,group in groups:\n",
    "    #group.plot(x='saleDate', y='MeanToDate', title=title)\n",
    "    ax.scatter(group.x, group.y, group.z, c=group.color, s=50, label=group.name.unique())\n",
    "#Axes3D.plot3D(0,0,0)\n",
    "ax.legend()\n",
    "fit3dPlane(group, doPlot=False)"
   ]
  },
  {
   "cell_type": "code",
   "execution_count": null,
   "id": "authorized-african",
   "metadata": {},
   "outputs": [],
   "source": [
    "fig = plt.figure()\n",
    "ax = fig.gca(projection='3d')\n",
    "ax.plot_surface(X, Y, Z, rstride=1, cstride=1, alpha=0.2)"
   ]
  },
  {
   "cell_type": "code",
   "execution_count": null,
   "id": "broken-avenue",
   "metadata": {},
   "outputs": [],
   "source": []
  }
 ],
 "metadata": {
  "kernelspec": {
   "display_name": "Python 3.8 (XPython)",
   "language": "python",
   "name": "xpython"
  },
  "language_info": {
   "file_extension": ".py",
   "mimetype": "text/x-python",
   "name": "python",
   "version": "3.8.6"
  }
 },
 "nbformat": 4,
 "nbformat_minor": 5
}
