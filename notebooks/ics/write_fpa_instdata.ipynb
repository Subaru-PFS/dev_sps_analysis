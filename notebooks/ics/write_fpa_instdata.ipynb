{
 "cells": [
  {
   "cell_type": "code",
   "execution_count": 1,
   "id": "b346ceb1-aeeb-47cd-980e-6487f0669d23",
   "metadata": {},
   "outputs": [],
   "source": [
    "import numpy as np"
   ]
  },
  {
   "cell_type": "code",
   "execution_count": 2,
   "id": "36aecd04-7a4a-4f8e-935f-02a219261a01",
   "metadata": {},
   "outputs": [],
   "source": [
    "# Use that example for a single cu "
   ]
  },
  {
   "cell_type": "raw",
   "id": "8b4072eb-7efb-4d0e-8387-136ef1c7e15a",
   "metadata": {},
   "source": [
    "#R4\n",
    "mot = [59.2423225,44.83584351,33.91539595] \n",
    "# motor_range = [344.40,346.35,367.96]"
   ]
  },
  {
   "cell_type": "raw",
   "id": "c72ac250-4620-4019-91dc-d833a46bfe06",
   "metadata": {},
   "source": [
    "pos = mot - np.mean(mot)\n",
    "print(f\"range: [{motor_range[0]:.2f}, {motor_range[1]:.2f}, {motor_range[2]:.2f}]\")\n",
    "print(f\"tilts: [{pos[0]:.1f}, {pos[1]:.1f}, {pos[2]:.1f}]\")\n",
    "print(f\"focus: {np.mean(mot):.1f}\")"
   ]
  },
  {
   "cell_type": "code",
   "execution_count": 5,
   "id": "0dd86517-2840-482e-9190-4bc40cdcbf81",
   "metadata": {},
   "outputs": [],
   "source": [
    "# Best Focus after VPHG Rotation - Nov/Dec 2023"
   ]
  },
  {
   "cell_type": "code",
   "execution_count": 3,
   "id": "78365af3-a8ef-47bd-b103-c5cc0cf1eb80",
   "metadata": {},
   "outputs": [],
   "source": [
    "motors = {\n",
    "    \"r1\" : [177.21, 179.43, 143.81],\n",
    "    \"b1\" : [161.71, 164.31, 113.14],\n",
    "    \"r2\" : [161.86, 191.76, 157.80],\n",
    "    \"b2\" : [217.30, 236.64, 204.88],\n",
    "    \"r3\" : [210.83, 198.18, 196.71],\n",
    "    \"b3\" : [227.99, 218.49, 210.54],\n",
    "    \"r4\" : [107.57, 67.37, 89.13],\n",
    "    \"b4\" : [116.21,  93.50, 108.36],\n",
    "}"
   ]
  },
  {
   "cell_type": "code",
   "execution_count": 4,
   "id": "5f488416-1405-416a-856f-783b337aac08",
   "metadata": {},
   "outputs": [
    {
     "name": "stdout",
     "output_type": "stream",
     "text": [
      "r1:\n",
      "  <<: *RED_XCU\n",
      "  fpa:\n",
      "    <<: *FPA\n",
      "   tilts: [10.4, 12.6, -23.0]\n",
      "   focus: 166.8\n",
      "\n",
      "\n",
      "b1:\n",
      "  <<: *BLUE_XCU\n",
      "  fpa:\n",
      "    <<: *FPA\n",
      "   tilts: [15.3, 17.9, -33.2]\n",
      "   focus: 146.4\n",
      "\n",
      "\n",
      "r2:\n",
      "  <<: *RED_XCU\n",
      "  fpa:\n",
      "    <<: *FPA\n",
      "   tilts: [-8.6, 21.3, -12.7]\n",
      "   focus: 170.5\n",
      "\n",
      "\n",
      "b2:\n",
      "  <<: *BLUE_XCU\n",
      "  fpa:\n",
      "    <<: *FPA\n",
      "   tilts: [-2.3, 17.0, -14.7]\n",
      "   focus: 219.6\n",
      "\n",
      "\n",
      "r3:\n",
      "  <<: *RED_XCU\n",
      "  fpa:\n",
      "    <<: *FPA\n",
      "   tilts: [8.9, -3.7, -5.2]\n",
      "   focus: 201.9\n",
      "\n",
      "\n",
      "b3:\n",
      "  <<: *BLUE_XCU\n",
      "  fpa:\n",
      "    <<: *FPA\n",
      "   tilts: [9.0, -0.5, -8.5]\n",
      "   focus: 219.0\n",
      "\n",
      "\n",
      "r4:\n",
      "  <<: *RED_XCU\n",
      "  fpa:\n",
      "    <<: *FPA\n",
      "   tilts: [19.5, -20.7, 1.1]\n",
      "   focus: 88.0\n",
      "\n",
      "\n",
      "b4:\n",
      "  <<: *BLUE_XCU\n",
      "  fpa:\n",
      "    <<: *FPA\n",
      "   tilts: [10.2, -12.5, 2.3]\n",
      "   focus: 106.0\n",
      "\n",
      "\n"
     ]
    }
   ],
   "source": [
    "for cu, mot in motors.items():\n",
    "    pos = mot - np.mean(mot)\n",
    "    if cu[0] == \"b\":\n",
    "        txt_cu = \"  <<: *BLUE_XCU\"\n",
    "    if cu[0] == \"r\":\n",
    "        txt_cu = \"  <<: *RED_XCU\"\n",
    "    if cu[0] == \"n\":\n",
    "        txt_cu = \"  <<: *NIR_XCU\"  \n",
    "    print(f\"{cu}:\")\n",
    "    print(txt_cu)\n",
    "    print(\"  fpa:\")\n",
    "    print(\"    <<: *FPA\")\n",
    "    print(f\"   tilts: [{pos[0]:.1f}, {pos[1]:.1f}, {pos[2]:.1f}]\")\n",
    "    print(f\"   focus: {np.mean(mot):.1f}\")\n",
    "    print(\"\\n\")"
   ]
  },
  {
   "cell_type": "code",
   "execution_count": null,
   "id": "28ea9963-3d77-4257-8438-07a9f50f1c1b",
   "metadata": {},
   "outputs": [],
   "source": []
  }
 ],
 "metadata": {
  "kernelspec": {
   "display_name": "PFS",
   "language": "python",
   "name": "pfs_pipe2d"
  },
  "language_info": {
   "codemirror_mode": {
    "name": "ipython",
    "version": 3
   },
   "file_extension": ".py",
   "mimetype": "text/x-python",
   "name": "python",
   "nbconvert_exporter": "python",
   "pygments_lexer": "ipython3",
   "version": "3.8.13"
  }
 },
 "nbformat": 4,
 "nbformat_minor": 5
}
