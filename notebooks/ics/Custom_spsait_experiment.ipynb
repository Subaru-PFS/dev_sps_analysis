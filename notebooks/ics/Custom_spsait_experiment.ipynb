{
 "cells": [
  {
   "cell_type": "code",
   "execution_count": null,
   "metadata": {},
   "outputs": [],
   "source": [
    "import subprocess\n",
    "import numpy as np\n",
    "import matplotlib.pyplot as plt"
   ]
  },
  {
   "cell_type": "code",
   "execution_count": null,
   "metadata": {},
   "outputs": [],
   "source": [
    "name = 'fiber uniformity'"
   ]
  },
  {
   "cell_type": "code",
   "execution_count": null,
   "metadata": {},
   "outputs": [],
   "source": [
    "comments = 'FCA3 all bundles + red1'"
   ]
  },
  {
   "cell_type": "code",
   "execution_count": null,
   "metadata": {},
   "outputs": [],
   "source": [
    "slitPosition = np.arange(-6,9,1)"
   ]
  },
  {
   "cell_type": "code",
   "execution_count": null,
   "metadata": {},
   "outputs": [],
   "source": [
    "slitPosition = np.arange(-6,9,1)\n",
    "exptimes = np.ones(len(slitPosition)) * 15\n",
    "exptimes[0] = 17\n",
    "exptimes[-1] = 17\n",
    "attenuators = [0,0,65,100,140,160,190,215,235]\n",
    "attenuators = attenuators + [240] + attenuators[::-1]"
   ]
  },
  {
   "cell_type": "code",
   "execution_count": null,
   "metadata": {},
   "outputs": [],
   "source": [
    "attenuators = np.array(attenuators)"
   ]
  },
  {
   "cell_type": "code",
   "execution_count": null,
   "metadata": {},
   "outputs": [],
   "source": [
    "plt.plot(exptimes/15*(255-attenuators)/255)"
   ]
  },
  {
   "cell_type": "code",
   "execution_count": null,
   "metadata": {},
   "outputs": [],
   "source": [
    "duplicate = 2"
   ]
  },
  {
   "cell_type": "code",
   "execution_count": null,
   "metadata": {},
   "outputs": [],
   "source": [
    "len(slitPosition)"
   ]
  },
  {
   "cell_type": "code",
   "execution_count": null,
   "metadata": {},
   "outputs": [],
   "source": [
    "cmdList = []"
   ]
  },
  {
   "cell_type": "markdown",
   "metadata": {},
   "source": [
    "for pos,exptime,attenuator in zip(slitPosition, exptimes, attenuators):\n",
    "    cmdList.append('enu_sm1 slit move absolute X=%.1f Y=0 Z=0 U=0 V=0 W=0'%pos)\n",
    "    cmdList.append('dcb arc on=neon attenuator=%d'%attenuator) \n",
    "    for i in range(duplicate):\n",
    "        cmdList.append('sps single arc exptime=%.1f cams=b1,r1'%exptime)"
   ]
  },
  {
   "cell_type": "code",
   "execution_count": null,
   "metadata": {},
   "outputs": [],
   "source": [
    "cmdList = ['dcb labsphere attenuator=0']\n",
    "for pos in slitPosition:\n",
    "    cmdList.append('enu_sm1 slit move absolute X=0 Y=0 Z=0 U=0 V=0 W=%.1f'%pos)\n",
    "    for i in range(duplicate):\n",
    "        cmdList.append('sps expose flat exptime=60.0 cams=r1')"
   ]
  },
  {
   "cell_type": "code",
   "execution_count": null,
   "metadata": {},
   "outputs": [],
   "source": [
    "sequence = ','.join(['\"%s\"'%cmd for cmd in cmdList])"
   ]
  },
  {
   "cell_type": "code",
   "execution_count": null,
   "metadata": {},
   "outputs": [],
   "source": [
    "cmdStr = 'spsait custom sequence=%s'%sequence"
   ]
  },
  {
   "cell_type": "code",
   "execution_count": null,
   "metadata": {},
   "outputs": [],
   "source": [
    "print(cmdStr)"
   ]
  },
  {
   "cell_type": "code",
   "execution_count": null,
   "metadata": {},
   "outputs": [],
   "source": [
    "# single image of peak\n",
    "headList = ['dcb power off=neon',\n",
    "            'dcb power on=hgar'\n",
    "            'enu_sm1 slit move absolute X=-7.3 Y=0.0 Z=8.0 U=0.0 V=0.00000 W=0.00000',\n",
    "]\n",
    "cmd = 'spsait expose arc exptime=1 duplicate=1 cam=b1 attenuator=230 switchOn=hgar'"
   ]
  },
  {
   "cell_type": "code",
   "execution_count": null,
   "metadata": {},
   "outputs": [],
   "source": [
    "# thfocus of peak\n",
    "headList = ['dcb power off=neon',\n",
    "            'dcb power on=hgar'\n",
    "            'enu_sm1 slit move absolute X=-7.3 Y=0.0 Z=8.0 U=0.0 V=0.00000 W=0.00000',\n",
    "]\n",
    "cmd = 'slit throughfocus exptime=1 nbPosition=20 lowBound=-4 upBound=-10 cam=b1 attenuator=230 switchOn=hgar'"
   ]
  },
  {
   "cell_type": "code",
   "execution_count": null,
   "metadata": {},
   "outputs": [],
   "source": [
    "# single image of ghost\n",
    "headList = ['enu_sm1 slit move absolute X=11.4 Y=0.0 Z=8.0 U=0.0 V=0.00000 W=0.00000',\n",
    "]\n",
    "cmd = 'spsait expose arc exptime=25 duplicate=1 cam=b1 attenuator=0'"
   ]
  },
  {
   "cell_type": "code",
   "execution_count": null,
   "metadata": {},
   "outputs": [],
   "source": [
    "# ghost th focus\n",
    "headList = ['enu_sm1 slit move absolute X=11.4 Y=0.0 Z=8.0 U=0.0 V=0.00000 W=0.00000',\n",
    "]\n",
    "cmd = 'spsait slit throughfocus exptime=50.0 nbPosition=20 lowBound=9 upBound=12.9 cam=b1'"
   ]
  },
  {
   "cell_type": "code",
   "execution_count": null,
   "metadata": {},
   "outputs": [],
   "source": [
    "head = ','.join(['\"%s\"'%cmd for cmd in headList])"
   ]
  },
  {
   "cell_type": "code",
   "execution_count": null,
   "metadata": {},
   "outputs": [],
   "source": [
    "sequence = cmd+' head='+','.join(['\"%s\"'%head for head in headList])"
   ]
  },
  {
   "cell_type": "code",
   "execution_count": null,
   "metadata": {},
   "outputs": [],
   "source": [
    "sequence"
   ]
  },
  {
   "cell_type": "code",
   "execution_count": null,
   "metadata": {},
   "outputs": [],
   "source": [
    "args =  ['oneCmd.py']+cmd.split(\" \")+['head=%s'%head, 'name=\"%s\"'%name, 'comments=\"%s\"'%comments]"
   ]
  },
  {
   "cell_type": "code",
   "execution_count": null,
   "metadata": {},
   "outputs": [],
   "source": [
    "# start command\n",
    "output = subprocess.check_output(args)\n",
    "\n",
    "print(output.decode('utf8'))"
   ]
  },
  {
   "cell_type": "code",
   "execution_count": null,
   "metadata": {},
   "outputs": [],
   "source": []
  },
  {
   "cell_type": "code",
   "execution_count": null,
   "metadata": {},
   "outputs": [],
   "source": [
    "args =  ['oneCmd.py', 'spsait', 'custom', 'sequence=%s'%sequence, 'name=\"%s\"'%name, 'comments=\"%s\"'%comments]"
   ]
  },
  {
   "cell_type": "code",
   "execution_count": null,
   "metadata": {},
   "outputs": [],
   "source": []
  },
  {
   "cell_type": "code",
   "execution_count": null,
   "metadata": {},
   "outputs": [],
   "source": [
    "cmdList = [\n",
    "    'enu_sm1 slit status',\n",
    "    'enu_sm1 bsh status',\n",
    "    'spsait single arc exptime=2.0 cams=b1'\n",
    "]"
   ]
  },
  {
   "cell_type": "code",
   "execution_count": null,
   "metadata": {},
   "outputs": [],
   "source": []
  },
  {
   "cell_type": "code",
   "execution_count": null,
   "metadata": {},
   "outputs": [],
   "source": [
    "spsait expose arc exptime=15.0 duplicate=6 switchOn=neon attenuator=0 cam=b1,r1 head=\"enu_sm1 slit move absolute X=-0.5 Y=0 Z=0 U=0 V=0 W=0\""
   ]
  },
  {
   "cell_type": "code",
   "execution_count": null,
   "metadata": {},
   "outputs": [],
   "source": [
    "duplicate = 80"
   ]
  },
  {
   "cell_type": "code",
   "execution_count": null,
   "metadata": {},
   "outputs": [],
   "source": [
    "print(duplicate*(15 + 1800)/3600)"
   ]
  },
  {
   "cell_type": "code",
   "execution_count": null,
   "metadata": {},
   "outputs": [],
   "source": [
    "cmdList = ['sac ccd expose exptime=1.0']\n",
    "cmdList.append('sac ccd expose exptime=1.0')\n",
    "\n",
    "for i in range(duplicate):\n",
    "        cmdList.append('spsait wait time=1800')\n",
    "        cmdList.append('sac ccd expose exptime=1.0')\n",
    "        cmdList.append('sac ccd expose exptime=1.0')"
   ]
  },
  {
   "cell_type": "code",
   "execution_count": null,
   "metadata": {},
   "outputs": [],
   "source": [
    "cmdList"
   ]
  },
  {
   "cell_type": "code",
   "execution_count": null,
   "metadata": {},
   "outputs": [],
   "source": [
    "sequence = ','.join(['\"%s\"'%cmd for cmd in cmdList])"
   ]
  },
  {
   "cell_type": "code",
   "execution_count": null,
   "metadata": {},
   "outputs": [],
   "source": [
    "cmdStr = 'spsait custom sequence=%s'%sequence"
   ]
  },
  {
   "cell_type": "code",
   "execution_count": null,
   "metadata": {},
   "outputs": [],
   "source": [
    "print(cmdStr)"
   ]
  },
  {
   "cell_type": "code",
   "execution_count": null,
   "metadata": {},
   "outputs": [],
   "source": []
  },
  {
   "cell_type": "code",
   "execution_count": null,
   "metadata": {},
   "outputs": [],
   "source": []
  }
 ],
 "metadata": {
  "kernelspec": {
   "display_name": "Python 3",
   "language": "python",
   "name": "python3"
  },
  "language_info": {
   "codemirror_mode": {
    "name": "ipython",
    "version": 3
   },
   "file_extension": ".py",
   "mimetype": "text/x-python",
   "name": "python",
   "nbconvert_exporter": "python",
   "pygments_lexer": "ipython3",
   "version": "3.6.8"
  }
 },
 "nbformat": 4,
 "nbformat_minor": 4
}
