{
 "cells": [
  {
   "cell_type": "code",
   "execution_count": null,
   "metadata": {},
   "outputs": [],
   "source": [
    "import logging\n",
    "import select\n",
    "import socket\n",
    "\n",
    "\n",
    "class EthComm(object):\n",
    "    def __init__(self, host, port, EOL='\\r\\n'):\n",
    "        object.__init__(self)\n",
    "        self.sock = None\n",
    "        self.host = host\n",
    "        self.port = port\n",
    "        self.EOL = EOL\n",
    "\n",
    "    def connectSock(self, timeout=10.):\n",
    "        \"\"\"| Connect socket if self.sock is None.\n",
    "\n",
    "        :return: - socket\n",
    "        \"\"\"\n",
    "        if self.sock is None:\n",
    "            s = self.createSock()\n",
    "            s.settimeout(timeout)\n",
    "            s.connect((self.host, self.port))\n",
    "\n",
    "            self.sock = s\n",
    "\n",
    "        return self.sock\n",
    "\n",
    "    def createSock(self):\n",
    "        return socket.socket(socket.AF_INET, socket.SOCK_STREAM)\n",
    "\n",
    "    def closeSock(self):\n",
    "        \"\"\"| Close the socket.\n",
    "\n",
    "        :raise: Exception if closing socket has failed\n",
    "        \"\"\"\n",
    "        try:\n",
    "            self.sock.close()\n",
    "        except:\n",
    "            pass\n",
    "\n",
    "        self.sock = None\n",
    "\n",
    "    def sendOneCommand(self, cmdStr, doClose=False, cmd=None):\n",
    "        \"\"\"| Send one command and return one response.\n",
    "\n",
    "        :param cmdStr: (str) The command to send.\n",
    "        :param doClose: If True (the default), the device socket is closed before returning.\n",
    "        :param cmd: on going command\n",
    "        :return: reply : the single response string, with EOLs stripped.\n",
    "        :raise: IOError : from any communication errors.\n",
    "        \"\"\"\n",
    "\n",
    "        if cmd is None:\n",
    "            cmd = self.actor.bcast\n",
    "\n",
    "        fullCmd = ('%s%s' % (cmdStr, self.EOL)).encode('utf-8')\n",
    "        print('sending %r', fullCmd)\n",
    "\n",
    "        s = self.connectSock()\n",
    "\n",
    "        try:\n",
    "            s.sendall(fullCmd)\n",
    "\n",
    "        except:\n",
    "            self.closeSock()\n",
    "            raise\n",
    "\n",
    "        reply = self.getOneResponse(sock=s, cmd=cmd)\n",
    "\n",
    "        if doClose:\n",
    "            self.closeSock()\n",
    "\n",
    "        return reply\n",
    "\n",
    "    def getOneResponse(self, sock=None, cmd=None):\n",
    "        \"\"\"| Attempt to receive data from the socket.\n",
    "\n",
    "        :param sock: socket\n",
    "        :param cmd: command\n",
    "        :return: reply : the single response string, with EOLs stripped.\n",
    "        :raise: IOError : from any communication errors.\n",
    "        \"\"\"\n",
    "        if sock is None:\n",
    "            sock = self.connectSock()\n",
    "\n",
    "        ret = self.ioBuffer.getOneResponse(sock=sock, cmd=cmd)\n",
    "        reply = ret.strip()\n",
    "\n",
    "        print('received %r', reply)\n",
    "\n",
    "        return reply\n",
    "\n",
    "\n",
    "class BufferedSocket(object):\n",
    "    \"\"\" Buffer the input from a socket and block it into lines. \"\"\"\n",
    "\n",
    "    def __init__(self, name, sock=None, loggerName=None, EOL='\\n', timeout=10.,\n",
    "                 logLevel=logging.INFO):\n",
    "        self.EOL = EOL\n",
    "        self.sock = sock\n",
    "        self.name = name\n",
    "        self.timeout = timeout\n",
    "\n",
    "        self.buffer = ''\n",
    "\n",
    "    def getOutput(self, sock=None, timeout=None, cmd=None):\n",
    "        \"\"\" Block/timeout for input, then return all (<=1kB) available input. \"\"\"\n",
    "\n",
    "        if sock is None:\n",
    "            sock = self.sock\n",
    "        if timeout is None:\n",
    "            timeout = self.timeout\n",
    "\n",
    "        readers, writers, broken = select.select([sock.fileno()], [], [], timeout)\n",
    "        if len(readers) == 0:\n",
    "            cmd.warn('text=\"Timed out reading character from %s\"' % self.name)\n",
    "            raise IOError\n",
    "\n",
    "        return sock.recv(1024).decode('utf8', 'ignore')\n",
    "\n",
    "    def getOneResponse(self, sock=None, timeout=None, cmd=None, doRaise=False):\n",
    "        \"\"\" Return the next available complete line. Fetch new input if necessary.\n",
    "\n",
    "        Args\n",
    "        ----\n",
    "        sock : socket\n",
    "           Uses self.sock if not set.\n",
    "        timeout : float\n",
    "           Uses self.timeout if not set.\n",
    "\n",
    "        Returns\n",
    "        -------\n",
    "        str or None : a single line of response text, with EOL character(s) stripped.\n",
    "        \"\"\"\n",
    "        while self.buffer.find(self.EOL) == -1:\n",
    "            try:\n",
    "                more = self.getOutput(sock=sock, timeout=timeout, cmd=cmd)\n",
    "                if not more:\n",
    "                    if doRaise:\n",
    "                        raise IOError\n",
    "                    else:\n",
    "                        return self.getOneResponse(sock=sock, timeout=timeout, cmd=cmd, doRaise=True)\n",
    "\n",
    "            except IOError:\n",
    "                return ''\n",
    "\n",
    "            print('%s added: %r' % (self.name, more))\n",
    "            self.buffer += more\n",
    "\n",
    "        eolAt = self.buffer.find(self.EOL)\n",
    "        ret = self.buffer[:eolAt]\n",
    "\n",
    "        self.buffer = self.buffer[eolAt + len(self.EOL):]\n",
    "\n",
    "        return ret\n",
    "\n",
    "class Cmd(object):\n",
    "    def __init__(self):\n",
    "        self.warn = print\n",
    "        self.inform = print\n",
    "        self.fail = print\n",
    "        self.finish = print\n",
    "    "
   ]
  },
  {
   "cell_type": "code",
   "execution_count": null,
   "metadata": {},
   "outputs": [],
   "source": [
    "host = 'filterwheel-dcb'\n",
    "port = 9000\n",
    "EOL = '\\r\\n'"
   ]
  },
  {
   "cell_type": "code",
   "execution_count": null,
   "metadata": {},
   "outputs": [],
   "source": []
  },
  {
   "cell_type": "code",
   "execution_count": null,
   "metadata": {},
   "outputs": [],
   "source": [
    "cmd = Cmd()"
   ]
  },
  {
   "cell_type": "code",
   "execution_count": null,
   "metadata": {},
   "outputs": [],
   "source": [
    "sock = EthComm(host=host, port=port, EOL='\\r\\n')\n",
    "sock.ioBuffer = BufferedSocket('socketIO', EOL='\\n', timeout=5)\n",
    "s = sock.connectSock()"
   ]
  },
  {
   "cell_type": "code",
   "execution_count": null,
   "metadata": {},
   "outputs": [],
   "source": []
  },
  {
   "cell_type": "code",
   "execution_count": null,
   "metadata": {},
   "outputs": [],
   "source": [
    "wheel = 'linewheel'\n",
    "position = '1'"
   ]
  },
  {
   "cell_type": "code",
   "execution_count": null,
   "metadata": {},
   "outputs": [],
   "source": [
    "ret = sock.sendOneCommand(f'{wheel} {position}', cmd=cmd)\n",
    "cmd.inform(f'text=\"{ret}\"')\n",
    "\n",
    "while 'Moved to position' not in ret:\n",
    "    ret = sock.getOneResponse(cmd=cmd)\n",
    "    cmd.inform(f'text=\"{ret}\"')\n",
    "\n",
    "__, position = ret.split('Moved to position')\n",
    "position = int(position)"
   ]
  },
  {
   "cell_type": "code",
   "execution_count": null,
   "metadata": {},
   "outputs": [],
   "source": [
    "ret = sock.sendOneCommand(f'adccalib ', cmd=cmd)"
   ]
  },
  {
   "cell_type": "code",
   "execution_count": null,
   "metadata": {},
   "outputs": [],
   "source": [
    "ret = sock.sendOneCommand(f'continue ', cmd=cmd)"
   ]
  },
  {
   "cell_type": "code",
   "execution_count": null,
   "metadata": {},
   "outputs": [],
   "source": [
    "ret[-1]"
   ]
  },
  {
   "cell_type": "code",
   "execution_count": null,
   "metadata": {},
   "outputs": [],
   "source": [
    "cmdStr = 'adccalib '\n",
    "EOL = '\\r\\n'"
   ]
  },
  {
   "cell_type": "code",
   "execution_count": null,
   "metadata": {},
   "outputs": [],
   "source": [
    "fullCmd = ('%s%s' % (cmdStr, EOL)).encode('latin-1')\n",
    "s = sock.connectSock()"
   ]
  },
  {
   "cell_type": "code",
   "execution_count": null,
   "metadata": {},
   "outputs": [],
   "source": [
    "s.sendall(fullCmd)"
   ]
  },
  {
   "cell_type": "code",
   "execution_count": null,
   "metadata": {},
   "outputs": [],
   "source": [
    "s.recv(1024)"
   ]
  },
  {
   "cell_type": "code",
   "execution_count": null,
   "metadata": {},
   "outputs": [],
   "source": [
    "sock.closeSock()"
   ]
  },
  {
   "cell_type": "code",
   "execution_count": null,
   "metadata": {},
   "outputs": [],
   "source": [
    "s.sendall('toto'.encode('latin-1'))"
   ]
  },
  {
   "cell_type": "code",
   "execution_count": null,
   "metadata": {},
   "outputs": [],
   "source": [
    "print('port0 = |UL|  port1 = |LL| \\nCalibrating FW 1 \\nattached 2 filter wheel(s): \\nindex 0: ID 0 Name EFW \\nindex 1: ID 1 Name EFW \\nselecting 1\\nCalibrating \\nDone\\n')"
   ]
  },
  {
   "cell_type": "code",
   "execution_count": null,
   "metadata": {},
   "outputs": [],
   "source": [
    "s.close()"
   ]
  },
  {
   "cell_type": "code",
   "execution_count": null,
   "metadata": {},
   "outputs": [],
   "source": [
    "print(s)"
   ]
  },
  {
   "cell_type": "code",
   "execution_count": null,
   "metadata": {},
   "outputs": [],
   "source": [
    "ret.split('\\r')"
   ]
  },
  {
   "cell_type": "code",
   "execution_count": null,
   "metadata": {},
   "outputs": [],
   "source": []
  }
 ],
 "metadata": {
  "kernelspec": {
   "display_name": "Python 3",
   "language": "python",
   "name": "python3"
  },
  "language_info": {
   "codemirror_mode": {
    "name": "ipython",
    "version": 3
   },
   "file_extension": ".py",
   "mimetype": "text/x-python",
   "name": "python",
   "nbconvert_exporter": "python",
   "pygments_lexer": "ipython3",
   "version": "3.6.8"
  }
 },
 "nbformat": 4,
 "nbformat_minor": 2
}
