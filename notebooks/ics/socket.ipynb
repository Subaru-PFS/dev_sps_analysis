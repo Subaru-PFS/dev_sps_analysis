{
 "cells": [
  {
   "cell_type": "code",
   "execution_count": 141,
   "metadata": {},
   "outputs": [],
   "source": [
    "import logging\n",
    "import select\n",
    "import socket\n",
    "\n",
    "\n",
    "class EthComm(object):\n",
    "    def __init__(self, host, port, EOL='\\r\\n'):\n",
    "        object.__init__(self)\n",
    "        self.sock = None\n",
    "        self.host = host\n",
    "        self.port = port\n",
    "        self.EOL = EOL\n",
    "\n",
    "    def connectSock(self, timeout=10.):\n",
    "        \"\"\"| Connect socket if self.sock is None.\n",
    "\n",
    "        :return: - socket\n",
    "        \"\"\"\n",
    "        if self.sock is None:\n",
    "            s = self.createSock()\n",
    "            s.settimeout(timeout)\n",
    "            s.connect((self.host, self.port))\n",
    "\n",
    "            self.sock = s\n",
    "\n",
    "        return self.sock\n",
    "\n",
    "    def createSock(self):\n",
    "        return socket.socket(socket.AF_INET, socket.SOCK_STREAM)\n",
    "\n",
    "    def closeSock(self):\n",
    "        \"\"\"| Close the socket.\n",
    "\n",
    "        :raise: Exception if closing socket has failed\n",
    "        \"\"\"\n",
    "        try:\n",
    "            self.sock.close()\n",
    "        except:\n",
    "            pass\n",
    "\n",
    "        self.sock = None\n",
    "\n",
    "    def sendOneCommand(self, cmdStr, doClose=False, cmd=None):\n",
    "        \"\"\"| Send one command and return one response.\n",
    "\n",
    "        :param cmdStr: (str) The command to send.\n",
    "        :param doClose: If True (the default), the device socket is closed before returning.\n",
    "        :param cmd: on going command\n",
    "        :return: reply : the single response string, with EOLs stripped.\n",
    "        :raise: IOError : from any communication errors.\n",
    "        \"\"\"\n",
    "\n",
    "        if cmd is None:\n",
    "            cmd = self.actor.bcast\n",
    "\n",
    "        fullCmd = ('%s%s' % (cmdStr, self.EOL)).encode('utf-8')\n",
    "        print('sending %r', fullCmd)\n",
    "\n",
    "        s = self.connectSock()\n",
    "\n",
    "        try:\n",
    "            s.sendall(fullCmd)\n",
    "\n",
    "        except:\n",
    "            self.closeSock()\n",
    "            raise\n",
    "\n",
    "        reply = self.getOneResponse(sock=s, cmd=cmd)\n",
    "\n",
    "        if doClose:\n",
    "            self.closeSock()\n",
    "\n",
    "        return reply\n",
    "\n",
    "    def getOneResponse(self, sock=None, cmd=None):\n",
    "        \"\"\"| Attempt to receive data from the socket.\n",
    "\n",
    "        :param sock: socket\n",
    "        :param cmd: command\n",
    "        :return: reply : the single response string, with EOLs stripped.\n",
    "        :raise: IOError : from any communication errors.\n",
    "        \"\"\"\n",
    "        if sock is None:\n",
    "            sock = self.connectSock()\n",
    "\n",
    "        ret = self.ioBuffer.getOneResponse(sock=sock, cmd=cmd)\n",
    "        reply = ret.strip()\n",
    "\n",
    "        print('received %r', reply)\n",
    "\n",
    "        return reply\n",
    "\n",
    "\n",
    "class BufferedSocket(object):\n",
    "    \"\"\" Buffer the input from a socket and block it into lines. \"\"\"\n",
    "\n",
    "    def __init__(self, name, sock=None, loggerName=None, EOL='\\n', timeout=10.,\n",
    "                 logLevel=logging.INFO):\n",
    "        self.EOL = EOL\n",
    "        self.sock = sock\n",
    "        self.name = name\n",
    "        self.timeout = timeout\n",
    "\n",
    "        self.buffer = ''\n",
    "\n",
    "    def getOutput(self, sock=None, timeout=None, cmd=None):\n",
    "        \"\"\" Block/timeout for input, then return all (<=1kB) available input. \"\"\"\n",
    "\n",
    "        if sock is None:\n",
    "            sock = self.sock\n",
    "        if timeout is None:\n",
    "            timeout = self.timeout\n",
    "\n",
    "        readers, writers, broken = select.select([sock.fileno()], [], [], timeout)\n",
    "        if len(readers) == 0:\n",
    "            cmd.warn('text=\"Timed out reading character from %s\"' % self.name)\n",
    "            raise IOError\n",
    "\n",
    "        return sock.recv(1024).decode('utf8', 'ignore')\n",
    "\n",
    "    def getOneResponse(self, sock=None, timeout=None, cmd=None, doRaise=False):\n",
    "        \"\"\" Return the next available complete line. Fetch new input if necessary.\n",
    "\n",
    "        Args\n",
    "        ----\n",
    "        sock : socket\n",
    "           Uses self.sock if not set.\n",
    "        timeout : float\n",
    "           Uses self.timeout if not set.\n",
    "\n",
    "        Returns\n",
    "        -------\n",
    "        str or None : a single line of response text, with EOL character(s) stripped.\n",
    "        \"\"\"\n",
    "        while self.buffer.find(self.EOL) == -1:\n",
    "            try:\n",
    "                more = self.getOutput(sock=sock, timeout=timeout, cmd=cmd)\n",
    "                if not more:\n",
    "                    if doRaise:\n",
    "                        raise IOError\n",
    "                    else:\n",
    "                        return self.getOneResponse(sock=sock, timeout=timeout, cmd=cmd, doRaise=True)\n",
    "\n",
    "            except IOError:\n",
    "                return ''\n",
    "\n",
    "            print('%s added: %r' % (self.name, more))\n",
    "            self.buffer += more\n",
    "\n",
    "        eolAt = self.buffer.find(self.EOL)\n",
    "        ret = self.buffer[:eolAt]\n",
    "\n",
    "        self.buffer = self.buffer[eolAt + len(self.EOL):]\n",
    "\n",
    "        return ret\n",
    "\n",
    "class Cmd(object):\n",
    "    def __init__(self):\n",
    "        self.warn = print\n",
    "        self.inform = print\n",
    "        self.fail = print\n",
    "        self.finish = print\n",
    "    "
   ]
  },
  {
   "cell_type": "code",
   "execution_count": 210,
   "metadata": {},
   "outputs": [],
   "source": [
    "host = 'filterwheel-dcb'\n",
    "port = 9000\n",
    "EOL = '\\r\\n'"
   ]
  },
  {
   "cell_type": "code",
   "execution_count": null,
   "metadata": {},
   "outputs": [],
   "source": []
  },
  {
   "cell_type": "code",
   "execution_count": 292,
   "metadata": {},
   "outputs": [],
   "source": [
    "cmd = Cmd()"
   ]
  },
  {
   "cell_type": "code",
   "execution_count": 293,
   "metadata": {},
   "outputs": [],
   "source": [
    "sock = EthComm(host=host, port=port, EOL='\\r\\n')\n",
    "sock.ioBuffer = BufferedSocket('socketIO', EOL='\\n', timeout=5)\n",
    "s = sock.connectSock()"
   ]
  },
  {
   "cell_type": "code",
   "execution_count": null,
   "metadata": {},
   "outputs": [],
   "source": []
  },
  {
   "cell_type": "code",
   "execution_count": 166,
   "metadata": {},
   "outputs": [],
   "source": [
    "wheel = 'linewheel'\n",
    "position = '1'"
   ]
  },
  {
   "cell_type": "code",
   "execution_count": 167,
   "metadata": {},
   "outputs": [
    {
     "name": "stdout",
     "output_type": "stream",
     "text": [
      "sending %r b'linewheel 1\\r\\n'\n",
      "socketIO added: 'port0 = UL  port1 = LL\\n'\n",
      "received %r port0 = UL  port1 = LL\n",
      "text=\"port0 = UL  port1 = LL\"\n",
      "socketIO added: 'lineid = 0\\n'\n",
      "received %r lineid = 0\n",
      "text=\"lineid = 0\"\n",
      "socketIO added: 'Setting FW 0 to position 1\\nattached 2 filter wheel(s):\\nindex 0: ID 0 Name EFW \\nindex 1: ID 1 Name EFW \\nselecting 0 \\n5 slots: 1 2 3 4 5 \\ncurrent position: 2\\nMoving...\\nMoved to position 1\\n'\n",
      "received %r Setting FW 0 to position 1\n",
      "text=\"Setting FW 0 to position 1\"\n",
      "received %r attached 2 filter wheel(s):\n",
      "text=\"attached 2 filter wheel(s):\"\n",
      "received %r index 0: ID 0 Name EFW\n",
      "text=\"index 0: ID 0 Name EFW\"\n",
      "received %r index 1: ID 1 Name EFW\n",
      "text=\"index 1: ID 1 Name EFW\"\n",
      "received %r selecting 0\n",
      "text=\"selecting 0\"\n",
      "received %r 5 slots: 1 2 3 4 5\n",
      "text=\"5 slots: 1 2 3 4 5\"\n",
      "received %r current position: 2\n",
      "text=\"current position: 2\"\n",
      "received %r Moving...\n",
      "text=\"Moving...\"\n",
      "received %r Moved to position 1\n",
      "text=\"Moved to position 1\"\n"
     ]
    }
   ],
   "source": [
    "ret = sock.sendOneCommand(f'{wheel} {position}', cmd=cmd)\n",
    "cmd.inform(f'text=\"{ret}\"')\n",
    "\n",
    "while 'Moved to position' not in ret:\n",
    "    ret = sock.getOneResponse(cmd=cmd)\n",
    "    cmd.inform(f'text=\"{ret}\"')\n",
    "\n",
    "__, position = ret.split('Moved to position')\n",
    "position = int(position)"
   ]
  },
  {
   "cell_type": "code",
   "execution_count": 299,
   "metadata": {},
   "outputs": [
    {
     "name": "stdout",
     "output_type": "stream",
     "text": [
      "sending %r b'adccalib \\r\\n'\n",
      "socketIO added: 'Turn off all lamps so that the integrating sphere is dark.\\n'\n",
      "received %r Turn off all lamps so that the integrating sphere is dark.\n"
     ]
    }
   ],
   "source": [
    "ret = sock.sendOneCommand(f'adccalib ', cmd=cmd)"
   ]
  },
  {
   "cell_type": "code",
   "execution_count": 302,
   "metadata": {},
   "outputs": [
    {
     "name": "stdout",
     "output_type": "stream",
     "text": [
      "sending %r b'continue \\r\\n'\n",
      "socketIO added: 'iteration 1 z1=0.0491  z2=0.0486 \\n'\n",
      "received %r iteration 1 z1=0.0491  z2=0.0486\n"
     ]
    }
   ],
   "source": [
    "ret = sock.sendOneCommand(f'continue ', cmd=cmd)"
   ]
  },
  {
   "cell_type": "code",
   "execution_count": 301,
   "metadata": {},
   "outputs": [
    {
     "data": {
      "text/plain": [
       "'.'"
      ]
     },
     "execution_count": 301,
     "metadata": {},
     "output_type": "execute_result"
    }
   ],
   "source": [
    "ret[-1]"
   ]
  },
  {
   "cell_type": "code",
   "execution_count": 274,
   "metadata": {},
   "outputs": [],
   "source": [
    "cmdStr = 'adccalib '\n",
    "EOL = '\\r\\n'"
   ]
  },
  {
   "cell_type": "code",
   "execution_count": 275,
   "metadata": {},
   "outputs": [],
   "source": [
    "fullCmd = ('%s%s' % (cmdStr, EOL)).encode('latin-1')\n",
    "s = sock.connectSock()"
   ]
  },
  {
   "cell_type": "code",
   "execution_count": 278,
   "metadata": {},
   "outputs": [],
   "source": [
    "s.sendall(fullCmd)"
   ]
  },
  {
   "cell_type": "code",
   "execution_count": 303,
   "metadata": {},
   "outputs": [
    {
     "data": {
      "text/plain": [
       "b'iteration 2 z1=0.0491  z2=0.0488 \\niteration 3 z1=0.0491  z2=0.0486 \\niteration 4 z1=0.0491  z2=0.0486 \\niteration 5 z1=0.0491  z2=0.0486 \\n\\nZeros for channel 1, 2 = .0491, .0486\\n'"
      ]
     },
     "execution_count": 303,
     "metadata": {},
     "output_type": "execute_result"
    }
   ],
   "source": [
    "s.recv(1024)"
   ]
  },
  {
   "cell_type": "code",
   "execution_count": 284,
   "metadata": {},
   "outputs": [],
   "source": [
    "sock.closeSock()"
   ]
  },
  {
   "cell_type": "code",
   "execution_count": null,
   "metadata": {},
   "outputs": [],
   "source": [
    "s.sendall('toto'.encode('latin-1'))"
   ]
  },
  {
   "cell_type": "code",
   "execution_count": 172,
   "metadata": {},
   "outputs": [
    {
     "name": "stdout",
     "output_type": "stream",
     "text": [
      "port0 = |UL|  port1 = |LL| \n",
      "Calibrating FW 1 \n",
      "attached 2 filter wheel(s): \n",
      "index 0: ID 0 Name EFW \n",
      "index 1: ID 1 Name EFW \n",
      "selecting 1\n",
      "Calibrating \n",
      "Done\n",
      "\n"
     ]
    }
   ],
   "source": [
    "print('port0 = |UL|  port1 = |LL| \\nCalibrating FW 1 \\nattached 2 filter wheel(s): \\nindex 0: ID 0 Name EFW \\nindex 1: ID 1 Name EFW \\nselecting 1\\nCalibrating \\nDone\\n')"
   ]
  },
  {
   "cell_type": "code",
   "execution_count": 209,
   "metadata": {},
   "outputs": [],
   "source": [
    "s.close()"
   ]
  },
  {
   "cell_type": "code",
   "execution_count": null,
   "metadata": {},
   "outputs": [],
   "source": [
    "print(s)"
   ]
  },
  {
   "cell_type": "code",
   "execution_count": 71,
   "metadata": {},
   "outputs": [
    {
     "data": {
      "text/plain": [
       "['Bonn Shutter  Vers: Dec 15 2014@17:21:49',\n",
       " '\\n----------------------------------------',\n",
       " '\\n\\nsh           show all profile parameters (verbose mode)',\n",
       " '\\nma x pos     move with freq. x to abs. position pos ',\n",
       " '\\nmr x stp     move with freq. x by stp steps ',\n",
       " '\\nmq        \\t  stop both motors (ma, mr only)',\n",
       " '\\nsp           motor position to ser. port',\n",
       " '\\nbs x         set blade start position (40=1mm) ',\n",
       " '\\nbd x         set blade travel distance (40=1mm) ',\n",
       " '\\nac x         set acceleration parameter (1,2,3,4...)',\n",
       " '\\nvm x         set maximum velocity (steps/sec)',\n",
       " '\\nth x         set motor/encoder mismatch threshold to x steps',\n",
       " '\\nls x         set position reset speed',\n",
       " '\\nlt x         set position reset timeout (msec, <32000)',\n",
       " '\\nfd           reset to factory defaults',\n",
       " \"\\nsu x         suppress error (x = 1) or don't (x = 0)\",\n",
       " '\\npp           Get all 7 profile parameters',\n",
       " '\\nsb x         send status byte x (1-2 Comm; 3-4 A; 5-6 B)',\n",
       " '\\nos           open shutter',\n",
       " '\\ncs           close shutter',\n",
       " '\\nrs           Reset all 3 modules (LJMP to C:0000)\\n',\n",
       " 've           Show version information\\n',\n",
       " 'gv           get version motor firmware',\n",
       " '\\nvo           Show voltage values (5.0V, 36.0V)\\n',\n",
       " 'ge           get enable (interlock) \\n',\n",
       " '[s!          show list of special commands]']"
      ]
     },
     "execution_count": 71,
     "metadata": {},
     "output_type": "execute_result"
    }
   ],
   "source": [
    "ret.split('\\r')"
   ]
  },
  {
   "cell_type": "code",
   "execution_count": null,
   "metadata": {},
   "outputs": [],
   "source": []
  }
 ],
 "metadata": {
  "kernelspec": {
   "display_name": "Python 3",
   "language": "python",
   "name": "python3"
  },
  "language_info": {
   "codemirror_mode": {
    "name": "ipython",
    "version": 3
   },
   "file_extension": ".py",
   "mimetype": "text/x-python",
   "name": "python",
   "nbconvert_exporter": "python",
   "pygments_lexer": "ipython3",
   "version": "3.6.8"
  }
 },
 "nbformat": 4,
 "nbformat_minor": 2
}
