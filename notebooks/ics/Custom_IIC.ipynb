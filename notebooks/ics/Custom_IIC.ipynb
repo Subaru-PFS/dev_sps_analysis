{
 "cells": [
  {
   "cell_type": "code",
   "execution_count": 2,
   "metadata": {},
   "outputs": [],
   "source": [
    "import subprocess\n",
    "import numpy as np\n",
    "import matplotlib.pyplot as plt"
   ]
  },
  {
   "cell_type": "code",
   "execution_count": 28,
   "metadata": {},
   "outputs": [],
   "source": [
    "name = ''"
   ]
  },
  {
   "cell_type": "code",
   "execution_count": 29,
   "metadata": {},
   "outputs": [],
   "source": [
    "comments = ''"
   ]
  },
  {
   "cell_type": "code",
   "execution_count": 30,
   "metadata": {},
   "outputs": [],
   "source": [
    "cmdList = []"
   ]
  },
  {
   "cell_type": "code",
   "execution_count": 31,
   "metadata": {},
   "outputs": [],
   "source": [
    "dither = np.arange(-3,3)\n",
    "duplicate = 1"
   ]
  },
  {
   "cell_type": "code",
   "execution_count": 39,
   "metadata": {},
   "outputs": [],
   "source": [
    "cmdList = ['dcb arc on=hgar']\n",
    "for x in dither:\n",
    "    for y in dither:\n",
    "        cmdList.append(f'sps slit dither x={x} y={y} pixels abs')\n",
    "        for i in range(duplicate):\n",
    "            cmdList.append('sps expose arc exptime=60')"
   ]
  },
  {
   "cell_type": "code",
   "execution_count": 40,
   "metadata": {},
   "outputs": [],
   "source": [
    "tail = []"
   ]
  },
  {
   "cell_type": "code",
   "execution_count": 41,
   "metadata": {},
   "outputs": [],
   "source": [
    "head = ','.join(['\"%s\"'%cmd for cmd in cmdList])\n",
    "tail = ','.join(['\"%s\"'%cmd for cmd in tail])"
   ]
  },
  {
   "cell_type": "code",
   "execution_count": 42,
   "metadata": {},
   "outputs": [],
   "source": [
    "args = []\n",
    "args += ([f'name=\"{name}\"'] if name else [])\n",
    "args += ([f'comments=\"{name}\"'] if name else [])\n",
    "args += ([f'head={sequence}'] if sequence else [])\n",
    "args += ([f'tail={name}'] if tail else [])"
   ]
  },
  {
   "cell_type": "code",
   "execution_count": 43,
   "metadata": {},
   "outputs": [
    {
     "data": {
      "text/plain": [
       "'head=\"dcb arc on=hgar\",\"sps slit dither x=-3 y=-3 pixels abs\",\"sps expose arc exptime=60\",\"sps slit dither x=-3 y=-2 pixels abs\",\"sps expose arc exptime=60\",\"sps slit dither x=-3 y=-1 pixels abs\",\"sps expose arc exptime=60\",\"sps slit dither x=-3 y=0 pixels abs\",\"sps expose arc exptime=60\",\"sps slit dither x=-3 y=1 pixels abs\",\"sps expose arc exptime=60\",\"sps slit dither x=-3 y=2 pixels abs\",\"sps expose arc exptime=60\",\"sps slit dither x=-2 y=-3 pixels abs\",\"sps expose arc exptime=60\",\"sps slit dither x=-2 y=-2 pixels abs\",\"sps expose arc exptime=60\",\"sps slit dither x=-2 y=-1 pixels abs\",\"sps expose arc exptime=60\",\"sps slit dither x=-2 y=0 pixels abs\",\"sps expose arc exptime=60\",\"sps slit dither x=-2 y=1 pixels abs\",\"sps expose arc exptime=60\",\"sps slit dither x=-2 y=2 pixels abs\",\"sps expose arc exptime=60\",\"sps slit dither x=-1 y=-3 pixels abs\",\"sps expose arc exptime=60\",\"sps slit dither x=-1 y=-2 pixels abs\",\"sps expose arc exptime=60\",\"sps slit dither x=-1 y=-1 pixels abs\",\"sps expose arc exptime=60\",\"sps slit dither x=-1 y=0 pixels abs\",\"sps expose arc exptime=60\",\"sps slit dither x=-1 y=1 pixels abs\",\"sps expose arc exptime=60\",\"sps slit dither x=-1 y=2 pixels abs\",\"sps expose arc exptime=60\",\"sps slit dither x=0 y=-3 pixels abs\",\"sps expose arc exptime=60\",\"sps slit dither x=0 y=-2 pixels abs\",\"sps expose arc exptime=60\",\"sps slit dither x=0 y=-1 pixels abs\",\"sps expose arc exptime=60\",\"sps slit dither x=0 y=0 pixels abs\",\"sps expose arc exptime=60\",\"sps slit dither x=0 y=1 pixels abs\",\"sps expose arc exptime=60\",\"sps slit dither x=0 y=2 pixels abs\",\"sps expose arc exptime=60\",\"sps slit dither x=1 y=-3 pixels abs\",\"sps expose arc exptime=60\",\"sps slit dither x=1 y=-2 pixels abs\",\"sps expose arc exptime=60\",\"sps slit dither x=1 y=-1 pixels abs\",\"sps expose arc exptime=60\",\"sps slit dither x=1 y=0 pixels abs\",\"sps expose arc exptime=60\",\"sps slit dither x=1 y=1 pixels abs\",\"sps expose arc exptime=60\",\"sps slit dither x=1 y=2 pixels abs\",\"sps expose arc exptime=60\",\"sps slit dither x=2 y=-3 pixels abs\",\"sps expose arc exptime=60\",\"sps slit dither x=2 y=-2 pixels abs\",\"sps expose arc exptime=60\",\"sps slit dither x=2 y=-1 pixels abs\",\"sps expose arc exptime=60\",\"sps slit dither x=2 y=0 pixels abs\",\"sps expose arc exptime=60\",\"sps slit dither x=2 y=1 pixels abs\",\"sps expose arc exptime=60\",\"sps slit dither x=2 y=2 pixels abs\",\"sps expose arc exptime=60\"'"
      ]
     },
     "execution_count": 43,
     "metadata": {},
     "output_type": "execute_result"
    }
   ],
   "source": [
    "' '.join(args)"
   ]
  },
  {
   "cell_type": "code",
   "execution_count": 37,
   "metadata": {},
   "outputs": [],
   "source": [
    "cmdStr = f'iic custom {\" \".join(args)}'"
   ]
  },
  {
   "cell_type": "code",
   "execution_count": 38,
   "metadata": {},
   "outputs": [
    {
     "data": {
      "text/plain": [
       "'iic custom head=\"dcb arc on=hgar\",\"sps slit dither x=-3 y=-3 pixels abs\",\"sps expose arc exptime=60.0\",\"sps slit dither x=-3 y=-2 pixels abs\",\"sps expose arc exptime=60.0\",\"sps slit dither x=-3 y=-1 pixels abs\",\"sps expose arc exptime=60.0\",\"sps slit dither x=-3 y=0 pixels abs\",\"sps expose arc exptime=60.0\",\"sps slit dither x=-3 y=1 pixels abs\",\"sps expose arc exptime=60.0\",\"sps slit dither x=-3 y=2 pixels abs\",\"sps expose arc exptime=60.0\",\"sps slit dither x=-2 y=-3 pixels abs\",\"sps expose arc exptime=60.0\",\"sps slit dither x=-2 y=-2 pixels abs\",\"sps expose arc exptime=60.0\",\"sps slit dither x=-2 y=-1 pixels abs\",\"sps expose arc exptime=60.0\",\"sps slit dither x=-2 y=0 pixels abs\",\"sps expose arc exptime=60.0\",\"sps slit dither x=-2 y=1 pixels abs\",\"sps expose arc exptime=60.0\",\"sps slit dither x=-2 y=2 pixels abs\",\"sps expose arc exptime=60.0\",\"sps slit dither x=-1 y=-3 pixels abs\",\"sps expose arc exptime=60.0\",\"sps slit dither x=-1 y=-2 pixels abs\",\"sps expose arc exptime=60.0\",\"sps slit dither x=-1 y=-1 pixels abs\",\"sps expose arc exptime=60.0\",\"sps slit dither x=-1 y=0 pixels abs\",\"sps expose arc exptime=60.0\",\"sps slit dither x=-1 y=1 pixels abs\",\"sps expose arc exptime=60.0\",\"sps slit dither x=-1 y=2 pixels abs\",\"sps expose arc exptime=60.0\",\"sps slit dither x=0 y=-3 pixels abs\",\"sps expose arc exptime=60.0\",\"sps slit dither x=0 y=-2 pixels abs\",\"sps expose arc exptime=60.0\",\"sps slit dither x=0 y=-1 pixels abs\",\"sps expose arc exptime=60.0\",\"sps slit dither x=0 y=0 pixels abs\",\"sps expose arc exptime=60.0\",\"sps slit dither x=0 y=1 pixels abs\",\"sps expose arc exptime=60.0\",\"sps slit dither x=0 y=2 pixels abs\",\"sps expose arc exptime=60.0\",\"sps slit dither x=1 y=-3 pixels abs\",\"sps expose arc exptime=60.0\",\"sps slit dither x=1 y=-2 pixels abs\",\"sps expose arc exptime=60.0\",\"sps slit dither x=1 y=-1 pixels abs\",\"sps expose arc exptime=60.0\",\"sps slit dither x=1 y=0 pixels abs\",\"sps expose arc exptime=60.0\",\"sps slit dither x=1 y=1 pixels abs\",\"sps expose arc exptime=60.0\",\"sps slit dither x=1 y=2 pixels abs\",\"sps expose arc exptime=60.0\",\"sps slit dither x=2 y=-3 pixels abs\",\"sps expose arc exptime=60.0\",\"sps slit dither x=2 y=-2 pixels abs\",\"sps expose arc exptime=60.0\",\"sps slit dither x=2 y=-1 pixels abs\",\"sps expose arc exptime=60.0\",\"sps slit dither x=2 y=0 pixels abs\",\"sps expose arc exptime=60.0\",\"sps slit dither x=2 y=1 pixels abs\",\"sps expose arc exptime=60.0\",\"sps slit dither x=2 y=2 pixels abs\",\"sps expose arc exptime=60.0\"'"
      ]
     },
     "execution_count": 38,
     "metadata": {},
     "output_type": "execute_result"
    }
   ],
   "source": []
  },
  {
   "cell_type": "code",
   "execution_count": null,
   "metadata": {},
   "outputs": [],
   "source": []
  }
 ],
 "metadata": {
  "kernelspec": {
   "display_name": "Python 3",
   "language": "python",
   "name": "python3"
  },
  "language_info": {
   "codemirror_mode": {
    "name": "ipython",
    "version": 3
   },
   "file_extension": ".py",
   "mimetype": "text/x-python",
   "name": "python",
   "nbconvert_exporter": "python",
   "pygments_lexer": "ipython3",
   "version": "3.6.8"
  }
 },
 "nbformat": 4,
 "nbformat_minor": 2
}
