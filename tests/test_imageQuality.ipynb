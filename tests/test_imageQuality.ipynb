{
 "cells": [
  {
   "cell_type": "code",
   "execution_count": null,
   "metadata": {},
   "outputs": [],
   "source": [
    "%load_ext autoreload\n",
    "%autoreload 2"
   ]
  },
  {
   "cell_type": "code",
   "execution_count": null,
   "metadata": {},
   "outputs": [],
   "source": [
    "import lsst.daf.persistence as dafPersist\n",
    "from pfs.lam.opdb import *\n",
    "from pfs.lam.analysisPlot import *\n",
    "from pfs.lam.detAnalysis import *\n",
    "\n",
    "import pandas as pd\n",
    "import os\n",
    "import re"
   ]
  },
  {
   "cell_type": "code",
   "execution_count": null,
   "metadata": {},
   "outputs": [],
   "source": []
  },
  {
   "cell_type": "code",
   "execution_count": null,
   "metadata": {},
   "outputs": [],
   "source": [
    "experimentId = 125\n",
    "cam = \"b2\"\n",
    "rerun = \"defocus\" #\"dcb2\"\n",
    "\n",
    "peaklist = \"../SM2-defocus/Imqual_LAM_peaklist_DCB2-notfinal.csv\""
   ]
  },
  {
   "cell_type": "code",
   "execution_count": null,
   "metadata": {},
   "outputs": [],
   "source": [
    "peaklist = os.environ['LAM_SPS_ANALYSIS_DIR']+\"/notebooks/devel/fmadec/SM2-defocus/Imqual_LAM_peaklist_DCB2-notfinal.csv\"\n"
   ]
  },
  {
   "cell_type": "code",
   "execution_count": null,
   "metadata": {},
   "outputs": [],
   "source": [
    "visitStart, visitEnd = getVisitRange(experimentId)\n",
    "print(visitStart, visitEnd)"
   ]
  },
  {
   "cell_type": "code",
   "execution_count": null,
   "metadata": {},
   "outputs": [],
   "source": [
    "drpPath = \"/drp\"\n",
    "repo = \"sps\"\n",
    "basePath = '/drp/analysis/sm2/'\n",
    "arm = cam[0]\n"
   ]
  },
  {
   "cell_type": "code",
   "execution_count": null,
   "metadata": {},
   "outputs": [],
   "source": [
    "visit = int(visitStart)"
   ]
  },
  {
   "cell_type": "code",
   "execution_count": null,
   "metadata": {},
   "outputs": [],
   "source": [
    "print(f\"{drpPath}/{repo}/rerun/{rerun}/detrend/\")\n",
    "\n",
    "butler = dafPersist.Butler(f\"{drpPath}/{repo}/rerun/{rerun}/detrend/\")\n",
    "rbutler = dafPersist.Butler(f\"{drpPath}/{repo}/\")\n",
    "rbutler.getKeys('raw')\n",
    "lamps = rbutler.queryMetadata('raw', ['lamps'], visit=visit, arm=arm) \n",
    "print(f\"lamps used: {lamps}\")\n",
    "calExp = butler.get(\"calexp\", visit=visit, arm=cam[0])"
   ]
  },
  {
   "cell_type": "code",
   "execution_count": null,
   "metadata": {},
   "outputs": [],
   "source": [
    "peaks = pd.read_csv(peaklist)\n",
    "selected_peaks = peaks[peaks.arm == arm]\n",
    "selected_peaks = selected_peaks[(selected_peaks.element.str.contains('|'.join(re.findall('[A-Z][^A-Z]*', \"\".join(lamps)))))]"
   ]
  },
  {
   "cell_type": "code",
   "execution_count": null,
   "metadata": {},
   "outputs": [],
   "source": [
    "plotRoiPeak(calExp.image.array, selected_peaks, raw=True, roi_size=30)"
   ]
  },
  {
   "cell_type": "code",
   "execution_count": null,
   "metadata": {},
   "outputs": [],
   "source": [
    "EE = 20\n",
    "doPlot = True"
   ]
  },
  {
   "cell_type": "code",
   "execution_count": null,
   "metadata": {},
   "outputs": [],
   "source": [
    "imdata = getImageQuality(calExp.image.array, selected_peaks,roi_size=24, EE=[EE], com=True, doPlot=doPlot)"
   ]
  },
  {
   "cell_type": "code",
   "execution_count": null,
   "metadata": {},
   "outputs": [],
   "source": [
    "dataId = dict(arm=\"b\", spectrograph=2)\n",
    "dataId.update(visit=int(visitStart))\n",
    "exp = butler.get(\"calexp\", dataId)\n",
    "print(dataId)"
   ]
  },
  {
   "cell_type": "code",
   "execution_count": null,
   "metadata": {},
   "outputs": [],
   "source": [
    "f\"{dataId['arm']}{dataId['spectrograph']}\""
   ]
  },
  {
   "cell_type": "code",
   "execution_count": null,
   "metadata": {},
   "outputs": [],
   "source": [
    "calexfilePath = butler.getUri(\"calexp\", dataId)\n",
    "print(calexfilePath)"
   ]
  },
  {
   "cell_type": "code",
   "execution_count": null,
   "metadata": {},
   "outputs": [],
   "source": [
    "imageInfo = dict(dataId)\n",
    "imageInfo.update(filename=calexfilePath)"
   ]
  },
  {
   "cell_type": "code",
   "execution_count": null,
   "metadata": {},
   "outputs": [],
   "source": [
    "print(dataId)\n",
    "print(imageInfo)"
   ]
  },
  {
   "cell_type": "code",
   "execution_count": null,
   "metadata": {},
   "outputs": [],
   "source": [
    "df = ImageQualityToCsv(butler, dataId, selected_peaks, \"./\", doFit=False,doPlot=True)"
   ]
  },
  {
   "cell_type": "code",
   "execution_count": null,
   "metadata": {},
   "outputs": [],
   "source": [
    "exp.getMetadata().toDict()['W_ENFCAX']"
   ]
  },
  {
   "cell_type": "code",
   "execution_count": null,
   "metadata": {},
   "outputs": [],
   "source": [
    "waves = selected_peaks.wavelength.unique()\n",
    "waves[0]"
   ]
  },
  {
   "cell_type": "code",
   "execution_count": null,
   "metadata": {},
   "outputs": [],
   "source": [
    "p = selected_peaks.groupby([\"fiber\", \"wavelength\"]).get_group((2,waves[0]))\n",
    "cx = p.X\n",
    "cy = p.Y"
   ]
  },
  {
   "cell_type": "code",
   "execution_count": null,
   "metadata": {},
   "outputs": [],
   "source": [
    "plotOnePeak(calExp.image.array, cx,cy)"
   ]
  },
  {
   "cell_type": "code",
   "execution_count": null,
   "metadata": {},
   "outputs": [],
   "source": [
    "(nx,ny) = estimateCOM(calExp.image.array, cx,cy, roi_size=16, seek_size=50)"
   ]
  },
  {
   "cell_type": "code",
   "execution_count": null,
   "metadata": {},
   "outputs": [],
   "source": [
    "plotOnePeak(calExp.image.array, nx,ny)"
   ]
  },
  {
   "cell_type": "code",
   "execution_count": null,
   "metadata": {},
   "outputs": [],
   "source": [
    "def estimateCOM(image, cx, cy, roi_size=30, doBck=True, nRows=5, seek_size=None):\n",
    "    \"\"\"\n",
    "    estimate center of mass \n",
    "    if seek_size is given, recentration will be tried using the seek_size\n",
    "    if doBck = True it used the rRowns outside of the roi_size to evaluate the bck level and substract it to the roi sub_image\n",
    "    Return centroid of the center of mass in px\n",
    "    \"\"\"\n",
    "    if seek_size is not None:\n",
    "        (cx,cy) = estimateCOM(image, cx, cy, roi_size=seek_size, doBck=doBck, nRows=nRows)       \n",
    "    \n",
    "    indx = int(cy)\n",
    "    indy = int(cx)\n",
    "    half = int(roi_size/2)\n",
    "    \n",
    "    outer_data = selectRoi(image, cx, cy, roi_size=roi_size, doBck=doBck, nRows=nRows)            \n",
    "    y, x = center_of_mass(outer_data)  \n",
    "\n",
    "    return indy - half + x + 0.5, indx - half + y + 0.5"
   ]
  },
  {
   "cell_type": "code",
   "execution_count": null,
   "metadata": {},
   "outputs": [],
   "source": []
  }
 ],
 "metadata": {
  "kernelspec": {
   "display_name": "Python 3",
   "language": "python",
   "name": "python3"
  },
  "language_info": {
   "codemirror_mode": {
    "name": "ipython",
    "version": 3
   },
   "file_extension": ".py",
   "mimetype": "text/x-python",
   "name": "python",
   "nbconvert_exporter": "python",
   "pygments_lexer": "ipython3",
   "version": "3.7.2"
  }
 },
 "nbformat": 4,
 "nbformat_minor": 4
}
